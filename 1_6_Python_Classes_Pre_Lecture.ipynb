{
  "nbformat": 4,
  "nbformat_minor": 0,
  "metadata": {
    "kernelspec": {
      "display_name": "Python 3",
      "language": "python",
      "name": "python3"
    },
    "language_info": {
      "codemirror_mode": {
        "name": "ipython",
        "version": 3
      },
      "file_extension": ".py",
      "mimetype": "text/x-python",
      "name": "python",
      "nbconvert_exporter": "python",
      "pygments_lexer": "ipython3",
      "version": "3.7.4"
    },
    "colab": {
      "name": "1.6_Python_Classes_Pre_Lecture.ipynb",
      "provenance": [],
      "collapsed_sections": [],
      "include_colab_link": true
    }
  },
  "cells": [
    {
      "cell_type": "markdown",
      "metadata": {
        "id": "view-in-github",
        "colab_type": "text"
      },
      "source": [
        "<a href=\"https://colab.research.google.com/github/gtoubian/cce/blob/main/1_6_Python_Classes_Pre_Lecture.ipynb\" target=\"_parent\"><img src=\"https://colab.research.google.com/assets/colab-badge.svg\" alt=\"Open In Colab\"/></a>"
      ]
    },
    {
      "cell_type": "markdown",
      "metadata": {
        "id": "sJaPkL2KOzad"
      },
      "source": [
        "# Python Classes\n",
        "\n",
        "You may notice when printing the type that it outputs `<class 'type'>`.\n"
      ]
    },
    {
      "cell_type": "code",
      "metadata": {
        "id": "SZKLBSGKOam2",
        "colab": {
          "base_uri": "https://localhost:8080/"
        },
        "outputId": "332084aa-4bbd-4319-f354-a1ee203c2249"
      },
      "source": [
        "x = [1,2,34]\r\n",
        "print(type(x))"
      ],
      "execution_count": null,
      "outputs": [
        {
          "output_type": "stream",
          "text": [
            "<class 'list'>\n"
          ],
          "name": "stdout"
        }
      ]
    },
    {
      "cell_type": "markdown",
      "metadata": {
        "id": "3-6Whoy2vn2K"
      },
      "source": [
        "A `class` is the actual type. On the other hand, the actual python object `x` is called an **instance**.\n",
        "\n",
        "So we can say \"5 is an instance of an integer\" in the same way a mathematician would say \"5 is an element of the set of integers\"."
      ]
    },
    {
      "cell_type": "code",
      "metadata": {
        "id": "gZR_I0wbOaps",
        "colab": {
          "base_uri": "https://localhost:8080/"
        },
        "outputId": "4fdf332a-d934-4a9f-b78d-11d6fd043817"
      },
      "source": [
        "x= int(5)\r\n",
        "x"
      ],
      "execution_count": null,
      "outputs": [
        {
          "output_type": "execute_result",
          "data": {
            "text/plain": [
              "5"
            ]
          },
          "metadata": {
            "tags": []
          },
          "execution_count": 2
        }
      ]
    },
    {
      "cell_type": "markdown",
      "metadata": {
        "id": "wAwJpb5Qo5Lk"
      },
      "source": [
        "Classes generally have functions that are directly tied to the object. These are called `methods`:"
      ]
    },
    {
      "cell_type": "code",
      "metadata": {
        "id": "3z2jfl7EQ-hF",
        "colab": {
          "base_uri": "https://localhost:8080/"
        },
        "outputId": "739308ef-5135-49f1-8c00-eabdeadd2677"
      },
      "source": [
        "text = \"Am I shouting this text?\"\r\n",
        "print(text.upper(), 'Yes:)')\r\n",
        "print(text.lower(), 'No :(')"
      ],
      "execution_count": null,
      "outputs": [
        {
          "output_type": "stream",
          "text": [
            "AM I SHOUTING THIS TEXT? Yes:)\n",
            "am i shouting this text? No :(\n"
          ],
          "name": "stdout"
        }
      ]
    },
    {
      "cell_type": "markdown",
      "metadata": {
        "id": "1XJo4wKapA-I"
      },
      "source": [
        "Why would we use methods instead of \"free floating functions\"?\n",
        "\n",
        "The main reason is **stylistic**. In english, it's normal for to have `subject verb object` form (eg. \"I ate an apple\").\n",
        "\n",
        "So calling a method: `me.eat(apple)` is closer to this format than free-floating functions `eat(me, apple)` which go `verb subject object`.\n",
        "\n",
        "You can see this in math notation, too. `a + b` is easier to read than `+(a, b)`.\n",
        "\n",
        "Some programming languages (C for example) don't support methods. Some programming languages (like Lisp) force the `verb object subject` form to enable advanced features (like code-as-data metaprogramming).\n",
        "\n",
        "Another advantage is *method chaining*, which you've been doing in pandas:"
      ]
    },
    {
      "cell_type": "code",
      "metadata": {
        "id": "CYRrAZPErQlx"
      },
      "source": [
        "import pandas as pd\n",
        "\n",
        "url = 'https://ckan0.cf.opendata.inter.prod-toronto.ca/download_resource/9f39c3d4-5946-4bf6-89d5-f4008a898f9c?format=csv&projection=4326'\n",
        "\n",
        "df = pd.read_csv(url)"
      ],
      "execution_count": null,
      "outputs": []
    },
    {
      "cell_type": "code",
      "metadata": {
        "id": "h_sOOdKzaBJR",
        "colab": {
          "base_uri": "https://localhost:8080/"
        },
        "outputId": "1c0ac402-9342-4a8e-eff0-806307ac0a70"
      },
      "source": [
        "df.groupby(['WARD', 'BIA'])['_id'].agg('count')"
      ],
      "execution_count": null,
      "outputs": [
        {
          "output_type": "execute_result",
          "data": {
            "text/plain": [
              "WARD  BIA                       \n",
              "1.0   Albion Islington Square         4\n",
              "2.0   Village of Islington            2\n",
              "3.0   Lakeshore Village              72\n",
              "      Long Branch                    21\n",
              "      Mimico By The Lake             37\n",
              "                                   ... \n",
              "19.0  Danforth Mosaic               160\n",
              "      Danforth Village               92\n",
              "      The Beach                     151\n",
              "20.0  Crossroads of the Danforth     30\n",
              "21.0  Wexford Heights                19\n",
              "Name: _id, Length: 103, dtype: int64"
            ]
          },
          "metadata": {
            "tags": []
          },
          "execution_count": 5
        }
      ]
    },
    {
      "cell_type": "code",
      "metadata": {
        "id": "mxFUaMpkalNY",
        "colab": {
          "base_uri": "https://localhost:8080/",
          "height": 374
        },
        "outputId": "e92f1313-352e-4a0c-dc03-ca938646cc26"
      },
      "source": [
        "df.head()"
      ],
      "execution_count": null,
      "outputs": [
        {
          "output_type": "execute_result",
          "data": {
            "text/html": [
              "<div>\n",
              "<style scoped>\n",
              "    .dataframe tbody tr th:only-of-type {\n",
              "        vertical-align: middle;\n",
              "    }\n",
              "\n",
              "    .dataframe tbody tr th {\n",
              "        vertical-align: top;\n",
              "    }\n",
              "\n",
              "    .dataframe thead th {\n",
              "        text-align: right;\n",
              "    }\n",
              "</style>\n",
              "<table border=\"1\" class=\"dataframe\">\n",
              "  <thead>\n",
              "    <tr style=\"text-align: right;\">\n",
              "      <th></th>\n",
              "      <th>_id</th>\n",
              "      <th>OBJECTID</th>\n",
              "      <th>ID</th>\n",
              "      <th>ADDRESSNUMBERTEXT</th>\n",
              "      <th>ADDRESSSTREET</th>\n",
              "      <th>FRONTINGSTREET</th>\n",
              "      <th>SIDE</th>\n",
              "      <th>FROMSTREET</th>\n",
              "      <th>DIRECTION</th>\n",
              "      <th>SITEID</th>\n",
              "      <th>WARD</th>\n",
              "      <th>BIA</th>\n",
              "      <th>ASSETTYPE</th>\n",
              "      <th>STATUS</th>\n",
              "      <th>SDE_STATE_ID</th>\n",
              "      <th>X</th>\n",
              "      <th>Y</th>\n",
              "      <th>LONGITUDE</th>\n",
              "      <th>LATITUDE</th>\n",
              "      <th>geometry</th>\n",
              "    </tr>\n",
              "  </thead>\n",
              "  <tbody>\n",
              "    <tr>\n",
              "      <th>0</th>\n",
              "      <td>1325907</td>\n",
              "      <td>8</td>\n",
              "      <td>BP-12883</td>\n",
              "      <td>21</td>\n",
              "      <td>Canniff St</td>\n",
              "      <td>NaN</td>\n",
              "      <td>NaN</td>\n",
              "      <td>Strachan Ave</td>\n",
              "      <td>NaN</td>\n",
              "      <td>NaN</td>\n",
              "      <td>10.0</td>\n",
              "      <td>NaN</td>\n",
              "      <td>Ring</td>\n",
              "      <td>Existing</td>\n",
              "      <td>0</td>\n",
              "      <td>NaN</td>\n",
              "      <td>NaN</td>\n",
              "      <td>NaN</td>\n",
              "      <td>NaN</td>\n",
              "      <td>{u'type': u'Point', u'coordinates': (-79.41149...</td>\n",
              "    </tr>\n",
              "    <tr>\n",
              "      <th>1</th>\n",
              "      <td>1325908</td>\n",
              "      <td>70</td>\n",
              "      <td>BP-11699</td>\n",
              "      <td>70</td>\n",
              "      <td>The Pond Rd</td>\n",
              "      <td>NaN</td>\n",
              "      <td>NaN</td>\n",
              "      <td>Seneca Lane</td>\n",
              "      <td>NaN</td>\n",
              "      <td>NaN</td>\n",
              "      <td>7.0</td>\n",
              "      <td>NaN</td>\n",
              "      <td>Rack</td>\n",
              "      <td>Existing</td>\n",
              "      <td>0</td>\n",
              "      <td>NaN</td>\n",
              "      <td>NaN</td>\n",
              "      <td>NaN</td>\n",
              "      <td>NaN</td>\n",
              "      <td>{u'type': u'Point', u'coordinates': (-79.49983...</td>\n",
              "    </tr>\n",
              "    <tr>\n",
              "      <th>2</th>\n",
              "      <td>1325909</td>\n",
              "      <td>75</td>\n",
              "      <td>BP-11900</td>\n",
              "      <td>8</td>\n",
              "      <td>Assiniboine Rd</td>\n",
              "      <td>NaN</td>\n",
              "      <td>NaN</td>\n",
              "      <td>Nelson Rd</td>\n",
              "      <td>NaN</td>\n",
              "      <td>NaN</td>\n",
              "      <td>7.0</td>\n",
              "      <td>NaN</td>\n",
              "      <td>Rack</td>\n",
              "      <td>Existing</td>\n",
              "      <td>0</td>\n",
              "      <td>NaN</td>\n",
              "      <td>NaN</td>\n",
              "      <td>NaN</td>\n",
              "      <td>NaN</td>\n",
              "      <td>{u'type': u'Point', u'coordinates': (-79.50421...</td>\n",
              "    </tr>\n",
              "    <tr>\n",
              "      <th>3</th>\n",
              "      <td>1325910</td>\n",
              "      <td>134</td>\n",
              "      <td>BP-03501</td>\n",
              "      <td>8</td>\n",
              "      <td>Kensington Ave</td>\n",
              "      <td>NaN</td>\n",
              "      <td>NaN</td>\n",
              "      <td>Kensington Ave</td>\n",
              "      <td>NaN</td>\n",
              "      <td>NaN</td>\n",
              "      <td>11.0</td>\n",
              "      <td>Kensington Market</td>\n",
              "      <td>Ring</td>\n",
              "      <td>Existing</td>\n",
              "      <td>0</td>\n",
              "      <td>NaN</td>\n",
              "      <td>NaN</td>\n",
              "      <td>NaN</td>\n",
              "      <td>NaN</td>\n",
              "      <td>{u'type': u'Point', u'coordinates': (-79.40012...</td>\n",
              "    </tr>\n",
              "    <tr>\n",
              "      <th>4</th>\n",
              "      <td>1325911</td>\n",
              "      <td>171</td>\n",
              "      <td>BP-14805</td>\n",
              "      <td>359</td>\n",
              "      <td>King St E</td>\n",
              "      <td>NaN</td>\n",
              "      <td>NaN</td>\n",
              "      <td>Derby St</td>\n",
              "      <td>NaN</td>\n",
              "      <td>NaN</td>\n",
              "      <td>13.0</td>\n",
              "      <td>St. Lawrence Market Neighbourhood</td>\n",
              "      <td>Ring</td>\n",
              "      <td>Temporarily Removed</td>\n",
              "      <td>0</td>\n",
              "      <td>NaN</td>\n",
              "      <td>NaN</td>\n",
              "      <td>NaN</td>\n",
              "      <td>NaN</td>\n",
              "      <td>{u'type': u'Point', u'coordinates': (-79.36478...</td>\n",
              "    </tr>\n",
              "  </tbody>\n",
              "</table>\n",
              "</div>"
            ],
            "text/plain": [
              "       _id  ...                                           geometry\n",
              "0  1325907  ...  {u'type': u'Point', u'coordinates': (-79.41149...\n",
              "1  1325908  ...  {u'type': u'Point', u'coordinates': (-79.49983...\n",
              "2  1325909  ...  {u'type': u'Point', u'coordinates': (-79.50421...\n",
              "3  1325910  ...  {u'type': u'Point', u'coordinates': (-79.40012...\n",
              "4  1325911  ...  {u'type': u'Point', u'coordinates': (-79.36478...\n",
              "\n",
              "[5 rows x 20 columns]"
            ]
          },
          "metadata": {
            "tags": []
          },
          "execution_count": 6
        }
      ]
    },
    {
      "cell_type": "markdown",
      "metadata": {
        "id": "pHyoaduE0WVJ"
      },
      "source": [
        "# Let's define our first class!\n",
        "\n",
        "The classic example for classes is to make a `BankAccount` class which accepts `withdraw` and `deposit`"
      ]
    },
    {
      "cell_type": "code",
      "metadata": {
        "id": "KYiESs4F0Uw1"
      },
      "source": [
        "class BankAccount():\r\n",
        "  def __init__(self, initial_deposit=0):\r\n",
        "    self.balance = initial_deposit\r\n",
        "  def deposit(self, x):\r\n",
        "    self.balance += x\r\n",
        "  def withdraw(self, x):\r\n",
        "    self.balance -= x"
      ],
      "execution_count": null,
      "outputs": []
    },
    {
      "cell_type": "markdown",
      "metadata": {
        "id": "83NENsBJ09tS"
      },
      "source": [
        "Let's go through this:\n",
        "\n",
        "The `class` keyword declares that you're building a class\n",
        "\n",
        "The `deposit` and `withdraw` methods do what we'd expect, they add or remove money from the account.\n",
        "\n",
        "The keyword `self` refers to the object itself. There are a couple of rules around this keyword:\n",
        "\n",
        "- Methods on an instance of the class need to have `self` as the first argument. It's ignored once you call it, but necessary to differentiate methods from functions.\n",
        "\n",
        "- The data that the class holds should be intialized with `self.data = ...` in the `__init__` function.\n",
        "\n",
        "The `__init__` is a special function called the *constructor* to initialize an instance of the class. So when we call:"
      ]
    },
    {
      "cell_type": "code",
      "metadata": {
        "id": "kWIV4Ltx0VDk",
        "colab": {
          "base_uri": "https://localhost:8080/"
        },
        "outputId": "74ab104d-78b5-4607-ee31-8c7f3f6428a0"
      },
      "source": [
        "account = BankAccount(5)\r\n",
        "\r\n",
        "account.withdraw(2)\r\n",
        "print('Remaining balance: $', account.balance)"
      ],
      "execution_count": null,
      "outputs": [
        {
          "output_type": "stream",
          "text": [
            "Remaining balance: $ 3\n"
          ],
          "name": "stdout"
        }
      ]
    },
    {
      "cell_type": "markdown",
      "metadata": {
        "id": "kUwTmp7ZRs0d"
      },
      "source": [
        "The instance `account` is initialized with the value in the constructor.\n",
        "\n",
        "There are a few other \"special\" class methods, they're all reserved by `__underscores__`. Here are a few other examples:\n",
        "\n",
        "- The `+` operation is implemented by `def __add__(self, other)`\n",
        "\n",
        "- The `-` operation is implemented by `def __sub__(self, other)`\n",
        "\n",
        "- The `<` operation is implemented by `def __lt__(self, other)`\n",
        "\n",
        "- The `>=` operation is implemented by `def __ge__(self, other)`\n",
        "\n",
        "For instance we can add a few to our `BankAccount` class:"
      ]
    },
    {
      "cell_type": "code",
      "metadata": {
        "id": "T1rqRh17UOia",
        "colab": {
          "base_uri": "https://localhost:8080/"
        },
        "outputId": "2382c977-3c12-4743-e095-26259e0faa5e"
      },
      "source": [
        "class BankAccount():\r\n",
        "  def __init__(self, initial_deposit):\r\n",
        "    self.balance = initial_deposit\r\n",
        "  def __add__(self, x):\r\n",
        "    return self.balance + x\r\n",
        "  def __sub__(self, x):\r\n",
        "    return self.balance - x\r\n",
        "account = BankAccount(5)\r\n",
        "account + 5"
      ],
      "execution_count": 1,
      "outputs": [
        {
          "output_type": "execute_result",
          "data": {
            "text/plain": [
              "10"
            ]
          },
          "metadata": {
            "tags": []
          },
          "execution_count": 1
        }
      ]
    },
    {
      "cell_type": "markdown",
      "metadata": {
        "id": "nCOM7kDNSI8R"
      },
      "source": [
        "**Fun Fact:** Python classes are really just `Dict` objects under the hood. You can access it with the `__dict__` parameter:"
      ]
    },
    {
      "cell_type": "code",
      "metadata": {
        "id": "avid2dXl0VH8",
        "colab": {
          "base_uri": "https://localhost:8080/"
        },
        "outputId": "9ae920a3-0026-484c-9bf7-81498c9657ab"
      },
      "source": [
        "account.__dict__"
      ],
      "execution_count": null,
      "outputs": [
        {
          "output_type": "execute_result",
          "data": {
            "text/plain": [
              "{'balance': 5}"
            ]
          },
          "metadata": {
            "tags": []
          },
          "execution_count": 15
        }
      ]
    },
    {
      "cell_type": "markdown",
      "metadata": {
        "id": "eGIm1dNWVJzU"
      },
      "source": [
        "# Subclasses\n",
        "\n",
        "Classes can \"inherit\" other classes' attributes data and methods.\n",
        "\n",
        "We do this by declaring which class we want to inherit from in the parenthesis after the class name when we're declaring our class:"
      ]
    },
    {
      "cell_type": "code",
      "metadata": {
        "id": "EA2jASuSVKBa",
        "colab": {
          "base_uri": "https://localhost:8080/"
        },
        "outputId": "e2038a44-b679-47bb-f3f0-0604723e4d58"
      },
      "source": [
        "#We steal all the functionality from the float class\r\n",
        "\r\n",
        "class FloatAccount(float):\r\n",
        "  pass #Pass is a special keyword that means \"No Code\"\r\n",
        "\r\n",
        "account = FloatAccount(5)\r\n",
        "account*10"
      ],
      "execution_count": null,
      "outputs": [
        {
          "output_type": "execute_result",
          "data": {
            "text/plain": [
              "50.0"
            ]
          },
          "metadata": {
            "tags": []
          },
          "execution_count": 16
        }
      ]
    },
    {
      "cell_type": "markdown",
      "metadata": {
        "id": "vCF_YyNa4tj8"
      },
      "source": [
        "The point of inheriting is to re-use code that fits together.\n",
        "\n",
        "For instance, if you were writing a video game with animals, you might write a class `Animal` that has the common behavior across animals (say eating and sleeping) then we could write classes for a `Dog` and a `Cat`, which would have behaviors specialized to them."
      ]
    },
    {
      "cell_type": "code",
      "metadata": {
        "id": "fBhUERy-52j3"
      },
      "source": [
        "class Animal():\r\n",
        "  def sleep(self):\r\n",
        "    print('zzzz')\r\n",
        "\r\n",
        "  def eat(self):\r\n",
        "    print('Chomp Chomp Chomp')\r\n",
        "\r\n",
        "class Dog(Animal):\r\n",
        "  def bark(self):\r\n",
        "    print('woof woof')\r\n",
        "\r\n",
        "class Cat(Animal):\r\n",
        "  def meow(self):\r\n",
        "    print('meow meow')\r\n",
        "\r\n",
        "  def Act_Condescending(self):\r\n",
        "    print('I am a cat')\r\n",
        "\r\n",
        "class Kitten(Cat):\r\n",
        "  def cute(self):\r\n",
        "    print('feed me')"
      ],
      "execution_count": null,
      "outputs": []
    },
    {
      "cell_type": "code",
      "metadata": {
        "id": "zrERD1CHg57g",
        "colab": {
          "base_uri": "https://localhost:8080/"
        },
        "outputId": "bd6fa2ee-a05b-40db-b5b9-9f3efaa287f9"
      },
      "source": [
        "rex = Dog()\r\n",
        "rex.sleep()\r\n",
        "\r\n",
        "whiskers = Cat()\r\n",
        "whiskers.meow()\r\n",
        "\r\n",
        "maya = Kitten()\r\n",
        "maya.sleep()"
      ],
      "execution_count": null,
      "outputs": [
        {
          "output_type": "stream",
          "text": [
            "zzzz\n",
            "meow meow\n",
            "zzzz\n"
          ],
          "name": "stdout"
        }
      ]
    },
    {
      "cell_type": "markdown",
      "metadata": {
        "id": "iY7dHQ_m7CA8"
      },
      "source": [
        "\n",
        "This inheritance works as an \"is a\" relationship. \n",
        "\n",
        "For instance we can say that a `Dog` is an `Animal`. Of course we can't say the reverse (animals aren't necessarily dogs)"
      ]
    },
    {
      "cell_type": "code",
      "metadata": {
        "id": "LV9d7qOt67QH",
        "colab": {
          "base_uri": "https://localhost:8080/"
        },
        "outputId": "f1d51520-772c-437f-ed39-4c47d46a7bbb"
      },
      "source": [
        "#isinstance checks if an object is an instance of a class\r\n",
        "#since all Dogs are Animals, this is True\r\n",
        "\r\n",
        "isinstance(rex,Animal)"
      ],
      "execution_count": null,
      "outputs": [
        {
          "output_type": "execute_result",
          "data": {
            "text/plain": [
              "True"
            ]
          },
          "metadata": {
            "tags": []
          },
          "execution_count": 30
        }
      ]
    },
    {
      "cell_type": "markdown",
      "metadata": {
        "id": "xCkzRPjFy392"
      },
      "source": [
        "Some classes are effectively subsets of each other. For instance we could define a superset hierarchy of mathematical numbers :\n",
        "\n",
        "$$ \\mathbb{R} \\supset \\mathbb{Q} \\supset \\mathbb{Z} \\supset \\mathbb{N}$$\n",
        "\n",
        "Which means natural numbers are a subset of all integers, which are themselves a subset of all possible fractions.\n",
        "\n",
        "($\\mathbb{Q}$ is for *Quotients*, the set of all possible fractions of two integers. $\\mathbb{Z}$ is the set of all integers. Let's all pretend $\\mathbb{I}$ was busy that day)\n",
        "\n",
        "This means we can always make a real number from a fraction, and we can always make a fraction from an integer, etc. But the *reverse isn't true*.\n",
        "\n",
        "Even though this hierarchy is mathematically true, python didn't implement it this way:"
      ]
    },
    {
      "cell_type": "code",
      "metadata": {
        "id": "NJ8okF4ky3Bh",
        "colab": {
          "base_uri": "https://localhost:8080/"
        },
        "outputId": "5244dba4-f916-45d5-b607-0186f00af11f"
      },
      "source": [
        "isinstance(5, float)"
      ],
      "execution_count": null,
      "outputs": [
        {
          "output_type": "execute_result",
          "data": {
            "text/plain": [
              "False"
            ]
          },
          "metadata": {
            "tags": []
          },
          "execution_count": 29
        }
      ]
    },
    {
      "cell_type": "markdown",
      "metadata": {
        "id": "w9EwS13Q89a8"
      },
      "source": [
        "This is because when python was initially made, all fundamental numeric types in python were made *specialized* instead of in a hierarchy."
      ]
    },
    {
      "cell_type": "code",
      "metadata": {
        "id": "9oCp9qs9Akpu"
      },
      "source": [
        ""
      ],
      "execution_count": null,
      "outputs": []
    }
  ]
}