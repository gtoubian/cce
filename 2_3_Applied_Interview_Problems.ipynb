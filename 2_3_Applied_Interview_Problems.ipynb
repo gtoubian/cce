{
  "nbformat": 4,
  "nbformat_minor": 0,
  "metadata": {
    "colab": {
      "name": "2.3 Applied Interview Problems.ipynb",
      "provenance": [],
      "collapsed_sections": [],
      "include_colab_link": true
    },
    "kernelspec": {
      "name": "python3",
      "display_name": "Python 3"
    }
  },
  "cells": [
    {
      "cell_type": "markdown",
      "metadata": {
        "id": "view-in-github",
        "colab_type": "text"
      },
      "source": [
        "<a href=\"https://colab.research.google.com/github/gtoubian/cce/blob/main/2_3_Applied_Interview_Problems.ipynb\" target=\"_parent\"><img src=\"https://colab.research.google.com/assets/colab-badge.svg\" alt=\"Open In Colab\"/></a>"
      ]
    },
    {
      "cell_type": "markdown",
      "metadata": {
        "id": "Cm1aipQ-_vgY"
      },
      "source": [
        "In today's lecture we will be looking at a few interview problems. I will ask 3 SQL questions, 1 probability questions and 2 Python Questions.\r\n",
        "\r\n",
        "#SQL\r\n",
        "\r\n",
        "Write a SQL query to rank scores. If there is a tie between two scores, both should have the same ranking. Note that after a tie, the next ranking number should be the next consecutive integer value. In other words, there should be no \"holes\" between ranks.\r\n",
        "\r\n",
        "\r\n",
        "\r\n",
        "```\r\n",
        "+----+-------+\r\n",
        "| Id | Score |\r\n",
        "+----+-------+\r\n",
        "| 1  | 3.50  |\r\n",
        "| 2  | 3.65  |\r\n",
        "| 3  | 4.00  |\r\n",
        "| 4  | 3.85  |\r\n",
        "| 5  | 4.00  |\r\n",
        "| 6  | 3.65  |\r\n",
        "+----+-------+\r\n",
        "```\r\n",
        "For example, given the above Scores table, your query should generate the following report (order by highest score):\r\n",
        "\r\n",
        "\r\n",
        "\r\n",
        "```\r\n",
        "+-------+---------+\r\n",
        "| score | Rank    |\r\n",
        "+-------+---------+\r\n",
        "| 4.00  | 1       |\r\n",
        "| 4.00  | 1       |\r\n",
        "| 3.85  | 2       |\r\n",
        "| 3.65  | 3       |\r\n",
        "| 3.65  | 3       |\r\n",
        "| 3.50  | 4       |\r\n",
        "+-------+---------+\r\n",
        "```\r\n",
        "\r\n",
        "\r\n"
      ]
    },
    {
      "cell_type": "code",
      "metadata": {
        "id": "j6hrmKXO_oxu"
      },
      "source": [
        "import pandas as pd\r\n",
        "import sqlite3 as sql\r\n",
        "conn = sql.connect('example.db')\r\n",
        "c= conn.cursor()\r\n",
        "\r\n",
        "df = pd.DataFrame(([[1, 3.50], [2, 3.65], [3, 4.00], [4, 3.85], [5, 4.00], [6, 3.65]]),\r\n",
        "                   columns=['Id', 'Score'])\r\n",
        "df.to_sql('Scoring', con=conn)\r\n",
        "\r\n"
      ],
      "execution_count": null,
      "outputs": []
    },
    {
      "cell_type": "code",
      "metadata": {
        "colab": {
          "base_uri": "https://localhost:8080/",
          "height": 225
        },
        "id": "yF6gFiEHHjeg",
        "outputId": "57b47ef7-65a5-4b1d-f729-c6cf26465b01"
      },
      "source": [
        "df.head(6)"
      ],
      "execution_count": null,
      "outputs": [
        {
          "output_type": "execute_result",
          "data": {
            "text/html": [
              "<div>\n",
              "<style scoped>\n",
              "    .dataframe tbody tr th:only-of-type {\n",
              "        vertical-align: middle;\n",
              "    }\n",
              "\n",
              "    .dataframe tbody tr th {\n",
              "        vertical-align: top;\n",
              "    }\n",
              "\n",
              "    .dataframe thead th {\n",
              "        text-align: right;\n",
              "    }\n",
              "</style>\n",
              "<table border=\"1\" class=\"dataframe\">\n",
              "  <thead>\n",
              "    <tr style=\"text-align: right;\">\n",
              "      <th></th>\n",
              "      <th>Id</th>\n",
              "      <th>Score</th>\n",
              "    </tr>\n",
              "  </thead>\n",
              "  <tbody>\n",
              "    <tr>\n",
              "      <th>0</th>\n",
              "      <td>1</td>\n",
              "      <td>3.50</td>\n",
              "    </tr>\n",
              "    <tr>\n",
              "      <th>1</th>\n",
              "      <td>2</td>\n",
              "      <td>3.65</td>\n",
              "    </tr>\n",
              "    <tr>\n",
              "      <th>2</th>\n",
              "      <td>3</td>\n",
              "      <td>4.00</td>\n",
              "    </tr>\n",
              "    <tr>\n",
              "      <th>3</th>\n",
              "      <td>4</td>\n",
              "      <td>3.85</td>\n",
              "    </tr>\n",
              "    <tr>\n",
              "      <th>4</th>\n",
              "      <td>5</td>\n",
              "      <td>4.00</td>\n",
              "    </tr>\n",
              "    <tr>\n",
              "      <th>5</th>\n",
              "      <td>6</td>\n",
              "      <td>3.65</td>\n",
              "    </tr>\n",
              "  </tbody>\n",
              "</table>\n",
              "</div>"
            ],
            "text/plain": [
              "   Id  Score\n",
              "0   1   3.50\n",
              "1   2   3.65\n",
              "2   3   4.00\n",
              "3   4   3.85\n",
              "4   5   4.00\n",
              "5   6   3.65"
            ]
          },
          "metadata": {
            "tags": []
          },
          "execution_count": 10
        }
      ]
    },
    {
      "cell_type": "code",
      "metadata": {
        "colab": {
          "base_uri": "https://localhost:8080/",
          "height": 225
        },
        "id": "vOrCtPl_EIGi",
        "outputId": "eea94eae-1aaa-4e81-bee4-bf9720cb1463"
      },
      "source": [
        "pd.read_sql('SELECT b.score, (SELECT COUNT(DISTINCT a.Score) FROM Scoring a WHERE b.Score <= a.Score) as `Rank`\\\r\n",
        "             FROM Scoring as b ORDER BY `Rank`', con=conn)"
      ],
      "execution_count": null,
      "outputs": [
        {
          "output_type": "execute_result",
          "data": {
            "text/html": [
              "<div>\n",
              "<style scoped>\n",
              "    .dataframe tbody tr th:only-of-type {\n",
              "        vertical-align: middle;\n",
              "    }\n",
              "\n",
              "    .dataframe tbody tr th {\n",
              "        vertical-align: top;\n",
              "    }\n",
              "\n",
              "    .dataframe thead th {\n",
              "        text-align: right;\n",
              "    }\n",
              "</style>\n",
              "<table border=\"1\" class=\"dataframe\">\n",
              "  <thead>\n",
              "    <tr style=\"text-align: right;\">\n",
              "      <th></th>\n",
              "      <th>Score</th>\n",
              "      <th>Rank</th>\n",
              "    </tr>\n",
              "  </thead>\n",
              "  <tbody>\n",
              "    <tr>\n",
              "      <th>0</th>\n",
              "      <td>4.00</td>\n",
              "      <td>1</td>\n",
              "    </tr>\n",
              "    <tr>\n",
              "      <th>1</th>\n",
              "      <td>4.00</td>\n",
              "      <td>1</td>\n",
              "    </tr>\n",
              "    <tr>\n",
              "      <th>2</th>\n",
              "      <td>3.85</td>\n",
              "      <td>2</td>\n",
              "    </tr>\n",
              "    <tr>\n",
              "      <th>3</th>\n",
              "      <td>3.65</td>\n",
              "      <td>3</td>\n",
              "    </tr>\n",
              "    <tr>\n",
              "      <th>4</th>\n",
              "      <td>3.65</td>\n",
              "      <td>3</td>\n",
              "    </tr>\n",
              "    <tr>\n",
              "      <th>5</th>\n",
              "      <td>3.50</td>\n",
              "      <td>4</td>\n",
              "    </tr>\n",
              "  </tbody>\n",
              "</table>\n",
              "</div>"
            ],
            "text/plain": [
              "   Score  Rank\n",
              "0   4.00     1\n",
              "1   4.00     1\n",
              "2   3.85     2\n",
              "3   3.65     3\n",
              "4   3.65     3\n",
              "5   3.50     4"
            ]
          },
          "metadata": {
            "tags": []
          },
          "execution_count": 12
        }
      ]
    },
    {
      "cell_type": "markdown",
      "metadata": {
        "id": "NLh_GPZBH6lx"
      },
      "source": [
        "Given two tables, publisher_info and consumption_info, as:\r\n",
        "\r\n",
        "\r\n",
        "\r\n",
        "```\r\n",
        "+----------------+\r\n",
        "| publisher_info |\r\n",
        "+----------------+\r\n",
        "| -publisher_id  |\r\n",
        "| -video_id      |\r\n",
        "| -video_duration|\r\n",
        "+----------------+\r\n",
        "```\r\n",
        "\r\n",
        "\r\n",
        "```\r\n",
        "+------------------+\r\n",
        "| consumption_info |\r\n",
        "+------------------+\r\n",
        "| -video_id        |\r\n",
        "| -user_id         |\r\n",
        "| -user_timespent  |\r\n",
        "+------------------+\r\n",
        "```\r\n",
        "\r\n",
        "Write Queries to determine:\r\n",
        "\r\n",
        "A) How many minutes worth of video does an average publisher have?\r\n",
        "\r\n",
        "B) How many publishers have at least one user who watched their videos?\r\n"
      ]
    },
    {
      "cell_type": "code",
      "metadata": {
        "id": "3pcJgvpPFVat"
      },
      "source": [
        "'''\r\n",
        "SELECT SUM(video_duration)/count(distinct publisher_id)\r\n",
        "FROM publisher_info\r\n",
        "'''\r\n",
        "\r\n",
        "'''\r\n",
        "SELECT COUNT(DISTINCT publisher_id)\r\n",
        "FROM publisher_info as a\r\n",
        "INNER JOIN consumption_info as b\r\n",
        "ON a.video_id = b.video_id\r\n",
        "'''"
      ],
      "execution_count": null,
      "outputs": []
    },
    {
      "cell_type": "markdown",
      "metadata": {
        "id": "LMgNOOpRMmlh"
      },
      "source": [
        "#Probability\r\n",
        "\r\n",
        "We have a model that can predict with 99% accuracy whether a TV series on Webflix will be a hit or not. Given that in reality, only 1% of shows on Webflix become hits, what is the probability that given the model predicting that a show will be a hit, that the show is actually a hit?\r\n",
        "\r\n",
        "**HINT** Think Bayes Theorem and Law of Total Probability"
      ]
    },
    {
      "cell_type": "code",
      "metadata": {
        "id": "W4LVtZf_N1hQ"
      },
      "source": [
        "'''\r\n",
        "P(Show is a Hit| Positive from Model) = P(Show is a Hit)*P(Positive from Model|Show is a Hit)/P(Positive From Model)\r\n",
        "                                      = [P(Show is a Hit)*P(Positive from Model|Show is a Hit)]/[P(Show is a hit)*P(Positive from Model|Show is a Hit) + P(Show is Flop)*P(Positive from Model|Show is a Flop)]\r\n",
        "                                      = [1% * 99%]/[1% * 99% + 1% * 99%]\r\n",
        "                                      = 50%"
      ],
      "execution_count": null,
      "outputs": []
    },
    {
      "cell_type": "markdown",
      "metadata": {
        "id": "jnwVi8UHPPLP"
      },
      "source": [
        "#Python\r\n",
        "\r\n",
        "There are a total of numCourses courses you have to take, labeled from 0 to numCourses - 1. You are given an array prerequisites where prerequisites[i] = [ai, bi] indicates that you must take course bi first if you want to take course ai.\r\n",
        "\r\n",
        "For example, the pair [0, 1], indicates that to take course 0 you have to first take course 1.\r\n",
        "Return true if you can finish all courses. Otherwise, return false.\r\n",
        "\r\n",
        "Example 1:\r\n",
        "\r\n",
        "\r\n",
        "\r\n",
        "```\r\n",
        "Input: numCourses = 2, prerequisites = [[1,0]]\r\n",
        "Output: true\r\n",
        "Explanation: There are a total of 2 courses to take. \r\n",
        "To take course 1 you should have finished course 0. So it is possible.\r\n",
        "```\r\n",
        "\r\n",
        "Example 2:\r\n",
        "\r\n",
        "\r\n",
        "\r\n",
        "```\r\n",
        "Input: numCourses = 2, prerequisites = [[1,0],[0,1]]\r\n",
        "Output: false\r\n",
        "Explanation: There are a total of 2 courses to take. \r\n",
        "To take course 1 you should have finished course 0, and to take course 0 you should also have finished course 1. So it is impossible.\r\n",
        "```\r\n",
        "\r\n"
      ]
    },
    {
      "cell_type": "code",
      "metadata": {
        "id": "p-Bfv_apQWjW"
      },
      "source": [
        "class Solution(object):\r\n",
        "    def canFinish(self, numCourses, prerequisites):\r\n",
        "        \"\"\"\r\n",
        "        :type numCourses: int\r\n",
        "        :type prerequisites: List[List[int]]\r\n",
        "        :rtype: bool\r\n",
        "        \"\"\"\r\n",
        "        def dfs(i):\r\n",
        "            color[i] = 1\r\n",
        "            if i in graph:\r\n",
        "                for j in graph[i]:\r\n",
        "                    if color[j] == 0:\r\n",
        "                        if not dfs(j):\r\n",
        "                            return False\r\n",
        "                    elif color[j] == 1:\r\n",
        "                        return False\r\n",
        "            color[i] = 2\r\n",
        "            return True\r\n",
        "                            \r\n",
        "        graph = {}\r\n",
        "        for pair in prerequisites:\r\n",
        "            if pair[1] in graph:\r\n",
        "                graph[pair[1]].add(pair[0])\r\n",
        "            else:\r\n",
        "                graph[pair[1]] = set([pair[0]])\t\t\t\r\n",
        "        color = [0]*numCourses\r\n",
        "        for i in range(numCourses):\r\n",
        "            if color[i] == 0:\r\n",
        "                if not dfs(i):\r\n",
        "                    return False\r\n",
        "        return True"
      ],
      "execution_count": null,
      "outputs": []
    },
    {
      "cell_type": "code",
      "metadata": {
        "colab": {
          "base_uri": "https://localhost:8080/"
        },
        "id": "4xOzlrmDT52i",
        "outputId": "ed943016-c22b-4314-e53d-1d5a98426eed"
      },
      "source": [
        "numCourses = 2 \r\n",
        "prerequisites = [[1,0]]\r\n",
        "\r\n",
        "S = Solution()\r\n",
        "S.canFinish(numCourses, prerequisites)"
      ],
      "execution_count": null,
      "outputs": [
        {
          "output_type": "execute_result",
          "data": {
            "text/plain": [
              "True"
            ]
          },
          "metadata": {
            "tags": []
          },
          "execution_count": 23
        }
      ]
    },
    {
      "cell_type": "markdown",
      "metadata": {
        "id": "uf3TC4f7Q6SN"
      },
      "source": [
        "Convert a non-negative integer num to its English words representation.\r\n",
        "\r\n",
        "\r\n",
        "\r\n",
        "```\r\n",
        "Input: num = 123\r\n",
        "Output: \"One Hundred Twenty Three\"\r\n",
        "```\r\n",
        "\r\n",
        "\r\n",
        "\r\n",
        "```\r\n",
        "Input: num = 1234567\r\n",
        "Output: \"One Million Two Hundred Thirty Four Thousand Five Hundred Sixty Seven\"\r\n",
        "```\r\n",
        "\r\n",
        "\r\n",
        "\r\n",
        "```\r\n",
        "Input: num = 1234567891\r\n",
        "Output: \"One Billion Two Hundred Thirty Four Million Five Hundred Sixty Seven Thousand Eight Hundred Ninety One\"\r\n",
        "```\r\n",
        "\r\n",
        "\r\n",
        "\r\n"
      ]
    },
    {
      "cell_type": "code",
      "metadata": {
        "id": "ZIKzu9H9R1Ya"
      },
      "source": [
        "class Solution:\r\n",
        "    def numberToWords(self, num: int) -> str:\r\n",
        "        single_map = {\r\n",
        "            1: \"One\",\r\n",
        "            2: \"Two\",\r\n",
        "            3: \"Three\",\r\n",
        "            4: \"Four\",\r\n",
        "            5: \"Five\",\r\n",
        "            6: \"Six\",\r\n",
        "            7: \"Seven\",\r\n",
        "            8: \"Eight\",\r\n",
        "            9: \"Nine\",\r\n",
        "            10: \"Ten\",\r\n",
        "            11: \"Eleven\",\r\n",
        "            12: \"Twelve\",\r\n",
        "            13: \"Thirteen\",\r\n",
        "            14: \"Fourteen\",\r\n",
        "            15: \"Fifteen\",\r\n",
        "            16: \"Sixteen\",\r\n",
        "            17: \"Seventeen\",\r\n",
        "            18: \"Eighteen\",\r\n",
        "            19: \"Nineteen\"\r\n",
        "        }\r\n",
        "    \r\n",
        "        double_map = {\r\n",
        "            2: \"Twenty\",\r\n",
        "            3: \"Thirty\",\r\n",
        "            4: \"Forty\",\r\n",
        "            5: \"Fifty\",\r\n",
        "            6: \"Sixty\",\r\n",
        "            7: \"Seventy\",\r\n",
        "            8: \"Eighty\",\r\n",
        "            9: \"Ninety\" }\r\n",
        "        \r\n",
        "        cents = [\"thousand\",\"million\",\"billion\"]\r\n",
        "        \r\n",
        "        def get_word(num_str): \r\n",
        "            \"\"\"perform arithmetic in sets of three\r\n",
        "            \"\"\"\r\n",
        "            num = int(num_str)\r\n",
        "            if num == 0:\r\n",
        "                return \"\"\r\n",
        "            if  1 <= num <= 19: # single digit\r\n",
        "                return single_map[num]\r\n",
        "            elif  20 <= num <= 99:\r\n",
        "                num_str = str(num)\r\n",
        "                current_num = int(num_str[0])\r\n",
        "                buffer = double_map[current_num]                \r\n",
        "                return (buffer + \" \"+ get_word(num_str[1:])).strip()       \r\n",
        "            elif  100 <= num <= 999:\r\n",
        "                num_str = str(num)                \r\n",
        "                current_num = int(num_str[0])\r\n",
        "                buffer = single_map[current_num]\r\n",
        "                final_value = buffer + \" Hundred \" + get_word(num_str[1:]) \r\n",
        "                return final_value.strip()\r\n",
        "                \r\n",
        "        # break the number into 3 sets (international repr)\r\n",
        "        if num == 0:\r\n",
        "            return \"Zero\"\r\n",
        "        num_str = str(num)\r\n",
        "        buffer = \"\"\r\n",
        "        count = 0\r\n",
        "        while num_str:\r\n",
        "            temp =  get_word(num_str[-3:])\r\n",
        "            if count < 3:\r\n",
        "                buffer = temp + buffer                \r\n",
        "            elif  count == 3 and temp:\r\n",
        "                buffer = temp + \" Thousand \" + buffer            \r\n",
        "            elif count == 6 and temp:\r\n",
        "                buffer = temp + \" Million \" + buffer\r\n",
        "            elif count == 9 and temp:\r\n",
        "                buffer = temp + \" Billion \" + buffer\r\n",
        "            buffer = buffer.strip()\r\n",
        "            num_str = num_str[:-3]            \r\n",
        "            count += 3\r\n",
        "        \r\n",
        "        return buffer.strip()\r\n",
        "           "
      ],
      "execution_count": null,
      "outputs": []
    },
    {
      "cell_type": "code",
      "metadata": {
        "colab": {
          "base_uri": "https://localhost:8080/",
          "height": 35
        },
        "id": "cmTMYnZgTDeL",
        "outputId": "06a459f4-75e0-4c9f-a868-7bec6458400d"
      },
      "source": [
        "num = 123\r\n",
        "S=Solution()\r\n",
        "S.numberToWords(num)"
      ],
      "execution_count": null,
      "outputs": [
        {
          "output_type": "execute_result",
          "data": {
            "application/vnd.google.colaboratory.intrinsic+json": {
              "type": "string"
            },
            "text/plain": [
              "'One Hundred Twenty Three'"
            ]
          },
          "metadata": {
            "tags": []
          },
          "execution_count": 19
        }
      ]
    },
    {
      "cell_type": "code",
      "metadata": {
        "id": "_5CkW46tTNU_"
      },
      "source": [
        ""
      ],
      "execution_count": null,
      "outputs": []
    }
  ]
}