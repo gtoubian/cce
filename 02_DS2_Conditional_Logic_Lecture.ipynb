{
  "nbformat": 4,
  "nbformat_minor": 0,
  "metadata": {
    "language_info": {
      "name": "python",
      "codemirror_mode": {
        "name": "ipython",
        "version": 3
      },
      "version": "3.7.4-final"
    },
    "orig_nbformat": 2,
    "file_extension": ".py",
    "mimetype": "text/x-python",
    "name": "python",
    "npconvert_exporter": "python",
    "pygments_lexer": "ipython3",
    "version": 3,
    "kernelspec": {
      "name": "python37764biticbscondaf4d657c25dbb416bac6851c38201b968",
      "display_name": "Python 3.7.7 64-bit ('icbs': conda)"
    },
    "colab": {
      "name": "02_DS2_Conditional_Logic_Lecture.ipynb",
      "provenance": [],
      "collapsed_sections": [],
      "include_colab_link": true
    }
  },
  "cells": [
    {
      "cell_type": "markdown",
      "metadata": {
        "id": "view-in-github",
        "colab_type": "text"
      },
      "source": [
        "<a href=\"https://colab.research.google.com/github/gtoubian/cce/blob/main/02_DS2_Conditional_Logic_Lecture.ipynb\" target=\"_parent\"><img src=\"https://colab.research.google.com/assets/colab-badge.svg\" alt=\"Open In Colab\"/></a>"
      ]
    },
    {
      "cell_type": "markdown",
      "metadata": {
        "id": "V9otgAsDmj3x"
      },
      "source": [
        "# Iteration & For-Loops\n",
        "\n",
        "If we have a container, we can use a `for` or 'while' loop to iterate through its values"
      ]
    },
    {
      "cell_type": "code",
      "metadata": {
        "id": "SuBZgdi1mj3y",
        "outputId": "25505d1f-6bd7-4b22-e77c-caae5df2979a",
        "colab": {
          "base_uri": "https://localhost:8080/"
        }
      },
      "source": [
        "x = [1, 2, 3]\r\n",
        "for number in x:\r\n",
        "  print(number**2)"
      ],
      "execution_count": 6,
      "outputs": [
        {
          "output_type": "stream",
          "text": [
            "1\n",
            "4\n",
            "9\n"
          ],
          "name": "stdout"
        }
      ]
    },
    {
      "cell_type": "markdown",
      "metadata": {
        "id": "gW9wwUPNmj32"
      },
      "source": [
        "This works on the `dict`, too:"
      ]
    },
    {
      "cell_type": "code",
      "metadata": {
        "id": "X4qwg7zFmj33",
        "outputId": "4d7057d2-7add-44fa-9bd5-d52cc8de5342",
        "colab": {
          "base_uri": "https://localhost:8080/"
        }
      },
      "source": [
        "d = {1: 2, 3: 4}\r\n",
        "for key in d:\r\n",
        "  print(f\"{key} :{d[key]}\")"
      ],
      "execution_count": 7,
      "outputs": [
        {
          "output_type": "stream",
          "text": [
            "1 :2\n",
            "3 :4\n"
          ],
          "name": "stdout"
        }
      ]
    },
    {
      "cell_type": "markdown",
      "metadata": {
        "id": "PmKbbsBomj38"
      },
      "source": [
        "# A note on indentation in python"
      ]
    },
    {
      "cell_type": "code",
      "metadata": {
        "id": "ephS1vu3mj38",
        "outputId": "d123a538-b0d0-46cc-93a2-bc593c30d126"
      },
      "source": [
        "# Works\n",
        "for k in d: print(f\"{k} : {d[k]}\")\n",
        "\n",
        "# Doesnt work\n",
        "for k in d:\n",
        "print(f\"{k} : {d[k]}\")\n",
        "\n",
        "# Also doesn't work\n",
        "    for k in d:\n",
        "print(f\"{k} : {d[k]}\")"
      ],
      "execution_count": null,
      "outputs": [
        {
          "output_type": "error",
          "ename": "IndentationError",
          "evalue": "expected an indented block (<ipython-input-9-e15a2143033c>, line 6)",
          "traceback": [
            "\u001b[0;36m  File \u001b[0;32m\"<ipython-input-9-e15a2143033c>\"\u001b[0;36m, line \u001b[0;32m6\u001b[0m\n\u001b[0;31m    print(f\"{k} : {d[k]}\")\u001b[0m\n\u001b[0m        ^\u001b[0m\n\u001b[0;31mIndentationError\u001b[0m\u001b[0;31m:\u001b[0m expected an indented block\n"
          ]
        }
      ]
    },
    {
      "cell_type": "markdown",
      "metadata": {
        "id": "AuG2P1WNmj4C"
      },
      "source": [
        "# Ranges\n",
        "\n",
        "We often use a `range` to iterate over successive numbers:\n",
        "\n"
      ]
    },
    {
      "cell_type": "code",
      "metadata": {
        "id": "M-qrX36Cmj4D",
        "outputId": "bd5299a5-3a05-4f17-b964-98db752e1479",
        "colab": {
          "base_uri": "https://localhost:8080/"
        }
      },
      "source": [
        "range(10)"
      ],
      "execution_count": 8,
      "outputs": [
        {
          "output_type": "execute_result",
          "data": {
            "text/plain": [
              "range(0, 10)"
            ]
          },
          "metadata": {
            "tags": []
          },
          "execution_count": 8
        }
      ]
    },
    {
      "cell_type": "code",
      "metadata": {
        "id": "7TuTLVkbmj4F",
        "outputId": "07c65347-04ff-4b38-d748-5d4a71bc5263",
        "colab": {
          "base_uri": "https://localhost:8080/"
        }
      },
      "source": [
        "list(range(0,10))"
      ],
      "execution_count": 9,
      "outputs": [
        {
          "output_type": "execute_result",
          "data": {
            "text/plain": [
              "[0, 1, 2, 3, 4, 5, 6, 7, 8, 9]"
            ]
          },
          "metadata": {
            "tags": []
          },
          "execution_count": 9
        }
      ]
    },
    {
      "cell_type": "markdown",
      "metadata": {
        "id": "NMTVA96bk-2T"
      },
      "source": [
        "The Range function takes in 3 inputs-The lower limit (defaulted to 0), the upper limit and the step size (Usually defaulted to 1). Notice also that the range function above does not list out the upper limit in the cell block above. Like Slicing, the range function does not include the upper limit. \r\n",
        "\r\n",
        "Going back to the third input in range, this function can also be used to count every second number, third number, etc. "
      ]
    },
    {
      "cell_type": "code",
      "metadata": {
        "id": "R2Qgr-LFl57y",
        "outputId": "136525e3-e399-4f4f-b876-9934d8f1892d",
        "colab": {
          "base_uri": "https://localhost:8080/"
        }
      },
      "source": [
        "#range(lower, upper, step size)\r\n",
        "\r\n",
        "list(range(0,10,2))\r\n",
        "list(range(5,1,-1))"
      ],
      "execution_count": 11,
      "outputs": [
        {
          "output_type": "execute_result",
          "data": {
            "text/plain": [
              "[5, 4, 3, 2]"
            ]
          },
          "metadata": {
            "tags": []
          },
          "execution_count": 11
        }
      ]
    },
    {
      "cell_type": "markdown",
      "metadata": {
        "id": "7R6l2qAQmj4I"
      },
      "source": [
        "This can be useful if we're picking out elements based on index, like co-indexed arrays:"
      ]
    },
    {
      "cell_type": "code",
      "metadata": {
        "id": "VtoK7PyKmj4J",
        "outputId": "5fe13cb2-ff4e-4991-b037-ff65ca4d488d"
      },
      "source": [
        "keys = ['name', 'pet', 'city']\n",
        "values = ['Matt', 'dog', 'Montreal']\n",
        "d = {}\n",
        "\n",
        "for i in range(len(keys)):\n",
        "    d[keys[i]] = values[i]\n",
        "\n",
        "d\n",
        "\n",
        "#Range only takes INTEGERS (whole numbers...no decimals!)"
      ],
      "execution_count": null,
      "outputs": [
        {
          "output_type": "execute_result",
          "data": {
            "text/plain": [
              "{'name': 'Matt', 'pet': 'dog', 'city': 'Montreal'}"
            ]
          },
          "metadata": {
            "tags": []
          },
          "execution_count": 6
        }
      ]
    },
    {
      "cell_type": "markdown",
      "metadata": {
        "id": "2hVmIteNmj4M"
      },
      "source": [
        "Here, the len() function outputs the number of elements in a container. \r\n",
        "\r\n",
        "The `zip` method however can be user to join lists:"
      ]
    },
    {
      "cell_type": "code",
      "metadata": {
        "id": "vN7UQy4Omj4M"
      },
      "source": [
        ""
      ],
      "execution_count": null,
      "outputs": []
    },
    {
      "cell_type": "markdown",
      "metadata": {
        "id": "cEDIlwQWmj4P"
      },
      "source": [
        "Like `range`, the method `zip` isn't a container, it's a method for creating other containers"
      ]
    },
    {
      "cell_type": "code",
      "metadata": {
        "id": "TbXKQGvGmj4P",
        "outputId": "cb073ea2-02de-4e94-e9ba-1bae11b4a5dd"
      },
      "source": [
        "list(z)"
      ],
      "execution_count": null,
      "outputs": [
        {
          "output_type": "execute_result",
          "data": {
            "text/plain": [
              "[(1, 1), (2, 4), (3, 9)]"
            ]
          },
          "metadata": {
            "tags": []
          },
          "execution_count": 15
        }
      ]
    },
    {
      "cell_type": "markdown",
      "metadata": {
        "id": "gL_IiZdVmj4R"
      },
      "source": [
        "`zip` can create dictionaries more efficiently:"
      ]
    },
    {
      "cell_type": "code",
      "metadata": {
        "id": "jiOzDKP6mj4S",
        "outputId": "01a106df-e197-4e53-c0ce-46028c29af0b"
      },
      "source": [
        "countries = ['Canada', 'France', 'UK']\n",
        "cities = ['Ottawa', 'Paris', 'London']\n",
        "for country, city in zip(countries, cities):\n",
        "    print(f'The capital of {country} is {city}')"
      ],
      "execution_count": null,
      "outputs": [
        {
          "output_type": "stream",
          "text": [
            "The capital of Canada is Ottawa\n",
            "The capital of France is Paris\n",
            "The capital of UK is London\n"
          ],
          "name": "stdout"
        }
      ]
    },
    {
      "cell_type": "code",
      "metadata": {
        "id": "xoDZvkQ6mj4U",
        "outputId": "e4962606-7abe-49bf-90ed-4a980954f16e"
      },
      "source": [
        ""
      ],
      "execution_count": null,
      "outputs": [
        {
          "output_type": "execute_result",
          "data": {
            "text/plain": [
              "{'Canada': 'Ottawa', 'France': 'Paris', 'UK': 'London'}"
            ]
          },
          "metadata": {
            "tags": []
          },
          "execution_count": 13
        }
      ]
    },
    {
      "cell_type": "code",
      "metadata": {
        "id": "LjDBShK6mj4W"
      },
      "source": [
        "#### Exercise (5-10 min)\n",
        "# Take a dict \n",
        "a = list(range(50))\n",
        "d = dict(zip(a, [x ** 2 for x in a]))\n",
        "# split into two lists"
      ],
      "execution_count": null,
      "outputs": []
    },
    {
      "cell_type": "markdown",
      "metadata": {
        "id": "w6qFc8d2mj4Z"
      },
      "source": [
        "# List Comprehensions (Bonus)\n",
        "\n",
        "\n",
        "[List comprehensions](https://en.wikipedia.org/wiki/List_comprehension) are a tool for creating containers."
      ]
    },
    {
      "cell_type": "code",
      "metadata": {
        "id": "nVVSd89Xmj4Z",
        "outputId": "02cefb74-3ef1-4993-f80a-9f4b8af6f52c"
      },
      "source": [
        "animals = ['dog', 'cat', 'bird']\n",
        "# List comprehension\n",
        "plurals = [animal + '_s' for animal in animals]\n",
        "plurals"
      ],
      "execution_count": null,
      "outputs": [
        {
          "output_type": "execute_result",
          "data": {
            "text/plain": [
              "['dog_s', 'cat_s', 'bird_s']"
            ]
          },
          "metadata": {
            "tags": []
          },
          "execution_count": 2
        }
      ]
    },
    {
      "cell_type": "code",
      "metadata": {
        "id": "NrY4cRGPmj4e",
        "outputId": "0969d4f0-79aa-4b19-c002-d4c2fb843740"
      },
      "source": [
        "range(8)\n",
        "squares = [ x ** 2 for x in range(8)]\n",
        "squares"
      ],
      "execution_count": null,
      "outputs": [
        {
          "output_type": "execute_result",
          "data": {
            "text/plain": [
              "[0, 1, 4, 9, 16, 25, 36, 49]"
            ]
          },
          "metadata": {
            "tags": []
          },
          "execution_count": 4
        }
      ]
    },
    {
      "cell_type": "markdown",
      "metadata": {
        "id": "WDJsKur_nlDk"
      },
      "source": [
        "While this may be bonus, go line by line and try to understand or *trace* the above codes."
      ]
    },
    {
      "cell_type": "markdown",
      "metadata": {
        "id": "7kLkC1immj4g"
      },
      "source": [
        "# Logical Operators\n",
        "\n",
        "Many expressions evaluate to a Boolean (`True` or `False`)"
      ]
    },
    {
      "cell_type": "code",
      "metadata": {
        "id": "RuOa-kCSmj4g",
        "outputId": "73edaea2-d5fa-4e93-aaac-b23c29aab874"
      },
      "source": [
        "x, y = 1, 2\n",
        "x < y"
      ],
      "execution_count": null,
      "outputs": [
        {
          "output_type": "execute_result",
          "data": {
            "text/plain": [
              "True"
            ]
          },
          "metadata": {
            "tags": []
          },
          "execution_count": 1
        }
      ]
    },
    {
      "cell_type": "code",
      "metadata": {
        "id": "Y1gyPYUqmj4j",
        "outputId": "c0942af0-4ddf-4d57-9b32-6a48fb00968b"
      },
      "source": [
        "z = x >= y\n",
        "z"
      ],
      "execution_count": null,
      "outputs": [
        {
          "output_type": "execute_result",
          "data": {
            "text/plain": [
              "False"
            ]
          },
          "metadata": {
            "tags": []
          },
          "execution_count": 3
        }
      ]
    },
    {
      "cell_type": "markdown",
      "metadata": {
        "id": "J8DB-LU3mj4m"
      },
      "source": [
        "These can be **chained**"
      ]
    },
    {
      "cell_type": "code",
      "metadata": {
        "id": "_YzJJhLemj4m",
        "outputId": "44c2ff96-e8a9-4b2e-fcfb-e1dbf0118146"
      },
      "source": [
        "1 < 2 <= 3"
      ],
      "execution_count": null,
      "outputs": [
        {
          "output_type": "execute_result",
          "data": {
            "text/plain": [
              "True"
            ]
          },
          "metadata": {
            "tags": []
          },
          "execution_count": 4
        }
      ]
    },
    {
      "cell_type": "markdown",
      "metadata": {
        "id": "2IKLU7c_mj4o"
      },
      "source": [
        "Testing for equality is done with `==` and inequality with `!=`"
      ]
    },
    {
      "cell_type": "code",
      "metadata": {
        "id": "Sy0NIp7rmj4p",
        "outputId": "33c12885-dccc-4fcf-a5ed-52d37ba5b907"
      },
      "source": [
        "x = 1    # Assignment\n",
        "x == 2   # Comparison\n",
        "x != 5   # Inequality"
      ],
      "execution_count": null,
      "outputs": [
        {
          "output_type": "execute_result",
          "data": {
            "text/plain": [
              "True"
            ]
          },
          "metadata": {
            "tags": []
          },
          "execution_count": 7
        }
      ]
    },
    {
      "cell_type": "markdown",
      "metadata": {
        "id": "DrPMJEQtmj4r"
      },
      "source": [
        "In mathematics, assignment and comparison are the same `=` but this is too vague for computers to understand\n",
        "\n",
        "# Conditional Logic\n",
        "\n",
        "We can create conditions under which our code can run in with `if` statements. After writing 'if', we input a boolean statement that if evaluated to 'True' will run the code underneath.\n",
        "\n",
        "**Note** A colon should be used at the end of our statement so that the codes following are indented."
      ]
    },
    {
      "cell_type": "code",
      "metadata": {
        "id": "bdy1bxLcmj4r",
        "outputId": "be5dd164-b6c6-4679-f83b-d56b89c1e108"
      },
      "source": [
        "if True:\n",
        "    print(\"1\")\n",
        "else:\n",
        "    print(\"2\")"
      ],
      "execution_count": null,
      "outputs": [
        {
          "output_type": "stream",
          "text": [
            "1\n"
          ],
          "name": "stdout"
        }
      ]
    },
    {
      "cell_type": "markdown",
      "metadata": {
        "id": "-zzQdF_9mj4t"
      },
      "source": [
        "With this and the `elif` (else if) and `else` we can build complex logic flows:"
      ]
    },
    {
      "cell_type": "code",
      "metadata": {
        "id": "ljSskesDmj4u",
        "outputId": "928dd29b-3e2f-4de1-cdb2-31720a014205"
      },
      "source": [
        "l = [-1, 2, 3.5, 44453, 522, -444]\n",
        "\n",
        "for x in l:\n",
        "    if x < 0:\n",
        "        print(f\"{x} is negative\")\n",
        "    elif (x % 2) == 0:\n",
        "        print(f\"{x} is even\")\n",
        "    else:\n",
        "        print(f\"{x} is invalid\")\n"
      ],
      "execution_count": null,
      "outputs": [
        {
          "output_type": "stream",
          "text": [
            "-1 is negative\n",
            "2 is even\n",
            "3.5 is invalid\n",
            "44453 is invalid\n",
            "522 is even\n",
            "-444 is negative\n"
          ],
          "name": "stdout"
        }
      ]
    },
    {
      "cell_type": "markdown",
      "metadata": {
        "id": "KEJC2Niamj4v"
      },
      "source": [
        "Notice the bug here: if x is **both negative and even**, we miss it."
      ]
    },
    {
      "cell_type": "code",
      "metadata": {
        "id": "HmvRsqVcmj4w"
      },
      "source": [
        "#### Exercise (5-10min) Fix the bug \n",
        "l = [-1, 2, 3.5, 44453, 522, -444]\n"
      ],
      "execution_count": null,
      "outputs": []
    },
    {
      "cell_type": "markdown",
      "metadata": {
        "id": "Bo9b0_VLmj4z"
      },
      "source": [
        "We can combine expressions using `and`, `or`, `not`\n",
        "\n",
        "There is also the `in` to check if something is in a container"
      ]
    },
    {
      "cell_type": "code",
      "metadata": {
        "id": "CKqe_cbqmj4z",
        "outputId": "9988400e-eb9a-4bdb-e8f7-3ceef5b8e490"
      },
      "source": [
        "1 < 2 and 'f' in 'foo'"
      ],
      "execution_count": null,
      "outputs": [
        {
          "output_type": "execute_result",
          "data": {
            "text/plain": [
              "True"
            ]
          },
          "metadata": {
            "tags": []
          },
          "execution_count": 11
        }
      ]
    },
    {
      "cell_type": "code",
      "metadata": {
        "id": "X9qFaNaumj42",
        "outputId": "d051c3f0-b631-4013-e46d-8d57b78fb372"
      },
      "source": [
        "1 < 2 and 'z' in 'foo'"
      ],
      "execution_count": null,
      "outputs": [
        {
          "output_type": "execute_result",
          "data": {
            "text/plain": [
              "False"
            ]
          },
          "metadata": {
            "tags": []
          },
          "execution_count": 12
        }
      ]
    },
    {
      "cell_type": "code",
      "metadata": {
        "id": "36W8s6a8mj44",
        "outputId": "3ed95535-ce91-4ae5-a00e-1baaa2817214"
      },
      "source": [
        "1 < 2 or 'z' in 'foo'"
      ],
      "execution_count": null,
      "outputs": [
        {
          "output_type": "execute_result",
          "data": {
            "text/plain": [
              "True"
            ]
          },
          "metadata": {
            "tags": []
          },
          "execution_count": 13
        }
      ]
    },
    {
      "cell_type": "code",
      "metadata": {
        "id": "RFJ5rD5kmj46",
        "outputId": "6eecc860-8b3a-44a3-fcce-079e02b065d1"
      },
      "source": [
        "1 < 2 or 'z' not in 'foo'"
      ],
      "execution_count": null,
      "outputs": [
        {
          "output_type": "execute_result",
          "data": {
            "text/plain": [
              "True"
            ]
          },
          "metadata": {
            "tags": []
          },
          "execution_count": 14
        }
      ]
    },
    {
      "cell_type": "markdown",
      "metadata": {
        "id": "_D5MmRuDmj48"
      },
      "source": [
        "Remember\n",
        "\n",
        "- `P and Q` is `True` if both are `True`, else `False`  \n",
        "- `P or Q` is `False` if both are `False`, else `True`  \n",
        "\n",
        "Some surprising rules:"
      ]
    },
    {
      "cell_type": "code",
      "metadata": {
        "id": "aoFMlauHmj48",
        "outputId": "a28ac1db-b964-41fa-dcd2-0114444577d1"
      },
      "source": [
        "x = 'yes' if [] else 'no'\n",
        "x"
      ],
      "execution_count": null,
      "outputs": [
        {
          "output_type": "execute_result",
          "data": {
            "text/plain": [
              "'no'"
            ]
          },
          "metadata": {
            "tags": []
          },
          "execution_count": 15
        }
      ]
    },
    {
      "cell_type": "markdown",
      "metadata": {
        "id": "jGkhJHuCmj4-"
      },
      "source": [
        "What’s going on here?\n",
        "\n",
        "The rule is:\n",
        "\n",
        "- Expressions that evaluate to zero, empty sequences or containers (strings, lists, etc.) and `None` are all equivalent to `False`.  \n",
        "  \n",
        "  - for example, `[]` and `()` are equivalent to `False` in an `if` clause  \n",
        "  \n",
        "- All other values are equivalent to `True`.  \n",
        "  \n",
        "  - for example, `42` is equivalent to `True` in an `if` clause  "
      ]
    },
    {
      "cell_type": "markdown",
      "metadata": {
        "id": "KvGlbOqKqB1u"
      },
      "source": [
        "#While Loops\r\n",
        "\r\n",
        "The 'while' loop is another method of iterating over elements in a container aside from the 'for' loop. The 'while' Loop is a bit different from the for loop in that this loop will only execute if a Boolean Condition is evaluated to 'True'. For loops will continue iterating untill it gets to the last element in the container "
      ]
    },
    {
      "cell_type": "code",
      "metadata": {
        "id": "wMklQEKqsH5x"
      },
      "source": [
        ""
      ],
      "execution_count": null,
      "outputs": []
    },
    {
      "cell_type": "markdown",
      "metadata": {
        "id": "4osgUu5gtGRN"
      },
      "source": [
        "Notice the last line in the code block above, i = i + 1. This line allows us to push the loop forward as we assign a new value to the variable, i. Try to trace the loop and figure out what the value of i is at each iteration.\r\n",
        "\r\n",
        "##FizzBuzz Problem\r\n",
        "\r\n",
        "This is the most common technical interview question you'll see- The Fizzbuzz Problem.\r\n",
        "\r\n",
        "Write a program that prints the numbers from 1 to 20. But for multiples of three print “Fizz” instead of the number and for the multiples of five print “Buzz”. For numbers which are multiples of both three and five print “FizzBuzz”."
      ]
    },
    {
      "cell_type": "code",
      "metadata": {
        "id": "xGJxeZxgvbQA"
      },
      "source": [
        "\r\n"
      ],
      "execution_count": null,
      "outputs": []
    },
    {
      "cell_type": "markdown",
      "metadata": {
        "id": "wNwOyeMN1BM2"
      },
      "source": [
        "#Infinite Loops (Bonus)\r\n",
        "\r\n",
        "Be careful when picking out boolean statements for your loops. If you choose a boolean statement that remains true without using any break statements, python will endlessly execute whatever code you tell it.\r\n",
        "\r\n",
        "Sometimes, we can use this for pretty interesting codes. For example let's build a quick little piece of code that asks a user to guess the number it's thinking of over and over until the user guesses the correct number.  "
      ]
    },
    {
      "cell_type": "code",
      "metadata": {
        "id": "L-SaqIuhsjcu"
      },
      "source": [
        "while True:\r\n",
        "  Answer = input('Guess what number I am thinking of:' )\r\n",
        "  if int(Answer)==5:\r\n",
        "    print ('You got it!')\r\n",
        "    break\r\n",
        "  else:\r\n",
        "    print ('Try Again')"
      ],
      "execution_count": null,
      "outputs": []
    }
  ]
}