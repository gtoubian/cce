{
  "nbformat": 4,
  "nbformat_minor": 0,
  "metadata": {
    "colab": {
      "name": "1.7 SQL Part 3 + Review_Lecture.ipynb",
      "provenance": [],
      "collapsed_sections": [],
      "include_colab_link": true
    },
    "kernelspec": {
      "name": "python3",
      "display_name": "Python 3"
    }
  },
  "cells": [
    {
      "cell_type": "markdown",
      "metadata": {
        "id": "view-in-github",
        "colab_type": "text"
      },
      "source": [
        "<a href=\"https://colab.research.google.com/github/gtoubian/cce/blob/main/1_7_SQL_Part_3_%2B_Review_Lecture.ipynb\" target=\"_parent\"><img src=\"https://colab.research.google.com/assets/colab-badge.svg\" alt=\"Open In Colab\"/></a>"
      ]
    },
    {
      "cell_type": "markdown",
      "metadata": {
        "id": "KQeNxpAZ7Xf8"
      },
      "source": [
        "In the last lecture, we went over a couple of the basic clauses in SQL. In today's lecture we will be doing more of the same."
      ]
    },
    {
      "cell_type": "code",
      "metadata": {
        "id": "c0DSwji47SdK"
      },
      "source": [
        "import sqlite3 as sql\r\n",
        "conn = sql.connect('lecture.db')\r\n",
        "import pandas as pd\r\n",
        "c = conn.cursor()"
      ],
      "execution_count": 1,
      "outputs": []
    },
    {
      "cell_type": "code",
      "metadata": {
        "id": "N7s6qHRy8Xr1",
        "colab": {
          "base_uri": "https://localhost:8080/"
        },
        "outputId": "9772108c-2dbd-4067-ad66-223c6210793f"
      },
      "source": [
        "df = pd.DataFrame(([['Alex', 18, 'Student', 5.5], ['Isabella', 24, 'Accountant', 5], ['George', 33, 'Elementary School Teacher', 3], ['Stacey',28,'Elementary School Teacher',4], ['Ayesha', 21, 'Student', 2.8]]),\r\n",
        "                   columns=['Name', 'Age', 'Occupation', 'Distance Ran'])\r\n",
        "\r\n",
        "df.to_sql('Runners', con = conn)"
      ],
      "execution_count": 2,
      "outputs": [
        {
          "output_type": "stream",
          "text": [
            "/usr/local/lib/python3.6/dist-packages/pandas/core/generic.py:2615: UserWarning: The spaces in these column names will not be changed. In pandas versions < 0.14, spaces were converted to underscores.\n",
            "  method=method,\n"
          ],
          "name": "stderr"
        }
      ]
    },
    {
      "cell_type": "code",
      "metadata": {
        "colab": {
          "base_uri": "https://localhost:8080/",
          "height": 204
        },
        "id": "K0Y9GS6e1d8s",
        "outputId": "a6b15614-80d1-4fc2-da3e-0ffd373b30f0"
      },
      "source": [
        "df.head()"
      ],
      "execution_count": 4,
      "outputs": [
        {
          "output_type": "execute_result",
          "data": {
            "text/html": [
              "<div>\n",
              "<style scoped>\n",
              "    .dataframe tbody tr th:only-of-type {\n",
              "        vertical-align: middle;\n",
              "    }\n",
              "\n",
              "    .dataframe tbody tr th {\n",
              "        vertical-align: top;\n",
              "    }\n",
              "\n",
              "    .dataframe thead th {\n",
              "        text-align: right;\n",
              "    }\n",
              "</style>\n",
              "<table border=\"1\" class=\"dataframe\">\n",
              "  <thead>\n",
              "    <tr style=\"text-align: right;\">\n",
              "      <th></th>\n",
              "      <th>Name</th>\n",
              "      <th>Age</th>\n",
              "      <th>Occupation</th>\n",
              "      <th>Distance Ran</th>\n",
              "    </tr>\n",
              "  </thead>\n",
              "  <tbody>\n",
              "    <tr>\n",
              "      <th>0</th>\n",
              "      <td>Alex</td>\n",
              "      <td>18</td>\n",
              "      <td>Student</td>\n",
              "      <td>5.5</td>\n",
              "    </tr>\n",
              "    <tr>\n",
              "      <th>1</th>\n",
              "      <td>Isabella</td>\n",
              "      <td>24</td>\n",
              "      <td>Accountant</td>\n",
              "      <td>5.0</td>\n",
              "    </tr>\n",
              "    <tr>\n",
              "      <th>2</th>\n",
              "      <td>George</td>\n",
              "      <td>33</td>\n",
              "      <td>Elementary School Teacher</td>\n",
              "      <td>3.0</td>\n",
              "    </tr>\n",
              "    <tr>\n",
              "      <th>3</th>\n",
              "      <td>Stacey</td>\n",
              "      <td>28</td>\n",
              "      <td>Elementary School Teacher</td>\n",
              "      <td>4.0</td>\n",
              "    </tr>\n",
              "    <tr>\n",
              "      <th>4</th>\n",
              "      <td>Ayesha</td>\n",
              "      <td>21</td>\n",
              "      <td>Student</td>\n",
              "      <td>2.8</td>\n",
              "    </tr>\n",
              "  </tbody>\n",
              "</table>\n",
              "</div>"
            ],
            "text/plain": [
              "       Name  Age                 Occupation  Distance Ran\n",
              "0      Alex   18                    Student           5.5\n",
              "1  Isabella   24                 Accountant           5.0\n",
              "2    George   33  Elementary School Teacher           3.0\n",
              "3    Stacey   28  Elementary School Teacher           4.0\n",
              "4    Ayesha   21                    Student           2.8"
            ]
          },
          "metadata": {
            "tags": []
          },
          "execution_count": 4
        }
      ]
    },
    {
      "cell_type": "markdown",
      "metadata": {
        "id": "NI7hjcZEB5ny"
      },
      "source": [
        "Above, we have created a dataframe with the Name, Age, Occupation and number of KMs that were run by participants in a half hour long jog that we loaded into an SQL Schema.\r\n",
        "\r\n",
        "We can use the following functions to calculate different results for us such as the Mean, Max, Min, Sum and count of entries in the Table."
      ]
    },
    {
      "cell_type": "code",
      "metadata": {
        "id": "socsY_hG_kFX",
        "colab": {
          "base_uri": "https://localhost:8080/",
          "height": 80
        },
        "outputId": "650778ba-8213-4333-a895-8704c7996c33"
      },
      "source": [
        "pd.read_sql('SELECT AVG(`Distance Ran`), MAX(Age), MIN(`Distance Ran`), SUM(AGE), count(*) from Runners', con=conn)"
      ],
      "execution_count": 5,
      "outputs": [
        {
          "output_type": "execute_result",
          "data": {
            "text/html": [
              "<div>\n",
              "<style scoped>\n",
              "    .dataframe tbody tr th:only-of-type {\n",
              "        vertical-align: middle;\n",
              "    }\n",
              "\n",
              "    .dataframe tbody tr th {\n",
              "        vertical-align: top;\n",
              "    }\n",
              "\n",
              "    .dataframe thead th {\n",
              "        text-align: right;\n",
              "    }\n",
              "</style>\n",
              "<table border=\"1\" class=\"dataframe\">\n",
              "  <thead>\n",
              "    <tr style=\"text-align: right;\">\n",
              "      <th></th>\n",
              "      <th>AVG(`Distance Ran`)</th>\n",
              "      <th>MAX(Age)</th>\n",
              "      <th>MIN(`Distance Ran`)</th>\n",
              "      <th>SUM(AGE)</th>\n",
              "      <th>count(*)</th>\n",
              "    </tr>\n",
              "  </thead>\n",
              "  <tbody>\n",
              "    <tr>\n",
              "      <th>0</th>\n",
              "      <td>4.06</td>\n",
              "      <td>33</td>\n",
              "      <td>2.8</td>\n",
              "      <td>124</td>\n",
              "      <td>5</td>\n",
              "    </tr>\n",
              "  </tbody>\n",
              "</table>\n",
              "</div>"
            ],
            "text/plain": [
              "   AVG(`Distance Ran`)  MAX(Age)  MIN(`Distance Ran`)  SUM(AGE)  count(*)\n",
              "0                 4.06        33                  2.8       124         5"
            ]
          },
          "metadata": {
            "tags": []
          },
          "execution_count": 5
        }
      ]
    },
    {
      "cell_type": "code",
      "metadata": {
        "colab": {
          "base_uri": "https://localhost:8080/",
          "height": 142
        },
        "id": "hW44u2NK2U_8",
        "outputId": "1f2bf017-04c9-473b-84f8-de61e0ecaf4e"
      },
      "source": [
        "pd.read_sql(\"SELECT Occupation, count(*) as Number, AVG(`Distance Ran`) as AVG_DIST, MAX(Age) as MAX_AGE from Runners group by Occupation\", con=conn)"
      ],
      "execution_count": 7,
      "outputs": [
        {
          "output_type": "execute_result",
          "data": {
            "text/html": [
              "<div>\n",
              "<style scoped>\n",
              "    .dataframe tbody tr th:only-of-type {\n",
              "        vertical-align: middle;\n",
              "    }\n",
              "\n",
              "    .dataframe tbody tr th {\n",
              "        vertical-align: top;\n",
              "    }\n",
              "\n",
              "    .dataframe thead th {\n",
              "        text-align: right;\n",
              "    }\n",
              "</style>\n",
              "<table border=\"1\" class=\"dataframe\">\n",
              "  <thead>\n",
              "    <tr style=\"text-align: right;\">\n",
              "      <th></th>\n",
              "      <th>Occupation</th>\n",
              "      <th>Number</th>\n",
              "      <th>AVG_DIST</th>\n",
              "      <th>MAX_AGE</th>\n",
              "    </tr>\n",
              "  </thead>\n",
              "  <tbody>\n",
              "    <tr>\n",
              "      <th>0</th>\n",
              "      <td>Accountant</td>\n",
              "      <td>1</td>\n",
              "      <td>5.00</td>\n",
              "      <td>24</td>\n",
              "    </tr>\n",
              "    <tr>\n",
              "      <th>1</th>\n",
              "      <td>Elementary School Teacher</td>\n",
              "      <td>2</td>\n",
              "      <td>3.50</td>\n",
              "      <td>33</td>\n",
              "    </tr>\n",
              "    <tr>\n",
              "      <th>2</th>\n",
              "      <td>Student</td>\n",
              "      <td>2</td>\n",
              "      <td>4.15</td>\n",
              "      <td>21</td>\n",
              "    </tr>\n",
              "  </tbody>\n",
              "</table>\n",
              "</div>"
            ],
            "text/plain": [
              "                  Occupation  Number  AVG_DIST  MAX_AGE\n",
              "0                 Accountant       1      5.00       24\n",
              "1  Elementary School Teacher       2      3.50       33\n",
              "2                    Student       2      4.15       21"
            ]
          },
          "metadata": {
            "tags": []
          },
          "execution_count": 7
        }
      ]
    },
    {
      "cell_type": "markdown",
      "metadata": {
        "id": "XUQPj7YYDR3p"
      },
      "source": [
        "The same functions can compute different results if a 'GROUP BY' Clause is used."
      ]
    },
    {
      "cell_type": "code",
      "metadata": {
        "colab": {
          "base_uri": "https://localhost:8080/",
          "height": 136
        },
        "id": "KYfG_zPUA2Fw",
        "outputId": "4a5c7c50-e9d9-4359-cc20-775a11328dc0"
      },
      "source": [
        ""
      ],
      "execution_count": null,
      "outputs": [
        {
          "output_type": "execute_result",
          "data": {
            "text/html": [
              "<div>\n",
              "<style scoped>\n",
              "    .dataframe tbody tr th:only-of-type {\n",
              "        vertical-align: middle;\n",
              "    }\n",
              "\n",
              "    .dataframe tbody tr th {\n",
              "        vertical-align: top;\n",
              "    }\n",
              "\n",
              "    .dataframe thead th {\n",
              "        text-align: right;\n",
              "    }\n",
              "</style>\n",
              "<table border=\"1\" class=\"dataframe\">\n",
              "  <thead>\n",
              "    <tr style=\"text-align: right;\">\n",
              "      <th></th>\n",
              "      <th>Occupation</th>\n",
              "      <th>Number</th>\n",
              "      <th>AVG_DIST</th>\n",
              "      <th>MAX_AGE</th>\n",
              "    </tr>\n",
              "  </thead>\n",
              "  <tbody>\n",
              "    <tr>\n",
              "      <th>0</th>\n",
              "      <td>Accountant</td>\n",
              "      <td>1</td>\n",
              "      <td>5.00</td>\n",
              "      <td>24</td>\n",
              "    </tr>\n",
              "    <tr>\n",
              "      <th>1</th>\n",
              "      <td>Elementary School Teacher</td>\n",
              "      <td>2</td>\n",
              "      <td>3.50</td>\n",
              "      <td>33</td>\n",
              "    </tr>\n",
              "    <tr>\n",
              "      <th>2</th>\n",
              "      <td>Student</td>\n",
              "      <td>2</td>\n",
              "      <td>4.15</td>\n",
              "      <td>21</td>\n",
              "    </tr>\n",
              "  </tbody>\n",
              "</table>\n",
              "</div>"
            ],
            "text/plain": [
              "                  Occupation  Number  AVG_DIST  MAX_AGE\n",
              "0                 Accountant       1      5.00       24\n",
              "1  Elementary School Teacher       2      3.50       33\n",
              "2                    Student       2      4.15       21"
            ]
          },
          "metadata": {
            "tags": []
          },
          "execution_count": 11
        }
      ]
    },
    {
      "cell_type": "markdown",
      "metadata": {
        "id": "FykZA4lMDfoQ"
      },
      "source": [
        "For the next exercises, I have loaded a dataset on free and paid parking locations in Montreal taken from the city of Montreal website."
      ]
    },
    {
      "cell_type": "code",
      "metadata": {
        "id": "si_-lBJeBQDJ",
        "colab": {
          "base_uri": "https://localhost:8080/",
          "height": 145
        },
        "outputId": "6ab85799-2375-4eb3-bf88-6475ed6521d5"
      },
      "source": [
        "url='https://data.montreal.ca/dataset/575ecf37-9097-44cd-817f-a2fbd8de314b/resource/16288929-b544-47c8-9e2f-93b162fc04c6/download/stationnements_h_2020_2021.csv'\r\n",
        "df = pd.read_csv(url)\r\n",
        "df.head(2)"
      ],
      "execution_count": 11,
      "outputs": [
        {
          "output_type": "execute_result",
          "data": {
            "text/html": [
              "<div>\n",
              "<style scoped>\n",
              "    .dataframe tbody tr th:only-of-type {\n",
              "        vertical-align: middle;\n",
              "    }\n",
              "\n",
              "    .dataframe tbody tr th {\n",
              "        vertical-align: top;\n",
              "    }\n",
              "\n",
              "    .dataframe thead th {\n",
              "        text-align: right;\n",
              "    }\n",
              "</style>\n",
              "<table border=\"1\" class=\"dataframe\">\n",
              "  <thead>\n",
              "    <tr style=\"text-align: right;\">\n",
              "      <th></th>\n",
              "      <th>OBJECTID</th>\n",
              "      <th>ARRONDISSEMENT</th>\n",
              "      <th>NBR_PLA</th>\n",
              "      <th>X</th>\n",
              "      <th>Y</th>\n",
              "      <th>ID_STA</th>\n",
              "      <th>JURIDICTION</th>\n",
              "      <th>EMPLACEMENT</th>\n",
              "      <th>LOCATION</th>\n",
              "      <th>HEURES</th>\n",
              "      <th>HOURS</th>\n",
              "      <th>BOROUGH</th>\n",
              "      <th>NBR_PLA_I</th>\n",
              "      <th>NOTE_FR</th>\n",
              "      <th>NOTE_EN</th>\n",
              "      <th>TYPE_PAY</th>\n",
              "      <th>Latitude</th>\n",
              "      <th>Longitude</th>\n",
              "    </tr>\n",
              "  </thead>\n",
              "  <tbody>\n",
              "    <tr>\n",
              "      <th>0</th>\n",
              "      <td>58</td>\n",
              "      <td>Ahunstic-Cartierville</td>\n",
              "      <td>17</td>\n",
              "      <td>292433.00</td>\n",
              "      <td>5046689.31</td>\n",
              "      <td>58</td>\n",
              "      <td>Stationnement de Montréal</td>\n",
              "      <td>Rue Fleury près de la rue Chambord (#335)</td>\n",
              "      <td>Rue Fleury near Chambord St. (parking #335)</td>\n",
              "      <td>15:00 à 07:00</td>\n",
              "      <td>3:00 pm to 07:00 am</td>\n",
              "      <td>Ahunstic-Cartierville</td>\n",
              "      <td>17</td>\n",
              "      <td>Section horaire</td>\n",
              "      <td>Hourly spaces</td>\n",
              "      <td>0.0</td>\n",
              "      <td>45.5600</td>\n",
              "      <td>-73.6584</td>\n",
              "    </tr>\n",
              "    <tr>\n",
              "      <th>1</th>\n",
              "      <td>91</td>\n",
              "      <td>Anjou</td>\n",
              "      <td>20</td>\n",
              "      <td>298302.08</td>\n",
              "      <td>5051493.88</td>\n",
              "      <td>91</td>\n",
              "      <td>Municipale</td>\n",
              "      <td>Parc Lucie-Bruneau - 7051 av. de l'Alsace</td>\n",
              "      <td>Lucie-Bruneau Park - 7051 de l'Alsace Ave</td>\n",
              "      <td>06:00 à 18:00</td>\n",
              "      <td>6:00 am to 6:00 pm</td>\n",
              "      <td>Anjou</td>\n",
              "      <td>20</td>\n",
              "      <td>NaN</td>\n",
              "      <td>NaN</td>\n",
              "      <td>0.0</td>\n",
              "      <td>45.6033</td>\n",
              "      <td>-73.5833</td>\n",
              "    </tr>\n",
              "  </tbody>\n",
              "</table>\n",
              "</div>"
            ],
            "text/plain": [
              "   OBJECTID         ARRONDISSEMENT  NBR_PLA  ...  TYPE_PAY  Latitude  Longitude\n",
              "0        58  Ahunstic-Cartierville       17  ...       0.0   45.5600   -73.6584\n",
              "1        91                  Anjou       20  ...       0.0   45.6033   -73.5833\n",
              "\n",
              "[2 rows x 18 columns]"
            ]
          },
          "metadata": {
            "tags": []
          },
          "execution_count": 11
        }
      ]
    },
    {
      "cell_type": "code",
      "metadata": {
        "id": "_KP3jPBzEFNy"
      },
      "source": [
        "df.to_sql(\"Parking\",con=conn)"
      ],
      "execution_count": 13,
      "outputs": []
    },
    {
      "cell_type": "markdown",
      "metadata": {
        "id": "s6CZM1jw4Okt"
      },
      "source": [
        "Here, let's get a count of the confirmed free parking spots."
      ]
    },
    {
      "cell_type": "code",
      "metadata": {
        "id": "aXxV6jCkEp1b",
        "colab": {
          "base_uri": "https://localhost:8080/",
          "height": 111
        },
        "outputId": "39ab6d93-9632-447d-bf61-b83aba864fd5"
      },
      "source": [
        "pd.read_sql(\"Select type_pay as Free_Or_Not, count(*) as Parking_Spots from Parking group by type_pay\", con=conn)"
      ],
      "execution_count": 14,
      "outputs": [
        {
          "output_type": "execute_result",
          "data": {
            "text/html": [
              "<div>\n",
              "<style scoped>\n",
              "    .dataframe tbody tr th:only-of-type {\n",
              "        vertical-align: middle;\n",
              "    }\n",
              "\n",
              "    .dataframe tbody tr th {\n",
              "        vertical-align: top;\n",
              "    }\n",
              "\n",
              "    .dataframe thead th {\n",
              "        text-align: right;\n",
              "    }\n",
              "</style>\n",
              "<table border=\"1\" class=\"dataframe\">\n",
              "  <thead>\n",
              "    <tr style=\"text-align: right;\">\n",
              "      <th></th>\n",
              "      <th>Free_Or_Not</th>\n",
              "      <th>Parking_Spots</th>\n",
              "    </tr>\n",
              "  </thead>\n",
              "  <tbody>\n",
              "    <tr>\n",
              "      <th>0</th>\n",
              "      <td>NaN</td>\n",
              "      <td>2</td>\n",
              "    </tr>\n",
              "    <tr>\n",
              "      <th>1</th>\n",
              "      <td>0.0</td>\n",
              "      <td>135</td>\n",
              "    </tr>\n",
              "  </tbody>\n",
              "</table>\n",
              "</div>"
            ],
            "text/plain": [
              "   Free_Or_Not  Parking_Spots\n",
              "0          NaN              2\n",
              "1          0.0            135"
            ]
          },
          "metadata": {
            "tags": []
          },
          "execution_count": 14
        }
      ]
    },
    {
      "cell_type": "code",
      "metadata": {
        "colab": {
          "base_uri": "https://localhost:8080/",
          "height": 111
        },
        "id": "D8JzPTJ15Uwr",
        "outputId": "42809681-9f94-43a6-811f-389b5577802c"
      },
      "source": [
        "pd.read_sql(\"Select Location from Parking where type_pay is Null\", con = conn)"
      ],
      "execution_count": 15,
      "outputs": [
        {
          "output_type": "execute_result",
          "data": {
            "text/html": [
              "<div>\n",
              "<style scoped>\n",
              "    .dataframe tbody tr th:only-of-type {\n",
              "        vertical-align: middle;\n",
              "    }\n",
              "\n",
              "    .dataframe tbody tr th {\n",
              "        vertical-align: top;\n",
              "    }\n",
              "\n",
              "    .dataframe thead th {\n",
              "        text-align: right;\n",
              "    }\n",
              "</style>\n",
              "<table border=\"1\" class=\"dataframe\">\n",
              "  <thead>\n",
              "    <tr style=\"text-align: right;\">\n",
              "      <th></th>\n",
              "      <th>LOCATION</th>\n",
              "    </tr>\n",
              "  </thead>\n",
              "  <tbody>\n",
              "    <tr>\n",
              "      <th>0</th>\n",
              "      <td>Saint-Jean-Baptiste Blvd. and Victoria St corner</td>\n",
              "    </tr>\n",
              "    <tr>\n",
              "      <th>1</th>\n",
              "      <td>6th Ave. between Daudurand and Masson St. (#73)</td>\n",
              "    </tr>\n",
              "  </tbody>\n",
              "</table>\n",
              "</div>"
            ],
            "text/plain": [
              "                                           LOCATION\n",
              "0  Saint-Jean-Baptiste Blvd. and Victoria St corner\n",
              "1   6th Ave. between Daudurand and Masson St. (#73)"
            ]
          },
          "metadata": {
            "tags": []
          },
          "execution_count": 15
        }
      ]
    },
    {
      "cell_type": "markdown",
      "metadata": {
        "id": "H8ZfvcUp4eSc"
      },
      "source": [
        "#Between\r\n",
        "The Between Clause is used in the where statement to specify rows that have a column value in between some lower and upper number."
      ]
    },
    {
      "cell_type": "code",
      "metadata": {
        "colab": {
          "base_uri": "https://localhost:8080/",
          "height": 204
        },
        "id": "cdiLu7ePGDpE",
        "outputId": "16b2c1be-e5e3-4907-b17a-dfdba02f5f73"
      },
      "source": [
        "pd.read_sql(\"Select Location, Juridiction, nbr_pla from Parking where nbr_pla between 10 and 20 limit 5\", con = conn)"
      ],
      "execution_count": 17,
      "outputs": [
        {
          "output_type": "execute_result",
          "data": {
            "text/html": [
              "<div>\n",
              "<style scoped>\n",
              "    .dataframe tbody tr th:only-of-type {\n",
              "        vertical-align: middle;\n",
              "    }\n",
              "\n",
              "    .dataframe tbody tr th {\n",
              "        vertical-align: top;\n",
              "    }\n",
              "\n",
              "    .dataframe thead th {\n",
              "        text-align: right;\n",
              "    }\n",
              "</style>\n",
              "<table border=\"1\" class=\"dataframe\">\n",
              "  <thead>\n",
              "    <tr style=\"text-align: right;\">\n",
              "      <th></th>\n",
              "      <th>LOCATION</th>\n",
              "      <th>JURIDICTION</th>\n",
              "      <th>NBR_PLA</th>\n",
              "    </tr>\n",
              "  </thead>\n",
              "  <tbody>\n",
              "    <tr>\n",
              "      <th>0</th>\n",
              "      <td>Rue Fleury near Chambord St. (parking #335)</td>\n",
              "      <td>Stationnement de Montréal</td>\n",
              "      <td>17</td>\n",
              "    </tr>\n",
              "    <tr>\n",
              "      <th>1</th>\n",
              "      <td>Lucie-Bruneau Park - 7051 de l'Alsace Ave</td>\n",
              "      <td>Municipale</td>\n",
              "      <td>20</td>\n",
              "    </tr>\n",
              "    <tr>\n",
              "      <th>2</th>\n",
              "      <td>André-Laurendeau Park - 8361 André-Laurendeau ...</td>\n",
              "      <td>Municipale</td>\n",
              "      <td>20</td>\n",
              "    </tr>\n",
              "    <tr>\n",
              "      <th>3</th>\n",
              "      <td>City Hall - 7701 Louis-H.Lafontaine Blvd</td>\n",
              "      <td>Municipale</td>\n",
              "      <td>20</td>\n",
              "    </tr>\n",
              "    <tr>\n",
              "      <th>4</th>\n",
              "      <td>Chénier Arena - 8200 Chénier Ave</td>\n",
              "      <td>Municipale</td>\n",
              "      <td>20</td>\n",
              "    </tr>\n",
              "  </tbody>\n",
              "</table>\n",
              "</div>"
            ],
            "text/plain": [
              "                                            LOCATION  ... NBR_PLA\n",
              "0        Rue Fleury near Chambord St. (parking #335)  ...      17\n",
              "1          Lucie-Bruneau Park - 7051 de l'Alsace Ave  ...      20\n",
              "2  André-Laurendeau Park - 8361 André-Laurendeau ...  ...      20\n",
              "3           City Hall - 7701 Louis-H.Lafontaine Blvd  ...      20\n",
              "4                   Chénier Arena - 8200 Chénier Ave  ...      20\n",
              "\n",
              "[5 rows x 3 columns]"
            ]
          },
          "metadata": {
            "tags": []
          },
          "execution_count": 17
        }
      ]
    },
    {
      "cell_type": "markdown",
      "metadata": {
        "id": "Rwan3bnz4uMW"
      },
      "source": [
        "#Like\r\n",
        "The Like Clause is also used after the where clause. The Like Clause helps us to pick out rows that contain a column value usually denoted with %a%. "
      ]
    },
    {
      "cell_type": "code",
      "metadata": {
        "id": "ZcM2Ar9ZSZxk",
        "colab": {
          "base_uri": "https://localhost:8080/",
          "height": 204
        },
        "outputId": "48cbcead-939d-4131-c739-744b11c6bb37"
      },
      "source": [
        "pd.read_sql(\"Select Location, Hours from Parking where Juridiction like 'Muni%' Limit 5\", con = conn)"
      ],
      "execution_count": 19,
      "outputs": [
        {
          "output_type": "execute_result",
          "data": {
            "text/html": [
              "<div>\n",
              "<style scoped>\n",
              "    .dataframe tbody tr th:only-of-type {\n",
              "        vertical-align: middle;\n",
              "    }\n",
              "\n",
              "    .dataframe tbody tr th {\n",
              "        vertical-align: top;\n",
              "    }\n",
              "\n",
              "    .dataframe thead th {\n",
              "        text-align: right;\n",
              "    }\n",
              "</style>\n",
              "<table border=\"1\" class=\"dataframe\">\n",
              "  <thead>\n",
              "    <tr style=\"text-align: right;\">\n",
              "      <th></th>\n",
              "      <th>LOCATION</th>\n",
              "      <th>HOURS</th>\n",
              "    </tr>\n",
              "  </thead>\n",
              "  <tbody>\n",
              "    <tr>\n",
              "      <th>0</th>\n",
              "      <td>Lucie-Bruneau Park - 7051 de l'Alsace Ave</td>\n",
              "      <td>6:00 am to 6:00 pm</td>\n",
              "    </tr>\n",
              "    <tr>\n",
              "      <th>1</th>\n",
              "      <td>André-Laurendeau Park - 8361 André-Laurendeau ...</td>\n",
              "      <td>6:00 am to 6:00 pm</td>\n",
              "    </tr>\n",
              "    <tr>\n",
              "      <th>2</th>\n",
              "      <td>City Hall - 7701 Louis-H.Lafontaine Blvd</td>\n",
              "      <td>6:00 am to 6:00 pm</td>\n",
              "    </tr>\n",
              "    <tr>\n",
              "      <th>3</th>\n",
              "      <td>Chénier Arena - 8200 Chénier Ave</td>\n",
              "      <td>6:00 am to 6:00 pm</td>\n",
              "    </tr>\n",
              "    <tr>\n",
              "      <th>4</th>\n",
              "      <td>Chaumont Arena - 8750 Chaumont Ave</td>\n",
              "      <td>6:00 am to 6:00 pm</td>\n",
              "    </tr>\n",
              "  </tbody>\n",
              "</table>\n",
              "</div>"
            ],
            "text/plain": [
              "                                            LOCATION               HOURS\n",
              "0          Lucie-Bruneau Park - 7051 de l'Alsace Ave  6:00 am to 6:00 pm\n",
              "1  André-Laurendeau Park - 8361 André-Laurendeau ...  6:00 am to 6:00 pm\n",
              "2           City Hall - 7701 Louis-H.Lafontaine Blvd  6:00 am to 6:00 pm\n",
              "3                   Chénier Arena - 8200 Chénier Ave  6:00 am to 6:00 pm\n",
              "4                 Chaumont Arena - 8750 Chaumont Ave  6:00 am to 6:00 pm"
            ]
          },
          "metadata": {
            "tags": []
          },
          "execution_count": 19
        }
      ]
    },
    {
      "cell_type": "markdown",
      "metadata": {
        "id": "hTwGZb1hYHu-"
      },
      "source": [
        "The next clause in SQL we will look at is the CASE clause. The Case Clause is similar to the if/else statements that we have seen in python where if a certain condition is met then SQL will execute a code. The format is as follows:\r\n",
        "\r\n",
        "```\r\n",
        "SELECT LOCATION,\r\n",
        "       HOURS\r\n",
        "       CASE TYPE_PAY \r\n",
        "           WHEN '0.0' \r\n",
        "               THEN 'Free' \r\n",
        "           ELSE 'Pay' \r\n",
        "       END Paid\r\n",
        "FROM \r\n",
        "    Parking\r\n",
        "```\r\n",
        "\r\n",
        "#Subquery\r\n",
        "\r\n",
        "So far we have been querying from a raw table of values and outputting them in new ones. But what if we wanted to pull values yet again from these new tables? Here we can use subqueries.\r\n",
        "\r\n",
        "A subquery is a SELECT statement nested in another statement. See the following statement.\r\n",
        "\r\n",
        "\r\n",
        "\r\n",
        "```\r\n",
        "SELECT column_1\r\n",
        "FROM table_1\r\n",
        "WHERE column_1 = (\r\n",
        "   SELECT column_1 \r\n",
        "   FROM table_2\r\n",
        ");\r\n",
        "```\r\n",
        "where the outer query is: \r\n",
        "\r\n",
        "\r\n",
        "```\r\n",
        "SELECT column_1\r\n",
        "  FROM table_1\r\n",
        " WHERE colum_1 =\r\n",
        "```\r\n",
        "\r\n",
        "and the inner column is:\r\n",
        "\r\n",
        "\r\n",
        "\r\n",
        "```\r\n",
        "(SELECT column_1\r\n",
        "  FROM table_2)\r\n",
        "```\r\n",
        "\r\n",
        "\r\n",
        "\r\n",
        "#Department Highest Salary\r\n",
        "\r\n",
        "The Employee table holds all employees. Every employee has an Id, a salary, and there is also a column for the department Id.\r\n",
        "\r\n",
        "```\r\n",
        "+----+-------+--------+--------------+\r\n",
        "| Id | Name  | Salary | DepartmentId |\r\n",
        "+----+-------+--------+--------------+\r\n",
        "| 1  | Joe   | 70000  | 1            |\r\n",
        "| 2  | Jim   | 90000  | 1            |\r\n",
        "| 3  | Henry | 80000  | 2            |\r\n",
        "| 4  | Sam   | 60000  | 2            |\r\n",
        "| 5  | Max   | 90000  | 1            |\r\n",
        "+----+-------+--------+--------------+\r\n",
        "```\r\n",
        "\r\n",
        "The Department table holds all departments of the company.\r\n",
        "\r\n",
        "```\r\n",
        "+----+----------+\r\n",
        "| Id | Name     |\r\n",
        "+----+----------+\r\n",
        "| 1  | IT       |\r\n",
        "| 2  | Sales    |\r\n",
        "+----+----------+\r\n",
        "```\r\n",
        "\r\n",
        "Write a SQL query to find employees who have the highest salary in each of the departments. For the above tables, your SQL query should return the following rows (order of rows does not matter).\r\n",
        "\r\n",
        "```\r\n",
        "+------------+----------+--------+\r\n",
        "| Department | Employee | Salary |\r\n",
        "+------------+----------+--------+\r\n",
        "| IT         | Max      | 90000  |\r\n",
        "| IT         | Jim      | 90000  |\r\n",
        "| Sales      | Henry    | 80000  |\r\n",
        "+------------+----------+--------+\r\n",
        "```\r\n",
        "\r\n",
        "Max and Jim both have the highest salary in the IT department and Henry has the highest salary in the Sales department."
      ]
    },
    {
      "cell_type": "code",
      "metadata": {
        "id": "JJUSBXPAVJ4V"
      },
      "source": [
        "df1 = pd.DataFrame(([[1, 'Joe', 70000, 1], [2, 'Jim', 90000, 1], [3, 'Henry', 80000, 2], [4,'Sam',60000,2], [5, 'Max', 90000, 1]]),\r\n",
        "                   columns=['Id', 'Name', 'Salary', 'DepartmentId'])\r\n",
        "df2 = pd.DataFrame(([[1,'IT'],[2,'Sales']]), columns=['Id', 'Name'])\r\n",
        "\r\n",
        "df1.to_sql('Employee', con = conn)\r\n",
        "df2.to_sql('Department', con = conn)"
      ],
      "execution_count": 20,
      "outputs": []
    },
    {
      "cell_type": "code",
      "metadata": {
        "id": "kBk7yHB6mIQ1"
      },
      "source": [
        ""
      ],
      "execution_count": null,
      "outputs": []
    },
    {
      "cell_type": "markdown",
      "metadata": {
        "id": "Jl9R1iACobJA"
      },
      "source": [
        "#Review\r\n",
        "\r\n",
        "So far in this module we have covered Data types/containers, Python Logic Flow, Functions, Math, Statistics, Numpy, Pandas, Classes and SQL. As we go further along we will be drawing on the lectures from module 1 as well as introducing you to new data analysis techniques. Please make sure to go over the lecture/workshop notebooks, rewatch lecture recordings (if needed) and practice technical interview questions on Leetcode/HackerRank to have a solid grasp of these basics. \r\n",
        "\r\n"
      ]
    },
    {
      "cell_type": "code",
      "metadata": {
        "id": "11gJYkq5r2Iv"
      },
      "source": [
        ""
      ],
      "execution_count": null,
      "outputs": []
    },
    {
      "cell_type": "code",
      "metadata": {
        "id": "ySX2hitzr2MQ"
      },
      "source": [
        ""
      ],
      "execution_count": null,
      "outputs": []
    },
    {
      "cell_type": "code",
      "metadata": {
        "id": "yj3d30r_r2Xc"
      },
      "source": [
        ""
      ],
      "execution_count": null,
      "outputs": []
    },
    {
      "cell_type": "markdown",
      "metadata": {
        "id": "NXh8VmpdrPr5"
      },
      "source": [
        "#Programming Questions\r\n",
        "\r\n",
        "##How Many Numbers Are Smaller Than the Current Number\r\n",
        "\r\n",
        "Given the array nums, for each nums[i] find out how many numbers in the array are smaller than it. That is, for each nums[i] you have to count the number of valid j's such that j != i and nums[j] < nums[i].\r\n",
        "\r\n",
        "Return the answer in an array.\r\n",
        "\r\n",
        " \r\n",
        "\r\n",
        "Example 1:\r\n",
        "\r\n",
        "\r\n",
        "```\r\n",
        "Input: nums = [8,1,2,2,3]\r\n",
        "Output: [4,0,1,1,3]\r\n",
        "Explanation: \r\n",
        "For nums[0]=8 there exist four smaller numbers than it (1, 2, 2 and 3). \r\n",
        "For nums[1]=1 does not exist any smaller number than it.\r\n",
        "For nums[2]=2 there exist one smaller number than it (1). \r\n",
        "For nums[3]=2 there exist one smaller number than it (1). \r\n",
        "For nums[4]=3 there exist three smaller numbers than it (1, 2 and 2).\r\n",
        "```\r\n",
        "\r\n"
      ]
    },
    {
      "cell_type": "code",
      "metadata": {
        "id": "uB2xbkAzmT8A",
        "colab": {
          "base_uri": "https://localhost:8080/"
        },
        "outputId": "620768a0-37ef-48cd-fdc2-965e9110fc50"
      },
      "source": [
        "nums = [8,1,2,2,3]\r\n",
        "def smaller(nums):\r\n",
        "  for i in range(len(nums)):\r\n",
        "    count = 0\r\n",
        "    for j in range(len(nums)):\r\n",
        "      if j!=i and nums[j]<nums[i]:\r\n",
        "        count +=1\r\n",
        "    output.append(count)\r\n",
        "  return output\r\n",
        "\r\n",
        "smaller(nums)"
      ],
      "execution_count": 28,
      "outputs": [
        {
          "output_type": "execute_result",
          "data": {
            "text/plain": [
              "[4, 0, 1, 1, 3]"
            ]
          },
          "metadata": {
            "tags": []
          },
          "execution_count": 28
        }
      ]
    },
    {
      "cell_type": "code",
      "metadata": {
        "id": "AnyLQPgZtmrs"
      },
      "source": [
        ""
      ],
      "execution_count": null,
      "outputs": []
    },
    {
      "cell_type": "code",
      "metadata": {
        "id": "csSAPZCRuLUC"
      },
      "source": [
        "\r\n"
      ],
      "execution_count": null,
      "outputs": []
    },
    {
      "cell_type": "code",
      "metadata": {
        "id": "iY0IsmDSv2gl"
      },
      "source": [
        ""
      ],
      "execution_count": null,
      "outputs": []
    },
    {
      "cell_type": "markdown",
      "metadata": {
        "id": "cLEInKXPwNbU"
      },
      "source": [
        "# Maximum Number of Coins You Can Get\r\n",
        "\r\n",
        "There are 3n piles of coins of varying size, you and your friends will take piles of coins as follows:\r\n",
        "\r\n",
        "In each step, you will choose any 3 piles of coins (not necessarily consecutive).\r\n",
        "Of your choice, Alice will pick the pile with the maximum number of coins.\r\n",
        "You will pick the next pile with maximum number of coins.\r\n",
        "Your friend Bob will pick the last pile.\r\n",
        "Repeat until there are no more piles of coins.\r\n",
        "Given an array of integers piles where piles[i] is the number of coins in the ith pile.\r\n",
        "\r\n",
        "Return the maximum number of coins which you can have.\r\n",
        "\r\n",
        "\r\n",
        "\r\n",
        "```\r\n",
        "Input: piles = [2,4,1,2,7,8]\r\n",
        "Output: 9\r\n",
        "Explanation: Choose the triplet (2, 7, 8), Alice Pick the pile with 8 coins, you the pile with 7 coins and Bob the last one.\r\n",
        "Choose the triplet (1, 2, 4), Alice Pick the pile with 4 coins, you the pile with 2 coins and Bob the last one.\r\n",
        "The maximum number of coins which you can have are: 7 + 2 = 9.\r\n",
        "On the other hand if we choose this arrangement (1, 2, 8), (2, 4, 7) you only get 2 + 4 = 6 coins which is not optimal.\r\n",
        "```\r\n",
        "\r\n"
      ]
    },
    {
      "cell_type": "code",
      "metadata": {
        "id": "-cHaG4Ppv-Q9",
        "colab": {
          "base_uri": "https://localhost:8080/"
        },
        "outputId": "98b38987-1e8d-4430-bba5-11e2d5442315"
      },
      "source": [
        "piles = [2,4,1,2,7,8]\r\n",
        "alice = []\r\n",
        "me = []\r\n",
        "bob = []\r\n",
        "def maxcoins(piles):\r\n",
        "  return sum(sorted(piles)[len(piles)//3::2])\r\n",
        "\r\n",
        "maxcoins(piles)\r\n"
      ],
      "execution_count": 32,
      "outputs": [
        {
          "output_type": "execute_result",
          "data": {
            "text/plain": [
              "9"
            ]
          },
          "metadata": {
            "tags": []
          },
          "execution_count": 32
        }
      ]
    },
    {
      "cell_type": "code",
      "metadata": {
        "id": "NfEnl3ME3yuY"
      },
      "source": [
        ""
      ],
      "execution_count": null,
      "outputs": []
    }
  ]
}