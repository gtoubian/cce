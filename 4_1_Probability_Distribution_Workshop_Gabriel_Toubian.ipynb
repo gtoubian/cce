{
  "nbformat": 4,
  "nbformat_minor": 0,
  "metadata": {
    "colab": {
      "name": "4.1_Probability_Distribution_Workshop_Gabriel_Toubian.ipynb",
      "provenance": [],
      "include_colab_link": true
    },
    "kernelspec": {
      "name": "python3",
      "display_name": "Python 3"
    }
  },
  "cells": [
    {
      "cell_type": "markdown",
      "metadata": {
        "id": "view-in-github",
        "colab_type": "text"
      },
      "source": [
        "<a href=\"https://colab.research.google.com/github/gtoubian/cce/blob/main/4_1_Probability_Distribution_Workshop_Gabriel_Toubian.ipynb\" target=\"_parent\"><img src=\"https://colab.research.google.com/assets/colab-badge.svg\" alt=\"Open In Colab\"/></a>"
      ]
    },
    {
      "cell_type": "markdown",
      "metadata": {
        "id": "BsEaDj4lpD9j"
      },
      "source": [
        "**Gabriel Toubian** - gtoubian@gmail.com"
      ]
    },
    {
      "cell_type": "code",
      "metadata": {
        "id": "ObR0cRA5hgsV"
      },
      "source": [
        ""
      ],
      "execution_count": null,
      "outputs": []
    },
    {
      "cell_type": "markdown",
      "metadata": {
        "id": "9aBcChPoh6VP"
      },
      "source": [
        "NOTE:\r\n",
        "Please insert a text cell at the top of the Notebook with your Full Name in Bold and your email that you use for both Journey and Github\r\n",
        "\r\n",
        "Also, add to the title of the notebook, an underscore as well as your name.\r\n",
        "\r\n",
        "Ex. '4.1_Probability_Distribution_Workshop_Usama'"
      ]
    },
    {
      "cell_type": "markdown",
      "metadata": {
        "id": "QOMYQ7_ViXfr"
      },
      "source": [
        "#Warmup\r\n",
        "Import the scipy, numpy, random and matplotlib packages in the cell below. Also, set run a random seed command."
      ]
    },
    {
      "cell_type": "code",
      "metadata": {
        "id": "qQIQBFeliW85"
      },
      "source": [
        "import numpy as np\r\n",
        "import scipy.stats as sc\r\n",
        "import random\r\n",
        "random.seed(10)\r\n"
      ],
      "execution_count": 66,
      "outputs": []
    },
    {
      "cell_type": "markdown",
      "metadata": {
        "id": "YVzCzRqNilsZ"
      },
      "source": [
        "#Distribution\r\n",
        "\r\n",
        "You are given an unfair coin with p = 0.7 chance of being heads. Plot the number of heads and tails you would have after 3000 flips.\r\n",
        "\r\n",
        "What is the Probability of getting atleast 1 tails after 10 flips?"
      ]
    },
    {
      "cell_type": "code",
      "metadata": {
        "id": "R55mgFfztYA4"
      },
      "source": [
        "import matplotlib.pyplot as plt"
      ],
      "execution_count": null,
      "outputs": []
    },
    {
      "cell_type": "code",
      "metadata": {
        "id": "Hy7ASoNmjKwT",
        "colab": {
          "base_uri": "https://localhost:8080/",
          "height": 295
        },
        "outputId": "45590d20-8be2-4c3b-b673-f28d49806ccd"
      },
      "source": [
        "p = 0.7\r\n",
        "r = sc.bernoulli.rvs(p, size= 3000)\r\n",
        "r\r\n",
        "\r\n",
        "plt.hist(r)\r\n",
        "plt.title(\"Number of Heads and Tails after 3000 Flips\")\r\n",
        "plt.ylabel(\"Count\")\r\n",
        "plt.xlabel(\"Outcome (1.0 is Heads and 0.0 is Tails)\")\r\n",
        "plt.show()"
      ],
      "execution_count": null,
      "outputs": [
        {
          "output_type": "display_data",
          "data": {
            "image/png": "[encoded data removed]",
            "text/plain": [
              "<Figure size 432x288 with 1 Axes>"
            ]
          },
          "metadata": {
            "tags": [],
            "needs_background": "light"
          }
        }
      ]
    },
    {
      "cell_type": "code",
      "metadata": {
        "colab": {
          "base_uri": "https://localhost:8080/"
        },
        "id": "ddNC5zqxuAyK",
        "outputId": "7c08fb8c-0c3f-4c96-f8f0-b5f8e47701b6"
      },
      "source": [
        "#Probability of getting atleast 1 tails after 10 flips\r\n",
        "\r\n",
        "1 - (0.7**10)\r\n"
      ],
      "execution_count": null,
      "outputs": [
        {
          "output_type": "execute_result",
          "data": {
            "text/plain": [
              "0.9717524751000001"
            ]
          },
          "metadata": {
            "tags": []
          },
          "execution_count": 12
        }
      ]
    },
    {
      "cell_type": "markdown",
      "metadata": {
        "id": "WvA7NwbAjLRe"
      },
      "source": [
        "You are given 20 unfair coins with p = 0.55 chance of being tails. Plot the number of heads you would get after flipping all 20 coins 15 times. "
      ]
    },
    {
      "cell_type": "code",
      "metadata": {
        "id": "ylKCQWMuj4Ld",
        "colab": {
          "base_uri": "https://localhost:8080/",
          "height": 279
        },
        "outputId": "7aef8df8-17c0-4721-8b59-cc9d5d7ef840"
      },
      "source": [
        "p = 0.45\r\n",
        "n = 20\r\n",
        "r = sc.binom.rvs(n, p, size=15)\r\n",
        "\r\n",
        "plt.hist(r)\r\n",
        "plt.ylabel(\"Throws\")\r\n",
        "plt.xlabel(\"Number of Heads\")\r\n",
        "plt.show()"
      ],
      "execution_count": null,
      "outputs": [
        {
          "output_type": "display_data",
          "data": {
            "image/png": "[encoded data removed]",
            "text/plain": [
              "<Figure size 432x288 with 1 Axes>"
            ]
          },
          "metadata": {
            "tags": [],
            "needs_background": "light"
          }
        }
      ]
    },
    {
      "cell_type": "markdown",
      "metadata": {
        "id": "Y3SKHFXZj4ls"
      },
      "source": [
        "Create another plot of the number of heads your would get after flipping all 20 coins 50, 100 & 1000 times? What do you notice about the shape of the histogram as you add in more trials? Why is the shape changing?"
      ]
    },
    {
      "cell_type": "code",
      "metadata": {
        "id": "XkyGSYtvkLlM",
        "colab": {
          "base_uri": "https://localhost:8080/",
          "height": 279
        },
        "outputId": "db28bd7d-f871-4faa-9833-6f9b19ab9b83"
      },
      "source": [
        "p = 0.45\r\n",
        "n = 20\r\n",
        "r = sc.binom.rvs(n, p, size=50)\r\n",
        "\r\n",
        "plt.hist(r)\r\n",
        "plt.ylabel(\"Throws\")\r\n",
        "plt.xlabel(\"Number of Heads\")\r\n",
        "plt.show()"
      ],
      "execution_count": null,
      "outputs": [
        {
          "output_type": "display_data",
          "data": {
            "image/png": "[encoded data removed]",
            "text/plain": [
              "<Figure size 432x288 with 1 Axes>"
            ]
          },
          "metadata": {
            "tags": [],
            "needs_background": "light"
          }
        }
      ]
    },
    {
      "cell_type": "code",
      "metadata": {
        "id": "HmihD7UKkL04",
        "colab": {
          "base_uri": "https://localhost:8080/",
          "height": 279
        },
        "outputId": "482e1a18-41bb-435b-9caa-c9c64bd92e94"
      },
      "source": [
        "p = 0.45\r\n",
        "n = 20\r\n",
        "r = sc.binom.rvs(n, p, size=100)\r\n",
        "\r\n",
        "plt.hist(r)\r\n",
        "plt.ylabel(\"Throws\")\r\n",
        "plt.xlabel(\"Number of Heads\")\r\n",
        "plt.show()"
      ],
      "execution_count": null,
      "outputs": [
        {
          "output_type": "display_data",
          "data": {
            "image/png": "[encoded data removed]",
            "text/plain": [
              "<Figure size 432x288 with 1 Axes>"
            ]
          },
          "metadata": {
            "tags": [],
            "needs_background": "light"
          }
        }
      ]
    },
    {
      "cell_type": "code",
      "metadata": {
        "id": "qBqi27XPkMFp",
        "colab": {
          "base_uri": "https://localhost:8080/",
          "height": 279
        },
        "outputId": "c21e0935-7996-4a6e-acc8-5a45d8108ad1"
      },
      "source": [
        "p = 0.45\r\n",
        "n = 20\r\n",
        "r = sc.binom.rvs(n, p, size=1000)\r\n",
        "\r\n",
        "plt.hist(r)\r\n",
        "plt.ylabel(\"Throws\")\r\n",
        "plt.xlabel(\"Number of Heads\")\r\n",
        "plt.show()"
      ],
      "execution_count": null,
      "outputs": [
        {
          "output_type": "display_data",
          "data": {
            "image/png": "[encoded data removed]",
            "text/plain": [
              "<Figure size 432x288 with 1 Axes>"
            ]
          },
          "metadata": {
            "tags": [],
            "needs_background": "light"
          }
        }
      ]
    },
    {
      "cell_type": "markdown",
      "metadata": {
        "id": "Ejm6JdNTdqVf"
      },
      "source": [
        "**The distribution of the sample means are more generally evenly distributed. This is because of the Central Limit Theorem**"
      ]
    },
    {
      "cell_type": "markdown",
      "metadata": {
        "id": "eyTnsle4kMkK"
      },
      "source": [
        "You are given a bunch of random data points x = [1,3,6,4,3,83,45,878,23,21,432,34,54,6,232,100,150]. Fit this data onto a normal curve by using the population mean and variance. Plot this using a histogram with a size of 1000."
      ]
    },
    {
      "cell_type": "code",
      "metadata": {
        "id": "cZ6VsruVnzmB",
        "colab": {
          "base_uri": "https://localhost:8080/"
        },
        "outputId": "28e05875-7ed6-471b-aea6-8437cf18b611"
      },
      "source": [
        "import statistics\r\n",
        "x = [1,3,6,4,3,83,45,878,23,21,432,34,54,6,232,100,150]\r\n",
        "statistics.mean(x)"
      ],
      "execution_count": null,
      "outputs": [
        {
          "output_type": "execute_result",
          "data": {
            "text/plain": [
              "122.05882352941177"
            ]
          },
          "metadata": {
            "tags": []
          },
          "execution_count": 27
        }
      ]
    },
    {
      "cell_type": "code",
      "metadata": {
        "colab": {
          "base_uri": "https://localhost:8080/"
        },
        "id": "rHJWvpQ9lNXP",
        "outputId": "4b79a20f-7dde-4db3-ab7e-78819e4decf4"
      },
      "source": [
        "statistics.stdev(x)"
      ],
      "execution_count": null,
      "outputs": [
        {
          "output_type": "execute_result",
          "data": {
            "text/plain": [
              "224.25194274192904"
            ]
          },
          "metadata": {
            "tags": []
          },
          "execution_count": 28
        }
      ]
    },
    {
      "cell_type": "code",
      "metadata": {
        "colab": {
          "base_uri": "https://localhost:8080/",
          "height": 295
        },
        "id": "7UxhtAmVmMn4",
        "outputId": "771ec36c-1609-49c4-80e7-1c51e4076798"
      },
      "source": [
        "miu = 122.05882352941177\r\n",
        "sigma = 224.25194274192904\r\n",
        "\r\n",
        "r = sc.norm.rvs(miu, sigma, size=1000)\r\n",
        "\r\n",
        "plt.hist(r)\r\n",
        "plt.title(\"Normal Distribution\")\r\n",
        "plt.ylabel(\"Count\")\r\n",
        "plt.xlabel(\"Time\")\r\n",
        "plt.show()"
      ],
      "execution_count": null,
      "outputs": [
        {
          "output_type": "display_data",
          "data": {
            "image/png": "[encoded data removed]",
            "text/plain": [
              "<Figure size 432x288 with 1 Axes>"
            ]
          },
          "metadata": {
            "tags": [],
            "needs_background": "light"
          }
        }
      ]
    },
    {
      "cell_type": "markdown",
      "metadata": {
        "id": "SkfOJIWlnz8s"
      },
      "source": [
        "\r\n",
        "\r\n",
        "A research study was conducted to examine the differences between older and younger adults on perceived life satisfaction. A pilot study was conducted to examine this hypothesis. Ten older adults (over the age of 70) and ten younger adults (between 20 and 30) were give a life satisfaction test (known to have high reliability and validity). Scores on the measure range from 0 to 60 with high scores indicative of high life satisfaction; low scores indicative of low life satisfaction. The data are presented below. Compute the appropriate t-test and write whether we can reject the null and explain why we can or why we cannot reject the null.\r\n",
        "\r\n",
        "\r\n",
        "Old = [45, 38, 52, 48, 25, 39, 51, 46, 55, 46]\r\n",
        "\r\n",
        "Younger = [34, 22, 15, 27, 37, 41, 24, 19, 26, 36]\r\n",
        "\r\n",
        "\r\n"
      ]
    },
    {
      "cell_type": "code",
      "metadata": {
        "id": "1uhNOcRUoNqz",
        "colab": {
          "base_uri": "https://localhost:8080/"
        },
        "outputId": "d056b246-f714-4f40-9a0b-f52809701984"
      },
      "source": [
        "Old = [45, 38, 52, 48, 25, 39, 51, 46, 55, 46]\r\n",
        "Younger = [34, 22, 15, 27, 37, 41, 24, 19, 26, 36]\r\n",
        "\r\n",
        "sc.ttest_ind(Old,Younger)"
      ],
      "execution_count": null,
      "outputs": [
        {
          "output_type": "execute_result",
          "data": {
            "text/plain": [
              "Ttest_indResult(statistic=4.257546665558161, pvalue=0.0004736633119019225)"
            ]
          },
          "metadata": {
            "tags": []
          },
          "execution_count": 25
        }
      ]
    },
    {
      "cell_type": "markdown",
      "metadata": {
        "id": "yLM-S1SXigx_"
      },
      "source": [
        "**We can reject because after conducting the T-Test, the pvalue is below 0.05.**"
      ]
    },
    {
      "cell_type": "markdown",
      "metadata": {
        "id": "8x-W2EQgpVDQ"
      },
      "source": [
        "What is more likely: Getting at least one six in 6 rolls, at least two sixes in 12 rolls or at least 100 sixes in 600 rolls?"
      ]
    },
    {
      "cell_type": "code",
      "metadata": {
        "id": "wPhhX_aCrj50"
      },
      "source": [
        "import math"
      ],
      "execution_count": 67,
      "outputs": []
    },
    {
      "cell_type": "code",
      "metadata": {
        "id": "IN6X3JrgqDQv",
        "colab": {
          "base_uri": "https://localhost:8080/"
        },
        "outputId": "347bcd82-2a7f-48bc-84af-2047553d2897"
      },
      "source": [
        "#one six in 6 rolls = \r\n",
        "\r\n",
        "1-((5/6)**6)"
      ],
      "execution_count": 72,
      "outputs": [
        {
          "output_type": "execute_result",
          "data": {
            "text/plain": [
              "0.6651020233196159"
            ]
          },
          "metadata": {
            "tags": []
          },
          "execution_count": 72
        }
      ]
    },
    {
      "cell_type": "code",
      "metadata": {
        "id": "pa-ILOE4GXu-"
      },
      "source": [
        "import operator as op\r\n",
        "from functools import reduce\r\n",
        "def ncr(n, r):\r\n",
        "  r = min(r, n-r)\r\n",
        "  numer = reduce(op.mul, range(n, n-r, -1), 1)\r\n",
        "  denom = reduce(op.mul, range(1, r+1), 1)\r\n",
        "  return numer // denom"
      ],
      "execution_count": 69,
      "outputs": []
    },
    {
      "cell_type": "code",
      "metadata": {
        "colab": {
          "base_uri": "https://localhost:8080/"
        },
        "id": "NkoZlRAOoBBh",
        "outputId": "e4c9a735-a5a4-4a5f-a209-56c7c229a53c"
      },
      "source": [
        "#two sixes in 12 rolls = \r\n",
        "\r\n",
        "1 - ((5/6)**12) - ncr(12, 1)*(1/6)*(5/6)**11"
      ],
      "execution_count": 71,
      "outputs": [
        {
          "output_type": "execute_result",
          "data": {
            "text/plain": [
              "0.6186673737323085"
            ]
          },
          "metadata": {
            "tags": []
          },
          "execution_count": 71
        }
      ]
    },
    {
      "cell_type": "code",
      "metadata": {
        "id": "StFhHaJ6zqBP"
      },
      "source": [
        ""
      ],
      "execution_count": null,
      "outputs": []
    }
  ]
}