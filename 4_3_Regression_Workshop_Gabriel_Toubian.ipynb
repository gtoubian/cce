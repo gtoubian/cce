{
  "nbformat": 4,
  "nbformat_minor": 0,
  "metadata": {
    "colab": {
      "name": "4.3_Regression_Workshop_Gabriel_Toubian.ipynb",
      "provenance": [],
      "collapsed_sections": [],
      "include_colab_link": true
    },
    "kernelspec": {
      "name": "python3",
      "display_name": "Python 3"
    }
  },
  "cells": [
    {
      "cell_type": "markdown",
      "metadata": {
        "id": "view-in-github",
        "colab_type": "text"
      },
      "source": [
        "<a href=\"https://colab.research.google.com/github/gtoubian/cce/blob/main/4_3_Regression_Workshop_Gabriel_Toubian.ipynb\" target=\"_parent\"><img src=\"https://colab.research.google.com/assets/colab-badge.svg\" alt=\"Open In Colab\"/></a>"
      ]
    },
    {
      "cell_type": "markdown",
      "metadata": {
        "id": "Ik6zIffAYEa_"
      },
      "source": [
        "**Gabriel Toubian** - gtoubian@gmail.com"
      ]
    },
    {
      "cell_type": "markdown",
      "metadata": {
        "id": "OcSZciK2sJb3"
      },
      "source": [
        "#NOTE:\n",
        "Please insert a text cell at the top of the Notebook with your Full Name in Bold and your email that you use for both Journey and Github\n",
        "\n",
        "Also, add to the title of the notebook, an underscore as well as your name.\n",
        "\n",
        "Ex. '4.2_Regression_Workshop_Usama'\n",
        "\n",
        "\n",
        "#Warmup\n",
        "\n",
        "Import pandas, numpy, scipy.stats, statsmodels.api, LinearRegression from sklearn & ols from statsmodels.formula.api."
      ]
    },
    {
      "cell_type": "code",
      "metadata": {
        "id": "xmOA7tWbsjGV",
        "colab": {
          "base_uri": "https://localhost:8080/"
        },
        "outputId": "60f220b1-1c80-4f5e-c2ea-afbb80c15d1c"
      },
      "source": [
        "import pandas as pd\n",
        "import numpy as np\n",
        "import scipy.stats as sc\n",
        "import statsmodels.api as sm\n",
        "from statsmodels.formula.api import ols\n",
        "from sklearn.linear_model import LinearRegression"
      ],
      "execution_count": null,
      "outputs": [
        {
          "output_type": "stream",
          "text": [
            "/usr/local/lib/python3.7/dist-packages/statsmodels/tools/_testing.py:19: FutureWarning: pandas.util.testing is deprecated. Use the functions in the public API at pandas.testing instead.\n",
            "  import pandas.util.testing as tm\n"
          ],
          "name": "stderr"
        }
      ]
    },
    {
      "cell_type": "markdown",
      "metadata": {
        "id": "wQb6UQofskhh"
      },
      "source": [
        "#Boston Regression\n",
        "\n",
        "Using statsmodels and the `boston` dataset, make a regression model to predict house prices. Don't forget to add a constant (intercept) term. Note that statsmodels can take a `pd.DataFrame` as an input for `X`.\n",
        "\n",
        "Report the $R^2$ and coefficients on each feature."
      ]
    },
    {
      "cell_type": "code",
      "metadata": {
        "id": "8uiOTq3XsjsJ"
      },
      "source": [
        ""
      ],
      "execution_count": null,
      "outputs": []
    },
    {
      "cell_type": "markdown",
      "metadata": {
        "id": "4DRMW5Xms-ge"
      },
      "source": [
        "Use polynomial features to improve your regression model in `2.1`. You can use squared and cubic features. Try to find a model that minimizes the `AIC` or `BIC` of your output table."
      ]
    },
    {
      "cell_type": "code",
      "metadata": {
        "id": "Un73iO89tAAC"
      },
      "source": [
        ""
      ],
      "execution_count": null,
      "outputs": []
    },
    {
      "cell_type": "markdown",
      "metadata": {
        "id": "v4Gf1vprt_6P"
      },
      "source": [
        "#Regressive Tennis T-Test\n",
        "\n",
        "Use a linear regression and statsmodels to run a t-test on whether Federer scores more points than his opponents in the `tennis.csv` dataset.\n",
        "\n",
        "\n",
        "Also answer the following: should your regression include a constant term? Why or why not? How would it change the interpretation of your coefficient and p-value?"
      ]
    },
    {
      "cell_type": "code",
      "metadata": {
        "id": "t1oH0u7VuD-B"
      },
      "source": [
        ""
      ],
      "execution_count": null,
      "outputs": []
    },
    {
      "cell_type": "markdown",
      "metadata": {
        "id": "1Fq_UbACulsz"
      },
      "source": [
        "#College Admissions\n",
        "\n",
        "Using the `college.csv` dataset, answer the following:\n",
        "\n",
        "1. Do private schools see more admissions overall? Hint: use a binary explanatory variable for `Private`\n",
        "\n",
        "2. Is the relation between `Top10perc` and `Top25perc` best fit using a model with only one variable, or one variable and a polynomial of degree 2? Is a constant term useful? How would you select for the best of these model specifications?"
      ]
    },
    {
      "cell_type": "code",
      "metadata": {
        "id": "RfVT_iQIunH2"
      },
      "source": [
        ""
      ],
      "execution_count": null,
      "outputs": []
    },
    {
      "cell_type": "markdown",
      "metadata": {
        "id": "lrrXp49cu-JS"
      },
      "source": [
        "# Auto Multiple Regression\n",
        "\n",
        "Using the `auto.csv` dataset, perform a multiple linear regression with `mpg` as the response and all other variables except name in `auto` as the predictors. Comment on the output:\n",
        "\n",
        "i. Is there a relationship between the predictors and the response?\n",
        "\n",
        "ii. Which predictors appear to have a statistically significant relationship to the response?\n",
        "\n",
        "iii. What does the coefficient for the year variable suggest?"
      ]
    },
    {
      "cell_type": "code",
      "metadata": {
        "id": "7828sY6SvKBT"
      },
      "source": [
        ""
      ],
      "execution_count": null,
      "outputs": []
    }
  ]
}