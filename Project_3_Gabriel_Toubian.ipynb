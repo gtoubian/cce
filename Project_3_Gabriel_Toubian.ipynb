{
  "nbformat": 4,
  "nbformat_minor": 0,
  "metadata": {
    "colab": {
      "name": "Project 3 - Gabriel Toubian.ipynb",
      "provenance": [],
      "authorship_tag": "ABX9TyOhFj0XTkAZH0huccrRr7c3",
      "include_colab_link": true
    },
    "kernelspec": {
      "name": "python3",
      "display_name": "Python 3"
    },
    "language_info": {
      "name": "python"
    }
  },
  "cells": [
    {
      "cell_type": "markdown",
      "metadata": {
        "id": "view-in-github",
        "colab_type": "text"
      },
      "source": [
        "<a href=\"https://colab.research.google.com/github/gtoubian/cce/blob/main/Project_3_Gabriel_Toubian.ipynb\" target=\"_parent\"><img src=\"https://colab.research.google.com/assets/colab-badge.svg\" alt=\"Open In Colab\"/></a>"
      ]
    },
    {
      "cell_type": "markdown",
      "metadata": {
        "id": "Ush4QpG58qKa"
      },
      "source": [
        "##**Project 3: NHL Player Salaries**\n",
        "**By: Gabriel Toubian**"
      ]
    },
    {
      "cell_type": "markdown",
      "metadata": {
        "id": "nCA9vjPu_UtR"
      },
      "source": [
        "This project will involve the yearly salaries for NHL players and the different factors that influence them. We can make inferences that determine what makes a player more \"valuable\" to an NHL team (earn a higher salary)."
      ]
    },
    {
      "cell_type": "markdown",
      "metadata": {
        "id": "jr-jRqFhACp0"
      },
      "source": [
        "**Importing the dataset and building a pandas dataframe out of it**"
      ]
    },
    {
      "cell_type": "code",
      "metadata": {
        "colab": {
          "resources": {
            "http://localhost:8080/nbextensions/google.colab/files.js": {
              "data": "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",
              "ok": true,
              "headers": [
                [
                  "content-type",
                  "application/javascript"
                ]
              ],
              "status": 200,
              "status_text": ""
            }
          },
          "base_uri": "https://localhost:8080/",
          "height": 72
        },
        "id": "JfiHh2QA87XO",
        "outputId": "837a83cc-a49e-4a61-d290-6af517dae7c0"
      },
      "source": [
        "from google.colab import files\n",
        "data = files.upload()"
      ],
      "execution_count": null,
      "outputs": [
        {
          "output_type": "display_data",
          "data": {
            "text/html": [
              "\n",
              "     <input type=\"file\" id=\"files-e78ce114-ae73-4e49-9ae8-57399a137fc1\" name=\"files[]\" multiple disabled\n",
              "        style=\"border:none\" />\n",
              "     <output id=\"result-e78ce114-ae73-4e49-9ae8-57399a137fc1\">\n",
              "      Upload widget is only available when the cell has been executed in the\n",
              "      current browser session. Please rerun this cell to enable.\n",
              "      </output>\n",
              "      <script src=\"/nbextensions/google.colab/files.js\"></script> "
            ],
            "text/plain": [
              "<IPython.core.display.HTML object>"
            ]
          },
          "metadata": {
            "tags": []
          }
        },
        {
          "output_type": "stream",
          "text": [
            "Saving nhl.csv to nhl (2).csv\n"
          ],
          "name": "stdout"
        }
      ]
    },
    {
      "cell_type": "code",
      "metadata": {
        "id": "ooccAAwB9J8u"
      },
      "source": [
        "import pandas as pd\n",
        "\n",
        "import io\n",
        "nhl = pd.read_csv('nhl.csv', encoding = \"ISO-8859-1\")"
      ],
      "execution_count": null,
      "outputs": []
    },
    {
      "cell_type": "code",
      "metadata": {
        "id": "NPTbseia-PCW"
      },
      "source": [
        "nhl = nhl.dropna(how='any')"
      ],
      "execution_count": null,
      "outputs": []
    },
    {
      "cell_type": "code",
      "metadata": {
        "colab": {
          "base_uri": "https://localhost:8080/",
          "height": 440
        },
        "id": "QAsJGBnL-5Cc",
        "outputId": "63579d89-ee2b-4458-87be-41c7f39de580"
      },
      "source": [
        "nhl.tail()"
      ],
      "execution_count": null,
      "outputs": [
        {
          "output_type": "execute_result",
          "data": {
            "text/html": [
              "<div>\n",
              "<style scoped>\n",
              "    .dataframe tbody tr th:only-of-type {\n",
              "        vertical-align: middle;\n",
              "    }\n",
              "\n",
              "    .dataframe tbody tr th {\n",
              "        vertical-align: top;\n",
              "    }\n",
              "\n",
              "    .dataframe thead th {\n",
              "        text-align: right;\n",
              "    }\n",
              "</style>\n",
              "<table border=\"1\" class=\"dataframe\">\n",
              "  <thead>\n",
              "    <tr style=\"text-align: right;\">\n",
              "      <th></th>\n",
              "      <th>Salary</th>\n",
              "      <th>Born</th>\n",
              "      <th>City</th>\n",
              "      <th>Pr/St</th>\n",
              "      <th>Cntry</th>\n",
              "      <th>Nat</th>\n",
              "      <th>Ht</th>\n",
              "      <th>Wt</th>\n",
              "      <th>DftYr</th>\n",
              "      <th>DftRd</th>\n",
              "      <th>Ovrl</th>\n",
              "      <th>Hand</th>\n",
              "      <th>Last Name</th>\n",
              "      <th>First Name</th>\n",
              "      <th>Position</th>\n",
              "      <th>Team</th>\n",
              "      <th>GP</th>\n",
              "      <th>G</th>\n",
              "      <th>A</th>\n",
              "      <th>A1</th>\n",
              "      <th>A2</th>\n",
              "      <th>PTS</th>\n",
              "      <th>+/-</th>\n",
              "      <th>E+/-</th>\n",
              "      <th>PIM</th>\n",
              "      <th>Shifts</th>\n",
              "      <th>TOI</th>\n",
              "      <th>TOIX</th>\n",
              "      <th>TOI/GP</th>\n",
              "      <th>TOI/GP.1</th>\n",
              "      <th>TOI%</th>\n",
              "      <th>IPP%</th>\n",
              "      <th>SH%</th>\n",
              "      <th>SV%</th>\n",
              "      <th>PDO</th>\n",
              "      <th>F/60</th>\n",
              "      <th>A/60</th>\n",
              "      <th>Pct%</th>\n",
              "      <th>Diff</th>\n",
              "      <th>Diff/60</th>\n",
              "      <th>...</th>\n",
              "      <th>Min</th>\n",
              "      <th>Maj</th>\n",
              "      <th>Match</th>\n",
              "      <th>Misc</th>\n",
              "      <th>Game</th>\n",
              "      <th>CF</th>\n",
              "      <th>CA</th>\n",
              "      <th>FF</th>\n",
              "      <th>FA</th>\n",
              "      <th>SF</th>\n",
              "      <th>SA</th>\n",
              "      <th>xGF</th>\n",
              "      <th>xGA</th>\n",
              "      <th>SCF</th>\n",
              "      <th>SCA</th>\n",
              "      <th>GF</th>\n",
              "      <th>GA</th>\n",
              "      <th>RBF</th>\n",
              "      <th>RBA</th>\n",
              "      <th>RSF</th>\n",
              "      <th>RSA</th>\n",
              "      <th>DSF</th>\n",
              "      <th>DSA</th>\n",
              "      <th>FOW</th>\n",
              "      <th>FOL</th>\n",
              "      <th>HF</th>\n",
              "      <th>HA</th>\n",
              "      <th>GVA</th>\n",
              "      <th>TKA</th>\n",
              "      <th>PENT</th>\n",
              "      <th>PEND</th>\n",
              "      <th>OPS</th>\n",
              "      <th>DPS</th>\n",
              "      <th>PS</th>\n",
              "      <th>OTOI</th>\n",
              "      <th>Grit</th>\n",
              "      <th>DAP</th>\n",
              "      <th>Pace</th>\n",
              "      <th>GS</th>\n",
              "      <th>GS/G</th>\n",
              "    </tr>\n",
              "  </thead>\n",
              "  <tbody>\n",
              "    <tr>\n",
              "      <th>606</th>\n",
              "      <td>680000</td>\n",
              "      <td>93-04-16</td>\n",
              "      <td>Burnsville</td>\n",
              "      <td>MN</td>\n",
              "      <td>USA</td>\n",
              "      <td>USA</td>\n",
              "      <td>77</td>\n",
              "      <td>210</td>\n",
              "      <td>2011.0</td>\n",
              "      <td>4.0</td>\n",
              "      <td>101.0</td>\n",
              "      <td>L</td>\n",
              "      <td>Labate</td>\n",
              "      <td>Joseph</td>\n",
              "      <td>C</td>\n",
              "      <td>VAN</td>\n",
              "      <td>13</td>\n",
              "      <td>0</td>\n",
              "      <td>0</td>\n",
              "      <td>0</td>\n",
              "      <td>0</td>\n",
              "      <td>0</td>\n",
              "      <td>-2</td>\n",
              "      <td>-1.3</td>\n",
              "      <td>21</td>\n",
              "      <td>147</td>\n",
              "      <td>5276</td>\n",
              "      <td>88.0</td>\n",
              "      <td>6.77</td>\n",
              "      <td>6.77</td>\n",
              "      <td>13.1</td>\n",
              "      <td>0.0</td>\n",
              "      <td>6.3</td>\n",
              "      <td>0.909</td>\n",
              "      <td>972.0</td>\n",
              "      <td>1.36</td>\n",
              "      <td>2.73</td>\n",
              "      <td>33.3</td>\n",
              "      <td>-2</td>\n",
              "      <td>-1.36</td>\n",
              "      <td>...</td>\n",
              "      <td>3</td>\n",
              "      <td>3</td>\n",
              "      <td>0</td>\n",
              "      <td>0</td>\n",
              "      <td>0</td>\n",
              "      <td>68.0</td>\n",
              "      <td>89.0</td>\n",
              "      <td>47.0</td>\n",
              "      <td>66.0</td>\n",
              "      <td>32.0</td>\n",
              "      <td>44.0</td>\n",
              "      <td>2.3</td>\n",
              "      <td>3.2</td>\n",
              "      <td>8.0</td>\n",
              "      <td>7.0</td>\n",
              "      <td>2.0</td>\n",
              "      <td>4.0</td>\n",
              "      <td>0.0</td>\n",
              "      <td>5.0</td>\n",
              "      <td>6.0</td>\n",
              "      <td>5.0</td>\n",
              "      <td>6</td>\n",
              "      <td>10</td>\n",
              "      <td>35.0</td>\n",
              "      <td>35.0</td>\n",
              "      <td>54.0</td>\n",
              "      <td>42.0</td>\n",
              "      <td>13.0</td>\n",
              "      <td>11.0</td>\n",
              "      <td>9.0</td>\n",
              "      <td>4.0</td>\n",
              "      <td>-0.2</td>\n",
              "      <td>0.0</td>\n",
              "      <td>-0.2</td>\n",
              "      <td>581.67</td>\n",
              "      <td>49</td>\n",
              "      <td>8.7</td>\n",
              "      <td>107.1</td>\n",
              "      <td>-1.2</td>\n",
              "      <td>-0.09</td>\n",
              "    </tr>\n",
              "    <tr>\n",
              "      <th>607</th>\n",
              "      <td>600000</td>\n",
              "      <td>92-09-26</td>\n",
              "      <td>Denver</td>\n",
              "      <td>CO</td>\n",
              "      <td>USA</td>\n",
              "      <td>USA</td>\n",
              "      <td>73</td>\n",
              "      <td>201</td>\n",
              "      <td>2011.0</td>\n",
              "      <td>3.0</td>\n",
              "      <td>82.0</td>\n",
              "      <td>R</td>\n",
              "      <td>Shore</td>\n",
              "      <td>Nick</td>\n",
              "      <td>C</td>\n",
              "      <td>L.A</td>\n",
              "      <td>70</td>\n",
              "      <td>6</td>\n",
              "      <td>11</td>\n",
              "      <td>6</td>\n",
              "      <td>5</td>\n",
              "      <td>17</td>\n",
              "      <td>-2</td>\n",
              "      <td>4.2</td>\n",
              "      <td>20</td>\n",
              "      <td>1258</td>\n",
              "      <td>53712</td>\n",
              "      <td>894.6</td>\n",
              "      <td>12.78</td>\n",
              "      <td>12.78</td>\n",
              "      <td>22.8</td>\n",
              "      <td>65.4</td>\n",
              "      <td>6.6</td>\n",
              "      <td>0.920</td>\n",
              "      <td>985.0</td>\n",
              "      <td>1.74</td>\n",
              "      <td>2.01</td>\n",
              "      <td>46.4</td>\n",
              "      <td>-4</td>\n",
              "      <td>-0.27</td>\n",
              "      <td>...</td>\n",
              "      <td>10</td>\n",
              "      <td>0</td>\n",
              "      <td>0</td>\n",
              "      <td>0</td>\n",
              "      <td>0</td>\n",
              "      <td>780.0</td>\n",
              "      <td>764.0</td>\n",
              "      <td>569.0</td>\n",
              "      <td>569.0</td>\n",
              "      <td>395.0</td>\n",
              "      <td>373.0</td>\n",
              "      <td>32.9</td>\n",
              "      <td>33.6</td>\n",
              "      <td>106.0</td>\n",
              "      <td>106.0</td>\n",
              "      <td>26.0</td>\n",
              "      <td>30.0</td>\n",
              "      <td>33.0</td>\n",
              "      <td>20.0</td>\n",
              "      <td>38.0</td>\n",
              "      <td>38.0</td>\n",
              "      <td>71</td>\n",
              "      <td>58</td>\n",
              "      <td>383.0</td>\n",
              "      <td>382.0</td>\n",
              "      <td>439.0</td>\n",
              "      <td>429.0</td>\n",
              "      <td>113.0</td>\n",
              "      <td>48.0</td>\n",
              "      <td>55.0</td>\n",
              "      <td>47.0</td>\n",
              "      <td>0.0</td>\n",
              "      <td>1.3</td>\n",
              "      <td>1.3</td>\n",
              "      <td>3023.36</td>\n",
              "      <td>100</td>\n",
              "      <td>6.9</td>\n",
              "      <td>103.6</td>\n",
              "      <td>23.2</td>\n",
              "      <td>0.33</td>\n",
              "    </tr>\n",
              "    <tr>\n",
              "      <th>608</th>\n",
              "      <td>9000000</td>\n",
              "      <td>85-01-21</td>\n",
              "      <td>Madison</td>\n",
              "      <td>WI</td>\n",
              "      <td>USA</td>\n",
              "      <td>USA</td>\n",
              "      <td>74</td>\n",
              "      <td>206</td>\n",
              "      <td>2003.0</td>\n",
              "      <td>1.0</td>\n",
              "      <td>7.0</td>\n",
              "      <td>L</td>\n",
              "      <td>Suter</td>\n",
              "      <td>Ryan</td>\n",
              "      <td>D</td>\n",
              "      <td>MIN</td>\n",
              "      <td>82</td>\n",
              "      <td>9</td>\n",
              "      <td>31</td>\n",
              "      <td>10</td>\n",
              "      <td>21</td>\n",
              "      <td>40</td>\n",
              "      <td>34</td>\n",
              "      <td>19.7</td>\n",
              "      <td>36</td>\n",
              "      <td>2319</td>\n",
              "      <td>132469</td>\n",
              "      <td>2190.7</td>\n",
              "      <td>26.93</td>\n",
              "      <td>26.86</td>\n",
              "      <td>44.7</td>\n",
              "      <td>34.5</td>\n",
              "      <td>10.2</td>\n",
              "      <td>0.927</td>\n",
              "      <td>1029.0</td>\n",
              "      <td>3.18</td>\n",
              "      <td>2.14</td>\n",
              "      <td>59.8</td>\n",
              "      <td>38</td>\n",
              "      <td>1.04</td>\n",
              "      <td>...</td>\n",
              "      <td>18</td>\n",
              "      <td>0</td>\n",
              "      <td>0</td>\n",
              "      <td>0</td>\n",
              "      <td>0</td>\n",
              "      <td>2056.0</td>\n",
              "      <td>2009.0</td>\n",
              "      <td>1546.0</td>\n",
              "      <td>1510.0</td>\n",
              "      <td>1137.0</td>\n",
              "      <td>1073.0</td>\n",
              "      <td>107.8</td>\n",
              "      <td>82.6</td>\n",
              "      <td>361.0</td>\n",
              "      <td>244.0</td>\n",
              "      <td>116.0</td>\n",
              "      <td>78.0</td>\n",
              "      <td>110.0</td>\n",
              "      <td>50.0</td>\n",
              "      <td>98.0</td>\n",
              "      <td>52.0</td>\n",
              "      <td>208</td>\n",
              "      <td>102</td>\n",
              "      <td>1257.0</td>\n",
              "      <td>1122.0</td>\n",
              "      <td>513.0</td>\n",
              "      <td>583.0</td>\n",
              "      <td>198.0</td>\n",
              "      <td>247.0</td>\n",
              "      <td>95.0</td>\n",
              "      <td>112.0</td>\n",
              "      <td>2.7</td>\n",
              "      <td>6.6</td>\n",
              "      <td>9.3</td>\n",
              "      <td>2715.54</td>\n",
              "      <td>213</td>\n",
              "      <td>6.3</td>\n",
              "      <td>111.3</td>\n",
              "      <td>44.1</td>\n",
              "      <td>0.54</td>\n",
              "    </tr>\n",
              "    <tr>\n",
              "      <th>609</th>\n",
              "      <td>4250000</td>\n",
              "      <td>87-03-30</td>\n",
              "      <td>Montreal</td>\n",
              "      <td>QC</td>\n",
              "      <td>CAN</td>\n",
              "      <td>CAN</td>\n",
              "      <td>73</td>\n",
              "      <td>205</td>\n",
              "      <td>2005.0</td>\n",
              "      <td>2.0</td>\n",
              "      <td>35.0</td>\n",
              "      <td>L</td>\n",
              "      <td>Vlasic</td>\n",
              "      <td>Marc-Edouard</td>\n",
              "      <td>D</td>\n",
              "      <td>S.J</td>\n",
              "      <td>75</td>\n",
              "      <td>6</td>\n",
              "      <td>22</td>\n",
              "      <td>14</td>\n",
              "      <td>8</td>\n",
              "      <td>28</td>\n",
              "      <td>4</td>\n",
              "      <td>0.6</td>\n",
              "      <td>35</td>\n",
              "      <td>1982</td>\n",
              "      <td>95555</td>\n",
              "      <td>1573.0</td>\n",
              "      <td>21.07</td>\n",
              "      <td>21.09</td>\n",
              "      <td>35.5</td>\n",
              "      <td>43.8</td>\n",
              "      <td>9.2</td>\n",
              "      <td>0.908</td>\n",
              "      <td>1000.0</td>\n",
              "      <td>2.44</td>\n",
              "      <td>2.52</td>\n",
              "      <td>49.2</td>\n",
              "      <td>-2</td>\n",
              "      <td>-0.08</td>\n",
              "      <td>...</td>\n",
              "      <td>10</td>\n",
              "      <td>1</td>\n",
              "      <td>0</td>\n",
              "      <td>0</td>\n",
              "      <td>1</td>\n",
              "      <td>1334.0</td>\n",
              "      <td>1519.0</td>\n",
              "      <td>980.0</td>\n",
              "      <td>1038.0</td>\n",
              "      <td>693.0</td>\n",
              "      <td>714.0</td>\n",
              "      <td>60.1</td>\n",
              "      <td>65.0</td>\n",
              "      <td>196.0</td>\n",
              "      <td>215.0</td>\n",
              "      <td>64.0</td>\n",
              "      <td>66.0</td>\n",
              "      <td>42.0</td>\n",
              "      <td>42.0</td>\n",
              "      <td>60.0</td>\n",
              "      <td>71.0</td>\n",
              "      <td>102</td>\n",
              "      <td>113</td>\n",
              "      <td>739.0</td>\n",
              "      <td>833.0</td>\n",
              "      <td>426.0</td>\n",
              "      <td>513.0</td>\n",
              "      <td>311.0</td>\n",
              "      <td>189.0</td>\n",
              "      <td>67.0</td>\n",
              "      <td>75.0</td>\n",
              "      <td>1.7</td>\n",
              "      <td>4.1</td>\n",
              "      <td>5.8</td>\n",
              "      <td>2855.83</td>\n",
              "      <td>200</td>\n",
              "      <td>4.1</td>\n",
              "      <td>108.8</td>\n",
              "      <td>32.5</td>\n",
              "      <td>0.43</td>\n",
              "    </tr>\n",
              "    <tr>\n",
              "      <th>611</th>\n",
              "      <td>925000</td>\n",
              "      <td>93-05-12</td>\n",
              "      <td>St. Albert</td>\n",
              "      <td>AB</td>\n",
              "      <td>CAN</td>\n",
              "      <td>CAN</td>\n",
              "      <td>78</td>\n",
              "      <td>226</td>\n",
              "      <td>2012.0</td>\n",
              "      <td>3.0</td>\n",
              "      <td>86.0</td>\n",
              "      <td>R</td>\n",
              "      <td>Parayko</td>\n",
              "      <td>Colton</td>\n",
              "      <td>D</td>\n",
              "      <td>STL</td>\n",
              "      <td>81</td>\n",
              "      <td>4</td>\n",
              "      <td>31</td>\n",
              "      <td>17</td>\n",
              "      <td>14</td>\n",
              "      <td>35</td>\n",
              "      <td>7</td>\n",
              "      <td>1.7</td>\n",
              "      <td>32</td>\n",
              "      <td>2365</td>\n",
              "      <td>103018</td>\n",
              "      <td>1712.4</td>\n",
              "      <td>21.20</td>\n",
              "      <td>21.18</td>\n",
              "      <td>35.4</td>\n",
              "      <td>46.1</td>\n",
              "      <td>9.2</td>\n",
              "      <td>0.917</td>\n",
              "      <td>1009.0</td>\n",
              "      <td>2.66</td>\n",
              "      <td>2.24</td>\n",
              "      <td>54.3</td>\n",
              "      <td>12</td>\n",
              "      <td>0.42</td>\n",
              "      <td>...</td>\n",
              "      <td>16</td>\n",
              "      <td>0</td>\n",
              "      <td>0</td>\n",
              "      <td>0</td>\n",
              "      <td>0</td>\n",
              "      <td>1507.0</td>\n",
              "      <td>1462.0</td>\n",
              "      <td>1127.0</td>\n",
              "      <td>1081.0</td>\n",
              "      <td>826.0</td>\n",
              "      <td>771.0</td>\n",
              "      <td>65.8</td>\n",
              "      <td>66.0</td>\n",
              "      <td>208.0</td>\n",
              "      <td>222.0</td>\n",
              "      <td>76.0</td>\n",
              "      <td>64.0</td>\n",
              "      <td>45.0</td>\n",
              "      <td>43.0</td>\n",
              "      <td>62.0</td>\n",
              "      <td>54.0</td>\n",
              "      <td>107</td>\n",
              "      <td>97</td>\n",
              "      <td>813.0</td>\n",
              "      <td>815.0</td>\n",
              "      <td>578.0</td>\n",
              "      <td>642.0</td>\n",
              "      <td>150.0</td>\n",
              "      <td>174.0</td>\n",
              "      <td>100.0</td>\n",
              "      <td>100.0</td>\n",
              "      <td>2.2</td>\n",
              "      <td>4.5</td>\n",
              "      <td>6.7</td>\n",
              "      <td>3119.42</td>\n",
              "      <td>229</td>\n",
              "      <td>7.4</td>\n",
              "      <td>104.0</td>\n",
              "      <td>45.8</td>\n",
              "      <td>0.56</td>\n",
              "    </tr>\n",
              "  </tbody>\n",
              "</table>\n",
              "<p>5 rows × 154 columns</p>\n",
              "</div>"
            ],
            "text/plain": [
              "      Salary      Born        City Pr/St Cntry  ... Grit  DAP   Pace    GS  GS/G\n",
              "606   680000  93-04-16  Burnsville    MN   USA  ...   49  8.7  107.1  -1.2 -0.09\n",
              "607   600000  92-09-26      Denver    CO   USA  ...  100  6.9  103.6  23.2  0.33\n",
              "608  9000000  85-01-21     Madison    WI   USA  ...  213  6.3  111.3  44.1  0.54\n",
              "609  4250000  87-03-30    Montreal    QC   CAN  ...  200  4.1  108.8  32.5  0.43\n",
              "611   925000  93-05-12  St. Albert    AB   CAN  ...  229  7.4  104.0  45.8  0.56\n",
              "\n",
              "[5 rows x 154 columns]"
            ]
          },
          "metadata": {
            "tags": []
          },
          "execution_count": 166
        }
      ]
    },
    {
      "cell_type": "markdown",
      "metadata": {
        "id": "PBXpIn_wCwhC"
      },
      "source": [
        "We can see this dataset includes the salaries and stats for 612 players."
      ]
    },
    {
      "cell_type": "markdown",
      "metadata": {
        "id": "sXvleWTLA5DJ"
      },
      "source": [
        "# Hypothesis testing"
      ]
    },
    {
      "cell_type": "markdown",
      "metadata": {
        "id": "vyI1ABC2B9RQ"
      },
      "source": [
        "Whether a player is left or right handed can have on impact on the type of position they can play optimally. Therefore, do players of a certain handedness come at a premium? Let's start by seeing if whether a player is **left or right handed** has an impact on their salary. We can run a one-way ANOVA test to see if this factor is statistically significant."
      ]
    },
    {
      "cell_type": "code",
      "metadata": {
        "id": "1n5a01koARHf"
      },
      "source": [
        "import statsmodels.api as sm\n",
        "from statsmodels.formula.api import ols\n",
        "import numpy as np\n",
        "import scipy.stats as sc"
      ],
      "execution_count": null,
      "outputs": []
    },
    {
      "cell_type": "code",
      "metadata": {
        "colab": {
          "base_uri": "https://localhost:8080/"
        },
        "id": "WmJjJsFiDMlw",
        "outputId": "bb9fb7e1-2d99-40ec-a2ef-6adccb564956"
      },
      "source": [
        "nhlhand = nhl[[\"Hand\", \"Salary\"]]\n",
        "Left = np.array(nhlhand[nhlhand[\"Hand\"]==\"L\"][\"Salary\"])\n",
        "Right = np.array(nhlhand[nhlhand[\"Hand\"]==\"R\"][\"Salary\"])\n",
        "\n",
        "sc.f_oneway(Left, Right)"
      ],
      "execution_count": null,
      "outputs": [
        {
          "output_type": "execute_result",
          "data": {
            "text/plain": [
              "F_onewayResult(statistic=0.03681398777778426, pvalue=0.8479533459419761)"
            ]
          },
          "metadata": {
            "tags": []
          },
          "execution_count": 168
        }
      ]
    },
    {
      "cell_type": "markdown",
      "metadata": {
        "id": "4noMbYR4H2K7"
      },
      "source": [
        "With a p-value of well over 0.05, we cannot reject the null hypothesis, which means that a player's handedness doesn't necessarily play a sigificant part in determining their salary."
      ]
    },
    {
      "cell_type": "markdown",
      "metadata": {
        "id": "Px0YgOkEKfXX"
      },
      "source": [
        "How about a player's **Nationality**? Do certain countries have a tendency of producing more \"valuable\" players through their programs? Let's take 2 countries that have a tendency to finish relatively high in country-based competitions: **Canada and USA**"
      ]
    },
    {
      "cell_type": "code",
      "metadata": {
        "id": "eVq1VIvVEWOM"
      },
      "source": [
        "nhlnat = nhl[[\"Nat\", \"Salary\"]]"
      ],
      "execution_count": null,
      "outputs": []
    },
    {
      "cell_type": "code",
      "metadata": {
        "id": "9MMQRakzLwpg"
      },
      "source": [
        "nhlnat = nhlnat[(nhlnat.Nat == 'CAN') | (nhlnat.Nat == 'USA')]"
      ],
      "execution_count": null,
      "outputs": []
    },
    {
      "cell_type": "code",
      "metadata": {
        "colab": {
          "base_uri": "https://localhost:8080/"
        },
        "id": "A5px-_AFe1pB",
        "outputId": "d4bd0717-406f-42f3-d7c9-8ae30c8c7cfa"
      },
      "source": [
        "Canadian = np.array(nhlnat[nhlnat[\"Nat\"]==\"CAN\"][\"Salary\"])\n",
        "American = np.array(nhlnat[nhlnat[\"Nat\"]==\"USA\"][\"Salary\"])\n",
        "\n",
        "sc.f_oneway(Canadian, American)"
      ],
      "execution_count": null,
      "outputs": [
        {
          "output_type": "execute_result",
          "data": {
            "text/plain": [
              "F_onewayResult(statistic=0.019945699195699655, pvalue=0.8877687260535069)"
            ]
          },
          "metadata": {
            "tags": []
          },
          "execution_count": 171
        }
      ]
    },
    {
      "cell_type": "markdown",
      "metadata": {
        "id": "10ikUCtXfa8O"
      },
      "source": [
        "With a p-value of well over 0.05, we cannot reject the null hypothesis, which means that a player's nationality (in this case, whether they are Canadian or American) doesn't necessarily play a sigificant part in determining their salary."
      ]
    },
    {
      "cell_type": "markdown",
      "metadata": {
        "id": "Klw_fbnFh5Ut"
      },
      "source": [
        "# Multiple Regression"
      ]
    },
    {
      "cell_type": "markdown",
      "metadata": {
        "id": "Sjj-Y28qiouU"
      },
      "source": [
        "Let's build a regressional model to see which numerical features play a significant part in determining a player's salary. Not adding a constant yields a higher adjusted R-squared, so we will not add one."
      ]
    },
    {
      "cell_type": "code",
      "metadata": {
        "id": "LutRLDiVhvyr"
      },
      "source": [
        "nhl2=nhl.copy()"
      ],
      "execution_count": null,
      "outputs": []
    },
    {
      "cell_type": "code",
      "metadata": {
        "id": "ycg8WR43juds"
      },
      "source": [
        "del nhl2['Salary']\n",
        "del nhl2['Born']\n",
        "del nhl2['City']\n",
        "del nhl2['Pr/St']\n",
        "del nhl2['Cntry']\n",
        "del nhl2['Nat']\n",
        "del nhl2['DftYr']\n",
        "del nhl2['Hand']\n",
        "del nhl2['Last Name']\n",
        "del nhl2['First Name']\n",
        "del nhl2['Position']\n",
        "del nhl2['Team']"
      ],
      "execution_count": null,
      "outputs": []
    },
    {
      "cell_type": "code",
      "metadata": {
        "colab": {
          "base_uri": "https://localhost:8080/",
          "height": 1000
        },
        "id": "WLew1H3blpW9",
        "outputId": "d2d972c0-2060-4118-85cc-613c07f33ca1"
      },
      "source": [
        "X = nhl2\n",
        "y = nhl['Salary']\n",
        "sm.OLS(y, X).fit().summary()"
      ],
      "execution_count": null,
      "outputs": [
        {
          "output_type": "execute_result",
          "data": {
            "text/html": [
              "<table class=\"simpletable\">\n",
              "<caption>OLS Regression Results</caption>\n",
              "<tr>\n",
              "  <th>Dep. Variable:</th>         <td>Salary</td>      <th>  R-squared (uncentered):</th>      <td>   0.904</td> \n",
              "</tr>\n",
              "<tr>\n",
              "  <th>Model:</th>                   <td>OLS</td>       <th>  Adj. R-squared (uncentered):</th> <td>   0.848</td> \n",
              "</tr>\n",
              "<tr>\n",
              "  <th>Method:</th>             <td>Least Squares</td>  <th>  F-statistic:       </th>          <td>   16.01</td> \n",
              "</tr>\n",
              "<tr>\n",
              "  <th>Date:</th>             <td>Fri, 23 Apr 2021</td> <th>  Prob (F-statistic):</th>          <td>7.72e-69</td> \n",
              "</tr>\n",
              "<tr>\n",
              "  <th>Time:</th>                 <td>19:23:22</td>     <th>  Log-Likelihood:    </th>          <td> -5493.7</td> \n",
              "</tr>\n",
              "<tr>\n",
              "  <th>No. Observations:</th>      <td>   359</td>      <th>  AIC:               </th>          <td>1.125e+04</td>\n",
              "</tr>\n",
              "<tr>\n",
              "  <th>Df Residuals:</th>          <td>   226</td>      <th>  BIC:               </th>          <td>1.177e+04</td>\n",
              "</tr>\n",
              "<tr>\n",
              "  <th>Df Model:</th>              <td>   133</td>      <th>                     </th>              <td> </td>    \n",
              "</tr>\n",
              "<tr>\n",
              "  <th>Covariance Type:</th>      <td>nonrobust</td>    <th>                     </th>              <td> </td>    \n",
              "</tr>\n",
              "</table>\n",
              "<table class=\"simpletable\">\n",
              "<tr>\n",
              "      <td></td>         <th>coef</th>     <th>std err</th>      <th>t</th>      <th>P>|t|</th>  <th>[0.025</th>    <th>0.975]</th>  \n",
              "</tr>\n",
              "<tr>\n",
              "  <th>Ht</th>        <td>-1.049e+05</td> <td> 6.03e+04</td> <td>   -1.740</td> <td> 0.083</td> <td>-2.24e+05</td> <td> 1.39e+04</td>\n",
              "</tr>\n",
              "<tr>\n",
              "  <th>Wt</th>        <td> 2.711e+04</td> <td> 9264.395</td> <td>    2.926</td> <td> 0.004</td> <td> 8856.513</td> <td> 4.54e+04</td>\n",
              "</tr>\n",
              "<tr>\n",
              "  <th>DftRd</th>     <td>-1.762e+05</td> <td> 3.08e+05</td> <td>   -0.572</td> <td> 0.568</td> <td>-7.83e+05</td> <td> 4.31e+05</td>\n",
              "</tr>\n",
              "<tr>\n",
              "  <th>Ovrl</th>      <td> 4083.7337</td> <td> 9921.463</td> <td>    0.412</td> <td> 0.681</td> <td>-1.55e+04</td> <td> 2.36e+04</td>\n",
              "</tr>\n",
              "<tr>\n",
              "  <th>GP</th>        <td>-7.935e+04</td> <td> 9.09e+04</td> <td>   -0.873</td> <td> 0.384</td> <td>-2.58e+05</td> <td> 9.98e+04</td>\n",
              "</tr>\n",
              "<tr>\n",
              "  <th>G</th>         <td>-2.674e+06</td> <td> 3.09e+06</td> <td>   -0.865</td> <td> 0.388</td> <td>-8.76e+06</td> <td> 3.41e+06</td>\n",
              "</tr>\n",
              "<tr>\n",
              "  <th>A</th>         <td>-9.474e+06</td> <td> 2.78e+06</td> <td>   -3.412</td> <td> 0.001</td> <td>-1.49e+07</td> <td>   -4e+06</td>\n",
              "</tr>\n",
              "<tr>\n",
              "  <th>A1</th>        <td> 5.755e+06</td> <td> 2.17e+06</td> <td>    2.657</td> <td> 0.008</td> <td> 1.49e+06</td> <td>    1e+07</td>\n",
              "</tr>\n",
              "<tr>\n",
              "  <th>A2</th>        <td> 5.715e+06</td> <td> 2.16e+06</td> <td>    2.645</td> <td> 0.009</td> <td> 1.46e+06</td> <td> 9.97e+06</td>\n",
              "</tr>\n",
              "<tr>\n",
              "  <th>PTS</th>       <td> 3.899e+06</td> <td> 1.92e+06</td> <td>    2.032</td> <td> 0.043</td> <td> 1.19e+05</td> <td> 7.68e+06</td>\n",
              "</tr>\n",
              "<tr>\n",
              "  <th>+/-</th>       <td>-2902.2398</td> <td>  3.1e+04</td> <td>   -0.094</td> <td> 0.926</td> <td> -6.4e+04</td> <td> 5.82e+04</td>\n",
              "</tr>\n",
              "<tr>\n",
              "  <th>E+/-</th>      <td> 4.434e+04</td> <td> 4.79e+04</td> <td>    0.925</td> <td> 0.356</td> <td>-5.01e+04</td> <td> 1.39e+05</td>\n",
              "</tr>\n",
              "<tr>\n",
              "  <th>PIM</th>       <td> 1.181e+04</td> <td>  9.6e+04</td> <td>    0.123</td> <td> 0.902</td> <td>-1.77e+05</td> <td> 2.01e+05</td>\n",
              "</tr>\n",
              "<tr>\n",
              "  <th>Shifts</th>    <td>-3462.9948</td> <td> 1476.993</td> <td>   -2.345</td> <td> 0.020</td> <td>-6373.433</td> <td> -552.557</td>\n",
              "</tr>\n",
              "<tr>\n",
              "  <th>TOI</th>       <td> -417.0925</td> <td>  556.409</td> <td>   -0.750</td> <td> 0.454</td> <td>-1513.506</td> <td>  679.321</td>\n",
              "</tr>\n",
              "<tr>\n",
              "  <th>TOIX</th>      <td> 3.197e+04</td> <td> 3.33e+04</td> <td>    0.960</td> <td> 0.338</td> <td>-3.37e+04</td> <td> 9.76e+04</td>\n",
              "</tr>\n",
              "<tr>\n",
              "  <th>TOI/GP</th>    <td> 1.198e+06</td> <td> 2.34e+06</td> <td>    0.513</td> <td> 0.609</td> <td> -3.4e+06</td> <td>  5.8e+06</td>\n",
              "</tr>\n",
              "<tr>\n",
              "  <th>TOI/GP.1</th>  <td> -8.99e+05</td> <td> 2.34e+06</td> <td>   -0.384</td> <td> 0.702</td> <td>-5.52e+06</td> <td> 3.72e+06</td>\n",
              "</tr>\n",
              "<tr>\n",
              "  <th>TOI%</th>      <td>-1.628e+05</td> <td> 1.69e+05</td> <td>   -0.966</td> <td> 0.335</td> <td>-4.95e+05</td> <td> 1.69e+05</td>\n",
              "</tr>\n",
              "<tr>\n",
              "  <th>IPP%</th>      <td>-4034.9291</td> <td> 5179.287</td> <td>   -0.779</td> <td> 0.437</td> <td>-1.42e+04</td> <td> 6170.940</td>\n",
              "</tr>\n",
              "<tr>\n",
              "  <th>SH%</th>       <td> 7.482e+05</td> <td>  1.9e+06</td> <td>    0.394</td> <td> 0.694</td> <td>-2.99e+06</td> <td> 4.49e+06</td>\n",
              "</tr>\n",
              "<tr>\n",
              "  <th>SV%</th>       <td> 7.055e+07</td> <td> 1.89e+08</td> <td>    0.374</td> <td> 0.709</td> <td>-3.01e+08</td> <td> 4.42e+08</td>\n",
              "</tr>\n",
              "<tr>\n",
              "  <th>PDO</th>       <td>-6.772e+04</td> <td> 1.89e+05</td> <td>   -0.359</td> <td> 0.720</td> <td> -4.4e+05</td> <td> 3.04e+05</td>\n",
              "</tr>\n",
              "<tr>\n",
              "  <th>F/60</th>      <td>-2.205e+07</td> <td>  1.8e+07</td> <td>   -1.223</td> <td> 0.223</td> <td>-5.76e+07</td> <td> 1.35e+07</td>\n",
              "</tr>\n",
              "<tr>\n",
              "  <th>A/60</th>      <td> 2.186e+07</td> <td>  1.8e+07</td> <td>    1.212</td> <td> 0.227</td> <td>-1.37e+07</td> <td> 5.74e+07</td>\n",
              "</tr>\n",
              "<tr>\n",
              "  <th>Pct%</th>      <td>-6336.6469</td> <td> 9267.814</td> <td>   -0.684</td> <td> 0.495</td> <td>-2.46e+04</td> <td> 1.19e+04</td>\n",
              "</tr>\n",
              "<tr>\n",
              "  <th>Diff</th>      <td>-1.647e+04</td> <td> 1.78e+04</td> <td>   -0.926</td> <td> 0.355</td> <td>-5.15e+04</td> <td> 1.86e+04</td>\n",
              "</tr>\n",
              "<tr>\n",
              "  <th>Diff/60</th>   <td> 2.184e+07</td> <td>  1.8e+07</td> <td>    1.210</td> <td> 0.227</td> <td>-1.37e+07</td> <td> 5.74e+07</td>\n",
              "</tr>\n",
              "<tr>\n",
              "  <th>iCF</th>       <td>-1.834e+05</td> <td>  7.5e+04</td> <td>   -2.444</td> <td> 0.015</td> <td>-3.31e+05</td> <td>-3.55e+04</td>\n",
              "</tr>\n",
              "<tr>\n",
              "  <th>iCF.1</th>     <td> 1.866e+05</td> <td> 7.65e+04</td> <td>    2.440</td> <td> 0.015</td> <td> 3.59e+04</td> <td> 3.37e+05</td>\n",
              "</tr>\n",
              "<tr>\n",
              "  <th>iFF</th>       <td> 7.268e+05</td> <td> 3.29e+05</td> <td>    2.211</td> <td> 0.028</td> <td> 7.92e+04</td> <td> 1.37e+06</td>\n",
              "</tr>\n",
              "<tr>\n",
              "  <th>iSF</th>       <td>-1.037e+06</td> <td> 4.19e+05</td> <td>   -2.476</td> <td> 0.014</td> <td>-1.86e+06</td> <td>-2.12e+05</td>\n",
              "</tr>\n",
              "<tr>\n",
              "  <th>iSF.1</th>     <td> 2.768e+05</td> <td> 8.36e+05</td> <td>    0.331</td> <td> 0.741</td> <td>-1.37e+06</td> <td> 1.92e+06</td>\n",
              "</tr>\n",
              "<tr>\n",
              "  <th>iSF.2</th>     <td>-1.708e+06</td> <td> 1.97e+06</td> <td>   -0.866</td> <td> 0.388</td> <td> -5.6e+06</td> <td> 2.18e+06</td>\n",
              "</tr>\n",
              "<tr>\n",
              "  <th>ixG</th>       <td>-1255.2677</td> <td> 2.74e+05</td> <td>   -0.005</td> <td> 0.996</td> <td> -5.4e+05</td> <td> 5.38e+05</td>\n",
              "</tr>\n",
              "<tr>\n",
              "  <th>iSCF</th>      <td> 1.297e+04</td> <td> 4.21e+04</td> <td>    0.308</td> <td> 0.758</td> <td>   -7e+04</td> <td> 9.59e+04</td>\n",
              "</tr>\n",
              "<tr>\n",
              "  <th>iRB</th>       <td>-3.265e+04</td> <td> 3.41e+04</td> <td>   -0.957</td> <td> 0.340</td> <td>-9.99e+04</td> <td> 3.46e+04</td>\n",
              "</tr>\n",
              "<tr>\n",
              "  <th>iRS</th>       <td> 2.769e+04</td> <td> 2.94e+04</td> <td>    0.943</td> <td> 0.347</td> <td>-3.02e+04</td> <td> 8.55e+04</td>\n",
              "</tr>\n",
              "<tr>\n",
              "  <th>iDS</th>       <td>-4963.4306</td> <td> 2.02e+04</td> <td>   -0.246</td> <td> 0.806</td> <td>-4.48e+04</td> <td> 3.49e+04</td>\n",
              "</tr>\n",
              "<tr>\n",
              "  <th>sDist</th>     <td> 1.427e+04</td> <td> 1.54e+04</td> <td>    0.927</td> <td> 0.355</td> <td>-1.61e+04</td> <td> 4.46e+04</td>\n",
              "</tr>\n",
              "<tr>\n",
              "  <th>sDist.1</th>   <td>-6923.9415</td> <td> 2.08e+04</td> <td>   -0.333</td> <td> 0.739</td> <td>-4.79e+04</td> <td>  3.4e+04</td>\n",
              "</tr>\n",
              "<tr>\n",
              "  <th>Pass</th>      <td>-1819.9690</td> <td> 3930.831</td> <td>   -0.463</td> <td> 0.644</td> <td>-9565.734</td> <td> 5925.796</td>\n",
              "</tr>\n",
              "<tr>\n",
              "  <th>iHF</th>       <td>-3.269e+05</td> <td>    2e+05</td> <td>   -1.633</td> <td> 0.104</td> <td>-7.21e+05</td> <td> 6.75e+04</td>\n",
              "</tr>\n",
              "<tr>\n",
              "  <th>iHF.1</th>     <td> 1.061e+05</td> <td> 1.32e+05</td> <td>    0.806</td> <td> 0.421</td> <td>-1.53e+05</td> <td> 3.66e+05</td>\n",
              "</tr>\n",
              "<tr>\n",
              "  <th>iHA</th>       <td> 4.533e+04</td> <td> 6.61e+04</td> <td>    0.686</td> <td> 0.493</td> <td>-8.49e+04</td> <td> 1.76e+05</td>\n",
              "</tr>\n",
              "<tr>\n",
              "  <th>iHDf</th>      <td> 6.081e+04</td> <td> 6.58e+04</td> <td>    0.924</td> <td> 0.356</td> <td>-6.88e+04</td> <td>  1.9e+05</td>\n",
              "</tr>\n",
              "<tr>\n",
              "  <th>iMiss</th>     <td>-5.941e+05</td> <td> 2.63e+05</td> <td>   -2.256</td> <td> 0.025</td> <td>-1.11e+06</td> <td>-7.52e+04</td>\n",
              "</tr>\n",
              "<tr>\n",
              "  <th>iGVA</th>      <td>-1.328e+06</td> <td> 3.66e+05</td> <td>   -3.624</td> <td> 0.000</td> <td>-2.05e+06</td> <td>-6.06e+05</td>\n",
              "</tr>\n",
              "<tr>\n",
              "  <th>iTKA</th>      <td> 5.297e+05</td> <td> 4.13e+05</td> <td>    1.283</td> <td> 0.201</td> <td>-2.84e+05</td> <td> 1.34e+06</td>\n",
              "</tr>\n",
              "<tr>\n",
              "  <th>iBLK</th>      <td>-1.501e+05</td> <td> 2.25e+05</td> <td>   -0.668</td> <td> 0.505</td> <td>-5.93e+05</td> <td> 2.92e+05</td>\n",
              "</tr>\n",
              "<tr>\n",
              "  <th>iGVA.1</th>    <td> 1.353e+06</td> <td> 3.68e+05</td> <td>    3.674</td> <td> 0.000</td> <td> 6.27e+05</td> <td> 2.08e+06</td>\n",
              "</tr>\n",
              "<tr>\n",
              "  <th>iTKA.1</th>    <td>-5.828e+05</td> <td> 4.16e+05</td> <td>   -1.402</td> <td> 0.162</td> <td> -1.4e+06</td> <td> 2.36e+05</td>\n",
              "</tr>\n",
              "<tr>\n",
              "  <th>iBLK.1</th>    <td>-1.859e+04</td> <td> 2.56e+05</td> <td>   -0.073</td> <td> 0.942</td> <td>-5.22e+05</td> <td> 4.85e+05</td>\n",
              "</tr>\n",
              "<tr>\n",
              "  <th>BLK%</th>      <td>-1.462e+04</td> <td> 4.72e+04</td> <td>   -0.310</td> <td> 0.757</td> <td>-1.08e+05</td> <td> 7.84e+04</td>\n",
              "</tr>\n",
              "<tr>\n",
              "  <th>iFOW</th>      <td> 4.606e+05</td> <td> 5.55e+05</td> <td>    0.830</td> <td> 0.407</td> <td>-6.32e+05</td> <td> 1.55e+06</td>\n",
              "</tr>\n",
              "<tr>\n",
              "  <th>iFOL</th>      <td>  3.15e+05</td> <td> 5.52e+05</td> <td>    0.571</td> <td> 0.569</td> <td>-7.73e+05</td> <td>  1.4e+06</td>\n",
              "</tr>\n",
              "<tr>\n",
              "  <th>iFOW.1</th>    <td>-2.605e+05</td> <td> 1.37e+05</td> <td>   -1.908</td> <td> 0.058</td> <td> -5.3e+05</td> <td> 8553.692</td>\n",
              "</tr>\n",
              "<tr>\n",
              "  <th>iFOL.1</th>    <td>-2.818e+04</td> <td> 1.51e+05</td> <td>   -0.187</td> <td> 0.852</td> <td>-3.25e+05</td> <td> 2.69e+05</td>\n",
              "</tr>\n",
              "<tr>\n",
              "  <th>FO%</th>       <td> 3628.2488</td> <td> 3828.618</td> <td>    0.948</td> <td> 0.344</td> <td>-3916.105</td> <td> 1.12e+04</td>\n",
              "</tr>\n",
              "<tr>\n",
              "  <th>%FOT</th>      <td> 4696.3290</td> <td> 5286.083</td> <td>    0.888</td> <td> 0.375</td> <td>-5719.983</td> <td> 1.51e+04</td>\n",
              "</tr>\n",
              "<tr>\n",
              "  <th>dzFOW</th>     <td>-2.387e+05</td> <td> 5.55e+05</td> <td>   -0.430</td> <td> 0.668</td> <td>-1.33e+06</td> <td> 8.55e+05</td>\n",
              "</tr>\n",
              "<tr>\n",
              "  <th>dzFOL</th>     <td>-2.157e+05</td> <td> 5.61e+05</td> <td>   -0.384</td> <td> 0.701</td> <td>-1.32e+06</td> <td> 8.91e+05</td>\n",
              "</tr>\n",
              "<tr>\n",
              "  <th>nzFOW</th>     <td>-2.397e+05</td> <td> 5.55e+05</td> <td>   -0.432</td> <td> 0.666</td> <td>-1.33e+06</td> <td> 8.54e+05</td>\n",
              "</tr>\n",
              "<tr>\n",
              "  <th>nzFOL</th>     <td>-2.104e+05</td> <td>  5.6e+05</td> <td>   -0.376</td> <td> 0.708</td> <td>-1.31e+06</td> <td> 8.94e+05</td>\n",
              "</tr>\n",
              "<tr>\n",
              "  <th>ozFOW</th>     <td>-2.377e+05</td> <td> 5.56e+05</td> <td>   -0.427</td> <td> 0.670</td> <td>-1.33e+06</td> <td> 8.58e+05</td>\n",
              "</tr>\n",
              "<tr>\n",
              "  <th>ozFOL</th>     <td> -1.98e+05</td> <td> 5.55e+05</td> <td>   -0.356</td> <td> 0.722</td> <td>-1.29e+06</td> <td> 8.96e+05</td>\n",
              "</tr>\n",
              "<tr>\n",
              "  <th>FOW.Up</th>    <td> 2603.5350</td> <td> 2.56e+04</td> <td>    0.102</td> <td> 0.919</td> <td>-4.78e+04</td> <td>  5.3e+04</td>\n",
              "</tr>\n",
              "<tr>\n",
              "  <th>FOL.Up</th>    <td>-3.846e+04</td> <td> 2.58e+04</td> <td>   -1.489</td> <td> 0.138</td> <td>-8.94e+04</td> <td> 1.25e+04</td>\n",
              "</tr>\n",
              "<tr>\n",
              "  <th>FOW.Down</th>  <td>  6.05e+04</td> <td> 2.85e+04</td> <td>    2.126</td> <td> 0.035</td> <td> 4436.329</td> <td> 1.17e+05</td>\n",
              "</tr>\n",
              "<tr>\n",
              "  <th>FOL.Down</th>  <td>-6.203e+04</td> <td> 2.81e+04</td> <td>   -2.211</td> <td> 0.028</td> <td>-1.17e+05</td> <td>-6745.002</td>\n",
              "</tr>\n",
              "<tr>\n",
              "  <th>FOW.Close</th> <td> 3.452e+04</td> <td> 2.23e+04</td> <td>    1.550</td> <td> 0.123</td> <td>-9369.243</td> <td> 7.84e+04</td>\n",
              "</tr>\n",
              "<tr>\n",
              "  <th>FOL.Close</th> <td>-8.671e+04</td> <td> 2.31e+04</td> <td>   -3.754</td> <td> 0.000</td> <td>-1.32e+05</td> <td>-4.12e+04</td>\n",
              "</tr>\n",
              "<tr>\n",
              "  <th>OTG</th>       <td>-3.907e+05</td> <td> 2.07e+05</td> <td>   -1.885</td> <td> 0.061</td> <td>-7.99e+05</td> <td> 1.78e+04</td>\n",
              "</tr>\n",
              "<tr>\n",
              "  <th>1G</th>        <td> 6696.6099</td> <td> 9.11e+04</td> <td>    0.074</td> <td> 0.941</td> <td>-1.73e+05</td> <td> 1.86e+05</td>\n",
              "</tr>\n",
              "<tr>\n",
              "  <th>GWG</th>       <td> 1.945e+05</td> <td> 1.07e+05</td> <td>    1.825</td> <td> 0.069</td> <td>-1.55e+04</td> <td> 4.04e+05</td>\n",
              "</tr>\n",
              "<tr>\n",
              "  <th>ENG</th>       <td> 2.445e+05</td> <td>  1.8e+05</td> <td>    1.356</td> <td> 0.176</td> <td>-1.11e+05</td> <td>    6e+05</td>\n",
              "</tr>\n",
              "<tr>\n",
              "  <th>PSG</th>       <td>-2.901e+05</td> <td> 9.82e+05</td> <td>   -0.295</td> <td> 0.768</td> <td>-2.23e+06</td> <td> 1.65e+06</td>\n",
              "</tr>\n",
              "<tr>\n",
              "  <th>PSA</th>       <td>-1.765e+05</td> <td> 5.09e+05</td> <td>   -0.347</td> <td> 0.729</td> <td>-1.18e+06</td> <td> 8.26e+05</td>\n",
              "</tr>\n",
              "<tr>\n",
              "  <th>G.Bkhd</th>    <td>-1.275e+06</td> <td> 2.11e+06</td> <td>   -0.605</td> <td> 0.546</td> <td>-5.43e+06</td> <td> 2.88e+06</td>\n",
              "</tr>\n",
              "<tr>\n",
              "  <th>G.Dflct</th>   <td>-1.037e+06</td> <td> 2.16e+06</td> <td>   -0.481</td> <td> 0.631</td> <td>-5.29e+06</td> <td> 3.21e+06</td>\n",
              "</tr>\n",
              "<tr>\n",
              "  <th>G.Slap</th>    <td> -9.44e+05</td> <td> 2.11e+06</td> <td>   -0.448</td> <td> 0.655</td> <td> -5.1e+06</td> <td> 3.21e+06</td>\n",
              "</tr>\n",
              "<tr>\n",
              "  <th>G.Snap</th>    <td>-9.543e+05</td> <td> 2.12e+06</td> <td>   -0.451</td> <td> 0.653</td> <td>-5.13e+06</td> <td> 3.22e+06</td>\n",
              "</tr>\n",
              "<tr>\n",
              "  <th>G.Tip</th>     <td>-1.302e+06</td> <td>  2.1e+06</td> <td>   -0.619</td> <td> 0.536</td> <td>-5.45e+06</td> <td> 2.84e+06</td>\n",
              "</tr>\n",
              "<tr>\n",
              "  <th>G.Wrap</th>    <td>-2.961e+05</td> <td> 2.18e+06</td> <td>   -0.136</td> <td> 0.892</td> <td>-4.59e+06</td> <td> 3.99e+06</td>\n",
              "</tr>\n",
              "<tr>\n",
              "  <th>G.Wrst</th>    <td>-1.025e+06</td> <td>  2.1e+06</td> <td>   -0.488</td> <td> 0.626</td> <td>-5.16e+06</td> <td> 3.11e+06</td>\n",
              "</tr>\n",
              "<tr>\n",
              "  <th>CBar </th>     <td>-2.402e+05</td> <td> 1.47e+05</td> <td>   -1.638</td> <td> 0.103</td> <td>-5.29e+05</td> <td> 4.87e+04</td>\n",
              "</tr>\n",
              "<tr>\n",
              "  <th>Post</th>      <td>-4.487e+04</td> <td> 9.59e+04</td> <td>   -0.468</td> <td> 0.640</td> <td>-2.34e+05</td> <td> 1.44e+05</td>\n",
              "</tr>\n",
              "<tr>\n",
              "  <th>Over</th>      <td>-1.648e+05</td> <td> 8.66e+04</td> <td>   -1.902</td> <td> 0.058</td> <td>-3.35e+05</td> <td> 5936.991</td>\n",
              "</tr>\n",
              "<tr>\n",
              "  <th>Wide</th>      <td>-1.443e+05</td> <td> 7.35e+04</td> <td>   -1.963</td> <td> 0.051</td> <td>-2.89e+05</td> <td>  583.299</td>\n",
              "</tr>\n",
              "<tr>\n",
              "  <th>S.Bkhd</th>    <td> 1.768e+06</td> <td> 1.75e+06</td> <td>    1.008</td> <td> 0.315</td> <td>-1.69e+06</td> <td> 5.23e+06</td>\n",
              "</tr>\n",
              "<tr>\n",
              "  <th>S.Dflct</th>   <td> 1.711e+06</td> <td> 1.77e+06</td> <td>    0.969</td> <td> 0.334</td> <td>-1.77e+06</td> <td> 5.19e+06</td>\n",
              "</tr>\n",
              "<tr>\n",
              "  <th>S.Slap</th>    <td> 1.731e+06</td> <td> 1.76e+06</td> <td>    0.985</td> <td> 0.326</td> <td>-1.73e+06</td> <td> 5.19e+06</td>\n",
              "</tr>\n",
              "<tr>\n",
              "  <th>S.Snap</th>    <td> 1.722e+06</td> <td> 1.76e+06</td> <td>    0.978</td> <td> 0.329</td> <td>-1.75e+06</td> <td> 5.19e+06</td>\n",
              "</tr>\n",
              "<tr>\n",
              "  <th>S.Tip</th>     <td> 1.793e+06</td> <td> 1.75e+06</td> <td>    1.025</td> <td> 0.307</td> <td>-1.66e+06</td> <td> 5.24e+06</td>\n",
              "</tr>\n",
              "<tr>\n",
              "  <th>S.Wrap</th>    <td> 1.718e+06</td> <td> 1.76e+06</td> <td>    0.975</td> <td> 0.331</td> <td>-1.76e+06</td> <td> 5.19e+06</td>\n",
              "</tr>\n",
              "<tr>\n",
              "  <th>S.Wrst</th>    <td> 1.724e+06</td> <td> 1.76e+06</td> <td>    0.982</td> <td> 0.327</td> <td>-1.74e+06</td> <td> 5.19e+06</td>\n",
              "</tr>\n",
              "<tr>\n",
              "  <th>iPenT</th>     <td>-1.113e+06</td> <td>  5.8e+05</td> <td>   -1.918</td> <td> 0.056</td> <td>-2.26e+06</td> <td> 3.02e+04</td>\n",
              "</tr>\n",
              "<tr>\n",
              "  <th>iPenD</th>     <td>-5.616e+05</td> <td> 2.96e+05</td> <td>   -1.896</td> <td> 0.059</td> <td>-1.15e+06</td> <td>  2.2e+04</td>\n",
              "</tr>\n",
              "<tr>\n",
              "  <th>iPENT</th>     <td>-1.422e+05</td> <td> 1.14e+05</td> <td>   -1.246</td> <td> 0.214</td> <td>-3.67e+05</td> <td> 8.27e+04</td>\n",
              "</tr>\n",
              "<tr>\n",
              "  <th>iPEND</th>     <td>-4.143e+04</td> <td> 8.41e+04</td> <td>   -0.492</td> <td> 0.623</td> <td>-2.07e+05</td> <td> 1.24e+05</td>\n",
              "</tr>\n",
              "<tr>\n",
              "  <th>iPenDf</th>    <td> 5.516e+05</td> <td> 2.86e+05</td> <td>    1.926</td> <td> 0.055</td> <td>-1.27e+04</td> <td> 1.12e+06</td>\n",
              "</tr>\n",
              "<tr>\n",
              "  <th>NPD</th>       <td>-1.487e+04</td> <td> 6.37e+04</td> <td>   -0.233</td> <td> 0.816</td> <td> -1.4e+05</td> <td> 1.11e+05</td>\n",
              "</tr>\n",
              "<tr>\n",
              "  <th>Min</th>       <td>  1.42e+06</td> <td> 6.54e+05</td> <td>    2.171</td> <td> 0.031</td> <td> 1.31e+05</td> <td> 2.71e+06</td>\n",
              "</tr>\n",
              "<tr>\n",
              "  <th>Maj</th>       <td> 6.391e+05</td> <td> 2.57e+05</td> <td>    2.489</td> <td> 0.014</td> <td> 1.33e+05</td> <td> 1.15e+06</td>\n",
              "</tr>\n",
              "<tr>\n",
              "  <th>Match</th>     <td>-2.555e+06</td> <td> 1.08e+06</td> <td>   -2.376</td> <td> 0.018</td> <td>-4.67e+06</td> <td>-4.36e+05</td>\n",
              "</tr>\n",
              "<tr>\n",
              "  <th>Misc</th>      <td>  1.03e+05</td> <td> 5.51e+05</td> <td>    0.187</td> <td> 0.852</td> <td>-9.82e+05</td> <td> 1.19e+06</td>\n",
              "</tr>\n",
              "<tr>\n",
              "  <th>Game</th>      <td>-7.201e+05</td> <td> 5.74e+05</td> <td>   -1.255</td> <td> 0.211</td> <td>-1.85e+06</td> <td> 4.11e+05</td>\n",
              "</tr>\n",
              "<tr>\n",
              "  <th>CF</th>        <td>-1898.1008</td> <td> 5581.879</td> <td>   -0.340</td> <td> 0.734</td> <td>-1.29e+04</td> <td> 9101.081</td>\n",
              "</tr>\n",
              "<tr>\n",
              "  <th>CA</th>        <td> 3653.4817</td> <td> 5918.521</td> <td>    0.617</td> <td> 0.538</td> <td>-8009.059</td> <td> 1.53e+04</td>\n",
              "</tr>\n",
              "<tr>\n",
              "  <th>FF</th>        <td>-9809.5241</td> <td> 9920.118</td> <td>   -0.989</td> <td> 0.324</td> <td>-2.94e+04</td> <td> 9738.230</td>\n",
              "</tr>\n",
              "<tr>\n",
              "  <th>FA</th>        <td>-8104.7154</td> <td> 9088.056</td> <td>   -0.892</td> <td> 0.373</td> <td> -2.6e+04</td> <td> 9803.446</td>\n",
              "</tr>\n",
              "<tr>\n",
              "  <th>SF</th>        <td> 1.792e+04</td> <td> 9465.240</td> <td>    1.893</td> <td> 0.060</td> <td> -731.094</td> <td> 3.66e+04</td>\n",
              "</tr>\n",
              "<tr>\n",
              "  <th>SA</th>        <td>  -13.6261</td> <td> 7939.606</td> <td>   -0.002</td> <td> 0.999</td> <td>-1.57e+04</td> <td> 1.56e+04</td>\n",
              "</tr>\n",
              "<tr>\n",
              "  <th>xGF</th>       <td>-3.647e+04</td> <td> 1.08e+05</td> <td>   -0.337</td> <td> 0.737</td> <td> -2.5e+05</td> <td> 1.77e+05</td>\n",
              "</tr>\n",
              "<tr>\n",
              "  <th>xGA</th>       <td> 2.488e+04</td> <td> 9.11e+04</td> <td>    0.273</td> <td> 0.785</td> <td>-1.55e+05</td> <td> 2.04e+05</td>\n",
              "</tr>\n",
              "<tr>\n",
              "  <th>SCF</th>       <td> 9007.1871</td> <td>  1.7e+04</td> <td>    0.529</td> <td> 0.597</td> <td>-2.45e+04</td> <td> 4.25e+04</td>\n",
              "</tr>\n",
              "<tr>\n",
              "  <th>SCA</th>       <td>  237.0305</td> <td> 1.44e+04</td> <td>    0.016</td> <td> 0.987</td> <td>-2.81e+04</td> <td> 2.86e+04</td>\n",
              "</tr>\n",
              "<tr>\n",
              "  <th>GF</th>        <td>-6726.7698</td> <td> 2.22e+04</td> <td>   -0.304</td> <td> 0.762</td> <td>-5.04e+04</td> <td> 3.69e+04</td>\n",
              "</tr>\n",
              "<tr>\n",
              "  <th>GA</th>        <td> 9744.9134</td> <td> 1.82e+04</td> <td>    0.536</td> <td> 0.592</td> <td>-2.61e+04</td> <td> 4.56e+04</td>\n",
              "</tr>\n",
              "<tr>\n",
              "  <th>RBF</th>       <td> 1805.5072</td> <td> 1.47e+04</td> <td>    0.122</td> <td> 0.903</td> <td>-2.72e+04</td> <td> 3.09e+04</td>\n",
              "</tr>\n",
              "<tr>\n",
              "  <th>RBA</th>       <td>-1.359e+04</td> <td> 1.39e+04</td> <td>   -0.979</td> <td> 0.328</td> <td>-4.09e+04</td> <td> 1.37e+04</td>\n",
              "</tr>\n",
              "<tr>\n",
              "  <th>RSF</th>       <td>-7529.2221</td> <td> 1.22e+04</td> <td>   -0.615</td> <td> 0.539</td> <td>-3.17e+04</td> <td> 1.66e+04</td>\n",
              "</tr>\n",
              "<tr>\n",
              "  <th>RSA</th>       <td> 1.247e+04</td> <td> 1.27e+04</td> <td>    0.979</td> <td> 0.329</td> <td>-1.26e+04</td> <td> 3.76e+04</td>\n",
              "</tr>\n",
              "<tr>\n",
              "  <th>DSF</th>       <td>-5723.7379</td> <td> 7291.092</td> <td>   -0.785</td> <td> 0.433</td> <td>-2.01e+04</td> <td> 8643.478</td>\n",
              "</tr>\n",
              "<tr>\n",
              "  <th>DSA</th>       <td>-1113.5517</td> <td> 7631.054</td> <td>   -0.146</td> <td> 0.884</td> <td>-1.62e+04</td> <td> 1.39e+04</td>\n",
              "</tr>\n",
              "<tr>\n",
              "  <th>FOW</th>       <td> 3179.4295</td> <td> 2607.615</td> <td>    1.219</td> <td> 0.224</td> <td>-1958.918</td> <td> 8317.777</td>\n",
              "</tr>\n",
              "<tr>\n",
              "  <th>FOL</th>       <td> 2998.0530</td> <td> 2824.492</td> <td>    1.061</td> <td> 0.290</td> <td>-2567.655</td> <td> 8563.761</td>\n",
              "</tr>\n",
              "<tr>\n",
              "  <th>HF</th>        <td>-9729.1666</td> <td> 2313.846</td> <td>   -4.205</td> <td> 0.000</td> <td>-1.43e+04</td> <td>-5169.696</td>\n",
              "</tr>\n",
              "<tr>\n",
              "  <th>HA</th>        <td> 4360.3551</td> <td> 2662.349</td> <td>    1.638</td> <td> 0.103</td> <td> -885.847</td> <td> 9606.557</td>\n",
              "</tr>\n",
              "<tr>\n",
              "  <th>GVA</th>       <td>-2361.7256</td> <td> 5608.009</td> <td>   -0.421</td> <td> 0.674</td> <td>-1.34e+04</td> <td> 8688.947</td>\n",
              "</tr>\n",
              "<tr>\n",
              "  <th>TKA</th>       <td>-4568.3179</td> <td> 5938.719</td> <td>   -0.769</td> <td> 0.443</td> <td>-1.63e+04</td> <td> 7134.024</td>\n",
              "</tr>\n",
              "<tr>\n",
              "  <th>PENT</th>      <td>-2698.0648</td> <td>  1.3e+04</td> <td>   -0.207</td> <td> 0.836</td> <td>-2.84e+04</td> <td>  2.3e+04</td>\n",
              "</tr>\n",
              "<tr>\n",
              "  <th>PEND</th>      <td> 1.316e+04</td> <td> 1.53e+04</td> <td>    0.862</td> <td> 0.390</td> <td>-1.69e+04</td> <td> 4.32e+04</td>\n",
              "</tr>\n",
              "<tr>\n",
              "  <th>OPS</th>       <td> 4.981e+05</td> <td> 1.67e+06</td> <td>    0.298</td> <td> 0.766</td> <td>-2.79e+06</td> <td> 3.79e+06</td>\n",
              "</tr>\n",
              "<tr>\n",
              "  <th>DPS</th>       <td> 1.106e+06</td> <td> 1.63e+06</td> <td>    0.678</td> <td> 0.498</td> <td>-2.11e+06</td> <td> 4.32e+06</td>\n",
              "</tr>\n",
              "<tr>\n",
              "  <th>PS</th>        <td>-1.234e+06</td> <td> 1.61e+06</td> <td>   -0.765</td> <td> 0.445</td> <td>-4.41e+06</td> <td> 1.95e+06</td>\n",
              "</tr>\n",
              "<tr>\n",
              "  <th>OTOI</th>      <td> 1559.3245</td> <td> 2014.362</td> <td>    0.774</td> <td> 0.440</td> <td>-2410.009</td> <td> 5528.658</td>\n",
              "</tr>\n",
              "<tr>\n",
              "  <th>Grit</th>      <td>  1.74e+05</td> <td> 1.07e+05</td> <td>    1.630</td> <td> 0.104</td> <td>-3.63e+04</td> <td> 3.84e+05</td>\n",
              "</tr>\n",
              "<tr>\n",
              "  <th>DAP</th>       <td> 1.279e+04</td> <td> 1.61e+04</td> <td>    0.794</td> <td> 0.428</td> <td>-1.89e+04</td> <td> 4.45e+04</td>\n",
              "</tr>\n",
              "<tr>\n",
              "  <th>Pace</th>      <td> 6767.7888</td> <td> 1.72e+04</td> <td>    0.393</td> <td> 0.695</td> <td>-2.72e+04</td> <td> 4.07e+04</td>\n",
              "</tr>\n",
              "<tr>\n",
              "  <th>GS</th>        <td>-1.521e+04</td> <td> 6.27e+04</td> <td>   -0.243</td> <td> 0.809</td> <td>-1.39e+05</td> <td> 1.08e+05</td>\n",
              "</tr>\n",
              "<tr>\n",
              "  <th>GS/G</th>      <td> 1.121e+06</td> <td> 1.13e+06</td> <td>    0.993</td> <td> 0.322</td> <td> -1.1e+06</td> <td> 3.35e+06</td>\n",
              "</tr>\n",
              "</table>\n",
              "<table class=\"simpletable\">\n",
              "<tr>\n",
              "  <th>Omnibus:</th>       <td>37.234</td> <th>  Durbin-Watson:     </th> <td>   1.963</td>\n",
              "</tr>\n",
              "<tr>\n",
              "  <th>Prob(Omnibus):</th> <td> 0.000</td> <th>  Jarque-Bera (JB):  </th> <td>  79.148</td>\n",
              "</tr>\n",
              "<tr>\n",
              "  <th>Skew:</th>          <td> 0.557</td> <th>  Prob(JB):          </th> <td>6.51e-18</td>\n",
              "</tr>\n",
              "<tr>\n",
              "  <th>Kurtosis:</th>      <td> 5.013</td> <th>  Cond. No.          </th> <td>1.19e+16</td>\n",
              "</tr>\n",
              "</table><br/><br/>Warnings:<br/>[1] Standard Errors assume that the covariance matrix of the errors is correctly specified.<br/>[2] The smallest eigenvalue is 1.03e-20. This might indicate that there are<br/>strong multicollinearity problems or that the design matrix is singular."
            ],
            "text/plain": [
              "<class 'statsmodels.iolib.summary.Summary'>\n",
              "\"\"\"\n",
              "                                 OLS Regression Results                                \n",
              "=======================================================================================\n",
              "Dep. Variable:                 Salary   R-squared (uncentered):                   0.904\n",
              "Model:                            OLS   Adj. R-squared (uncentered):              0.848\n",
              "Method:                 Least Squares   F-statistic:                              16.01\n",
              "Date:                Fri, 23 Apr 2021   Prob (F-statistic):                    7.72e-69\n",
              "Time:                        19:23:22   Log-Likelihood:                         -5493.7\n",
              "No. Observations:                 359   AIC:                                  1.125e+04\n",
              "Df Residuals:                     226   BIC:                                  1.177e+04\n",
              "Df Model:                         133                                                  \n",
              "Covariance Type:            nonrobust                                                  \n",
              "==============================================================================\n",
              "                 coef    std err          t      P>|t|      [0.025      0.975]\n",
              "------------------------------------------------------------------------------\n",
              "Ht         -1.049e+05   6.03e+04     -1.740      0.083   -2.24e+05    1.39e+04\n",
              "Wt          2.711e+04   9264.395      2.926      0.004    8856.513    4.54e+04\n",
              "DftRd      -1.762e+05   3.08e+05     -0.572      0.568   -7.83e+05    4.31e+05\n",
              "Ovrl        4083.7337   9921.463      0.412      0.681   -1.55e+04    2.36e+04\n",
              "GP         -7.935e+04   9.09e+04     -0.873      0.384   -2.58e+05    9.98e+04\n",
              "G          -2.674e+06   3.09e+06     -0.865      0.388   -8.76e+06    3.41e+06\n",
              "A          -9.474e+06   2.78e+06     -3.412      0.001   -1.49e+07      -4e+06\n",
              "A1          5.755e+06   2.17e+06      2.657      0.008    1.49e+06       1e+07\n",
              "A2          5.715e+06   2.16e+06      2.645      0.009    1.46e+06    9.97e+06\n",
              "PTS         3.899e+06   1.92e+06      2.032      0.043    1.19e+05    7.68e+06\n",
              "+/-        -2902.2398    3.1e+04     -0.094      0.926    -6.4e+04    5.82e+04\n",
              "E+/-        4.434e+04   4.79e+04      0.925      0.356   -5.01e+04    1.39e+05\n",
              "PIM         1.181e+04    9.6e+04      0.123      0.902   -1.77e+05    2.01e+05\n",
              "Shifts     -3462.9948   1476.993     -2.345      0.020   -6373.433    -552.557\n",
              "TOI         -417.0925    556.409     -0.750      0.454   -1513.506     679.321\n",
              "TOIX        3.197e+04   3.33e+04      0.960      0.338   -3.37e+04    9.76e+04\n",
              "TOI/GP      1.198e+06   2.34e+06      0.513      0.609    -3.4e+06     5.8e+06\n",
              "TOI/GP.1    -8.99e+05   2.34e+06     -0.384      0.702   -5.52e+06    3.72e+06\n",
              "TOI%       -1.628e+05   1.69e+05     -0.966      0.335   -4.95e+05    1.69e+05\n",
              "IPP%       -4034.9291   5179.287     -0.779      0.437   -1.42e+04    6170.940\n",
              "SH%         7.482e+05    1.9e+06      0.394      0.694   -2.99e+06    4.49e+06\n",
              "SV%         7.055e+07   1.89e+08      0.374      0.709   -3.01e+08    4.42e+08\n",
              "PDO        -6.772e+04   1.89e+05     -0.359      0.720    -4.4e+05    3.04e+05\n",
              "F/60       -2.205e+07    1.8e+07     -1.223      0.223   -5.76e+07    1.35e+07\n",
              "A/60        2.186e+07    1.8e+07      1.212      0.227   -1.37e+07    5.74e+07\n",
              "Pct%       -6336.6469   9267.814     -0.684      0.495   -2.46e+04    1.19e+04\n",
              "Diff       -1.647e+04   1.78e+04     -0.926      0.355   -5.15e+04    1.86e+04\n",
              "Diff/60     2.184e+07    1.8e+07      1.210      0.227   -1.37e+07    5.74e+07\n",
              "iCF        -1.834e+05    7.5e+04     -2.444      0.015   -3.31e+05   -3.55e+04\n",
              "iCF.1       1.866e+05   7.65e+04      2.440      0.015    3.59e+04    3.37e+05\n",
              "iFF         7.268e+05   3.29e+05      2.211      0.028    7.92e+04    1.37e+06\n",
              "iSF        -1.037e+06   4.19e+05     -2.476      0.014   -1.86e+06   -2.12e+05\n",
              "iSF.1       2.768e+05   8.36e+05      0.331      0.741   -1.37e+06    1.92e+06\n",
              "iSF.2      -1.708e+06   1.97e+06     -0.866      0.388    -5.6e+06    2.18e+06\n",
              "ixG        -1255.2677   2.74e+05     -0.005      0.996    -5.4e+05    5.38e+05\n",
              "iSCF        1.297e+04   4.21e+04      0.308      0.758      -7e+04    9.59e+04\n",
              "iRB        -3.265e+04   3.41e+04     -0.957      0.340   -9.99e+04    3.46e+04\n",
              "iRS         2.769e+04   2.94e+04      0.943      0.347   -3.02e+04    8.55e+04\n",
              "iDS        -4963.4306   2.02e+04     -0.246      0.806   -4.48e+04    3.49e+04\n",
              "sDist       1.427e+04   1.54e+04      0.927      0.355   -1.61e+04    4.46e+04\n",
              "sDist.1    -6923.9415   2.08e+04     -0.333      0.739   -4.79e+04     3.4e+04\n",
              "Pass       -1819.9690   3930.831     -0.463      0.644   -9565.734    5925.796\n",
              "iHF        -3.269e+05      2e+05     -1.633      0.104   -7.21e+05    6.75e+04\n",
              "iHF.1       1.061e+05   1.32e+05      0.806      0.421   -1.53e+05    3.66e+05\n",
              "iHA         4.533e+04   6.61e+04      0.686      0.493   -8.49e+04    1.76e+05\n",
              "iHDf        6.081e+04   6.58e+04      0.924      0.356   -6.88e+04     1.9e+05\n",
              "iMiss      -5.941e+05   2.63e+05     -2.256      0.025   -1.11e+06   -7.52e+04\n",
              "iGVA       -1.328e+06   3.66e+05     -3.624      0.000   -2.05e+06   -6.06e+05\n",
              "iTKA        5.297e+05   4.13e+05      1.283      0.201   -2.84e+05    1.34e+06\n",
              "iBLK       -1.501e+05   2.25e+05     -0.668      0.505   -5.93e+05    2.92e+05\n",
              "iGVA.1      1.353e+06   3.68e+05      3.674      0.000    6.27e+05    2.08e+06\n",
              "iTKA.1     -5.828e+05   4.16e+05     -1.402      0.162    -1.4e+06    2.36e+05\n",
              "iBLK.1     -1.859e+04   2.56e+05     -0.073      0.942   -5.22e+05    4.85e+05\n",
              "BLK%       -1.462e+04   4.72e+04     -0.310      0.757   -1.08e+05    7.84e+04\n",
              "iFOW        4.606e+05   5.55e+05      0.830      0.407   -6.32e+05    1.55e+06\n",
              "iFOL         3.15e+05   5.52e+05      0.571      0.569   -7.73e+05     1.4e+06\n",
              "iFOW.1     -2.605e+05   1.37e+05     -1.908      0.058    -5.3e+05    8553.692\n",
              "iFOL.1     -2.818e+04   1.51e+05     -0.187      0.852   -3.25e+05    2.69e+05\n",
              "FO%         3628.2488   3828.618      0.948      0.344   -3916.105    1.12e+04\n",
              "%FOT        4696.3290   5286.083      0.888      0.375   -5719.983    1.51e+04\n",
              "dzFOW      -2.387e+05   5.55e+05     -0.430      0.668   -1.33e+06    8.55e+05\n",
              "dzFOL      -2.157e+05   5.61e+05     -0.384      0.701   -1.32e+06    8.91e+05\n",
              "nzFOW      -2.397e+05   5.55e+05     -0.432      0.666   -1.33e+06    8.54e+05\n",
              "nzFOL      -2.104e+05    5.6e+05     -0.376      0.708   -1.31e+06    8.94e+05\n",
              "ozFOW      -2.377e+05   5.56e+05     -0.427      0.670   -1.33e+06    8.58e+05\n",
              "ozFOL       -1.98e+05   5.55e+05     -0.356      0.722   -1.29e+06    8.96e+05\n",
              "FOW.Up      2603.5350   2.56e+04      0.102      0.919   -4.78e+04     5.3e+04\n",
              "FOL.Up     -3.846e+04   2.58e+04     -1.489      0.138   -8.94e+04    1.25e+04\n",
              "FOW.Down     6.05e+04   2.85e+04      2.126      0.035    4436.329    1.17e+05\n",
              "FOL.Down   -6.203e+04   2.81e+04     -2.211      0.028   -1.17e+05   -6745.002\n",
              "FOW.Close   3.452e+04   2.23e+04      1.550      0.123   -9369.243    7.84e+04\n",
              "FOL.Close  -8.671e+04   2.31e+04     -3.754      0.000   -1.32e+05   -4.12e+04\n",
              "OTG        -3.907e+05   2.07e+05     -1.885      0.061   -7.99e+05    1.78e+04\n",
              "1G          6696.6099   9.11e+04      0.074      0.941   -1.73e+05    1.86e+05\n",
              "GWG         1.945e+05   1.07e+05      1.825      0.069   -1.55e+04    4.04e+05\n",
              "ENG         2.445e+05    1.8e+05      1.356      0.176   -1.11e+05       6e+05\n",
              "PSG        -2.901e+05   9.82e+05     -0.295      0.768   -2.23e+06    1.65e+06\n",
              "PSA        -1.765e+05   5.09e+05     -0.347      0.729   -1.18e+06    8.26e+05\n",
              "G.Bkhd     -1.275e+06   2.11e+06     -0.605      0.546   -5.43e+06    2.88e+06\n",
              "G.Dflct    -1.037e+06   2.16e+06     -0.481      0.631   -5.29e+06    3.21e+06\n",
              "G.Slap      -9.44e+05   2.11e+06     -0.448      0.655    -5.1e+06    3.21e+06\n",
              "G.Snap     -9.543e+05   2.12e+06     -0.451      0.653   -5.13e+06    3.22e+06\n",
              "G.Tip      -1.302e+06    2.1e+06     -0.619      0.536   -5.45e+06    2.84e+06\n",
              "G.Wrap     -2.961e+05   2.18e+06     -0.136      0.892   -4.59e+06    3.99e+06\n",
              "G.Wrst     -1.025e+06    2.1e+06     -0.488      0.626   -5.16e+06    3.11e+06\n",
              "CBar       -2.402e+05   1.47e+05     -1.638      0.103   -5.29e+05    4.87e+04\n",
              "Post       -4.487e+04   9.59e+04     -0.468      0.640   -2.34e+05    1.44e+05\n",
              "Over       -1.648e+05   8.66e+04     -1.902      0.058   -3.35e+05    5936.991\n",
              "Wide       -1.443e+05   7.35e+04     -1.963      0.051   -2.89e+05     583.299\n",
              "S.Bkhd      1.768e+06   1.75e+06      1.008      0.315   -1.69e+06    5.23e+06\n",
              "S.Dflct     1.711e+06   1.77e+06      0.969      0.334   -1.77e+06    5.19e+06\n",
              "S.Slap      1.731e+06   1.76e+06      0.985      0.326   -1.73e+06    5.19e+06\n",
              "S.Snap      1.722e+06   1.76e+06      0.978      0.329   -1.75e+06    5.19e+06\n",
              "S.Tip       1.793e+06   1.75e+06      1.025      0.307   -1.66e+06    5.24e+06\n",
              "S.Wrap      1.718e+06   1.76e+06      0.975      0.331   -1.76e+06    5.19e+06\n",
              "S.Wrst      1.724e+06   1.76e+06      0.982      0.327   -1.74e+06    5.19e+06\n",
              "iPenT      -1.113e+06    5.8e+05     -1.918      0.056   -2.26e+06    3.02e+04\n",
              "iPenD      -5.616e+05   2.96e+05     -1.896      0.059   -1.15e+06     2.2e+04\n",
              "iPENT      -1.422e+05   1.14e+05     -1.246      0.214   -3.67e+05    8.27e+04\n",
              "iPEND      -4.143e+04   8.41e+04     -0.492      0.623   -2.07e+05    1.24e+05\n",
              "iPenDf      5.516e+05   2.86e+05      1.926      0.055   -1.27e+04    1.12e+06\n",
              "NPD        -1.487e+04   6.37e+04     -0.233      0.816    -1.4e+05    1.11e+05\n",
              "Min          1.42e+06   6.54e+05      2.171      0.031    1.31e+05    2.71e+06\n",
              "Maj         6.391e+05   2.57e+05      2.489      0.014    1.33e+05    1.15e+06\n",
              "Match      -2.555e+06   1.08e+06     -2.376      0.018   -4.67e+06   -4.36e+05\n",
              "Misc         1.03e+05   5.51e+05      0.187      0.852   -9.82e+05    1.19e+06\n",
              "Game       -7.201e+05   5.74e+05     -1.255      0.211   -1.85e+06    4.11e+05\n",
              "CF         -1898.1008   5581.879     -0.340      0.734   -1.29e+04    9101.081\n",
              "CA          3653.4817   5918.521      0.617      0.538   -8009.059    1.53e+04\n",
              "FF         -9809.5241   9920.118     -0.989      0.324   -2.94e+04    9738.230\n",
              "FA         -8104.7154   9088.056     -0.892      0.373    -2.6e+04    9803.446\n",
              "SF          1.792e+04   9465.240      1.893      0.060    -731.094    3.66e+04\n",
              "SA           -13.6261   7939.606     -0.002      0.999   -1.57e+04    1.56e+04\n",
              "xGF        -3.647e+04   1.08e+05     -0.337      0.737    -2.5e+05    1.77e+05\n",
              "xGA         2.488e+04   9.11e+04      0.273      0.785   -1.55e+05    2.04e+05\n",
              "SCF         9007.1871    1.7e+04      0.529      0.597   -2.45e+04    4.25e+04\n",
              "SCA          237.0305   1.44e+04      0.016      0.987   -2.81e+04    2.86e+04\n",
              "GF         -6726.7698   2.22e+04     -0.304      0.762   -5.04e+04    3.69e+04\n",
              "GA          9744.9134   1.82e+04      0.536      0.592   -2.61e+04    4.56e+04\n",
              "RBF         1805.5072   1.47e+04      0.122      0.903   -2.72e+04    3.09e+04\n",
              "RBA        -1.359e+04   1.39e+04     -0.979      0.328   -4.09e+04    1.37e+04\n",
              "RSF        -7529.2221   1.22e+04     -0.615      0.539   -3.17e+04    1.66e+04\n",
              "RSA         1.247e+04   1.27e+04      0.979      0.329   -1.26e+04    3.76e+04\n",
              "DSF        -5723.7379   7291.092     -0.785      0.433   -2.01e+04    8643.478\n",
              "DSA        -1113.5517   7631.054     -0.146      0.884   -1.62e+04    1.39e+04\n",
              "FOW         3179.4295   2607.615      1.219      0.224   -1958.918    8317.777\n",
              "FOL         2998.0530   2824.492      1.061      0.290   -2567.655    8563.761\n",
              "HF         -9729.1666   2313.846     -4.205      0.000   -1.43e+04   -5169.696\n",
              "HA          4360.3551   2662.349      1.638      0.103    -885.847    9606.557\n",
              "GVA        -2361.7256   5608.009     -0.421      0.674   -1.34e+04    8688.947\n",
              "TKA        -4568.3179   5938.719     -0.769      0.443   -1.63e+04    7134.024\n",
              "PENT       -2698.0648    1.3e+04     -0.207      0.836   -2.84e+04     2.3e+04\n",
              "PEND        1.316e+04   1.53e+04      0.862      0.390   -1.69e+04    4.32e+04\n",
              "OPS         4.981e+05   1.67e+06      0.298      0.766   -2.79e+06    3.79e+06\n",
              "DPS         1.106e+06   1.63e+06      0.678      0.498   -2.11e+06    4.32e+06\n",
              "PS         -1.234e+06   1.61e+06     -0.765      0.445   -4.41e+06    1.95e+06\n",
              "OTOI        1559.3245   2014.362      0.774      0.440   -2410.009    5528.658\n",
              "Grit         1.74e+05   1.07e+05      1.630      0.104   -3.63e+04    3.84e+05\n",
              "DAP         1.279e+04   1.61e+04      0.794      0.428   -1.89e+04    4.45e+04\n",
              "Pace        6767.7888   1.72e+04      0.393      0.695   -2.72e+04    4.07e+04\n",
              "GS         -1.521e+04   6.27e+04     -0.243      0.809   -1.39e+05    1.08e+05\n",
              "GS/G        1.121e+06   1.13e+06      0.993      0.322    -1.1e+06    3.35e+06\n",
              "==============================================================================\n",
              "Omnibus:                       37.234   Durbin-Watson:                   1.963\n",
              "Prob(Omnibus):                  0.000   Jarque-Bera (JB):               79.148\n",
              "Skew:                           0.557   Prob(JB):                     6.51e-18\n",
              "Kurtosis:                       5.013   Cond. No.                     1.19e+16\n",
              "==============================================================================\n",
              "\n",
              "Warnings:\n",
              "[1] Standard Errors assume that the covariance matrix of the errors is correctly specified.\n",
              "[2] The smallest eigenvalue is 1.03e-20. This might indicate that there are\n",
              "strong multicollinearity problems or that the design matrix is singular.\n",
              "\"\"\""
            ]
          },
          "metadata": {
            "tags": []
          },
          "execution_count": 174
        }
      ]
    },
    {
      "cell_type": "markdown",
      "metadata": {
        "id": "WBkeE63Sq4Kz"
      },
      "source": [
        "We can now export this data to an Excel sheet then re-import it and create a Pandas Dataframe so we can proceed with Feature Selection.\n",
        "\n",
        "Selected features will have a p-value of under 0.05"
      ]
    },
    {
      "cell_type": "code",
      "metadata": {
        "colab": {
          "resources": {
            "http://localhost:8080/nbextensions/google.colab/files.js": {
              "data": "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",
              "ok": true,
              "headers": [
                [
                  "content-type",
                  "application/javascript"
                ]
              ],
              "status": 200,
              "status_text": ""
            }
          },
          "base_uri": "https://localhost:8080/",
          "height": 72
        },
        "id": "ylAxdHltm57u",
        "outputId": "3b87170b-76dd-409f-b562-499c754a98e5"
      },
      "source": [
        "data = files.upload()"
      ],
      "execution_count": null,
      "outputs": [
        {
          "output_type": "display_data",
          "data": {
            "text/html": [
              "\n",
              "     <input type=\"file\" id=\"files-2bf3b104-8137-4ccb-85f5-d73b38e047c7\" name=\"files[]\" multiple disabled\n",
              "        style=\"border:none\" />\n",
              "     <output id=\"result-2bf3b104-8137-4ccb-85f5-d73b38e047c7\">\n",
              "      Upload widget is only available when the cell has been executed in the\n",
              "      current browser session. Please rerun this cell to enable.\n",
              "      </output>\n",
              "      <script src=\"/nbextensions/google.colab/files.js\"></script> "
            ],
            "text/plain": [
              "<IPython.core.display.HTML object>"
            ]
          },
          "metadata": {
            "tags": []
          }
        },
        {
          "output_type": "stream",
          "text": [
            "Saving regress.csv to regress (2).csv\n"
          ],
          "name": "stdout"
        }
      ]
    },
    {
      "cell_type": "code",
      "metadata": {
        "id": "uUEsdFzDriFn"
      },
      "source": [
        "features = pd.read_csv('regress.csv', encoding = \"ISO-8859-1\")"
      ],
      "execution_count": null,
      "outputs": []
    },
    {
      "cell_type": "code",
      "metadata": {
        "colab": {
          "base_uri": "https://localhost:8080/",
          "height": 204
        },
        "id": "q7mh7dYGru5r",
        "outputId": "4f11767f-09e0-4e7e-a18c-f193ca72fffd"
      },
      "source": [
        "features.head()"
      ],
      "execution_count": null,
      "outputs": [
        {
          "output_type": "execute_result",
          "data": {
            "text/html": [
              "<div>\n",
              "<style scoped>\n",
              "    .dataframe tbody tr th:only-of-type {\n",
              "        vertical-align: middle;\n",
              "    }\n",
              "\n",
              "    .dataframe tbody tr th {\n",
              "        vertical-align: top;\n",
              "    }\n",
              "\n",
              "    .dataframe thead th {\n",
              "        text-align: right;\n",
              "    }\n",
              "</style>\n",
              "<table border=\"1\" class=\"dataframe\">\n",
              "  <thead>\n",
              "    <tr style=\"text-align: right;\">\n",
              "      <th></th>\n",
              "      <th>Stat</th>\n",
              "      <th>coef</th>\n",
              "      <th>std err</th>\n",
              "      <th>t</th>\n",
              "      <th>P&gt;|t|</th>\n",
              "      <th>[0.025</th>\n",
              "      <th>0.975]</th>\n",
              "    </tr>\n",
              "  </thead>\n",
              "  <tbody>\n",
              "    <tr>\n",
              "      <th>0</th>\n",
              "      <td>Ht</td>\n",
              "      <td>-105000.0000</td>\n",
              "      <td>60300.000</td>\n",
              "      <td>-1.740</td>\n",
              "      <td>0.083</td>\n",
              "      <td>-224000.000</td>\n",
              "      <td>13900.0</td>\n",
              "    </tr>\n",
              "    <tr>\n",
              "      <th>1</th>\n",
              "      <td>Wt</td>\n",
              "      <td>27100.0000</td>\n",
              "      <td>9264.395</td>\n",
              "      <td>2.926</td>\n",
              "      <td>0.004</td>\n",
              "      <td>8856.513</td>\n",
              "      <td>45400.0</td>\n",
              "    </tr>\n",
              "    <tr>\n",
              "      <th>2</th>\n",
              "      <td>DftRd</td>\n",
              "      <td>-176000.0000</td>\n",
              "      <td>308000.000</td>\n",
              "      <td>-0.572</td>\n",
              "      <td>0.568</td>\n",
              "      <td>-783000.000</td>\n",
              "      <td>431000.0</td>\n",
              "    </tr>\n",
              "    <tr>\n",
              "      <th>3</th>\n",
              "      <td>Ovrl</td>\n",
              "      <td>4083.7337</td>\n",
              "      <td>9921.463</td>\n",
              "      <td>0.412</td>\n",
              "      <td>0.681</td>\n",
              "      <td>-15500.000</td>\n",
              "      <td>23600.0</td>\n",
              "    </tr>\n",
              "    <tr>\n",
              "      <th>4</th>\n",
              "      <td>GP</td>\n",
              "      <td>-79400.0000</td>\n",
              "      <td>90900.000</td>\n",
              "      <td>-0.873</td>\n",
              "      <td>0.384</td>\n",
              "      <td>-258000.000</td>\n",
              "      <td>99800.0</td>\n",
              "    </tr>\n",
              "  </tbody>\n",
              "</table>\n",
              "</div>"
            ],
            "text/plain": [
              "    Stat         coef     std err      t  P>|t|      [0.025    0.975]\n",
              "0     Ht -105000.0000   60300.000 -1.740  0.083 -224000.000   13900.0\n",
              "1     Wt   27100.0000    9264.395  2.926  0.004    8856.513   45400.0\n",
              "2  DftRd -176000.0000  308000.000 -0.572  0.568 -783000.000  431000.0\n",
              "3   Ovrl    4083.7337    9921.463  0.412  0.681  -15500.000   23600.0\n",
              "4     GP  -79400.0000   90900.000 -0.873  0.384 -258000.000   99800.0"
            ]
          },
          "metadata": {
            "tags": []
          },
          "execution_count": 176
        }
      ]
    },
    {
      "cell_type": "code",
      "metadata": {
        "id": "49tvHWOCtQyJ"
      },
      "source": [
        "features = features.rename({'P>|t|':'pval'}, axis=1)"
      ],
      "execution_count": null,
      "outputs": []
    },
    {
      "cell_type": "code",
      "metadata": {
        "id": "Mk79Il-As4IM"
      },
      "source": [
        "selected = features[(features.pval < 0.05)]"
      ],
      "execution_count": null,
      "outputs": []
    },
    {
      "cell_type": "code",
      "metadata": {
        "colab": {
          "base_uri": "https://localhost:8080/",
          "height": 669
        },
        "id": "Nn-Bzt5KuR9F",
        "outputId": "3a58ef02-97f1-48fd-cf7b-21200e6172ec"
      },
      "source": [
        "selected"
      ],
      "execution_count": null,
      "outputs": [
        {
          "output_type": "execute_result",
          "data": {
            "text/html": [
              "<div>\n",
              "<style scoped>\n",
              "    .dataframe tbody tr th:only-of-type {\n",
              "        vertical-align: middle;\n",
              "    }\n",
              "\n",
              "    .dataframe tbody tr th {\n",
              "        vertical-align: top;\n",
              "    }\n",
              "\n",
              "    .dataframe thead th {\n",
              "        text-align: right;\n",
              "    }\n",
              "</style>\n",
              "<table border=\"1\" class=\"dataframe\">\n",
              "  <thead>\n",
              "    <tr style=\"text-align: right;\">\n",
              "      <th></th>\n",
              "      <th>Stat</th>\n",
              "      <th>coef</th>\n",
              "      <th>std err</th>\n",
              "      <th>t</th>\n",
              "      <th>pval</th>\n",
              "      <th>[0.025</th>\n",
              "      <th>0.975]</th>\n",
              "    </tr>\n",
              "  </thead>\n",
              "  <tbody>\n",
              "    <tr>\n",
              "      <th>1</th>\n",
              "      <td>Wt</td>\n",
              "      <td>2.710000e+04</td>\n",
              "      <td>9264.395</td>\n",
              "      <td>2.926</td>\n",
              "      <td>0.004</td>\n",
              "      <td>8.856513e+03</td>\n",
              "      <td>4.540000e+04</td>\n",
              "    </tr>\n",
              "    <tr>\n",
              "      <th>6</th>\n",
              "      <td>A</td>\n",
              "      <td>-9.470000e+06</td>\n",
              "      <td>2780000.000</td>\n",
              "      <td>-3.412</td>\n",
              "      <td>0.001</td>\n",
              "      <td>-1.490000e+07</td>\n",
              "      <td>-4.000000e+06</td>\n",
              "    </tr>\n",
              "    <tr>\n",
              "      <th>7</th>\n",
              "      <td>A1</td>\n",
              "      <td>5.760000e+06</td>\n",
              "      <td>2170000.000</td>\n",
              "      <td>2.657</td>\n",
              "      <td>0.008</td>\n",
              "      <td>1.490000e+06</td>\n",
              "      <td>1.000000e+07</td>\n",
              "    </tr>\n",
              "    <tr>\n",
              "      <th>8</th>\n",
              "      <td>A2</td>\n",
              "      <td>5.720000e+06</td>\n",
              "      <td>2160000.000</td>\n",
              "      <td>2.645</td>\n",
              "      <td>0.009</td>\n",
              "      <td>1.460000e+06</td>\n",
              "      <td>9.970000e+06</td>\n",
              "    </tr>\n",
              "    <tr>\n",
              "      <th>9</th>\n",
              "      <td>PTS</td>\n",
              "      <td>3.900000e+06</td>\n",
              "      <td>1920000.000</td>\n",
              "      <td>2.032</td>\n",
              "      <td>0.043</td>\n",
              "      <td>1.190000e+05</td>\n",
              "      <td>7.680000e+06</td>\n",
              "    </tr>\n",
              "    <tr>\n",
              "      <th>13</th>\n",
              "      <td>Shifts</td>\n",
              "      <td>-3.462995e+03</td>\n",
              "      <td>1476.993</td>\n",
              "      <td>-2.345</td>\n",
              "      <td>0.020</td>\n",
              "      <td>-6.373433e+03</td>\n",
              "      <td>-5.525570e+02</td>\n",
              "    </tr>\n",
              "    <tr>\n",
              "      <th>28</th>\n",
              "      <td>iCF</td>\n",
              "      <td>-1.830000e+05</td>\n",
              "      <td>75000.000</td>\n",
              "      <td>-2.444</td>\n",
              "      <td>0.015</td>\n",
              "      <td>-3.310000e+05</td>\n",
              "      <td>-3.550000e+04</td>\n",
              "    </tr>\n",
              "    <tr>\n",
              "      <th>29</th>\n",
              "      <td>iCF.1</td>\n",
              "      <td>1.870000e+05</td>\n",
              "      <td>76500.000</td>\n",
              "      <td>2.440</td>\n",
              "      <td>0.015</td>\n",
              "      <td>3.590000e+04</td>\n",
              "      <td>3.370000e+05</td>\n",
              "    </tr>\n",
              "    <tr>\n",
              "      <th>30</th>\n",
              "      <td>iFF</td>\n",
              "      <td>7.270000e+05</td>\n",
              "      <td>329000.000</td>\n",
              "      <td>2.211</td>\n",
              "      <td>0.028</td>\n",
              "      <td>7.920000e+04</td>\n",
              "      <td>1.370000e+06</td>\n",
              "    </tr>\n",
              "    <tr>\n",
              "      <th>31</th>\n",
              "      <td>iSF</td>\n",
              "      <td>-1.040000e+06</td>\n",
              "      <td>419000.000</td>\n",
              "      <td>-2.476</td>\n",
              "      <td>0.014</td>\n",
              "      <td>-1.860000e+06</td>\n",
              "      <td>-2.120000e+05</td>\n",
              "    </tr>\n",
              "    <tr>\n",
              "      <th>46</th>\n",
              "      <td>iMiss</td>\n",
              "      <td>-5.940000e+05</td>\n",
              "      <td>263000.000</td>\n",
              "      <td>-2.256</td>\n",
              "      <td>0.025</td>\n",
              "      <td>-1.110000e+06</td>\n",
              "      <td>-7.520000e+04</td>\n",
              "    </tr>\n",
              "    <tr>\n",
              "      <th>47</th>\n",
              "      <td>iGVA</td>\n",
              "      <td>-1.330000e+06</td>\n",
              "      <td>366000.000</td>\n",
              "      <td>-3.624</td>\n",
              "      <td>0.000</td>\n",
              "      <td>-2.050000e+06</td>\n",
              "      <td>-6.060000e+05</td>\n",
              "    </tr>\n",
              "    <tr>\n",
              "      <th>50</th>\n",
              "      <td>iGVA.1</td>\n",
              "      <td>1.350000e+06</td>\n",
              "      <td>368000.000</td>\n",
              "      <td>3.674</td>\n",
              "      <td>0.000</td>\n",
              "      <td>6.270000e+05</td>\n",
              "      <td>2.080000e+06</td>\n",
              "    </tr>\n",
              "    <tr>\n",
              "      <th>68</th>\n",
              "      <td>FOW.Down</td>\n",
              "      <td>6.050000e+04</td>\n",
              "      <td>28500.000</td>\n",
              "      <td>2.126</td>\n",
              "      <td>0.035</td>\n",
              "      <td>4.436329e+03</td>\n",
              "      <td>1.170000e+05</td>\n",
              "    </tr>\n",
              "    <tr>\n",
              "      <th>69</th>\n",
              "      <td>FOL.Down</td>\n",
              "      <td>-6.200000e+04</td>\n",
              "      <td>28100.000</td>\n",
              "      <td>-2.211</td>\n",
              "      <td>0.028</td>\n",
              "      <td>-1.170000e+05</td>\n",
              "      <td>-6.745002e+03</td>\n",
              "    </tr>\n",
              "    <tr>\n",
              "      <th>71</th>\n",
              "      <td>FOL.Close</td>\n",
              "      <td>-8.670000e+04</td>\n",
              "      <td>23100.000</td>\n",
              "      <td>-3.754</td>\n",
              "      <td>0.000</td>\n",
              "      <td>-1.320000e+05</td>\n",
              "      <td>-4.120000e+04</td>\n",
              "    </tr>\n",
              "    <tr>\n",
              "      <th>102</th>\n",
              "      <td>Min</td>\n",
              "      <td>1.420000e+06</td>\n",
              "      <td>654000.000</td>\n",
              "      <td>2.171</td>\n",
              "      <td>0.031</td>\n",
              "      <td>1.310000e+05</td>\n",
              "      <td>2.710000e+06</td>\n",
              "    </tr>\n",
              "    <tr>\n",
              "      <th>103</th>\n",
              "      <td>Maj</td>\n",
              "      <td>6.390000e+05</td>\n",
              "      <td>257000.000</td>\n",
              "      <td>2.489</td>\n",
              "      <td>0.014</td>\n",
              "      <td>1.330000e+05</td>\n",
              "      <td>1.150000e+06</td>\n",
              "    </tr>\n",
              "    <tr>\n",
              "      <th>104</th>\n",
              "      <td>Match</td>\n",
              "      <td>-2.560000e+06</td>\n",
              "      <td>1080000.000</td>\n",
              "      <td>-2.376</td>\n",
              "      <td>0.018</td>\n",
              "      <td>-4.670000e+06</td>\n",
              "      <td>-4.360000e+05</td>\n",
              "    </tr>\n",
              "    <tr>\n",
              "      <th>127</th>\n",
              "      <td>HF</td>\n",
              "      <td>-9.729167e+03</td>\n",
              "      <td>2313.846</td>\n",
              "      <td>-4.205</td>\n",
              "      <td>0.000</td>\n",
              "      <td>-1.430000e+04</td>\n",
              "      <td>-5.169696e+03</td>\n",
              "    </tr>\n",
              "  </tbody>\n",
              "</table>\n",
              "</div>"
            ],
            "text/plain": [
              "          Stat          coef      std err  ...   pval        [0.025        0.975]\n",
              "1           Wt  2.710000e+04     9264.395  ...  0.004  8.856513e+03  4.540000e+04\n",
              "6            A -9.470000e+06  2780000.000  ...  0.001 -1.490000e+07 -4.000000e+06\n",
              "7           A1  5.760000e+06  2170000.000  ...  0.008  1.490000e+06  1.000000e+07\n",
              "8           A2  5.720000e+06  2160000.000  ...  0.009  1.460000e+06  9.970000e+06\n",
              "9          PTS  3.900000e+06  1920000.000  ...  0.043  1.190000e+05  7.680000e+06\n",
              "13      Shifts -3.462995e+03     1476.993  ...  0.020 -6.373433e+03 -5.525570e+02\n",
              "28         iCF -1.830000e+05    75000.000  ...  0.015 -3.310000e+05 -3.550000e+04\n",
              "29       iCF.1  1.870000e+05    76500.000  ...  0.015  3.590000e+04  3.370000e+05\n",
              "30         iFF  7.270000e+05   329000.000  ...  0.028  7.920000e+04  1.370000e+06\n",
              "31         iSF -1.040000e+06   419000.000  ...  0.014 -1.860000e+06 -2.120000e+05\n",
              "46       iMiss -5.940000e+05   263000.000  ...  0.025 -1.110000e+06 -7.520000e+04\n",
              "47        iGVA -1.330000e+06   366000.000  ...  0.000 -2.050000e+06 -6.060000e+05\n",
              "50      iGVA.1  1.350000e+06   368000.000  ...  0.000  6.270000e+05  2.080000e+06\n",
              "68    FOW.Down  6.050000e+04    28500.000  ...  0.035  4.436329e+03  1.170000e+05\n",
              "69    FOL.Down -6.200000e+04    28100.000  ...  0.028 -1.170000e+05 -6.745002e+03\n",
              "71   FOL.Close -8.670000e+04    23100.000  ...  0.000 -1.320000e+05 -4.120000e+04\n",
              "102        Min  1.420000e+06   654000.000  ...  0.031  1.310000e+05  2.710000e+06\n",
              "103        Maj  6.390000e+05   257000.000  ...  0.014  1.330000e+05  1.150000e+06\n",
              "104      Match -2.560000e+06  1080000.000  ...  0.018 -4.670000e+06 -4.360000e+05\n",
              "127         HF -9.729167e+03     2313.846  ...  0.000 -1.430000e+04 -5.169696e+03\n",
              "\n",
              "[20 rows x 7 columns]"
            ]
          },
          "metadata": {
            "tags": []
          },
          "execution_count": 179
        }
      ]
    },
    {
      "cell_type": "code",
      "metadata": {
        "id": "TsS7HYPV3txJ"
      },
      "source": [
        "selected = selected.drop(6)"
      ],
      "execution_count": null,
      "outputs": []
    },
    {
      "cell_type": "markdown",
      "metadata": {
        "id": "pa-kvjgI3rjm"
      },
      "source": [
        "We can drop feature \"A\" as it is redundant (it is overall assists i.e. the sum of features \"A1 and A2\"\n",
        "\n"
      ]
    },
    {
      "cell_type": "code",
      "metadata": {
        "id": "9VThRppF4z_H"
      },
      "source": [
        "selected = selected.drop(13)"
      ],
      "execution_count": null,
      "outputs": []
    },
    {
      "cell_type": "markdown",
      "metadata": {
        "id": "Pfq4rOsK46oP"
      },
      "source": [
        "We can drop feature \"Shifts\" as its significance is too ambiguous."
      ]
    },
    {
      "cell_type": "code",
      "metadata": {
        "id": "aP7XgwQh5jLq"
      },
      "source": [
        "selected = selected.drop(28)"
      ],
      "execution_count": null,
      "outputs": []
    },
    {
      "cell_type": "markdown",
      "metadata": {
        "id": "-YuT11AR5oaX"
      },
      "source": [
        "We can drop feature \"iCF\" as it is redundant "
      ]
    },
    {
      "cell_type": "code",
      "metadata": {
        "id": "TDeKFW_O6E9P"
      },
      "source": [
        "selected = selected.drop(47)"
      ],
      "execution_count": null,
      "outputs": []
    },
    {
      "cell_type": "markdown",
      "metadata": {
        "id": "ozxj-lpE6J0c"
      },
      "source": [
        "We can drop feature \"iGVA\" as it is redundant"
      ]
    },
    {
      "cell_type": "code",
      "metadata": {
        "colab": {
          "base_uri": "https://localhost:8080/",
          "height": 545
        },
        "id": "XO4khUNn5xOc",
        "outputId": "9defc923-547b-41ce-8635-00761cde9e3a"
      },
      "source": [
        "selected"
      ],
      "execution_count": null,
      "outputs": [
        {
          "output_type": "execute_result",
          "data": {
            "text/html": [
              "<div>\n",
              "<style scoped>\n",
              "    .dataframe tbody tr th:only-of-type {\n",
              "        vertical-align: middle;\n",
              "    }\n",
              "\n",
              "    .dataframe tbody tr th {\n",
              "        vertical-align: top;\n",
              "    }\n",
              "\n",
              "    .dataframe thead th {\n",
              "        text-align: right;\n",
              "    }\n",
              "</style>\n",
              "<table border=\"1\" class=\"dataframe\">\n",
              "  <thead>\n",
              "    <tr style=\"text-align: right;\">\n",
              "      <th></th>\n",
              "      <th>Stat</th>\n",
              "      <th>coef</th>\n",
              "      <th>std err</th>\n",
              "      <th>t</th>\n",
              "      <th>pval</th>\n",
              "      <th>[0.025</th>\n",
              "      <th>0.975]</th>\n",
              "    </tr>\n",
              "  </thead>\n",
              "  <tbody>\n",
              "    <tr>\n",
              "      <th>1</th>\n",
              "      <td>Wt</td>\n",
              "      <td>2.710000e+04</td>\n",
              "      <td>9264.395</td>\n",
              "      <td>2.926</td>\n",
              "      <td>0.004</td>\n",
              "      <td>8856.513</td>\n",
              "      <td>4.540000e+04</td>\n",
              "    </tr>\n",
              "    <tr>\n",
              "      <th>7</th>\n",
              "      <td>A1</td>\n",
              "      <td>5.760000e+06</td>\n",
              "      <td>2170000.000</td>\n",
              "      <td>2.657</td>\n",
              "      <td>0.008</td>\n",
              "      <td>1490000.000</td>\n",
              "      <td>1.000000e+07</td>\n",
              "    </tr>\n",
              "    <tr>\n",
              "      <th>8</th>\n",
              "      <td>A2</td>\n",
              "      <td>5.720000e+06</td>\n",
              "      <td>2160000.000</td>\n",
              "      <td>2.645</td>\n",
              "      <td>0.009</td>\n",
              "      <td>1460000.000</td>\n",
              "      <td>9.970000e+06</td>\n",
              "    </tr>\n",
              "    <tr>\n",
              "      <th>9</th>\n",
              "      <td>PTS</td>\n",
              "      <td>3.900000e+06</td>\n",
              "      <td>1920000.000</td>\n",
              "      <td>2.032</td>\n",
              "      <td>0.043</td>\n",
              "      <td>119000.000</td>\n",
              "      <td>7.680000e+06</td>\n",
              "    </tr>\n",
              "    <tr>\n",
              "      <th>29</th>\n",
              "      <td>iCF.1</td>\n",
              "      <td>1.870000e+05</td>\n",
              "      <td>76500.000</td>\n",
              "      <td>2.440</td>\n",
              "      <td>0.015</td>\n",
              "      <td>35900.000</td>\n",
              "      <td>3.370000e+05</td>\n",
              "    </tr>\n",
              "    <tr>\n",
              "      <th>30</th>\n",
              "      <td>iFF</td>\n",
              "      <td>7.270000e+05</td>\n",
              "      <td>329000.000</td>\n",
              "      <td>2.211</td>\n",
              "      <td>0.028</td>\n",
              "      <td>79200.000</td>\n",
              "      <td>1.370000e+06</td>\n",
              "    </tr>\n",
              "    <tr>\n",
              "      <th>31</th>\n",
              "      <td>iSF</td>\n",
              "      <td>-1.040000e+06</td>\n",
              "      <td>419000.000</td>\n",
              "      <td>-2.476</td>\n",
              "      <td>0.014</td>\n",
              "      <td>-1860000.000</td>\n",
              "      <td>-2.120000e+05</td>\n",
              "    </tr>\n",
              "    <tr>\n",
              "      <th>46</th>\n",
              "      <td>iMiss</td>\n",
              "      <td>-5.940000e+05</td>\n",
              "      <td>263000.000</td>\n",
              "      <td>-2.256</td>\n",
              "      <td>0.025</td>\n",
              "      <td>-1110000.000</td>\n",
              "      <td>-7.520000e+04</td>\n",
              "    </tr>\n",
              "    <tr>\n",
              "      <th>50</th>\n",
              "      <td>iGVA.1</td>\n",
              "      <td>1.350000e+06</td>\n",
              "      <td>368000.000</td>\n",
              "      <td>3.674</td>\n",
              "      <td>0.000</td>\n",
              "      <td>627000.000</td>\n",
              "      <td>2.080000e+06</td>\n",
              "    </tr>\n",
              "    <tr>\n",
              "      <th>68</th>\n",
              "      <td>FOW.Down</td>\n",
              "      <td>6.050000e+04</td>\n",
              "      <td>28500.000</td>\n",
              "      <td>2.126</td>\n",
              "      <td>0.035</td>\n",
              "      <td>4436.329</td>\n",
              "      <td>1.170000e+05</td>\n",
              "    </tr>\n",
              "    <tr>\n",
              "      <th>69</th>\n",
              "      <td>FOL.Down</td>\n",
              "      <td>-6.200000e+04</td>\n",
              "      <td>28100.000</td>\n",
              "      <td>-2.211</td>\n",
              "      <td>0.028</td>\n",
              "      <td>-117000.000</td>\n",
              "      <td>-6.745002e+03</td>\n",
              "    </tr>\n",
              "    <tr>\n",
              "      <th>71</th>\n",
              "      <td>FOL.Close</td>\n",
              "      <td>-8.670000e+04</td>\n",
              "      <td>23100.000</td>\n",
              "      <td>-3.754</td>\n",
              "      <td>0.000</td>\n",
              "      <td>-132000.000</td>\n",
              "      <td>-4.120000e+04</td>\n",
              "    </tr>\n",
              "    <tr>\n",
              "      <th>102</th>\n",
              "      <td>Min</td>\n",
              "      <td>1.420000e+06</td>\n",
              "      <td>654000.000</td>\n",
              "      <td>2.171</td>\n",
              "      <td>0.031</td>\n",
              "      <td>131000.000</td>\n",
              "      <td>2.710000e+06</td>\n",
              "    </tr>\n",
              "    <tr>\n",
              "      <th>103</th>\n",
              "      <td>Maj</td>\n",
              "      <td>6.390000e+05</td>\n",
              "      <td>257000.000</td>\n",
              "      <td>2.489</td>\n",
              "      <td>0.014</td>\n",
              "      <td>133000.000</td>\n",
              "      <td>1.150000e+06</td>\n",
              "    </tr>\n",
              "    <tr>\n",
              "      <th>104</th>\n",
              "      <td>Match</td>\n",
              "      <td>-2.560000e+06</td>\n",
              "      <td>1080000.000</td>\n",
              "      <td>-2.376</td>\n",
              "      <td>0.018</td>\n",
              "      <td>-4670000.000</td>\n",
              "      <td>-4.360000e+05</td>\n",
              "    </tr>\n",
              "    <tr>\n",
              "      <th>127</th>\n",
              "      <td>HF</td>\n",
              "      <td>-9.729167e+03</td>\n",
              "      <td>2313.846</td>\n",
              "      <td>-4.205</td>\n",
              "      <td>0.000</td>\n",
              "      <td>-14300.000</td>\n",
              "      <td>-5.169696e+03</td>\n",
              "    </tr>\n",
              "  </tbody>\n",
              "</table>\n",
              "</div>"
            ],
            "text/plain": [
              "          Stat          coef      std err  ...   pval       [0.025        0.975]\n",
              "1           Wt  2.710000e+04     9264.395  ...  0.004     8856.513  4.540000e+04\n",
              "7           A1  5.760000e+06  2170000.000  ...  0.008  1490000.000  1.000000e+07\n",
              "8           A2  5.720000e+06  2160000.000  ...  0.009  1460000.000  9.970000e+06\n",
              "9          PTS  3.900000e+06  1920000.000  ...  0.043   119000.000  7.680000e+06\n",
              "29       iCF.1  1.870000e+05    76500.000  ...  0.015    35900.000  3.370000e+05\n",
              "30         iFF  7.270000e+05   329000.000  ...  0.028    79200.000  1.370000e+06\n",
              "31         iSF -1.040000e+06   419000.000  ...  0.014 -1860000.000 -2.120000e+05\n",
              "46       iMiss -5.940000e+05   263000.000  ...  0.025 -1110000.000 -7.520000e+04\n",
              "50      iGVA.1  1.350000e+06   368000.000  ...  0.000   627000.000  2.080000e+06\n",
              "68    FOW.Down  6.050000e+04    28500.000  ...  0.035     4436.329  1.170000e+05\n",
              "69    FOL.Down -6.200000e+04    28100.000  ...  0.028  -117000.000 -6.745002e+03\n",
              "71   FOL.Close -8.670000e+04    23100.000  ...  0.000  -132000.000 -4.120000e+04\n",
              "102        Min  1.420000e+06   654000.000  ...  0.031   131000.000  2.710000e+06\n",
              "103        Maj  6.390000e+05   257000.000  ...  0.014   133000.000  1.150000e+06\n",
              "104      Match -2.560000e+06  1080000.000  ...  0.018 -4670000.000 -4.360000e+05\n",
              "127         HF -9.729167e+03     2313.846  ...  0.000   -14300.000 -5.169696e+03\n",
              "\n",
              "[16 rows x 7 columns]"
            ]
          },
          "metadata": {
            "tags": []
          },
          "execution_count": 184
        }
      ]
    },
    {
      "cell_type": "markdown",
      "metadata": {
        "id": "iUXXoEmB1Yr_"
      },
      "source": [
        "After removing redundant features, the features that seem to be the most significant (p-value below 0.05) are:\n",
        "\n",
        "Wt - Weight\n",
        "\n",
        "A1 - First assists, primary assists\n",
        "\n",
        "A2 - Second assists, secondary assists\n",
        "\n",
        "PTS - Points. Goals plus all assists\n",
        "\n",
        "iCF.1 - Shot attempts taken by this individual\n",
        "\n",
        "iFF - Unblocked shot attempts taken by this individual\n",
        "\n",
        "iSF - Shots on goal taken by this individual\n",
        "\n",
        "iMiss - Individual shots taken that missed the net.\n",
        "\n",
        "iGVA.1 - Giveaways by this individual\n",
        "\n",
        "FOW.Down - Faceoffs won when the team was trailing\n",
        "\n",
        "FOL.Down - Faceoffs lost when the team was trailing\n",
        "\n",
        "FOL.Close - Faceoffs lost when the score was close\n",
        "\n",
        "Min - Minor penalties taken\n",
        "\n",
        "Maj - Major penalties taken\n",
        "\n",
        "Match - Match penalties\n",
        "\n",
        "HF - The team's hits thrown while this player was on the ice\n"
      ]
    },
    {
      "cell_type": "markdown",
      "metadata": {
        "id": "2WdOpoUoVtJx"
      },
      "source": [
        "**Some of these features are more surprising than others yet make sense when you think about them in context.**"
      ]
    },
    {
      "cell_type": "markdown",
      "metadata": {
        "id": "c9GVimjnuy4Q"
      },
      "source": [
        "Now that we have our selected features, we can start modeling\n"
      ]
    },
    {
      "cell_type": "markdown",
      "metadata": {
        "id": "C4RMLlgG_trv"
      },
      "source": [
        "# Train / Test Split"
      ]
    },
    {
      "cell_type": "markdown",
      "metadata": {
        "id": "jVQc9rPuAShM"
      },
      "source": [
        "Let's create a sub-dataset by filtering our existing dataset to only the selected features:"
      ]
    },
    {
      "cell_type": "code",
      "metadata": {
        "id": "inIFVgW390po"
      },
      "source": [
        "subfeatures = nhl[[\"Wt\", \"A1\", \"A2\", \"PTS\", \"iCF.1\", \"iFF\", \"iSF\", \"iMiss\", \"iGVA.1\", \"FOW.Down\", \"FOL.Down\", \"FOL.Close\", \"Min\", \"Maj\", \"Match\", \"HF\"]].copy()"
      ],
      "execution_count": null,
      "outputs": []
    },
    {
      "cell_type": "code",
      "metadata": {
        "id": "wY9V_bp5uZAC"
      },
      "source": [
        "subsalary = nhl[[\"Salary\"]].copy()"
      ],
      "execution_count": null,
      "outputs": []
    },
    {
      "cell_type": "markdown",
      "metadata": {
        "id": "89wyE454CM0p"
      },
      "source": [
        "We can split this data into Training at Test sets (70/30)"
      ]
    },
    {
      "cell_type": "code",
      "metadata": {
        "id": "V8_c8VogCCAi"
      },
      "source": [
        "from sklearn.model_selection import train_test_split"
      ],
      "execution_count": null,
      "outputs": []
    },
    {
      "cell_type": "code",
      "metadata": {
        "id": "CIe1resMBR3y"
      },
      "source": [
        "X = subfeatures\n",
        "y = subsalary\n",
        "X_train, X_test, y_train, y_test = train_test_split(X, y, test_size=0.3, random_state=4)"
      ],
      "execution_count": null,
      "outputs": []
    },
    {
      "cell_type": "markdown",
      "metadata": {
        "id": "TZahEaYJCgcS"
      },
      "source": [
        "# Linear Regression Model"
      ]
    },
    {
      "cell_type": "markdown",
      "metadata": {
        "id": "rLefRf_QCn0B"
      },
      "source": [
        "How that we have our training and test sets, we can create a linear regression model"
      ]
    },
    {
      "cell_type": "code",
      "metadata": {
        "id": "C79C7q27C62f"
      },
      "source": [
        "from sklearn.linear_model import LinearRegression"
      ],
      "execution_count": null,
      "outputs": []
    },
    {
      "cell_type": "code",
      "metadata": {
        "colab": {
          "base_uri": "https://localhost:8080/"
        },
        "id": "hgTrpbkpCVAq",
        "outputId": "6f029216-834f-4c0f-9705-1f49f0e91075"
      },
      "source": [
        "lrmodel = LinearRegression().fit(X_train, y_train)\n",
        "print(lrmodel.intercept_)\n",
        "print(lrmodel.coef_)"
      ],
      "execution_count": null,
      "outputs": [
        {
          "output_type": "stream",
          "text": [
            "[-6061355.47408668]\n",
            "[[ 3.33578402e+04  2.52804754e+04  3.98082523e+04  3.76482124e+04\n",
            "  -4.82076661e+03  1.25589417e+05 -1.08906389e+05 -1.36607305e+05\n",
            "   1.87695304e+04  2.98995660e+04 -1.31126699e+04 -1.07124572e+04\n",
            "   4.58854612e+03 -4.74626899e+04 -1.68810006e+06 -5.52276533e+02]]\n"
          ],
          "name": "stdout"
        }
      ]
    },
    {
      "cell_type": "markdown",
      "metadata": {
        "id": "OW618FnQQYqU"
      },
      "source": [
        "Wt - Weight\n",
        "\n",
        "A1 - First assists, primary assists\n",
        "\n",
        "A2 - Second assists, secondary assists\n",
        "\n",
        "PTS - Points. Goals plus all assists\n",
        "\n",
        "iCF.1 - Shot attempts taken by this individual\n",
        "\n",
        "iFF - Unblocked shot attempts taken by this individual\n",
        "\n",
        "iSF - Shots on goal taken by this individual\n",
        "\n",
        "iMiss - Individual shots taken that missed the net.\n",
        "\n",
        "iGVA.1 - Giveaways by this individual\n",
        "\n",
        "FOW.Down - Faceoffs won when the team was trailing\n",
        "\n",
        "FOL.Down - Faceoffs lost when the team was trailing\n",
        "\n",
        "FOL.Close - Faceoffs lost when the score was close\n",
        "\n",
        "Min - Minor penalties taken\n",
        "\n",
        "Maj - Major penalties taken\n",
        "\n",
        "Match - Match penalties\n",
        "\n",
        "HF - The team's hits thrown while this player was on the ice"
      ]
    },
    {
      "cell_type": "markdown",
      "metadata": {
        "id": "YrAebkHhDT9t"
      },
      "source": [
        "Let's see the R2 Value for our model"
      ]
    },
    {
      "cell_type": "markdown",
      "metadata": {
        "id": "an_xqeeBWNXM"
      },
      "source": [
        "**When we look at the coefficients of the various features, we can draw conclusions that make sense in context.**"
      ]
    },
    {
      "cell_type": "code",
      "metadata": {
        "colab": {
          "base_uri": "https://localhost:8080/"
        },
        "id": "bk6QQq3BDG-6",
        "outputId": "abd5c033-9abd-44ba-fb16-0c5197e29fe5"
      },
      "source": [
        "print(lrmodel.score(X_train, y_train))\n",
        "print(lrmodel.score(X_test, y_test))"
      ],
      "execution_count": null,
      "outputs": [
        {
          "output_type": "stream",
          "text": [
            "0.528444373676378\n",
            "0.5308825904523109\n"
          ],
          "name": "stdout"
        }
      ]
    },
    {
      "cell_type": "code",
      "metadata": {
        "colab": {
          "base_uri": "https://localhost:8080/",
          "height": 772
        },
        "id": "yL0F_XxvDexD",
        "outputId": "2ae8f7bf-982d-45f1-a026-2f6a04ee4506"
      },
      "source": [
        "est = sm.OLS(y_train, X_train).fit()\n",
        "est.summary()"
      ],
      "execution_count": null,
      "outputs": [
        {
          "output_type": "execute_result",
          "data": {
            "text/html": [
              "<table class=\"simpletable\">\n",
              "<caption>OLS Regression Results</caption>\n",
              "<tr>\n",
              "  <th>Dep. Variable:</th>         <td>Salary</td>      <th>  R-squared (uncentered):</th>      <td>   0.761</td>\n",
              "</tr>\n",
              "<tr>\n",
              "  <th>Model:</th>                   <td>OLS</td>       <th>  Adj. R-squared (uncentered):</th> <td>   0.745</td>\n",
              "</tr>\n",
              "<tr>\n",
              "  <th>Method:</th>             <td>Least Squares</td>  <th>  F-statistic:       </th>          <td>   46.80</td>\n",
              "</tr>\n",
              "<tr>\n",
              "  <th>Date:</th>             <td>Fri, 23 Apr 2021</td> <th>  Prob (F-statistic):</th>          <td>1.01e-63</td>\n",
              "</tr>\n",
              "<tr>\n",
              "  <th>Time:</th>                 <td>18:47:13</td>     <th>  Log-Likelihood:    </th>          <td> -3948.3</td>\n",
              "</tr>\n",
              "<tr>\n",
              "  <th>No. Observations:</th>      <td>   251</td>      <th>  AIC:               </th>          <td>   7929.</td>\n",
              "</tr>\n",
              "<tr>\n",
              "  <th>Df Residuals:</th>          <td>   235</td>      <th>  BIC:               </th>          <td>   7985.</td>\n",
              "</tr>\n",
              "<tr>\n",
              "  <th>Df Model:</th>              <td>    16</td>      <th>                     </th>              <td> </td>   \n",
              "</tr>\n",
              "<tr>\n",
              "  <th>Covariance Type:</th>      <td>nonrobust</td>    <th>                     </th>              <td> </td>   \n",
              "</tr>\n",
              "</table>\n",
              "<table class=\"simpletable\">\n",
              "<tr>\n",
              "      <td></td>         <th>coef</th>     <th>std err</th>      <th>t</th>      <th>P>|t|</th>  <th>[0.025</th>    <th>0.975]</th>  \n",
              "</tr>\n",
              "<tr>\n",
              "  <th>Wt</th>        <td> 3146.4449</td> <td> 1083.560</td> <td>    2.904</td> <td> 0.004</td> <td> 1011.713</td> <td> 5281.177</td>\n",
              "</tr>\n",
              "<tr>\n",
              "  <th>A1</th>        <td> 4.675e+04</td> <td> 5.16e+04</td> <td>    0.906</td> <td> 0.366</td> <td>-5.49e+04</td> <td> 1.48e+05</td>\n",
              "</tr>\n",
              "<tr>\n",
              "  <th>A2</th>        <td> 5.267e+04</td> <td> 4.88e+04</td> <td>    1.080</td> <td> 0.281</td> <td>-4.34e+04</td> <td> 1.49e+05</td>\n",
              "</tr>\n",
              "<tr>\n",
              "  <th>PTS</th>       <td> 1.969e+04</td> <td> 3.18e+04</td> <td>    0.619</td> <td> 0.536</td> <td>-4.29e+04</td> <td> 8.23e+04</td>\n",
              "</tr>\n",
              "<tr>\n",
              "  <th>iCF.1</th>     <td>-5789.1211</td> <td> 8647.225</td> <td>   -0.669</td> <td> 0.504</td> <td>-2.28e+04</td> <td> 1.12e+04</td>\n",
              "</tr>\n",
              "<tr>\n",
              "  <th>iFF</th>       <td> 5.035e+04</td> <td> 2.38e+05</td> <td>    0.212</td> <td> 0.832</td> <td>-4.18e+05</td> <td> 5.19e+05</td>\n",
              "</tr>\n",
              "<tr>\n",
              "  <th>iSF</th>       <td>-3.256e+04</td> <td> 2.38e+05</td> <td>   -0.137</td> <td> 0.891</td> <td>-5.02e+05</td> <td> 4.37e+05</td>\n",
              "</tr>\n",
              "<tr>\n",
              "  <th>iMiss</th>     <td> -5.44e+04</td> <td> 2.37e+05</td> <td>   -0.230</td> <td> 0.818</td> <td> -5.2e+05</td> <td> 4.12e+05</td>\n",
              "</tr>\n",
              "<tr>\n",
              "  <th>iGVA.1</th>    <td> 1.652e+04</td> <td> 1.14e+04</td> <td>    1.455</td> <td> 0.147</td> <td>-5851.546</td> <td> 3.89e+04</td>\n",
              "</tr>\n",
              "<tr>\n",
              "  <th>FOW.Down</th>  <td> 3.153e+04</td> <td> 8160.438</td> <td>    3.864</td> <td> 0.000</td> <td> 1.55e+04</td> <td> 4.76e+04</td>\n",
              "</tr>\n",
              "<tr>\n",
              "  <th>FOL.Down</th>  <td>-1.622e+04</td> <td> 1.43e+04</td> <td>   -1.131</td> <td> 0.259</td> <td>-4.45e+04</td> <td>  1.2e+04</td>\n",
              "</tr>\n",
              "<tr>\n",
              "  <th>FOL.Close</th> <td>-9990.3335</td> <td> 7791.390</td> <td>   -1.282</td> <td> 0.201</td> <td>-2.53e+04</td> <td> 5359.562</td>\n",
              "</tr>\n",
              "<tr>\n",
              "  <th>Min</th>       <td> 7954.5469</td> <td> 2.22e+04</td> <td>    0.358</td> <td> 0.721</td> <td>-3.59e+04</td> <td> 5.18e+04</td>\n",
              "</tr>\n",
              "<tr>\n",
              "  <th>Maj</th>       <td>   47.8764</td> <td> 6.52e+04</td> <td>    0.001</td> <td> 0.999</td> <td>-1.28e+05</td> <td> 1.28e+05</td>\n",
              "</tr>\n",
              "<tr>\n",
              "  <th>Match</th>     <td> -1.82e+06</td> <td> 1.77e+06</td> <td>   -1.028</td> <td> 0.305</td> <td>-5.31e+06</td> <td> 1.67e+06</td>\n",
              "</tr>\n",
              "<tr>\n",
              "  <th>HF</th>        <td> -561.4590</td> <td> 1064.180</td> <td>   -0.528</td> <td> 0.598</td> <td>-2658.011</td> <td> 1535.093</td>\n",
              "</tr>\n",
              "</table>\n",
              "<table class=\"simpletable\">\n",
              "<tr>\n",
              "  <th>Omnibus:</th>       <td>58.402</td> <th>  Durbin-Watson:     </th> <td>   2.102</td>\n",
              "</tr>\n",
              "<tr>\n",
              "  <th>Prob(Omnibus):</th> <td> 0.000</td> <th>  Jarque-Bera (JB):  </th> <td> 156.130</td>\n",
              "</tr>\n",
              "<tr>\n",
              "  <th>Skew:</th>          <td> 1.034</td> <th>  Prob(JB):          </th> <td>1.25e-34</td>\n",
              "</tr>\n",
              "<tr>\n",
              "  <th>Kurtosis:</th>      <td> 6.263</td> <th>  Cond. No.          </th> <td>8.62e+03</td>\n",
              "</tr>\n",
              "</table><br/><br/>Warnings:<br/>[1] Standard Errors assume that the covariance matrix of the errors is correctly specified.<br/>[2] The condition number is large, 8.62e+03. This might indicate that there are<br/>strong multicollinearity or other numerical problems."
            ],
            "text/plain": [
              "<class 'statsmodels.iolib.summary.Summary'>\n",
              "\"\"\"\n",
              "                                 OLS Regression Results                                \n",
              "=======================================================================================\n",
              "Dep. Variable:                 Salary   R-squared (uncentered):                   0.761\n",
              "Model:                            OLS   Adj. R-squared (uncentered):              0.745\n",
              "Method:                 Least Squares   F-statistic:                              46.80\n",
              "Date:                Fri, 23 Apr 2021   Prob (F-statistic):                    1.01e-63\n",
              "Time:                        18:47:13   Log-Likelihood:                         -3948.3\n",
              "No. Observations:                 251   AIC:                                      7929.\n",
              "Df Residuals:                     235   BIC:                                      7985.\n",
              "Df Model:                          16                                                  \n",
              "Covariance Type:            nonrobust                                                  \n",
              "==============================================================================\n",
              "                 coef    std err          t      P>|t|      [0.025      0.975]\n",
              "------------------------------------------------------------------------------\n",
              "Wt          3146.4449   1083.560      2.904      0.004    1011.713    5281.177\n",
              "A1          4.675e+04   5.16e+04      0.906      0.366   -5.49e+04    1.48e+05\n",
              "A2          5.267e+04   4.88e+04      1.080      0.281   -4.34e+04    1.49e+05\n",
              "PTS         1.969e+04   3.18e+04      0.619      0.536   -4.29e+04    8.23e+04\n",
              "iCF.1      -5789.1211   8647.225     -0.669      0.504   -2.28e+04    1.12e+04\n",
              "iFF         5.035e+04   2.38e+05      0.212      0.832   -4.18e+05    5.19e+05\n",
              "iSF        -3.256e+04   2.38e+05     -0.137      0.891   -5.02e+05    4.37e+05\n",
              "iMiss       -5.44e+04   2.37e+05     -0.230      0.818    -5.2e+05    4.12e+05\n",
              "iGVA.1      1.652e+04   1.14e+04      1.455      0.147   -5851.546    3.89e+04\n",
              "FOW.Down    3.153e+04   8160.438      3.864      0.000    1.55e+04    4.76e+04\n",
              "FOL.Down   -1.622e+04   1.43e+04     -1.131      0.259   -4.45e+04     1.2e+04\n",
              "FOL.Close  -9990.3335   7791.390     -1.282      0.201   -2.53e+04    5359.562\n",
              "Min         7954.5469   2.22e+04      0.358      0.721   -3.59e+04    5.18e+04\n",
              "Maj           47.8764   6.52e+04      0.001      0.999   -1.28e+05    1.28e+05\n",
              "Match       -1.82e+06   1.77e+06     -1.028      0.305   -5.31e+06    1.67e+06\n",
              "HF          -561.4590   1064.180     -0.528      0.598   -2658.011    1535.093\n",
              "==============================================================================\n",
              "Omnibus:                       58.402   Durbin-Watson:                   2.102\n",
              "Prob(Omnibus):                  0.000   Jarque-Bera (JB):              156.130\n",
              "Skew:                           1.034   Prob(JB):                     1.25e-34\n",
              "Kurtosis:                       6.263   Cond. No.                     8.62e+03\n",
              "==============================================================================\n",
              "\n",
              "Warnings:\n",
              "[1] Standard Errors assume that the covariance matrix of the errors is correctly specified.\n",
              "[2] The condition number is large, 8.62e+03. This might indicate that there are\n",
              "strong multicollinearity or other numerical problems.\n",
              "\"\"\""
            ]
          },
          "metadata": {
            "tags": []
          },
          "execution_count": 147
        }
      ]
    },
    {
      "cell_type": "markdown",
      "metadata": {
        "id": "xw1ty7gxLHYD"
      },
      "source": [
        "# \"Rich\" or \"Not\""
      ]
    },
    {
      "cell_type": "markdown",
      "metadata": {
        "id": "YsfrcnXGLQX8"
      },
      "source": [
        "For argument's sake, let's say that a player who makes a salary above the average is considered \"rich\" and one who makes below the average is considered \"not\". Let's start by seeing what the average salary is"
      ]
    },
    {
      "cell_type": "code",
      "metadata": {
        "colab": {
          "base_uri": "https://localhost:8080/"
        },
        "id": "BkoT2XqnLNjJ",
        "outputId": "3f1511d8-1395-4699-9536-2a167378352a"
      },
      "source": [
        "nhl[\"Salary\"].mean()"
      ],
      "execution_count": null,
      "outputs": [
        {
          "output_type": "execute_result",
          "data": {
            "text/plain": [
              "2456543.52367688"
            ]
          },
          "metadata": {
            "tags": []
          },
          "execution_count": 185
        }
      ]
    },
    {
      "cell_type": "markdown",
      "metadata": {
        "id": "4NIQH2biRp82"
      },
      "source": [
        "Now that we have the average salary, we can make the column to determine if the player is above average or not. A \"1\" designates above average salary and a \"0\" designates below average."
      ]
    },
    {
      "cell_type": "code",
      "metadata": {
        "id": "RK3lE6HhLvXv"
      },
      "source": [
        "subfeatures['rich'] = np.where(subsalary['Salary'] > 2456543, '1', '0')"
      ],
      "execution_count": null,
      "outputs": []
    },
    {
      "cell_type": "code",
      "metadata": {
        "colab": {
          "base_uri": "https://localhost:8080/",
          "height": 204
        },
        "id": "7gQv2oVtPdF_",
        "outputId": "3b03de98-277a-4dd2-9488-12a937a348cb"
      },
      "source": [
        "subfeatures.head()"
      ],
      "execution_count": null,
      "outputs": [
        {
          "output_type": "execute_result",
          "data": {
            "text/html": [
              "<div>\n",
              "<style scoped>\n",
              "    .dataframe tbody tr th:only-of-type {\n",
              "        vertical-align: middle;\n",
              "    }\n",
              "\n",
              "    .dataframe tbody tr th {\n",
              "        vertical-align: top;\n",
              "    }\n",
              "\n",
              "    .dataframe thead th {\n",
              "        text-align: right;\n",
              "    }\n",
              "</style>\n",
              "<table border=\"1\" class=\"dataframe\">\n",
              "  <thead>\n",
              "    <tr style=\"text-align: right;\">\n",
              "      <th></th>\n",
              "      <th>Wt</th>\n",
              "      <th>A1</th>\n",
              "      <th>A2</th>\n",
              "      <th>PTS</th>\n",
              "      <th>iCF.1</th>\n",
              "      <th>iFF</th>\n",
              "      <th>iSF</th>\n",
              "      <th>iMiss</th>\n",
              "      <th>iGVA.1</th>\n",
              "      <th>FOW.Down</th>\n",
              "      <th>FOL.Down</th>\n",
              "      <th>FOL.Close</th>\n",
              "      <th>Min</th>\n",
              "      <th>Maj</th>\n",
              "      <th>Match</th>\n",
              "      <th>HF</th>\n",
              "      <th>rich</th>\n",
              "    </tr>\n",
              "  </thead>\n",
              "  <tbody>\n",
              "    <tr>\n",
              "      <th>0</th>\n",
              "      <td>190</td>\n",
              "      <td>0</td>\n",
              "      <td>0</td>\n",
              "      <td>0</td>\n",
              "      <td>2</td>\n",
              "      <td>2.0</td>\n",
              "      <td>1.0</td>\n",
              "      <td>1</td>\n",
              "      <td>1.0</td>\n",
              "      <td>0</td>\n",
              "      <td>0</td>\n",
              "      <td>0</td>\n",
              "      <td>0</td>\n",
              "      <td>0</td>\n",
              "      <td>0</td>\n",
              "      <td>1.0</td>\n",
              "      <td>0</td>\n",
              "    </tr>\n",
              "    <tr>\n",
              "      <th>1</th>\n",
              "      <td>207</td>\n",
              "      <td>6</td>\n",
              "      <td>9</td>\n",
              "      <td>17</td>\n",
              "      <td>287</td>\n",
              "      <td>197.0</td>\n",
              "      <td>143.0</td>\n",
              "      <td>54</td>\n",
              "      <td>74.0</td>\n",
              "      <td>0</td>\n",
              "      <td>0</td>\n",
              "      <td>0</td>\n",
              "      <td>10</td>\n",
              "      <td>0</td>\n",
              "      <td>0</td>\n",
              "      <td>749.0</td>\n",
              "      <td>0</td>\n",
              "    </tr>\n",
              "    <tr>\n",
              "      <th>2</th>\n",
              "      <td>218</td>\n",
              "      <td>13</td>\n",
              "      <td>13</td>\n",
              "      <td>45</td>\n",
              "      <td>283</td>\n",
              "      <td>212.0</td>\n",
              "      <td>155.0</td>\n",
              "      <td>57</td>\n",
              "      <td>36.0</td>\n",
              "      <td>21</td>\n",
              "      <td>16</td>\n",
              "      <td>33</td>\n",
              "      <td>12</td>\n",
              "      <td>0</td>\n",
              "      <td>0</td>\n",
              "      <td>340.0</td>\n",
              "      <td>1</td>\n",
              "    </tr>\n",
              "    <tr>\n",
              "      <th>3</th>\n",
              "      <td>220</td>\n",
              "      <td>5</td>\n",
              "      <td>0</td>\n",
              "      <td>6</td>\n",
              "      <td>88</td>\n",
              "      <td>55.0</td>\n",
              "      <td>40.0</td>\n",
              "      <td>15</td>\n",
              "      <td>23.0</td>\n",
              "      <td>0</td>\n",
              "      <td>0</td>\n",
              "      <td>0</td>\n",
              "      <td>4</td>\n",
              "      <td>2</td>\n",
              "      <td>0</td>\n",
              "      <td>198.0</td>\n",
              "      <td>1</td>\n",
              "    </tr>\n",
              "    <tr>\n",
              "      <th>4</th>\n",
              "      <td>217</td>\n",
              "      <td>4</td>\n",
              "      <td>8</td>\n",
              "      <td>19</td>\n",
              "      <td>166</td>\n",
              "      <td>118.0</td>\n",
              "      <td>95.0</td>\n",
              "      <td>23</td>\n",
              "      <td>21.0</td>\n",
              "      <td>0</td>\n",
              "      <td>3</td>\n",
              "      <td>6</td>\n",
              "      <td>33</td>\n",
              "      <td>9</td>\n",
              "      <td>0</td>\n",
              "      <td>512.0</td>\n",
              "      <td>0</td>\n",
              "    </tr>\n",
              "  </tbody>\n",
              "</table>\n",
              "</div>"
            ],
            "text/plain": [
              "    Wt  A1  A2  PTS  iCF.1    iFF  ...  FOL.Close  Min  Maj  Match     HF  rich\n",
              "0  190   0   0    0      2    2.0  ...          0    0    0      0    1.0     0\n",
              "1  207   6   9   17    287  197.0  ...          0   10    0      0  749.0     0\n",
              "2  218  13  13   45    283  212.0  ...         33   12    0      0  340.0     1\n",
              "3  220   5   0    6     88   55.0  ...          0    4    2      0  198.0     1\n",
              "4  217   4   8   19    166  118.0  ...          6   33    9      0  512.0     0\n",
              "\n",
              "[5 rows x 17 columns]"
            ]
          },
          "metadata": {
            "tags": []
          },
          "execution_count": 199
        }
      ]
    },
    {
      "cell_type": "markdown",
      "metadata": {
        "id": "UUIfL5_XSAAx"
      },
      "source": [
        "Let's run a Logistic Regression Model to predict if a player is above average salary based on the selected features"
      ]
    },
    {
      "cell_type": "code",
      "metadata": {
        "id": "32PCAWXySqKU"
      },
      "source": [
        "logresfeat = nhl[[\"Wt\", \"A1\", \"A2\", \"PTS\", \"iCF.1\", \"iFF\", \"iSF\", \"iMiss\", \"iGVA.1\", \"FOW.Down\", \"FOL.Down\", \"FOL.Close\", \"Min\", \"Maj\", \"Match\", \"HF\"]].copy()"
      ],
      "execution_count": null,
      "outputs": []
    },
    {
      "cell_type": "code",
      "metadata": {
        "id": "KbkxkrUuP_Z_"
      },
      "source": [
        "a = logresfeat\n",
        "b = subfeatures['rich']"
      ],
      "execution_count": null,
      "outputs": []
    },
    {
      "cell_type": "code",
      "metadata": {
        "id": "Te5CIkPETXzN"
      },
      "source": [
        "from sklearn.linear_model import LogisticRegression\n",
        "from sklearn import metrics"
      ],
      "execution_count": null,
      "outputs": []
    },
    {
      "cell_type": "code",
      "metadata": {
        "colab": {
          "base_uri": "https://localhost:8080/",
          "height": 340
        },
        "id": "5cAXNHo-TkS7",
        "outputId": "d54c08c3-46d6-45da-f525-0d0b1388cd2c"
      },
      "source": [
        "a_train, a_test, b_train, b_test = train_test_split(a, b, test_size=0.3, random_state=0)\n",
        "lr = LogisticRegression().fit(a_train, b_train)\n",
        "bhat = lr.predict(a_train)\n",
        "\n",
        "dftrain = pd.DataFrame(a_train, columns = [\"Wt\", \"A1\", \"A2\", \"PTS\", \"iCF.1\", \"iFF\", \"iSF\", \"iMiss\", \"iGVA.1\", \"FOW.Down\", \"FOL.Down\", \"FOL.Close\", \"Min\", \"Maj\", \"Match\", \"HF\"])\n",
        "dftrain['Actual'] = b_train\n",
        "dftrain['Predicted'] = bhat\n",
        "dftrain.head()"
      ],
      "execution_count": null,
      "outputs": [
        {
          "output_type": "stream",
          "text": [
            "/usr/local/lib/python3.7/dist-packages/sklearn/linear_model/_logistic.py:940: ConvergenceWarning: lbfgs failed to converge (status=1):\n",
            "STOP: TOTAL NO. of ITERATIONS REACHED LIMIT.\n",
            "\n",
            "Increase the number of iterations (max_iter) or scale the data as shown in:\n",
            "    https://scikit-learn.org/stable/modules/preprocessing.html\n",
            "Please also refer to the documentation for alternative solver options:\n",
            "    https://scikit-learn.org/stable/modules/linear_model.html#logistic-regression\n",
            "  extra_warning_msg=_LOGISTIC_SOLVER_CONVERGENCE_MSG)\n"
          ],
          "name": "stderr"
        },
        {
          "output_type": "execute_result",
          "data": {
            "text/html": [
              "<div>\n",
              "<style scoped>\n",
              "    .dataframe tbody tr th:only-of-type {\n",
              "        vertical-align: middle;\n",
              "    }\n",
              "\n",
              "    .dataframe tbody tr th {\n",
              "        vertical-align: top;\n",
              "    }\n",
              "\n",
              "    .dataframe thead th {\n",
              "        text-align: right;\n",
              "    }\n",
              "</style>\n",
              "<table border=\"1\" class=\"dataframe\">\n",
              "  <thead>\n",
              "    <tr style=\"text-align: right;\">\n",
              "      <th></th>\n",
              "      <th>Wt</th>\n",
              "      <th>A1</th>\n",
              "      <th>A2</th>\n",
              "      <th>PTS</th>\n",
              "      <th>iCF.1</th>\n",
              "      <th>iFF</th>\n",
              "      <th>iSF</th>\n",
              "      <th>iMiss</th>\n",
              "      <th>iGVA.1</th>\n",
              "      <th>FOW.Down</th>\n",
              "      <th>FOL.Down</th>\n",
              "      <th>FOL.Close</th>\n",
              "      <th>Min</th>\n",
              "      <th>Maj</th>\n",
              "      <th>Match</th>\n",
              "      <th>HF</th>\n",
              "      <th>Actual</th>\n",
              "      <th>Predicted</th>\n",
              "    </tr>\n",
              "  </thead>\n",
              "  <tbody>\n",
              "    <tr>\n",
              "      <th>467</th>\n",
              "      <td>215</td>\n",
              "      <td>5</td>\n",
              "      <td>7</td>\n",
              "      <td>25</td>\n",
              "      <td>153</td>\n",
              "      <td>127.0</td>\n",
              "      <td>87.0</td>\n",
              "      <td>40</td>\n",
              "      <td>30.0</td>\n",
              "      <td>4</td>\n",
              "      <td>8</td>\n",
              "      <td>24</td>\n",
              "      <td>13</td>\n",
              "      <td>1</td>\n",
              "      <td>0</td>\n",
              "      <td>375.0</td>\n",
              "      <td>1</td>\n",
              "      <td>0</td>\n",
              "    </tr>\n",
              "    <tr>\n",
              "      <th>338</th>\n",
              "      <td>200</td>\n",
              "      <td>1</td>\n",
              "      <td>0</td>\n",
              "      <td>1</td>\n",
              "      <td>18</td>\n",
              "      <td>12.0</td>\n",
              "      <td>9.0</td>\n",
              "      <td>3</td>\n",
              "      <td>1.0</td>\n",
              "      <td>10</td>\n",
              "      <td>9</td>\n",
              "      <td>13</td>\n",
              "      <td>2</td>\n",
              "      <td>0</td>\n",
              "      <td>0</td>\n",
              "      <td>60.0</td>\n",
              "      <td>0</td>\n",
              "      <td>0</td>\n",
              "    </tr>\n",
              "    <tr>\n",
              "      <th>302</th>\n",
              "      <td>185</td>\n",
              "      <td>9</td>\n",
              "      <td>5</td>\n",
              "      <td>23</td>\n",
              "      <td>164</td>\n",
              "      <td>134.0</td>\n",
              "      <td>95.0</td>\n",
              "      <td>39</td>\n",
              "      <td>20.0</td>\n",
              "      <td>9</td>\n",
              "      <td>10</td>\n",
              "      <td>17</td>\n",
              "      <td>8</td>\n",
              "      <td>0</td>\n",
              "      <td>0</td>\n",
              "      <td>489.0</td>\n",
              "      <td>0</td>\n",
              "      <td>0</td>\n",
              "    </tr>\n",
              "    <tr>\n",
              "      <th>489</th>\n",
              "      <td>193</td>\n",
              "      <td>15</td>\n",
              "      <td>12</td>\n",
              "      <td>40</td>\n",
              "      <td>226</td>\n",
              "      <td>176.0</td>\n",
              "      <td>133.0</td>\n",
              "      <td>43</td>\n",
              "      <td>36.0</td>\n",
              "      <td>155</td>\n",
              "      <td>152</td>\n",
              "      <td>329</td>\n",
              "      <td>15</td>\n",
              "      <td>1</td>\n",
              "      <td>0</td>\n",
              "      <td>427.0</td>\n",
              "      <td>0</td>\n",
              "      <td>0</td>\n",
              "    </tr>\n",
              "    <tr>\n",
              "      <th>255</th>\n",
              "      <td>198</td>\n",
              "      <td>0</td>\n",
              "      <td>0</td>\n",
              "      <td>0</td>\n",
              "      <td>8</td>\n",
              "      <td>7.0</td>\n",
              "      <td>3.0</td>\n",
              "      <td>4</td>\n",
              "      <td>3.0</td>\n",
              "      <td>1</td>\n",
              "      <td>0</td>\n",
              "      <td>1</td>\n",
              "      <td>0</td>\n",
              "      <td>0</td>\n",
              "      <td>0</td>\n",
              "      <td>31.0</td>\n",
              "      <td>0</td>\n",
              "      <td>0</td>\n",
              "    </tr>\n",
              "  </tbody>\n",
              "</table>\n",
              "</div>"
            ],
            "text/plain": [
              "      Wt  A1  A2  PTS  iCF.1    iFF  ...  Min  Maj  Match     HF  Actual  Predicted\n",
              "467  215   5   7   25    153  127.0  ...   13    1      0  375.0       1          0\n",
              "338  200   1   0    1     18   12.0  ...    2    0      0   60.0       0          0\n",
              "302  185   9   5   23    164  134.0  ...    8    0      0  489.0       0          0\n",
              "489  193  15  12   40    226  176.0  ...   15    1      0  427.0       0          0\n",
              "255  198   0   0    0      8    7.0  ...    0    0      0   31.0       0          0\n",
              "\n",
              "[5 rows x 18 columns]"
            ]
          },
          "metadata": {
            "tags": []
          },
          "execution_count": 204
        }
      ]
    },
    {
      "cell_type": "code",
      "metadata": {
        "colab": {
          "base_uri": "https://localhost:8080/"
        },
        "id": "YOGMVJF1Twh1",
        "outputId": "a4483cd8-9dfe-4859-a9c2-bffc712b81b8"
      },
      "source": [
        "lr.coef_"
      ],
      "execution_count": null,
      "outputs": [
        {
          "output_type": "execute_result",
          "data": {
            "text/plain": [
              "array([[-0.01421086,  0.02043752, -0.09145005,  0.07461333,  0.01440079,\n",
              "        -0.0105717 , -0.00094363, -0.02351306,  0.02497234,  0.05300078,\n",
              "        -0.03285204, -0.01281611, -0.0112159 , -0.04885372, -0.00729781,\n",
              "         0.00130981]])"
            ]
          },
          "metadata": {
            "tags": []
          },
          "execution_count": 205
        }
      ]
    },
    {
      "cell_type": "code",
      "metadata": {
        "colab": {
          "base_uri": "https://localhost:8080/"
        },
        "id": "8jvAbE9CUHgc",
        "outputId": "2ad91598-d79b-4099-888f-aed08056d659"
      },
      "source": [
        "lr.predict_proba(a_test)[0]"
      ],
      "execution_count": null,
      "outputs": [
        {
          "output_type": "execute_result",
          "data": {
            "text/plain": [
              "array([0.90145121, 0.09854879])"
            ]
          },
          "metadata": {
            "tags": []
          },
          "execution_count": 207
        }
      ]
    },
    {
      "cell_type": "code",
      "metadata": {
        "colab": {
          "base_uri": "https://localhost:8080/"
        },
        "id": "_aVAM7ZyUJWM",
        "outputId": "c049d1fb-4923-413c-d941-5e2e997985bf"
      },
      "source": [
        "accuracy_score(b_train, bhat)"
      ],
      "execution_count": null,
      "outputs": [
        {
          "output_type": "execute_result",
          "data": {
            "text/plain": [
              "0.7928286852589641"
            ]
          },
          "metadata": {
            "tags": []
          },
          "execution_count": 208
        }
      ]
    },
    {
      "cell_type": "code",
      "metadata": {
        "colab": {
          "base_uri": "https://localhost:8080/"
        },
        "id": "WP4D1Us8URKl",
        "outputId": "6cf70991-5aea-44dc-89e4-6fc858b05b51"
      },
      "source": [
        "bhat = lr.predict(a_test)\n",
        "accuracy_score(b_test, bhat)"
      ],
      "execution_count": null,
      "outputs": [
        {
          "output_type": "execute_result",
          "data": {
            "text/plain": [
              "0.8055555555555556"
            ]
          },
          "metadata": {
            "tags": []
          },
          "execution_count": 209
        }
      ]
    },
    {
      "cell_type": "markdown",
      "metadata": {
        "id": "9C4F-Qp3VPRf"
      },
      "source": [
        "We have an accuracy score of about 80.5% on our logistic regression model to determine if a player is above or below average salary based on the selected features."
      ]
    },
    {
      "cell_type": "code",
      "metadata": {
        "id": "UXyx2AKoVqJ7"
      },
      "source": [
        ""
      ],
      "execution_count": null,
      "outputs": []
    },
    {
      "cell_type": "markdown",
      "metadata": {
        "id": "c3occ9Ou8Ffy"
      },
      "source": [
        "# Tableau - Points Production vs Salary; Value Overview"
      ]
    },
    {
      "cell_type": "markdown",
      "metadata": {
        "id": "lGU4ktMG8eZS"
      },
      "source": [
        "Tableau workbook gives an overview of players point production versus the salary paid. Gives an idea of players who can be considered a \"great bragain\" vs those who are \"overpaid\" when it comes to point production."
      ]
    },
    {
      "cell_type": "code",
      "metadata": {
        "id": "8Rv49LkG8VHa"
      },
      "source": [
        ""
      ],
      "execution_count": null,
      "outputs": []
    }
  ]
}