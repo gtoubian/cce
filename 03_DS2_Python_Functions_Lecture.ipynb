{
  "nbformat": 4,
  "nbformat_minor": 0,
  "metadata": {
    "language_info": {
      "name": "python",
      "codemirror_mode": {
        "name": "ipython",
        "version": 3
      },
      "version": "3.7.4-final"
    },
    "orig_nbformat": 2,
    "file_extension": ".py",
    "mimetype": "text/x-python",
    "name": "python",
    "npconvert_exporter": "python",
    "pygments_lexer": "ipython3",
    "version": 3,
    "kernelspec": {
      "name": "python37764biticbscondaf4d657c25dbb416bac6851c38201b968",
      "display_name": "Python 3.7.7 64-bit ('icbs': conda)"
    },
    "colab": {
      "name": "03_DS2_Python_Functions_Lecture.ipynb",
      "provenance": [],
      "include_colab_link": true
    }
  },
  "cells": [
    {
      "cell_type": "markdown",
      "metadata": {
        "id": "view-in-github",
        "colab_type": "text"
      },
      "source": [
        "<a href=\"https://colab.research.google.com/github/gtoubian/cce/blob/main/03_DS2_Python_Functions_Lecture.ipynb\" target=\"_parent\"><img src=\"https://colab.research.google.com/assets/colab-badge.svg\" alt=\"Open In Colab\"/></a>"
      ]
    },
    {
      "cell_type": "markdown",
      "metadata": {
        "id": "OosMZrpwZkma"
      },
      "source": [
        "# Functions\n",
        "\n",
        "In the previous lecture, we looked at creating loops and using functions such as the range and len functions. In this lecture, we will look at how to create our own functions. We can define our own functions with the `def` statement. The value output is nominated with the `return` statement"
      ]
    },
    {
      "cell_type": "code",
      "metadata": {
        "id": "ufzUMfLUZkme",
        "colab": {
          "base_uri": "https://localhost:8080/",
          "height": 35
        },
        "outputId": "9a65c975-a686-48fb-d99c-b3cad14e9392"
      },
      "source": [
        "def is_neg(x):\r\n",
        "  if x >0:\r\n",
        "    return 'negative'\r\n",
        "  return 'nonnegative'\r\n",
        "\r\n",
        "is_neg(-5)"
      ],
      "execution_count": 1,
      "outputs": [
        {
          "output_type": "execute_result",
          "data": {
            "application/vnd.google.colaboratory.intrinsic+json": {
              "type": "string"
            },
            "text/plain": [
              "'nonnegative'"
            ]
          },
          "metadata": {
            "tags": []
          },
          "execution_count": 1
        }
      ]
    },
    {
      "cell_type": "markdown",
      "metadata": {
        "id": "z5NyPaa2Zkmf"
      },
      "source": [
        "Functions without a return statement automatically return the special Python object `None`."
      ]
    },
    {
      "cell_type": "code",
      "metadata": {
        "id": "Uz3iW4OQZkmf",
        "colab": {
          "base_uri": "https://localhost:8080/"
        },
        "outputId": "5bc4d64e-307e-4b0f-c877-35f5486f3c37"
      },
      "source": [
        "x = print(\"hi\")\r\n",
        "print(x)"
      ],
      "execution_count": 2,
      "outputs": [
        {
          "output_type": "stream",
          "text": [
            "hi\n",
            "None\n"
          ],
          "name": "stdout"
        }
      ]
    },
    {
      "cell_type": "markdown",
      "metadata": {
        "id": "HOjJlR3Xsw4f"
      },
      "source": [
        "We can also write functions in python to mimic the functions that we've seen in math."
      ]
    },
    {
      "cell_type": "code",
      "metadata": {
        "id": "nQU61rSRs6Ki",
        "colab": {
          "base_uri": "https://localhost:8080/"
        },
        "outputId": "d4a5fbd4-ff36-4d94-c877-d7bac4d60b80"
      },
      "source": [
        "def f(x):\r\n",
        "  return 3*x**2 + 2*x\r\n",
        "f(5)"
      ],
      "execution_count": 4,
      "outputs": [
        {
          "output_type": "execute_result",
          "data": {
            "text/plain": [
              "85"
            ]
          },
          "metadata": {
            "tags": []
          },
          "execution_count": 4
        }
      ]
    },
    {
      "cell_type": "markdown",
      "metadata": {
        "id": "p9w8bsiVtdnB"
      },
      "source": [
        "In the above cell I wrote f(x) = 3x^2 + 2x as a function in python."
      ]
    },
    {
      "cell_type": "code",
      "metadata": {
        "id": "ktfZMlA9t5ql"
      },
      "source": [
        "##Exercise (5-10 min)\r\n",
        "##Write the mathematical functions below as functions in python\r\n",
        "\r\n",
        "#f(x) = (3 ÷ 2)x + 4\r\n",
        "def f(x):\r\n",
        "  return (3/2)*x + 4\r\n",
        "\r\n",
        "\r\n",
        "#f(x) = 6x^(6 ÷ 3) + 9x^4 + 3^(x+4)\r\n",
        "def f(x):\r\n",
        "  return 6*x**(6/3) + 9*x**4 + 3**(x+4)\r\n",
        "\r\n",
        "#f(x,y) = 6x + 3xy + 6y\r\n",
        "def f(x,y):\r\n",
        "  return 6*x + 3*x*y + 6*y\r\n"
      ],
      "execution_count": null,
      "outputs": []
    },
    {
      "cell_type": "markdown",
      "metadata": {
        "id": "eBDrxapZu8De"
      },
      "source": [
        "Functions in python are nice in that they can take more than just numbers as arguments (or inputs)."
      ]
    },
    {
      "cell_type": "markdown",
      "metadata": {
        "id": "D92YQppULS0x"
      },
      "source": [
        "#Functions as a Container of Algorithms\r\n",
        "\r\n",
        "The nice thing about functions is that much like calling elements in a data container, you can call lines of code that you have previously inputted.\r\n",
        "\r\n",
        "Say for example, we have a list of numbers that we want to multiply together. To do this, let's use a for loop."
      ]
    },
    {
      "cell_type": "code",
      "metadata": {
        "id": "Iel5SuspPX7u",
        "colab": {
          "base_uri": "https://localhost:8080/"
        },
        "outputId": "450a6496-cd09-4282-f0c9-904ccf2dc080"
      },
      "source": [
        "Numbers = [3,4,5,6,7,8,9,10]\r\n",
        "\r\n",
        "Product = Numbers[0]\r\n",
        "for i in range(1,len(Numbers)):\r\n",
        "  Product = Product*Numbers[i]\r\n",
        "\r\n",
        "print(Product)"
      ],
      "execution_count": 5,
      "outputs": [
        {
          "output_type": "stream",
          "text": [
            "1814400\n"
          ],
          "name": "stdout"
        }
      ]
    },
    {
      "cell_type": "markdown",
      "metadata": {
        "id": "9TlmXYr6Qp9D"
      },
      "source": [
        "Now let's say we have multiple lists of numbers that we want to multiply together. Rather than repeatedly writing the same 4 lines above for each data container, we can call them in 1 line by creating a function we can call on."
      ]
    },
    {
      "cell_type": "code",
      "metadata": {
        "id": "6C8keW3NRA1c",
        "colab": {
          "base_uri": "https://localhost:8080/"
        },
        "outputId": "348378ef-50c9-443e-c57c-62c4d4471fe6"
      },
      "source": [
        "Y = [2,3,4,5,5,6,6,7,8,9,9,10]\r\n",
        "Z = [1,2,4,434,5,4,54,54]\r\n",
        "A = [1,1,1,1,12,2,2,2,2,3,3,3]\r\n",
        "\r\n",
        "def Product(x): \r\n",
        "  Product = x[0]\r\n",
        "  for i in range(1,len(x)):\r\n",
        "    Product = Product*x[i]\r\n",
        "  return Product\r\n",
        "\r\n",
        "print(Product(Y))\r\n",
        "print(product(Z))\r\n",
        "print(product(A))"
      ],
      "execution_count": 15,
      "outputs": [
        {
          "output_type": "stream",
          "text": [
            "979776000\n",
            "202487040\n",
            "5184\n"
          ],
          "name": "stdout"
        }
      ]
    },
    {
      "cell_type": "markdown",
      "metadata": {
        "id": "Uls3EuDHSFQ8"
      },
      "source": [
        "As you can see in the above example, rather than writing a loop to take a product for each list, I simply defined a function that could do so and then called it. Take note of the line where I defined the function.\r\n",
        "\r\n",
        "```\r\n",
        "def product(X)\r\n",
        "```\r\n",
        "In this line, X is a variable name given to the argument of the function and the following lines in the body of the function give instructions on what to do with the argument. \r\n",
        " \r\n",
        "\r\n",
        "##Function Arguments\r\n",
        "\r\n",
        "Sometimes functions require an argument or input that the user has to pass into the function. In the product function example above, we needed to pass a list into a function. **Be careful of what kind of argument you pass into a function as the wrong data type/container can cause an error**\r\n",
        "\r\n",
        "Let's take this example:"
      ]
    },
    {
      "cell_type": "code",
      "metadata": {
        "id": "lqAm5WmiYllV",
        "colab": {
          "base_uri": "https://localhost:8080/",
          "height": 299
        },
        "outputId": "9fbdc19b-c544-4461-8891-e16b839e43c7"
      },
      "source": [
        "argument = 'this is wrong'\r\n",
        "product(argument)"
      ],
      "execution_count": 18,
      "outputs": [
        {
          "output_type": "error",
          "ename": "TypeError",
          "evalue": "ignored",
          "traceback": [
            "\u001b[0;31m---------------------------------------------------------------------------\u001b[0m",
            "\u001b[0;31mTypeError\u001b[0m                                 Traceback (most recent call last)",
            "\u001b[0;32m<ipython-input-18-ca637dbf7f66>\u001b[0m in \u001b[0;36m<module>\u001b[0;34m()\u001b[0m\n\u001b[1;32m      1\u001b[0m \u001b[0margument\u001b[0m \u001b[0;34m=\u001b[0m \u001b[0;34m'this is wrong'\u001b[0m\u001b[0;34m\u001b[0m\u001b[0;34m\u001b[0m\u001b[0m\n\u001b[0;32m----> 2\u001b[0;31m \u001b[0mproduct\u001b[0m\u001b[0;34m(\u001b[0m\u001b[0margument\u001b[0m\u001b[0;34m)\u001b[0m\u001b[0;34m\u001b[0m\u001b[0;34m\u001b[0m\u001b[0m\n\u001b[0m",
            "\u001b[0;32m<ipython-input-13-eadfe84fff29>\u001b[0m in \u001b[0;36mproduct\u001b[0;34m(x)\u001b[0m\n\u001b[1;32m      6\u001b[0m   \u001b[0mProduct\u001b[0m \u001b[0;34m=\u001b[0m \u001b[0mx\u001b[0m\u001b[0;34m[\u001b[0m\u001b[0;36m0\u001b[0m\u001b[0;34m]\u001b[0m\u001b[0;34m\u001b[0m\u001b[0;34m\u001b[0m\u001b[0m\n\u001b[1;32m      7\u001b[0m   \u001b[0;32mfor\u001b[0m \u001b[0mi\u001b[0m \u001b[0;32min\u001b[0m \u001b[0mrange\u001b[0m\u001b[0;34m(\u001b[0m\u001b[0;36m1\u001b[0m\u001b[0;34m,\u001b[0m\u001b[0mlen\u001b[0m\u001b[0;34m(\u001b[0m\u001b[0mx\u001b[0m\u001b[0;34m)\u001b[0m\u001b[0;34m)\u001b[0m\u001b[0;34m:\u001b[0m\u001b[0;34m\u001b[0m\u001b[0;34m\u001b[0m\u001b[0m\n\u001b[0;32m----> 8\u001b[0;31m     \u001b[0mProduct\u001b[0m \u001b[0;34m=\u001b[0m \u001b[0mProduct\u001b[0m\u001b[0;34m*\u001b[0m\u001b[0mx\u001b[0m\u001b[0;34m[\u001b[0m\u001b[0mi\u001b[0m\u001b[0;34m]\u001b[0m\u001b[0;34m\u001b[0m\u001b[0;34m\u001b[0m\u001b[0m\n\u001b[0m\u001b[1;32m      9\u001b[0m   \u001b[0;32mreturn\u001b[0m \u001b[0mProduct\u001b[0m\u001b[0;34m\u001b[0m\u001b[0;34m\u001b[0m\u001b[0m\n\u001b[1;32m     10\u001b[0m \u001b[0;34m\u001b[0m\u001b[0m\n",
            "\u001b[0;31mTypeError\u001b[0m: can't multiply sequence by non-int of type 'str'"
          ]
        }
      ]
    },
    {
      "cell_type": "code",
      "metadata": {
        "id": "x-DvaMvq2VAV",
        "outputId": "c602a2c8-9a93-4e7e-d1da-b7d1b94fc1f3",
        "colab": {
          "base_uri": "https://localhost:8080/",
          "height": 299
        }
      },
      "source": [
        "variable = 4\r\n",
        "product(4)"
      ],
      "execution_count": 19,
      "outputs": [
        {
          "output_type": "error",
          "ename": "TypeError",
          "evalue": "ignored",
          "traceback": [
            "\u001b[0;31m---------------------------------------------------------------------------\u001b[0m",
            "\u001b[0;31mTypeError\u001b[0m                                 Traceback (most recent call last)",
            "\u001b[0;32m<ipython-input-19-88679fcd0800>\u001b[0m in \u001b[0;36m<module>\u001b[0;34m()\u001b[0m\n\u001b[1;32m      1\u001b[0m \u001b[0mvariable\u001b[0m \u001b[0;34m=\u001b[0m \u001b[0;36m4\u001b[0m\u001b[0;34m\u001b[0m\u001b[0;34m\u001b[0m\u001b[0m\n\u001b[0;32m----> 2\u001b[0;31m \u001b[0mproduct\u001b[0m\u001b[0;34m(\u001b[0m\u001b[0;36m4\u001b[0m\u001b[0;34m)\u001b[0m\u001b[0;34m\u001b[0m\u001b[0;34m\u001b[0m\u001b[0m\n\u001b[0m",
            "\u001b[0;32m<ipython-input-13-eadfe84fff29>\u001b[0m in \u001b[0;36mproduct\u001b[0;34m(x)\u001b[0m\n\u001b[1;32m      4\u001b[0m \u001b[0;34m\u001b[0m\u001b[0m\n\u001b[1;32m      5\u001b[0m \u001b[0;32mdef\u001b[0m \u001b[0mproduct\u001b[0m\u001b[0;34m(\u001b[0m\u001b[0mx\u001b[0m\u001b[0;34m)\u001b[0m\u001b[0;34m:\u001b[0m\u001b[0;34m\u001b[0m\u001b[0;34m\u001b[0m\u001b[0m\n\u001b[0;32m----> 6\u001b[0;31m   \u001b[0mProduct\u001b[0m \u001b[0;34m=\u001b[0m \u001b[0mx\u001b[0m\u001b[0;34m[\u001b[0m\u001b[0;36m0\u001b[0m\u001b[0;34m]\u001b[0m\u001b[0;34m\u001b[0m\u001b[0;34m\u001b[0m\u001b[0m\n\u001b[0m\u001b[1;32m      7\u001b[0m   \u001b[0;32mfor\u001b[0m \u001b[0mi\u001b[0m \u001b[0;32min\u001b[0m \u001b[0mrange\u001b[0m\u001b[0;34m(\u001b[0m\u001b[0;36m1\u001b[0m\u001b[0;34m,\u001b[0m\u001b[0mlen\u001b[0m\u001b[0;34m(\u001b[0m\u001b[0mx\u001b[0m\u001b[0;34m)\u001b[0m\u001b[0;34m)\u001b[0m\u001b[0;34m:\u001b[0m\u001b[0;34m\u001b[0m\u001b[0;34m\u001b[0m\u001b[0m\n\u001b[1;32m      8\u001b[0m     \u001b[0mProduct\u001b[0m \u001b[0;34m=\u001b[0m \u001b[0mProduct\u001b[0m\u001b[0;34m*\u001b[0m\u001b[0mx\u001b[0m\u001b[0;34m[\u001b[0m\u001b[0mi\u001b[0m\u001b[0;34m]\u001b[0m\u001b[0;34m\u001b[0m\u001b[0;34m\u001b[0m\u001b[0m\n",
            "\u001b[0;31mTypeError\u001b[0m: 'int' object is not subscriptable"
          ]
        }
      ]
    },
    {
      "cell_type": "code",
      "metadata": {
        "id": "q6tgWPMuYxI8",
        "colab": {
          "base_uri": "https://localhost:8080/",
          "height": 299
        },
        "outputId": "511abdeb-c881-41eb-bbb5-2a904bc6e721"
      },
      "source": [
        "A = [1,3,'a', '4',5]\r\n",
        "product(A)"
      ],
      "execution_count": 17,
      "outputs": [
        {
          "output_type": "error",
          "ename": "TypeError",
          "evalue": "ignored",
          "traceback": [
            "\u001b[0;31m---------------------------------------------------------------------------\u001b[0m",
            "\u001b[0;31mTypeError\u001b[0m                                 Traceback (most recent call last)",
            "\u001b[0;32m<ipython-input-17-c35fa600968d>\u001b[0m in \u001b[0;36m<module>\u001b[0;34m()\u001b[0m\n\u001b[1;32m      1\u001b[0m \u001b[0mA\u001b[0m \u001b[0;34m=\u001b[0m \u001b[0;34m[\u001b[0m\u001b[0;36m1\u001b[0m\u001b[0;34m,\u001b[0m\u001b[0;36m3\u001b[0m\u001b[0;34m,\u001b[0m\u001b[0;34m'a'\u001b[0m\u001b[0;34m,\u001b[0m \u001b[0;34m'4'\u001b[0m\u001b[0;34m,\u001b[0m\u001b[0;36m5\u001b[0m\u001b[0;34m]\u001b[0m\u001b[0;34m\u001b[0m\u001b[0;34m\u001b[0m\u001b[0m\n\u001b[0;32m----> 2\u001b[0;31m \u001b[0mproduct\u001b[0m\u001b[0;34m(\u001b[0m\u001b[0mA\u001b[0m\u001b[0;34m)\u001b[0m\u001b[0;34m\u001b[0m\u001b[0;34m\u001b[0m\u001b[0m\n\u001b[0m",
            "\u001b[0;32m<ipython-input-13-eadfe84fff29>\u001b[0m in \u001b[0;36mproduct\u001b[0;34m(x)\u001b[0m\n\u001b[1;32m      6\u001b[0m   \u001b[0mProduct\u001b[0m \u001b[0;34m=\u001b[0m \u001b[0mx\u001b[0m\u001b[0;34m[\u001b[0m\u001b[0;36m0\u001b[0m\u001b[0;34m]\u001b[0m\u001b[0;34m\u001b[0m\u001b[0;34m\u001b[0m\u001b[0m\n\u001b[1;32m      7\u001b[0m   \u001b[0;32mfor\u001b[0m \u001b[0mi\u001b[0m \u001b[0;32min\u001b[0m \u001b[0mrange\u001b[0m\u001b[0;34m(\u001b[0m\u001b[0;36m1\u001b[0m\u001b[0;34m,\u001b[0m\u001b[0mlen\u001b[0m\u001b[0;34m(\u001b[0m\u001b[0mx\u001b[0m\u001b[0;34m)\u001b[0m\u001b[0;34m)\u001b[0m\u001b[0;34m:\u001b[0m\u001b[0;34m\u001b[0m\u001b[0;34m\u001b[0m\u001b[0m\n\u001b[0;32m----> 8\u001b[0;31m     \u001b[0mProduct\u001b[0m \u001b[0;34m=\u001b[0m \u001b[0mProduct\u001b[0m\u001b[0;34m*\u001b[0m\u001b[0mx\u001b[0m\u001b[0;34m[\u001b[0m\u001b[0mi\u001b[0m\u001b[0;34m]\u001b[0m\u001b[0;34m\u001b[0m\u001b[0;34m\u001b[0m\u001b[0m\n\u001b[0m\u001b[1;32m      9\u001b[0m   \u001b[0;32mreturn\u001b[0m \u001b[0mProduct\u001b[0m\u001b[0;34m\u001b[0m\u001b[0;34m\u001b[0m\u001b[0m\n\u001b[1;32m     10\u001b[0m \u001b[0;34m\u001b[0m\u001b[0m\n",
            "\u001b[0;31mTypeError\u001b[0m: can't multiply sequence by non-int of type 'str'"
          ]
        }
      ]
    },
    {
      "cell_type": "code",
      "metadata": {
        "id": "_uYoD6JfaQ4I",
        "colab": {
          "base_uri": "https://localhost:8080/"
        },
        "outputId": "92a0b5f5-31e0-42de-e7b3-f6e551d88dbf"
      },
      "source": [
        "import numpy as np\r\n",
        "x = np.array([1,2,3,4,5])\r\n",
        "product(x)"
      ],
      "execution_count": 20,
      "outputs": [
        {
          "output_type": "execute_result",
          "data": {
            "text/plain": [
              "120"
            ]
          },
          "metadata": {
            "tags": []
          },
          "execution_count": 20
        }
      ]
    },
    {
      "cell_type": "markdown",
      "metadata": {
        "id": "_VuXw5Rxe3z7"
      },
      "source": [
        "##Default Arguments\r\n",
        "\r\n",
        "Like we saw in the range function, sometimes there can be default arguments set for functions. The way we do this is shown below."
      ]
    },
    {
      "cell_type": "code",
      "metadata": {
        "id": "Ub3dXL8MapR5",
        "colab": {
          "base_uri": "https://localhost:8080/"
        },
        "outputId": "67869b45-7336-4c7d-a3a5-3517d8f9609a"
      },
      "source": [
        "def greeting(name, msg = 'how are you?'):\r\n",
        "  return 'Hello ' + name + ', ' + msg\r\n",
        "\r\n",
        "print(greeting('person', 'how was your weekend?'))\r\n",
        "print(greeting('person'))"
      ],
      "execution_count": 22,
      "outputs": [
        {
          "output_type": "stream",
          "text": [
            "Hello person, how was your weekend?\n",
            "Hello person, how are you?\n"
          ],
          "name": "stdout"
        }
      ]
    },
    {
      "cell_type": "markdown",
      "metadata": {
        "id": "Yvy-RU2vZ3lX"
      },
      "source": [
        "If we want knowledge about what a function does and the arguments it takes in, we can use something called a **\"Docstring\"**.\r\n"
      ]
    },
    {
      "cell_type": "markdown",
      "metadata": {
        "id": "ukeVl2pvZkmf"
      },
      "source": [
        "# Docstrings\n",
        "\n",
        "Python has a system for adding comments to functions, modules, etc. called *docstrings*.\n",
        "\n",
        "While there are many formats for docstrings, we will use this format:\n",
        "\n",
        "\n",
        "\n",
        "```\n",
        "\"\"\"[Summary]\n",
        "\n",
        ":param [ParamName]: [ParamDescription], defaults to [DefaultParamVal]\n",
        ":type [ParamName]: [ParamType](, optional)\n",
        "...\n",
        ":raises [ErrorType]: [ErrorDescription]\n",
        "...\n",
        ":return: [ReturnDescription]\n",
        ":rtype: [ReturnType]\n",
        "\"\"\"\n",
        "```\n",
        "\n",
        "The nice thing about docstrings is that they are available at run-time.\n",
        "\n",
        "Try running this"
      ]
    },
    {
      "cell_type": "code",
      "metadata": {
        "id": "BVCg1R82Zkmf"
      },
      "source": [
        "def square(x):\n",
        "    \"\"\"\n",
        "    This function squares its argument\n",
        "\n",
        "    :param [x]: Number to be raised to the Second Power\n",
        "    :type [x]: int or float\n",
        "\n",
        "    ...\n",
        "    :return: The argument x raised to the power of two\n",
        "    :rtype: int if x is int, float if x is float\n",
        "    \"\"\"\n",
        "    return x**2"
      ],
      "execution_count": 23,
      "outputs": []
    },
    {
      "cell_type": "markdown",
      "metadata": {
        "id": "NJNYIUKYq1Mi"
      },
      "source": [
        "We can view the docstring of a function using:"
      ]
    },
    {
      "cell_type": "code",
      "metadata": {
        "id": "khR3fvlwZkmg"
      },
      "source": [
        "square?"
      ],
      "execution_count": 24,
      "outputs": []
    },
    {
      "cell_type": "markdown",
      "metadata": {
        "id": "NimDBeQ2q6y4"
      },
      "source": [
        "Understanding how to read docstrings will be useful when you use packages and other functions that you aren't familiar with.\r\n",
        "\r\n",
        "# Functions as first-class objects\r\n",
        "\r\n",
        "For computers, a function is just another piece of data. For instance, you can point a python variable to be equal to a function:\r\n"
      ]
    },
    {
      "cell_type": "code",
      "metadata": {
        "id": "AtE-W6qsZkmg",
        "colab": {
          "base_uri": "https://localhost:8080/"
        },
        "outputId": "3812d793-1ae7-443d-cf64-3cd390690f45"
      },
      "source": [
        "def square(x):\r\n",
        "  return x**2\r\n",
        "y = square\r\n",
        "\r\n",
        "square(9)"
      ],
      "execution_count": 25,
      "outputs": [
        {
          "output_type": "execute_result",
          "data": {
            "text/plain": [
              "81"
            ]
          },
          "metadata": {
            "tags": []
          },
          "execution_count": 25
        }
      ]
    },
    {
      "cell_type": "markdown",
      "metadata": {
        "id": "CEfsSsedxf5P"
      },
      "source": [
        "This means you can pass a function into another function:"
      ]
    },
    {
      "cell_type": "code",
      "metadata": {
        "id": "rpfaU3CnZkmg",
        "colab": {
          "base_uri": "https://localhost:8080/"
        },
        "outputId": "4badbb17-998c-4ed5-dc8e-b5420e011070"
      },
      "source": [
        "def apply_n_time(x,f,n):\r\n",
        "  return sum([f(x) for i in range(n)])\r\n",
        "apply_n_time(2, square, 2)\r\n"
      ],
      "execution_count": 30,
      "outputs": [
        {
          "output_type": "execute_result",
          "data": {
            "text/plain": [
              "8"
            ]
          },
          "metadata": {
            "tags": []
          },
          "execution_count": 30
        }
      ]
    },
    {
      "cell_type": "markdown",
      "metadata": {
        "id": "W4nWyKWlyJwH"
      },
      "source": [
        "#Big O Notation\r\n",
        "\r\n",
        "Computer scientists analyze algorithms with the **Big-O** notation. \r\n",
        "\r\n",
        "Big-O cares about how the number of steps we have to take **grow in relation to input size**. \r\n",
        "\r\n",
        "For instance, say we wanted to search for the number of 1s in an array, we would say this is $O(n)$ because as the size of the input array $n$ grows, we have to take $n$ steps through the array to complete the algorithm.\r\n",
        "\r\n",
        "\r\n",
        "```\r\n",
        "def search(X):\r\n",
        "  number_of_1s = 0\r\n",
        "  for number in X:\r\n",
        "    if number==1:\r\n",
        "      number_of_1s += 1\r\n",
        "  return number_of_1s\r\n",
        "\r\n",
        "array = np.array([1,2,3,1,1])\r\n",
        "\r\n",
        "search(array)\r\n",
        "#This would take 5 steps as we have to iterate over each element once.\r\n",
        "```\r\n",
        "\r\n",
        "\r\n",
        "\r\n",
        "### Notes on Big-O notation:\r\n",
        "\r\n",
        "Big-O is a theoretical way to think about algorithms. Big-O doesn't care about what programming language you use, what computer you run your code on, or even how much time it takes to run the algorithm in real life. This notation can be used to describe **time and space complexity** though which are measures of how much time an algorithm will take and how much memory a function will need to dedicate given input size.\r\n",
        "\r\n",
        "\r\n",
        "\r\n",
        "```\r\n",
        "def search(X):\r\n",
        "  number_of_1s = 0\r\n",
        "  for number in X:\r\n",
        "    if number==1:\r\n",
        "      number_of_1s += 1\r\n",
        "  return number_of_1s\r\n",
        "\r\n",
        "def search(X):\r\n",
        "  container = []\r\n",
        "  for number in X:\r\n",
        "    if number == 1:\r\n",
        "      container.append(number)\r\n",
        "  return len(number)\r\n",
        "```\r\n",
        "\r\n",
        "\r\n",
        "\r\n",
        "Big-O **only cares about how the number of steps** taken grow with respect to the size of the input.\r\n",
        "\r\n",
        "### Laws of Big-O\r\n",
        "\r\n",
        "1. **Big-O only cares about the worst case**\r\n",
        "\r\n",
        "The Big-O of and algorithm is always going to be worst case the algorithm can run. \r\n",
        "\r\n",
        "The search example we did would be $O(n)$ since we need to pass through all elements.\r\n",
        "\r\n",
        "2. **Big-O doesn't care about constant factors**. \r\n",
        "\r\n",
        "In an equation like\r\n",
        "\r\n",
        "$$ y = 55 + 6x^2$$\r\n",
        "\r\n",
        "the number $55$ is a *constant* -- it's the same whatever the input and output is. Big-O doesn't care about that, so we can say\r\n",
        "\r\n",
        "$$O(10^{25} + n) = O(n)$$\r\n",
        "\r\n",
        "Which might seem crazy -- clearly $(10^{25} + n) > n$ for all $n$. But \r\n",
        "\r\n",
        "Also note that sometimes we talk about the big-O of the **memory** required by the algorithm. For instance, in the selection algorithm, we need one copy of the input array to work on, so the memory required is $O(n)$. If we needed to make a copy\r\n",
        "\r\n",
        "3. **Big-O doesn't care about low-order terms**\r\n",
        "\r\n",
        "Low order terms are constant multipliers of the input. So $O(6n) = O(n) = O(10^{12}n)$. We care about multipliers that are in terms of $n$ (like $log(n)$ ) or exponents on $n$ (like $n^3$).\r\n",
        "\r\n",
        "4. **Algorithms that take the same number of steps for all inputs are** $O(1)$.\r\n",
        "\r\n",
        "This is pretty self explanatory but here's an example of a function with complexity O(1).\r\n",
        "\r\n",
        "\r\n",
        "```\r\n",
        "def Check_if_even(x):\r\n",
        "  return x%2==0\r\n",
        "```\r\n",
        "\r\n",
        "\r\n",
        "###Big O Notation Examples\r\n",
        "\r\n"
      ]
    },
    {
      "cell_type": "code",
      "metadata": {
        "id": "wljrryOJqZmx",
        "colab": {
          "base_uri": "https://localhost:8080/"
        },
        "outputId": "9a93a829-5b46-460d-b0e8-fd6245dec95a"
      },
      "source": [
        "#O(C) - Constant Time\r\n",
        "def Check_Odd(List, index):\r\n",
        "  '''\r\n",
        "  Checks to see if an entry in a List is odd.\r\n",
        "  '''\r\n",
        "  return List[index]%2==1\r\n",
        "numbers = [2,3,4,56]\r\n",
        "Check_Odd(numbers, 2)"
      ],
      "execution_count": 33,
      "outputs": [
        {
          "output_type": "execute_result",
          "data": {
            "text/plain": [
              "False"
            ]
          },
          "metadata": {
            "tags": []
          },
          "execution_count": 33
        }
      ]
    },
    {
      "cell_type": "code",
      "metadata": {
        "id": "haQbpG9IWhLE",
        "colab": {
          "base_uri": "https://localhost:8080/"
        },
        "outputId": "8f2eab71-eee4-4afe-db68-5403b871fec5"
      },
      "source": [
        "#O(n) - Linear Time\r\n",
        "\r\n",
        "def Find_Max(x):\r\n",
        "  '''\r\n",
        "  Finds Maximum Number in a List\r\n",
        "  '''\r\n",
        "\r\n",
        "  Max = 0\r\n",
        "  for num in x:\r\n",
        "    if num > Max:\r\n",
        "      Max = num\r\n",
        "  return Max\r\n",
        "l = [3,4,5,6,7,7,8]\r\n",
        "Find_Max(l)"
      ],
      "execution_count": 48,
      "outputs": [
        {
          "output_type": "execute_result",
          "data": {
            "text/plain": [
              "8"
            ]
          },
          "metadata": {
            "tags": []
          },
          "execution_count": 48
        }
      ]
    },
    {
      "cell_type": "code",
      "metadata": {
        "id": "f-mKvfadWbC_",
        "colab": {
          "base_uri": "https://localhost:8080/"
        },
        "outputId": "9c03c713-8bf5-4616-e810-6366a7ede09b"
      },
      "source": [
        "#O(n^2) - Quadratic Time\r\n",
        "def bubblesort(x):\r\n",
        "  '''\r\n",
        "  Sorts all numbers in a list in ascending order.\r\n",
        "  '''\r\n",
        "\r\n",
        "  n=len(x)\r\n",
        "  for i in range(n):\r\n",
        "    for j in range(0, n-i-1):\r\n",
        "      if x[j]>x[j+1]:\r\n",
        "        x[j], x[j+1] = x[j+1], x[j]\r\n",
        "  return x\r\n",
        "\r\n",
        "l = [2,3,8,4,9,1]\r\n",
        "\r\n",
        "bubblesort(l)\r\n"
      ],
      "execution_count": 47,
      "outputs": [
        {
          "output_type": "execute_result",
          "data": {
            "text/plain": [
              "[1, 2, 3, 4, 8, 9]"
            ]
          },
          "metadata": {
            "tags": []
          },
          "execution_count": 47
        }
      ]
    },
    {
      "cell_type": "code",
      "metadata": {
        "id": "Afxz-cheqbH0",
        "colab": {
          "base_uri": "https://localhost:8080/",
          "height": 35
        },
        "outputId": "b5817b72-c72b-4d9e-e97f-2b1b71906d3b"
      },
      "source": [
        "#O(n^c) - Polynomial Time [c>1]\r\n",
        "#Triple Nested Loop\r\n",
        "def findxyz(n):\r\n",
        "  '''\r\n",
        "  Finds values for x, y and z such that they are all less than n and 3x +9y +8x = 79 if they exist.\r\n",
        "  '''\r\n",
        "  solutions = []\r\n",
        "  for x in range(n):\r\n",
        "    for y in range(n):\r\n",
        "      for z in range(n):\r\n",
        "        if 3*x+9*y+8*z == 79:\r\n",
        "          solutions.append([x,y,z])\r\n",
        "  return (f\"the value combinations of (x, y, x) are {tuple(solutions[0])}, {tuple(solutions[1])} & {tuple(solutions[2])} \")\r\n",
        "\r\n",
        "findxyz(10)"
      ],
      "execution_count": 52,
      "outputs": [
        {
          "output_type": "execute_result",
          "data": {
            "application/vnd.google.colaboratory.intrinsic+json": {
              "type": "string"
            },
            "text/plain": [
              "'the value combinations of (x, y, x) are (0, 7, 2), (1, 4, 5) & (2, 1, 8) '"
            ]
          },
          "metadata": {
            "tags": []
          },
          "execution_count": 52
        }
      ]
    },
    {
      "cell_type": "code",
      "metadata": {
        "id": "H5pn7aj2Uvhz",
        "colab": {
          "base_uri": "https://localhost:8080/",
          "height": 350
        },
        "outputId": "516bd2c1-f1c2-4285-e509-f26b9dade00b"
      },
      "source": [
        "#O(log n) - Logarithmic Time\r\n",
        "def BinarySearch(x, n):\r\n",
        "  '''\r\n",
        "  Finds the index of element n given a sorted list, x with unique values.\r\n",
        "  '''\r\n",
        "\r\n",
        "  Length = int(len(x)/2)\r\n",
        "  while True:\r\n",
        "    if x[Length] == n:\r\n",
        "      index = Length\r\n",
        "      break\r\n",
        "    elif x[Length] > n:\r\n",
        "      Length = Length//2\r\n",
        "    elif x[Length] < n:\r\n",
        "      Length - Length + Length//4\r\n",
        "  return index\r\n",
        "\r\n",
        "Sort = [1,2,3,4,5,6,7,8,9]\r\n",
        "BinarySearch(Sort, 8)\r\n",
        "\r\n",
        "\r\n"
      ],
      "execution_count": 58,
      "outputs": [
        {
          "output_type": "error",
          "ename": "KeyboardInterrupt",
          "evalue": "ignored",
          "traceback": [
            "\u001b[0;31m---------------------------------------------------------------------------\u001b[0m",
            "\u001b[0;31mKeyboardInterrupt\u001b[0m                         Traceback (most recent call last)",
            "\u001b[0;32m<ipython-input-58-2b9cfabbf2d6>\u001b[0m in \u001b[0;36m<module>\u001b[0;34m()\u001b[0m\n\u001b[1;32m     17\u001b[0m \u001b[0;34m\u001b[0m\u001b[0m\n\u001b[1;32m     18\u001b[0m \u001b[0mSort\u001b[0m \u001b[0;34m=\u001b[0m \u001b[0;34m[\u001b[0m\u001b[0;36m1\u001b[0m\u001b[0;34m,\u001b[0m\u001b[0;36m2\u001b[0m\u001b[0;34m,\u001b[0m\u001b[0;36m3\u001b[0m\u001b[0;34m,\u001b[0m\u001b[0;36m4\u001b[0m\u001b[0;34m,\u001b[0m\u001b[0;36m5\u001b[0m\u001b[0;34m,\u001b[0m\u001b[0;36m6\u001b[0m\u001b[0;34m,\u001b[0m\u001b[0;36m7\u001b[0m\u001b[0;34m,\u001b[0m\u001b[0;36m8\u001b[0m\u001b[0;34m,\u001b[0m\u001b[0;36m9\u001b[0m\u001b[0;34m]\u001b[0m\u001b[0;34m\u001b[0m\u001b[0;34m\u001b[0m\u001b[0m\n\u001b[0;32m---> 19\u001b[0;31m \u001b[0mBinarySearch\u001b[0m\u001b[0;34m(\u001b[0m\u001b[0mSort\u001b[0m\u001b[0;34m,\u001b[0m \u001b[0;36m8\u001b[0m\u001b[0;34m)\u001b[0m\u001b[0;34m\u001b[0m\u001b[0;34m\u001b[0m\u001b[0m\n\u001b[0m\u001b[1;32m     20\u001b[0m \u001b[0;34m\u001b[0m\u001b[0m\n\u001b[1;32m     21\u001b[0m \u001b[0;34m\u001b[0m\u001b[0m\n",
            "\u001b[0;32m<ipython-input-58-2b9cfabbf2d6>\u001b[0m in \u001b[0;36mBinarySearch\u001b[0;34m(x, n)\u001b[0m\n\u001b[1;32m     13\u001b[0m       \u001b[0mLength\u001b[0m \u001b[0;34m=\u001b[0m \u001b[0mLength\u001b[0m\u001b[0;34m//\u001b[0m\u001b[0;36m2\u001b[0m\u001b[0;34m\u001b[0m\u001b[0;34m\u001b[0m\u001b[0m\n\u001b[1;32m     14\u001b[0m     \u001b[0;32melif\u001b[0m \u001b[0mx\u001b[0m\u001b[0;34m[\u001b[0m\u001b[0mLength\u001b[0m\u001b[0;34m]\u001b[0m \u001b[0;34m<\u001b[0m \u001b[0mn\u001b[0m\u001b[0;34m:\u001b[0m\u001b[0;34m\u001b[0m\u001b[0;34m\u001b[0m\u001b[0m\n\u001b[0;32m---> 15\u001b[0;31m       \u001b[0mLength\u001b[0m \u001b[0;34m-\u001b[0m \u001b[0mLength\u001b[0m \u001b[0;34m+\u001b[0m \u001b[0mLength\u001b[0m\u001b[0;34m//\u001b[0m\u001b[0;36m4\u001b[0m\u001b[0;34m\u001b[0m\u001b[0;34m\u001b[0m\u001b[0m\n\u001b[0m\u001b[1;32m     16\u001b[0m   \u001b[0;32mreturn\u001b[0m \u001b[0mindex\u001b[0m\u001b[0;34m\u001b[0m\u001b[0;34m\u001b[0m\u001b[0m\n\u001b[1;32m     17\u001b[0m \u001b[0;34m\u001b[0m\u001b[0m\n",
            "\u001b[0;31mKeyboardInterrupt\u001b[0m: "
          ]
        }
      ]
    },
    {
      "cell_type": "code",
      "metadata": {
        "id": "QYxXPboNfb6T"
      },
      "source": [
        "#O(nlogn) - Linearithmic\r\n",
        "def mergeSort(X):\r\n",
        "  '''\r\n",
        "  Given an unsorted list (X) of numbers, the function will update X so that the numbers are sorted.\r\n",
        "  '''\r\n",
        "  if len(X) > 1:\r\n",
        "    mid = len(X)//2\r\n",
        " \r\n",
        "    L = X[:mid]\r\n",
        "    R = X[mid:]\r\n",
        "    mergeSort(L)\r\n",
        "    mergeSort(R)\r\n",
        "    i = j = k = 0\r\n",
        "    while i < len(L) and j < len(R):\r\n",
        "      if L[i] < R[j]:\r\n",
        "        X[k] = L[i]\r\n",
        "        i += 1\r\n",
        "      else:\r\n",
        "        X[k] = R[j]\r\n",
        "        j += 1\r\n",
        "      k += 1\r\n",
        " \r\n",
        "        \r\n",
        "    while i < len(L):\r\n",
        "      X[k] = L[i]\r\n",
        "      i += 1\r\n",
        "      k += 1\r\n",
        "    while j < len(R):\r\n",
        "      X[k] = R[j]\r\n",
        "      j += 1\r\n",
        "      k += 1\r\n",
        "  return(X)\r\n",
        "\r\n",
        "num = [1,5,2,7,3,8]\r\n",
        "mergeSort(num)"
      ],
      "execution_count": null,
      "outputs": []
    },
    {
      "cell_type": "code",
      "metadata": {
        "id": "pWVOFwr5f_V1",
        "colab": {
          "base_uri": "https://localhost:8080/"
        },
        "outputId": "be5ba42b-78a0-4030-9793-77699765be79"
      },
      "source": [
        "#O(2^n) - Exponential\r\n",
        "def Fibonacci(n):\r\n",
        "  '''\r\n",
        "  Calls the nth entry in the Fibonacci Sequence\r\n",
        "  '''\r\n",
        "  if n==1:\r\n",
        "    return 0\r\n",
        "  if n==2:\r\n",
        "    return 1\r\n",
        "  else:\r\n",
        "    return Fibonacci(n-1) + Fibonacci(n-2)\r\n",
        "\r\n",
        "Fibonacci(4)\r\n"
      ],
      "execution_count": 55,
      "outputs": [
        {
          "output_type": "execute_result",
          "data": {
            "text/plain": [
              "2"
            ]
          },
          "metadata": {
            "tags": []
          },
          "execution_count": 55
        }
      ]
    },
    {
      "cell_type": "code",
      "metadata": {
        "id": "YyhBewcAzTMz"
      },
      "source": [
        ""
      ],
      "execution_count": null,
      "outputs": []
    }
  ]
}