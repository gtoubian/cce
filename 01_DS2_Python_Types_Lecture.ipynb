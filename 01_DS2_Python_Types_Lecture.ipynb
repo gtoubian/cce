{
  "nbformat": 4,
  "nbformat_minor": 0,
  "metadata": {
    "colab": {
      "name": "01_DS2_Python_Types_Lecture.ipynb",
      "provenance": [],
      "collapsed_sections": [],
      "include_colab_link": true
    },
    "kernelspec": {
      "name": "python3",
      "display_name": "Python 3"
    }
  },
  "cells": [
    {
      "cell_type": "markdown",
      "metadata": {
        "id": "view-in-github",
        "colab_type": "text"
      },
      "source": [
        "<a href=\"https://colab.research.google.com/github/gtoubian/cce/blob/main/01_DS2_Python_Types_Lecture.ipynb\" target=\"_parent\"><img src=\"https://colab.research.google.com/assets/colab-badge.svg\" alt=\"Open In Colab\"/></a>"
      ]
    },
    {
      "cell_type": "markdown",
      "metadata": {
        "id": "qslW2SD7YU-t"
      },
      "source": [
        "# Python Types\n",
        "\n",
        "These first lectures are to make sure you have your python fundamentals.\n",
        "\n",
        "# Data Types\n",
        "\n",
        "Python has a few basic data types. We have integers, floating point numbers, Booleans and strings. Integers are ***whole*** numbers and do not include decimals. Floating Point numbers are decimal numbers. Booleans are essentially True or False statements. Lastly, strings hold text data. \n",
        "\n",
        "\n",
        "We can check the data type of a value in python with the `type(x)` function:"
      ]
    },
    {
      "cell_type": "code",
      "metadata": {
        "id": "-80-ORtF-bh6",
        "colab": {
          "base_uri": "https://localhost:8080/"
        },
        "outputId": "9198a1fd-b133-4836-e3f4-4b2b0b56860f"
      },
      "source": [
        "#Integer Numbers\r\n",
        "a= 5\r\n",
        "print (f\"a is a {type(a)}\")\r\n",
        "\r\n",
        "#Floating point (real) numbers\r\n",
        "b= 5.5\r\n",
        "print (f\"b is a {type(b)}\")\r\n",
        "\r\n",
        "#Boolean True/False\r\n",
        "c= True\r\n",
        "print (f\"c is a {type(c)}\")\r\n",
        "\r\n",
        "#Strings\r\n",
        "d = \"String\"\r\n",
        "print (f\"c is a {type(c)}\")"
      ],
      "execution_count": 31,
      "outputs": [
        {
          "output_type": "stream",
          "text": [
            "a is a <class 'int'>\n",
            "b is a <class 'float'>\n",
            "c is a <class 'bool'>\n",
            "c is a <class 'bool'>\n"
          ],
          "name": "stdout"
        }
      ]
    },
    {
      "cell_type": "markdown",
      "metadata": {
        "id": "hSwB349dffiQ"
      },
      "source": [
        "Knowing what data type you are dealing with is important when writing code as each type has limits on what operation it can do. "
      ]
    },
    {
      "cell_type": "markdown",
      "metadata": {
        "id": "7rf7061rUPI3"
      },
      "source": [
        "##Arithmetic Operations\r\n",
        "Much like you can with regular numbers, you can add, subtract, multiply, divide, exponentiate, etc. integers and floating point numbers in Python."
      ]
    },
    {
      "cell_type": "code",
      "metadata": {
        "id": "MOu_M7znVM5u",
        "colab": {
          "base_uri": "https://localhost:8080/"
        },
        "outputId": "c45d87e7-4a31-492c-ceff-05c6240048cd"
      },
      "source": [
        "#Addition/Substraction\r\n",
        "print(1+1)\r\n",
        "print(1.+1.)\r\n",
        "\r\n",
        "#Multiplication/Division\r\n",
        "print (10/5)\r\n",
        "print (10//5)\r\n",
        "print (10%5)\r\n",
        "print (5*3)\r\n",
        "\r\n",
        "#Exponentiate\r\n",
        "print (3**2)\r\n",
        "print (3.**2)"
      ],
      "execution_count": 2,
      "outputs": [
        {
          "output_type": "stream",
          "text": [
            "2\n",
            "2.0\n",
            "2.0\n",
            "2\n",
            "0\n",
            "15\n",
            "9\n",
            "9.0\n"
          ],
          "name": "stdout"
        }
      ]
    },
    {
      "cell_type": "markdown",
      "metadata": {
        "id": "fitLivqgVLwr"
      },
      "source": [
        "Notice that even the whole floating point numbers have a decimal place next to them. \r\n",
        "\r\n",
        "In Python, addition isn't limited to numbers. We can also do so with strings! \r\n",
        "\r\n",
        "**Note:** Addition and Multiplication are the only arithmetic operation we can do with strings. Subtraction, division, etc. are not viable operations with this data type. "
      ]
    },
    {
      "cell_type": "code",
      "metadata": {
        "id": "axrKheEgWtq7",
        "colab": {
          "base_uri": "https://localhost:8080/"
        },
        "outputId": "414f486f-6076-4d6c-f3d9-49a68ee87aac"
      },
      "source": [
        " print (\"python\"+\"Notebook\")\r\n",
        " print (\"python\"*2)"
      ],
      "execution_count": 3,
      "outputs": [
        {
          "output_type": "stream",
          "text": [
            "pythonNotebook\n",
            "pythonpython\n"
          ],
          "name": "stdout"
        }
      ]
    },
    {
      "cell_type": "markdown",
      "metadata": {
        "id": "flivWBcoZU9m"
      },
      "source": [
        "Functions that evaluate expressions return the resulting type:"
      ]
    },
    {
      "cell_type": "code",
      "metadata": {
        "id": "YgjxASRg-hka",
        "colab": {
          "base_uri": "https://localhost:8080/"
        },
        "outputId": "62a4c697-6dfc-491c-c274-7bc29bfae546"
      },
      "source": [
        "y = 5<10\r\n",
        "print(f\"y is: {y}\")\r\n",
        "type(y)"
      ],
      "execution_count": 5,
      "outputs": [
        {
          "output_type": "stream",
          "text": [
            "y is: True\n"
          ],
          "name": "stdout"
        },
        {
          "output_type": "execute_result",
          "data": {
            "text/plain": [
              "bool"
            ]
          },
          "metadata": {
            "tags": []
          },
          "execution_count": 5
        }
      ]
    },
    {
      "cell_type": "markdown",
      "metadata": {
        "id": "QZmPGic_Znv-"
      },
      "source": [
        "In arithmetic expressions, `True` is converted to `1` and `False` is converted `0`.\n",
        "\n",
        "This is called **Boolean arithmetic**. It's a surprisingly rich field of mathematics and very useful in programming!\n",
        "\n",
        "Here are some examples:"
      ]
    },
    {
      "cell_type": "code",
      "metadata": {
        "id": "W_i2OPVoZe-5"
      },
      "source": [
        ""
      ],
      "execution_count": null,
      "outputs": []
    },
    {
      "cell_type": "code",
      "metadata": {
        "id": "FLvwZkRlECuw"
      },
      "source": [
        ""
      ],
      "execution_count": null,
      "outputs": []
    },
    {
      "cell_type": "code",
      "metadata": {
        "id": "vEl1HlHkECux"
      },
      "source": [
        ""
      ],
      "execution_count": null,
      "outputs": []
    },
    {
      "cell_type": "markdown",
      "metadata": {
        "id": "vCCiMvZgGqOw"
      },
      "source": [
        "#Boolean Conditionals\r\n",
        "\r\n",
        "As mentioned above, Boolean statements are simply statements that evaluate to True or False and using this, we can create code that executes based on whether the data we're given fits a certain criteria.\r\n",
        "\r\n",
        "For Example:"
      ]
    },
    {
      "cell_type": "code",
      "metadata": {
        "id": "OvPWElBlHMsj",
        "colab": {
          "base_uri": "https://localhost:8080/"
        },
        "outputId": "151327eb-dd56-4d54-f8e8-1a0f597dbe40"
      },
      "source": [
        "x=5\r\n",
        "if x==5:\r\n",
        "  print (\"x is 5!\")"
      ],
      "execution_count": 7,
      "outputs": [
        {
          "output_type": "stream",
          "text": [
            "x is 5!\n"
          ],
          "name": "stdout"
        }
      ]
    },
    {
      "cell_type": "code",
      "metadata": {
        "id": "I66AhOTngl9y"
      },
      "source": [
        "x=3\r\n",
        "if x==5:\r\n",
        "  print (\"x is 5!\")"
      ],
      "execution_count": 8,
      "outputs": []
    },
    {
      "cell_type": "markdown",
      "metadata": {
        "id": "0YOGBfqsHf0p"
      },
      "source": [
        "Since the statement x==5 evaluated to True, Python was able to print out the message. Let's see what happens if x isn't equal to 5."
      ]
    },
    {
      "cell_type": "code",
      "metadata": {
        "id": "21yaXiJ6H9oz"
      },
      "source": [
        ""
      ],
      "execution_count": null,
      "outputs": []
    },
    {
      "cell_type": "markdown",
      "metadata": {
        "id": "FOHM9jrjH7_s"
      },
      "source": [
        "As you can see, since x was not equal to 5, the boolean condition of x = 5 evaluated to False and Python did not execute the print command. We will see more of this when we talk about loops.\r\n",
        "\r\n",
        "###Converting Between Data Types\r\n",
        "\r\n",
        "Sometimes when programming, we run into issues where we need to convert between the data types. Ex. We wanted to multiply a number by another number but since one of the numbers was a string, the operation failed."
      ]
    },
    {
      "cell_type": "code",
      "metadata": {
        "id": "mYNPrYY5gYtH"
      },
      "source": [
        ""
      ],
      "execution_count": null,
      "outputs": []
    },
    {
      "cell_type": "markdown",
      "metadata": {
        "id": "JYX3PdBkgcoM"
      },
      "source": [
        "Instead, we can use Python to convert between data types when such an issue arises."
      ]
    },
    {
      "cell_type": "code",
      "metadata": {
        "id": "A17UXhUhhXgq",
        "colab": {
          "base_uri": "https://localhost:8080/"
        },
        "outputId": "643a8291-b2d8-41a9-ecba-b1180672be32"
      },
      "source": [
        "int(\"5\")-0"
      ],
      "execution_count": 9,
      "outputs": [
        {
          "output_type": "execute_result",
          "data": {
            "text/plain": [
              "5"
            ]
          },
          "metadata": {
            "tags": []
          },
          "execution_count": 9
        }
      ]
    },
    {
      "cell_type": "code",
      "metadata": {
        "colab": {
          "base_uri": "https://localhost:8080/"
        },
        "id": "MWGb-BlXhhC4",
        "outputId": "efa1825e-cea0-4154-b291-dcf59e8c74c6"
      },
      "source": [
        "A = float(5)\r\n",
        "B = str(5)\r\n",
        "C = int(4.5)\r\n",
        "\r\n",
        "print (A)\r\n",
        "print (B)\r\n",
        "print (C)"
      ],
      "execution_count": null,
      "outputs": [
        {
          "output_type": "stream",
          "text": [
            "5.0\n",
            "5\n",
            "4\n"
          ],
          "name": "stdout"
        }
      ]
    },
    {
      "cell_type": "markdown",
      "metadata": {
        "id": "KBXm98_2aDao"
      },
      "source": [
        "# Containers\n",
        "\n",
        "Containers are types that store collections of (not necessarily type-homogeneous) data. \n",
        "\n",
        "**NOTE: The individual entries in a list can be referred to as \"Elements\"**\n",
        "\n",
        "# Lists\n",
        "\n",
        "Square Brackets denote python `list`:"
      ]
    },
    {
      "cell_type": "code",
      "metadata": {
        "id": "Ung5v4lgECuy",
        "colab": {
          "base_uri": "https://localhost:8080/"
        },
        "outputId": "c3d5b8d1-cdfa-46bc-b267-14bdd5d53c25"
      },
      "source": [
        "A = [3,5,6,7,8,9,3, False, True]\r\n",
        "A"
      ],
      "execution_count": 10,
      "outputs": [
        {
          "output_type": "execute_result",
          "data": {
            "text/plain": [
              "[3, 5, 6, 7, 8, 9, 3, False, True]"
            ]
          },
          "metadata": {
            "tags": []
          },
          "execution_count": 10
        }
      ]
    },
    {
      "cell_type": "code",
      "metadata": {
        "id": "4TjvO7f3ECuz",
        "colab": {
          "base_uri": "https://localhost:8080/"
        },
        "outputId": "8addd370-4baf-4bf2-f659-4c738dd1bad7"
      },
      "source": [
        "A.append(\"String\")\r\n",
        "A"
      ],
      "execution_count": 12,
      "outputs": [
        {
          "output_type": "execute_result",
          "data": {
            "text/plain": [
              "[3, 5, 6, 7, 8, 9, 3, False, True, 'String']"
            ]
          },
          "metadata": {
            "tags": []
          },
          "execution_count": 12
        }
      ]
    },
    {
      "cell_type": "markdown",
      "metadata": {
        "id": "-bWzf7UBECu0"
      },
      "source": [
        "You can put objects into lists. Note that the object in the list is just a **reference** to the underlying object:"
      ]
    },
    {
      "cell_type": "code",
      "metadata": {
        "id": "uYeIEmBaECu1",
        "colab": {
          "base_uri": "https://localhost:8080/"
        },
        "outputId": "4d6614b6-ef24-487d-9d43-9ae93b950c6f"
      },
      "source": [
        "b = [\"cat\", \"dog\"]\r\n",
        "A.append(b)\r\n",
        "A"
      ],
      "execution_count": 13,
      "outputs": [
        {
          "output_type": "execute_result",
          "data": {
            "text/plain": [
              "[3, 5, 6, 7, 8, 9, 3, False, True, 'String', ['cat', 'dog']]"
            ]
          },
          "metadata": {
            "tags": []
          },
          "execution_count": 13
        }
      ]
    },
    {
      "cell_type": "markdown",
      "metadata": {
        "id": "NWCjXHWAECu2"
      },
      "source": [
        "Now if we change `b` then the value will change in `a`"
      ]
    },
    {
      "cell_type": "code",
      "metadata": {
        "id": "YCOvpvz3ECu3"
      },
      "source": [
        ""
      ],
      "execution_count": null,
      "outputs": []
    },
    {
      "cell_type": "markdown",
      "metadata": {
        "id": "787Fx3EoECu3"
      },
      "source": [
        "A handy feature common to all containers is that you can \"pick out\" or call individual elements using brackets. **NOTE: The types of brackets matter when calling elements of different containers**"
      ]
    },
    {
      "cell_type": "code",
      "metadata": {
        "id": "oznT1BkFECu4"
      },
      "source": [
        ""
      ],
      "execution_count": null,
      "outputs": []
    },
    {
      "cell_type": "markdown",
      "metadata": {
        "id": "A2QRDwKAECu5"
      },
      "source": [
        "Note that element `#3` is actually the **fourth element** because Python *always counts from zero*.\n",
        "\n",
        "There are certain advantages to starting from 0 over 1 but overall, it's not any better or worse than coding on a language that indexes starting from 1.\n",
        "\n",
        "We can also **slice** using the colon in the square bracket. Slicing is a method that allows us to call multiple entries in a list between a starting and ending index that we set:"
      ]
    },
    {
      "cell_type": "code",
      "metadata": {
        "id": "LL9zxzx3ECu5"
      },
      "source": [
        ""
      ],
      "execution_count": null,
      "outputs": []
    },
    {
      "cell_type": "markdown",
      "metadata": {
        "id": "qjIM42MoLlqJ"
      },
      "source": [
        "**NOTE:** When slicing, while Python does call the starting index, it *does not* call the ending index as Python counts from 0."
      ]
    },
    {
      "cell_type": "code",
      "metadata": {
        "id": "7YBQ_K6oLeeC"
      },
      "source": [
        ""
      ],
      "execution_count": null,
      "outputs": []
    },
    {
      "cell_type": "markdown",
      "metadata": {
        "id": "8_Pcnf3vMhWn"
      },
      "source": [
        "As you can see, the element with index 5 is 999 and was not called in the above slice. "
      ]
    },
    {
      "cell_type": "markdown",
      "metadata": {
        "id": "2Ys_BtXqECu6"
      },
      "source": [
        "The general rule is that `a[m:n]` returns `n - m` elements, starting at `a[m]`.\n",
        "\n",
        "Negative numbers also work and **go back from the first element**"
      ]
    },
    {
      "cell_type": "code",
      "metadata": {
        "id": "TEGZSl3QECu7"
      },
      "source": [
        ""
      ],
      "execution_count": null,
      "outputs": []
    },
    {
      "cell_type": "code",
      "metadata": {
        "id": "FYzcxBbIECu8"
      },
      "source": [
        ""
      ],
      "execution_count": null,
      "outputs": []
    },
    {
      "cell_type": "markdown",
      "metadata": {
        "id": "Ik0LLZ9BeNvM"
      },
      "source": [
        "Elements in lists can also be overwritten:"
      ]
    },
    {
      "cell_type": "code",
      "metadata": {
        "id": "D3IBpG4EeVpX"
      },
      "source": [
        ""
      ],
      "execution_count": null,
      "outputs": []
    },
    {
      "cell_type": "markdown",
      "metadata": {
        "id": "lzrkwQfwbA-s"
      },
      "source": [
        "Here, I replaced the first element in our list with baseball.\r\n",
        "\r\n",
        "###List of Lists\r\n",
        "\r\n",
        "A List of Lists is a list where all the entries or elements are lists themselves. Calling certain elements in this data type requires an additional step. as you can see below.  "
      ]
    },
    {
      "cell_type": "code",
      "metadata": {
        "colab": {
          "base_uri": "https://localhost:8080/"
        },
        "id": "Sfs33MDjbFwE",
        "outputId": "943390f2-c769-40be-f918-39eb81f57743"
      },
      "source": [
        "a = [[1,2],[34,4],[3,4],[5,6]]\r\n",
        "#Slicing the first three elements in a\r\n",
        "print(a[:3])\r\n",
        "#Calling the Second Element in a\r\n",
        "print(a[1])\r\n",
        "#Calling the first entry in the Second Element of a\r\n",
        "print(a[1][0])\r\n",
        "#Slicing the second entry in the first 3 elements of a\r\n",
        "print(a[:3][1])\r\n"
      ],
      "execution_count": null,
      "outputs": [
        {
          "output_type": "stream",
          "text": [
            "[[1, 2], [34, 4], [3, 4]]\n",
            "[34, 4]\n",
            "34\n",
            "[34, 4]\n"
          ],
          "name": "stdout"
        }
      ]
    },
    {
      "cell_type": "markdown",
      "metadata": {
        "id": "YInjKM1KECu8"
      },
      "source": [
        "Note that since strings are effectively containers of single characters we can slice strings as well:"
      ]
    },
    {
      "cell_type": "code",
      "metadata": {
        "id": "jKzUvusdECu8",
        "colab": {
          "base_uri": "https://localhost:8080/",
          "height": 35
        },
        "outputId": "569c3787-713b-4d75-d702-58437a91b24f"
      },
      "source": [
        "Mystring = \"journey\"\r\n",
        "Mystring[0:4]"
      ],
      "execution_count": 16,
      "outputs": [
        {
          "output_type": "execute_result",
          "data": {
            "application/vnd.google.colaboratory.intrinsic+json": {
              "type": "string"
            },
            "text/plain": [
              "'jour'"
            ]
          },
          "metadata": {
            "tags": []
          },
          "execution_count": 16
        }
      ]
    },
    {
      "cell_type": "markdown",
      "metadata": {
        "id": "ggK2ntSAECu9"
      },
      "source": [
        "# Tuples\n",
        "\n",
        "Parentheses denote a python `tuple`. Tuples are the default container: if you put commas between objects it'll default to a tuple."
      ]
    },
    {
      "cell_type": "code",
      "metadata": {
        "id": "tYHkkYTGZ7aR",
        "colab": {
          "base_uri": "https://localhost:8080/"
        },
        "outputId": "7df921e6-a252-4713-b2e4-c947f36409e0"
      },
      "source": [
        "x = ('a', 'b')\n",
        "y = 'a', 'b' # You can skip the brackets\n",
        "print(x)\n",
        "print(x == y)"
      ],
      "execution_count": null,
      "outputs": [
        {
          "output_type": "stream",
          "text": [
            "('a', 'b')\n",
            "True\n"
          ],
          "name": "stdout"
        }
      ]
    },
    {
      "cell_type": "markdown",
      "metadata": {
        "id": "8FvKXDGiazOb"
      },
      "source": [
        "Tuples are like lists except they're immutable (e.g. not-mutable; can't be modified)"
      ]
    },
    {
      "cell_type": "code",
      "metadata": {
        "id": "T-QVeva1aywf",
        "colab": {
          "base_uri": "https://localhost:8080/",
          "height": 178
        },
        "outputId": "e75956bb-da87-4484-9cfb-1cfcebb754e9"
      },
      "source": [
        "x = ('a', 'b')\n",
        "x[0] = \"this will fail\""
      ],
      "execution_count": null,
      "outputs": [
        {
          "output_type": "error",
          "ename": "TypeError",
          "evalue": "ignored",
          "traceback": [
            "\u001b[0;31m---------------------------------------------------------------------------\u001b[0m",
            "\u001b[0;31mTypeError\u001b[0m                                 Traceback (most recent call last)",
            "\u001b[0;32m<ipython-input-50-347b23f69f7d>\u001b[0m in \u001b[0;36m<module>\u001b[0;34m()\u001b[0m\n\u001b[1;32m      1\u001b[0m \u001b[0mx\u001b[0m \u001b[0;34m=\u001b[0m \u001b[0;34m(\u001b[0m\u001b[0;34m'a'\u001b[0m\u001b[0;34m,\u001b[0m \u001b[0;34m'b'\u001b[0m\u001b[0;34m)\u001b[0m\u001b[0;34m\u001b[0m\u001b[0;34m\u001b[0m\u001b[0m\n\u001b[0;32m----> 2\u001b[0;31m \u001b[0mx\u001b[0m\u001b[0;34m[\u001b[0m\u001b[0;36m0\u001b[0m\u001b[0;34m]\u001b[0m \u001b[0;34m=\u001b[0m \u001b[0;34m\"this will fail\"\u001b[0m\u001b[0;34m\u001b[0m\u001b[0;34m\u001b[0m\u001b[0m\n\u001b[0m",
            "\u001b[0;31mTypeError\u001b[0m: 'tuple' object does not support item assignment"
          ]
        }
      ]
    },
    {
      "cell_type": "code",
      "metadata": {
        "id": "YMJKxV_TECu_"
      },
      "source": [
        "l = [True, 0, 5.5]\n",
        "l[0] = \"This works on a list\"\n",
        "l"
      ],
      "execution_count": null,
      "outputs": []
    },
    {
      "cell_type": "markdown",
      "metadata": {
        "id": "7axw1Pynagx-"
      },
      "source": [
        "Watch out: Leaving an accidental comma after an expression will convert it into a tuple with an empty second element:"
      ]
    },
    {
      "cell_type": "code",
      "metadata": {
        "id": "lPFHKjv8af2T"
      },
      "source": [
        "x = 5,\n",
        "print(f\"X is a {type(x)}\")\n",
        "x"
      ],
      "execution_count": null,
      "outputs": []
    },
    {
      "cell_type": "markdown",
      "metadata": {
        "id": "85gjW-b5ECvA"
      },
      "source": [
        "# Set\n",
        "\n",
        "A **set** is a container where objects are forced to be unique. It's denoted by the *curly brackets*"
      ]
    },
    {
      "cell_type": "code",
      "metadata": {
        "id": "5LeVIYrFECvB"
      },
      "source": [
        ""
      ],
      "execution_count": null,
      "outputs": []
    },
    {
      "cell_type": "markdown",
      "metadata": {
        "id": "MRzT9zpOECvE"
      },
      "source": [
        "# Associative Containers\n",
        "\n",
        "The python `dict` is an \"associative array\" or a \"map\" -- it associates (maps) values to other values"
      ]
    },
    {
      "cell_type": "code",
      "metadata": {
        "id": "vtCi7vj-awp7",
        "outputId": "1058fdef-8714-45e1-d913-3eb762bfc77a"
      },
      "source": [
        "d = {'name': 'Sam', \n",
        "     'age': 31,\n",
        "     'race': 'hobbit',\n",
        "}\n",
        "type(d)"
      ],
      "execution_count": null,
      "outputs": [
        {
          "output_type": "execute_result",
          "data": {
            "text/plain": [
              "dict"
            ]
          },
          "metadata": {
            "tags": []
          },
          "execution_count": 25
        }
      ]
    },
    {
      "cell_type": "markdown",
      "metadata": {
        "id": "AvV7AEykECvG"
      },
      "source": [
        "One way to think of dictionaries is that they are like lists except that the items are named instead of numbered"
      ]
    },
    {
      "cell_type": "code",
      "metadata": {
        "id": "sYyneinqawsh"
      },
      "source": [
        ""
      ],
      "execution_count": null,
      "outputs": []
    },
    {
      "cell_type": "markdown",
      "metadata": {
        "id": "zv1yPAAwECvJ"
      },
      "source": [
        "The names `'name'` and `'age'` are called the *keys*.\n",
        "\n",
        "Keys are unique in a dictionary, so resetting a key will change the mapping.\n",
        "\n",
        "This is why sets and dictionaries both use curly brackets (the keys are a set)"
      ]
    },
    {
      "cell_type": "code",
      "metadata": {
        "id": "UcaypW25ECvJ"
      },
      "source": [
        ""
      ],
      "execution_count": null,
      "outputs": []
    },
    {
      "cell_type": "code",
      "metadata": {
        "id": "yzVuL_RVECvJ"
      },
      "source": [
        ""
      ],
      "execution_count": null,
      "outputs": []
    },
    {
      "cell_type": "markdown",
      "metadata": {
        "id": "nWTbLQKuEgUI"
      },
      "source": [
        "##Arrays\r\n",
        "\r\n",
        "Arrays are containers that carry mainly numeric information. For example, if I had a matrix:\r\n",
        "\r\n",
        "$$\\begin{bmatrix} 1 & 2 & 1 \\\\ 3 & 0 & 1 \\\\ 0 & 2 & 4 \\end{bmatrix}$$\r\n",
        "\r\n",
        "The way I could represent this in python is by using an array. The package that deals with arrays and array calculations is called \"Numpy\"."
      ]
    },
    {
      "cell_type": "code",
      "metadata": {
        "id": "mD4tHx2LFb0B",
        "colab": {
          "base_uri": "https://localhost:8080/"
        },
        "outputId": "8a5271c4-d63e-4b02-badc-da2d60bdb91b"
      },
      "source": [
        "import numpy as np\r\n",
        "matrix = [[1,2,1],[3,0,1],[0,2,4]]\r\n",
        "print(matrix)\r\n",
        "Matrix = np.array(matrix)\r\n",
        "print(Matrix)"
      ],
      "execution_count": 23,
      "outputs": [
        {
          "output_type": "stream",
          "text": [
            "[[1, 2, 1], [3, 0, 1], [0, 2, 4]]\n",
            "[[1 2 1]\n",
            " [3 0 1]\n",
            " [0 2 4]]\n"
          ],
          "name": "stdout"
        }
      ]
    },
    {
      "cell_type": "markdown",
      "metadata": {
        "id": "hjV55ld_ky2z"
      },
      "source": [
        "Arrays are different from lists of lists in that I can carry out operations **elementwise**"
      ]
    },
    {
      "cell_type": "code",
      "metadata": {
        "id": "y34NHfKVkvPv",
        "colab": {
          "base_uri": "https://localhost:8080/"
        },
        "outputId": "424f6555-b5cc-4d95-bbef-c4f76b6a011e"
      },
      "source": [
        "Matrix + 5\r\n"
      ],
      "execution_count": 24,
      "outputs": [
        {
          "output_type": "execute_result",
          "data": {
            "text/plain": [
              "array([[6, 7, 6],\n",
              "       [8, 5, 6],\n",
              "       [5, 7, 9]])"
            ]
          },
          "metadata": {
            "tags": []
          },
          "execution_count": 24
        }
      ]
    },
    {
      "cell_type": "code",
      "metadata": {
        "id": "s8Y3zhDEFBop",
        "colab": {
          "base_uri": "https://localhost:8080/",
          "height": 163
        },
        "outputId": "ceaf654f-bfef-4e42-f8e1-1f55beef8c25"
      },
      "source": [
        "matrix + 5"
      ],
      "execution_count": 25,
      "outputs": [
        {
          "output_type": "error",
          "ename": "TypeError",
          "evalue": "ignored",
          "traceback": [
            "\u001b[0;31m---------------------------------------------------------------------------\u001b[0m",
            "\u001b[0;31mTypeError\u001b[0m                                 Traceback (most recent call last)",
            "\u001b[0;32m<ipython-input-25-6c210b6b2c36>\u001b[0m in \u001b[0;36m<module>\u001b[0;34m()\u001b[0m\n\u001b[0;32m----> 1\u001b[0;31m \u001b[0mmatrix\u001b[0m \u001b[0;34m+\u001b[0m \u001b[0;36m5\u001b[0m\u001b[0;34m\u001b[0m\u001b[0;34m\u001b[0m\u001b[0m\n\u001b[0m",
            "\u001b[0;31mTypeError\u001b[0m: can only concatenate list (not \"int\") to list"
          ]
        }
      ]
    },
    {
      "cell_type": "markdown",
      "metadata": {
        "id": "5L5g5Yq7nMNX"
      },
      "source": [
        "As you can see above, I was able to add 5 to every element in the array but ran into an error when I ran the same code with a list of lists. Arrays also have the added benefit of having their elements called with Boolean Statements."
      ]
    },
    {
      "cell_type": "code",
      "metadata": {
        "id": "BK-P5uJSn5et",
        "colab": {
          "base_uri": "https://localhost:8080/"
        },
        "outputId": "b7aa44ad-ba4a-4b8e-99e6-1864dccc2238"
      },
      "source": [
        "Matrix[:2,1]"
      ],
      "execution_count": 27,
      "outputs": [
        {
          "output_type": "execute_result",
          "data": {
            "text/plain": [
              "array([2, 0])"
            ]
          },
          "metadata": {
            "tags": []
          },
          "execution_count": 27
        }
      ]
    },
    {
      "cell_type": "code",
      "metadata": {
        "id": "Ykzdu36Wow9o",
        "colab": {
          "base_uri": "https://localhost:8080/"
        },
        "outputId": "882d66ff-f4c9-454c-9d10-9155e3477b2b"
      },
      "source": [
        "Matrix[Matrix<5]"
      ],
      "execution_count": 28,
      "outputs": [
        {
          "output_type": "execute_result",
          "data": {
            "text/plain": [
              "array([1, 2, 1, 3, 0, 1, 0, 2, 4])"
            ]
          },
          "metadata": {
            "tags": []
          },
          "execution_count": 28
        }
      ]
    },
    {
      "cell_type": "code",
      "metadata": {
        "id": "WykiscZ1syDm",
        "outputId": "7028327d-1ded-45f4-b31f-b73850d6113b",
        "colab": {
          "base_uri": "https://localhost:8080/"
        }
      },
      "source": [
        "lis = [2,4,5,6,7,8,9]\r\n",
        "lis = np.array(lis)\r\n",
        "x=lis[lis<=6]\r\n",
        "lis = list(x)\r\n",
        "print(lis)\r\n",
        "#lis = list(lis[lis<=6])"
      ],
      "execution_count": 29,
      "outputs": [
        {
          "output_type": "stream",
          "text": [
            "[2, 4, 5, 6]\n"
          ],
          "name": "stdout"
        }
      ]
    },
    {
      "cell_type": "markdown",
      "metadata": {
        "id": "Lfx0ZYhTqR1U"
      },
      "source": [
        "#Data Frames\r\n",
        "\r\n",
        "Lastly, is the most commonly used data container in data science, Data Frames. Data Frames are a versatile container as they can store multiple types of data inside it and provide corresponding labels for them. The package that handles data frames is \"pandas\"."
      ]
    },
    {
      "cell_type": "code",
      "metadata": {
        "id": "dyZsRtUgsrZH"
      },
      "source": [
        ""
      ],
      "execution_count": null,
      "outputs": []
    },
    {
      "cell_type": "code",
      "metadata": {
        "colab": {
          "base_uri": "https://localhost:8080/",
          "height": 226
        },
        "id": "zPsKBFWPqIZm",
        "outputId": "d709d186-e322-4ebb-abc5-29af080a5770"
      },
      "source": [
        "#Creating a data frame\r\n",
        "import pandas as pd\r\n",
        "s = pd.Series([1, 3, 5, np.nan, 6, 8])\r\n",
        "dates = pd.date_range(\"20130101\", periods=6)\r\n",
        "df = pd.DataFrame(np.random.randn(6, 4), index=dates, columns=list(\"ABCD\"))\r\n",
        "df\r\n"
      ],
      "execution_count": null,
      "outputs": [
        {
          "output_type": "execute_result",
          "data": {
            "text/html": [
              "<div>\n",
              "<style scoped>\n",
              "    .dataframe tbody tr th:only-of-type {\n",
              "        vertical-align: middle;\n",
              "    }\n",
              "\n",
              "    .dataframe tbody tr th {\n",
              "        vertical-align: top;\n",
              "    }\n",
              "\n",
              "    .dataframe thead th {\n",
              "        text-align: right;\n",
              "    }\n",
              "</style>\n",
              "<table border=\"1\" class=\"dataframe\">\n",
              "  <thead>\n",
              "    <tr style=\"text-align: right;\">\n",
              "      <th></th>\n",
              "      <th>A</th>\n",
              "      <th>B</th>\n",
              "      <th>C</th>\n",
              "      <th>D</th>\n",
              "    </tr>\n",
              "  </thead>\n",
              "  <tbody>\n",
              "    <tr>\n",
              "      <th>2013-01-01</th>\n",
              "      <td>-0.873197</td>\n",
              "      <td>0.883904</td>\n",
              "      <td>0.804738</td>\n",
              "      <td>-1.135271</td>\n",
              "    </tr>\n",
              "    <tr>\n",
              "      <th>2013-01-02</th>\n",
              "      <td>2.902201</td>\n",
              "      <td>1.507966</td>\n",
              "      <td>0.626154</td>\n",
              "      <td>-0.834217</td>\n",
              "    </tr>\n",
              "    <tr>\n",
              "      <th>2013-01-03</th>\n",
              "      <td>2.562273</td>\n",
              "      <td>-1.353514</td>\n",
              "      <td>-1.433148</td>\n",
              "      <td>-0.246318</td>\n",
              "    </tr>\n",
              "    <tr>\n",
              "      <th>2013-01-04</th>\n",
              "      <td>0.574619</td>\n",
              "      <td>-0.201205</td>\n",
              "      <td>-1.657429</td>\n",
              "      <td>0.077034</td>\n",
              "    </tr>\n",
              "    <tr>\n",
              "      <th>2013-01-05</th>\n",
              "      <td>-0.058098</td>\n",
              "      <td>2.251630</td>\n",
              "      <td>0.188237</td>\n",
              "      <td>0.103833</td>\n",
              "    </tr>\n",
              "    <tr>\n",
              "      <th>2013-01-06</th>\n",
              "      <td>-1.014063</td>\n",
              "      <td>0.239728</td>\n",
              "      <td>-0.434771</td>\n",
              "      <td>-1.146920</td>\n",
              "    </tr>\n",
              "  </tbody>\n",
              "</table>\n",
              "</div>"
            ],
            "text/plain": [
              "                   A         B         C         D\n",
              "2013-01-01 -0.873197  0.883904  0.804738 -1.135271\n",
              "2013-01-02  2.902201  1.507966  0.626154 -0.834217\n",
              "2013-01-03  2.562273 -1.353514 -1.433148 -0.246318\n",
              "2013-01-04  0.574619 -0.201205 -1.657429  0.077034\n",
              "2013-01-05 -0.058098  2.251630  0.188237  0.103833\n",
              "2013-01-06 -1.014063  0.239728 -0.434771 -1.146920"
            ]
          },
          "metadata": {
            "tags": []
          },
          "execution_count": 76
        }
      ]
    },
    {
      "cell_type": "markdown",
      "metadata": {
        "id": "Iju9V9j2xG6A"
      },
      "source": [
        "Here, I created a dataframe where I generated columns with random numbers attached. We can also append columns as needed to pandas dataframes. Each individual column is knownw as a \"Series."
      ]
    },
    {
      "cell_type": "code",
      "metadata": {
        "colab": {
          "base_uri": "https://localhost:8080/",
          "height": 226
        },
        "id": "tZ-7dS2dwnnP",
        "outputId": "017547f0-3b2c-4f87-88d8-f6c96b61fda0"
      },
      "source": [
        "#Adding a List of fruits as a column in the data frame\r\n",
        "df['E'] = ['Apples', 'Oranges', 'Pears', 'Grapes', 'Banana', 'Guava']\r\n",
        "df"
      ],
      "execution_count": null,
      "outputs": [
        {
          "output_type": "execute_result",
          "data": {
            "text/html": [
              "<div>\n",
              "<style scoped>\n",
              "    .dataframe tbody tr th:only-of-type {\n",
              "        vertical-align: middle;\n",
              "    }\n",
              "\n",
              "    .dataframe tbody tr th {\n",
              "        vertical-align: top;\n",
              "    }\n",
              "\n",
              "    .dataframe thead th {\n",
              "        text-align: right;\n",
              "    }\n",
              "</style>\n",
              "<table border=\"1\" class=\"dataframe\">\n",
              "  <thead>\n",
              "    <tr style=\"text-align: right;\">\n",
              "      <th></th>\n",
              "      <th>A</th>\n",
              "      <th>B</th>\n",
              "      <th>C</th>\n",
              "      <th>D</th>\n",
              "      <th>E</th>\n",
              "    </tr>\n",
              "  </thead>\n",
              "  <tbody>\n",
              "    <tr>\n",
              "      <th>2013-01-01</th>\n",
              "      <td>-0.873197</td>\n",
              "      <td>0.883904</td>\n",
              "      <td>0.804738</td>\n",
              "      <td>-1.135271</td>\n",
              "      <td>Apples</td>\n",
              "    </tr>\n",
              "    <tr>\n",
              "      <th>2013-01-02</th>\n",
              "      <td>2.902201</td>\n",
              "      <td>1.507966</td>\n",
              "      <td>0.626154</td>\n",
              "      <td>-0.834217</td>\n",
              "      <td>Oranges</td>\n",
              "    </tr>\n",
              "    <tr>\n",
              "      <th>2013-01-03</th>\n",
              "      <td>2.562273</td>\n",
              "      <td>-1.353514</td>\n",
              "      <td>-1.433148</td>\n",
              "      <td>-0.246318</td>\n",
              "      <td>Pears</td>\n",
              "    </tr>\n",
              "    <tr>\n",
              "      <th>2013-01-04</th>\n",
              "      <td>0.574619</td>\n",
              "      <td>-0.201205</td>\n",
              "      <td>-1.657429</td>\n",
              "      <td>0.077034</td>\n",
              "      <td>Grapes</td>\n",
              "    </tr>\n",
              "    <tr>\n",
              "      <th>2013-01-05</th>\n",
              "      <td>-0.058098</td>\n",
              "      <td>2.251630</td>\n",
              "      <td>0.188237</td>\n",
              "      <td>0.103833</td>\n",
              "      <td>Banana</td>\n",
              "    </tr>\n",
              "    <tr>\n",
              "      <th>2013-01-06</th>\n",
              "      <td>-1.014063</td>\n",
              "      <td>0.239728</td>\n",
              "      <td>-0.434771</td>\n",
              "      <td>-1.146920</td>\n",
              "      <td>Guava</td>\n",
              "    </tr>\n",
              "  </tbody>\n",
              "</table>\n",
              "</div>"
            ],
            "text/plain": [
              "                   A         B         C         D        E\n",
              "2013-01-01 -0.873197  0.883904  0.804738 -1.135271   Apples\n",
              "2013-01-02  2.902201  1.507966  0.626154 -0.834217  Oranges\n",
              "2013-01-03  2.562273 -1.353514 -1.433148 -0.246318    Pears\n",
              "2013-01-04  0.574619 -0.201205 -1.657429  0.077034   Grapes\n",
              "2013-01-05 -0.058098  2.251630  0.188237  0.103833   Banana\n",
              "2013-01-06 -1.014063  0.239728 -0.434771 -1.146920    Guava"
            ]
          },
          "metadata": {
            "tags": []
          },
          "execution_count": 78
        }
      ]
    },
    {
      "cell_type": "markdown",
      "metadata": {
        "id": "jZlR1euTwZ0q"
      },
      "source": [
        "We'll dive more into the usage of data frames in later workshops as there is quite abit to get when it come to the specifics of manipulating data in a data frame."
      ]
    },
    {
      "cell_type": "markdown",
      "metadata": {
        "id": "lr5XpNh5ouiy"
      },
      "source": [
        "#Converting Between Data Containers\r\n",
        "\r\n",
        "In the same way we can convert between data types, we can convert between data containers as well. As you can see below: "
      ]
    },
    {
      "cell_type": "code",
      "metadata": {
        "colab": {
          "base_uri": "https://localhost:8080/"
        },
        "id": "9VxnxunGECvC",
        "outputId": "d16f9937-8d3f-4ffc-85c8-cdb93ca123d6"
      },
      "source": [
        "#List to Set\n",
        "a = [1,2,3,2,1,4,5,4,2,3,5,77,33]\n",
        "a = set(a)\n",
        "print (a)"
      ],
      "execution_count": null,
      "outputs": [
        {
          "output_type": "stream",
          "text": [
            "{1, 2, 3, 4, 5, 33, 77}\n"
          ],
          "name": "stdout"
        }
      ]
    },
    {
      "cell_type": "code",
      "metadata": {
        "colab": {
          "base_uri": "https://localhost:8080/"
        },
        "id": "KSyd_Z0BqEGX",
        "outputId": "2c39cb57-df0b-47dc-ca60-16e060d91fc7"
      },
      "source": [
        "#Tuple to List\r\n",
        "a = (1,2,3,4,'a','d','f')\r\n",
        "a= list(a)\r\n",
        "print (a)"
      ],
      "execution_count": null,
      "outputs": [
        {
          "output_type": "stream",
          "text": [
            "[1, 2, 3, 4, 'a', 'd', 'f']\n"
          ],
          "name": "stdout"
        }
      ]
    },
    {
      "cell_type": "code",
      "metadata": {
        "colab": {
          "base_uri": "https://localhost:8080/"
        },
        "id": "-AA_EkcM3DMl",
        "outputId": "7960a3d2-a18d-4f58-98f7-472763e3121d"
      },
      "source": [
        "#List to Tuple\r\n",
        "a = [1,2,3,4,5,5,6,67,7]\r\n",
        "a = tuple(a)\r\n",
        "print(a)"
      ],
      "execution_count": null,
      "outputs": [
        {
          "output_type": "stream",
          "text": [
            "(1, 2, 3, 4, 5, 5, 6, 67, 7)\n"
          ],
          "name": "stdout"
        }
      ]
    },
    {
      "cell_type": "code",
      "metadata": {
        "id": "cd34WP1l3Tq4"
      },
      "source": [
        ""
      ],
      "execution_count": null,
      "outputs": []
    }
  ]
}