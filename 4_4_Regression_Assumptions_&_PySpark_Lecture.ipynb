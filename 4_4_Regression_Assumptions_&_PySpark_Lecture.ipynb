{
  "nbformat": 4,
  "nbformat_minor": 0,
  "metadata": {
    "colab": {
      "name": "4.4_Regression_Assumptions_&_PySpark_Lecture.ipynb",
      "provenance": [],
      "include_colab_link": true
    },
    "kernelspec": {
      "name": "python3",
      "display_name": "Python 3"
    },
    "language_info": {
      "name": "python"
    }
  },
  "cells": [
    {
      "cell_type": "markdown",
      "metadata": {
        "id": "view-in-github",
        "colab_type": "text"
      },
      "source": [
        "<a href=\"https://colab.research.google.com/github/gtoubian/cce/blob/main/4_4_Regression_Assumptions_%26_PySpark_Lecture.ipynb\" target=\"_parent\"><img src=\"https://colab.research.google.com/assets/colab-badge.svg\" alt=\"Open In Colab\"/></a>"
      ]
    },
    {
      "cell_type": "markdown",
      "metadata": {
        "id": "3PyKsgQw4nhD"
      },
      "source": [
        "#Assumptions & PySpark\n",
        "\n",
        "In this lecture, we will view the assumptions that Regression is built from followed by a demonstration of Linear Regression using PySpark on the Boston Housing Data from sklearn.\n",
        "\n",
        "##Normality of Error Term\n",
        "\n",
        "Linear Regression, or Ordinary Least Squares (OLS) implicitly assumes a normal distribution in the data.\n",
        "\n",
        "To be exact, we expect a normal distribution **in the regression error term**."
      ]
    },
    {
      "cell_type": "code",
      "metadata": {
        "colab": {
          "base_uri": "https://localhost:8080/",
          "height": 672
        },
        "id": "lKG0nkq34QGi",
        "outputId": "9d3da5b5-6631-4301-f2e8-0d8b0024faff"
      },
      "source": [
        "import matplotlib.pyplot as plt\n",
        "import numpy as np\n",
        "import pandas as pd\n",
        "import seaborn as sns\n",
        "import statsmodels.api as sm\n",
        "sns.set()\n",
        "rng = np.random.RandomState(1)\n",
        "\n",
        "x = 10 * rng.rand(250)\n",
        "y = 2 * x - 5 + (4 * rng.randn(250))\n",
        "plt.hist(y, bins=15)\n",
        "plt.show()\n",
        "est = sm.OLS(y, sm.add_constant(x)).fit()\n",
        "plt.hist(est.resid, bins=15)"
      ],
      "execution_count": null,
      "outputs": [
        {
          "output_type": "stream",
          "text": [
            "/usr/local/lib/python3.7/dist-packages/statsmodels/tools/_testing.py:19: FutureWarning: pandas.util.testing is deprecated. Use the functions in the public API at pandas.testing instead.\n",
            "  import pandas.util.testing as tm\n"
          ],
          "name": "stderr"
        },
        {
          "output_type": "display_data",
          "data": {
            "image/png": "[encoded data removed]",
            "text/plain": [
              "<Figure size 432x288 with 1 Axes>"
            ]
          },
          "metadata": {
            "tags": []
          }
        },
        {
          "output_type": "execute_result",
          "data": {
            "text/plain": [
              "(array([ 4.,  4.,  7., 13., 18., 34., 36., 37., 28., 29., 17., 10., 11.,\n",
              "         1.,  1.]),\n",
              " array([-11.21303046,  -9.66944139,  -8.12585233,  -6.58226327,\n",
              "         -5.0386742 ,  -3.49508514,  -1.95149608,  -0.40790702,\n",
              "          1.13568205,   2.67927111,   4.22286017,   5.76644924,\n",
              "          7.3100383 ,   8.85362736,  10.39721643,  11.94080549]),\n",
              " <a list of 15 Patch objects>)"
            ]
          },
          "metadata": {
            "tags": []
          },
          "execution_count": 1
        },
        {
          "output_type": "display_data",
          "data": {
            "image/png": "[encoded data removed]",
            "text/plain": [
              "<Figure size 432x288 with 1 Axes>"
            ]
          },
          "metadata": {
            "tags": []
          }
        }
      ]
    },
    {
      "cell_type": "markdown",
      "metadata": {
        "id": "DMHnOssi5gZl"
      },
      "source": [
        "Here this is easily satisfied.\n",
        "\n",
        "Even with less-than-normal $y$ data, the regression model can normalize it if there are many features:"
      ]
    },
    {
      "cell_type": "code",
      "metadata": {
        "colab": {
          "base_uri": "https://localhost:8080/",
          "height": 638
        },
        "id": "hs_Cq4-V5fzD",
        "outputId": "98c8ff8d-0554-4d46-c84c-a548c9ce254d"
      },
      "source": [
        "from sklearn.datasets import load_diabetes\n",
        "\n",
        "boston = pd.DataFrame(load_diabetes().data,columns = load_diabetes().feature_names )\n",
        "y = load_diabetes().target\n",
        "\n",
        "plt.hist(y, bins=15)\n",
        "plt.show()\n",
        "X = sm.add_constant(boston)\n",
        "sm.OLS(y, X).fit().summary()\n",
        "plt.hist(est.resid, bins=15)"
      ],
      "execution_count": null,
      "outputs": [
        {
          "output_type": "display_data",
          "data": {
            "image/png": "[encoded data removed]",
            "text/plain": [
              "<Figure size 432x288 with 1 Axes>"
            ]
          },
          "metadata": {
            "tags": [],
            "needs_background": "light"
          }
        },
        {
          "output_type": "execute_result",
          "data": {
            "text/plain": [
              "(array([ 4.,  4.,  7., 13., 18., 34., 36., 37., 28., 29., 17., 10., 11.,\n",
              "         1.,  1.]),\n",
              " array([-11.21303046,  -9.66944139,  -8.12585233,  -6.58226327,\n",
              "         -5.0386742 ,  -3.49508514,  -1.95149608,  -0.40790702,\n",
              "          1.13568205,   2.67927111,   4.22286017,   5.76644924,\n",
              "          7.3100383 ,   8.85362736,  10.39721643,  11.94080549]),\n",
              " <a list of 15 Patch objects>)"
            ]
          },
          "metadata": {
            "tags": []
          },
          "execution_count": 2
        },
        {
          "output_type": "display_data",
          "data": {
            "image/png": "[encoded data removed]",
            "text/plain": [
              "<Figure size 432x288 with 1 Axes>"
            ]
          },
          "metadata": {
            "tags": [],
            "needs_background": "light"
          }
        }
      ]
    },
    {
      "cell_type": "markdown",
      "metadata": {
        "id": "k8oEl2ml5tUK"
      },
      "source": [
        "Note that normality of errors is a condition of **severity** rather than absolutes.\n",
        "\n",
        "Even published research often has non-normal OLS estimates when it's not too severe a problem.\n",
        "\n",
        "\n",
        "##Linear Independence\n",
        "\n",
        "No two variables should be a linear combination of each other.\n",
        "\n",
        "Otherwise, the $X$ matrix does not have **full [column rank](https://en.wikipedia.org/wiki/Rank_(linear_algebra)#Main_definitions)** and its square can't be inverted for the normal equation to hold:\n",
        "\n"
      ]
    },
    {
      "cell_type": "code",
      "metadata": {
        "colab": {
          "base_uri": "https://localhost:8080/",
          "height": 499
        },
        "id": "kZLpvr_75ole",
        "outputId": "8e1ef4db-7ba8-4355-91c6-0b687c143423"
      },
      "source": [
        "sns.set()\n",
        "rng = np.random.RandomState(1)\n",
        "\n",
        "x = 10 * rng.rand(250)\n",
        "x = sm.add_constant(x)\n",
        "x = np.concatenate([x, (3*x[:, 1] + 4)[:, np.newaxis]], axis=1)\n",
        "\n",
        "y = 2 * x[:, 1] - 5 + (4 * rng.randn(250))\n",
        "\n",
        "est = sm.OLS(y, x).fit()\n",
        "est.summary()"
      ],
      "execution_count": null,
      "outputs": [
        {
          "output_type": "execute_result",
          "data": {
            "text/html": [
              "<table class=\"simpletable\">\n",
              "<caption>OLS Regression Results</caption>\n",
              "<tr>\n",
              "  <th>Dep. Variable:</th>            <td>y</td>        <th>  R-squared:         </th> <td>   0.692</td>\n",
              "</tr>\n",
              "<tr>\n",
              "  <th>Model:</th>                   <td>OLS</td>       <th>  Adj. R-squared:    </th> <td>   0.691</td>\n",
              "</tr>\n",
              "<tr>\n",
              "  <th>Method:</th>             <td>Least Squares</td>  <th>  F-statistic:       </th> <td>   556.6</td>\n",
              "</tr>\n",
              "<tr>\n",
              "  <th>Date:</th>             <td>Fri, 19 Mar 2021</td> <th>  Prob (F-statistic):</th> <td>2.54e-65</td>\n",
              "</tr>\n",
              "<tr>\n",
              "  <th>Time:</th>                 <td>09:54:49</td>     <th>  Log-Likelihood:    </th> <td> -712.07</td>\n",
              "</tr>\n",
              "<tr>\n",
              "  <th>No. Observations:</th>      <td>   250</td>      <th>  AIC:               </th> <td>   1428.</td>\n",
              "</tr>\n",
              "<tr>\n",
              "  <th>Df Residuals:</th>          <td>   248</td>      <th>  BIC:               </th> <td>   1435.</td>\n",
              "</tr>\n",
              "<tr>\n",
              "  <th>Df Model:</th>              <td>     1</td>      <th>                     </th>     <td> </td>   \n",
              "</tr>\n",
              "<tr>\n",
              "  <th>Covariance Type:</th>      <td>nonrobust</td>    <th>                     </th>     <td> </td>   \n",
              "</tr>\n",
              "</table>\n",
              "<table class=\"simpletable\">\n",
              "<tr>\n",
              "    <td></td>       <th>coef</th>     <th>std err</th>      <th>t</th>      <th>P>|t|</th>  <th>[0.025</th>    <th>0.975]</th>  \n",
              "</tr>\n",
              "<tr>\n",
              "  <th>const</th> <td>   -2.9171</td> <td>    0.231</td> <td>  -12.639</td> <td> 0.000</td> <td>   -3.372</td> <td>   -2.463</td>\n",
              "</tr>\n",
              "<tr>\n",
              "  <th>x1</th>    <td>    3.7060</td> <td>    0.285</td> <td>   13.012</td> <td> 0.000</td> <td>    3.145</td> <td>    4.267</td>\n",
              "</tr>\n",
              "<tr>\n",
              "  <th>x2</th>    <td>   -0.5505</td> <td>    0.070</td> <td>   -7.881</td> <td> 0.000</td> <td>   -0.688</td> <td>   -0.413</td>\n",
              "</tr>\n",
              "</table>\n",
              "<table class=\"simpletable\">\n",
              "<tr>\n",
              "  <th>Omnibus:</th>       <td> 0.249</td> <th>  Durbin-Watson:     </th> <td>   2.012</td>\n",
              "</tr>\n",
              "<tr>\n",
              "  <th>Prob(Omnibus):</th> <td> 0.883</td> <th>  Jarque-Bera (JB):  </th> <td>   0.333</td>\n",
              "</tr>\n",
              "<tr>\n",
              "  <th>Skew:</th>          <td>-0.071</td> <th>  Prob(JB):          </th> <td>   0.847</td>\n",
              "</tr>\n",
              "<tr>\n",
              "  <th>Kurtosis:</th>      <td> 2.892</td> <th>  Cond. No.          </th> <td>6.22e+15</td>\n",
              "</tr>\n",
              "</table><br/><br/>Warnings:<br/>[1] Standard Errors assume that the covariance matrix of the errors is correctly specified.<br/>[2] The smallest eigenvalue is 3.08e-27. This might indicate that there are<br/>strong multicollinearity problems or that the design matrix is singular."
            ],
            "text/plain": [
              "<class 'statsmodels.iolib.summary.Summary'>\n",
              "\"\"\"\n",
              "                            OLS Regression Results                            \n",
              "==============================================================================\n",
              "Dep. Variable:                      y   R-squared:                       0.692\n",
              "Model:                            OLS   Adj. R-squared:                  0.691\n",
              "Method:                 Least Squares   F-statistic:                     556.6\n",
              "Date:                Fri, 19 Mar 2021   Prob (F-statistic):           2.54e-65\n",
              "Time:                        09:54:49   Log-Likelihood:                -712.07\n",
              "No. Observations:                 250   AIC:                             1428.\n",
              "Df Residuals:                     248   BIC:                             1435.\n",
              "Df Model:                           1                                         \n",
              "Covariance Type:            nonrobust                                         \n",
              "==============================================================================\n",
              "                 coef    std err          t      P>|t|      [0.025      0.975]\n",
              "------------------------------------------------------------------------------\n",
              "const         -2.9171      0.231    -12.639      0.000      -3.372      -2.463\n",
              "x1             3.7060      0.285     13.012      0.000       3.145       4.267\n",
              "x2            -0.5505      0.070     -7.881      0.000      -0.688      -0.413\n",
              "==============================================================================\n",
              "Omnibus:                        0.249   Durbin-Watson:                   2.012\n",
              "Prob(Omnibus):                  0.883   Jarque-Bera (JB):                0.333\n",
              "Skew:                          -0.071   Prob(JB):                        0.847\n",
              "Kurtosis:                       2.892   Cond. No.                     6.22e+15\n",
              "==============================================================================\n",
              "\n",
              "Warnings:\n",
              "[1] Standard Errors assume that the covariance matrix of the errors is correctly specified.\n",
              "[2] The smallest eigenvalue is 3.08e-27. This might indicate that there are\n",
              "strong multicollinearity problems or that the design matrix is singular.\n",
              "\"\"\""
            ]
          },
          "metadata": {
            "tags": []
          },
          "execution_count": 3
        }
      ]
    },
    {
      "cell_type": "markdown",
      "metadata": {
        "id": "wJ7_9AWG6MBO"
      },
      "source": [
        "### Multicollinearity\n",
        "\n",
        "This is related to **multicollinearity** (which is just a regression term for feature correlation).\n",
        "\n",
        "Having linear dependence means *perfect multicollinearity* (since linear combinations of vectors have correlation = 1).\n",
        "\n",
        "That said, collinear features **do not bias coefficients** but however they do **reduce efficiency** (eg. artificially increase the coefficient variance)\n",
        "\n",
        "\n",
        "###Homoscedasticity\n",
        "\n",
        "Homoscedasticity means **constant variance**.\n",
        "\n",
        "The evil twin brother is *heteroscedasticity* (HSK) which means **sample-dependent variance**.\n",
        "\n",
        "This doesn't affect the coefficient value, but do **invalidate the p-values** and coefficient standard errors"
      ]
    },
    {
      "cell_type": "code",
      "metadata": {
        "colab": {
          "base_uri": "https://localhost:8080/",
          "height": 728
        },
        "id": "HoArqhCI6LBZ",
        "outputId": "600ee45d-b405-49a2-deb0-fa01bb1a4c74"
      },
      "source": [
        "rng = np.random.RandomState(1)\n",
        "\n",
        "x = (10 * rng.rand(500))\n",
        "x.sort()\n",
        "x = sm.add_constant(x)\n",
        "# First half with low noise\n",
        "y = 2 * x[:250, 1] - 5 + (4 * rng.randn(250))\n",
        "# More noise\n",
        "y2 = 2 * x[250:, 1] - 5 + (20 * rng.randn(250))\n",
        "# Join\n",
        "y = np.concatenate([y, y2], axis=0)\n",
        "\n",
        "est = sm.OLS(y, x).fit()\n",
        "sm.graphics.plot_fit(est, 'x1')\n",
        "plt.show()\n",
        "est.summary()"
      ],
      "execution_count": null,
      "outputs": [
        {
          "output_type": "display_data",
          "data": {
            "image/png": "[encoded data removed]",
            "text/plain": [
              "<Figure size 432x288 with 1 Axes>"
            ]
          },
          "metadata": {
            "tags": []
          }
        },
        {
          "output_type": "execute_result",
          "data": {
            "text/html": [
              "<table class=\"simpletable\">\n",
              "<caption>OLS Regression Results</caption>\n",
              "<tr>\n",
              "  <th>Dep. Variable:</th>            <td>y</td>        <th>  R-squared:         </th> <td>   0.176</td>\n",
              "</tr>\n",
              "<tr>\n",
              "  <th>Model:</th>                   <td>OLS</td>       <th>  Adj. R-squared:    </th> <td>   0.174</td>\n",
              "</tr>\n",
              "<tr>\n",
              "  <th>Method:</th>             <td>Least Squares</td>  <th>  F-statistic:       </th> <td>   106.4</td>\n",
              "</tr>\n",
              "<tr>\n",
              "  <th>Date:</th>             <td>Fri, 19 Mar 2021</td> <th>  Prob (F-statistic):</th> <td>9.87e-23</td>\n",
              "</tr>\n",
              "<tr>\n",
              "  <th>Time:</th>                 <td>09:58:06</td>     <th>  Log-Likelihood:    </th> <td> -2026.9</td>\n",
              "</tr>\n",
              "<tr>\n",
              "  <th>No. Observations:</th>      <td>   500</td>      <th>  AIC:               </th> <td>   4058.</td>\n",
              "</tr>\n",
              "<tr>\n",
              "  <th>Df Residuals:</th>          <td>   498</td>      <th>  BIC:               </th> <td>   4066.</td>\n",
              "</tr>\n",
              "<tr>\n",
              "  <th>Df Model:</th>              <td>     1</td>      <th>                     </th>     <td> </td>   \n",
              "</tr>\n",
              "<tr>\n",
              "  <th>Covariance Type:</th>      <td>nonrobust</td>    <th>                     </th>     <td> </td>   \n",
              "</tr>\n",
              "</table>\n",
              "<table class=\"simpletable\">\n",
              "<tr>\n",
              "    <td></td>       <th>coef</th>     <th>std err</th>      <th>t</th>      <th>P>|t|</th>  <th>[0.025</th>    <th>0.975]</th>  \n",
              "</tr>\n",
              "<tr>\n",
              "  <th>const</th> <td>   -5.5358</td> <td>    1.240</td> <td>   -4.465</td> <td> 0.000</td> <td>   -7.972</td> <td>   -3.100</td>\n",
              "</tr>\n",
              "<tr>\n",
              "  <th>x1</th>    <td>    2.1728</td> <td>    0.211</td> <td>   10.313</td> <td> 0.000</td> <td>    1.759</td> <td>    2.587</td>\n",
              "</tr>\n",
              "</table>\n",
              "<table class=\"simpletable\">\n",
              "<tr>\n",
              "  <th>Omnibus:</th>       <td>44.559</td> <th>  Durbin-Watson:     </th> <td>   2.054</td>\n",
              "</tr>\n",
              "<tr>\n",
              "  <th>Prob(Omnibus):</th> <td> 0.000</td> <th>  Jarque-Bera (JB):  </th> <td> 223.420</td>\n",
              "</tr>\n",
              "<tr>\n",
              "  <th>Skew:</th>          <td>-0.096</td> <th>  Prob(JB):          </th> <td>3.05e-49</td>\n",
              "</tr>\n",
              "<tr>\n",
              "  <th>Kurtosis:</th>      <td> 6.269</td> <th>  Cond. No.          </th> <td>    11.9</td>\n",
              "</tr>\n",
              "</table><br/><br/>Warnings:<br/>[1] Standard Errors assume that the covariance matrix of the errors is correctly specified."
            ],
            "text/plain": [
              "<class 'statsmodels.iolib.summary.Summary'>\n",
              "\"\"\"\n",
              "                            OLS Regression Results                            \n",
              "==============================================================================\n",
              "Dep. Variable:                      y   R-squared:                       0.176\n",
              "Model:                            OLS   Adj. R-squared:                  0.174\n",
              "Method:                 Least Squares   F-statistic:                     106.4\n",
              "Date:                Fri, 19 Mar 2021   Prob (F-statistic):           9.87e-23\n",
              "Time:                        09:58:06   Log-Likelihood:                -2026.9\n",
              "No. Observations:                 500   AIC:                             4058.\n",
              "Df Residuals:                     498   BIC:                             4066.\n",
              "Df Model:                           1                                         \n",
              "Covariance Type:            nonrobust                                         \n",
              "==============================================================================\n",
              "                 coef    std err          t      P>|t|      [0.025      0.975]\n",
              "------------------------------------------------------------------------------\n",
              "const         -5.5358      1.240     -4.465      0.000      -7.972      -3.100\n",
              "x1             2.1728      0.211     10.313      0.000       1.759       2.587\n",
              "==============================================================================\n",
              "Omnibus:                       44.559   Durbin-Watson:                   2.054\n",
              "Prob(Omnibus):                  0.000   Jarque-Bera (JB):              223.420\n",
              "Skew:                          -0.096   Prob(JB):                     3.05e-49\n",
              "Kurtosis:                       6.269   Cond. No.                         11.9\n",
              "==============================================================================\n",
              "\n",
              "Warnings:\n",
              "[1] Standard Errors assume that the covariance matrix of the errors is correctly specified.\n",
              "\"\"\""
            ]
          },
          "metadata": {
            "tags": []
          },
          "execution_count": 7
        }
      ]
    },
    {
      "cell_type": "markdown",
      "metadata": {
        "id": "ALHC8o107b-g"
      },
      "source": [
        "**Robust Standard Errors**\n",
        "\n",
        "The easiest way to deal with HSK is with [robust standard errors](https://en.wikipedia.org/wiki/Heteroscedasticity-consistent_standard_errors) of Heteroscedasticity-Consistent (HC) standard errors.\n",
        "\n",
        "There are quite a few methods (HC0-HC3), which come as parameters in the `fit` method. Generally people just always use HC2 unless noted otherwise.\n",
        "\n",
        "In fact, you should generally just always use HC2 unless you have a good reason not to.\n",
        "\n"
      ]
    },
    {
      "cell_type": "code",
      "metadata": {
        "colab": {
          "base_uri": "https://localhost:8080/",
          "height": 444
        },
        "id": "njEGqaG16tdd",
        "outputId": "a4156195-70d4-43a4-c6a8-6d6dec3ddf1b"
      },
      "source": [
        "est2 = sm.OLS(y, x).fit(cov_type='HC2')\n",
        "est2.summary()"
      ],
      "execution_count": null,
      "outputs": [
        {
          "output_type": "execute_result",
          "data": {
            "text/html": [
              "<table class=\"simpletable\">\n",
              "<caption>OLS Regression Results</caption>\n",
              "<tr>\n",
              "  <th>Dep. Variable:</th>            <td>y</td>        <th>  R-squared:         </th> <td>   0.176</td>\n",
              "</tr>\n",
              "<tr>\n",
              "  <th>Model:</th>                   <td>OLS</td>       <th>  Adj. R-squared:    </th> <td>   0.174</td>\n",
              "</tr>\n",
              "<tr>\n",
              "  <th>Method:</th>             <td>Least Squares</td>  <th>  F-statistic:       </th> <td>   123.4</td>\n",
              "</tr>\n",
              "<tr>\n",
              "  <th>Date:</th>             <td>Fri, 19 Mar 2021</td> <th>  Prob (F-statistic):</th> <td>9.22e-26</td>\n",
              "</tr>\n",
              "<tr>\n",
              "  <th>Time:</th>                 <td>10:01:12</td>     <th>  Log-Likelihood:    </th> <td> -2026.9</td>\n",
              "</tr>\n",
              "<tr>\n",
              "  <th>No. Observations:</th>      <td>   500</td>      <th>  AIC:               </th> <td>   4058.</td>\n",
              "</tr>\n",
              "<tr>\n",
              "  <th>Df Residuals:</th>          <td>   498</td>      <th>  BIC:               </th> <td>   4066.</td>\n",
              "</tr>\n",
              "<tr>\n",
              "  <th>Df Model:</th>              <td>     1</td>      <th>                     </th>     <td> </td>   \n",
              "</tr>\n",
              "<tr>\n",
              "  <th>Covariance Type:</th>         <td>HC2</td>       <th>                     </th>     <td> </td>   \n",
              "</tr>\n",
              "</table>\n",
              "<table class=\"simpletable\">\n",
              "<tr>\n",
              "    <td></td>       <th>coef</th>     <th>std err</th>      <th>z</th>      <th>P>|z|</th>  <th>[0.025</th>    <th>0.975]</th>  \n",
              "</tr>\n",
              "<tr>\n",
              "  <th>const</th> <td>   -5.5358</td> <td>    0.630</td> <td>   -8.787</td> <td> 0.000</td> <td>   -6.771</td> <td>   -4.301</td>\n",
              "</tr>\n",
              "<tr>\n",
              "  <th>x1</th>    <td>    2.1728</td> <td>    0.196</td> <td>   11.108</td> <td> 0.000</td> <td>    1.789</td> <td>    2.556</td>\n",
              "</tr>\n",
              "</table>\n",
              "<table class=\"simpletable\">\n",
              "<tr>\n",
              "  <th>Omnibus:</th>       <td>44.559</td> <th>  Durbin-Watson:     </th> <td>   2.054</td>\n",
              "</tr>\n",
              "<tr>\n",
              "  <th>Prob(Omnibus):</th> <td> 0.000</td> <th>  Jarque-Bera (JB):  </th> <td> 223.420</td>\n",
              "</tr>\n",
              "<tr>\n",
              "  <th>Skew:</th>          <td>-0.096</td> <th>  Prob(JB):          </th> <td>3.05e-49</td>\n",
              "</tr>\n",
              "<tr>\n",
              "  <th>Kurtosis:</th>      <td> 6.269</td> <th>  Cond. No.          </th> <td>    11.9</td>\n",
              "</tr>\n",
              "</table><br/><br/>Warnings:<br/>[1] Standard Errors are heteroscedasticity robust (HC2)"
            ],
            "text/plain": [
              "<class 'statsmodels.iolib.summary.Summary'>\n",
              "\"\"\"\n",
              "                            OLS Regression Results                            \n",
              "==============================================================================\n",
              "Dep. Variable:                      y   R-squared:                       0.176\n",
              "Model:                            OLS   Adj. R-squared:                  0.174\n",
              "Method:                 Least Squares   F-statistic:                     123.4\n",
              "Date:                Fri, 19 Mar 2021   Prob (F-statistic):           9.22e-26\n",
              "Time:                        10:01:12   Log-Likelihood:                -2026.9\n",
              "No. Observations:                 500   AIC:                             4058.\n",
              "Df Residuals:                     498   BIC:                             4066.\n",
              "Df Model:                           1                                         \n",
              "Covariance Type:                  HC2                                         \n",
              "==============================================================================\n",
              "                 coef    std err          z      P>|z|      [0.025      0.975]\n",
              "------------------------------------------------------------------------------\n",
              "const         -5.5358      0.630     -8.787      0.000      -6.771      -4.301\n",
              "x1             2.1728      0.196     11.108      0.000       1.789       2.556\n",
              "==============================================================================\n",
              "Omnibus:                       44.559   Durbin-Watson:                   2.054\n",
              "Prob(Omnibus):                  0.000   Jarque-Bera (JB):              223.420\n",
              "Skew:                          -0.096   Prob(JB):                     3.05e-49\n",
              "Kurtosis:                       6.269   Cond. No.                         11.9\n",
              "==============================================================================\n",
              "\n",
              "Warnings:\n",
              "[1] Standard Errors are heteroscedasticity robust (HC2)\n",
              "\"\"\""
            ]
          },
          "metadata": {
            "tags": []
          },
          "execution_count": 8
        }
      ]
    },
    {
      "cell_type": "markdown",
      "metadata": {
        "id": "42rdH6Ov7u4i"
      },
      "source": [
        "##Exogeneity\n",
        "\n",
        "This assumes the effect of X on y is independent (exogenous, literally \"comes from outside\")\n",
        "\n",
        "- **Omitted Variable Bias** X only affects y because it's correlated with another variable which actually affects y. Chocolate consumption and Nobel prizes for instance.\n",
        "\n",
        "- **Reverse Causality** Y is actually the variable causing the change in X.\n",
        "\n",
        "- **Two Way Causality** Both y affect X as well as X affecting Y.\n",
        "\n",
        "Regressions that have this sort of bad real-word specification are said to be **endogenous** (eg. the changes are internal to the model instead of being the effect of X on y)\n",
        "\n",
        "\n",
        "##Random Sampling\n",
        "\n",
        "Anything that is not randomly sampled breaks core statistical assumptions. It's possible to fix this with more sophisticated methods, but is often lousy and difficult.\n",
        "\n",
        "#Regression With PySpark\n",
        "\n",
        "Let's use PySpark to create and run a regression model on the Boston Housing Dataset."
      ]
    },
    {
      "cell_type": "code",
      "metadata": {
        "id": "g_n-OV9b7g7p"
      },
      "source": [
        "from sklearn.datasets import load_boston\n",
        "import pandas as pd\n",
        "\n",
        "boston = pd.DataFrame(load_boston().data,columns = load_boston().feature_names )\n",
        "y = load_boston().target\n",
        "y = list(y)\n",
        "boston['MV'] = y\n"
      ],
      "execution_count": null,
      "outputs": []
    },
    {
      "cell_type": "code",
      "metadata": {
        "colab": {
          "base_uri": "https://localhost:8080/"
        },
        "id": "CcoSTiID_zah",
        "outputId": "2167ea70-e5ed-4794-8cac-7c0239d0a54c"
      },
      "source": [
        "!pip install pyspark\n"
      ],
      "execution_count": null,
      "outputs": [
        {
          "output_type": "stream",
          "text": [
            "Requirement already satisfied: pyspark in /usr/local/lib/python3.7/dist-packages (3.1.1)\n",
            "Requirement already satisfied: py4j==0.10.9 in /usr/local/lib/python3.7/dist-packages (from pyspark) (0.10.9)\n"
          ],
          "name": "stdout"
        }
      ]
    },
    {
      "cell_type": "code",
      "metadata": {
        "id": "Qsi2fPIDDpH5"
      },
      "source": [
        "from pyspark.sql import SparkSession"
      ],
      "execution_count": null,
      "outputs": []
    },
    {
      "cell_type": "code",
      "metadata": {
        "colab": {
          "base_uri": "https://localhost:8080/"
        },
        "id": "sFVCYMGj_huh",
        "outputId": "7c88d2b0-0e60-4beb-8ca3-9b49352ac44d"
      },
      "source": [
        "#Creating a spark dataframe from a Pandas DataFrame\n",
        "from pyspark import SparkConf \n",
        "from pyspark import SparkContext\n",
        "from pyspark.sql import SQLContext\n",
        "sc= SparkContext()\n",
        "sqlContext = SQLContext(sc)\n",
        "house_df = sqlContext.createDataFrame(boston).show()\n",
        "house_df"
      ],
      "execution_count": null,
      "outputs": [
        {
          "output_type": "stream",
          "text": [
            "+-------+----+-----+----+-----+-----+-----+------+---+-----+-------+------+-----+----+\n",
            "|   CRIM|  ZN|INDUS|CHAS|  NOX|   RM|  AGE|   DIS|RAD|  TAX|PTRATIO|     B|LSTAT|  MV|\n",
            "+-------+----+-----+----+-----+-----+-----+------+---+-----+-------+------+-----+----+\n",
            "|0.00632|18.0| 2.31| 0.0|0.538|6.575| 65.2|  4.09|1.0|296.0|   15.3| 396.9| 4.98|24.0|\n",
            "|0.02731| 0.0| 7.07| 0.0|0.469|6.421| 78.9|4.9671|2.0|242.0|   17.8| 396.9| 9.14|21.6|\n",
            "|0.02729| 0.0| 7.07| 0.0|0.469|7.185| 61.1|4.9671|2.0|242.0|   17.8|392.83| 4.03|34.7|\n",
            "|0.03237| 0.0| 2.18| 0.0|0.458|6.998| 45.8|6.0622|3.0|222.0|   18.7|394.63| 2.94|33.4|\n",
            "|0.06905| 0.0| 2.18| 0.0|0.458|7.147| 54.2|6.0622|3.0|222.0|   18.7| 396.9| 5.33|36.2|\n",
            "|0.02985| 0.0| 2.18| 0.0|0.458| 6.43| 58.7|6.0622|3.0|222.0|   18.7|394.12| 5.21|28.7|\n",
            "|0.08829|12.5| 7.87| 0.0|0.524|6.012| 66.6|5.5605|5.0|311.0|   15.2| 395.6|12.43|22.9|\n",
            "|0.14455|12.5| 7.87| 0.0|0.524|6.172| 96.1|5.9505|5.0|311.0|   15.2| 396.9|19.15|27.1|\n",
            "|0.21124|12.5| 7.87| 0.0|0.524|5.631|100.0|6.0821|5.0|311.0|   15.2|386.63|29.93|16.5|\n",
            "|0.17004|12.5| 7.87| 0.0|0.524|6.004| 85.9|6.5921|5.0|311.0|   15.2|386.71| 17.1|18.9|\n",
            "|0.22489|12.5| 7.87| 0.0|0.524|6.377| 94.3|6.3467|5.0|311.0|   15.2|392.52|20.45|15.0|\n",
            "|0.11747|12.5| 7.87| 0.0|0.524|6.009| 82.9|6.2267|5.0|311.0|   15.2| 396.9|13.27|18.9|\n",
            "|0.09378|12.5| 7.87| 0.0|0.524|5.889| 39.0|5.4509|5.0|311.0|   15.2| 390.5|15.71|21.7|\n",
            "|0.62976| 0.0| 8.14| 0.0|0.538|5.949| 61.8|4.7075|4.0|307.0|   21.0| 396.9| 8.26|20.4|\n",
            "|0.63796| 0.0| 8.14| 0.0|0.538|6.096| 84.5|4.4619|4.0|307.0|   21.0|380.02|10.26|18.2|\n",
            "|0.62739| 0.0| 8.14| 0.0|0.538|5.834| 56.5|4.4986|4.0|307.0|   21.0|395.62| 8.47|19.9|\n",
            "|1.05393| 0.0| 8.14| 0.0|0.538|5.935| 29.3|4.4986|4.0|307.0|   21.0|386.85| 6.58|23.1|\n",
            "| 0.7842| 0.0| 8.14| 0.0|0.538| 5.99| 81.7|4.2579|4.0|307.0|   21.0|386.75|14.67|17.5|\n",
            "|0.80271| 0.0| 8.14| 0.0|0.538|5.456| 36.6|3.7965|4.0|307.0|   21.0|288.99|11.69|20.2|\n",
            "| 0.7258| 0.0| 8.14| 0.0|0.538|5.727| 69.5|3.7965|4.0|307.0|   21.0|390.95|11.28|18.2|\n",
            "+-------+----+-----+----+-----+-----+-----+------+---+-----+-------+------+-----+----+\n",
            "only showing top 20 rows\n",
            "\n"
          ],
          "name": "stdout"
        }
      ]
    },
    {
      "cell_type": "code",
      "metadata": {
        "colab": {
          "base_uri": "https://localhost:8080/"
        },
        "id": "51QIC1puCQqo",
        "outputId": "aec901c0-504e-43bd-b97f-a02bd426c3ab"
      },
      "source": [
        "sc = SparkContext.getOrCreate(SparkConf().setMaster(\"local[*]\"))\n",
        "\n",
        "spark = SparkSession \\\n",
        "    .builder \\\n",
        "    .getOrCreate()\n",
        "sparkDF = spark.createDataFrame(boston)\n",
        "sparkDF.printSchema()"
      ],
      "execution_count": null,
      "outputs": [
        {
          "output_type": "stream",
          "text": [
            "root\n",
            " |-- CRIM: double (nullable = true)\n",
            " |-- ZN: double (nullable = true)\n",
            " |-- INDUS: double (nullable = true)\n",
            " |-- CHAS: double (nullable = true)\n",
            " |-- NOX: double (nullable = true)\n",
            " |-- RM: double (nullable = true)\n",
            " |-- AGE: double (nullable = true)\n",
            " |-- DIS: double (nullable = true)\n",
            " |-- RAD: double (nullable = true)\n",
            " |-- TAX: double (nullable = true)\n",
            " |-- PTRATIO: double (nullable = true)\n",
            " |-- B: double (nullable = true)\n",
            " |-- LSTAT: double (nullable = true)\n",
            " |-- MV: double (nullable = true)\n",
            "\n"
          ],
          "name": "stdout"
        }
      ]
    },
    {
      "cell_type": "markdown",
      "metadata": {
        "id": "6Hv6ziUyH0BA"
      },
      "source": [
        "Now that we have read in our data, let's turn our rows of the DataFrame into vectors which we can use to compute the parameters in our model. By Vectorizing our data we are able to speed up computation. [Read Here](https://www.reddit.com/r/explainlikeimfive/comments/4namsc/eli5why_does_vectorized_code_run_faster_than/) about why vectorization decreases computing time."
      ]
    },
    {
      "cell_type": "code",
      "metadata": {
        "colab": {
          "base_uri": "https://localhost:8080/"
        },
        "id": "k0kmQmGZ_qgQ",
        "outputId": "c1059e73-91af-4193-8974-6efd35af5af0"
      },
      "source": [
        "from pyspark.ml.feature import VectorAssembler\n",
        "\n",
        "vectorAssembler = VectorAssembler(inputCols = ['CRIM', 'ZN', 'INDUS', 'CHAS', 'NOX', 'RM', 'AGE', 'DIS', 'RAD', 'TAX', 'PTRATIO', 'B', 'LSTAT'], outputCol = 'features')\n",
        "vhouse_df = vectorAssembler.transform(sparkDF)\n",
        "vhouse_df = vhouse_df.select(['features', 'MV'])\n",
        "vhouse_df.show(3)"
      ],
      "execution_count": null,
      "outputs": [
        {
          "output_type": "stream",
          "text": [
            "+--------------------+----+\n",
            "|            features|  MV|\n",
            "+--------------------+----+\n",
            "|[0.00632,18.0,2.3...|24.0|\n",
            "|[0.02731,0.0,7.07...|21.6|\n",
            "|[0.02729,0.0,7.07...|34.7|\n",
            "+--------------------+----+\n",
            "only showing top 3 rows\n",
            "\n"
          ],
          "name": "stdout"
        }
      ]
    },
    {
      "cell_type": "markdown",
      "metadata": {
        "id": "mQJMhsXeI5Ab"
      },
      "source": [
        "Now that we have created vectors for our data, we will split our data into **Training** and **Test** Sets. The training set is the set of data in which we run our parameter calculations on and the test set is the set that we use to assess how well our model fits new data."
      ]
    },
    {
      "cell_type": "code",
      "metadata": {
        "id": "QUptSc0pBW9K"
      },
      "source": [
        "splits = vhouse_df.randomSplit([0.7, 0.3])\n",
        "train_df = splits[0]\n",
        "test_df = splits[1]"
      ],
      "execution_count": null,
      "outputs": []
    },
    {
      "cell_type": "code",
      "metadata": {
        "colab": {
          "base_uri": "https://localhost:8080/"
        },
        "id": "7QWHxA4RGZfg",
        "outputId": "f699e714-741e-449c-a0cb-32638015dbd4"
      },
      "source": [
        "from pyspark.ml.regression import LinearRegression\n",
        "lr = LinearRegression(featuresCol = 'features', labelCol='MV', maxIter=10, regParam=0.3, elasticNetParam=0.8)\n",
        "lr_model = lr.fit(train_df)\n",
        "print(\"Coefficients: \" + str(lr_model.coefficients))\n",
        "print(\"Intercept: \" + str(lr_model.intercept))"
      ],
      "execution_count": null,
      "outputs": [
        {
          "output_type": "stream",
          "text": [
            "Coefficients: [0.0,0.013581779306845633,-0.025425020186179044,2.829595036474371,-2.9288230989785786,4.1900562692388155,0.0,-0.6118282621636236,0.004194263059776491,0.0,-0.7252893605825874,0.007631464463353928,-0.5880759689442485]\n",
            "Intercept: 18.330115373290507\n"
          ],
          "name": "stdout"
        }
      ]
    },
    {
      "cell_type": "code",
      "metadata": {
        "colab": {
          "base_uri": "https://localhost:8080/"
        },
        "id": "Kp4KZ848GggW",
        "outputId": "343f6d79-1fb7-4441-9ff0-7ecca8e1e05b"
      },
      "source": [
        "trainingSummary = lr_model.summary\n",
        "print(\"RMSE: %f\" % trainingSummary.rootMeanSquaredError)\n",
        "print(\"r2: %f\" % trainingSummary.r2)"
      ],
      "execution_count": null,
      "outputs": [
        {
          "output_type": "stream",
          "text": [
            "RMSE: 5.229561\n",
            "r2: 0.701501\n"
          ],
          "name": "stdout"
        }
      ]
    },
    {
      "cell_type": "markdown",
      "metadata": {
        "id": "fbiKkuMQKbk-"
      },
      "source": [
        "Here we have RMSE as a measure of loss of our model. Underneath we have our $R^2$ value which gives us a measure of how much of the variability in the data comes from the model. The closer to 1 $R^2$ is, the better our model is. \n",
        "\n",
        "**NOTE:** The $R^2$ value our model gives with the training set does not tell us what the $R^2$ value with the test set."
      ]
    },
    {
      "cell_type": "code",
      "metadata": {
        "colab": {
          "base_uri": "https://localhost:8080/"
        },
        "id": "1RWkTapFGmky",
        "outputId": "90ec0a8a-fed7-464f-8ff9-64c425489769"
      },
      "source": [
        "lr_predictions = lr_model.transform(test_df)\n",
        "lr_predictions.select(\"prediction\",\"MV\",\"features\").show(5)\n",
        "from pyspark.ml.evaluation import RegressionEvaluator\n",
        "lr_evaluator = RegressionEvaluator(predictionCol=\"prediction\", \\\n",
        "                 labelCol=\"MV\",metricName=\"r2\")\n",
        "print(\"R Squared (R2) on test data = %g\" % lr_evaluator.evaluate(lr_predictions))"
      ],
      "execution_count": null,
      "outputs": [
        {
          "output_type": "stream",
          "text": [
            "+------------------+----+--------------------+\n",
            "|        prediction|  MV|            features|\n",
            "+------------------+----+--------------------+\n",
            "|  17.2732644387141|18.9|[0.0136,75.0,4.0,...|\n",
            "| 31.66166587874494|31.6|[0.01432,100.0,1....|\n",
            "|31.614676368995013|32.9|[0.01778,95.0,1.4...|\n",
            "| 31.56944451868472|34.7|[0.02729,0.0,7.07...|\n",
            "| 26.55983309265217|28.7|[0.02985,0.0,2.18...|\n",
            "+------------------+----+--------------------+\n",
            "only showing top 5 rows\n",
            "\n",
            "R Squared (R2) on test data = 0.741817\n"
          ],
          "name": "stdout"
        }
      ]
    },
    {
      "cell_type": "code",
      "metadata": {
        "colab": {
          "base_uri": "https://localhost:8080/"
        },
        "id": "D6cvdPVHHBQ0",
        "outputId": "51400887-9766-4cf5-ea10-de98498d0c2f"
      },
      "source": [
        "test_result = lr_model.evaluate(test_df)\n",
        "print(\"Root Mean Squared Error (RMSE) on test data = %g\" % test_result.rootMeanSquaredError)"
      ],
      "execution_count": null,
      "outputs": [
        {
          "output_type": "stream",
          "text": [
            "Root Mean Squared Error (RMSE) on test data = 4.1562\n"
          ],
          "name": "stdout"
        }
      ]
    },
    {
      "cell_type": "code",
      "metadata": {
        "colab": {
          "base_uri": "https://localhost:8080/"
        },
        "id": "ewY2FOe4HGQA",
        "outputId": "39cc1329-8af9-4614-a615-4c0b8c52c550"
      },
      "source": [
        "print(\"numIterations: %d\" % trainingSummary.totalIterations)\n",
        "print(\"objectiveHistory: %s\" % str(trainingSummary.objectiveHistory))\n",
        "trainingSummary.residuals.show()"
      ],
      "execution_count": null,
      "outputs": [
        {
          "output_type": "stream",
          "text": [
            "numIterations: 10\n",
            "objectiveHistory: [0.5000000000000004, 0.4350901491555103, 0.24659413568942984, 0.22021140617191753, 0.19086029160828763, 0.18546464585858352, 0.18473532755102834, 0.1832705906448468, 0.1829251797162075, 0.1827597099321171, 0.18270365061015306]\n",
            "+--------------------+\n",
            "|           residuals|\n",
            "+--------------------+\n",
            "|  -6.994968121238173|\n",
            "|   4.774794416404433|\n",
            "|  11.455581907492338|\n",
            "| -1.6505534599066216|\n",
            "|   6.773458232706648|\n",
            "|  10.493029809553363|\n",
            "| -1.7854429466878976|\n",
            "|   5.531250124147533|\n",
            "|-0.21677162146777817|\n",
            "| -3.7942333880470045|\n",
            "|  1.2323802154345493|\n",
            "| -1.9397144675859437|\n",
            "|  3.9242645384288046|\n",
            "|  3.1213904500404226|\n",
            "|  2.1588246232461827|\n",
            "|  -4.048773554369504|\n",
            "|   10.28132247965047|\n",
            "|  -5.597887002029594|\n",
            "| -0.9131862663376431|\n",
            "|  -5.036075596053184|\n",
            "+--------------------+\n",
            "only showing top 20 rows\n",
            "\n"
          ],
          "name": "stdout"
        }
      ]
    },
    {
      "cell_type": "code",
      "metadata": {
        "id": "ZpVvtyv8HJng"
      },
      "source": [
        ""
      ],
      "execution_count": null,
      "outputs": []
    }
  ]
}