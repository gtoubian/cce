{
  "nbformat": 4,
  "nbformat_minor": 0,
  "metadata": {
    "language_info": {
      "name": "python",
      "codemirror_mode": {
        "name": "ipython",
        "version": 3
      },
      "version": "3.7.4-final"
    },
    "orig_nbformat": 2,
    "file_extension": ".py",
    "mimetype": "text/x-python",
    "name": "python",
    "npconvert_exporter": "python",
    "pygments_lexer": "ipython3",
    "version": 3,
    "kernelspec": {
      "name": "python37764biticbscondaf4d657c25dbb416bac6851c38201b968",
      "display_name": "Python 3.7.7 64-bit ('icbs': conda)"
    },
    "colab": {
      "name": "1.4_02_Probability_Lecture.ipynb",
      "provenance": [],
      "include_colab_link": true
    }
  },
  "cells": [
    {
      "cell_type": "markdown",
      "metadata": {
        "id": "view-in-github",
        "colab_type": "text"
      },
      "source": [
        "<a href=\"https://colab.research.google.com/github/gtoubian/cce/blob/main/1_4_02_Probability_Lecture.ipynb\" target=\"_parent\"><img src=\"https://colab.research.google.com/assets/colab-badge.svg\" alt=\"Open In Colab\"/></a>"
      ]
    },
    {
      "cell_type": "markdown",
      "metadata": {
        "id": "BkXOX5boybF7"
      },
      "source": [
        "# Intro to Probability\n",
        "\n",
        "### Experiment    \n",
        "\n",
        "The experiment is simply the test we want to perform. We perform the test because we’re interested in the probability of each possible outcome. Rolling a die, flipping a coin, and pulling a card from a deck of cards are all examples of experiments. \n",
        "\n",
        "A single run of an experiment is referred to as a **trial**.\n",
        "\n",
        "### Sample space\n",
        "\n",
        "All possible outcomes of an experiment form a set known as the sample space, which we’ll usually call $S$ in our formulas. For example, when a six-sided die is rolled once, the sample space is `{1, 2, 3, 4, 5, 6}`. \n",
        "\n",
        "### Event \n",
        "An event is a set of outcomes that we want to calculate the probability of and that form a subset of the sample space. For example, we might want to know the probability of a particular outcome, like rolling a 3, or the probability of a set of multiple outcomes, such as rolling an even number (either 2, 4, or 6). We’ll use the letter E in our formulas to stand for an event.\n",
        "\n",
        "\n",
        "----\n",
        "\n",
        "### Uniform distribution\n",
        "\n",
        "If each outcome in the sample space is equally likely to occur, we say the outcomes come from the **uniform distribution** (we'll see other distributions later on).\n",
        "\n",
        "In this case the probability of an event, $P(E)$, occurring is calculated using the following formula:\n",
        "\n",
        "$$P(E) = \\dfrac{|E|}{|S|}$$\n",
        "\n",
        "Remember that $|x|$ is the *cardinality* of a set $x$ in math, which is equivalent to `len(x)` in python.\n",
        "\n",
        "In code:"
      ]
    },
    {
      "cell_type": "code",
      "metadata": {
        "id": "psHfiJJPybF9"
      },
      "source": [
        "def probability(event, space):\r\n",
        "  return len(event)/len (space)"
      ],
      "execution_count": 1,
      "outputs": []
    },
    {
      "cell_type": "markdown",
      "metadata": {
        "id": "VYeAtrTNybGB"
      },
      "source": [
        "So for the probability of rolling a number on a dice is:"
      ]
    },
    {
      "cell_type": "code",
      "metadata": {
        "id": "AwLBUu0qybGB",
        "colab": {
          "base_uri": "https://localhost:8080/"
        },
        "outputId": "4429f613-f36c-4b62-ad86-9b36d3c0eb9c"
      },
      "source": [
        "outcomes = [1,2,3,4,5,6]\r\n",
        "probability([1], outcomes)"
      ],
      "execution_count": 2,
      "outputs": [
        {
          "output_type": "execute_result",
          "data": {
            "text/plain": [
              "0.16666666666666666"
            ]
          },
          "metadata": {
            "tags": []
          },
          "execution_count": 2
        }
      ]
    },
    {
      "cell_type": "markdown",
      "metadata": {
        "id": "ufVocWRtybGF"
      },
      "source": [
        "# Probability of multiple events\n",
        "\n",
        "The probability of ONE OF multiple events is the sum of the probabilities of each occuri.\n",
        "\n",
        "$$P(E) = \\dfrac{|E_1| + |E_2|}{|S|}$$\n",
        "\n",
        "So for the probability of a number being greater than 4 **or** being even, then the probability is: "
      ]
    },
    {
      "cell_type": "code",
      "metadata": {
        "id": "nLFQC44JybGG",
        "colab": {
          "base_uri": "https://localhost:8080/"
        },
        "outputId": "60d8190f-7ca8-4c07-edd1-55f19f3941de"
      },
      "source": [
        "print(outcomes)"
      ],
      "execution_count": 3,
      "outputs": [
        {
          "output_type": "stream",
          "text": [
            "[1, 2, 3, 4, 5, 6]\n"
          ],
          "name": "stdout"
        }
      ]
    },
    {
      "cell_type": "code",
      "metadata": {
        "colab": {
          "base_uri": "https://localhost:8080/"
        },
        "id": "RtERaur4WrNI",
        "outputId": "d2a1f157-2553-4f74-eedd-efdd37c52504"
      },
      "source": [
        "event = []\r\n",
        "for i in outcomes:\r\n",
        "  if i>4 or i%2==0:\r\n",
        "    event.append(i)\r\n",
        "print(event)\r\n",
        "\r\n",
        "probability(event, outcomes)"
      ],
      "execution_count": 4,
      "outputs": [
        {
          "output_type": "stream",
          "text": [
            "[2, 4, 5, 6]\n"
          ],
          "name": "stdout"
        },
        {
          "output_type": "execute_result",
          "data": {
            "text/plain": [
              "0.6666666666666666"
            ]
          },
          "metadata": {
            "tags": []
          },
          "execution_count": 4
        }
      ]
    },
    {
      "cell_type": "code",
      "metadata": {
        "id": "0O_SnIssybGJ"
      },
      "source": [
        "### Exercise (2-5 min)\n",
        "# Rewrite the above function such that we calculate the probability of rolling an odd number equal to or less than 3."
      ],
      "execution_count": null,
      "outputs": []
    },
    {
      "cell_type": "code",
      "metadata": {
        "colab": {
          "base_uri": "https://localhost:8080/"
        },
        "id": "yDbKDnUlXDxY",
        "outputId": "8b02daa1-9a6e-46c0-d7d1-5569f8faa6d0"
      },
      "source": [
        "event2 = []\r\n",
        "for i in outcomes:\r\n",
        "  if i<=3 and i%2 == 1:\r\n",
        "    event2.append(i)\r\n",
        "print(event2)\r\n",
        "\r\n",
        "probability(event2, outcomes)"
      ],
      "execution_count": 7,
      "outputs": [
        {
          "output_type": "stream",
          "text": [
            "[1, 3]\n"
          ],
          "name": "stdout"
        },
        {
          "output_type": "execute_result",
          "data": {
            "text/plain": [
              "0.3333333333333333"
            ]
          },
          "metadata": {
            "tags": []
          },
          "execution_count": 7
        }
      ]
    },
    {
      "cell_type": "markdown",
      "metadata": {
        "id": "1kPLbrrYybGL"
      },
      "source": [
        "The probability of ALL OF multiple events is the probability of the intersection of the possible events\n",
        "\n",
        "$$P(E) = \\dfrac{|E_1 \\cap E_2|}{|S|}$$\n",
        "\n",
        "# Generating Random Numbers\n",
        "\n",
        "Both `random` and `numpy.random` can generate random numbers for us. A random number generator is often called a **RNG**"
      ]
    },
    {
      "cell_type": "code",
      "metadata": {
        "id": "mpVoWKlQybGL",
        "colab": {
          "base_uri": "https://localhost:8080/"
        },
        "outputId": "0529585f-97df-4193-8491-7bbadecbb679"
      },
      "source": [
        "import numpy as np\r\n",
        "import random\r\n",
        "\r\n",
        "print(np.random.randint(1,6))\r\n",
        "random.randint(1,6)"
      ],
      "execution_count": 11,
      "outputs": [
        {
          "output_type": "stream",
          "text": [
            "1\n"
          ],
          "name": "stdout"
        },
        {
          "output_type": "execute_result",
          "data": {
            "text/plain": [
              "2"
            ]
          },
          "metadata": {
            "tags": []
          },
          "execution_count": 11
        }
      ]
    },
    {
      "cell_type": "markdown",
      "metadata": {
        "id": "99EfQ5QPfM-y"
      },
      "source": [
        "#Probability of Successive Independent Events\r\n",
        "\r\n",
        "The probability of two independents events occuring at the same time (or successively) is simply the product of each of the events occuring.\r\n",
        "\r\n",
        "Example:\r\n",
        "\r\n",
        "The probability of flipping heads on a fair coin and rolling a 3 on a fair dice can be written as:\r\n",
        "\r\n",
        "$$P(Getting Heads & Rolling 3) = P(Getting Heads) * P(Rolling 3)$$"
      ]
    },
    {
      "cell_type": "code",
      "metadata": {
        "id": "NzIwBVchybGO",
        "colab": {
          "base_uri": "https://localhost:8080/"
        },
        "outputId": "d8957193-191c-4274-c508-2866cedd2468"
      },
      "source": [
        "GetHeadAnd3 = probability(['H'],['H','T'])*probability([3],[1,2,3,4,5,6])\r\n",
        "print(GetHeadAnd3)"
      ],
      "execution_count": 14,
      "outputs": [
        {
          "output_type": "stream",
          "text": [
            "0.08333333333333333\n"
          ],
          "name": "stdout"
        }
      ]
    },
    {
      "cell_type": "markdown",
      "metadata": {
        "id": "jTWpz1O4hOCj"
      },
      "source": [
        "#Conditional Probability\r\n",
        "\r\n",
        "So far, we have taken a look at probabilities that weren't conditioned on an event occuring before it.\r\n",
        "\r\n",
        "For example: The probability of flipping two heads is going to be different from the probability of flipping 2 heads given that the first coin toss was heads.\r\n",
        "\r\n",
        "$$P(Two Heads) = P(Heads)*P(Heads)$$\r\n",
        "$$P(Two Heads|First Toss  Was  Heads) = P(Heads)$$\r\n",
        "\r\n",
        "#Law of Total Probability\r\n",
        "Drawing on Conditional Proabilities, the Law of Total Probability states that the probability of an event occuring can be written as:\r\n",
        "\r\n",
        "$$P(A) = P(B)P(A|B) + P(C)P(A|C)....$$\r\n",
        "\r\n",
        "Going back to the example, if you're wondering why $P(Two Heads|First Toss  Was  Heads) = P(Heads)$, we draw on Bayes theorem which gives us an equation for conditional Probability.\r\n",
        "\r\n",
        "$$P(A|B) = \\frac{P(B|A) * P (A)}{P(B)}$$\r\n",
        "\r\n",
        "\r\n",
        "##Monty Hall Problem\r\n",
        "\r\n",
        "To see an application of conditional probability let's view a youtube video on the Monty Hall Problem:\r\n",
        "\r\n"
      ]
    },
    {
      "cell_type": "code",
      "metadata": {
        "colab": {
          "base_uri": "https://localhost:8080/",
          "height": 336
        },
        "id": "U0zpuXmRuatL",
        "outputId": "a76869cd-15a7-478e-d9ac-7ad1763270d3"
      },
      "source": [
        "from IPython.display import HTML\r\n",
        "# Youtube\r\n",
        "HTML('<iframe width=\"560\" height=\"315\" src=\"https://www.youtube.com/embed/4Lb-6rxZxx0\" frameborder=\"0\" allow=\"accelerometer; autoplay; clipboard-write; encrypted-media; gyroscope; picture-in-picture\" allowfullscreen></iframe>')"
      ],
      "execution_count": null,
      "outputs": [
        {
          "output_type": "execute_result",
          "data": {
            "text/html": [
              "<iframe width=\"560\" height=\"315\" src=\"https://www.youtube.com/embed/4Lb-6rxZxx0\" frameborder=\"0\" allow=\"accelerometer; autoplay; clipboard-write; encrypted-media; gyroscope; picture-in-picture\" allowfullscreen></iframe>"
            ],
            "text/plain": [
              "<IPython.core.display.HTML object>"
            ]
          },
          "metadata": {
            "tags": []
          },
          "execution_count": 7
        }
      ]
    },
    {
      "cell_type": "markdown",
      "metadata": {
        "id": "28X8KDs0wXN8"
      },
      "source": [
        "#Programming Questions:\r\n",
        "\r\n",
        "##Two Sum\r\n",
        "\r\n",
        "Given an array of integers \"nums\" and an integer \"target\", return indices of the two numbers such that they add up to \"target\".\r\n",
        "\r\n",
        "You may assume that each input would have exactly one solution, and you may not use the same element twice.\r\n",
        "\r\n",
        "\r\n",
        "\r\n",
        "```\r\n",
        "Input: nums = [2,7,11,15], target = 9\r\n",
        "Output: [0,1]\r\n",
        "Output: Because nums[0] + nums[1] == 9, we return [0, 1]\r\n",
        "```\r\n",
        "\r\n"
      ]
    },
    {
      "cell_type": "code",
      "metadata": {
        "id": "UJhQ-0PBvOqQ",
        "colab": {
          "base_uri": "https://localhost:8080/"
        },
        "outputId": "1c1af13f-b2c1-4e92-a30f-bc271535b453"
      },
      "source": [
        "nums =[2,7,11,15]\r\n",
        "target = 9\r\n",
        "result = []\r\n",
        "\r\n",
        "for i in range(len(nums)):\r\n",
        "  x = target - nums[i]\r\n",
        "  for j in range(len(nums)):\r\n",
        "    if nums[j]==x and len(result)<2:\r\n",
        "      result.append(i)\r\n",
        "      result.append(j)\r\n",
        "print(result)\r\n",
        "\r\n",
        "\r\n",
        "def solution (nums, target):\r\n",
        "  result = []\r\n",
        "  for i in range(len(nums)):\r\n",
        "    x = target - nums[i]\r\n",
        "  for j in range(len(nums)):\r\n",
        "    if nums[j]==x and len(result)<2:\r\n",
        "      result.append(i)\r\n",
        "      result.append(j)\r\n",
        "  return(result)\r\n",
        " "
      ],
      "execution_count": 20,
      "outputs": [
        {
          "output_type": "stream",
          "text": [
            "[0, 1]\n"
          ],
          "name": "stdout"
        }
      ]
    },
    {
      "cell_type": "markdown",
      "metadata": {
        "id": "mPaOugWs_P8m"
      },
      "source": [
        "#Longest Substring Without Repeating Characters\r\n",
        "\r\n",
        "Given a string s, find the length of the longest substring without repeating characters.\r\n",
        "\r\n",
        "\r\n",
        "\r\n",
        "```\r\n",
        "Input: s = \"abcabcbb\"\r\n",
        "Output: 3\r\n",
        "Explanation: The answer is \"abc\", with the length of 3.\r\n",
        "```\r\n",
        "\r\n"
      ]
    },
    {
      "cell_type": "code",
      "metadata": {
        "id": "5UVc-Zf28qcX",
        "colab": {
          "base_uri": "https://localhost:8080/"
        },
        "outputId": "cbfebbf6-29eb-4d48-96a2-7fb822226799"
      },
      "source": [
        "s = \"abcabcbb\"\r\n",
        "result = \"\"\r\n",
        "result = result + \"a\"\r\n",
        "len(result)\r\n",
        "\r\n",
        "for i in s:\r\n",
        "  if i not in result:\r\n",
        "    result = result + i\r\n",
        "print(len(result))\r\n",
        "\r\n",
        "def solver(s):\r\n",
        "  result = \"\"\r\n",
        "  for i in s:\r\n",
        "    if i not in result:\r\n",
        "      result = result + i\r\n",
        "  return(len(result))\r\n",
        "\r\n",
        "solver(s)"
      ],
      "execution_count": 32,
      "outputs": [
        {
          "output_type": "stream",
          "text": [
            "3\n"
          ],
          "name": "stdout"
        },
        {
          "output_type": "execute_result",
          "data": {
            "text/plain": [
              "3"
            ]
          },
          "metadata": {
            "tags": []
          },
          "execution_count": 32
        }
      ]
    },
    {
      "cell_type": "markdown",
      "metadata": {
        "id": "UzJciXjaA9Ag"
      },
      "source": [
        "#Reverse Integer\r\n",
        "\r\n",
        "Given an integer, x, return x with its digits reversed.\r\n",
        "\r\n",
        "\r\n",
        "\r\n",
        "```\r\n",
        "Input: x = 132\r\n",
        "Output: 231 \r\n",
        "```\r\n",
        "\r\n"
      ]
    },
    {
      "cell_type": "code",
      "metadata": {
        "id": "UOpve41VASi6",
        "colab": {
          "base_uri": "https://localhost:8080/"
        },
        "outputId": "93fc6d83-7e25-408a-85fd-e380d355685c"
      },
      "source": [
        "x = 132\r\n",
        "x = str(x)\r\n",
        "y = \"\"\r\n",
        "\r\n",
        "for i in range(len(x)-1,-1,-1):\r\n",
        "  y = y + x[i]\r\n",
        "print(int(y))\r\n",
        "\r\n",
        "def reverse(x):\r\n",
        "    x = str(x)\r\n",
        "    y = \"\"\r\n",
        "    for i in range(len(x)-1,-1,-1):\r\n",
        "      y = y + x[i]\r\n",
        "    return (int(y))\r\n",
        "\r\n",
        "reverse(x)\r\n",
        "D = 12345678\r\n",
        "reverse(D)"
      ],
      "execution_count": 38,
      "outputs": [
        {
          "output_type": "stream",
          "text": [
            "231\n"
          ],
          "name": "stdout"
        },
        {
          "output_type": "execute_result",
          "data": {
            "text/plain": [
              "87654321"
            ]
          },
          "metadata": {
            "tags": []
          },
          "execution_count": 38
        }
      ]
    },
    {
      "cell_type": "code",
      "metadata": {
        "id": "Ng3ZyGVJC2K9"
      },
      "source": [
        ""
      ],
      "execution_count": null,
      "outputs": []
    }
  ]
}