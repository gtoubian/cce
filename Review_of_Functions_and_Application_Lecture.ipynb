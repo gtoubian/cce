{
  "nbformat": 4,
  "nbformat_minor": 0,
  "metadata": {
    "colab": {
      "name": "Review_of_Functions_and_Application_Lecture.ipynb",
      "provenance": [],
      "include_colab_link": true
    },
    "kernelspec": {
      "name": "python3",
      "display_name": "Python 3"
    }
  },
  "cells": [
    {
      "cell_type": "markdown",
      "metadata": {
        "id": "view-in-github",
        "colab_type": "text"
      },
      "source": [
        "<a href=\"https://colab.research.google.com/github/gtoubian/cce/blob/main/Review_of_Functions_and_Application_Lecture.ipynb\" target=\"_parent\"><img src=\"https://colab.research.google.com/assets/colab-badge.svg\" alt=\"Open In Colab\"/></a>"
      ]
    },
    {
      "cell_type": "markdown",
      "metadata": {
        "id": "8GgyIJ1HjnNC"
      },
      "source": [
        "#Big O Notation (Revisited)\r\n",
        "\r\n",
        "Big-O cares about how the number of steps we have to take grow in relation to input size.\r\n",
        "\r\n",
        "Laws of Big-O\r\n",
        "1. Big-O only cares about the worst case\r\n",
        "The Big-O of and algorithm is always going to be worst case the algorithm can run.\r\n",
        "\r\n",
        "For $O(n)$ we pass through all elements.\r\n",
        "\r\n",
        "2. Big-O doesn't care about constant factors.\r\n",
        "In an equation like\r\n",
        "\r\n",
        "$$y=55+6x2$$ \r\n",
        "\r\n",
        "the number  55  is a constant -- it's the same whatever the input and output is. Big-O doesn't care about that, so we can say\r\n",
        "\r\n",
        "$$O(1025+n)=O(n)$$ \r\n",
        "\r\n",
        "Which might seem crazy -- clearly  $(1025+n)>n$  for all  $n$ . But\r\n",
        "\r\n",
        "Also note that sometimes we talk about the big-O of the memory required by the algorithm. For instance, in the selection algorithm (Searching for an element in a container), we need one copy of the input array to work on, so the memory required is  $O(n)$ . If we needed to make a copy\r\n",
        "\r\n",
        "3. Big-O doesn't care about low-order terms\r\n",
        "Low order terms are constant multipliers of the input. So  $$O(6n)=O(n)=O(1012n)$$ . We care about multipliers that are in terms of  n  (like  $log(n)$  ) or exponents on  n  (like  $n^3$ ).\r\n",
        "\r\n",
        "4. Algorithms that take the same number of steps for all inputs are  $O(1)$ .\r\n",
        "This is pretty self explanatory but here's an example of a function with complexity $O(1)$."
      ]
    },
    {
      "cell_type": "code",
      "metadata": {
        "id": "ZNvhI_Ekizww"
      },
      "source": [
        "#O(1)\r\n",
        "def divide(n):\r\n",
        "  return n/2\r\n"
      ],
      "execution_count": null,
      "outputs": []
    },
    {
      "cell_type": "code",
      "metadata": {
        "id": "0RAhgftkunCU",
        "colab": {
          "base_uri": "https://localhost:8080/",
          "height": 35
        },
        "outputId": "43296daa-ce86-4744-c3b8-5be8a842e119"
      },
      "source": [
        "#O(n)\r\n",
        "def search(n, List):\r\n",
        "  for i in List:\r\n",
        "    if i==n:\r\n",
        "      return f'the element, {n}, was in the list. It is at position {1+1} in the list'\r\n",
        "x = [1,2,3,4,5,6]\r\n",
        "search(4,x)\r\n"
      ],
      "execution_count": 1,
      "outputs": [
        {
          "output_type": "execute_result",
          "data": {
            "application/vnd.google.colaboratory.intrinsic+json": {
              "type": "string"
            },
            "text/plain": [
              "'the element, 4, was in the list. It is at position 2 in the list'"
            ]
          },
          "metadata": {
            "tags": []
          },
          "execution_count": 1
        }
      ]
    },
    {
      "cell_type": "code",
      "metadata": {
        "id": "mKlGP4dzvV4P",
        "colab": {
          "base_uri": "https://localhost:8080/"
        },
        "outputId": "559f2515-559d-4759-d403-c013e6afaad0"
      },
      "source": [
        "#O(n^c) - If you have n raised to a power, c, this automatically tells you that there is a nested loop.\r\n",
        "nums = [2,7,11,15]\r\n",
        "target = 9\r\n",
        "output = []\r\n",
        "def Two_Sum(nums, target):\r\n",
        "  for i in range(len(nums)):\r\n",
        "    x = target - nums[i]\r\n",
        "    for j in range(len(nums)):\r\n",
        "     if nums[j] == x and len(output)<2:\r\n",
        "       output.append(i)\r\n",
        "       output.append(j)\r\n",
        "  return (output)\r\n",
        "\r\n",
        "Two_Sum(nums,target)    \r\n",
        "\r\n"
      ],
      "execution_count": 5,
      "outputs": [
        {
          "output_type": "execute_result",
          "data": {
            "text/plain": [
              "[0, 1]"
            ]
          },
          "metadata": {
            "tags": []
          },
          "execution_count": 5
        }
      ]
    },
    {
      "cell_type": "code",
      "metadata": {
        "id": "UFnW9lHFv2qd",
        "colab": {
          "base_uri": "https://localhost:8080/"
        },
        "outputId": "eab52367-0ce8-48b1-cb9a-b8d726696664"
      },
      "source": [
        "# O(log n) - If you see log n, this usually involves cutting your data container in half several times like in the Binary Search Example\r\n",
        "def BinarySearch(array,element):\r\n",
        "  mid = 0\r\n",
        "  start = 0\r\n",
        "  end = len(array)\r\n",
        "  step = 0\r\n",
        "\r\n",
        "  while (start <= end):\r\n",
        "    print(\"Subarray in step {}: {}\". format(step, str(array[start:end+1])))\r\n",
        "    step = step +1\r\n",
        "    mid = (start+end)//2\r\n",
        "\r\n",
        "    if element == array[mid]:\r\n",
        "      return mid\r\n",
        "    if element < array[mid]:\r\n",
        "      end = mid-1\r\n",
        "    else:\r\n",
        "      start = mid+1\r\n",
        "  return -1\r\n",
        "\r\n",
        "Sort = [1,2,3,4,5,6,7,8,9,67]\r\n",
        "\r\n",
        "BinarySearch(Sort, 9)\r\n"
      ],
      "execution_count": 9,
      "outputs": [
        {
          "output_type": "stream",
          "text": [
            "Subarray in step 0: [1, 2, 3, 4, 5, 6, 7, 8, 9, 67]\n",
            "Subarray in step 1: [7, 8, 9, 67]\n"
          ],
          "name": "stdout"
        },
        {
          "output_type": "execute_result",
          "data": {
            "text/plain": [
              "8"
            ]
          },
          "metadata": {
            "tags": []
          },
          "execution_count": 9
        }
      ]
    },
    {
      "cell_type": "code",
      "metadata": {
        "id": "r-rW6GjMw8IK",
        "colab": {
          "base_uri": "https://localhost:8080/"
        },
        "outputId": "3ac16085-c663-4bad-abe9-d24dca93703d"
      },
      "source": [
        "#O(nlogn) - Linearithmic\r\n",
        "\r\n",
        "def mergeSort(X):\r\n",
        "  if len(X) > 1:\r\n",
        "    mid = len(X)//2\r\n",
        " \r\n",
        "    L = X[:mid]\r\n",
        "    R = X[mid:]\r\n",
        "    mergeSort(L)\r\n",
        "    mergeSort(R)\r\n",
        "    i = j = k = 0\r\n",
        "    while i < len(L) and j < len(R):\r\n",
        "      if L[i] < R[j]:\r\n",
        "        X[k] = L[i]\r\n",
        "        i += 1\r\n",
        "      else:\r\n",
        "        X[k] = R[j]\r\n",
        "        j += 1\r\n",
        "      k += 1\r\n",
        " \r\n",
        "        \r\n",
        "    while i < len(L):\r\n",
        "      X[k] = L[i]\r\n",
        "      i += 1\r\n",
        "      k += 1\r\n",
        "    while j < len(R):\r\n",
        "      X[k] = R[j]\r\n",
        "      j += 1\r\n",
        "      k += 1\r\n",
        "  return(X)\r\n",
        "\r\n",
        "num = [1,5,2,7,3,8]\r\n",
        "mergeSort(num)\r\n"
      ],
      "execution_count": 13,
      "outputs": [
        {
          "output_type": "execute_result",
          "data": {
            "text/plain": [
              "[1, 2, 3, 5, 7, 8]"
            ]
          },
          "metadata": {
            "tags": []
          },
          "execution_count": 13
        }
      ]
    },
    {
      "cell_type": "code",
      "metadata": {
        "id": "NAagC8I30CG6",
        "colab": {
          "base_uri": "https://localhost:8080/"
        },
        "outputId": "6b40e815-80e1-4f6e-ac06-ad0ae72999c9"
      },
      "source": [
        "#O(2^n) - When you see recursion (A function called inside itself), it's usually an exponential complexity\r\n",
        "def Fibonacci(n):\r\n",
        "  if n==1:\r\n",
        "    return 0\r\n",
        "  elif n==2:\r\n",
        "    return 1\r\n",
        "  else:\r\n",
        "    return Fibonacci(n-1) + Fibonacci(n-2)\r\n",
        "Fibonacci(4)\r\n",
        "\r\n"
      ],
      "execution_count": 14,
      "outputs": [
        {
          "output_type": "execute_result",
          "data": {
            "text/plain": [
              "2"
            ]
          },
          "metadata": {
            "tags": []
          },
          "execution_count": 14
        }
      ]
    },
    {
      "cell_type": "code",
      "metadata": {
        "colab": {
          "base_uri": "https://localhost:8080/"
        },
        "id": "sAmly5QYt1Gz",
        "outputId": "ef28a05e-d2a5-4d99-916a-e44ea184bbe1"
      },
      "source": [
        "def binary_search_recursive(array, element, start, end):\r\n",
        "  if start > end:\r\n",
        "    return -1\r\n",
        "  mid = (start + end)//2\r\n",
        "  if element == array[mid]:\r\n",
        "    return mid\r\n",
        "  if element < array[mid]:\r\n",
        "    return binary_search_recursive(array,element,start,mid-1)\r\n",
        "  else:\r\n",
        "    return binary_search_recursive(array,element,mid+1,end)\r\n",
        "\r\n",
        "x = np.array([1,2,3,4,5,6,56])\r\n",
        "\r\n",
        "binary_search_recursive(x,4,0,len(x))"
      ],
      "execution_count": 15,
      "outputs": [
        {
          "output_type": "execute_result",
          "data": {
            "text/plain": [
              "3"
            ]
          },
          "metadata": {
            "tags": []
          },
          "execution_count": 15
        }
      ]
    },
    {
      "cell_type": "markdown",
      "metadata": {
        "id": "rOSJD3j30weu"
      },
      "source": [
        "#Longest Common Prefix\r\n",
        "\r\n",
        "Write a function to find the longest common prefix string amongst an array of strings.\r\n",
        "\r\n",
        "If there is no common prefix, return an empty string \"\".\r\n",
        "\r\n",
        "\r\n",
        "\r\n",
        "```\r\n",
        "Input: strs = [\"flower\",\"flow\",\"flight\"]\r\n",
        "Output: \"fl\"\r\n",
        "```\r\n",
        "\r\n"
      ]
    },
    {
      "cell_type": "code",
      "metadata": {
        "id": "vOr8NGrl1Zrh",
        "colab": {
          "base_uri": "https://localhost:8080/"
        },
        "outputId": "aa05af45-9cc5-4272-8833-8186dd2709de"
      },
      "source": [
        "strs = [\"flower\", \"flow\", \"flight\"]\r\n",
        "res = ''\r\n",
        "if len(strs) == 0:\r\n",
        "  print('')\r\n",
        "strs = sorted(strs)\r\n",
        "print(strs)\r\n",
        "for i in strs[0]:\r\n",
        "  if strs[-1].startswith(res+i):\r\n",
        "    res += i\r\n",
        "  else:\r\n",
        "    break\r\n",
        "print (res)\r\n",
        "\r\n",
        "def solution(strs):\r\n",
        "  res = ''\r\n",
        "  if len(strs) == 0:\r\n",
        "    print('')\r\n",
        "  strs = sorted(strs)\r\n",
        "  print(strs)\r\n",
        "  for i in strs[0]:\r\n",
        "    if strs[-1].startswith(res+i):\r\n",
        "      res += i\r\n",
        "    else:\r\n",
        "      break\r\n",
        "  return (res)\r\n"
      ],
      "execution_count": 21,
      "outputs": [
        {
          "output_type": "stream",
          "text": [
            "['flight', 'flow', 'flower']\n",
            "fl\n"
          ],
          "name": "stdout"
        }
      ]
    },
    {
      "cell_type": "markdown",
      "metadata": {
        "id": "wMkWm89532R-"
      },
      "source": [
        "#3Sum\r\n",
        "\r\n",
        "Given an array nums of n integers, are there elements a, b, c in nums such that a + b + c = 0? Find all unique triplets in the array which gives the sum of zero.\r\n",
        "\r\n",
        "Notice that the solution set must not contain duplicate triplets.\r\n",
        "\r\n",
        "\r\n",
        "\r\n",
        "```\r\n",
        "Input: nums = [-1,0,1,2,-1,-4]\r\n",
        "Output: [[-1,-1,2],[-1,0,1]]\r\n",
        "```\r\n",
        "\r\n"
      ]
    },
    {
      "cell_type": "code",
      "metadata": {
        "id": "R-ItHkbN4Uq1",
        "colab": {
          "base_uri": "https://localhost:8080/"
        },
        "outputId": "4ad29e03-cfd5-41ce-85ca-511cb58c2027"
      },
      "source": [
        "nums = [-1,0,1,2,-1,-4]\r\n",
        "result = []\r\n",
        "\r\n",
        "for i in range(len(nums)):\r\n",
        "  for j in range(len(nums)):\r\n",
        "    for k in range(len(nums)):\r\n",
        "      if nums[i]+nums[j]+nums[k]==0 and i!=j and i!=k and k!=j:\r\n",
        "        x = sorted([nums[i], nums[j], nums[k]])\r\n",
        "        if x not in result:\r\n",
        "          result.append(x)\r\n",
        "print(result)\r\n",
        "\r\n",
        "def sol(nums):\r\n",
        "  result = []\r\n",
        "\r\n",
        "  for i in range(len(nums)):\r\n",
        "    for j in range(len(nums)):\r\n",
        "      for k in range(len(nums)):\r\n",
        "       if nums[i]+nums[j]+nums[k]==0 and i!=j and i!=k and k!=j:\r\n",
        "        x = sorted([nums[i], nums[j], nums[k]])\r\n",
        "        if x not in result:\r\n",
        "          result.append(x)\r\n",
        "  return(result)\r\n",
        "\r\n",
        "sol(nums)"
      ],
      "execution_count": 33,
      "outputs": [
        {
          "output_type": "stream",
          "text": [
            "[[-1, 0, 1], [-1, -1, 2]]\n"
          ],
          "name": "stdout"
        },
        {
          "output_type": "execute_result",
          "data": {
            "text/plain": [
              "[[-1, 0, 1], [-1, -1, 2]]"
            ]
          },
          "metadata": {
            "tags": []
          },
          "execution_count": 33
        }
      ]
    },
    {
      "cell_type": "markdown",
      "metadata": {
        "id": "zcHMUWMu6pdL"
      },
      "source": [
        "#Climbing Stairs\r\n",
        "\r\n",
        "You are climbing a staircase. It takes n steps to reach the top.\r\n",
        "\r\n",
        "Each time you can either climb 1 or 2 steps. In how many distinct ways can you climb to the top?\r\n",
        "\r\n",
        "\r\n",
        "```\r\n",
        "Input: n = 2\r\n",
        "Output: 2\r\n",
        "Explanation: There are two ways to climb to the top.\r\n",
        "1. 1 step + 1 step\r\n",
        "2. 2 steps\r\n",
        "\r\n",
        "Input: n = 3\r\n",
        "Output: 3\r\n",
        "Explanation: There are three ways to climb to the top.\r\n",
        "1. 1 step + 1 step + 1 step\r\n",
        "2. 1 step + 2 steps\r\n",
        "3. 2 steps + 1 step\r\n",
        "```\r\n",
        "\r\n"
      ]
    },
    {
      "cell_type": "code",
      "metadata": {
        "id": "Okf8tZZY1uyj",
        "colab": {
          "base_uri": "https://localhost:8080/"
        },
        "outputId": "d3f3690f-ec2f-4b06-b420-dd687c83895f"
      },
      "source": [
        "def climbstairs(n):\r\n",
        "  if n<=0:\r\n",
        "    return 0\r\n",
        "  if n == 1:\r\n",
        "    return 1\r\n",
        "  if n == 2:\r\n",
        "    return 2\r\n",
        "  results = [0]*(n+1)\r\n",
        "  results[0:3] = [0,1,2]\r\n",
        "  for i in range(3, n+1):\r\n",
        "    results[i] = results[i-1] + results [i-2]\r\n",
        "  return results[n]\r\n",
        "\r\n",
        "climbstairs(5) "
      ],
      "execution_count": 36,
      "outputs": [
        {
          "output_type": "execute_result",
          "data": {
            "text/plain": [
              "8"
            ]
          },
          "metadata": {
            "tags": []
          },
          "execution_count": 36
        }
      ]
    },
    {
      "cell_type": "code",
      "metadata": {
        "id": "2t9DjAzc3LqK"
      },
      "source": [
        "empty = [0]*3\r\n",
        "print(empty)"
      ],
      "execution_count": 34,
      "outputs": []
    },
    {
      "cell_type": "code",
      "metadata": {
        "id": "02w3lfBbC9xb"
      },
      "source": [
        ""
      ],
      "execution_count": null,
      "outputs": []
    },
    {
      "cell_type": "code",
      "metadata": {
        "id": "BptCAiBrDETL"
      },
      "source": [
        ""
      ],
      "execution_count": null,
      "outputs": []
    }
  ]
}