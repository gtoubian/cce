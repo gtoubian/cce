{
  "nbformat": 4,
  "nbformat_minor": 0,
  "metadata": {
    "colab": {
      "name": "4.1_Probability_Distributions_Lecture.ipynb",
      "provenance": [],
      "include_colab_link": true
    },
    "kernelspec": {
      "name": "python3",
      "display_name": "Python 3"
    }
  },
  "cells": [
    {
      "cell_type": "markdown",
      "metadata": {
        "id": "view-in-github",
        "colab_type": "text"
      },
      "source": [
        "<a href=\"https://colab.research.google.com/github/gtoubian/cce/blob/main/4_1_Probability_Distributions_Lecture.ipynb\" target=\"_parent\"><img src=\"https://colab.research.google.com/assets/colab-badge.svg\" alt=\"Open In Colab\"/></a>"
      ]
    },
    {
      "cell_type": "markdown",
      "metadata": {
        "id": "-dYzWFMDbVdL"
      },
      "source": [
        "#Probability Distributions\r\n",
        "\r\n",
        "To give us the probability of an event occuring, we make use of probability models which map an event in the sample space to a number between 0 and 1, otherwise known as the probability. There are two general probability distributions - Discrete and Continuous Distributions.\r\n",
        "\r\n",
        "##Discrete Distributions\r\n",
        "\r\n",
        "Discrete distributions deal with situations that have a distinct countable number of outcomes. Examples of this include: Flipping coin(s), rolling a dice, picking a card out of a deck, etc.\r\n",
        "\r\n",
        "We can measure the probability of an event occuring using the formula that we have seen before in the probability lecture:\r\n",
        "\r\n",
        "$$P (Event) = \\frac{len(event space)}{len(sample space)}$$\r\n",
        "\r\n",
        "###Bernoulli Distribution\r\n",
        "The Bernoulli distribution deals with situations that have a binary outcome (0 or 1, heads or tails). \r\n",
        "\r\n",
        "$$f(k,p) = pk + (1-p)(1-k)$$\r\n",
        "\r\n",
        "Where k is the event result (1 or 0) and p is the probability of k = 1 occuring. This is useful when modelling a coin flip.\r\n",
        "\r\n",
        "###Binomial Distribution\r\n",
        "\r\n",
        "Now let's say we have an n amount of coins to slip and we want to count the number of heads, (x). In this case, we use the binomial distribution which can be written as:\r\n",
        "\r\n",
        "$$f(n,x,p) = \\binom nx p^x(1-p)^{n-x}$$\r\n",
        "\r\n",
        "###Poisson Distribution\r\n",
        "The last discrete distribution we'll talk about for now is the Poisson Distribution. This distribution gives the probability of a given number of events occurring in a fixed interval of time or space if these events occur with a known constant mean rate and independently of the time since the last event. This distribution is written as:\r\n",
        "\r\n",
        "$$p(x;λ)=\\frac{e^{−λ}λ^{x}}{x!}$$ $$ for \\ x=0,1,2,⋯$$\r\n",
        "\r\n",
        "Where λ is the average rate of events occuring. If we have a time rate for r events to happen in a time, t, we can write λ = rt and the equation becomes:\r\n",
        "\r\n",
        "$$p(x;λ)=\\frac{e^{−rt}(rt)^{x}}{x!}$$ $$ for \\ x=0,1,2,⋯$$\r\n",
        "\r\n",
        "In python, we can view these distributions using the scipy package"
      ]
    },
    {
      "cell_type": "code",
      "metadata": {
        "id": "xnSmC2f2bURL",
        "outputId": "e462106a-6848-487e-e98e-e2d52845b8f9",
        "colab": {
          "base_uri": "https://localhost:8080/",
          "height": 295
        }
      },
      "source": [
        "#Bernoulli Distribution\r\n",
        "import scipy.stats as sc\r\n",
        "import matplotlib.pyplot as plt\r\n",
        "\r\n",
        "p = 0.3\r\n",
        "r = sc.bernoulli.rvs(p, size= 1000)\r\n",
        "\r\n",
        "plt.hist(r)\r\n",
        "plt.title(\"Number of outcomes with Bernoulli Distribution\")\r\n",
        "plt.ylabel(\"Count\")\r\n",
        "plt.xlabel(\"Outcome\")\r\n",
        "plt.show()"
      ],
      "execution_count": 2,
      "outputs": [
        {
          "output_type": "display_data",
          "data": {
            "image/png": "[encoded data removed]",
            "text/plain": [
              "<Figure size 432x288 with 1 Axes>"
            ]
          },
          "metadata": {
            "tags": [],
            "needs_background": "light"
          }
        }
      ]
    },
    {
      "cell_type": "code",
      "metadata": {
        "id": "fdaTVYHhrAfI",
        "outputId": "08f4bfa3-3e10-452b-d447-e2caf1075c2f",
        "colab": {
          "base_uri": "https://localhost:8080/",
          "height": 295
        }
      },
      "source": [
        "#Binomial Distribution\r\n",
        "\r\n",
        "p = 0.3\r\n",
        "n = 10\r\n",
        "r = sc.binom.rvs(n, p, size=15)\r\n",
        "\r\n",
        "plt.hist(r)\r\n",
        "plt.title(\"Number of hits with Binomial Distribution\")\r\n",
        "plt.ylabel(\"Count\")\r\n",
        "plt.xlabel(\"Number of Hits\")\r\n",
        "plt.show()"
      ],
      "execution_count": 4,
      "outputs": [
        {
          "output_type": "display_data",
          "data": {
            "image/png": "[encoded data removed]",
            "text/plain": [
              "<Figure size 432x288 with 1 Axes>"
            ]
          },
          "metadata": {
            "tags": [],
            "needs_background": "light"
          }
        }
      ]
    },
    {
      "cell_type": "code",
      "metadata": {
        "id": "-4v3RPlTrPMd",
        "outputId": "a03afa6c-9c97-4b51-f392-4350da9f77c3",
        "colab": {
          "base_uri": "https://localhost:8080/",
          "height": 295
        }
      },
      "source": [
        "#Poisson Distribution\r\n",
        "\r\n",
        "p = 0.3\r\n",
        "x = 5\r\n",
        "r = sc.poisson.rvs(x,p,size=15)\r\n",
        "\r\n",
        "plt.hist(r)\r\n",
        "plt.title(\"Number of Events Occurring in a Time Frame with Poisson\")\r\n",
        "plt.xlabel(\"Time Frame (sec)\")\r\n",
        "plt.ylabel(\"Count\")\r\n",
        "plt.show()"
      ],
      "execution_count": 5,
      "outputs": [
        {
          "output_type": "display_data",
          "data": {
            "image/png": "[encoded data removed]",
            "text/plain": [
              "<Figure size 432x288 with 1 Axes>"
            ]
          },
          "metadata": {
            "tags": [],
            "needs_background": "light"
          }
        }
      ]
    },
    {
      "cell_type": "markdown",
      "metadata": {
        "id": "KNwGYUHGtO4t"
      },
      "source": [
        "##Continuous Distributions\r\n",
        "\r\n",
        "In situations where we have an infinite amount of possible events, we can't use the same formula that we use for Discrete Distributions. \r\n",
        "\r\n",
        "$$P (Event) = \\frac{len(event space)}{len(sample space)}$$\r\n",
        "\r\n",
        "In this case, $len(sample space) =  \\infty$ which will make $P(event) = 0$\r\n",
        "\r\n",
        "Instead, we measure a range of values $P(x>20)$. If we want to find the probability of an event being between 2 values, a & b we integrate our probability function.\r\n",
        "\r\n",
        "$$P(a<x<b) = \\int_{a}^{b} f(x) dx$$\r\n",
        "\r\n",
        "**Note:** The above probability distribution function must be ***normalized***, or:\r\n",
        "\r\n",
        "$$\\int_{-\\infty}^{\\infty} f(x) dx = 1$$\r\n",
        "\r\n",
        "###Exponential Distribution\r\n",
        "\r\n",
        "The exponential distribution is a continuous distribution that is commonly used to measure the expected time for an event to occur. It is written as:\r\n",
        "\r\n",
        "$$f(x,λ) = λe^{-(λx)}\\\\for\\ x>0$$\r\n",
        "\r\n",
        "###Normal Distribution\r\n",
        "\r\n",
        "This is the most important distribution that you will come across. Ever. The normal distribution is the  distribution that alot of statistical tests are based off from and this distribution can be used to model a wide variety of phenomena. The distribution is written as:\r\n",
        "\r\n",
        "$$f(x) = \\frac{1}{σ\\sqrt{2\\pi}}e^{-\\frac{1}{2} (\\frac{x-μ}{σ})^2}$$\r\n",
        "\r\n",
        "The **Standard Normal Distribution** is a normal distribution with μ=0 and σ=1. Any and all normal distribution can be converted to a standard normal distribution using the transformation:\r\n",
        "\r\n",
        "$$Z = \\frac{X - μ}{σ}$$\r\n",
        "\r\n",
        "Let's plot these distributions using SciPy"
      ]
    },
    {
      "cell_type": "code",
      "metadata": {
        "id": "N6xhb9l1sopT",
        "outputId": "8639bf4a-1405-4c65-83cc-9807abdf3b8f",
        "colab": {
          "base_uri": "https://localhost:8080/",
          "height": 281
        }
      },
      "source": [
        "#Exponential Distribution\r\n",
        "lamb=0.3\r\n",
        "x = 5\r\n",
        "r=sc.expon.rvs(x, lamb, size=10)\r\n",
        "\r\n",
        "plt.hist(r)\r\n",
        "plt.title(\"Waiting Times in a Given Time Interval\")\r\n",
        "plt.show()\r\n",
        "\r\n",
        "#important for workshop\r\n",
        "import random\r\n",
        "random.seed()"
      ],
      "execution_count": 10,
      "outputs": [
        {
          "output_type": "display_data",
          "data": {
            "image/png": "[encoded data removed]",
            "text/plain": [
              "<Figure size 432x288 with 1 Axes>"
            ]
          },
          "metadata": {
            "tags": [],
            "needs_background": "light"
          }
        }
      ]
    },
    {
      "cell_type": "code",
      "metadata": {
        "id": "AozHNRRX_6D8",
        "outputId": "7a0740e3-67a8-4e5b-9b22-07a33c42b98f",
        "colab": {
          "base_uri": "https://localhost:8080/",
          "height": 295
        }
      },
      "source": [
        "#Normal Distribution\r\n",
        "\r\n",
        "miu = 5\r\n",
        "sigma = 10\r\n",
        "\r\n",
        "r=sc.norm.rvs(miu, sigma, size=1000)\r\n",
        "\r\n",
        "plt.hist(r)\r\n",
        "plt.title(\"Number of Events Occurring in a Time Frame with a Normal Distribution\")\r\n",
        "plt.xlabel(\"Time (sec)\")\r\n",
        "plt.ylabel(\"Count\")\r\n",
        "plt.show()"
      ],
      "execution_count": 11,
      "outputs": [
        {
          "output_type": "display_data",
          "data": {
            "image/png": "[encoded data removed]",
            "text/plain": [
              "<Figure size 432x288 with 1 Axes>"
            ]
          },
          "metadata": {
            "tags": [],
            "needs_background": "light"
          }
        }
      ]
    },
    {
      "cell_type": "markdown",
      "metadata": {
        "id": "wxJFR7lLIMCa"
      },
      "source": [
        "#Central Limit Theorem\r\n",
        "\r\n",
        "This is a very important concept in Statistics. The central limit theorem states that if you have a population with mean μ and standard deviation σ and take sufficiently large random samples from the population with replacement, then the distribution of the sample means will be approximately normally distributed. Let's use the Binomial Distribution for example:"
      ]
    },
    {
      "cell_type": "code",
      "metadata": {
        "id": "n2_U_vI4Hym8",
        "outputId": "c4446562-4fd2-4cdd-9a04-e1e659a4f670",
        "colab": {
          "base_uri": "https://localhost:8080/",
          "height": 265
        }
      },
      "source": [
        "p = 0.5\r\n",
        "n = 10\r\n",
        "r = sc.binom.rvs(n, p, size=15)\r\n",
        "\r\n",
        "plt.hist(r)\r\n",
        "plt.show()"
      ],
      "execution_count": 12,
      "outputs": [
        {
          "output_type": "display_data",
          "data": {
            "image/png": "[encoded data removed]",
            "text/plain": [
              "<Figure size 432x288 with 1 Axes>"
            ]
          },
          "metadata": {
            "tags": [],
            "needs_background": "light"
          }
        }
      ]
    },
    {
      "cell_type": "code",
      "metadata": {
        "id": "tuSo_6ZUIw7w",
        "outputId": "1c257526-70a8-40fd-d7e0-8e10d2bcdcbb",
        "colab": {
          "base_uri": "https://localhost:8080/",
          "height": 268
        }
      },
      "source": [
        "p = 0.5\r\n",
        "n = 10\r\n",
        "r = sc.binom.rvs(n, p, size=150)\r\n",
        "\r\n",
        "plt.hist(r)\r\n",
        "plt.show()"
      ],
      "execution_count": 13,
      "outputs": [
        {
          "output_type": "display_data",
          "data": {
            "image/png": "[encoded data removed]",
            "text/plain": [
              "<Figure size 432x288 with 1 Axes>"
            ]
          },
          "metadata": {
            "tags": [],
            "needs_background": "light"
          }
        }
      ]
    },
    {
      "cell_type": "code",
      "metadata": {
        "id": "a5oza0LrIyrv",
        "outputId": "9213e2aa-3538-492f-c692-63c15fe42450",
        "colab": {
          "base_uri": "https://localhost:8080/",
          "height": 265
        }
      },
      "source": [
        "p = 0.5\r\n",
        "n = 10\r\n",
        "r = sc.binom.rvs(n, p, size=1500)\r\n",
        "\r\n",
        "plt.hist(r)\r\n",
        "plt.show()"
      ],
      "execution_count": 14,
      "outputs": [
        {
          "output_type": "display_data",
          "data": {
            "image/png": "[encoded data removed]",
            "text/plain": [
              "<Figure size 432x288 with 1 Axes>"
            ]
          },
          "metadata": {
            "tags": [],
            "needs_background": "light"
          }
        }
      ]
    },
    {
      "cell_type": "code",
      "metadata": {
        "id": "4rqpGdhXZSH4"
      },
      "source": [
        ""
      ],
      "execution_count": null,
      "outputs": []
    },
    {
      "cell_type": "markdown",
      "metadata": {
        "id": "hNfRqAACJFIg"
      },
      "source": [
        "##Likelihood and MLE\r\n",
        "\r\n",
        "Likelihood gives us a measure of if the parameters for the distribution we use to model our data is a good fit for our model. This can be written as:\r\n",
        "\r\n",
        "$$L(\\theta | X_1,X_2,X_3,X_4,X_5...) = P(X_1,X_2,X_3,X_4,X_5...|\\theta)$$\r\n",
        "\r\n",
        "This is incredibly useful as we can obtain the parameters for a given probability distribution that most closely fit our Data by taking the derivative of this function with respect to $\\theta$ and setting the derivative to Zero. The parameter $\\theta$ that satisfies this equation is known as the **Maximum Likelihood Estimator** or **MLE**."
      ]
    },
    {
      "cell_type": "code",
      "metadata": {
        "id": "nr4F7OA5I0dA",
        "outputId": "3565de4d-11ac-4f54-8866-3d5b1260dd9a",
        "colab": {
          "base_uri": "https://localhost:8080/"
        }
      },
      "source": [
        "import numpy as np\r\n",
        "import math\r\n",
        "\r\n",
        "x=np.array([[1,2,3,4,5]])\r\n",
        "\r\n",
        "n = np.shape(x)[1]\r\n",
        "\r\n",
        "print(\"The simple data: \\n\", x)\r\n",
        "print(\"The Number of data present in x is: \",n)\r\n",
        "\r\n",
        "mu = np.array([[1,2,3,2,3]])\r\n",
        "sigma = np.array([[1,2,2,3,3]])\r\n",
        "print(\"\\n The mean is: \", mu)\r\n",
        "print(\"The St. dev is \", sigma)\r\n",
        "\r\n",
        "print (\"Mu Sigma logL\")\r\n",
        "\r\n",
        "for i in range(5):\r\n",
        "  logL = np.sum(np.square(x-mu[0,i])/(2*np.square(sigma[0,i]))) - (0.5*n*np.log10(2*math.pi)) - n*np.log10(sigma[0,i])\r\n",
        "  print(mu[0,i], sigma[0,i], np.round(logL,3))"
      ],
      "execution_count": 17,
      "outputs": [
        {
          "output_type": "stream",
          "text": [
            "The simple data: \n",
            " [[1 2 3 4 5]]\n",
            "The Number of data present in x is:  5\n",
            "\n",
            " The mean is:  [[1 2 3 2 3]]\n",
            "The St. dev is  [[1 2 2 3 3]]\n",
            "Mu Sigma logL\n",
            "1 1 13.005\n",
            "2 2 -1.626\n",
            "3 2 -2.251\n",
            "2 3 -3.548\n",
            "3 3 -3.826\n"
          ],
          "name": "stdout"
        }
      ]
    },
    {
      "cell_type": "markdown",
      "metadata": {
        "id": "bKlPL-6xXVgB"
      },
      "source": [
        "##Hypothesis Testing\r\n",
        "\r\n",
        "To put it simply, hypothesis testing allows us to use our data to see if there is a statistically significant difference between two or more groups. Usually with hypothesis testing, we have a null hypothesis that we either **reject or fail to reject** NEVER accept. The null hypothesis is a hypothesis that essentially states that any difference between the two groups we are testing is up to random chance. We can assess statistical significance using a **p value**. A p value is the likelihood that we'd get our data given we model our data with the parameters specified by the null hypothesis. Usually, if our p value is under 0.05 we can reject our null hypothesis as the likelihood of our data coming from random chance is less than 5%.\r\n",
        "\r\n",
        "Take for example, we have two groups of students: One group that didn't study for a test and another group that did and took their scores out of 20 on the test. We can easily run a t test on the data using scipy.\r\n",
        "\r\n",
        "***We are going to be diving further into hypothesis testing tomorrow***\r\n",
        "\r\n"
      ]
    },
    {
      "cell_type": "code",
      "metadata": {
        "id": "eBIlwEW0XOwL",
        "outputId": "032518f0-cc26-4d73-cb38-6d5261ab06e3",
        "colab": {
          "base_uri": "https://localhost:8080/"
        }
      },
      "source": [
        "grp1 = [0,1,4,5,2,10,11]\r\n",
        "grp2 = [11,15,18,20,19]\r\n",
        "\r\n",
        "sc.ttest_ind(grp1, grp2)"
      ],
      "execution_count": 19,
      "outputs": [
        {
          "output_type": "execute_result",
          "data": {
            "text/plain": [
              "Ttest_indResult(statistic=-5.0028338608131415, pvalue=0.0005350941686363989)"
            ]
          },
          "metadata": {
            "tags": []
          },
          "execution_count": 19
        }
      ]
    },
    {
      "cell_type": "code",
      "metadata": {
        "id": "k4rcKApHd1gF"
      },
      "source": [
        ""
      ],
      "execution_count": null,
      "outputs": []
    }
  ]
}