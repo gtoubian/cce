{
  "nbformat": 4,
  "nbformat_minor": 0,
  "metadata": {
    "colab": {
      "name": "3.4 Web Scraping Workshop.ipynb",
      "provenance": [],
      "collapsed_sections": [],
      "include_colab_link": true
    },
    "kernelspec": {
      "name": "python3",
      "display_name": "Python 3"
    }
  },
  "cells": [
    {
      "cell_type": "markdown",
      "metadata": {
        "id": "view-in-github",
        "colab_type": "text"
      },
      "source": [
        "<a href=\"https://colab.research.google.com/github/gtoubian/cce/blob/main/3_4_Web_Scraping_Workshop.ipynb\" target=\"_parent\"><img src=\"https://colab.research.google.com/assets/colab-badge.svg\" alt=\"Open In Colab\"/></a>"
      ]
    },
    {
      "cell_type": "markdown",
      "metadata": {
        "id": "8E2UjtZFKdpn"
      },
      "source": [
        "#Warm Up\r\n",
        "\r\n",
        "In the line below, import the regex, beautifulsoup, requests and pandas libraries."
      ]
    },
    {
      "cell_type": "code",
      "metadata": {
        "id": "88I9QU-CKDt0"
      },
      "source": [
        "import re\r\n",
        "import pandas as pd\r\n",
        "import requests\r\n",
        "from bs4 import BeautifulSoup as bs"
      ],
      "execution_count": 1,
      "outputs": []
    },
    {
      "cell_type": "markdown",
      "metadata": {
        "id": "DPd_Gj_3Ktq1"
      },
      "source": [
        "#Scraping Youtube Data\r\n",
        "\r\n",
        "Scrape all text, and urls from the Youtube homepage."
      ]
    },
    {
      "cell_type": "code",
      "metadata": {
        "id": "shlcpW0icDu-",
        "colab": {
          "base_uri": "https://localhost:8080/"
        },
        "outputId": "e18332fd-88ae-4509-a4cb-3df42eb798f5"
      },
      "source": [
        "r = requests.get(\"https://toscrape.com/\")\r\n",
        "web = bs(r.content)\r\n",
        "print(web.prettify())"
      ],
      "execution_count": null,
      "outputs": [
        {
          "output_type": "stream",
          "text": [
            "<!DOCTYPE html>\n",
            "<html lang=\"en\">\n",
            " <head>\n",
            "  <meta content=\"text/html; charset=utf-8\" http-equiv=\"Content-Type\"/>\n",
            "  <title>\n",
            "   Scraping Sandbox\n",
            "  </title>\n",
            "  <link href=\"./css/bootstrap.min.css\" rel=\"stylesheet\"/>\n",
            "  <link href=\"./css/main.css\" rel=\"stylesheet\"/>\n",
            " </head>\n",
            " <body>\n",
            "  <div class=\"container\">\n",
            "   <div class=\"row\">\n",
            "    <div class=\"col-md-1\">\n",
            "    </div>\n",
            "    <div class=\"col-md-10 well\">\n",
            "     <img class=\"logo\" src=\"img/sh-logo.png\" width=\"200px\"/>\n",
            "     <h1 class=\"text-right\">\n",
            "      Web Scraping Sandbox\n",
            "     </h1>\n",
            "    </div>\n",
            "   </div>\n",
            "   <div class=\"row\">\n",
            "    <div class=\"col-md-1\">\n",
            "    </div>\n",
            "    <div class=\"col-md-10\">\n",
            "     <h2>\n",
            "      Books\n",
            "     </h2>\n",
            "     <p>\n",
            "      A\n",
            "      <a href=\"http://books.toscrape.com\">\n",
            "       fictional bookstore\n",
            "      </a>\n",
            "      that desperately wants to be scraped. It's a safe place for beginners learning web scraping and for developers validating their scraping technologies as well. Available at:\n",
            "      <a href=\"http://books.toscrape.com\">\n",
            "       books.toscrape.com\n",
            "      </a>\n",
            "     </p>\n",
            "     <div class=\"col-md-6\">\n",
            "      <a href=\"http://books.toscrape.com\">\n",
            "       <img class=\"img-thumbnail\" src=\"./img/books.png\"/>\n",
            "      </a>\n",
            "     </div>\n",
            "     <div class=\"col-md-6\">\n",
            "      <table class=\"table table-hover\">\n",
            "       <tr>\n",
            "        <th colspan=\"2\">\n",
            "         Details\n",
            "        </th>\n",
            "       </tr>\n",
            "       <tr>\n",
            "        <td>\n",
            "         Amount of items\n",
            "        </td>\n",
            "        <td>\n",
            "         1000\n",
            "        </td>\n",
            "       </tr>\n",
            "       <tr>\n",
            "        <td>\n",
            "         Pagination\n",
            "        </td>\n",
            "        <td>\n",
            "         ✔\n",
            "        </td>\n",
            "       </tr>\n",
            "       <tr>\n",
            "        <td>\n",
            "         Items per page\n",
            "        </td>\n",
            "        <td>\n",
            "         max 20\n",
            "        </td>\n",
            "       </tr>\n",
            "       <tr>\n",
            "        <td>\n",
            "         Requires JavaScript\n",
            "        </td>\n",
            "        <td>\n",
            "         ✘\n",
            "        </td>\n",
            "       </tr>\n",
            "      </table>\n",
            "     </div>\n",
            "    </div>\n",
            "   </div>\n",
            "   <div class=\"row\">\n",
            "    <div class=\"col-md-1\">\n",
            "    </div>\n",
            "    <div class=\"col-md-10\">\n",
            "     <h2>\n",
            "      Quotes\n",
            "     </h2>\n",
            "     <p>\n",
            "      <a href=\"http://quotes.toscrape.com/\">\n",
            "       A website\n",
            "      </a>\n",
            "      that lists quotes from famous people. It has many endpoints showing the quotes in many different ways, each of them including new scraping challenges for you, as described below.\n",
            "     </p>\n",
            "     <div class=\"col-md-6\">\n",
            "      <a href=\"http://quotes.toscrape.com\">\n",
            "       <img class=\"img-thumbnail\" src=\"./img/quotes.png\"/>\n",
            "      </a>\n",
            "     </div>\n",
            "     <div class=\"col-md-6\">\n",
            "      <table class=\"table table-hover\">\n",
            "       <tr>\n",
            "        <th colspan=\"2\">\n",
            "         Endpoints\n",
            "        </th>\n",
            "       </tr>\n",
            "       <tr>\n",
            "        <td>\n",
            "         <a href=\"http://quotes.toscrape.com/\">\n",
            "          Default\n",
            "         </a>\n",
            "        </td>\n",
            "        <td>\n",
            "         Microdata and pagination\n",
            "        </td>\n",
            "       </tr>\n",
            "       <tr>\n",
            "        <td>\n",
            "         <a href=\"http://quotes.toscrape.com/scroll\">\n",
            "          Scroll\n",
            "         </a>\n",
            "        </td>\n",
            "        <td>\n",
            "         infinite scrolling pagination\n",
            "        </td>\n",
            "       </tr>\n",
            "       <tr>\n",
            "        <td>\n",
            "         <a href=\"http://quotes.toscrape.com/js\">\n",
            "          JavaScript\n",
            "         </a>\n",
            "        </td>\n",
            "        <td>\n",
            "         JavaScript generated content\n",
            "        </td>\n",
            "       </tr>\n",
            "       <tr>\n",
            "        <td>\n",
            "         <a href=\"http://quotes.toscrape.com/js-delayed\">\n",
            "          Delayed\n",
            "         </a>\n",
            "        </td>\n",
            "        <td>\n",
            "         Same as JavaScript but with a delay (?delay=10000)\n",
            "        </td>\n",
            "       </tr>\n",
            "       <tr>\n",
            "        <td>\n",
            "         <a href=\"http://quotes.toscrape.com/tableful\">\n",
            "          Tableful\n",
            "         </a>\n",
            "        </td>\n",
            "        <td>\n",
            "         a table based messed-up layout\n",
            "        </td>\n",
            "       </tr>\n",
            "       <tr>\n",
            "        <td>\n",
            "         <a href=\"http://quotes.toscrape.com/login\">\n",
            "          Login\n",
            "         </a>\n",
            "        </td>\n",
            "        <td>\n",
            "         login with CSRF token (any user/passwd works)\n",
            "        </td>\n",
            "       </tr>\n",
            "       <tr>\n",
            "        <td>\n",
            "         <a href=\"http://quotes.toscrape.com/search.aspx\">\n",
            "          ViewState\n",
            "         </a>\n",
            "        </td>\n",
            "        <td>\n",
            "         an AJAX based filter form with ViewStates\n",
            "        </td>\n",
            "       </tr>\n",
            "       <tr>\n",
            "        <td>\n",
            "         <a href=\"http://quotes.toscrape.com/random\">\n",
            "          Random\n",
            "         </a>\n",
            "        </td>\n",
            "        <td>\n",
            "         a single random quote\n",
            "        </td>\n",
            "       </tr>\n",
            "      </table>\n",
            "     </div>\n",
            "    </div>\n",
            "   </div>\n",
            "  </div>\n",
            " </body>\n",
            "</html>\n",
            "\n"
          ],
          "name": "stdout"
        }
      ]
    },
    {
      "cell_type": "code",
      "metadata": {
        "colab": {
          "base_uri": "https://localhost:8080/"
        },
        "id": "dYZm6fbdDKlK",
        "outputId": "27d49a03-0063-4b72-d85f-5f46a7d6d154"
      },
      "source": [
        "links = web.select(\"a\")\r\n",
        "specific_link = [link['href'] for link in links]\r\n",
        "specific_link"
      ],
      "execution_count": null,
      "outputs": [
        {
          "output_type": "execute_result",
          "data": {
            "text/plain": [
              "['http://books.toscrape.com',\n",
              " 'http://books.toscrape.com',\n",
              " 'http://books.toscrape.com',\n",
              " 'http://quotes.toscrape.com/',\n",
              " 'http://quotes.toscrape.com',\n",
              " 'http://quotes.toscrape.com/',\n",
              " 'http://quotes.toscrape.com/scroll',\n",
              " 'http://quotes.toscrape.com/js',\n",
              " 'http://quotes.toscrape.com/js-delayed',\n",
              " 'http://quotes.toscrape.com/tableful',\n",
              " 'http://quotes.toscrape.com/login',\n",
              " 'http://quotes.toscrape.com/search.aspx',\n",
              " 'http://quotes.toscrape.com/random']"
            ]
          },
          "metadata": {
            "tags": []
          },
          "execution_count": 29
        }
      ]
    },
    {
      "cell_type": "code",
      "metadata": {
        "colab": {
          "base_uri": "https://localhost:8080/"
        },
        "id": "5COLIb3BEn7s",
        "outputId": "5942f076-80fd-456f-8731-73cb561121c4"
      },
      "source": [
        "urls = ['https://toscrape.com/']\r\n",
        "\r\n",
        "text = []\r\n",
        "for url in urls:\r\n",
        "    website = requests.get('https://toscrape.com/')\r\n",
        "    soup = bs(website.content)\r\n",
        "    text += [''.join(s.findAll(text=True))for s in soup.findAll('p')]\r\n",
        "\r\n",
        "text"
      ],
      "execution_count": null,
      "outputs": [
        {
          "output_type": "execute_result",
          "data": {
            "text/plain": [
              "[\"A fictional bookstore that desperately wants to be scraped. It's a safe place for beginners learning web scraping and for developers validating their scraping technologies as well. Available at: books.toscrape.com\",\n",
              " 'A website that lists quotes from famous people. It has many endpoints showing the quotes in many different ways, each of them including new scraping challenges for you, as described below.']"
            ]
          },
          "metadata": {
            "tags": []
          },
          "execution_count": 30
        }
      ]
    },
    {
      "cell_type": "markdown",
      "metadata": {
        "id": "DEWXUCjdLnmn"
      },
      "source": [
        "#Interview Problems\r\n",
        "\r\n",
        "##Python\r\n",
        "\r\n",
        "Given an integer n, return the nth ugly number.\r\n",
        "\r\n",
        "Ugly number is a positive number whose prime factors only include 2, 3, and/or 5.\r\n",
        "\r\n",
        "\r\n",
        "\r\n",
        "```\r\n",
        "Input: n = 10\r\n",
        "Output: 12\r\n",
        "Explanation: [1, 2, 3, 4, 5, 6, 8, 9, 10, 12] is the sequence of the first 10 ugly numbers.\r\n",
        "```\r\n",
        "\r\n"
      ]
    },
    {
      "cell_type": "code",
      "metadata": {
        "id": "AYDZLd8DNKT7",
        "colab": {
          "base_uri": "https://localhost:8080/"
        },
        "outputId": "da4d62b8-4a7d-45b3-aa53-83e4ae7d2ba5"
      },
      "source": [
        "def maxDivide(x, y):\r\n",
        "  while x % y == 0:\r\n",
        "      x = x / y\r\n",
        "  return x\r\n",
        "\r\n",
        "def ugly(num):\r\n",
        "  num = maxDivide(num, 2)\r\n",
        "  num = maxDivide(num, 3)\r\n",
        "  num = maxDivide(num, 5)\r\n",
        "  return 1 if num == 1 else 0\r\n",
        "\r\n",
        "def uglynum(n):\r\n",
        "  a = 1\r\n",
        "  count = 1\r\n",
        "  while n > count:\r\n",
        "    a += 1\r\n",
        "    if ugly(a):\r\n",
        "      count += 1\r\n",
        "  return a\r\n",
        "\r\n",
        "uglynum(10)\r\n"
      ],
      "execution_count": null,
      "outputs": [
        {
          "output_type": "execute_result",
          "data": {
            "text/plain": [
              "12"
            ]
          },
          "metadata": {
            "tags": []
          },
          "execution_count": 31
        }
      ]
    },
    {
      "cell_type": "markdown",
      "metadata": {
        "id": "XxEvrG5rNLQ6"
      },
      "source": [
        "Given an array of citations sorted in ascending order (each citation is a non-negative integer) of a researcher, write a function to compute the researcher's h-index.\r\n",
        "\r\n",
        "According to the definition of h-index on Wikipedia: \"A scientist has index h if h of his/her N papers have at least h citations each, and the other N − h papers have no more than h citations each.\"\r\n",
        "\r\n",
        "\r\n",
        "\r\n",
        "```\r\n",
        "Input: citations = [0,1,3,5,6]\r\n",
        "Output: 3 \r\n",
        "Explanation: [0,1,3,5,6] means the researcher has 5 papers in total and each of them had \r\n",
        "             received 0, 1, 3, 5, 6 citations respectively. \r\n",
        "             Since the researcher has 3 papers with at least 3 citations each and the remaining \r\n",
        "             two with no more than 3 citations each, her h-index is 3.\r\n",
        "```\r\n",
        "\r\n"
      ]
    },
    {
      "cell_type": "code",
      "metadata": {
        "id": "P7rUt0O9NxlD",
        "colab": {
          "base_uri": "https://localhost:8080/"
        },
        "outputId": "5d8497f3-247a-410c-a47a-69123636a873"
      },
      "source": [
        "def h(citations):\r\n",
        "  citations.sort(reverse=True)\r\n",
        "  Hindex = 0\r\n",
        "  for i, cit in enumerate(citations):\r\n",
        "    Hindex = max(Hindex, min(i + 1, cit))\r\n",
        "    if cit < Hindex:\r\n",
        "      break\r\n",
        "  \r\n",
        "  return Hindex\r\n",
        "\r\n",
        "citations = [0,1,3,5,6]\r\n",
        "\r\n",
        "h(citations)"
      ],
      "execution_count": null,
      "outputs": [
        {
          "output_type": "execute_result",
          "data": {
            "text/plain": [
              "3"
            ]
          },
          "metadata": {
            "tags": []
          },
          "execution_count": 32
        }
      ]
    },
    {
      "cell_type": "markdown",
      "metadata": {
        "id": "tzSOBdHUNyF9"
      },
      "source": [
        "##Probability\r\n",
        "\r\n",
        "You're about to get on a plane to Seattle. You want to know if you should bring an umbrella. You call 3 random friends of yours who live there and ask each independently if it's raining. Each of your friends has a 2/3 chance of telling you the truth and a 1/3 chance of messing with you by lying. All 3 friends tell you that \"Yes\" it is raining. What is the probability that it's actually raining in Seattle?\r\n",
        "\r\n"
      ]
    },
    {
      "cell_type": "code",
      "metadata": {
        "id": "-Rk0ul9kcW9h"
      },
      "source": [
        "'''\r\n",
        "Per Usama: Probability of it actually raining is 0.3\r\n",
        "\r\n",
        "P(raining | Yes) = P(Yes | raining) x P(raining) / P(Yes) x P(raining) + P(Yes | No rain) x P(No Rain)\r\n",
        "\r\n",
        "= (2/3)**3 x 0.3 / (((2/3)**3 x 0.3) + ((1/3)**3 x 0.7))\r\n",
        "\r\n",
        "= 0.7741935483870968\r\n",
        "\r\n",
        "Approx 77.4% chance\r\n",
        "'''"
      ],
      "execution_count": null,
      "outputs": []
    },
    {
      "cell_type": "markdown",
      "metadata": {
        "id": "7ITEdc-ncaq3"
      },
      "source": [
        "There are 30 red marbles and 10 black marbles in Urn #1. You have 20 red and 20 Black marbles in Urn #2. Randomly you pull a marble from the random urn and find that it is red. What is the probability that it was pulled from Urn #1?"
      ]
    },
    {
      "cell_type": "code",
      "metadata": {
        "id": "xNwHUjHIc9hf"
      },
      "source": [
        "'''\r\n",
        "Urn1 = 30 x Red, 10 x Black\r\n",
        "Urn2 = 20 x Red, 20 x Black\r\n",
        "\r\n",
        "Prob(Urn1/Red) = 1/2\r\n",
        "Prob(Red) = 50/80\r\n",
        "Prob(Red/Urn1) = 30/40\r\n",
        "\r\n",
        "((30/40) x (1/2)) / (5/8) = 60% chance\r\n",
        "\r\n",
        "'''"
      ],
      "execution_count": null,
      "outputs": []
    }
  ]
}