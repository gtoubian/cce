{
  "nbformat": 4,
  "nbformat_minor": 0,
  "metadata": {
    "colab": {
      "name": "3.5 Intro to PySpark.ipynb",
      "provenance": [],
      "collapsed_sections": [],
      "include_colab_link": true
    },
    "kernelspec": {
      "display_name": "Python 3",
      "name": "python3"
    }
  },
  "cells": [
    {
      "cell_type": "markdown",
      "metadata": {
        "id": "view-in-github",
        "colab_type": "text"
      },
      "source": [
        "<a href=\"https://colab.research.google.com/github/gtoubian/cce/blob/main/3_5_Intro_to_PySpark.ipynb\" target=\"_parent\"><img src=\"https://colab.research.google.com/assets/colab-badge.svg\" alt=\"Open In Colab\"/></a>"
      ]
    },
    {
      "cell_type": "markdown",
      "metadata": {
        "id": "7XtKfdSBCJ74"
      },
      "source": [
        "#What is PySpark?\r\n",
        "\r\n",
        "In today's lecture, we will be covering the use of the package, PySpark. Spark is a software for computing in clusters. Spark allows you to spread data/computations over clusters with multiple nodes. For explanations sake, you can think of a node as a seperate computer and all these multiple computers work together to perform a task. This is ideal for Big Data Analysis as splitting data makes it easier to work with since we have nodes working only with a small amount of data.\r\n",
        "\r\n",
        "Each node works on its own subset of the total data and also carries out a part of the total calculations required, which allows for the data processing and calculation to be parallelized over the cluster. Parallel computation is a handy tool in that it can make certain types of programming tasks much faster. Becareful though, because Spark calculations are so complex\r\n"
      ]
    },
    {
      "cell_type": "code",
      "metadata": {
        "id": "rV2ODZR2Ls0R"
      },
      "source": [
        "!pip install pyspark\r\n",
        "from pyspark.sql import SparkSession"
      ],
      "execution_count": null,
      "outputs": []
    },
    {
      "cell_type": "markdown",
      "metadata": {
        "id": "ACsSTzs9RcoD"
      },
      "source": [
        "Spark's core data structure is the Resilient Distributed Dataset (RDD). This is a low level object that lets Spark work its magic by splitting data across multiple nodes in the cluster. However, RDDs are hard to work with directly, so in this lecture, you'll be using the Spark DataFrame abstraction built on top of RDDs.\r\n",
        "\r\n",
        "The Spark DataFrame was designed to behave a lot like a SQL table (a table with variables in the columns and observations in the rows). Not only are they easier to understand, DataFrames are also more optimized for complicated operations than RDDs.\r\n",
        "\r\n",
        "To start working with Spark DataFrames, we first have to create a SparkSession object from your SparkContext. "
      ]
    },
    {
      "cell_type": "code",
      "metadata": {
        "colab": {
          "base_uri": "https://localhost:8080/"
        },
        "id": "BqktoWWrLtTs",
        "outputId": "a5f96a4e-fdab-4b7d-e018-67917179cbaf"
      },
      "source": [
        "# Create my_spark\r\n",
        "my_spark = SparkSession.builder.getOrCreate()\r\n",
        "\r\n",
        "# Print my_spark\r\n",
        "print(my_spark)"
      ],
      "execution_count": null,
      "outputs": [
        {
          "output_type": "stream",
          "text": [
            "<pyspark.sql.session.SparkSession object at 0x7f28abfce490>\n"
          ],
          "name": "stdout"
        }
      ]
    },
    {
      "cell_type": "code",
      "metadata": {
        "id": "YCiGvVkRR7fD"
      },
      "source": [
        "spark = SparkSession.builder\\\r\n",
        "        .master(\"local[*]\")\\\r\n",
        "        .appName('PySpark_Tutorial')\\\r\n",
        "        .getOrCreate()"
      ],
      "execution_count": null,
      "outputs": []
    },
    {
      "cell_type": "code",
      "metadata": {
        "colab": {
          "base_uri": "https://localhost:8080/"
        },
        "id": "OfN41r3PRrd1",
        "outputId": "8dfd76f3-3a2e-4476-f504-97e4947e952b"
      },
      "source": [
        "print(spark.catalog.listTables())"
      ],
      "execution_count": null,
      "outputs": [
        {
          "output_type": "stream",
          "text": [
            "[]\n"
          ],
          "name": "stdout"
        }
      ]
    },
    {
      "cell_type": "markdown",
      "metadata": {
        "id": "6hBDIoIew2--"
      },
      "source": [
        "Let's load some data for us to use. We'll use us stock price data to explore PySpark. \r\n",
        "https://www.kaggle.com/dinnymathew/usstockprices"
      ]
    },
    {
      "cell_type": "code",
      "metadata": {
        "id": "33LooSvTVq_Y"
      },
      "source": [
        "from pyspark.sql.types import functions as F\r\n",
        "\r\n",
        "data_schema = [\r\n",
        "               StructField('_c0', IntegerType(), True),\r\n",
        "               StructField('symbol', StringType(), True),\r\n",
        "               StructField('data', DateType(), True),\r\n",
        "               StructField('open', DoubleType(), True),\r\n",
        "               StructField('high', DoubleType(), True),\r\n",
        "               StructField('low', DoubleType(), True),\r\n",
        "               StructField('close', DoubleType(), True),\r\n",
        "               StructField('volume', IntegerType(), True),\r\n",
        "               StructField('adjusted', DoubleType(), True),\r\n",
        "               StructField('market.cap', StringType(), True),\r\n",
        "               StructField('sector', StringType(), True),\r\n",
        "               StructField('industry', StringType(), True),\r\n",
        "               StructField('exchange', StringType(), True),\r\n",
        "            ]\r\n",
        "\r\n",
        "final_struc = StructType(fields = data_schema)\r\n",
        "\r\n",
        "data = spark.read.csv('stocks_price_final.csv',sep = ',', header = True, schema = final_struc)"
      ],
      "execution_count": null,
      "outputs": []
    },
    {
      "cell_type": "code",
      "metadata": {
        "colab": {
          "base_uri": "https://localhost:8080/"
        },
        "id": "q_u3URyvWBM4",
        "outputId": "9ffa159c-8b33-4d17-a623-9ca718e935c0"
      },
      "source": [
        "data.show(5)"
      ],
      "execution_count": null,
      "outputs": [
        {
          "output_type": "stream",
          "text": [
            "+---+------+----------+---------+---------+---------+---------+-------+---------+----------+-------------+--------------------+--------+\n",
            "|_c0|symbol|      data|     open|     high|      low|    close| volume| adjusted|market.cap|       sector|            industry|exchange|\n",
            "+---+------+----------+---------+---------+---------+---------+-------+---------+----------+-------------+--------------------+--------+\n",
            "|  1|   TXG|2019-09-12|     54.0|     58.0|     51.0|    52.75|7326300|    52.75|    $9.31B|Capital Goods|Biotechnology: La...|  NASDAQ|\n",
            "|  2|   TXG|2019-09-13|    52.75|   54.355|49.150002|    52.27|1025200|    52.27|    $9.31B|Capital Goods|Biotechnology: La...|  NASDAQ|\n",
            "|  3|   TXG|2019-09-16|52.450001|     56.0|52.009998|55.200001| 269900|55.200001|    $9.31B|Capital Goods|Biotechnology: La...|  NASDAQ|\n",
            "|  4|   TXG|2019-09-17|56.209999|60.900002|   55.423|56.779999| 602800|56.779999|    $9.31B|Capital Goods|Biotechnology: La...|  NASDAQ|\n",
            "|  5|   TXG|2019-09-18|56.849998|    62.27|55.650002|     62.0|1589600|     62.0|    $9.31B|Capital Goods|Biotechnology: La...|  NASDAQ|\n",
            "+---+------+----------+---------+---------+---------+---------+-------+---------+----------+-------------+--------------------+--------+\n",
            "only showing top 5 rows\n",
            "\n"
          ],
          "name": "stdout"
        }
      ]
    },
    {
      "cell_type": "markdown",
      "metadata": {
        "id": "WzX7IzAOybuy"
      },
      "source": [
        "Like you've seen with SQL, we can use aggregate functions such as sum, count, avg, etc. on out data"
      ]
    },
    {
      "cell_type": "code",
      "metadata": {
        "colab": {
          "base_uri": "https://localhost:8080/"
        },
        "id": "uVeA92UjgvV2",
        "outputId": "71776e14-b2be-4817-babf-585e13d9abc8"
      },
      "source": [
        "## Find Average price of opening and closing stock\r\n",
        "\r\n",
        "for i in ['open', 'close']:\r\n",
        "  print(f'''Average {i} Stock Price: {\r\n",
        "    data.select(F.avg(i)).collect()[0][0]\r\n",
        "    }''')"
      ],
      "execution_count": null,
      "outputs": [
        {
          "output_type": "stream",
          "text": [
            "Average open Stock Price: 15070.071703341051\n",
            "Average close Stock Price: 15032.714854330707\n"
          ],
          "name": "stdout"
        }
      ]
    },
    {
      "cell_type": "markdown",
      "metadata": {
        "id": "1ErtuVLKzfjW"
      },
      "source": [
        "The collect_set function allows you to pick the distinct elements in a given column."
      ]
    },
    {
      "cell_type": "code",
      "metadata": {
        "colab": {
          "base_uri": "https://localhost:8080/"
        },
        "id": "okT4BqlshAic",
        "outputId": "5b927df5-7f2c-4d8c-e3a0-1d4ad1e6df62"
      },
      "source": [
        "data.select(F.collect_set(\"exchange\")).show(truncate=False)"
      ],
      "execution_count": null,
      "outputs": [
        {
          "output_type": "stream",
          "text": [
            "+---------------------+\n",
            "|collect_set(exchange)|\n",
            "+---------------------+\n",
            "|[NYSE, NASDAQ]       |\n",
            "+---------------------+\n",
            "\n"
          ],
          "name": "stdout"
        }
      ]
    },
    {
      "cell_type": "code",
      "metadata": {
        "colab": {
          "base_uri": "https://localhost:8080/"
        },
        "id": "33P1HWLNimQu",
        "outputId": "1303418b-991e-494e-f621-2382c669ef37"
      },
      "source": [
        "data.select(F.count(\"sector\")).show(truncate=False)"
      ],
      "execution_count": null,
      "outputs": [
        {
          "output_type": "stream",
          "text": [
            "+-------------+\n",
            "|count(sector)|\n",
            "+-------------+\n",
            "|1729034      |\n",
            "+-------------+\n",
            "\n"
          ],
          "name": "stdout"
        }
      ]
    },
    {
      "cell_type": "code",
      "metadata": {
        "colab": {
          "base_uri": "https://localhost:8080/"
        },
        "id": "VNL2UVXwnguR",
        "outputId": "c61dbc9c-90ac-4039-ce7f-674a94816a5e"
      },
      "source": [
        "data.select(F.countDistinct(\"sector\")).show(truncate=False)"
      ],
      "execution_count": null,
      "outputs": [
        {
          "output_type": "stream",
          "text": [
            "+----------------------+\n",
            "|count(DISTINCT sector)|\n",
            "+----------------------+\n",
            "|12                    |\n",
            "+----------------------+\n",
            "\n"
          ],
          "name": "stdout"
        }
      ]
    },
    {
      "cell_type": "code",
      "metadata": {
        "colab": {
          "background_save": true,
          "base_uri": "https://localhost:8080/"
        },
        "id": "YmB5oUHzpsEF",
        "outputId": "6a8234d6-0d2f-406d-ff36-78d7fc003aba"
      },
      "source": [
        "data.select(F.kurtosis(\"volume\")).show(truncate=False)\r\n",
        "data.select(F.skewness(\"volume\")).show(truncate=False)\r\n",
        "data.select(F.stddev(\"volume\")).show(truncate=False)\r\n",
        "data.select(F.variance(\"volume\")).show(truncate=False)\r\n"
      ],
      "execution_count": null,
      "outputs": [
        {
          "output_type": "stream",
          "text": [
            "+------------------+\n",
            "|kurtosis(volume)  |\n",
            "+------------------+\n",
            "|1159.3465390444946|\n",
            "+------------------+\n",
            "\n",
            "+------------------+\n",
            "|skewness(volume)  |\n",
            "+------------------+\n",
            "|22.534251558551144|\n",
            "+------------------+\n",
            "\n"
          ],
          "name": "stdout"
        }
      ]
    },
    {
      "cell_type": "code",
      "metadata": {
        "id": "2DowZ2doqHS4",
        "colab": {
          "base_uri": "https://localhost:8080/"
        },
        "outputId": "66445c0f-3df7-408f-c71e-6f344c44eb60"
      },
      "source": [
        "from pyspark.sql.window import Window\r\n",
        "\r\n",
        "windowSpec  = Window.partitionBy(\"sector\").orderBy(\"industry\")\r\n",
        "\r\n",
        "data.withColumn(\"row_number\",F.row_number().over(windowSpec)).show(10, truncate=False)"
      ],
      "execution_count": null,
      "outputs": [
        {
          "output_type": "stream",
          "text": [
            "+----+------+----------+-----+-----+-----+-----+------+--------+----------+-------------+-----------------+--------+----------+\n",
            "|_c0 |symbol|data      |open |high |low  |close|volume|adjusted|market.cap|sector       |industry         |exchange|row_number|\n",
            "+----+------+----------+-----+-----+-----+-----+------+--------+----------+-------------+-----------------+--------+----------+\n",
            "|4253|KRKR  |2019-11-08|13.0 |14.5 |12.58|13.06|479100|13.06   |$130.48M  |Miscellaneous|Business Services|NASDAQ  |1         |\n",
            "|4254|KRKR  |2019-11-11|12.72|12.78|10.7 |10.74|226200|10.74   |$130.48M  |Miscellaneous|Business Services|NASDAQ  |2         |\n",
            "|4255|KRKR  |2019-11-12|10.33|10.96|8.91 |8.92 |186800|8.92    |$130.48M  |Miscellaneous|Business Services|NASDAQ  |3         |\n",
            "|4256|KRKR  |2019-11-13|8.88 |9.73 |8.72 |9.21 |117000|9.21    |$130.48M  |Miscellaneous|Business Services|NASDAQ  |4         |\n",
            "|4257|KRKR  |2019-11-14|9.04 |9.49 |9.04 |9.2  |59700 |9.2     |$130.48M  |Miscellaneous|Business Services|NASDAQ  |5         |\n",
            "|4258|KRKR  |2019-11-15|9.17 |10.0 |9.0  |9.98 |88900 |9.98    |$130.48M  |Miscellaneous|Business Services|NASDAQ  |6         |\n",
            "|4259|KRKR  |2019-11-18|9.85 |9.87 |9.41 |9.6  |21700 |9.6     |$130.48M  |Miscellaneous|Business Services|NASDAQ  |7         |\n",
            "|4260|KRKR  |2019-11-19|9.601|9.601|9.05 |9.35 |20500 |9.35    |$130.48M  |Miscellaneous|Business Services|NASDAQ  |8         |\n",
            "|4261|KRKR  |2019-11-20|9.22 |9.22 |9.02 |9.03 |22500 |9.03    |$130.48M  |Miscellaneous|Business Services|NASDAQ  |9         |\n",
            "|4262|KRKR  |2019-11-21|9.04 |9.05 |8.71 |8.73 |24300 |8.73    |$130.48M  |Miscellaneous|Business Services|NASDAQ  |10        |\n",
            "+----+------+----------+-----+-----+-----+-----+------+--------+----------+-------------+-----------------+--------+----------+\n",
            "only showing top 10 rows\n",
            "\n"
          ],
          "name": "stdout"
        }
      ]
    },
    {
      "cell_type": "code",
      "metadata": {
        "colab": {
          "base_uri": "https://localhost:8080/"
        },
        "id": "KMvY6nqTroed",
        "outputId": "e3ab610e-bf3e-417e-c764-c661292518bf"
      },
      "source": [
        "data.withColumn(\"rank\", F.rank().over(windowSpec)).show(5)\r\n",
        "data.withColumn(\"dense_rank\", F.dense_rank().over(windowSpec)).show(5)"
      ],
      "execution_count": null,
      "outputs": [
        {
          "output_type": "stream",
          "text": [
            "+----+------+----------+-----+-----+-----+-----+------+--------+----------+-------------+-----------------+--------+----+\n",
            "| _c0|symbol|      data| open| high|  low|close|volume|adjusted|market.cap|       sector|         industry|exchange|rank|\n",
            "+----+------+----------+-----+-----+-----+-----+------+--------+----------+-------------+-----------------+--------+----+\n",
            "|4253|  KRKR|2019-11-08| 13.0| 14.5|12.58|13.06|479100|   13.06|  $130.48M|Miscellaneous|Business Services|  NASDAQ|   1|\n",
            "|4254|  KRKR|2019-11-11|12.72|12.78| 10.7|10.74|226200|   10.74|  $130.48M|Miscellaneous|Business Services|  NASDAQ|   1|\n",
            "|4255|  KRKR|2019-11-12|10.33|10.96| 8.91| 8.92|186800|    8.92|  $130.48M|Miscellaneous|Business Services|  NASDAQ|   1|\n",
            "|4256|  KRKR|2019-11-13| 8.88| 9.73| 8.72| 9.21|117000|    9.21|  $130.48M|Miscellaneous|Business Services|  NASDAQ|   1|\n",
            "|4257|  KRKR|2019-11-14| 9.04| 9.49| 9.04|  9.2| 59700|     9.2|  $130.48M|Miscellaneous|Business Services|  NASDAQ|   1|\n",
            "+----+------+----------+-----+-----+-----+-----+------+--------+----------+-------------+-----------------+--------+----+\n",
            "only showing top 5 rows\n",
            "\n",
            "+----+------+----------+-----+-----+-----+-----+------+--------+----------+-------------+-----------------+--------+----------+\n",
            "| _c0|symbol|      data| open| high|  low|close|volume|adjusted|market.cap|       sector|         industry|exchange|dense_rank|\n",
            "+----+------+----------+-----+-----+-----+-----+------+--------+----------+-------------+-----------------+--------+----------+\n",
            "|4253|  KRKR|2019-11-08| 13.0| 14.5|12.58|13.06|479100|   13.06|  $130.48M|Miscellaneous|Business Services|  NASDAQ|         1|\n",
            "|4254|  KRKR|2019-11-11|12.72|12.78| 10.7|10.74|226200|   10.74|  $130.48M|Miscellaneous|Business Services|  NASDAQ|         1|\n",
            "|4255|  KRKR|2019-11-12|10.33|10.96| 8.91| 8.92|186800|    8.92|  $130.48M|Miscellaneous|Business Services|  NASDAQ|         1|\n",
            "|4256|  KRKR|2019-11-13| 8.88| 9.73| 8.72| 9.21|117000|    9.21|  $130.48M|Miscellaneous|Business Services|  NASDAQ|         1|\n",
            "|4257|  KRKR|2019-11-14| 9.04| 9.49| 9.04|  9.2| 59700|     9.2|  $130.48M|Miscellaneous|Business Services|  NASDAQ|         1|\n",
            "+----+------+----------+-----+-----+-----+-----+------+--------+----------+-------------+-----------------+--------+----------+\n",
            "only showing top 5 rows\n",
            "\n"
          ],
          "name": "stdout"
        }
      ]
    },
    {
      "cell_type": "code",
      "metadata": {
        "id": "h68j7FA6tz6r"
      },
      "source": [
        ""
      ],
      "execution_count": null,
      "outputs": []
    }
  ]
}