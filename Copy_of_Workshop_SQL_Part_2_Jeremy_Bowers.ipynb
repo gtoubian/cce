{
  "nbformat": 4,
  "nbformat_minor": 0,
  "metadata": {
    "colab": {
      "name": "Copy of Workshop_SQL_Part_2_Jeremy_Bowers.ipynb",
      "provenance": [],
      "collapsed_sections": [],
      "include_colab_link": true
    },
    "kernelspec": {
      "name": "python3",
      "display_name": "Python 3"
    }
  },
  "cells": [
    {
      "cell_type": "markdown",
      "metadata": {
        "id": "view-in-github",
        "colab_type": "text"
      },
      "source": [
        "<a href=\"https://colab.research.google.com/github/gtoubian/cce/blob/main/Copy_of_Workshop_SQL_Part_2_Jeremy_Bowers.ipynb\" target=\"_parent\"><img src=\"https://colab.research.google.com/assets/colab-badge.svg\" alt=\"Open In Colab\"/></a>"
      ]
    },
    {
      "cell_type": "markdown",
      "metadata": {
        "id": "2RWs38Jh6Jfz"
      },
      "source": [
        "**Gabriel Toubian** - gtoubian@gmail.com\r\n"
      ]
    },
    {
      "cell_type": "markdown",
      "metadata": {
        "id": "Ox69IMbBqrAc"
      },
      "source": [
        "#NOTE:\r\n",
        "Please insert a text cell at the top of the Notebook with your Full Name in Bold and your email that you use for both Journey and Github\r\n",
        "\r\n",
        "Also, add to the title of the notebook, an underscore as well as the name of the killer from the SQL Murder Mystery activity.\r\n",
        "\r\n",
        "Ex. 'Workshop_SQL_Part_2_Killer'"
      ]
    },
    {
      "cell_type": "markdown",
      "metadata": {
        "id": "MpjQhsvrq3bF"
      },
      "source": [
        "#Warmup\r\n",
        "\r\n",
        "Run the following lines in the cell below:\r\n",
        "\r\n",
        "\r\n",
        "```\r\n",
        "import pandas as pd\r\n",
        "import sqlite3 as sql\r\n",
        "conn = sql.connect('example.db')\r\n",
        "```\r\n",
        "\r\n",
        "**Note:** You can run a cell by pressing 'Shift+Enter'"
      ]
    },
    {
      "cell_type": "code",
      "metadata": {
        "id": "4IlKHslRqiYR"
      },
      "source": [
        "import pandas as pd\r\n",
        "import sqlite3 as sql\r\n",
        "conn = sql.connect('example.db')"
      ],
      "execution_count": null,
      "outputs": []
    },
    {
      "cell_type": "markdown",
      "metadata": {
        "id": "SMl9Ua2Vq-jq"
      },
      "source": [
        "#Covid-19 Reporting\r\n",
        "\r\n",
        "We are going to be working with the Covid-19 Data set again, only we are going to be converting the dataframe to a sql table. In the line below, read in the url into a data frame, convert it to a sql table and show all columns in this table but limit it to the first 5 rows."
      ]
    },
    {
      "cell_type": "code",
      "metadata": {
        "id": "fvYqSz7FrjiM"
      },
      "source": [
        "url = 'https://ckan0.cf.opendata.inter.prod-toronto.ca/download_resource/e5bf35bc-e681-43da-b2ce-0242d00922ad?format=csv'\r\n",
        "\r\n",
        "df = pd.read_csv(url)\r\n",
        "df.to_sql('covid', con=conn)\r\n",
        "pd.read_sql(\"SELECT * From covid LIMIT 5\", con=conn)\r\n"
      ],
      "execution_count": null,
      "outputs": []
    },
    {
      "cell_type": "markdown",
      "metadata": {
        "id": "b-lhWv7Wrv9M"
      },
      "source": [
        "In the cell below, select the 'Neighbourhood Name' column. "
      ]
    },
    {
      "cell_type": "code",
      "metadata": {
        "id": "vaCMkZLZrkpx"
      },
      "source": [
        ""
      ],
      "execution_count": null,
      "outputs": []
    },
    {
      "cell_type": "markdown",
      "metadata": {
        "id": "TqsSDKpPshO8"
      },
      "source": [
        "Select the first 10 rows in the table where the infected patient was female. Then call the first 15 rows in the dataframe where the patient was male, ever hospitalized and in their 40s."
      ]
    },
    {
      "cell_type": "code",
      "metadata": {
        "id": "__3ftLjWtHvE"
      },
      "source": [
        ""
      ],
      "execution_count": null,
      "outputs": []
    },
    {
      "cell_type": "code",
      "metadata": {
        "id": "8wlWp0g-tIBZ"
      },
      "source": [
        ""
      ],
      "execution_count": null,
      "outputs": []
    },
    {
      "cell_type": "markdown",
      "metadata": {
        "id": "hlE3Z4y8u_Qj"
      },
      "source": [
        "Use the groupby clause to group your entries in the data frame by Gender and query the **total count** of cases for each Gender. \r\n"
      ]
    },
    {
      "cell_type": "code",
      "metadata": {
        "id": "S7UmQEvXvO64"
      },
      "source": [
        ""
      ],
      "execution_count": null,
      "outputs": []
    },
    {
      "cell_type": "markdown",
      "metadata": {
        "id": "kGSAoPtBr9bB"
      },
      "source": [
        "#Joins\r\n",
        "\r\n",
        "Create two tables named Address and Number as:\r\n",
        "\r\n",
        "\r\n",
        "```\r\n",
        "+----+-------+--------------+\r\n",
        "| Id | Name  | Location     | \r\n",
        "+----+-------+--------------+\r\n",
        "| 1  | Joe   | 1370 Way St. |\r\n",
        "| 2  | Henry | 34 Apple Dr. |\r\n",
        "| 3  | Sam   | 60 Moon Rd.  |\r\n",
        "| 4  | Max   | 95 Main St.  |\r\n",
        "+----+-------+--------------+\r\n",
        "```\r\n",
        "\r\n",
        "\r\n",
        "\r\n",
        "```\r\n",
        "+----+-------+--------------+\r\n",
        "| Id | Name  | Phone Number | \r\n",
        "+----+-------+--------------+\r\n",
        "| 1  | Joe   | 1234567890   |\r\n",
        "| 5  | Candy | 1230987654   |\r\n",
        "| 7  | Bob   | 1235476980   |\r\n",
        "| 4  | Max   | 1239078564   |\r\n",
        "+----+-------+--------------+\r\n",
        "```\r\n",
        "\r\n",
        "Use the appropriate Join to Get an output as:\r\n",
        "\r\n",
        "\r\n",
        "\r\n",
        "```\r\n",
        "+----+-------+--------------+--------------+\r\n",
        "| Id | Name  | Location     | Number       |\r\n",
        "+----+-------+--------------+--------------+\r\n",
        "| 1  | Joe   | 1370 Way St. | 1234567890   |\r\n",
        "| 2  | Henry | 34 Apple Dr. |              |\r\n",
        "| 3  | Sam   | 60 Moon Rd.  |              |\r\n",
        "| 4  | Max   | 95 Main St.  | 1239078564   |\r\n",
        "+----+-------+--------------+--------------+\r\n",
        "```\r\n",
        "\r\n",
        "\r\n"
      ]
    },
    {
      "cell_type": "code",
      "metadata": {
        "id": "YIMs60-IuuPK"
      },
      "source": [
        ""
      ],
      "execution_count": null,
      "outputs": []
    },
    {
      "cell_type": "markdown",
      "metadata": {
        "id": "_u1IVpZkwvgc"
      },
      "source": [
        "#Technical Questions\r\n",
        "\r\n",
        "**NOTE** You are going to have to create the initial table or Schema first for the following questions.\r\n",
        "\r\n",
        "##Duplicate Emails\r\n",
        "\r\n",
        "\r\n",
        "\r\n",
        "Write a SQL query to find all duplicate emails in a table named Person.\r\n",
        "\r\n",
        "\r\n",
        "\r\n",
        "```\r\n",
        "+----+---------+\r\n",
        "| Id | Email   |\r\n",
        "+----+---------+\r\n",
        "| 1  | a@b.com |\r\n",
        "| 2  | c@d.com |\r\n",
        "| 3  | a@b.com |\r\n",
        "+----+---------+\r\n",
        "```\r\n",
        "\r\n",
        "For example, your query should return the following for the above table:\r\n",
        "\r\n",
        "```\r\n",
        "+---------+\r\n",
        "| Email   |\r\n",
        "+---------+\r\n",
        "| a@b.com |\r\n",
        "+---------+\r\n",
        "```\r\n",
        "\r\n",
        "\r\n",
        "\r\n"
      ]
    },
    {
      "cell_type": "code",
      "metadata": {
        "id": "-_f_d4Xiz6jq"
      },
      "source": [
        ""
      ],
      "execution_count": null,
      "outputs": []
    },
    {
      "cell_type": "markdown",
      "metadata": {
        "id": "34aUDL9-z7MS"
      },
      "source": [
        "##Big Countries\r\n",
        "\r\n",
        "There is a table World\r\n",
        "\r\n",
        "\r\n",
        "\r\n",
        "```\r\n",
        "+-----------------+------------+------------+--------------+---------------+\r\n",
        "| name            | continent  | area       | population   | gdp           |\r\n",
        "+-----------------+------------+------------+--------------+---------------+\r\n",
        "| Afghanistan     | Asia       | 652230     | 25500100     | 20343000      |\r\n",
        "| Albania         | Europe     | 28748      | 2831741      | 12960000      |\r\n",
        "| Algeria         | Africa     | 2381741    | 37100000     | 188681000     |\r\n",
        "| Andorra         | Europe     | 468        | 78115        | 3712000       |\r\n",
        "| Angola          | Africa     | 1246700    | 20609294     | 100990000     |\r\n",
        "+-----------------+------------+------------+--------------+---------------+\r\n",
        "```\r\n",
        "A country is big if it has an area of bigger than 3 million square km or a population of more than 25 million.\r\n",
        "\r\n",
        "Write a SQL solution to output big countries' name, population and area.\r\n",
        "\r\n",
        "For example, according to the above table, we should output:\r\n",
        "\r\n",
        "\r\n",
        "```\r\n",
        "+--------------+-------------+--------------+\r\n",
        "| name         | population  | area         |\r\n",
        "+--------------+-------------+--------------+\r\n",
        "| Afghanistan  | 25500100    | 652230       |\r\n",
        "| Algeria      | 37100000    | 2381741      |\r\n",
        "+--------------+-------------+--------------+\r\n",
        "```\r\n",
        "\r\n",
        "\r\n"
      ]
    },
    {
      "cell_type": "code",
      "metadata": {
        "id": "dUzFjpJF0YRy"
      },
      "source": [
        ""
      ],
      "execution_count": null,
      "outputs": []
    },
    {
      "cell_type": "markdown",
      "metadata": {
        "id": "5ZiaKies0Zwg"
      },
      "source": [
        "#Not Boring Movies\r\n",
        "\r\n",
        "X city opened a new cinema, many people would like to go to this cinema. The cinema also gives out a poster indicating the movies’ ratings and descriptions.\r\n",
        "Please write a SQL query to output movies with an odd numbered ID and a description that is not 'boring'. Order the result by rating.\r\n",
        "\r\n",
        "For example, table cinema:\r\n",
        "\r\n",
        "```\r\n",
        "+---------+-----------+--------------+-----------+\r\n",
        "|   id    | movie     |  description |  rating   |\r\n",
        "+---------+-----------+--------------+-----------+\r\n",
        "|   1     | War       |   great 3D   |   8.9     |\r\n",
        "|   2     | Science   |   fiction    |   8.5     |\r\n",
        "|   3     | irish     |   boring     |   6.2     |\r\n",
        "|   4     | Ice song  |   Fantacy    |   8.6     |\r\n",
        "|   5     | House card|   Interesting|   9.1     |\r\n",
        "+---------+-----------+--------------+-----------+\r\n",
        "```\r\n",
        "For the example above, the output should be:\r\n",
        "\r\n",
        "```\r\n",
        "+---------+-----------+--------------+-----------+\r\n",
        "|   id    | movie     |  description |  rating   |\r\n",
        "+---------+-----------+--------------+-----------+\r\n",
        "|   5     | House card|   Interesting|   9.1     |\r\n",
        "|   1     | War       |   great 3D   |   8.9     |\r\n",
        "+---------+-----------+--------------+-----------+\r\n",
        "```\r\n",
        "\r\n",
        "\r\n"
      ]
    },
    {
      "cell_type": "code",
      "metadata": {
        "id": "p3v7gu3P1Eg3"
      },
      "source": [
        ""
      ],
      "execution_count": null,
      "outputs": []
    },
    {
      "cell_type": "markdown",
      "metadata": {
        "id": "S32JpfME1E12"
      },
      "source": [
        "#BONUS\r\n",
        "\r\n",
        "##Department Highest Salary\r\n",
        "\r\n",
        "The Employee table holds all employees. Every employee has an Id, a salary, and there is also a column for the department Id.\r\n",
        "\r\n",
        "\r\n",
        "```\r\n",
        "+----+-------+--------+--------------+\r\n",
        "| Id | Name  | Salary | DepartmentId |\r\n",
        "+----+-------+--------+--------------+\r\n",
        "| 1  | Joe   | 70000  | 1            |\r\n",
        "| 2  | Jim   | 90000  | 1            |\r\n",
        "| 3  | Henry | 80000  | 2            |\r\n",
        "| 4  | Sam   | 60000  | 2            |\r\n",
        "| 5  | Max   | 90000  | 1            |\r\n",
        "+----+-------+--------+--------------+\r\n",
        "```\r\n",
        "\r\n",
        "The Department table holds all departments of the company.\r\n",
        "\r\n",
        "\r\n",
        "\r\n",
        "```\r\n",
        "+----+----------+\r\n",
        "| Id | Name     |\r\n",
        "+----+----------+\r\n",
        "| 1  | IT       |\r\n",
        "| 2  | Sales    |\r\n",
        "+----+----------+\r\n",
        "```\r\n",
        "Write a SQL query to find employees who have the highest salary in each of the departments. For the above tables, your SQL query should return the following rows (order of rows does not matter).\r\n",
        "\r\n",
        "```\r\n",
        "+------------+----------+--------+\r\n",
        "| Department | Employee | Salary |\r\n",
        "+------------+----------+--------+\r\n",
        "| IT         | Max      | 90000  |\r\n",
        "| IT         | Jim      | 90000  |\r\n",
        "| Sales      | Henry    | 80000  |\r\n",
        "+------------+----------+--------+\r\n",
        "```\r\n",
        "\r\n",
        "Explanation:\r\n",
        "\r\n",
        "Max and Jim both have the highest salary in the IT department and Henry has the highest salary in the Sales department."
      ]
    },
    {
      "cell_type": "code",
      "metadata": {
        "id": "_SU8Sz_l1-Hp"
      },
      "source": [
        ""
      ],
      "execution_count": null,
      "outputs": []
    }
  ]
}