{
  "nbformat": 4,
  "nbformat_minor": 0,
  "metadata": {
    "colab": {
      "name": "Project_2_HockeyDB_Gabriel_Toubian.ipynb",
      "provenance": [],
      "authorship_tag": "ABX9TyMqnX0skIyQO3X0Nac/oOxf",
      "include_colab_link": true
    },
    "kernelspec": {
      "name": "python3",
      "display_name": "Python 3"
    },
    "language_info": {
      "name": "python"
    }
  },
  "cells": [
    {
      "cell_type": "markdown",
      "metadata": {
        "id": "view-in-github",
        "colab_type": "text"
      },
      "source": [
        "<a href=\"https://colab.research.google.com/github/gtoubian/cce/blob/main/Project_2_HockeyDB_Gabriel_Toubian.ipynb\" target=\"_parent\"><img src=\"https://colab.research.google.com/assets/colab-badge.svg\" alt=\"Open In Colab\"/></a>"
      ]
    },
    {
      "cell_type": "markdown",
      "metadata": {
        "id": "R4cv1EG6_647"
      },
      "source": [
        ""
      ]
    },
    {
      "cell_type": "code",
      "metadata": {
        "id": "Uj-JKAnMALAN"
      },
      "source": [
        "import requests\n",
        "from bs4 import BeautifulSoup as bs"
      ],
      "execution_count": 1,
      "outputs": []
    },
    {
      "cell_type": "code",
      "metadata": {
        "colab": {
          "base_uri": "https://localhost:8080/",
          "height": 103
        },
        "id": "NJbIJEQZAbBx",
        "outputId": "fd4bc632-c7d5-4778-d314-f9537c8dad65"
      },
      "source": [
        "r = requests.get(\"https://www.hockeydb.com/ihdb/stats/pdisplay.php?pid=2035\")\n",
        "soup = bs(r.content)\n",
        "content = soup.prettify()\n",
        "content"
      ],
      "execution_count": 26,
      "outputs": [
        {
          "output_type": "execute_result",
          "data": {
            "application/vnd.google.colaboratory.intrinsic+json": {
              "type": "string"
            },
            "text/plain": [
              "'<!DOCTYPE html>\\n<!--[if lt IE 7]> <html class=\"no-js ie6 oldie\" lang=\"en-US\"> <![endif]-->\\n<!--[if IE 7]>    <html class=\"no-js ie7 oldie\" lang=\"en-US\"> <![endif]-->\\n<!--[if IE 8]>    <html class=\"no-js ie8 oldie\" lang=\"en-US\"> <![endif]-->\\n<!--[if gt IE 8]><!-->\\n<html class=\"no-js\" lang=\"en-US\">\\n <!--<![endif]-->\\n <head>\\n  <title>\\n   Access denied | www.hockeydb.com used Cloudflare to restrict access\\n  </title>\\n  <meta charset=\"utf-8\"/>\\n  <meta content=\"text/html; charset=utf-8\" http-equiv=\"Content-Type\"/>\\n  <meta content=\"IE=Edge,chrome=1\" http-equiv=\"X-UA-Compatible\"/>\\n  <meta content=\"noindex, nofollow\" name=\"robots\"/>\\n  <meta content=\"width=device-width,initial-scale=1\" name=\"viewport\"/>\\n  <link href=\"/cdn-cgi/styles/main.css\" id=\"cf_styles-css\" media=\"screen,projection\" rel=\"stylesheet\" type=\"text/css\"/>\\n </head>\\n <body>\\n  <div id=\"cf-wrapper\">\\n   <div class=\"cf-alert cf-alert-error cf-cookie-error hidden\" data-translate=\"enable_cookies\" id=\"cookie-alert\">\\n    Please enable cookies.\\n   </div>\\n   <div class=\"p-0\" id=\"cf-error-details\">\\n    <header class=\"mx-auto pt-10 lg:pt-6 lg:px-8 w-240 lg:w-full mb-15 antialiased\">\\n     <h1 class=\"inline-block md:block mr-2 md:mb-2 font-light text-60 md:text-3xl text-black-dark leading-tight\">\\n      <span data-translate=\"error\">\\n       Error\\n      </span>\\n      <span>\\n       1020\\n      </span>\\n     </h1>\\n     <span class=\"inline-block md:block heading-ray-id font-mono text-15 lg:text-sm lg:leading-relaxed\">\\n      Ray ID: 6331866d7d403829 •\\n     </span>\\n     <span class=\"inline-block md:block heading-ray-id font-mono text-15 lg:text-sm lg:leading-relaxed\">\\n      2021-03-20 20:00:09 UTC\\n     </span>\\n     <h2 class=\"text-gray-600 leading-1.3 text-3xl lg:text-2xl font-light\">\\n      Access denied\\n     </h2>\\n    </header>\\n    <section class=\"w-240 lg:w-full mx-auto mb-8 lg:px-8\">\\n     <div class=\"w-1/2 md:w-full\" id=\"what-happened-section\">\\n      <h2 class=\"text-3xl leading-tight font-normal mb-4 text-black-dark antialiased\" data-translate=\"what_happened\">\\n       What happened?\\n      </h2>\\n      <p>\\n       This website is using a security service to protect itself from online attacks.\\n      </p>\\n     </div>\\n    </section>\\n    <div class=\"cf-error-footer cf-wrapper w-240 lg:w-full py-10 sm:py-4 sm:px-8 mx-auto text-center sm:text-left border-solid border-0 border-t border-gray-300\">\\n     <p class=\"text-13\">\\n      <span class=\"cf-footer-item sm:block sm:mb-1\">\\n       Cloudflare Ray ID:\\n       <strong class=\"font-semibold\">\\n        6331866d7d403829\\n       </strong>\\n      </span>\\n      <span class=\"cf-footer-separator sm:hidden\">\\n       •\\n      </span>\\n      <span class=\"cf-footer-item sm:block sm:mb-1\">\\n       <span>\\n        Your IP\\n       </span>\\n       : 34.75.5.178\\n      </span>\\n      <span class=\"cf-footer-separator sm:hidden\">\\n       •\\n      </span>\\n      <span class=\"cf-footer-item sm:block sm:mb-1\">\\n       <span>\\n        Performance &amp; security by\\n       </span>\\n       <a href=\"https://www.cloudflare.com/5xx-error-landing\" id=\"brand_link\" rel=\"noopener noreferrer\" target=\"_blank\">\\n        Cloudflare\\n       </a>\\n      </span>\\n     </p>\\n    </div>\\n    <!-- /.error-footer -->\\n   </div>\\n   <!-- /#cf-error-details -->\\n  </div>\\n  <!-- /#cf-wrapper -->\\n  <script type=\"text/javascript\">\\n   window._cf_translation = {};\\n  </script>\\n </body>\\n</html>\\n'"
            ]
          },
          "metadata": {
            "tags": []
          },
          "execution_count": 26
        }
      ]
    },
    {
      "cell_type": "code",
      "metadata": {
        "colab": {
          "base_uri": "https://localhost:8080/",
          "height": 231
        },
        "id": "4I3PmbYqAlqx",
        "outputId": "447df6ce-47fb-43cb-ef22-4d06271ea53b"
      },
      "source": [
        "import pandas as pd\n",
        "table = soup.select(\"table#sortableTable2.sortable.autostripe\")[0]\n",
        "#columns = table.find(\"thead\").find_all(\"th\")\n",
        "#column_names = [c.string for c in columns]\n",
        "\n",
        "#table_rows = table.find(\"tbody\").find_all(\"tr\")\n",
        "#l = []\n",
        "#for tr in table_rows:\n",
        "  #td = tr.find_all('td')\n",
        "  #row = [str(tr.get_text()).strip() for tr in td]\n",
        "  #l.append(row)\n",
        "\n",
        "#df=pd.DataFrame(l,columns=column_names)\n",
        "#df.head()"
      ],
      "execution_count": 30,
      "outputs": [
        {
          "output_type": "error",
          "ename": "IndexError",
          "evalue": "ignored",
          "traceback": [
            "\u001b[0;31m---------------------------------------------------------------------------\u001b[0m",
            "\u001b[0;31mIndexError\u001b[0m                                Traceback (most recent call last)",
            "\u001b[0;32m<ipython-input-30-420a106edb34>\u001b[0m in \u001b[0;36m<module>\u001b[0;34m()\u001b[0m\n\u001b[1;32m      1\u001b[0m \u001b[0;32mimport\u001b[0m \u001b[0mpandas\u001b[0m \u001b[0;32mas\u001b[0m \u001b[0mpd\u001b[0m\u001b[0;34m\u001b[0m\u001b[0;34m\u001b[0m\u001b[0m\n\u001b[0;32m----> 2\u001b[0;31m \u001b[0mtable\u001b[0m \u001b[0;34m=\u001b[0m \u001b[0msoup\u001b[0m\u001b[0;34m.\u001b[0m\u001b[0mselect\u001b[0m\u001b[0;34m(\u001b[0m\u001b[0;34m\"table.#sortableTable2.sortable.autostripe\"\u001b[0m\u001b[0;34m)\u001b[0m\u001b[0;34m[\u001b[0m\u001b[0;36m0\u001b[0m\u001b[0;34m]\u001b[0m\u001b[0;34m\u001b[0m\u001b[0;34m\u001b[0m\u001b[0m\n\u001b[0m\u001b[1;32m      3\u001b[0m \u001b[0;31m#columns = table.find(\"thead\").find_all(\"th\")\u001b[0m\u001b[0;34m\u001b[0m\u001b[0;34m\u001b[0m\u001b[0;34m\u001b[0m\u001b[0m\n\u001b[1;32m      4\u001b[0m \u001b[0;31m#column_names = [c.string for c in columns]\u001b[0m\u001b[0;34m\u001b[0m\u001b[0;34m\u001b[0m\u001b[0;34m\u001b[0m\u001b[0m\n\u001b[1;32m      5\u001b[0m \u001b[0;34m\u001b[0m\u001b[0m\n",
            "\u001b[0;31mIndexError\u001b[0m: list index out of range"
          ]
        }
      ]
    },
    {
      "cell_type": "code",
      "metadata": {
        "id": "VtXIOLnYA9On"
      },
      "source": [
        ""
      ],
      "execution_count": null,
      "outputs": []
    }
  ]
}