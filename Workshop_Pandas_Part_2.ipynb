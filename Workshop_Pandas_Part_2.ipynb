{
  "nbformat": 4,
  "nbformat_minor": 0,
  "metadata": {
    "colab": {
      "name": "Workshop_Pandas_Part_2.ipynb",
      "provenance": [],
      "include_colab_link": true
    },
    "kernelspec": {
      "name": "python3",
      "display_name": "Python 3"
    }
  },
  "cells": [
    {
      "cell_type": "markdown",
      "metadata": {
        "id": "view-in-github",
        "colab_type": "text"
      },
      "source": [
        "<a href=\"https://colab.research.google.com/github/gtoubian/cce/blob/main/Workshop_Pandas_Part_2.ipynb\" target=\"_parent\"><img src=\"https://colab.research.google.com/assets/colab-badge.svg\" alt=\"Open In Colab\"/></a>"
      ]
    },
    {
      "cell_type": "markdown",
      "metadata": {
        "id": "Ox69IMbBqrAc"
      },
      "source": [
        "#NOTE:\r\n",
        "Please insert a text cell at the top of the Notebook with your Full Name in Bold and your email that you use for both Journey and Github\r\n",
        "\r\n",
        "Also, add to the title of the notebook, an underscore as well as your name.\r\n",
        "\r\n",
        "Ex. 'Workshop_Pandas_Part_2_Usama'"
      ]
    },
    {
      "cell_type": "markdown",
      "metadata": {
        "id": "MpjQhsvrq3bF"
      },
      "source": [
        "#Warmup\r\n",
        "\r\n",
        "Run the following lines in the cell below:\r\n",
        "\r\n",
        "\r\n",
        "```\r\n",
        "%matplotlib inline\r\n",
        "import numpy as np\r\n",
        "import matplotlib.pyplot as plt\r\n",
        "import pandas as pd\r\n",
        "import seaborn as sn\r\n",
        "\r\n",
        "```\r\n",
        "\r\n",
        "**Note:** You can run a cell by pressing 'Shift+Enter'"
      ]
    },
    {
      "cell_type": "code",
      "metadata": {
        "id": "4IlKHslRqiYR"
      },
      "source": [
        "%matplotlib inline\r\n",
        "import numpy as np\r\n",
        "import matplotlib.pyplot as plt\r\n",
        "import pandas as pd\r\n",
        "import seaborn as sn"
      ],
      "execution_count": 1,
      "outputs": []
    },
    {
      "cell_type": "markdown",
      "metadata": {
        "id": "SMl9Ua2Vq-jq"
      },
      "source": [
        "#Covid-19 Reporting\r\n",
        "\r\n",
        "Run the cell below. We will be working with data on weekly reported Covid-19 cases in Toronto. "
      ]
    },
    {
      "cell_type": "code",
      "metadata": {
        "id": "fvYqSz7FrjiM",
        "outputId": "1b4baaa3-ed8f-4434-e680-c0e3434cf493",
        "colab": {
          "base_uri": "https://localhost:8080/",
          "height": 306
        }
      },
      "source": [
        "url = 'https://ckan0.cf.opendata.inter.prod-toronto.ca/download_resource/e5bf35bc-e681-43da-b2ce-0242d00922ad?format=csv'\r\n",
        "covid = pd.read_csv(url)\r\n",
        "covid.head()"
      ],
      "execution_count": 2,
      "outputs": [
        {
          "output_type": "execute_result",
          "data": {
            "text/html": [
              "<div>\n",
              "<style scoped>\n",
              "    .dataframe tbody tr th:only-of-type {\n",
              "        vertical-align: middle;\n",
              "    }\n",
              "\n",
              "    .dataframe tbody tr th {\n",
              "        vertical-align: top;\n",
              "    }\n",
              "\n",
              "    .dataframe thead th {\n",
              "        text-align: right;\n",
              "    }\n",
              "</style>\n",
              "<table border=\"1\" class=\"dataframe\">\n",
              "  <thead>\n",
              "    <tr style=\"text-align: right;\">\n",
              "      <th></th>\n",
              "      <th>_id</th>\n",
              "      <th>Assigned_ID</th>\n",
              "      <th>Outbreak Associated</th>\n",
              "      <th>Age Group</th>\n",
              "      <th>Neighbourhood Name</th>\n",
              "      <th>FSA</th>\n",
              "      <th>Source of Infection</th>\n",
              "      <th>Classification</th>\n",
              "      <th>Episode Date</th>\n",
              "      <th>Reported Date</th>\n",
              "      <th>Client Gender</th>\n",
              "      <th>Outcome</th>\n",
              "      <th>Currently Hospitalized</th>\n",
              "      <th>Currently in ICU</th>\n",
              "      <th>Currently Intubated</th>\n",
              "      <th>Ever Hospitalized</th>\n",
              "      <th>Ever in ICU</th>\n",
              "      <th>Ever Intubated</th>\n",
              "    </tr>\n",
              "  </thead>\n",
              "  <tbody>\n",
              "    <tr>\n",
              "      <th>0</th>\n",
              "      <td>83475</td>\n",
              "      <td>1</td>\n",
              "      <td>Sporadic</td>\n",
              "      <td>50 to 59 Years</td>\n",
              "      <td>Willowdale East</td>\n",
              "      <td>M2N</td>\n",
              "      <td>Travel</td>\n",
              "      <td>CONFIRMED</td>\n",
              "      <td>2020-01-22</td>\n",
              "      <td>2020-01-23</td>\n",
              "      <td>FEMALE</td>\n",
              "      <td>RESOLVED</td>\n",
              "      <td>No</td>\n",
              "      <td>No</td>\n",
              "      <td>No</td>\n",
              "      <td>No</td>\n",
              "      <td>No</td>\n",
              "      <td>No</td>\n",
              "    </tr>\n",
              "    <tr>\n",
              "      <th>1</th>\n",
              "      <td>83476</td>\n",
              "      <td>2</td>\n",
              "      <td>Sporadic</td>\n",
              "      <td>50 to 59 Years</td>\n",
              "      <td>Willowdale East</td>\n",
              "      <td>M2N</td>\n",
              "      <td>Travel</td>\n",
              "      <td>CONFIRMED</td>\n",
              "      <td>2020-01-21</td>\n",
              "      <td>2020-01-23</td>\n",
              "      <td>MALE</td>\n",
              "      <td>RESOLVED</td>\n",
              "      <td>No</td>\n",
              "      <td>No</td>\n",
              "      <td>No</td>\n",
              "      <td>Yes</td>\n",
              "      <td>No</td>\n",
              "      <td>No</td>\n",
              "    </tr>\n",
              "    <tr>\n",
              "      <th>2</th>\n",
              "      <td>83477</td>\n",
              "      <td>3</td>\n",
              "      <td>Sporadic</td>\n",
              "      <td>20 to 29 Years</td>\n",
              "      <td>Parkwoods-Donalda</td>\n",
              "      <td>M3A</td>\n",
              "      <td>Travel</td>\n",
              "      <td>CONFIRMED</td>\n",
              "      <td>2020-02-05</td>\n",
              "      <td>2020-02-21</td>\n",
              "      <td>FEMALE</td>\n",
              "      <td>RESOLVED</td>\n",
              "      <td>No</td>\n",
              "      <td>No</td>\n",
              "      <td>No</td>\n",
              "      <td>No</td>\n",
              "      <td>No</td>\n",
              "      <td>No</td>\n",
              "    </tr>\n",
              "    <tr>\n",
              "      <th>3</th>\n",
              "      <td>83478</td>\n",
              "      <td>4</td>\n",
              "      <td>Sporadic</td>\n",
              "      <td>60 to 69 Years</td>\n",
              "      <td>Church-Yonge Corridor</td>\n",
              "      <td>M4W</td>\n",
              "      <td>Travel</td>\n",
              "      <td>CONFIRMED</td>\n",
              "      <td>2020-02-16</td>\n",
              "      <td>2020-02-25</td>\n",
              "      <td>FEMALE</td>\n",
              "      <td>RESOLVED</td>\n",
              "      <td>No</td>\n",
              "      <td>No</td>\n",
              "      <td>No</td>\n",
              "      <td>No</td>\n",
              "      <td>No</td>\n",
              "      <td>No</td>\n",
              "    </tr>\n",
              "    <tr>\n",
              "      <th>4</th>\n",
              "      <td>83479</td>\n",
              "      <td>5</td>\n",
              "      <td>Sporadic</td>\n",
              "      <td>60 to 69 Years</td>\n",
              "      <td>Church-Yonge Corridor</td>\n",
              "      <td>M4W</td>\n",
              "      <td>Travel</td>\n",
              "      <td>CONFIRMED</td>\n",
              "      <td>2020-02-20</td>\n",
              "      <td>2020-02-26</td>\n",
              "      <td>MALE</td>\n",
              "      <td>RESOLVED</td>\n",
              "      <td>No</td>\n",
              "      <td>No</td>\n",
              "      <td>No</td>\n",
              "      <td>No</td>\n",
              "      <td>No</td>\n",
              "      <td>No</td>\n",
              "    </tr>\n",
              "  </tbody>\n",
              "</table>\n",
              "</div>"
            ],
            "text/plain": [
              "     _id  Assigned_ID  ... Ever in ICU Ever Intubated\n",
              "0  83475            1  ...          No             No\n",
              "1  83476            2  ...          No             No\n",
              "2  83477            3  ...          No             No\n",
              "3  83478            4  ...          No             No\n",
              "4  83479            5  ...          No             No\n",
              "\n",
              "[5 rows x 18 columns]"
            ]
          },
          "metadata": {
            "tags": []
          },
          "execution_count": 2
        }
      ]
    },
    {
      "cell_type": "markdown",
      "metadata": {
        "id": "b-lhWv7Wrv9M"
      },
      "source": [
        "In the cell below, call the 'Neighbourhood Name' column. "
      ]
    },
    {
      "cell_type": "code",
      "metadata": {
        "id": "vaCMkZLZrkpx",
        "outputId": "d4b41e48-50cd-47a9-e0f8-18b2b0b19a49",
        "colab": {
          "base_uri": "https://localhost:8080/"
        }
      },
      "source": [
        "covid['Neighbourhood Name']"
      ],
      "execution_count": 8,
      "outputs": [
        {
          "output_type": "execute_result",
          "data": {
            "text/plain": [
              "0                         Willowdale East\n",
              "1                         Willowdale East\n",
              "2                       Parkwoods-Donalda\n",
              "3                   Church-Yonge Corridor\n",
              "4                   Church-Yonge Corridor\n",
              "                       ...               \n",
              "90960        Thistletown-Beaumond Heights\n",
              "90961              Briar Hill - Belgravia\n",
              "90962                        Mount Dennis\n",
              "90963    Willowridge-Martingrove-Richview\n",
              "90964                   East End-Danforth\n",
              "Name: Neighbourhood Name, Length: 90965, dtype: object"
            ]
          },
          "metadata": {
            "tags": []
          },
          "execution_count": 8
        }
      ]
    },
    {
      "cell_type": "markdown",
      "metadata": {
        "id": "X7gJkmdkw12S"
      },
      "source": [
        "Call every second row in the data frame. Call every third entry in the \"Source of Infection\" column. "
      ]
    },
    {
      "cell_type": "code",
      "metadata": {
        "id": "MQhwc9Tgw2dO",
        "outputId": "33df671b-66aa-4901-9479-e218bb3a5c23",
        "colab": {
          "base_uri": "https://localhost:8080/",
          "height": 606
        }
      },
      "source": [
        "covid.iloc[::2, :]"
      ],
      "execution_count": 9,
      "outputs": [
        {
          "output_type": "execute_result",
          "data": {
            "text/html": [
              "<div>\n",
              "<style scoped>\n",
              "    .dataframe tbody tr th:only-of-type {\n",
              "        vertical-align: middle;\n",
              "    }\n",
              "\n",
              "    .dataframe tbody tr th {\n",
              "        vertical-align: top;\n",
              "    }\n",
              "\n",
              "    .dataframe thead th {\n",
              "        text-align: right;\n",
              "    }\n",
              "</style>\n",
              "<table border=\"1\" class=\"dataframe\">\n",
              "  <thead>\n",
              "    <tr style=\"text-align: right;\">\n",
              "      <th></th>\n",
              "      <th>_id</th>\n",
              "      <th>Assigned_ID</th>\n",
              "      <th>Outbreak Associated</th>\n",
              "      <th>Age Group</th>\n",
              "      <th>Neighbourhood Name</th>\n",
              "      <th>FSA</th>\n",
              "      <th>Source of Infection</th>\n",
              "      <th>Classification</th>\n",
              "      <th>Episode Date</th>\n",
              "      <th>Reported Date</th>\n",
              "      <th>Client Gender</th>\n",
              "      <th>Outcome</th>\n",
              "      <th>Currently Hospitalized</th>\n",
              "      <th>Currently in ICU</th>\n",
              "      <th>Currently Intubated</th>\n",
              "      <th>Ever Hospitalized</th>\n",
              "      <th>Ever in ICU</th>\n",
              "      <th>Ever Intubated</th>\n",
              "    </tr>\n",
              "  </thead>\n",
              "  <tbody>\n",
              "    <tr>\n",
              "      <th>0</th>\n",
              "      <td>83475</td>\n",
              "      <td>1</td>\n",
              "      <td>Sporadic</td>\n",
              "      <td>50 to 59 Years</td>\n",
              "      <td>Willowdale East</td>\n",
              "      <td>M2N</td>\n",
              "      <td>Travel</td>\n",
              "      <td>CONFIRMED</td>\n",
              "      <td>2020-01-22</td>\n",
              "      <td>2020-01-23</td>\n",
              "      <td>FEMALE</td>\n",
              "      <td>RESOLVED</td>\n",
              "      <td>No</td>\n",
              "      <td>No</td>\n",
              "      <td>No</td>\n",
              "      <td>No</td>\n",
              "      <td>No</td>\n",
              "      <td>No</td>\n",
              "    </tr>\n",
              "    <tr>\n",
              "      <th>2</th>\n",
              "      <td>83477</td>\n",
              "      <td>3</td>\n",
              "      <td>Sporadic</td>\n",
              "      <td>20 to 29 Years</td>\n",
              "      <td>Parkwoods-Donalda</td>\n",
              "      <td>M3A</td>\n",
              "      <td>Travel</td>\n",
              "      <td>CONFIRMED</td>\n",
              "      <td>2020-02-05</td>\n",
              "      <td>2020-02-21</td>\n",
              "      <td>FEMALE</td>\n",
              "      <td>RESOLVED</td>\n",
              "      <td>No</td>\n",
              "      <td>No</td>\n",
              "      <td>No</td>\n",
              "      <td>No</td>\n",
              "      <td>No</td>\n",
              "      <td>No</td>\n",
              "    </tr>\n",
              "    <tr>\n",
              "      <th>4</th>\n",
              "      <td>83479</td>\n",
              "      <td>5</td>\n",
              "      <td>Sporadic</td>\n",
              "      <td>60 to 69 Years</td>\n",
              "      <td>Church-Yonge Corridor</td>\n",
              "      <td>M4W</td>\n",
              "      <td>Travel</td>\n",
              "      <td>CONFIRMED</td>\n",
              "      <td>2020-02-20</td>\n",
              "      <td>2020-02-26</td>\n",
              "      <td>MALE</td>\n",
              "      <td>RESOLVED</td>\n",
              "      <td>No</td>\n",
              "      <td>No</td>\n",
              "      <td>No</td>\n",
              "      <td>No</td>\n",
              "      <td>No</td>\n",
              "      <td>No</td>\n",
              "    </tr>\n",
              "    <tr>\n",
              "      <th>6</th>\n",
              "      <td>83481</td>\n",
              "      <td>7</td>\n",
              "      <td>Sporadic</td>\n",
              "      <td>80 to 89 Years</td>\n",
              "      <td>Milliken</td>\n",
              "      <td>M1V</td>\n",
              "      <td>Travel</td>\n",
              "      <td>CONFIRMED</td>\n",
              "      <td>2020-02-20</td>\n",
              "      <td>2020-02-28</td>\n",
              "      <td>MALE</td>\n",
              "      <td>RESOLVED</td>\n",
              "      <td>No</td>\n",
              "      <td>No</td>\n",
              "      <td>No</td>\n",
              "      <td>No</td>\n",
              "      <td>No</td>\n",
              "      <td>No</td>\n",
              "    </tr>\n",
              "    <tr>\n",
              "      <th>8</th>\n",
              "      <td>83483</td>\n",
              "      <td>9</td>\n",
              "      <td>Sporadic</td>\n",
              "      <td>50 to 59 Years</td>\n",
              "      <td>Willowdale East</td>\n",
              "      <td>M2N</td>\n",
              "      <td>Travel</td>\n",
              "      <td>CONFIRMED</td>\n",
              "      <td>2020-02-29</td>\n",
              "      <td>2020-02-29</td>\n",
              "      <td>MALE</td>\n",
              "      <td>RESOLVED</td>\n",
              "      <td>No</td>\n",
              "      <td>No</td>\n",
              "      <td>No</td>\n",
              "      <td>No</td>\n",
              "      <td>No</td>\n",
              "      <td>No</td>\n",
              "    </tr>\n",
              "    <tr>\n",
              "      <th>...</th>\n",
              "      <td>...</td>\n",
              "      <td>...</td>\n",
              "      <td>...</td>\n",
              "      <td>...</td>\n",
              "      <td>...</td>\n",
              "      <td>...</td>\n",
              "      <td>...</td>\n",
              "      <td>...</td>\n",
              "      <td>...</td>\n",
              "      <td>...</td>\n",
              "      <td>...</td>\n",
              "      <td>...</td>\n",
              "      <td>...</td>\n",
              "      <td>...</td>\n",
              "      <td>...</td>\n",
              "      <td>...</td>\n",
              "      <td>...</td>\n",
              "      <td>...</td>\n",
              "    </tr>\n",
              "    <tr>\n",
              "      <th>90956</th>\n",
              "      <td>174431</td>\n",
              "      <td>93359</td>\n",
              "      <td>Sporadic</td>\n",
              "      <td>30 to 39 Years</td>\n",
              "      <td>York University Heights</td>\n",
              "      <td>M3J</td>\n",
              "      <td>Pending</td>\n",
              "      <td>CONFIRMED</td>\n",
              "      <td>2021-02-07</td>\n",
              "      <td>2021-02-08</td>\n",
              "      <td>MALE</td>\n",
              "      <td>ACTIVE</td>\n",
              "      <td>No</td>\n",
              "      <td>No</td>\n",
              "      <td>No</td>\n",
              "      <td>No</td>\n",
              "      <td>No</td>\n",
              "      <td>No</td>\n",
              "    </tr>\n",
              "    <tr>\n",
              "      <th>90958</th>\n",
              "      <td>174433</td>\n",
              "      <td>93361</td>\n",
              "      <td>Sporadic</td>\n",
              "      <td>70 to 79 Years</td>\n",
              "      <td>Bendale</td>\n",
              "      <td>M1P</td>\n",
              "      <td>Pending</td>\n",
              "      <td>CONFIRMED</td>\n",
              "      <td>2021-02-07</td>\n",
              "      <td>2021-02-08</td>\n",
              "      <td>FEMALE</td>\n",
              "      <td>ACTIVE</td>\n",
              "      <td>No</td>\n",
              "      <td>No</td>\n",
              "      <td>No</td>\n",
              "      <td>No</td>\n",
              "      <td>No</td>\n",
              "      <td>No</td>\n",
              "    </tr>\n",
              "    <tr>\n",
              "      <th>90960</th>\n",
              "      <td>174435</td>\n",
              "      <td>93363</td>\n",
              "      <td>Sporadic</td>\n",
              "      <td>60 to 69 Years</td>\n",
              "      <td>Thistletown-Beaumond Heights</td>\n",
              "      <td>M9V</td>\n",
              "      <td>Pending</td>\n",
              "      <td>CONFIRMED</td>\n",
              "      <td>2021-02-06</td>\n",
              "      <td>2021-02-08</td>\n",
              "      <td>FEMALE</td>\n",
              "      <td>ACTIVE</td>\n",
              "      <td>No</td>\n",
              "      <td>No</td>\n",
              "      <td>No</td>\n",
              "      <td>No</td>\n",
              "      <td>No</td>\n",
              "      <td>No</td>\n",
              "    </tr>\n",
              "    <tr>\n",
              "      <th>90962</th>\n",
              "      <td>174437</td>\n",
              "      <td>93365</td>\n",
              "      <td>Sporadic</td>\n",
              "      <td>20 to 29 Years</td>\n",
              "      <td>Mount Dennis</td>\n",
              "      <td>M6M</td>\n",
              "      <td>Pending</td>\n",
              "      <td>CONFIRMED</td>\n",
              "      <td>2021-02-07</td>\n",
              "      <td>2021-02-08</td>\n",
              "      <td>MALE</td>\n",
              "      <td>ACTIVE</td>\n",
              "      <td>No</td>\n",
              "      <td>No</td>\n",
              "      <td>No</td>\n",
              "      <td>No</td>\n",
              "      <td>No</td>\n",
              "      <td>No</td>\n",
              "    </tr>\n",
              "    <tr>\n",
              "      <th>90964</th>\n",
              "      <td>174439</td>\n",
              "      <td>93367</td>\n",
              "      <td>Sporadic</td>\n",
              "      <td>20 to 29 Years</td>\n",
              "      <td>East End-Danforth</td>\n",
              "      <td>M4E</td>\n",
              "      <td>Pending</td>\n",
              "      <td>CONFIRMED</td>\n",
              "      <td>2021-02-06</td>\n",
              "      <td>2021-02-08</td>\n",
              "      <td>FEMALE</td>\n",
              "      <td>ACTIVE</td>\n",
              "      <td>No</td>\n",
              "      <td>No</td>\n",
              "      <td>No</td>\n",
              "      <td>No</td>\n",
              "      <td>No</td>\n",
              "      <td>No</td>\n",
              "    </tr>\n",
              "  </tbody>\n",
              "</table>\n",
              "<p>45483 rows × 18 columns</p>\n",
              "</div>"
            ],
            "text/plain": [
              "          _id  Assigned_ID  ... Ever in ICU Ever Intubated\n",
              "0       83475            1  ...          No             No\n",
              "2       83477            3  ...          No             No\n",
              "4       83479            5  ...          No             No\n",
              "6       83481            7  ...          No             No\n",
              "8       83483            9  ...          No             No\n",
              "...       ...          ...  ...         ...            ...\n",
              "90956  174431        93359  ...          No             No\n",
              "90958  174433        93361  ...          No             No\n",
              "90960  174435        93363  ...          No             No\n",
              "90962  174437        93365  ...          No             No\n",
              "90964  174439        93367  ...          No             No\n",
              "\n",
              "[45483 rows x 18 columns]"
            ]
          },
          "metadata": {
            "tags": []
          },
          "execution_count": 9
        }
      ]
    },
    {
      "cell_type": "code",
      "metadata": {
        "id": "m1SNJXloxTNS",
        "outputId": "824b69ec-c6c7-491f-88c6-198f5c23a0e2",
        "colab": {
          "base_uri": "https://localhost:8080/",
          "height": 425
        }
      },
      "source": [
        "covid.iloc[3:3,'Source of Infection']"
      ],
      "execution_count": 22,
      "outputs": [
        {
          "output_type": "error",
          "ename": "ValueError",
          "evalue": "ignored",
          "traceback": [
            "\u001b[0;31m---------------------------------------------------------------------------\u001b[0m",
            "\u001b[0;31mValueError\u001b[0m                                Traceback (most recent call last)",
            "\u001b[0;32m/usr/local/lib/python3.6/dist-packages/pandas/core/indexing.py\u001b[0m in \u001b[0;36m_has_valid_tuple\u001b[0;34m(self, key)\u001b[0m\n\u001b[1;32m    701\u001b[0m             \u001b[0;32mtry\u001b[0m\u001b[0;34m:\u001b[0m\u001b[0;34m\u001b[0m\u001b[0;34m\u001b[0m\u001b[0m\n\u001b[0;32m--> 702\u001b[0;31m                 \u001b[0mself\u001b[0m\u001b[0;34m.\u001b[0m\u001b[0m_validate_key\u001b[0m\u001b[0;34m(\u001b[0m\u001b[0mk\u001b[0m\u001b[0;34m,\u001b[0m \u001b[0mi\u001b[0m\u001b[0;34m)\u001b[0m\u001b[0;34m\u001b[0m\u001b[0;34m\u001b[0m\u001b[0m\n\u001b[0m\u001b[1;32m    703\u001b[0m             \u001b[0;32mexcept\u001b[0m \u001b[0mValueError\u001b[0m \u001b[0;32mas\u001b[0m \u001b[0merr\u001b[0m\u001b[0;34m:\u001b[0m\u001b[0;34m\u001b[0m\u001b[0;34m\u001b[0m\u001b[0m\n",
            "\u001b[0;32m/usr/local/lib/python3.6/dist-packages/pandas/core/indexing.py\u001b[0m in \u001b[0;36m_validate_key\u001b[0;34m(self, key, axis)\u001b[0m\n\u001b[1;32m   1368\u001b[0m         \u001b[0;32melse\u001b[0m\u001b[0;34m:\u001b[0m\u001b[0;34m\u001b[0m\u001b[0;34m\u001b[0m\u001b[0m\n\u001b[0;32m-> 1369\u001b[0;31m             \u001b[0;32mraise\u001b[0m \u001b[0mValueError\u001b[0m\u001b[0;34m(\u001b[0m\u001b[0;34mf\"Can only index by location with a [{self._valid_types}]\"\u001b[0m\u001b[0;34m)\u001b[0m\u001b[0;34m\u001b[0m\u001b[0;34m\u001b[0m\u001b[0m\n\u001b[0m\u001b[1;32m   1370\u001b[0m \u001b[0;34m\u001b[0m\u001b[0m\n",
            "\u001b[0;31mValueError\u001b[0m: Can only index by location with a [integer, integer slice (START point is INCLUDED, END point is EXCLUDED), listlike of integers, boolean array]",
            "\nThe above exception was the direct cause of the following exception:\n",
            "\u001b[0;31mValueError\u001b[0m                                Traceback (most recent call last)",
            "\u001b[0;32m<ipython-input-22-40cb8f89a144>\u001b[0m in \u001b[0;36m<module>\u001b[0;34m()\u001b[0m\n\u001b[0;32m----> 1\u001b[0;31m \u001b[0mcovid\u001b[0m\u001b[0;34m.\u001b[0m\u001b[0miloc\u001b[0m\u001b[0;34m[\u001b[0m\u001b[0;36m3\u001b[0m\u001b[0;34m:\u001b[0m\u001b[0;36m3\u001b[0m\u001b[0;34m,\u001b[0m\u001b[0;34m'Source of Infection'\u001b[0m\u001b[0;34m]\u001b[0m\u001b[0;34m\u001b[0m\u001b[0;34m\u001b[0m\u001b[0m\n\u001b[0m",
            "\u001b[0;32m/usr/local/lib/python3.6/dist-packages/pandas/core/indexing.py\u001b[0m in \u001b[0;36m__getitem__\u001b[0;34m(self, key)\u001b[0m\n\u001b[1;32m    871\u001b[0m                     \u001b[0;31m# AttributeError for IntervalTree get_value\u001b[0m\u001b[0;34m\u001b[0m\u001b[0;34m\u001b[0m\u001b[0;34m\u001b[0m\u001b[0m\n\u001b[1;32m    872\u001b[0m                     \u001b[0;32mpass\u001b[0m\u001b[0;34m\u001b[0m\u001b[0;34m\u001b[0m\u001b[0m\n\u001b[0;32m--> 873\u001b[0;31m             \u001b[0;32mreturn\u001b[0m \u001b[0mself\u001b[0m\u001b[0;34m.\u001b[0m\u001b[0m_getitem_tuple\u001b[0m\u001b[0;34m(\u001b[0m\u001b[0mkey\u001b[0m\u001b[0;34m)\u001b[0m\u001b[0;34m\u001b[0m\u001b[0;34m\u001b[0m\u001b[0m\n\u001b[0m\u001b[1;32m    874\u001b[0m         \u001b[0;32melse\u001b[0m\u001b[0;34m:\u001b[0m\u001b[0;34m\u001b[0m\u001b[0;34m\u001b[0m\u001b[0m\n\u001b[1;32m    875\u001b[0m             \u001b[0;31m# we by definition only have the 0th axis\u001b[0m\u001b[0;34m\u001b[0m\u001b[0;34m\u001b[0m\u001b[0;34m\u001b[0m\u001b[0m\n",
            "\u001b[0;32m/usr/local/lib/python3.6/dist-packages/pandas/core/indexing.py\u001b[0m in \u001b[0;36m_getitem_tuple\u001b[0;34m(self, tup)\u001b[0m\n\u001b[1;32m   1441\u001b[0m     \u001b[0;32mdef\u001b[0m \u001b[0m_getitem_tuple\u001b[0m\u001b[0;34m(\u001b[0m\u001b[0mself\u001b[0m\u001b[0;34m,\u001b[0m \u001b[0mtup\u001b[0m\u001b[0;34m:\u001b[0m \u001b[0mTuple\u001b[0m\u001b[0;34m)\u001b[0m\u001b[0;34m:\u001b[0m\u001b[0;34m\u001b[0m\u001b[0;34m\u001b[0m\u001b[0m\n\u001b[1;32m   1442\u001b[0m \u001b[0;34m\u001b[0m\u001b[0m\n\u001b[0;32m-> 1443\u001b[0;31m         \u001b[0mself\u001b[0m\u001b[0;34m.\u001b[0m\u001b[0m_has_valid_tuple\u001b[0m\u001b[0;34m(\u001b[0m\u001b[0mtup\u001b[0m\u001b[0;34m)\u001b[0m\u001b[0;34m\u001b[0m\u001b[0;34m\u001b[0m\u001b[0m\n\u001b[0m\u001b[1;32m   1444\u001b[0m         \u001b[0;32mtry\u001b[0m\u001b[0;34m:\u001b[0m\u001b[0;34m\u001b[0m\u001b[0;34m\u001b[0m\u001b[0m\n\u001b[1;32m   1445\u001b[0m             \u001b[0;32mreturn\u001b[0m \u001b[0mself\u001b[0m\u001b[0;34m.\u001b[0m\u001b[0m_getitem_lowerdim\u001b[0m\u001b[0;34m(\u001b[0m\u001b[0mtup\u001b[0m\u001b[0;34m)\u001b[0m\u001b[0;34m\u001b[0m\u001b[0;34m\u001b[0m\u001b[0m\n",
            "\u001b[0;32m/usr/local/lib/python3.6/dist-packages/pandas/core/indexing.py\u001b[0m in \u001b[0;36m_has_valid_tuple\u001b[0;34m(self, key)\u001b[0m\n\u001b[1;32m    705\u001b[0m                     \u001b[0;34m\"Location based indexing can only have \"\u001b[0m\u001b[0;34m\u001b[0m\u001b[0;34m\u001b[0m\u001b[0m\n\u001b[1;32m    706\u001b[0m                     \u001b[0;34mf\"[{self._valid_types}] types\"\u001b[0m\u001b[0;34m\u001b[0m\u001b[0;34m\u001b[0m\u001b[0m\n\u001b[0;32m--> 707\u001b[0;31m                 ) from err\n\u001b[0m\u001b[1;32m    708\u001b[0m \u001b[0;34m\u001b[0m\u001b[0m\n\u001b[1;32m    709\u001b[0m     \u001b[0;32mdef\u001b[0m \u001b[0m_is_nested_tuple_indexer\u001b[0m\u001b[0;34m(\u001b[0m\u001b[0mself\u001b[0m\u001b[0;34m,\u001b[0m \u001b[0mtup\u001b[0m\u001b[0;34m:\u001b[0m \u001b[0mTuple\u001b[0m\u001b[0;34m)\u001b[0m \u001b[0;34m->\u001b[0m \u001b[0mbool\u001b[0m\u001b[0;34m:\u001b[0m\u001b[0;34m\u001b[0m\u001b[0;34m\u001b[0m\u001b[0m\n",
            "\u001b[0;31mValueError\u001b[0m: Location based indexing can only have [integer, integer slice (START point is INCLUDED, END point is EXCLUDED), listlike of integers, boolean array] types"
          ]
        }
      ]
    },
    {
      "cell_type": "markdown",
      "metadata": {
        "id": "TqsSDKpPshO8"
      },
      "source": [
        "Call all rows in the dataframe where the infected patient was female. Then call all rows in the dataframe where the patient was male, ever hospitalized and in their 60s."
      ]
    },
    {
      "cell_type": "code",
      "metadata": {
        "id": "__3ftLjWtHvE"
      },
      "source": [
        ""
      ],
      "execution_count": null,
      "outputs": []
    },
    {
      "cell_type": "code",
      "metadata": {
        "id": "8wlWp0g-tIBZ"
      },
      "source": [
        ""
      ],
      "execution_count": null,
      "outputs": []
    },
    {
      "cell_type": "markdown",
      "metadata": {
        "id": "_sRHGp9RtIPz"
      },
      "source": [
        "Create 2 new columns in the dataframe, called 'Year' and 'Month' with the year and month values from the reported date columns respectively.\r\n",
        "\r\n",
        "**HINT**\r\n",
        "Your code should look like this.\r\n",
        "\r\n",
        "```\r\n",
        "Dates = pd.to_datetime(covid['Episode Date'])\r\n",
        "covid['Dates'] = Dates\r\n",
        "________ = covid['Dates'].dt.month\r\n",
        "________ = covid['Dates'].dt.year\r\n",
        "```\r\n",
        "\r\n"
      ]
    },
    {
      "cell_type": "code",
      "metadata": {
        "id": "zMnH7Zllu-5o"
      },
      "source": [
        ""
      ],
      "execution_count": null,
      "outputs": []
    },
    {
      "cell_type": "markdown",
      "metadata": {
        "id": "hlE3Z4y8u_Qj"
      },
      "source": [
        "Now use the groupby function to group your entries in the data frame by Year and Month and print out the **mean** number of cases per month as well as the **total count** of cases per month. Make sure to save the number of cases per month as **Counts**.\r\n",
        "\r\n",
        "**HINT**  To get the counts of cases per month, you can use this code. Fill in the blanks.\r\n",
        "\r\n",
        "\r\n",
        "```\r\n",
        "Year&Age = covid.groupby(['____', '____'])\r\n",
        "Counts = Year&Age['_id'].agg(['____'])\r\n",
        "print (Counts)\r\n",
        "```\r\n",
        "\r\n"
      ]
    },
    {
      "cell_type": "code",
      "metadata": {
        "id": "S7UmQEvXvO64"
      },
      "source": [
        ""
      ],
      "execution_count": null,
      "outputs": []
    },
    {
      "cell_type": "markdown",
      "metadata": {
        "id": "7eCNEnSvvPTd"
      },
      "source": [
        "Plot the \"Counts\" groupby object on a line graph by running the following line below: "
      ]
    },
    {
      "cell_type": "code",
      "metadata": {
        "id": "O2dYdZuJwZwi"
      },
      "source": [
        "Counts.plot()\r\n",
        "plt.ylabel('# of Covid Cases')\r\n",
        "plt.title('Covid Cases by Month in Toronto')\r\n",
        "plt.show()"
      ],
      "execution_count": null,
      "outputs": []
    },
    {
      "cell_type": "markdown",
      "metadata": {
        "id": "6LfXMdZlxYcs"
      },
      "source": [
        "Try to create a new groupby object from the original data frame and group this data by \"Client Gender\". Get a count of the number of patients in each Client Gender category and plot the result on a bar graph. \r\n",
        "\r\n",
        "**HINT** You can plot the bar graph using the following code.\r\n",
        "\r\n",
        "```\r\n",
        "Counts.plot.bar()\r\n",
        "plt.ylabel('# of Covid Cases')\r\n",
        "plt.title('Covid Cases by Gender in Toronto')\r\n",
        "plt.show()\r\n",
        "```\r\n"
      ]
    },
    {
      "cell_type": "code",
      "metadata": {
        "id": "RNgVoRLJyZAr"
      },
      "source": [
        "\r\n"
      ],
      "execution_count": null,
      "outputs": []
    },
    {
      "cell_type": "markdown",
      "metadata": {
        "id": "_u1IVpZkwvgc"
      },
      "source": [
        "#Interview Questions\r\n",
        "\r\n",
        "##Best Time to Buy and Sell Stock\r\n",
        "\r\n",
        "You are given an array prices where prices[i] is the price of a given stock on the ith day.\r\n",
        "\r\n",
        "You want to maximize your profit by choosing a single day to buy one stock and choosing a different day in the future to sell that stock.\r\n",
        "\r\n",
        "Return the maximum profit you can achieve from this transaction. If you cannot achieve any profit, return 0.\r\n",
        "\r\n",
        "\r\n",
        "\r\n",
        "```\r\n",
        "Input: prices = [7,1,5,3,6,4]\r\n",
        "Output: 5\r\n",
        "Explanation: Buy on day 2 (price = 1) and sell on day 5 (price = 6), profit = 6-1 = 5.\r\n",
        "Note that buying on day 2 and selling on day 1 is not allowed because you must buy before you sell.\r\n",
        "```\r\n",
        "\r\n",
        "\r\n",
        "\r\n",
        "```\r\n",
        "Input: prices = [7,6,4,3,1]\r\n",
        "Output: 0\r\n",
        "Explanation: In this case, no transactions are done and the max profit = 0.\r\n",
        "```\r\n",
        "\r\n",
        "\r\n",
        "\r\n"
      ]
    },
    {
      "cell_type": "code",
      "metadata": {
        "id": "-_f_d4Xiz6jq"
      },
      "source": [
        ""
      ],
      "execution_count": null,
      "outputs": []
    },
    {
      "cell_type": "markdown",
      "metadata": {
        "id": "5ZiaKies0Zwg"
      },
      "source": [
        "#Basic Calculator\r\n",
        "\r\n",
        "Given a string s which represents an expression, evaluate this expression and return its value. \r\n",
        "\r\n",
        "The integer division should truncate toward zero.\r\n",
        "\r\n",
        "\r\n",
        "\r\n",
        "```\r\n",
        "Input: s = \"3+2*2\"\r\n",
        "Output: 7\r\n",
        "```\r\n",
        "\r\n",
        "\r\n",
        "```\r\n",
        "Input: s = \" 3/2 \"\r\n",
        "Output: 1\r\n",
        "```\r\n",
        "\r\n",
        "\r\n"
      ]
    },
    {
      "cell_type": "code",
      "metadata": {
        "id": "p3v7gu3P1Eg3"
      },
      "source": [
        ""
      ],
      "execution_count": null,
      "outputs": []
    },
    {
      "cell_type": "markdown",
      "metadata": {
        "id": "S32JpfME1E12"
      },
      "source": [
        "#BONUS\r\n",
        "\r\n",
        "##Gas Station\r\n",
        "\r\n",
        "There are n gas stations along a circular route, where the amount of gas at the ith station is gas[i].\r\n",
        "\r\n",
        "You have a car with an unlimited gas tank and it costs cost[i] of gas to travel from the ith station to its next (i + 1)th station. You begin the journey with an empty tank at one of the gas stations.\r\n",
        "\r\n",
        "Given two integer arrays gas and cost, return the starting gas station's index if you can travel around the circuit once in the clockwise direction, otherwise return -1. If there exists a solution, it is guaranteed to be unique\r\n",
        "\r\n",
        "\r\n",
        "\r\n",
        "```\r\n",
        "Input: gas = [1,2,3,4,5], cost = [3,4,5,1,2]\r\n",
        "Output: 3\r\n",
        "Explanation:\r\n",
        "Start at station 3 (index 3) and fill up with 4 unit of gas. Your tank = 0 + 4 = 4\r\n",
        "Travel to station 4. Your tank = 4 - 1 + 5 = 8\r\n",
        "Travel to station 0. Your tank = 8 - 2 + 1 = 7\r\n",
        "Travel to station 1. Your tank = 7 - 3 + 2 = 6\r\n",
        "Travel to station 2. Your tank = 6 - 4 + 3 = 5\r\n",
        "Travel to station 3. The cost is 5. Your gas is just enough to travel back to station 3.\r\n",
        "Therefore, return 3 as the starting index.\r\n",
        "```\r\n",
        "\r\n"
      ]
    },
    {
      "cell_type": "code",
      "metadata": {
        "id": "_SU8Sz_l1-Hp"
      },
      "source": [
        ""
      ],
      "execution_count": null,
      "outputs": []
    }
  ]
}