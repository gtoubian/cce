{
  "nbformat": 4,
  "nbformat_minor": 0,
  "metadata": {
    "colab": {
      "name": "Module_One_Project_country_vaccinations_Gabriel_Toubian.ipynb",
      "provenance": [],
      "authorship_tag": "ABX9TyNTNe7eAV50hDhJziGPXPJ5",
      "include_colab_link": true
    },
    "kernelspec": {
      "name": "python3",
      "display_name": "Python 3"
    }
  },
  "cells": [
    {
      "cell_type": "markdown",
      "metadata": {
        "id": "view-in-github",
        "colab_type": "text"
      },
      "source": [
        "<a href=\"https://colab.research.google.com/github/gtoubian/cce/blob/main/Module_One_Project_country_vaccinations_Gabriel_Toubian.ipynb\" target=\"_parent\"><img src=\"https://colab.research.google.com/assets/colab-badge.svg\" alt=\"Open In Colab\"/></a>"
      ]
    },
    {
      "cell_type": "code",
      "metadata": {
        "colab": {
          "resources": {
            "http://localhost:8080/nbextensions/google.colab/files.js": {
              "data": "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",
              "ok": true,
              "headers": [
                [
                  "content-type",
                  "application/javascript"
                ]
              ],
              "status": 200,
              "status_text": ""
            }
          },
          "base_uri": "https://localhost:8080/",
          "height": 73
        },
        "id": "aj3wISxoHghr",
        "outputId": "9ce768ae-c87c-419d-85a1-f28b6a0e8369"
      },
      "source": [
        "from google.colab import files\r\n",
        "data = files.upload()"
      ],
      "execution_count": 28,
      "outputs": [
        {
          "output_type": "display_data",
          "data": {
            "text/html": [
              "\n",
              "     <input type=\"file\" id=\"files-df6fda69-6d4d-45a6-bf23-1c6904d917dc\" name=\"files[]\" multiple disabled\n",
              "        style=\"border:none\" />\n",
              "     <output id=\"result-df6fda69-6d4d-45a6-bf23-1c6904d917dc\">\n",
              "      Upload widget is only available when the cell has been executed in the\n",
              "      current browser session. Please rerun this cell to enable.\n",
              "      </output>\n",
              "      <script src=\"/nbextensions/google.colab/files.js\"></script> "
            ],
            "text/plain": [
              "<IPython.core.display.HTML object>"
            ]
          },
          "metadata": {
            "tags": []
          }
        },
        {
          "output_type": "stream",
          "text": [
            "Saving covid.csv to covid (1).csv\n"
          ],
          "name": "stdout"
        }
      ]
    },
    {
      "cell_type": "code",
      "metadata": {
        "id": "7s5BAHzIHnUg"
      },
      "source": [
        "import pandas as pd\r\n",
        "\r\n",
        "import io\r\n",
        "covidall = pd.read_csv(io.BytesIO(data['covid.csv']))"
      ],
      "execution_count": 29,
      "outputs": []
    },
    {
      "cell_type": "code",
      "metadata": {
        "id": "WjPgJqQVh_vS"
      },
      "source": [
        "import numpy as np"
      ],
      "execution_count": 30,
      "outputs": []
    },
    {
      "cell_type": "code",
      "metadata": {
        "id": "jMLYPEZ2uoGr"
      },
      "source": [
        "import matplotlib.pyplot as plt"
      ],
      "execution_count": 31,
      "outputs": []
    },
    {
      "cell_type": "code",
      "metadata": {
        "id": "hnHfRft5AzU1"
      },
      "source": [
        "covidall['Month'] = pd.to_datetime(covidall['date']).dt.to_period('M')"
      ],
      "execution_count": 32,
      "outputs": []
    },
    {
      "cell_type": "code",
      "metadata": {
        "id": "GPDIpKYdBZOz"
      },
      "source": [
        "covidall['Week'] = pd.to_datetime(covidall['date']).dt.to_period('W')"
      ],
      "execution_count": 33,
      "outputs": []
    },
    {
      "cell_type": "code",
      "metadata": {
        "id": "ELmZrNn24mIH"
      },
      "source": [
        "covidthree = covidall.loc[(covidall.country == 'Spain') | (covidall.country =='Canada') | (covidall.country =='France')]"
      ],
      "execution_count": 34,
      "outputs": []
    },
    {
      "cell_type": "code",
      "metadata": {
        "id": "HW01yZ0n9KW1"
      },
      "source": [
        "covid3clear =  covidthree[['country', 'daily_vaccinations', 'date', 'Week', 'Month']].copy()"
      ],
      "execution_count": 35,
      "outputs": []
    },
    {
      "cell_type": "code",
      "metadata": {
        "id": "MOSe4Y__P0HZ"
      },
      "source": [
        "covid3clear = covid3clear.dropna(how='any')"
      ],
      "execution_count": 36,
      "outputs": []
    },
    {
      "cell_type": "code",
      "metadata": {
        "id": "iSn0ht6OQpO6",
        "colab": {
          "base_uri": "https://localhost:8080/",
          "height": 402
        },
        "outputId": "20c85338-40fd-443c-9b73-571e7a42bcb9"
      },
      "source": [
        "covid3clear"
      ],
      "execution_count": 37,
      "outputs": [
        {
          "output_type": "execute_result",
          "data": {
            "text/html": [
              "<div>\n",
              "<style scoped>\n",
              "    .dataframe tbody tr th:only-of-type {\n",
              "        vertical-align: middle;\n",
              "    }\n",
              "\n",
              "    .dataframe tbody tr th {\n",
              "        vertical-align: top;\n",
              "    }\n",
              "\n",
              "    .dataframe thead th {\n",
              "        text-align: right;\n",
              "    }\n",
              "</style>\n",
              "<table border=\"1\" class=\"dataframe\">\n",
              "  <thead>\n",
              "    <tr style=\"text-align: right;\">\n",
              "      <th></th>\n",
              "      <th>country</th>\n",
              "      <th>daily_vaccinations</th>\n",
              "      <th>date</th>\n",
              "      <th>Week</th>\n",
              "      <th>Month</th>\n",
              "    </tr>\n",
              "  </thead>\n",
              "  <tbody>\n",
              "    <tr>\n",
              "      <th>579</th>\n",
              "      <td>Canada</td>\n",
              "      <td>4282.0</td>\n",
              "      <td>2021-01-13</td>\n",
              "      <td>2021-01-11/2021-01-17</td>\n",
              "      <td>2021-01</td>\n",
              "    </tr>\n",
              "    <tr>\n",
              "      <th>580</th>\n",
              "      <td>Canada</td>\n",
              "      <td>7285.0</td>\n",
              "      <td>2021-01-14</td>\n",
              "      <td>2021-01-11/2021-01-17</td>\n",
              "      <td>2021-01</td>\n",
              "    </tr>\n",
              "    <tr>\n",
              "      <th>581</th>\n",
              "      <td>Canada</td>\n",
              "      <td>10736.0</td>\n",
              "      <td>2021-01-15</td>\n",
              "      <td>2021-01-11/2021-01-17</td>\n",
              "      <td>2021-01</td>\n",
              "    </tr>\n",
              "    <tr>\n",
              "      <th>582</th>\n",
              "      <td>Canada</td>\n",
              "      <td>14575.0</td>\n",
              "      <td>2021-01-16</td>\n",
              "      <td>2021-01-11/2021-01-17</td>\n",
              "      <td>2021-01</td>\n",
              "    </tr>\n",
              "    <tr>\n",
              "      <th>583</th>\n",
              "      <td>Canada</td>\n",
              "      <td>18415.0</td>\n",
              "      <td>2021-01-17</td>\n",
              "      <td>2021-01-11/2021-01-17</td>\n",
              "      <td>2021-01</td>\n",
              "    </tr>\n",
              "    <tr>\n",
              "      <th>...</th>\n",
              "      <td>...</td>\n",
              "      <td>...</td>\n",
              "      <td>...</td>\n",
              "      <td>...</td>\n",
              "      <td>...</td>\n",
              "    </tr>\n",
              "    <tr>\n",
              "      <th>3377</th>\n",
              "      <td>Spain</td>\n",
              "      <td>65225.0</td>\n",
              "      <td>2021-02-14</td>\n",
              "      <td>2021-02-08/2021-02-14</td>\n",
              "      <td>2021-02</td>\n",
              "    </tr>\n",
              "    <tr>\n",
              "      <th>3378</th>\n",
              "      <td>Spain</td>\n",
              "      <td>65324.0</td>\n",
              "      <td>2021-02-15</td>\n",
              "      <td>2021-02-15/2021-02-21</td>\n",
              "      <td>2021-02</td>\n",
              "    </tr>\n",
              "    <tr>\n",
              "      <th>3379</th>\n",
              "      <td>Spain</td>\n",
              "      <td>65315.0</td>\n",
              "      <td>2021-02-16</td>\n",
              "      <td>2021-02-15/2021-02-21</td>\n",
              "      <td>2021-02</td>\n",
              "    </tr>\n",
              "    <tr>\n",
              "      <th>3380</th>\n",
              "      <td>Spain</td>\n",
              "      <td>66035.0</td>\n",
              "      <td>2021-02-17</td>\n",
              "      <td>2021-02-15/2021-02-21</td>\n",
              "      <td>2021-02</td>\n",
              "    </tr>\n",
              "    <tr>\n",
              "      <th>3381</th>\n",
              "      <td>Spain</td>\n",
              "      <td>73281.0</td>\n",
              "      <td>2021-02-18</td>\n",
              "      <td>2021-02-15/2021-02-21</td>\n",
              "      <td>2021-02</td>\n",
              "    </tr>\n",
              "  </tbody>\n",
              "</table>\n",
              "<p>138 rows × 5 columns</p>\n",
              "</div>"
            ],
            "text/plain": [
              "     country  daily_vaccinations        date                   Week    Month\n",
              "579   Canada              4282.0  2021-01-13  2021-01-11/2021-01-17  2021-01\n",
              "580   Canada              7285.0  2021-01-14  2021-01-11/2021-01-17  2021-01\n",
              "581   Canada             10736.0  2021-01-15  2021-01-11/2021-01-17  2021-01\n",
              "582   Canada             14575.0  2021-01-16  2021-01-11/2021-01-17  2021-01\n",
              "583   Canada             18415.0  2021-01-17  2021-01-11/2021-01-17  2021-01\n",
              "...      ...                 ...         ...                    ...      ...\n",
              "3377   Spain             65225.0  2021-02-14  2021-02-08/2021-02-14  2021-02\n",
              "3378   Spain             65324.0  2021-02-15  2021-02-15/2021-02-21  2021-02\n",
              "3379   Spain             65315.0  2021-02-16  2021-02-15/2021-02-21  2021-02\n",
              "3380   Spain             66035.0  2021-02-17  2021-02-15/2021-02-21  2021-02\n",
              "3381   Spain             73281.0  2021-02-18  2021-02-15/2021-02-21  2021-02\n",
              "\n",
              "[138 rows x 5 columns]"
            ]
          },
          "metadata": {
            "tags": []
          },
          "execution_count": 37
        }
      ]
    },
    {
      "cell_type": "code",
      "metadata": {
        "id": "DQeyWyjiRDrB",
        "colab": {
          "base_uri": "https://localhost:8080/",
          "height": 1000
        },
        "outputId": "4d29259c-d89d-4dc0-b79b-20adcabe4006"
      },
      "source": [
        "covid3clear[covid3clear['country']=='France']"
      ],
      "execution_count": 38,
      "outputs": [
        {
          "output_type": "execute_result",
          "data": {
            "text/html": [
              "<div>\n",
              "<style scoped>\n",
              "    .dataframe tbody tr th:only-of-type {\n",
              "        vertical-align: middle;\n",
              "    }\n",
              "\n",
              "    .dataframe tbody tr th {\n",
              "        vertical-align: top;\n",
              "    }\n",
              "\n",
              "    .dataframe thead th {\n",
              "        text-align: right;\n",
              "    }\n",
              "</style>\n",
              "<table border=\"1\" class=\"dataframe\">\n",
              "  <thead>\n",
              "    <tr style=\"text-align: right;\">\n",
              "      <th></th>\n",
              "      <th>country</th>\n",
              "      <th>daily_vaccinations</th>\n",
              "      <th>date</th>\n",
              "      <th>Week</th>\n",
              "      <th>Month</th>\n",
              "    </tr>\n",
              "  </thead>\n",
              "  <tbody>\n",
              "    <tr>\n",
              "      <th>1311</th>\n",
              "      <td>France</td>\n",
              "      <td>39.0</td>\n",
              "      <td>2020-12-28</td>\n",
              "      <td>2020-12-28/2021-01-03</td>\n",
              "      <td>2020-12</td>\n",
              "    </tr>\n",
              "    <tr>\n",
              "      <th>1312</th>\n",
              "      <td>France</td>\n",
              "      <td>62.0</td>\n",
              "      <td>2020-12-29</td>\n",
              "      <td>2020-12-28/2021-01-03</td>\n",
              "      <td>2020-12</td>\n",
              "    </tr>\n",
              "    <tr>\n",
              "      <th>1313</th>\n",
              "      <td>France</td>\n",
              "      <td>75.0</td>\n",
              "      <td>2020-12-30</td>\n",
              "      <td>2020-12-28/2021-01-03</td>\n",
              "      <td>2020-12</td>\n",
              "    </tr>\n",
              "    <tr>\n",
              "      <th>1314</th>\n",
              "      <td>France</td>\n",
              "      <td>76.0</td>\n",
              "      <td>2020-12-31</td>\n",
              "      <td>2020-12-28/2021-01-03</td>\n",
              "      <td>2020-12</td>\n",
              "    </tr>\n",
              "    <tr>\n",
              "      <th>1315</th>\n",
              "      <td>France</td>\n",
              "      <td>62.0</td>\n",
              "      <td>2021-01-01</td>\n",
              "      <td>2020-12-28/2021-01-03</td>\n",
              "      <td>2021-01</td>\n",
              "    </tr>\n",
              "    <tr>\n",
              "      <th>1316</th>\n",
              "      <td>France</td>\n",
              "      <td>59.0</td>\n",
              "      <td>2021-01-02</td>\n",
              "      <td>2020-12-28/2021-01-03</td>\n",
              "      <td>2021-01</td>\n",
              "    </tr>\n",
              "    <tr>\n",
              "      <th>1317</th>\n",
              "      <td>France</td>\n",
              "      <td>61.0</td>\n",
              "      <td>2021-01-03</td>\n",
              "      <td>2020-12-28/2021-01-03</td>\n",
              "      <td>2021-01</td>\n",
              "    </tr>\n",
              "    <tr>\n",
              "      <th>1318</th>\n",
              "      <td>France</td>\n",
              "      <td>250.0</td>\n",
              "      <td>2021-01-04</td>\n",
              "      <td>2021-01-04/2021-01-10</td>\n",
              "      <td>2021-01</td>\n",
              "    </tr>\n",
              "    <tr>\n",
              "      <th>1319</th>\n",
              "      <td>France</td>\n",
              "      <td>944.0</td>\n",
              "      <td>2021-01-05</td>\n",
              "      <td>2021-01-04/2021-01-10</td>\n",
              "      <td>2021-01</td>\n",
              "    </tr>\n",
              "    <tr>\n",
              "      <th>1320</th>\n",
              "      <td>France</td>\n",
              "      <td>2404.0</td>\n",
              "      <td>2021-01-06</td>\n",
              "      <td>2021-01-04/2021-01-10</td>\n",
              "      <td>2021-01</td>\n",
              "    </tr>\n",
              "    <tr>\n",
              "      <th>1321</th>\n",
              "      <td>France</td>\n",
              "      <td>6138.0</td>\n",
              "      <td>2021-01-07</td>\n",
              "      <td>2021-01-04/2021-01-10</td>\n",
              "      <td>2021-01</td>\n",
              "    </tr>\n",
              "    <tr>\n",
              "      <th>1322</th>\n",
              "      <td>France</td>\n",
              "      <td>10814.0</td>\n",
              "      <td>2021-01-08</td>\n",
              "      <td>2021-01-04/2021-01-10</td>\n",
              "      <td>2021-01</td>\n",
              "    </tr>\n",
              "    <tr>\n",
              "      <th>1323</th>\n",
              "      <td>France</td>\n",
              "      <td>12278.0</td>\n",
              "      <td>2021-01-09</td>\n",
              "      <td>2021-01-04/2021-01-10</td>\n",
              "      <td>2021-01</td>\n",
              "    </tr>\n",
              "    <tr>\n",
              "      <th>1324</th>\n",
              "      <td>France</td>\n",
              "      <td>13027.0</td>\n",
              "      <td>2021-01-10</td>\n",
              "      <td>2021-01-04/2021-01-10</td>\n",
              "      <td>2021-01</td>\n",
              "    </tr>\n",
              "    <tr>\n",
              "      <th>1325</th>\n",
              "      <td>France</td>\n",
              "      <td>17659.0</td>\n",
              "      <td>2021-01-11</td>\n",
              "      <td>2021-01-11/2021-01-17</td>\n",
              "      <td>2021-01</td>\n",
              "    </tr>\n",
              "    <tr>\n",
              "      <th>1326</th>\n",
              "      <td>France</td>\n",
              "      <td>24625.0</td>\n",
              "      <td>2021-01-12</td>\n",
              "      <td>2021-01-11/2021-01-17</td>\n",
              "      <td>2021-01</td>\n",
              "    </tr>\n",
              "    <tr>\n",
              "      <th>1327</th>\n",
              "      <td>France</td>\n",
              "      <td>31246.0</td>\n",
              "      <td>2021-01-13</td>\n",
              "      <td>2021-01-11/2021-01-17</td>\n",
              "      <td>2021-01</td>\n",
              "    </tr>\n",
              "    <tr>\n",
              "      <th>1328</th>\n",
              "      <td>France</td>\n",
              "      <td>37561.0</td>\n",
              "      <td>2021-01-14</td>\n",
              "      <td>2021-01-11/2021-01-17</td>\n",
              "      <td>2021-01</td>\n",
              "    </tr>\n",
              "    <tr>\n",
              "      <th>1329</th>\n",
              "      <td>France</td>\n",
              "      <td>41261.0</td>\n",
              "      <td>2021-01-15</td>\n",
              "      <td>2021-01-11/2021-01-17</td>\n",
              "      <td>2021-01</td>\n",
              "    </tr>\n",
              "    <tr>\n",
              "      <th>1330</th>\n",
              "      <td>France</td>\n",
              "      <td>42287.0</td>\n",
              "      <td>2021-01-16</td>\n",
              "      <td>2021-01-11/2021-01-17</td>\n",
              "      <td>2021-01</td>\n",
              "    </tr>\n",
              "    <tr>\n",
              "      <th>1331</th>\n",
              "      <td>France</td>\n",
              "      <td>42897.0</td>\n",
              "      <td>2021-01-17</td>\n",
              "      <td>2021-01-11/2021-01-17</td>\n",
              "      <td>2021-01</td>\n",
              "    </tr>\n",
              "    <tr>\n",
              "      <th>1332</th>\n",
              "      <td>France</td>\n",
              "      <td>48952.0</td>\n",
              "      <td>2021-01-18</td>\n",
              "      <td>2021-01-18/2021-01-24</td>\n",
              "      <td>2021-01</td>\n",
              "    </tr>\n",
              "    <tr>\n",
              "      <th>1333</th>\n",
              "      <td>France</td>\n",
              "      <td>58088.0</td>\n",
              "      <td>2021-01-19</td>\n",
              "      <td>2021-01-18/2021-01-24</td>\n",
              "      <td>2021-01</td>\n",
              "    </tr>\n",
              "    <tr>\n",
              "      <th>1334</th>\n",
              "      <td>France</td>\n",
              "      <td>67598.0</td>\n",
              "      <td>2021-01-20</td>\n",
              "      <td>2021-01-18/2021-01-24</td>\n",
              "      <td>2021-01</td>\n",
              "    </tr>\n",
              "    <tr>\n",
              "      <th>1335</th>\n",
              "      <td>France</td>\n",
              "      <td>77739.0</td>\n",
              "      <td>2021-01-21</td>\n",
              "      <td>2021-01-18/2021-01-24</td>\n",
              "      <td>2021-01</td>\n",
              "    </tr>\n",
              "    <tr>\n",
              "      <th>1336</th>\n",
              "      <td>France</td>\n",
              "      <td>84981.0</td>\n",
              "      <td>2021-01-22</td>\n",
              "      <td>2021-01-18/2021-01-24</td>\n",
              "      <td>2021-01</td>\n",
              "    </tr>\n",
              "    <tr>\n",
              "      <th>1337</th>\n",
              "      <td>France</td>\n",
              "      <td>87546.0</td>\n",
              "      <td>2021-01-23</td>\n",
              "      <td>2021-01-18/2021-01-24</td>\n",
              "      <td>2021-01</td>\n",
              "    </tr>\n",
              "    <tr>\n",
              "      <th>1338</th>\n",
              "      <td>France</td>\n",
              "      <td>87437.0</td>\n",
              "      <td>2021-01-24</td>\n",
              "      <td>2021-01-18/2021-01-24</td>\n",
              "      <td>2021-01</td>\n",
              "    </tr>\n",
              "    <tr>\n",
              "      <th>1339</th>\n",
              "      <td>France</td>\n",
              "      <td>86710.0</td>\n",
              "      <td>2021-01-25</td>\n",
              "      <td>2021-01-25/2021-01-31</td>\n",
              "      <td>2021-01</td>\n",
              "    </tr>\n",
              "    <tr>\n",
              "      <th>1340</th>\n",
              "      <td>France</td>\n",
              "      <td>83647.0</td>\n",
              "      <td>2021-01-26</td>\n",
              "      <td>2021-01-25/2021-01-31</td>\n",
              "      <td>2021-01</td>\n",
              "    </tr>\n",
              "    <tr>\n",
              "      <th>1341</th>\n",
              "      <td>France</td>\n",
              "      <td>80820.0</td>\n",
              "      <td>2021-01-27</td>\n",
              "      <td>2021-01-25/2021-01-31</td>\n",
              "      <td>2021-01</td>\n",
              "    </tr>\n",
              "    <tr>\n",
              "      <th>1342</th>\n",
              "      <td>France</td>\n",
              "      <td>78072.0</td>\n",
              "      <td>2021-01-28</td>\n",
              "      <td>2021-01-25/2021-01-31</td>\n",
              "      <td>2021-01</td>\n",
              "    </tr>\n",
              "    <tr>\n",
              "      <th>1343</th>\n",
              "      <td>France</td>\n",
              "      <td>76418.0</td>\n",
              "      <td>2021-01-29</td>\n",
              "      <td>2021-01-25/2021-01-31</td>\n",
              "      <td>2021-01</td>\n",
              "    </tr>\n",
              "    <tr>\n",
              "      <th>1344</th>\n",
              "      <td>France</td>\n",
              "      <td>75747.0</td>\n",
              "      <td>2021-01-30</td>\n",
              "      <td>2021-01-25/2021-01-31</td>\n",
              "      <td>2021-01</td>\n",
              "    </tr>\n",
              "    <tr>\n",
              "      <th>1345</th>\n",
              "      <td>France</td>\n",
              "      <td>75666.0</td>\n",
              "      <td>2021-01-31</td>\n",
              "      <td>2021-01-25/2021-01-31</td>\n",
              "      <td>2021-01</td>\n",
              "    </tr>\n",
              "    <tr>\n",
              "      <th>1346</th>\n",
              "      <td>France</td>\n",
              "      <td>76290.0</td>\n",
              "      <td>2021-02-01</td>\n",
              "      <td>2021-02-01/2021-02-07</td>\n",
              "      <td>2021-02</td>\n",
              "    </tr>\n",
              "    <tr>\n",
              "      <th>1347</th>\n",
              "      <td>France</td>\n",
              "      <td>78017.0</td>\n",
              "      <td>2021-02-02</td>\n",
              "      <td>2021-02-01/2021-02-07</td>\n",
              "      <td>2021-02</td>\n",
              "    </tr>\n",
              "    <tr>\n",
              "      <th>1348</th>\n",
              "      <td>France</td>\n",
              "      <td>78753.0</td>\n",
              "      <td>2021-02-03</td>\n",
              "      <td>2021-02-01/2021-02-07</td>\n",
              "      <td>2021-02</td>\n",
              "    </tr>\n",
              "    <tr>\n",
              "      <th>1349</th>\n",
              "      <td>France</td>\n",
              "      <td>80749.0</td>\n",
              "      <td>2021-02-04</td>\n",
              "      <td>2021-02-01/2021-02-07</td>\n",
              "      <td>2021-02</td>\n",
              "    </tr>\n",
              "    <tr>\n",
              "      <th>1350</th>\n",
              "      <td>France</td>\n",
              "      <td>83199.0</td>\n",
              "      <td>2021-02-05</td>\n",
              "      <td>2021-02-01/2021-02-07</td>\n",
              "      <td>2021-02</td>\n",
              "    </tr>\n",
              "    <tr>\n",
              "      <th>1351</th>\n",
              "      <td>France</td>\n",
              "      <td>83466.0</td>\n",
              "      <td>2021-02-06</td>\n",
              "      <td>2021-02-01/2021-02-07</td>\n",
              "      <td>2021-02</td>\n",
              "    </tr>\n",
              "    <tr>\n",
              "      <th>1352</th>\n",
              "      <td>France</td>\n",
              "      <td>83798.0</td>\n",
              "      <td>2021-02-07</td>\n",
              "      <td>2021-02-01/2021-02-07</td>\n",
              "      <td>2021-02</td>\n",
              "    </tr>\n",
              "    <tr>\n",
              "      <th>1353</th>\n",
              "      <td>France</td>\n",
              "      <td>86822.0</td>\n",
              "      <td>2021-02-08</td>\n",
              "      <td>2021-02-08/2021-02-14</td>\n",
              "      <td>2021-02</td>\n",
              "    </tr>\n",
              "    <tr>\n",
              "      <th>1354</th>\n",
              "      <td>France</td>\n",
              "      <td>91354.0</td>\n",
              "      <td>2021-02-09</td>\n",
              "      <td>2021-02-08/2021-02-14</td>\n",
              "      <td>2021-02</td>\n",
              "    </tr>\n",
              "    <tr>\n",
              "      <th>1355</th>\n",
              "      <td>France</td>\n",
              "      <td>96708.0</td>\n",
              "      <td>2021-02-10</td>\n",
              "      <td>2021-02-08/2021-02-14</td>\n",
              "      <td>2021-02</td>\n",
              "    </tr>\n",
              "    <tr>\n",
              "      <th>1356</th>\n",
              "      <td>France</td>\n",
              "      <td>103543.0</td>\n",
              "      <td>2021-02-11</td>\n",
              "      <td>2021-02-08/2021-02-14</td>\n",
              "      <td>2021-02</td>\n",
              "    </tr>\n",
              "    <tr>\n",
              "      <th>1357</th>\n",
              "      <td>France</td>\n",
              "      <td>108969.0</td>\n",
              "      <td>2021-02-12</td>\n",
              "      <td>2021-02-08/2021-02-14</td>\n",
              "      <td>2021-02</td>\n",
              "    </tr>\n",
              "    <tr>\n",
              "      <th>1358</th>\n",
              "      <td>France</td>\n",
              "      <td>110545.0</td>\n",
              "      <td>2021-02-13</td>\n",
              "      <td>2021-02-08/2021-02-14</td>\n",
              "      <td>2021-02</td>\n",
              "    </tr>\n",
              "    <tr>\n",
              "      <th>1359</th>\n",
              "      <td>France</td>\n",
              "      <td>110893.0</td>\n",
              "      <td>2021-02-14</td>\n",
              "      <td>2021-02-08/2021-02-14</td>\n",
              "      <td>2021-02</td>\n",
              "    </tr>\n",
              "    <tr>\n",
              "      <th>1360</th>\n",
              "      <td>France</td>\n",
              "      <td>114021.0</td>\n",
              "      <td>2021-02-15</td>\n",
              "      <td>2021-02-15/2021-02-21</td>\n",
              "      <td>2021-02</td>\n",
              "    </tr>\n",
              "    <tr>\n",
              "      <th>1361</th>\n",
              "      <td>France</td>\n",
              "      <td>116868.0</td>\n",
              "      <td>2021-02-16</td>\n",
              "      <td>2021-02-15/2021-02-21</td>\n",
              "      <td>2021-02</td>\n",
              "    </tr>\n",
              "    <tr>\n",
              "      <th>1362</th>\n",
              "      <td>France</td>\n",
              "      <td>118038.0</td>\n",
              "      <td>2021-02-17</td>\n",
              "      <td>2021-02-15/2021-02-21</td>\n",
              "      <td>2021-02</td>\n",
              "    </tr>\n",
              "    <tr>\n",
              "      <th>1363</th>\n",
              "      <td>France</td>\n",
              "      <td>118156.0</td>\n",
              "      <td>2021-02-18</td>\n",
              "      <td>2021-02-15/2021-02-21</td>\n",
              "      <td>2021-02</td>\n",
              "    </tr>\n",
              "    <tr>\n",
              "      <th>1364</th>\n",
              "      <td>France</td>\n",
              "      <td>118329.0</td>\n",
              "      <td>2021-02-19</td>\n",
              "      <td>2021-02-15/2021-02-21</td>\n",
              "      <td>2021-02</td>\n",
              "    </tr>\n",
              "    <tr>\n",
              "      <th>1365</th>\n",
              "      <td>France</td>\n",
              "      <td>119023.0</td>\n",
              "      <td>2021-02-20</td>\n",
              "      <td>2021-02-15/2021-02-21</td>\n",
              "      <td>2021-02</td>\n",
              "    </tr>\n",
              "  </tbody>\n",
              "</table>\n",
              "</div>"
            ],
            "text/plain": [
              "     country  daily_vaccinations        date                   Week    Month\n",
              "1311  France                39.0  2020-12-28  2020-12-28/2021-01-03  2020-12\n",
              "1312  France                62.0  2020-12-29  2020-12-28/2021-01-03  2020-12\n",
              "1313  France                75.0  2020-12-30  2020-12-28/2021-01-03  2020-12\n",
              "1314  France                76.0  2020-12-31  2020-12-28/2021-01-03  2020-12\n",
              "1315  France                62.0  2021-01-01  2020-12-28/2021-01-03  2021-01\n",
              "1316  France                59.0  2021-01-02  2020-12-28/2021-01-03  2021-01\n",
              "1317  France                61.0  2021-01-03  2020-12-28/2021-01-03  2021-01\n",
              "1318  France               250.0  2021-01-04  2021-01-04/2021-01-10  2021-01\n",
              "1319  France               944.0  2021-01-05  2021-01-04/2021-01-10  2021-01\n",
              "1320  France              2404.0  2021-01-06  2021-01-04/2021-01-10  2021-01\n",
              "1321  France              6138.0  2021-01-07  2021-01-04/2021-01-10  2021-01\n",
              "1322  France             10814.0  2021-01-08  2021-01-04/2021-01-10  2021-01\n",
              "1323  France             12278.0  2021-01-09  2021-01-04/2021-01-10  2021-01\n",
              "1324  France             13027.0  2021-01-10  2021-01-04/2021-01-10  2021-01\n",
              "1325  France             17659.0  2021-01-11  2021-01-11/2021-01-17  2021-01\n",
              "1326  France             24625.0  2021-01-12  2021-01-11/2021-01-17  2021-01\n",
              "1327  France             31246.0  2021-01-13  2021-01-11/2021-01-17  2021-01\n",
              "1328  France             37561.0  2021-01-14  2021-01-11/2021-01-17  2021-01\n",
              "1329  France             41261.0  2021-01-15  2021-01-11/2021-01-17  2021-01\n",
              "1330  France             42287.0  2021-01-16  2021-01-11/2021-01-17  2021-01\n",
              "1331  France             42897.0  2021-01-17  2021-01-11/2021-01-17  2021-01\n",
              "1332  France             48952.0  2021-01-18  2021-01-18/2021-01-24  2021-01\n",
              "1333  France             58088.0  2021-01-19  2021-01-18/2021-01-24  2021-01\n",
              "1334  France             67598.0  2021-01-20  2021-01-18/2021-01-24  2021-01\n",
              "1335  France             77739.0  2021-01-21  2021-01-18/2021-01-24  2021-01\n",
              "1336  France             84981.0  2021-01-22  2021-01-18/2021-01-24  2021-01\n",
              "1337  France             87546.0  2021-01-23  2021-01-18/2021-01-24  2021-01\n",
              "1338  France             87437.0  2021-01-24  2021-01-18/2021-01-24  2021-01\n",
              "1339  France             86710.0  2021-01-25  2021-01-25/2021-01-31  2021-01\n",
              "1340  France             83647.0  2021-01-26  2021-01-25/2021-01-31  2021-01\n",
              "1341  France             80820.0  2021-01-27  2021-01-25/2021-01-31  2021-01\n",
              "1342  France             78072.0  2021-01-28  2021-01-25/2021-01-31  2021-01\n",
              "1343  France             76418.0  2021-01-29  2021-01-25/2021-01-31  2021-01\n",
              "1344  France             75747.0  2021-01-30  2021-01-25/2021-01-31  2021-01\n",
              "1345  France             75666.0  2021-01-31  2021-01-25/2021-01-31  2021-01\n",
              "1346  France             76290.0  2021-02-01  2021-02-01/2021-02-07  2021-02\n",
              "1347  France             78017.0  2021-02-02  2021-02-01/2021-02-07  2021-02\n",
              "1348  France             78753.0  2021-02-03  2021-02-01/2021-02-07  2021-02\n",
              "1349  France             80749.0  2021-02-04  2021-02-01/2021-02-07  2021-02\n",
              "1350  France             83199.0  2021-02-05  2021-02-01/2021-02-07  2021-02\n",
              "1351  France             83466.0  2021-02-06  2021-02-01/2021-02-07  2021-02\n",
              "1352  France             83798.0  2021-02-07  2021-02-01/2021-02-07  2021-02\n",
              "1353  France             86822.0  2021-02-08  2021-02-08/2021-02-14  2021-02\n",
              "1354  France             91354.0  2021-02-09  2021-02-08/2021-02-14  2021-02\n",
              "1355  France             96708.0  2021-02-10  2021-02-08/2021-02-14  2021-02\n",
              "1356  France            103543.0  2021-02-11  2021-02-08/2021-02-14  2021-02\n",
              "1357  France            108969.0  2021-02-12  2021-02-08/2021-02-14  2021-02\n",
              "1358  France            110545.0  2021-02-13  2021-02-08/2021-02-14  2021-02\n",
              "1359  France            110893.0  2021-02-14  2021-02-08/2021-02-14  2021-02\n",
              "1360  France            114021.0  2021-02-15  2021-02-15/2021-02-21  2021-02\n",
              "1361  France            116868.0  2021-02-16  2021-02-15/2021-02-21  2021-02\n",
              "1362  France            118038.0  2021-02-17  2021-02-15/2021-02-21  2021-02\n",
              "1363  France            118156.0  2021-02-18  2021-02-15/2021-02-21  2021-02\n",
              "1364  France            118329.0  2021-02-19  2021-02-15/2021-02-21  2021-02\n",
              "1365  France            119023.0  2021-02-20  2021-02-15/2021-02-21  2021-02"
            ]
          },
          "metadata": {
            "tags": []
          },
          "execution_count": 38
        }
      ]
    },
    {
      "cell_type": "code",
      "metadata": {
        "id": "n1eYxF8SyBNC"
      },
      "source": [
        "import seaborn as sns\r\n"
      ],
      "execution_count": 39,
      "outputs": []
    },
    {
      "cell_type": "code",
      "metadata": {
        "id": "hlyPk7fUv9CJ"
      },
      "source": [
        "covid3clear['date'] = pd.to_datetime(covid3clear['date'])"
      ],
      "execution_count": 40,
      "outputs": []
    },
    {
      "cell_type": "code",
      "metadata": {
        "id": "HFbh7lAQzBw4",
        "colab": {
          "base_uri": "https://localhost:8080/",
          "height": 383
        },
        "outputId": "f68927c5-fac6-468b-bc2f-a5c4da77f6dd"
      },
      "source": [
        "fig_dims = (15, 4)\r\n",
        "fig, ax = plt.subplots(figsize=fig_dims)\r\n",
        "plt.rcParams.update({'font.size': 13})\r\n",
        "sns.lineplot(data=covid3clear, x=\"date\", y='daily_vaccinations', hue = 'country')\r\n",
        "ax.set(xticks=covid3clear.date.values)\r\n",
        "plt.xticks(rotation=90)\r\n",
        "plt.title('Vaccinations per day for 3 individual countries')"
      ],
      "execution_count": 41,
      "outputs": [
        {
          "output_type": "execute_result",
          "data": {
            "text/plain": [
              "Text(0.5, 1.0, 'Vaccinations per day for 3 individual countries')"
            ]
          },
          "metadata": {
            "tags": []
          },
          "execution_count": 41
        },
        {
          "output_type": "display_data",
          "data": {
            "image/png": "[encoded data removed]",
            "text/plain": [
              "<Figure size 1080x288 with 1 Axes>"
            ]
          },
          "metadata": {
            "tags": [],
            "needs_background": "light"
          }
        }
      ]
    },
    {
      "cell_type": "code",
      "metadata": {
        "id": "eaa61jMKDPuG"
      },
      "source": [
        "covid3clear.loc[covid3clear['Week'] == '2020-12-28/2021-01-03', 'WeekName'] = 'Week 1'\r\n",
        "covid3clear.loc[covid3clear['Week'] == '2021-01-04/2021-01-10', 'WeekName'] = 'Week 2'\r\n",
        "covid3clear.loc[covid3clear['Week'] == '2021-01-11/2021-01-17', 'WeekName'] = 'Week 3'\r\n",
        "covid3clear.loc[covid3clear['Week'] == '2021-01-18/2021-01-24', 'WeekName'] = 'Week 4'\r\n",
        "covid3clear.loc[covid3clear['Week'] == '2021-01-25/2021-01-31', 'WeekName'] = 'Week 5'\r\n",
        "covid3clear.loc[covid3clear['Week'] == '2021-02-01/2021-02-07', 'WeekName'] = 'Week 6'\r\n",
        "covid3clear.loc[covid3clear['Week'] == '2021-02-08/2021-02-14', 'WeekName'] = 'Week 7'\r\n",
        "covid3clear.loc[covid3clear['Week'] == '2021-02-15/2021-02-21', 'WeekName'] = 'Week 8'"
      ],
      "execution_count": 51,
      "outputs": []
    },
    {
      "cell_type": "code",
      "metadata": {
        "id": "62IOZ1PN56L0",
        "outputId": "73603d29-3238-4711-d88e-b64731755d9c",
        "colab": {
          "base_uri": "https://localhost:8080/",
          "height": 337
        }
      },
      "source": [
        "covid3clear = covid3clear.astype({\"WeekName\": str})\r\n",
        "covid3clear[sorted(covid3clear.WeekName)]"
      ],
      "execution_count": 55,
      "outputs": [
        {
          "output_type": "error",
          "ename": "KeyError",
          "evalue": "ignored",
          "traceback": [
            "\u001b[0;31m---------------------------------------------------------------------------\u001b[0m",
            "\u001b[0;31mKeyError\u001b[0m                                  Traceback (most recent call last)",
            "\u001b[0;32m<ipython-input-55-9cf486b96e31>\u001b[0m in \u001b[0;36m<module>\u001b[0;34m()\u001b[0m\n\u001b[1;32m      1\u001b[0m \u001b[0mcovid3clear\u001b[0m \u001b[0;34m=\u001b[0m \u001b[0mcovid3clear\u001b[0m\u001b[0;34m.\u001b[0m\u001b[0mastype\u001b[0m\u001b[0;34m(\u001b[0m\u001b[0;34m{\u001b[0m\u001b[0;34m\"WeekName\"\u001b[0m\u001b[0;34m:\u001b[0m \u001b[0mstr\u001b[0m\u001b[0;34m}\u001b[0m\u001b[0;34m)\u001b[0m\u001b[0;34m\u001b[0m\u001b[0;34m\u001b[0m\u001b[0m\n\u001b[0;32m----> 2\u001b[0;31m \u001b[0mcovid3clear\u001b[0m\u001b[0;34m[\u001b[0m\u001b[0msorted\u001b[0m\u001b[0;34m(\u001b[0m\u001b[0mcovid3clear\u001b[0m\u001b[0;34m.\u001b[0m\u001b[0mWeekName\u001b[0m\u001b[0;34m)\u001b[0m\u001b[0;34m]\u001b[0m\u001b[0;34m\u001b[0m\u001b[0;34m\u001b[0m\u001b[0m\n\u001b[0m",
            "\u001b[0;32m/usr/local/lib/python3.7/dist-packages/pandas/core/frame.py\u001b[0m in \u001b[0;36m__getitem__\u001b[0;34m(self, key)\u001b[0m\n\u001b[1;32m   2910\u001b[0m             \u001b[0;32mif\u001b[0m \u001b[0mis_iterator\u001b[0m\u001b[0;34m(\u001b[0m\u001b[0mkey\u001b[0m\u001b[0;34m)\u001b[0m\u001b[0;34m:\u001b[0m\u001b[0;34m\u001b[0m\u001b[0;34m\u001b[0m\u001b[0m\n\u001b[1;32m   2911\u001b[0m                 \u001b[0mkey\u001b[0m \u001b[0;34m=\u001b[0m \u001b[0mlist\u001b[0m\u001b[0;34m(\u001b[0m\u001b[0mkey\u001b[0m\u001b[0;34m)\u001b[0m\u001b[0;34m\u001b[0m\u001b[0;34m\u001b[0m\u001b[0m\n\u001b[0;32m-> 2912\u001b[0;31m             \u001b[0mindexer\u001b[0m \u001b[0;34m=\u001b[0m \u001b[0mself\u001b[0m\u001b[0;34m.\u001b[0m\u001b[0mloc\u001b[0m\u001b[0;34m.\u001b[0m\u001b[0m_get_listlike_indexer\u001b[0m\u001b[0;34m(\u001b[0m\u001b[0mkey\u001b[0m\u001b[0;34m,\u001b[0m \u001b[0maxis\u001b[0m\u001b[0;34m=\u001b[0m\u001b[0;36m1\u001b[0m\u001b[0;34m,\u001b[0m \u001b[0mraise_missing\u001b[0m\u001b[0;34m=\u001b[0m\u001b[0;32mTrue\u001b[0m\u001b[0;34m)\u001b[0m\u001b[0;34m[\u001b[0m\u001b[0;36m1\u001b[0m\u001b[0;34m]\u001b[0m\u001b[0;34m\u001b[0m\u001b[0;34m\u001b[0m\u001b[0m\n\u001b[0m\u001b[1;32m   2913\u001b[0m \u001b[0;34m\u001b[0m\u001b[0m\n\u001b[1;32m   2914\u001b[0m         \u001b[0;31m# take() does not accept boolean indexers\u001b[0m\u001b[0;34m\u001b[0m\u001b[0;34m\u001b[0m\u001b[0;34m\u001b[0m\u001b[0m\n",
            "\u001b[0;32m/usr/local/lib/python3.7/dist-packages/pandas/core/indexing.py\u001b[0m in \u001b[0;36m_get_listlike_indexer\u001b[0;34m(self, key, axis, raise_missing)\u001b[0m\n\u001b[1;32m   1252\u001b[0m             \u001b[0mkeyarr\u001b[0m\u001b[0;34m,\u001b[0m \u001b[0mindexer\u001b[0m\u001b[0;34m,\u001b[0m \u001b[0mnew_indexer\u001b[0m \u001b[0;34m=\u001b[0m \u001b[0max\u001b[0m\u001b[0;34m.\u001b[0m\u001b[0m_reindex_non_unique\u001b[0m\u001b[0;34m(\u001b[0m\u001b[0mkeyarr\u001b[0m\u001b[0;34m)\u001b[0m\u001b[0;34m\u001b[0m\u001b[0;34m\u001b[0m\u001b[0m\n\u001b[1;32m   1253\u001b[0m \u001b[0;34m\u001b[0m\u001b[0m\n\u001b[0;32m-> 1254\u001b[0;31m         \u001b[0mself\u001b[0m\u001b[0;34m.\u001b[0m\u001b[0m_validate_read_indexer\u001b[0m\u001b[0;34m(\u001b[0m\u001b[0mkeyarr\u001b[0m\u001b[0;34m,\u001b[0m \u001b[0mindexer\u001b[0m\u001b[0;34m,\u001b[0m \u001b[0maxis\u001b[0m\u001b[0;34m,\u001b[0m \u001b[0mraise_missing\u001b[0m\u001b[0;34m=\u001b[0m\u001b[0mraise_missing\u001b[0m\u001b[0;34m)\u001b[0m\u001b[0;34m\u001b[0m\u001b[0;34m\u001b[0m\u001b[0m\n\u001b[0m\u001b[1;32m   1255\u001b[0m         \u001b[0;32mreturn\u001b[0m \u001b[0mkeyarr\u001b[0m\u001b[0;34m,\u001b[0m \u001b[0mindexer\u001b[0m\u001b[0;34m\u001b[0m\u001b[0;34m\u001b[0m\u001b[0m\n\u001b[1;32m   1256\u001b[0m \u001b[0;34m\u001b[0m\u001b[0m\n",
            "\u001b[0;32m/usr/local/lib/python3.7/dist-packages/pandas/core/indexing.py\u001b[0m in \u001b[0;36m_validate_read_indexer\u001b[0;34m(self, key, indexer, axis, raise_missing)\u001b[0m\n\u001b[1;32m   1296\u001b[0m             \u001b[0;32mif\u001b[0m \u001b[0mmissing\u001b[0m \u001b[0;34m==\u001b[0m \u001b[0mlen\u001b[0m\u001b[0;34m(\u001b[0m\u001b[0mindexer\u001b[0m\u001b[0;34m)\u001b[0m\u001b[0;34m:\u001b[0m\u001b[0;34m\u001b[0m\u001b[0;34m\u001b[0m\u001b[0m\n\u001b[1;32m   1297\u001b[0m                 \u001b[0maxis_name\u001b[0m \u001b[0;34m=\u001b[0m \u001b[0mself\u001b[0m\u001b[0;34m.\u001b[0m\u001b[0mobj\u001b[0m\u001b[0;34m.\u001b[0m\u001b[0m_get_axis_name\u001b[0m\u001b[0;34m(\u001b[0m\u001b[0maxis\u001b[0m\u001b[0;34m)\u001b[0m\u001b[0;34m\u001b[0m\u001b[0;34m\u001b[0m\u001b[0m\n\u001b[0;32m-> 1298\u001b[0;31m                 \u001b[0;32mraise\u001b[0m \u001b[0mKeyError\u001b[0m\u001b[0;34m(\u001b[0m\u001b[0;34mf\"None of [{key}] are in the [{axis_name}]\"\u001b[0m\u001b[0;34m)\u001b[0m\u001b[0;34m\u001b[0m\u001b[0;34m\u001b[0m\u001b[0m\n\u001b[0m\u001b[1;32m   1299\u001b[0m \u001b[0;34m\u001b[0m\u001b[0m\n\u001b[1;32m   1300\u001b[0m             \u001b[0;31m# We (temporarily) allow for some missing keys with .loc, except in\u001b[0m\u001b[0;34m\u001b[0m\u001b[0;34m\u001b[0m\u001b[0;34m\u001b[0m\u001b[0m\n",
            "\u001b[0;31mKeyError\u001b[0m: \"None of [Index(['Week 1', 'Week 1', 'Week 1', 'Week 1', 'Week 1', 'Week 1', 'Week 1',\\n       'Week 2', 'Week 2', 'Week 2',\\n       ...\\n       'Week 8', 'Week 8', 'Week 8', 'Week 8', 'Week 8', 'Week 8', 'Week 8',\\n       'Week 8', 'Week 8', 'Week 8'],\\n      dtype='object', length=138)] are in the [columns]\""
          ]
        }
      ]
    },
    {
      "cell_type": "code",
      "metadata": {
        "id": "ihQ9_kBp3gYf",
        "outputId": "1f9afd28-72cd-4153-fccf-73c8ac0b0fcd",
        "colab": {
          "base_uri": "https://localhost:8080/",
          "height": 356
        }
      },
      "source": [
        "fig_dims = (15, 4)\r\n",
        "fig, ax = plt.subplots(figsize=fig_dims)\r\n",
        "plt.rcParams.update({'font.size': 13})\r\n",
        "sns.lineplot(data=covid3clear, x=\"WeekName\", y='daily_vaccinations', hue = 'country')\r\n",
        "ax.set(xticks=covid3clear.WeekName.values)\r\n",
        "plt.xticks(rotation=90)\r\n",
        "plt.title('Vaccinations per week for 3 individual countries')"
      ],
      "execution_count": 54,
      "outputs": [
        {
          "output_type": "execute_result",
          "data": {
            "text/plain": [
              "Text(0.5, 1.0, 'Vaccinations per week for 3 individual countries')"
            ]
          },
          "metadata": {
            "tags": []
          },
          "execution_count": 54
        },
        {
          "output_type": "display_data",
          "data": {
            "image/png": "[encoded data removed]",
            "text/plain": [
              "<Figure size 1080x288 with 1 Axes>"
            ]
          },
          "metadata": {
            "tags": [],
            "needs_background": "light"
          }
        }
      ]
    },
    {
      "cell_type": "code",
      "metadata": {
        "id": "bxpLguNoEU81",
        "colab": {
          "base_uri": "https://localhost:8080/"
        },
        "outputId": "67429d32-b7b0-4433-a2aa-c2e24370e7fb"
      },
      "source": [
        "covid3clear['Month'].unique()"
      ],
      "execution_count": null,
      "outputs": [
        {
          "output_type": "execute_result",
          "data": {
            "text/plain": [
              "<PeriodArray>\n",
              "['2021-01', '2021-02', '2020-12']\n",
              "Length: 3, dtype: period[M]"
            ]
          },
          "metadata": {
            "tags": []
          },
          "execution_count": 114
        }
      ]
    },
    {
      "cell_type": "code",
      "metadata": {
        "id": "osFZpz_aGYVl"
      },
      "source": [
        ""
      ],
      "execution_count": null,
      "outputs": []
    }
  ]
}