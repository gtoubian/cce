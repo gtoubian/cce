{
  "nbformat": 4,
  "nbformat_minor": 0,
  "metadata": {
    "colab": {
      "name": "Module_One_Project_country_vaccinations_Gabriel_Toubian.ipynb",
      "provenance": [],
      "authorship_tag": "ABX9TyMIJx1ydguYkLC3qh/BlhDm",
      "include_colab_link": true
    },
    "kernelspec": {
      "name": "python3",
      "display_name": "Python 3"
    }
  },
  "cells": [
    {
      "cell_type": "markdown",
      "metadata": {
        "id": "view-in-github",
        "colab_type": "text"
      },
      "source": [
        "<a href=\"https://colab.research.google.com/github/gtoubian/cce/blob/main/Module_One_Project_country_vaccinations_Gabriel_Toubian.ipynb\" target=\"_parent\"><img src=\"https://colab.research.google.com/assets/colab-badge.svg\" alt=\"Open In Colab\"/></a>"
      ]
    },
    {
      "cell_type": "markdown",
      "metadata": {
        "id": "iH_oFnwW9qqf"
      },
      "source": [
        "## COVID-19 World Vaccination\n",
        "Create a daily, weekly and monthly graph of vaccinations of COVID-19 worldwide and for 3 other countries. For the\n",
        "chosen countries, give estimates of how long it would take to vaccinate the total population of the country given\n",
        "the average daily, weekly monthly rates of vaccination. Plot the total number of vaccinations per country."
      ]
    },
    {
      "cell_type": "markdown",
      "metadata": {
        "id": "JwZOWpI5pIKQ"
      },
      "source": [
        "**Import CSV and import packages**"
      ]
    },
    {
      "cell_type": "code",
      "metadata": {
        "colab": {
          "resources": {
            "http://localhost:8080/nbextensions/google.colab/files.js": {
              "data": "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",
              "ok": true,
              "headers": [
                [
                  "content-type",
                  "application/javascript"
                ]
              ],
              "status": 200,
              "status_text": ""
            }
          },
          "base_uri": "https://localhost:8080/",
          "height": 72
        },
        "id": "aj3wISxoHghr",
        "outputId": "fa6be6c9-e6a5-4a4a-e342-dad268b5de68"
      },
      "source": [
        "from google.colab import files\n",
        "data = files.upload()"
      ],
      "execution_count": 1,
      "outputs": [
        {
          "output_type": "display_data",
          "data": {
            "text/html": [
              "\n",
              "     <input type=\"file\" id=\"files-3fd65a7c-71e6-463d-8a1b-13fb48896ae6\" name=\"files[]\" multiple disabled\n",
              "        style=\"border:none\" />\n",
              "     <output id=\"result-3fd65a7c-71e6-463d-8a1b-13fb48896ae6\">\n",
              "      Upload widget is only available when the cell has been executed in the\n",
              "      current browser session. Please rerun this cell to enable.\n",
              "      </output>\n",
              "      <script src=\"/nbextensions/google.colab/files.js\"></script> "
            ],
            "text/plain": [
              "<IPython.core.display.HTML object>"
            ]
          },
          "metadata": {
            "tags": []
          }
        },
        {
          "output_type": "stream",
          "text": [
            "Saving covid.csv to covid (1).csv\n"
          ],
          "name": "stdout"
        }
      ]
    },
    {
      "cell_type": "code",
      "metadata": {
        "id": "7s5BAHzIHnUg"
      },
      "source": [
        "import pandas as pd\n",
        "\n",
        "import io\n",
        "covidall = pd.read_csv(io.BytesIO(data['covid.csv']))"
      ],
      "execution_count": 2,
      "outputs": []
    },
    {
      "cell_type": "code",
      "metadata": {
        "id": "WjPgJqQVh_vS"
      },
      "source": [
        "import numpy as np"
      ],
      "execution_count": 3,
      "outputs": []
    },
    {
      "cell_type": "code",
      "metadata": {
        "id": "jMLYPEZ2uoGr"
      },
      "source": [
        "import matplotlib.pyplot as plt"
      ],
      "execution_count": 4,
      "outputs": []
    },
    {
      "cell_type": "markdown",
      "metadata": {
        "id": "nimrHHO0pRO1"
      },
      "source": [
        "**Prep data: Choose relevant columns, create columns needed to draw conclusions for the 3 individual countries**"
      ]
    },
    {
      "cell_type": "code",
      "metadata": {
        "id": "hnHfRft5AzU1"
      },
      "source": [
        "covidall['Month'] = pd.to_datetime(covidall['date']).dt.to_period('M')"
      ],
      "execution_count": null,
      "outputs": []
    },
    {
      "cell_type": "code",
      "metadata": {
        "id": "GPDIpKYdBZOz"
      },
      "source": [
        "covidall['Week'] = pd.to_datetime(covidall['date']).dt.to_period('W')"
      ],
      "execution_count": null,
      "outputs": []
    },
    {
      "cell_type": "code",
      "metadata": {
        "id": "ELmZrNn24mIH"
      },
      "source": [
        "covidthree = covidall.loc[(covidall.country == 'Spain') | (covidall.country =='Canada') | (covidall.country =='France')]"
      ],
      "execution_count": null,
      "outputs": []
    },
    {
      "cell_type": "code",
      "metadata": {
        "id": "HW01yZ0n9KW1"
      },
      "source": [
        "covid3clear =  covidthree[['country', 'daily_vaccinations', 'date', 'Week', 'Month']].copy()"
      ],
      "execution_count": null,
      "outputs": []
    },
    {
      "cell_type": "code",
      "metadata": {
        "id": "MOSe4Y__P0HZ"
      },
      "source": [
        "covid3clear = covid3clear.dropna(how='any')"
      ],
      "execution_count": null,
      "outputs": []
    },
    {
      "cell_type": "code",
      "metadata": {
        "id": "n1eYxF8SyBNC"
      },
      "source": [
        "import seaborn as sns\n"
      ],
      "execution_count": null,
      "outputs": []
    },
    {
      "cell_type": "code",
      "metadata": {
        "id": "hlyPk7fUv9CJ"
      },
      "source": [
        "covid3clear['date'] = pd.to_datetime(covid3clear['date'])"
      ],
      "execution_count": null,
      "outputs": []
    },
    {
      "cell_type": "markdown",
      "metadata": {
        "id": "Em6IwGrnpsS5"
      },
      "source": [
        "**Create graphs for 3 individual countries: Canada, France, Spain**"
      ]
    },
    {
      "cell_type": "code",
      "metadata": {
        "id": "HFbh7lAQzBw4",
        "colab": {
          "base_uri": "https://localhost:8080/",
          "height": 362
        },
        "outputId": "2631c478-6460-4884-dd76-aafb5e0e6fe7"
      },
      "source": [
        "fig_dims = (15, 4)\n",
        "fig, ax = plt.subplots(figsize=fig_dims)\n",
        "plt.rcParams.update({'font.size': 13})\n",
        "sns.lineplot(data=covid3clear, x=\"date\", y='daily_vaccinations', hue = 'country')\n",
        "ax.set(xticks=covid3clear.date.values)\n",
        "plt.xticks(rotation=90)\n",
        "plt.title('Daily Vaccinations for 3 individual countries')"
      ],
      "execution_count": null,
      "outputs": [
        {
          "output_type": "execute_result",
          "data": {
            "text/plain": [
              "Text(0.5, 1.0, 'Daily Vaccinations for 3 individual countries')"
            ]
          },
          "metadata": {
            "tags": []
          },
          "execution_count": 12
        },
        {
          "output_type": "display_data",
          "data": {
            "image/png": "[encoded data removed]",
            "text/plain": [
              "<Figure size 1080x288 with 1 Axes>"
            ]
          },
          "metadata": {
            "tags": [],
            "needs_background": "light"
          }
        }
      ]
    },
    {
      "cell_type": "code",
      "metadata": {
        "id": "eaa61jMKDPuG"
      },
      "source": [
        "covid3clear.loc[covid3clear['Week'] == '2020-12-28/2021-01-03', 'WeekName'] = 'Week 1'\n",
        "covid3clear.loc[covid3clear['Week'] == '2021-01-04/2021-01-10', 'WeekName'] = 'Week 2'\n",
        "covid3clear.loc[covid3clear['Week'] == '2021-01-11/2021-01-17', 'WeekName'] = 'Week 3'\n",
        "covid3clear.loc[covid3clear['Week'] == '2021-01-18/2021-01-24', 'WeekName'] = 'Week 4'\n",
        "covid3clear.loc[covid3clear['Week'] == '2021-01-25/2021-01-31', 'WeekName'] = 'Week 5'\n",
        "covid3clear.loc[covid3clear['Week'] == '2021-02-01/2021-02-07', 'WeekName'] = 'Week 6'\n",
        "covid3clear.loc[covid3clear['Week'] == '2021-02-08/2021-02-14', 'WeekName'] = 'Week 7'\n",
        "covid3clear.loc[covid3clear['Week'] == '2021-02-15/2021-02-21', 'WeekName'] = 'Week 8'"
      ],
      "execution_count": null,
      "outputs": []
    },
    {
      "cell_type": "code",
      "metadata": {
        "id": "62IOZ1PN56L0"
      },
      "source": [
        "covid3clear.sort_values(by=['WeekName'], inplace = True)"
      ],
      "execution_count": null,
      "outputs": []
    },
    {
      "cell_type": "code",
      "metadata": {
        "id": "ihQ9_kBp3gYf",
        "colab": {
          "base_uri": "https://localhost:8080/",
          "height": 356
        },
        "outputId": "09e865cc-3d28-4678-a8b5-80ea9c06e254"
      },
      "source": [
        "fig_dims = (15, 4)\n",
        "fig, ax = plt.subplots(figsize=fig_dims)\n",
        "plt.rcParams.update({'font.size': 13})\n",
        "sns.lineplot(data=covid3clear, x=\"WeekName\", y='daily_vaccinations', hue = 'country')\n",
        "ax.set(xticks=covid3clear.WeekName.values)\n",
        "plt.xticks(rotation=90)\n",
        "plt.title('Average of Daily Vaccinations by week for 3 individual countries')"
      ],
      "execution_count": null,
      "outputs": [
        {
          "output_type": "execute_result",
          "data": {
            "text/plain": [
              "Text(0.5, 1.0, 'Average of Daily Vaccinations by week for 3 individual countries')"
            ]
          },
          "metadata": {
            "tags": []
          },
          "execution_count": 15
        },
        {
          "output_type": "display_data",
          "data": {
            "image/png": "[encoded data removed]",
            "text/plain": [
              "<Figure size 1080x288 with 1 Axes>"
            ]
          },
          "metadata": {
            "tags": [],
            "needs_background": "light"
          }
        }
      ]
    },
    {
      "cell_type": "code",
      "metadata": {
        "id": "Xzn2MXbIN3w2"
      },
      "source": [
        "covid3clear.loc[covid3clear['Month'] == '2020-12', 'MonthName'] = 'Month 1'\n",
        "covid3clear.loc[covid3clear['Month'] == '2021-01', 'MonthName'] = 'Month 2'\n",
        "covid3clear.loc[covid3clear['Month'] == '2021-02', 'MonthName'] = 'Month 3'"
      ],
      "execution_count": null,
      "outputs": []
    },
    {
      "cell_type": "code",
      "metadata": {
        "id": "bxpLguNoEU81"
      },
      "source": [
        "covid3clear.sort_values(by=['Month'], inplace = True)"
      ],
      "execution_count": null,
      "outputs": []
    },
    {
      "cell_type": "code",
      "metadata": {
        "id": "osFZpz_aGYVl",
        "colab": {
          "base_uri": "https://localhost:8080/",
          "height": 361
        },
        "outputId": "0b3e02cd-17c1-4253-8e45-9a663343eeac"
      },
      "source": [
        "fig_dims = (15, 4)\n",
        "fig, ax = plt.subplots(figsize=fig_dims)\n",
        "plt.rcParams.update({'font.size': 13})\n",
        "sns.lineplot(data=covid3clear, x=\"MonthName\", y='daily_vaccinations', hue = 'country')\n",
        "ax.set(xticks=covid3clear.MonthName.values)\n",
        "plt.xticks(rotation=90)\n",
        "plt.title('Average of Daily Vaccinations by Month for 3 individual countries')"
      ],
      "execution_count": null,
      "outputs": [
        {
          "output_type": "execute_result",
          "data": {
            "text/plain": [
              "Text(0.5, 1.0, 'Average of Daily Vaccinations by Month for 3 individual countries')"
            ]
          },
          "metadata": {
            "tags": []
          },
          "execution_count": 18
        },
        {
          "output_type": "display_data",
          "data": {
            "image/png": "[encoded data removed]",
            "text/plain": [
              "<Figure size 1080x288 with 1 Axes>"
            ]
          },
          "metadata": {
            "tags": [],
            "needs_background": "light"
          }
        }
      ]
    },
    {
      "cell_type": "markdown",
      "metadata": {
        "id": "F0CtyJVZqF_1"
      },
      "source": [
        "**Prep data: Choose relevant columns, create columns needed to draw conclusions for all countries**"
      ]
    },
    {
      "cell_type": "code",
      "metadata": {
        "id": "_ZVZq2MFVwWZ",
        "colab": {
          "base_uri": "https://localhost:8080/"
        },
        "outputId": "82b5de9c-3998-4510-8925-64234be7f513"
      },
      "source": [
        "covidall.Month.unique()"
      ],
      "execution_count": null,
      "outputs": [
        {
          "output_type": "execute_result",
          "data": {
            "text/plain": [
              "<PeriodArray>\n",
              "['2021-01', '2021-02', '2020-12']\n",
              "Length: 3, dtype: period[M]"
            ]
          },
          "metadata": {
            "tags": []
          },
          "execution_count": 19
        }
      ]
    },
    {
      "cell_type": "code",
      "metadata": {
        "id": "RoGqxU0WV3ih",
        "colab": {
          "base_uri": "https://localhost:8080/"
        },
        "outputId": "55d31e6d-1f69-4b01-afff-10178aaa947e"
      },
      "source": [
        "covidall.Week.unique()"
      ],
      "execution_count": null,
      "outputs": [
        {
          "output_type": "execute_result",
          "data": {
            "text/plain": [
              "<PeriodArray>\n",
              "['2021-01-04/2021-01-10', '2021-01-11/2021-01-17', '2021-01-18/2021-01-24',\n",
              " '2021-01-25/2021-01-31', '2021-02-01/2021-02-07', '2021-02-08/2021-02-14',\n",
              " '2021-02-15/2021-02-21', '2020-12-28/2021-01-03', '2020-12-21/2020-12-27',\n",
              " '2020-12-14/2020-12-20', '2020-12-07/2020-12-13']\n",
              "Length: 11, dtype: period[W-SUN]"
            ]
          },
          "metadata": {
            "tags": []
          },
          "execution_count": 20
        }
      ]
    },
    {
      "cell_type": "code",
      "metadata": {
        "id": "G0ZyrPKVO1Ar"
      },
      "source": [
        "covidall.loc[covidall['Week'] == '2020-12-07/2020-12-13', 'WeekName'] = 'Week 1'\n",
        "covidall.loc[covidall['Week'] == '2020-12-14/2020-12-20', 'WeekName'] = 'Week 2'\n",
        "covidall.loc[covidall['Week'] == '2020-12-21/2020-12-27', 'WeekName'] = 'Week 3'\n",
        "covidall.loc[covidall['Week'] == '2020-12-28/2021-01-03', 'WeekName'] = 'Week 4'\n",
        "covidall.loc[covidall['Week'] == '2021-01-04/2021-01-10', 'WeekName'] = 'Week 5'\n",
        "covidall.loc[covidall['Week'] == '2021-01-11/2021-01-17', 'WeekName'] = 'Week 6'\n",
        "covidall.loc[covidall['Week'] == '2021-01-18/2021-01-24', 'WeekName'] = 'Week 7'\n",
        "covidall.loc[covidall['Week'] == '2021-01-25/2021-01-31', 'WeekName'] = 'Week 8'\n",
        "covidall.loc[covidall['Week'] == '2021-02-01/2021-02-07', 'WeekName'] = 'Week 9'\n",
        "covidall.loc[covidall['Week'] == '2021-02-08/2021-02-14', 'WeekName'] = 'Week 10'\n",
        "covidall.loc[covidall['Week'] == '2021-02-15/2021-02-21', 'WeekName'] = 'Week 11'"
      ],
      "execution_count": null,
      "outputs": []
    },
    {
      "cell_type": "code",
      "metadata": {
        "id": "aptZuvB3PHDc"
      },
      "source": [
        "covidall.loc[covidall['Month'] == '2020-12', 'MonthName'] = 'Month 1'\n",
        "covidall.loc[covidall['Month'] == '2021-01', 'MonthName'] = 'Month 2'\n",
        "covidall.loc[covidall['Month'] == '2021-02', 'MonthName'] = 'Month 3'"
      ],
      "execution_count": null,
      "outputs": []
    },
    {
      "cell_type": "code",
      "metadata": {
        "id": "J_wTo4UyPbVw",
        "colab": {
          "base_uri": "https://localhost:8080/"
        },
        "outputId": "decaa332-6141-459a-8249-fe9ffe7b02a9"
      },
      "source": [
        "covidall.MonthName.unique()"
      ],
      "execution_count": null,
      "outputs": [
        {
          "output_type": "execute_result",
          "data": {
            "text/plain": [
              "array(['Month 2', 'Month 3', 'Month 1'], dtype=object)"
            ]
          },
          "metadata": {
            "tags": []
          },
          "execution_count": 23
        }
      ]
    },
    {
      "cell_type": "code",
      "metadata": {
        "id": "F9CtHySXS9p1",
        "colab": {
          "base_uri": "https://localhost:8080/"
        },
        "outputId": "115a322b-4302-4efd-c73d-0156bf34dfb1"
      },
      "source": [
        "covidall.WeekName.unique()"
      ],
      "execution_count": null,
      "outputs": [
        {
          "output_type": "execute_result",
          "data": {
            "text/plain": [
              "array(['Week 5', 'Week 6', 'Week 7', 'Week 8', 'Week 9', 'Week 10',\n",
              "       'Week 11', 'Week 4', 'Week 3', 'Week 2', 'Week 1'], dtype=object)"
            ]
          },
          "metadata": {
            "tags": []
          },
          "execution_count": 24
        }
      ]
    },
    {
      "cell_type": "code",
      "metadata": {
        "id": "poKhCYOBTwF2"
      },
      "source": [
        "covidallclear =  covidall[['country', 'daily_vaccinations', 'date', 'Week', 'Month', 'WeekName', 'MonthName']].copy()"
      ],
      "execution_count": null,
      "outputs": []
    },
    {
      "cell_type": "code",
      "metadata": {
        "colab": {
          "base_uri": "https://localhost:8080/",
          "height": 402
        },
        "id": "9OpdbTZWYXFj",
        "outputId": "b786ae6b-054f-4e9d-f071-751e2b025640"
      },
      "source": [
        "covidallclear"
      ],
      "execution_count": null,
      "outputs": [
        {
          "output_type": "execute_result",
          "data": {
            "text/html": [
              "<div>\n",
              "<style scoped>\n",
              "    .dataframe tbody tr th:only-of-type {\n",
              "        vertical-align: middle;\n",
              "    }\n",
              "\n",
              "    .dataframe tbody tr th {\n",
              "        vertical-align: top;\n",
              "    }\n",
              "\n",
              "    .dataframe thead th {\n",
              "        text-align: right;\n",
              "    }\n",
              "</style>\n",
              "<table border=\"1\" class=\"dataframe\">\n",
              "  <thead>\n",
              "    <tr style=\"text-align: right;\">\n",
              "      <th></th>\n",
              "      <th>country</th>\n",
              "      <th>daily_vaccinations</th>\n",
              "      <th>date</th>\n",
              "      <th>Week</th>\n",
              "      <th>Month</th>\n",
              "      <th>WeekName</th>\n",
              "      <th>MonthName</th>\n",
              "    </tr>\n",
              "  </thead>\n",
              "  <tbody>\n",
              "    <tr>\n",
              "      <th>0</th>\n",
              "      <td>Albania</td>\n",
              "      <td>NaN</td>\n",
              "      <td>2021-01-10</td>\n",
              "      <td>2021-01-04/2021-01-10</td>\n",
              "      <td>2021-01</td>\n",
              "      <td>Week 5</td>\n",
              "      <td>Month 2</td>\n",
              "    </tr>\n",
              "    <tr>\n",
              "      <th>1</th>\n",
              "      <td>Albania</td>\n",
              "      <td>64.0</td>\n",
              "      <td>2021-01-11</td>\n",
              "      <td>2021-01-11/2021-01-17</td>\n",
              "      <td>2021-01</td>\n",
              "      <td>Week 6</td>\n",
              "      <td>Month 2</td>\n",
              "    </tr>\n",
              "    <tr>\n",
              "      <th>2</th>\n",
              "      <td>Albania</td>\n",
              "      <td>64.0</td>\n",
              "      <td>2021-01-12</td>\n",
              "      <td>2021-01-11/2021-01-17</td>\n",
              "      <td>2021-01</td>\n",
              "      <td>Week 6</td>\n",
              "      <td>Month 2</td>\n",
              "    </tr>\n",
              "    <tr>\n",
              "      <th>3</th>\n",
              "      <td>Albania</td>\n",
              "      <td>63.0</td>\n",
              "      <td>2021-01-13</td>\n",
              "      <td>2021-01-11/2021-01-17</td>\n",
              "      <td>2021-01</td>\n",
              "      <td>Week 6</td>\n",
              "      <td>Month 2</td>\n",
              "    </tr>\n",
              "    <tr>\n",
              "      <th>4</th>\n",
              "      <td>Albania</td>\n",
              "      <td>66.0</td>\n",
              "      <td>2021-01-14</td>\n",
              "      <td>2021-01-11/2021-01-17</td>\n",
              "      <td>2021-01</td>\n",
              "      <td>Week 6</td>\n",
              "      <td>Month 2</td>\n",
              "    </tr>\n",
              "    <tr>\n",
              "      <th>...</th>\n",
              "      <td>...</td>\n",
              "      <td>...</td>\n",
              "      <td>...</td>\n",
              "      <td>...</td>\n",
              "      <td>...</td>\n",
              "      <td>...</td>\n",
              "      <td>...</td>\n",
              "    </tr>\n",
              "    <tr>\n",
              "      <th>3804</th>\n",
              "      <td>Wales</td>\n",
              "      <td>23033.0</td>\n",
              "      <td>2021-02-16</td>\n",
              "      <td>2021-02-15/2021-02-21</td>\n",
              "      <td>2021-02</td>\n",
              "      <td>Week 11</td>\n",
              "      <td>Month 3</td>\n",
              "    </tr>\n",
              "    <tr>\n",
              "      <th>3805</th>\n",
              "      <td>Wales</td>\n",
              "      <td>22012.0</td>\n",
              "      <td>2021-02-17</td>\n",
              "      <td>2021-02-15/2021-02-21</td>\n",
              "      <td>2021-02</td>\n",
              "      <td>Week 11</td>\n",
              "      <td>Month 3</td>\n",
              "    </tr>\n",
              "    <tr>\n",
              "      <th>3806</th>\n",
              "      <td>Wales</td>\n",
              "      <td>20649.0</td>\n",
              "      <td>2021-02-18</td>\n",
              "      <td>2021-02-15/2021-02-21</td>\n",
              "      <td>2021-02</td>\n",
              "      <td>Week 11</td>\n",
              "      <td>Month 3</td>\n",
              "    </tr>\n",
              "    <tr>\n",
              "      <th>3807</th>\n",
              "      <td>Wales</td>\n",
              "      <td>18891.0</td>\n",
              "      <td>2021-02-19</td>\n",
              "      <td>2021-02-15/2021-02-21</td>\n",
              "      <td>2021-02</td>\n",
              "      <td>Week 11</td>\n",
              "      <td>Month 3</td>\n",
              "    </tr>\n",
              "    <tr>\n",
              "      <th>3808</th>\n",
              "      <td>Wales</td>\n",
              "      <td>17376.0</td>\n",
              "      <td>2021-02-20</td>\n",
              "      <td>2021-02-15/2021-02-21</td>\n",
              "      <td>2021-02</td>\n",
              "      <td>Week 11</td>\n",
              "      <td>Month 3</td>\n",
              "    </tr>\n",
              "  </tbody>\n",
              "</table>\n",
              "<p>3809 rows × 7 columns</p>\n",
              "</div>"
            ],
            "text/plain": [
              "      country  daily_vaccinations        date  ...    Month WeekName MonthName\n",
              "0     Albania                 NaN  2021-01-10  ...  2021-01   Week 5   Month 2\n",
              "1     Albania                64.0  2021-01-11  ...  2021-01   Week 6   Month 2\n",
              "2     Albania                64.0  2021-01-12  ...  2021-01   Week 6   Month 2\n",
              "3     Albania                63.0  2021-01-13  ...  2021-01   Week 6   Month 2\n",
              "4     Albania                66.0  2021-01-14  ...  2021-01   Week 6   Month 2\n",
              "...       ...                 ...         ...  ...      ...      ...       ...\n",
              "3804    Wales             23033.0  2021-02-16  ...  2021-02  Week 11   Month 3\n",
              "3805    Wales             22012.0  2021-02-17  ...  2021-02  Week 11   Month 3\n",
              "3806    Wales             20649.0  2021-02-18  ...  2021-02  Week 11   Month 3\n",
              "3807    Wales             18891.0  2021-02-19  ...  2021-02  Week 11   Month 3\n",
              "3808    Wales             17376.0  2021-02-20  ...  2021-02  Week 11   Month 3\n",
              "\n",
              "[3809 rows x 7 columns]"
            ]
          },
          "metadata": {
            "tags": []
          },
          "execution_count": 26
        }
      ]
    },
    {
      "cell_type": "code",
      "metadata": {
        "id": "2-vNFad0YZpk"
      },
      "source": [
        "covidallclear = covidallclear.dropna(how='any')"
      ],
      "execution_count": null,
      "outputs": []
    },
    {
      "cell_type": "code",
      "metadata": {
        "colab": {
          "base_uri": "https://localhost:8080/",
          "height": 402
        },
        "id": "KueCFnj0Y3-6",
        "outputId": "93559196-985a-47f6-de63-5eceb03aff3d"
      },
      "source": [
        "covidallclear"
      ],
      "execution_count": null,
      "outputs": [
        {
          "output_type": "execute_result",
          "data": {
            "text/html": [
              "<div>\n",
              "<style scoped>\n",
              "    .dataframe tbody tr th:only-of-type {\n",
              "        vertical-align: middle;\n",
              "    }\n",
              "\n",
              "    .dataframe tbody tr th {\n",
              "        vertical-align: top;\n",
              "    }\n",
              "\n",
              "    .dataframe thead th {\n",
              "        text-align: right;\n",
              "    }\n",
              "</style>\n",
              "<table border=\"1\" class=\"dataframe\">\n",
              "  <thead>\n",
              "    <tr style=\"text-align: right;\">\n",
              "      <th></th>\n",
              "      <th>country</th>\n",
              "      <th>daily_vaccinations</th>\n",
              "      <th>date</th>\n",
              "      <th>Week</th>\n",
              "      <th>Month</th>\n",
              "      <th>WeekName</th>\n",
              "      <th>MonthName</th>\n",
              "    </tr>\n",
              "  </thead>\n",
              "  <tbody>\n",
              "    <tr>\n",
              "      <th>1</th>\n",
              "      <td>Albania</td>\n",
              "      <td>64.0</td>\n",
              "      <td>2021-01-11</td>\n",
              "      <td>2021-01-11/2021-01-17</td>\n",
              "      <td>2021-01</td>\n",
              "      <td>Week 6</td>\n",
              "      <td>Month 2</td>\n",
              "    </tr>\n",
              "    <tr>\n",
              "      <th>2</th>\n",
              "      <td>Albania</td>\n",
              "      <td>64.0</td>\n",
              "      <td>2021-01-12</td>\n",
              "      <td>2021-01-11/2021-01-17</td>\n",
              "      <td>2021-01</td>\n",
              "      <td>Week 6</td>\n",
              "      <td>Month 2</td>\n",
              "    </tr>\n",
              "    <tr>\n",
              "      <th>3</th>\n",
              "      <td>Albania</td>\n",
              "      <td>63.0</td>\n",
              "      <td>2021-01-13</td>\n",
              "      <td>2021-01-11/2021-01-17</td>\n",
              "      <td>2021-01</td>\n",
              "      <td>Week 6</td>\n",
              "      <td>Month 2</td>\n",
              "    </tr>\n",
              "    <tr>\n",
              "      <th>4</th>\n",
              "      <td>Albania</td>\n",
              "      <td>66.0</td>\n",
              "      <td>2021-01-14</td>\n",
              "      <td>2021-01-11/2021-01-17</td>\n",
              "      <td>2021-01</td>\n",
              "      <td>Week 6</td>\n",
              "      <td>Month 2</td>\n",
              "    </tr>\n",
              "    <tr>\n",
              "      <th>5</th>\n",
              "      <td>Albania</td>\n",
              "      <td>62.0</td>\n",
              "      <td>2021-01-15</td>\n",
              "      <td>2021-01-11/2021-01-17</td>\n",
              "      <td>2021-01</td>\n",
              "      <td>Week 6</td>\n",
              "      <td>Month 2</td>\n",
              "    </tr>\n",
              "    <tr>\n",
              "      <th>...</th>\n",
              "      <td>...</td>\n",
              "      <td>...</td>\n",
              "      <td>...</td>\n",
              "      <td>...</td>\n",
              "      <td>...</td>\n",
              "      <td>...</td>\n",
              "      <td>...</td>\n",
              "    </tr>\n",
              "    <tr>\n",
              "      <th>3804</th>\n",
              "      <td>Wales</td>\n",
              "      <td>23033.0</td>\n",
              "      <td>2021-02-16</td>\n",
              "      <td>2021-02-15/2021-02-21</td>\n",
              "      <td>2021-02</td>\n",
              "      <td>Week 11</td>\n",
              "      <td>Month 3</td>\n",
              "    </tr>\n",
              "    <tr>\n",
              "      <th>3805</th>\n",
              "      <td>Wales</td>\n",
              "      <td>22012.0</td>\n",
              "      <td>2021-02-17</td>\n",
              "      <td>2021-02-15/2021-02-21</td>\n",
              "      <td>2021-02</td>\n",
              "      <td>Week 11</td>\n",
              "      <td>Month 3</td>\n",
              "    </tr>\n",
              "    <tr>\n",
              "      <th>3806</th>\n",
              "      <td>Wales</td>\n",
              "      <td>20649.0</td>\n",
              "      <td>2021-02-18</td>\n",
              "      <td>2021-02-15/2021-02-21</td>\n",
              "      <td>2021-02</td>\n",
              "      <td>Week 11</td>\n",
              "      <td>Month 3</td>\n",
              "    </tr>\n",
              "    <tr>\n",
              "      <th>3807</th>\n",
              "      <td>Wales</td>\n",
              "      <td>18891.0</td>\n",
              "      <td>2021-02-19</td>\n",
              "      <td>2021-02-15/2021-02-21</td>\n",
              "      <td>2021-02</td>\n",
              "      <td>Week 11</td>\n",
              "      <td>Month 3</td>\n",
              "    </tr>\n",
              "    <tr>\n",
              "      <th>3808</th>\n",
              "      <td>Wales</td>\n",
              "      <td>17376.0</td>\n",
              "      <td>2021-02-20</td>\n",
              "      <td>2021-02-15/2021-02-21</td>\n",
              "      <td>2021-02</td>\n",
              "      <td>Week 11</td>\n",
              "      <td>Month 3</td>\n",
              "    </tr>\n",
              "  </tbody>\n",
              "</table>\n",
              "<p>3670 rows × 7 columns</p>\n",
              "</div>"
            ],
            "text/plain": [
              "      country  daily_vaccinations        date  ...    Month WeekName MonthName\n",
              "1     Albania                64.0  2021-01-11  ...  2021-01   Week 6   Month 2\n",
              "2     Albania                64.0  2021-01-12  ...  2021-01   Week 6   Month 2\n",
              "3     Albania                63.0  2021-01-13  ...  2021-01   Week 6   Month 2\n",
              "4     Albania                66.0  2021-01-14  ...  2021-01   Week 6   Month 2\n",
              "5     Albania                62.0  2021-01-15  ...  2021-01   Week 6   Month 2\n",
              "...       ...                 ...         ...  ...      ...      ...       ...\n",
              "3804    Wales             23033.0  2021-02-16  ...  2021-02  Week 11   Month 3\n",
              "3805    Wales             22012.0  2021-02-17  ...  2021-02  Week 11   Month 3\n",
              "3806    Wales             20649.0  2021-02-18  ...  2021-02  Week 11   Month 3\n",
              "3807    Wales             18891.0  2021-02-19  ...  2021-02  Week 11   Month 3\n",
              "3808    Wales             17376.0  2021-02-20  ...  2021-02  Week 11   Month 3\n",
              "\n",
              "[3670 rows x 7 columns]"
            ]
          },
          "metadata": {
            "tags": []
          },
          "execution_count": 28
        }
      ]
    },
    {
      "cell_type": "code",
      "metadata": {
        "id": "YIvMaSda0-Ce",
        "colab": {
          "base_uri": "https://localhost:8080/"
        },
        "outputId": "ec54b1e1-dff5-43a3-d81a-54bef56ec4ad"
      },
      "source": [
        "covidallclear['date'] = pd.to_datetime(covidallclear['date'])"
      ],
      "execution_count": null,
      "outputs": [
        {
          "output_type": "stream",
          "text": [
            "/usr/local/lib/python3.7/dist-packages/ipykernel_launcher.py:1: SettingWithCopyWarning: \n",
            "A value is trying to be set on a copy of a slice from a DataFrame.\n",
            "Try using .loc[row_indexer,col_indexer] = value instead\n",
            "\n",
            "See the caveats in the documentation: https://pandas.pydata.org/pandas-docs/stable/user_guide/indexing.html#returning-a-view-versus-a-copy\n",
            "  \"\"\"Entry point for launching an IPython kernel.\n"
          ],
          "name": "stderr"
        }
      ]
    },
    {
      "cell_type": "markdown",
      "metadata": {
        "id": "YMvtZSPuqPDt"
      },
      "source": [
        "**Create graphs for all countries**"
      ]
    },
    {
      "cell_type": "code",
      "metadata": {
        "colab": {
          "base_uri": "https://localhost:8080/",
          "height": 383
        },
        "id": "kU46VzUxZZWN",
        "outputId": "a094d1f3-a665-490b-e79b-80c848eb530d"
      },
      "source": [
        "covidallclear.groupby(['country'])\n",
        "fig_dims = (20, 4)\n",
        "fig, ax = plt.subplots(figsize=fig_dims)\n",
        "plt.rcParams.update({'font.size': 13})\n",
        "sns.lineplot(data=covidallclear, x=\"date\", y='daily_vaccinations')\n",
        "ax.set(xticks=covidallclear.date.values)\n",
        "plt.xticks(rotation=90)\n",
        "plt.title('Average of vaccinations per day worldwide')"
      ],
      "execution_count": null,
      "outputs": [
        {
          "output_type": "execute_result",
          "data": {
            "text/plain": [
              "Text(0.5, 1.0, 'Average of vaccinations per day worldwide')"
            ]
          },
          "metadata": {
            "tags": []
          },
          "execution_count": 30
        },
        {
          "output_type": "display_data",
          "data": {
            "image/png": "[encoded data removed]",
            "text/plain": [
              "<Figure size 1440x288 with 1 Axes>"
            ]
          },
          "metadata": {
            "tags": [],
            "needs_background": "light"
          }
        }
      ]
    },
    {
      "cell_type": "code",
      "metadata": {
        "id": "WqouL5-Ad-Gr",
        "colab": {
          "base_uri": "https://localhost:8080/"
        },
        "outputId": "2f022815-d348-46f0-8c36-d01edd3d4c8c"
      },
      "source": [
        "covidallclear.sort_values(by=['Week'], inplace = True)"
      ],
      "execution_count": null,
      "outputs": [
        {
          "output_type": "stream",
          "text": [
            "/usr/local/lib/python3.7/dist-packages/ipykernel_launcher.py:1: SettingWithCopyWarning: \n",
            "A value is trying to be set on a copy of a slice from a DataFrame\n",
            "\n",
            "See the caveats in the documentation: https://pandas.pydata.org/pandas-docs/stable/user_guide/indexing.html#returning-a-view-versus-a-copy\n",
            "  \"\"\"Entry point for launching an IPython kernel.\n"
          ],
          "name": "stderr"
        }
      ]
    },
    {
      "cell_type": "code",
      "metadata": {
        "colab": {
          "base_uri": "https://localhost:8080/",
          "height": 364
        },
        "id": "36Wr_HJkcHyu",
        "outputId": "b499f785-5159-457b-ef55-56a5ff669623"
      },
      "source": [
        "covidallclear.groupby(['country'])\n",
        "fig_dims = (20, 4)\n",
        "fig, ax = plt.subplots(figsize=fig_dims)\n",
        "plt.rcParams.update({'font.size': 13})\n",
        "sns.lineplot(data=covidallclear, x=\"WeekName\", y='daily_vaccinations')\n",
        "ax.set(xticks=covidallclear.WeekName.values)\n",
        "plt.xticks(rotation=90)\n",
        "plt.title('Average of Daily Vaccinations by week worldwide')"
      ],
      "execution_count": null,
      "outputs": [
        {
          "output_type": "execute_result",
          "data": {
            "text/plain": [
              "Text(0.5, 1.0, 'Average of Daily Vaccinations by week worldwide')"
            ]
          },
          "metadata": {
            "tags": []
          },
          "execution_count": 32
        },
        {
          "output_type": "display_data",
          "data": {
            "image/png": "[encoded data removed]",
            "text/plain": [
              "<Figure size 1440x288 with 1 Axes>"
            ]
          },
          "metadata": {
            "tags": [],
            "needs_background": "light"
          }
        }
      ]
    },
    {
      "cell_type": "code",
      "metadata": {
        "id": "EYg0nkPxdpz_",
        "colab": {
          "base_uri": "https://localhost:8080/"
        },
        "outputId": "d03d8a42-77fe-4309-c942-e35b094d1261"
      },
      "source": [
        "covidallclear.sort_values(by=['Month'], inplace = True)"
      ],
      "execution_count": null,
      "outputs": [
        {
          "output_type": "stream",
          "text": [
            "/usr/local/lib/python3.7/dist-packages/ipykernel_launcher.py:1: SettingWithCopyWarning: \n",
            "A value is trying to be set on a copy of a slice from a DataFrame\n",
            "\n",
            "See the caveats in the documentation: https://pandas.pydata.org/pandas-docs/stable/user_guide/indexing.html#returning-a-view-versus-a-copy\n",
            "  \"\"\"Entry point for launching an IPython kernel.\n"
          ],
          "name": "stderr"
        }
      ]
    },
    {
      "cell_type": "code",
      "metadata": {
        "id": "o3nY2faheiLB",
        "colab": {
          "base_uri": "https://localhost:8080/",
          "height": 361
        },
        "outputId": "d025b119-1005-4b2d-a12d-0ce43b70e906"
      },
      "source": [
        "covidallclear.groupby(['country'])\n",
        "fig_dims = (20, 4)\n",
        "fig, ax = plt.subplots(figsize=fig_dims)\n",
        "plt.rcParams.update({'font.size': 13})\n",
        "sns.lineplot(data=covidallclear, x=\"MonthName\", y='daily_vaccinations')\n",
        "ax.set(xticks=covidallclear.MonthName.values)\n",
        "plt.xticks(rotation=90)\n",
        "plt.title('Average of Daily Vaccinations by month worldwide')"
      ],
      "execution_count": null,
      "outputs": [
        {
          "output_type": "execute_result",
          "data": {
            "text/plain": [
              "Text(0.5, 1.0, 'Average of Daily Vaccinations by month worldwide')"
            ]
          },
          "metadata": {
            "tags": []
          },
          "execution_count": 34
        },
        {
          "output_type": "display_data",
          "data": {
            "image/png": "[encoded data removed]",
            "text/plain": [
              "<Figure size 1440x288 with 1 Axes>"
            ]
          },
          "metadata": {
            "tags": [],
            "needs_background": "light"
          }
        }
      ]
    },
    {
      "cell_type": "markdown",
      "metadata": {
        "id": "LbGR9knZqXOV"
      },
      "source": [
        "**Plotting total vaccinations per country**"
      ]
    },
    {
      "cell_type": "code",
      "metadata": {
        "id": "yy4iFg5Uen_O",
        "colab": {
          "base_uri": "https://localhost:8080/",
          "height": 454
        },
        "outputId": "1a7c2c4b-c45a-456f-895f-6266cc3d812d"
      },
      "source": [
        "fig_dims = (25, 4)\n",
        "fig, ax = plt.subplots(figsize=fig_dims)\n",
        "plt.rcParams.update({'font.size': 13})\n",
        "plt.xticks(rotation=90)\n",
        "sns.barplot(data=covidallclear, x=\"country\", y=\"daily_vaccinations\")\n",
        "plt.title('Worldwide daily vaccinations')"
      ],
      "execution_count": null,
      "outputs": [
        {
          "output_type": "execute_result",
          "data": {
            "text/plain": [
              "Text(0.5, 1.0, 'Worldwide daily vaccinations')"
            ]
          },
          "metadata": {
            "tags": []
          },
          "execution_count": 35
        },
        {
          "output_type": "display_data",
          "data": {
            "image/png": "[encoded data removed]",
            "text/plain": [
              "<Figure size 1800x288 with 1 Axes>"
            ]
          },
          "metadata": {
            "tags": [],
            "needs_background": "light"
          }
        }
      ]
    },
    {
      "cell_type": "markdown",
      "metadata": {
        "id": "pxPhGOwQt4Pp"
      },
      "source": [
        "Total population of France in 2021: 65,426,179\n",
        "\n",
        "Total population of Spain in 2021: 46,745,216\n",
        "\n",
        "Total population of Canada in 2021: 38,067,903\n",
        "\n",
        "*Highest average amount of daily vaccinations in a month per country (based on chart named Average of Daily Vaccinations by Month for 3 individual countries):*\n",
        "\n",
        "France: ~100,000\n",
        "\n",
        "Spain: ~60,000\n",
        "\n",
        "Canada: ~35,000\n",
        "\n",
        "**Assuming that each of the three countries vaccinates (per month) at the capacity equal with the highest *average daily amount* in a month they have so far, with no unforeseen changes in variables, the number of days to vaccinate the entire populations of each of the 3 countries will be:**\n",
        "\n",
        "France: 65,426,179 / 100,000 = Approx 654 days\n",
        "\n",
        "Spain: 46,745,216 / 60,000 = Approx 778 days\n",
        "\n",
        "Canada: 38,067,903 / 35,000 = Approx 1087 days\n",
        "\n",
        "**Please note that these are probably worst case scenarios, as this data only represents the very beginning of the vaccine's availability. Over time, production and availability of vaccines are most likely to increase, resulting in a more-than-likely higher number of daily vaccinations on average.**"
      ]
    },
    {
      "cell_type": "markdown",
      "metadata": {
        "id": "z95drichsVEa"
      },
      "source": [
        "# Time Series for Canada based on this data"
      ]
    },
    {
      "cell_type": "code",
      "metadata": {
        "id": "GUmw9ZNEu-hV"
      },
      "source": [
        "covidcanada = covidall.loc[(covidall.country == 'Canada')]"
      ],
      "execution_count": 5,
      "outputs": []
    },
    {
      "cell_type": "code",
      "metadata": {
        "id": "jXNC79lN43r9"
      },
      "source": [
        "df = covidcanada[['daily_vaccinations', 'date']].copy()"
      ],
      "execution_count": 6,
      "outputs": []
    },
    {
      "cell_type": "code",
      "metadata": {
        "id": "H5mGH1Sn5MF5"
      },
      "source": [
        "df['date'] = pd.to_datetime(df['date'])"
      ],
      "execution_count": 7,
      "outputs": []
    },
    {
      "cell_type": "code",
      "metadata": {
        "id": "DBcqicxs5yBg"
      },
      "source": [
        "df = df.dropna(how='any')"
      ],
      "execution_count": 8,
      "outputs": []
    },
    {
      "cell_type": "code",
      "metadata": {
        "colab": {
          "base_uri": "https://localhost:8080/",
          "height": 204
        },
        "id": "XUWEwc-E5jaY",
        "outputId": "1f90c4d2-3448-4a1b-da73-1cbdc4024d44"
      },
      "source": [
        "df.head()"
      ],
      "execution_count": 9,
      "outputs": [
        {
          "output_type": "execute_result",
          "data": {
            "text/html": [
              "<div>\n",
              "<style scoped>\n",
              "    .dataframe tbody tr th:only-of-type {\n",
              "        vertical-align: middle;\n",
              "    }\n",
              "\n",
              "    .dataframe tbody tr th {\n",
              "        vertical-align: top;\n",
              "    }\n",
              "\n",
              "    .dataframe thead th {\n",
              "        text-align: right;\n",
              "    }\n",
              "</style>\n",
              "<table border=\"1\" class=\"dataframe\">\n",
              "  <thead>\n",
              "    <tr style=\"text-align: right;\">\n",
              "      <th></th>\n",
              "      <th>daily_vaccinations</th>\n",
              "      <th>date</th>\n",
              "    </tr>\n",
              "  </thead>\n",
              "  <tbody>\n",
              "    <tr>\n",
              "      <th>579</th>\n",
              "      <td>4282.0</td>\n",
              "      <td>2021-01-13</td>\n",
              "    </tr>\n",
              "    <tr>\n",
              "      <th>580</th>\n",
              "      <td>7285.0</td>\n",
              "      <td>2021-01-14</td>\n",
              "    </tr>\n",
              "    <tr>\n",
              "      <th>581</th>\n",
              "      <td>10736.0</td>\n",
              "      <td>2021-01-15</td>\n",
              "    </tr>\n",
              "    <tr>\n",
              "      <th>582</th>\n",
              "      <td>14575.0</td>\n",
              "      <td>2021-01-16</td>\n",
              "    </tr>\n",
              "    <tr>\n",
              "      <th>583</th>\n",
              "      <td>18415.0</td>\n",
              "      <td>2021-01-17</td>\n",
              "    </tr>\n",
              "  </tbody>\n",
              "</table>\n",
              "</div>"
            ],
            "text/plain": [
              "     daily_vaccinations       date\n",
              "579              4282.0 2021-01-13\n",
              "580              7285.0 2021-01-14\n",
              "581             10736.0 2021-01-15\n",
              "582             14575.0 2021-01-16\n",
              "583             18415.0 2021-01-17"
            ]
          },
          "metadata": {
            "tags": []
          },
          "execution_count": 9
        }
      ]
    },
    {
      "cell_type": "code",
      "metadata": {
        "id": "vClgO59m6rNg"
      },
      "source": [
        "df['day'] = range(0,len(df.index.values))"
      ],
      "execution_count": 10,
      "outputs": []
    },
    {
      "cell_type": "code",
      "metadata": {
        "id": "qWxnJHfD8V79",
        "colab": {
          "base_uri": "https://localhost:8080/",
          "height": 204
        },
        "outputId": "2ebd01f5-65f5-4cd8-d7c3-12ef4548fa44"
      },
      "source": [
        "df.head()"
      ],
      "execution_count": 11,
      "outputs": [
        {
          "output_type": "execute_result",
          "data": {
            "text/html": [
              "<div>\n",
              "<style scoped>\n",
              "    .dataframe tbody tr th:only-of-type {\n",
              "        vertical-align: middle;\n",
              "    }\n",
              "\n",
              "    .dataframe tbody tr th {\n",
              "        vertical-align: top;\n",
              "    }\n",
              "\n",
              "    .dataframe thead th {\n",
              "        text-align: right;\n",
              "    }\n",
              "</style>\n",
              "<table border=\"1\" class=\"dataframe\">\n",
              "  <thead>\n",
              "    <tr style=\"text-align: right;\">\n",
              "      <th></th>\n",
              "      <th>daily_vaccinations</th>\n",
              "      <th>date</th>\n",
              "      <th>day</th>\n",
              "    </tr>\n",
              "  </thead>\n",
              "  <tbody>\n",
              "    <tr>\n",
              "      <th>579</th>\n",
              "      <td>4282.0</td>\n",
              "      <td>2021-01-13</td>\n",
              "      <td>0</td>\n",
              "    </tr>\n",
              "    <tr>\n",
              "      <th>580</th>\n",
              "      <td>7285.0</td>\n",
              "      <td>2021-01-14</td>\n",
              "      <td>1</td>\n",
              "    </tr>\n",
              "    <tr>\n",
              "      <th>581</th>\n",
              "      <td>10736.0</td>\n",
              "      <td>2021-01-15</td>\n",
              "      <td>2</td>\n",
              "    </tr>\n",
              "    <tr>\n",
              "      <th>582</th>\n",
              "      <td>14575.0</td>\n",
              "      <td>2021-01-16</td>\n",
              "      <td>3</td>\n",
              "    </tr>\n",
              "    <tr>\n",
              "      <th>583</th>\n",
              "      <td>18415.0</td>\n",
              "      <td>2021-01-17</td>\n",
              "      <td>4</td>\n",
              "    </tr>\n",
              "  </tbody>\n",
              "</table>\n",
              "</div>"
            ],
            "text/plain": [
              "     daily_vaccinations       date  day\n",
              "579              4282.0 2021-01-13    0\n",
              "580              7285.0 2021-01-14    1\n",
              "581             10736.0 2021-01-15    2\n",
              "582             14575.0 2021-01-16    3\n",
              "583             18415.0 2021-01-17    4"
            ]
          },
          "metadata": {
            "tags": []
          },
          "execution_count": 11
        }
      ]
    },
    {
      "cell_type": "markdown",
      "metadata": {
        "id": "10llUnm9-NZC"
      },
      "source": [
        "Plotting the Original Data"
      ]
    },
    {
      "cell_type": "code",
      "metadata": {
        "id": "ZkniO5v_8X4H",
        "colab": {
          "base_uri": "https://localhost:8080/",
          "height": 312
        },
        "outputId": "ba2614b3-084a-4eda-903f-86c694daa8cd"
      },
      "source": [
        "fig = plt.figure(1)\n",
        "axl = fig.add_subplot(111)\n",
        "axl.set_xlabel('day')\n",
        "axl.set_ylabel('daily_vaccinations')\n",
        "axl.set_title('Original Plot')\n",
        "axl.plot('day', 'daily_vaccinations', data = df)"
      ],
      "execution_count": 12,
      "outputs": [
        {
          "output_type": "execute_result",
          "data": {
            "text/plain": [
              "[<matplotlib.lines.Line2D at 0x7f5bc35bb990>]"
            ]
          },
          "metadata": {
            "tags": []
          },
          "execution_count": 12
        },
        {
          "output_type": "display_data",
          "data": {
            "image/png": "[encoded data removed]",
            "text/plain": [
              "<Figure size 432x288 with 1 Axes>"
            ]
          },
          "metadata": {
            "tags": [],
            "needs_background": "light"
          }
        }
      ]
    },
    {
      "cell_type": "code",
      "metadata": {
        "id": "ctmescLx9MjO",
        "colab": {
          "base_uri": "https://localhost:8080/",
          "height": 1000
        },
        "outputId": "f5d3ccf9-bf65-4b3f-b6d2-83e779a1716a"
      },
      "source": [
        "df = df.reset_index()\n",
        "df"
      ],
      "execution_count": 13,
      "outputs": [
        {
          "output_type": "execute_result",
          "data": {
            "text/html": [
              "<div>\n",
              "<style scoped>\n",
              "    .dataframe tbody tr th:only-of-type {\n",
              "        vertical-align: middle;\n",
              "    }\n",
              "\n",
              "    .dataframe tbody tr th {\n",
              "        vertical-align: top;\n",
              "    }\n",
              "\n",
              "    .dataframe thead th {\n",
              "        text-align: right;\n",
              "    }\n",
              "</style>\n",
              "<table border=\"1\" class=\"dataframe\">\n",
              "  <thead>\n",
              "    <tr style=\"text-align: right;\">\n",
              "      <th></th>\n",
              "      <th>index</th>\n",
              "      <th>daily_vaccinations</th>\n",
              "      <th>date</th>\n",
              "      <th>day</th>\n",
              "    </tr>\n",
              "  </thead>\n",
              "  <tbody>\n",
              "    <tr>\n",
              "      <th>0</th>\n",
              "      <td>579</td>\n",
              "      <td>4282.0</td>\n",
              "      <td>2021-01-13</td>\n",
              "      <td>0</td>\n",
              "    </tr>\n",
              "    <tr>\n",
              "      <th>1</th>\n",
              "      <td>580</td>\n",
              "      <td>7285.0</td>\n",
              "      <td>2021-01-14</td>\n",
              "      <td>1</td>\n",
              "    </tr>\n",
              "    <tr>\n",
              "      <th>2</th>\n",
              "      <td>581</td>\n",
              "      <td>10736.0</td>\n",
              "      <td>2021-01-15</td>\n",
              "      <td>2</td>\n",
              "    </tr>\n",
              "    <tr>\n",
              "      <th>3</th>\n",
              "      <td>582</td>\n",
              "      <td>14575.0</td>\n",
              "      <td>2021-01-16</td>\n",
              "      <td>3</td>\n",
              "    </tr>\n",
              "    <tr>\n",
              "      <th>4</th>\n",
              "      <td>583</td>\n",
              "      <td>18415.0</td>\n",
              "      <td>2021-01-17</td>\n",
              "      <td>4</td>\n",
              "    </tr>\n",
              "    <tr>\n",
              "      <th>5</th>\n",
              "      <td>584</td>\n",
              "      <td>22255.0</td>\n",
              "      <td>2021-01-18</td>\n",
              "      <td>5</td>\n",
              "    </tr>\n",
              "    <tr>\n",
              "      <th>6</th>\n",
              "      <td>585</td>\n",
              "      <td>27529.0</td>\n",
              "      <td>2021-01-19</td>\n",
              "      <td>6</td>\n",
              "    </tr>\n",
              "    <tr>\n",
              "      <th>7</th>\n",
              "      <td>586</td>\n",
              "      <td>28179.0</td>\n",
              "      <td>2021-01-20</td>\n",
              "      <td>7</td>\n",
              "    </tr>\n",
              "    <tr>\n",
              "      <th>8</th>\n",
              "      <td>587</td>\n",
              "      <td>56525.0</td>\n",
              "      <td>2021-01-21</td>\n",
              "      <td>8</td>\n",
              "    </tr>\n",
              "    <tr>\n",
              "      <th>9</th>\n",
              "      <td>588</td>\n",
              "      <td>58593.0</td>\n",
              "      <td>2021-01-22</td>\n",
              "      <td>9</td>\n",
              "    </tr>\n",
              "    <tr>\n",
              "      <th>10</th>\n",
              "      <td>589</td>\n",
              "      <td>57133.0</td>\n",
              "      <td>2021-01-23</td>\n",
              "      <td>10</td>\n",
              "    </tr>\n",
              "    <tr>\n",
              "      <th>11</th>\n",
              "      <td>590</td>\n",
              "      <td>55673.0</td>\n",
              "      <td>2021-01-24</td>\n",
              "      <td>11</td>\n",
              "    </tr>\n",
              "    <tr>\n",
              "      <th>12</th>\n",
              "      <td>591</td>\n",
              "      <td>54213.0</td>\n",
              "      <td>2021-01-25</td>\n",
              "      <td>12</td>\n",
              "    </tr>\n",
              "    <tr>\n",
              "      <th>13</th>\n",
              "      <td>592</td>\n",
              "      <td>52466.0</td>\n",
              "      <td>2021-01-26</td>\n",
              "      <td>13</td>\n",
              "    </tr>\n",
              "    <tr>\n",
              "      <th>14</th>\n",
              "      <td>593</td>\n",
              "      <td>57828.0</td>\n",
              "      <td>2021-01-27</td>\n",
              "      <td>14</td>\n",
              "    </tr>\n",
              "    <tr>\n",
              "      <th>15</th>\n",
              "      <td>594</td>\n",
              "      <td>29173.0</td>\n",
              "      <td>2021-01-28</td>\n",
              "      <td>15</td>\n",
              "    </tr>\n",
              "    <tr>\n",
              "      <th>16</th>\n",
              "      <td>595</td>\n",
              "      <td>26423.0</td>\n",
              "      <td>2021-01-29</td>\n",
              "      <td>16</td>\n",
              "    </tr>\n",
              "    <tr>\n",
              "      <th>17</th>\n",
              "      <td>596</td>\n",
              "      <td>25822.0</td>\n",
              "      <td>2021-01-30</td>\n",
              "      <td>17</td>\n",
              "    </tr>\n",
              "    <tr>\n",
              "      <th>18</th>\n",
              "      <td>597</td>\n",
              "      <td>25221.0</td>\n",
              "      <td>2021-01-31</td>\n",
              "      <td>18</td>\n",
              "    </tr>\n",
              "    <tr>\n",
              "      <th>19</th>\n",
              "      <td>598</td>\n",
              "      <td>24619.0</td>\n",
              "      <td>2021-02-01</td>\n",
              "      <td>19</td>\n",
              "    </tr>\n",
              "    <tr>\n",
              "      <th>20</th>\n",
              "      <td>599</td>\n",
              "      <td>22705.0</td>\n",
              "      <td>2021-02-02</td>\n",
              "      <td>20</td>\n",
              "    </tr>\n",
              "    <tr>\n",
              "      <th>21</th>\n",
              "      <td>600</td>\n",
              "      <td>15531.0</td>\n",
              "      <td>2021-02-03</td>\n",
              "      <td>21</td>\n",
              "    </tr>\n",
              "    <tr>\n",
              "      <th>22</th>\n",
              "      <td>601</td>\n",
              "      <td>14915.0</td>\n",
              "      <td>2021-02-04</td>\n",
              "      <td>22</td>\n",
              "    </tr>\n",
              "    <tr>\n",
              "      <th>23</th>\n",
              "      <td>602</td>\n",
              "      <td>14976.0</td>\n",
              "      <td>2021-02-05</td>\n",
              "      <td>23</td>\n",
              "    </tr>\n",
              "    <tr>\n",
              "      <th>24</th>\n",
              "      <td>603</td>\n",
              "      <td>15805.0</td>\n",
              "      <td>2021-02-06</td>\n",
              "      <td>24</td>\n",
              "    </tr>\n",
              "    <tr>\n",
              "      <th>25</th>\n",
              "      <td>604</td>\n",
              "      <td>16634.0</td>\n",
              "      <td>2021-02-07</td>\n",
              "      <td>25</td>\n",
              "    </tr>\n",
              "    <tr>\n",
              "      <th>26</th>\n",
              "      <td>605</td>\n",
              "      <td>17463.0</td>\n",
              "      <td>2021-02-08</td>\n",
              "      <td>26</td>\n",
              "    </tr>\n",
              "    <tr>\n",
              "      <th>27</th>\n",
              "      <td>606</td>\n",
              "      <td>19046.0</td>\n",
              "      <td>2021-02-09</td>\n",
              "      <td>27</td>\n",
              "    </tr>\n",
              "    <tr>\n",
              "      <th>28</th>\n",
              "      <td>607</td>\n",
              "      <td>22105.0</td>\n",
              "      <td>2021-02-10</td>\n",
              "      <td>28</td>\n",
              "    </tr>\n",
              "    <tr>\n",
              "      <th>29</th>\n",
              "      <td>608</td>\n",
              "      <td>24474.0</td>\n",
              "      <td>2021-02-11</td>\n",
              "      <td>29</td>\n",
              "    </tr>\n",
              "    <tr>\n",
              "      <th>30</th>\n",
              "      <td>609</td>\n",
              "      <td>25624.0</td>\n",
              "      <td>2021-02-12</td>\n",
              "      <td>30</td>\n",
              "    </tr>\n",
              "    <tr>\n",
              "      <th>31</th>\n",
              "      <td>610</td>\n",
              "      <td>25464.0</td>\n",
              "      <td>2021-02-13</td>\n",
              "      <td>31</td>\n",
              "    </tr>\n",
              "    <tr>\n",
              "      <th>32</th>\n",
              "      <td>611</td>\n",
              "      <td>25303.0</td>\n",
              "      <td>2021-02-14</td>\n",
              "      <td>32</td>\n",
              "    </tr>\n",
              "    <tr>\n",
              "      <th>33</th>\n",
              "      <td>612</td>\n",
              "      <td>25143.0</td>\n",
              "      <td>2021-02-15</td>\n",
              "      <td>33</td>\n",
              "    </tr>\n",
              "    <tr>\n",
              "      <th>34</th>\n",
              "      <td>613</td>\n",
              "      <td>26784.0</td>\n",
              "      <td>2021-02-16</td>\n",
              "      <td>34</td>\n",
              "    </tr>\n",
              "    <tr>\n",
              "      <th>35</th>\n",
              "      <td>614</td>\n",
              "      <td>25007.0</td>\n",
              "      <td>2021-02-17</td>\n",
              "      <td>35</td>\n",
              "    </tr>\n",
              "    <tr>\n",
              "      <th>36</th>\n",
              "      <td>615</td>\n",
              "      <td>23984.0</td>\n",
              "      <td>2021-02-18</td>\n",
              "      <td>36</td>\n",
              "    </tr>\n",
              "    <tr>\n",
              "      <th>37</th>\n",
              "      <td>616</td>\n",
              "      <td>25800.0</td>\n",
              "      <td>2021-02-19</td>\n",
              "      <td>37</td>\n",
              "    </tr>\n",
              "  </tbody>\n",
              "</table>\n",
              "</div>"
            ],
            "text/plain": [
              "    index  daily_vaccinations       date  day\n",
              "0     579              4282.0 2021-01-13    0\n",
              "1     580              7285.0 2021-01-14    1\n",
              "2     581             10736.0 2021-01-15    2\n",
              "3     582             14575.0 2021-01-16    3\n",
              "4     583             18415.0 2021-01-17    4\n",
              "5     584             22255.0 2021-01-18    5\n",
              "6     585             27529.0 2021-01-19    6\n",
              "7     586             28179.0 2021-01-20    7\n",
              "8     587             56525.0 2021-01-21    8\n",
              "9     588             58593.0 2021-01-22    9\n",
              "10    589             57133.0 2021-01-23   10\n",
              "11    590             55673.0 2021-01-24   11\n",
              "12    591             54213.0 2021-01-25   12\n",
              "13    592             52466.0 2021-01-26   13\n",
              "14    593             57828.0 2021-01-27   14\n",
              "15    594             29173.0 2021-01-28   15\n",
              "16    595             26423.0 2021-01-29   16\n",
              "17    596             25822.0 2021-01-30   17\n",
              "18    597             25221.0 2021-01-31   18\n",
              "19    598             24619.0 2021-02-01   19\n",
              "20    599             22705.0 2021-02-02   20\n",
              "21    600             15531.0 2021-02-03   21\n",
              "22    601             14915.0 2021-02-04   22\n",
              "23    602             14976.0 2021-02-05   23\n",
              "24    603             15805.0 2021-02-06   24\n",
              "25    604             16634.0 2021-02-07   25\n",
              "26    605             17463.0 2021-02-08   26\n",
              "27    606             19046.0 2021-02-09   27\n",
              "28    607             22105.0 2021-02-10   28\n",
              "29    608             24474.0 2021-02-11   29\n",
              "30    609             25624.0 2021-02-12   30\n",
              "31    610             25464.0 2021-02-13   31\n",
              "32    611             25303.0 2021-02-14   32\n",
              "33    612             25143.0 2021-02-15   33\n",
              "34    613             26784.0 2021-02-16   34\n",
              "35    614             25007.0 2021-02-17   35\n",
              "36    615             23984.0 2021-02-18   36\n",
              "37    616             25800.0 2021-02-19   37"
            ]
          },
          "metadata": {
            "tags": []
          },
          "execution_count": 13
        }
      ]
    },
    {
      "cell_type": "markdown",
      "metadata": {
        "id": "dGh8J16m-XQB"
      },
      "source": [
        "**Plotting Original Data vs Rolling Mean Plot**"
      ]
    },
    {
      "cell_type": "markdown",
      "metadata": {
        "id": "OdShD4mHAQlm"
      },
      "source": [
        "Create the Rolling Mean column"
      ]
    },
    {
      "cell_type": "code",
      "metadata": {
        "id": "FxS-Ncdf_Yie"
      },
      "source": [
        "df['rollingmean'] = df['daily_vaccinations'].rolling(window = 3).mean()"
      ],
      "execution_count": 14,
      "outputs": []
    },
    {
      "cell_type": "code",
      "metadata": {
        "id": "BXxsqfNiBEiL",
        "colab": {
          "base_uri": "https://localhost:8080/",
          "height": 204
        },
        "outputId": "c5c826b3-48ce-49e1-fe75-fef5bff0df94"
      },
      "source": [
        "df.head()"
      ],
      "execution_count": 15,
      "outputs": [
        {
          "output_type": "execute_result",
          "data": {
            "text/html": [
              "<div>\n",
              "<style scoped>\n",
              "    .dataframe tbody tr th:only-of-type {\n",
              "        vertical-align: middle;\n",
              "    }\n",
              "\n",
              "    .dataframe tbody tr th {\n",
              "        vertical-align: top;\n",
              "    }\n",
              "\n",
              "    .dataframe thead th {\n",
              "        text-align: right;\n",
              "    }\n",
              "</style>\n",
              "<table border=\"1\" class=\"dataframe\">\n",
              "  <thead>\n",
              "    <tr style=\"text-align: right;\">\n",
              "      <th></th>\n",
              "      <th>index</th>\n",
              "      <th>daily_vaccinations</th>\n",
              "      <th>date</th>\n",
              "      <th>day</th>\n",
              "      <th>rollingmean</th>\n",
              "    </tr>\n",
              "  </thead>\n",
              "  <tbody>\n",
              "    <tr>\n",
              "      <th>0</th>\n",
              "      <td>579</td>\n",
              "      <td>4282.0</td>\n",
              "      <td>2021-01-13</td>\n",
              "      <td>0</td>\n",
              "      <td>NaN</td>\n",
              "    </tr>\n",
              "    <tr>\n",
              "      <th>1</th>\n",
              "      <td>580</td>\n",
              "      <td>7285.0</td>\n",
              "      <td>2021-01-14</td>\n",
              "      <td>1</td>\n",
              "      <td>NaN</td>\n",
              "    </tr>\n",
              "    <tr>\n",
              "      <th>2</th>\n",
              "      <td>581</td>\n",
              "      <td>10736.0</td>\n",
              "      <td>2021-01-15</td>\n",
              "      <td>2</td>\n",
              "      <td>7434.333333</td>\n",
              "    </tr>\n",
              "    <tr>\n",
              "      <th>3</th>\n",
              "      <td>582</td>\n",
              "      <td>14575.0</td>\n",
              "      <td>2021-01-16</td>\n",
              "      <td>3</td>\n",
              "      <td>10865.333333</td>\n",
              "    </tr>\n",
              "    <tr>\n",
              "      <th>4</th>\n",
              "      <td>583</td>\n",
              "      <td>18415.0</td>\n",
              "      <td>2021-01-17</td>\n",
              "      <td>4</td>\n",
              "      <td>14575.333333</td>\n",
              "    </tr>\n",
              "  </tbody>\n",
              "</table>\n",
              "</div>"
            ],
            "text/plain": [
              "   index  daily_vaccinations       date  day   rollingmean\n",
              "0    579              4282.0 2021-01-13    0           NaN\n",
              "1    580              7285.0 2021-01-14    1           NaN\n",
              "2    581             10736.0 2021-01-15    2   7434.333333\n",
              "3    582             14575.0 2021-01-16    3  10865.333333\n",
              "4    583             18415.0 2021-01-17    4  14575.333333"
            ]
          },
          "metadata": {
            "tags": []
          },
          "execution_count": 15
        }
      ]
    },
    {
      "cell_type": "code",
      "metadata": {
        "id": "Aj17aMdX-JDe",
        "colab": {
          "base_uri": "https://localhost:8080/",
          "height": 353
        },
        "outputId": "e33cf9dc-3f8d-4a93-fb21-510e4cd60b2b"
      },
      "source": [
        "fig, axes = plt.subplots(nrows = 1, ncols = 2, figsize = (15,5))\n",
        "axes[0].plot('day', 'daily_vaccinations', data = df)\n",
        "axes[0].set_title('Original')\n",
        "axes[1].plot('day', 'rollingmean', data = df)\n",
        "axes[1].set_title('Smoothed (Rolling Mean)')"
      ],
      "execution_count": 16,
      "outputs": [
        {
          "output_type": "execute_result",
          "data": {
            "text/plain": [
              "Text(0.5, 1.0, 'Smoothed (Rolling Mean)')"
            ]
          },
          "metadata": {
            "tags": []
          },
          "execution_count": 16
        },
        {
          "output_type": "display_data",
          "data": {
            "image/png": "[encoded data removed]",
            "text/plain": [
              "<Figure size 1080x360 with 2 Axes>"
            ]
          },
          "metadata": {
            "tags": [],
            "needs_background": "light"
          }
        }
      ]
    },
    {
      "cell_type": "markdown",
      "metadata": {
        "id": "2SZdMSs_CWhq"
      },
      "source": [
        "**Combining the two plots on the same plot**"
      ]
    },
    {
      "cell_type": "code",
      "metadata": {
        "id": "no8o39wTAJf0",
        "colab": {
          "base_uri": "https://localhost:8080/",
          "height": 312
        },
        "outputId": "9a237a5c-557e-44d5-9cad-a6f554385bcb"
      },
      "source": [
        "fig = plt.figure();\n",
        "ax = fig.add_subplot(111)\n",
        "ax.plot(df['day'], df['rollingmean'], color = (0,0,0), linewidth = 4, alpha = .9, label = 'Smoothed')\n",
        "ax.plot(df['day'], df['daily_vaccinations'], color = (1,0,0), label = 'Original')\n",
        "ax.set_title('Original and Smoothed')\n",
        "ax.set_xlabel('day')\n",
        "ax.set_ylabel('daily vaccinations')\n",
        "ax.legend(loc='upper right')"
      ],
      "execution_count": 17,
      "outputs": [
        {
          "output_type": "execute_result",
          "data": {
            "text/plain": [
              "<matplotlib.legend.Legend at 0x7f5bc30989d0>"
            ]
          },
          "metadata": {
            "tags": []
          },
          "execution_count": 17
        },
        {
          "output_type": "display_data",
          "data": {
            "image/png": "[encoded data removed]",
            "text/plain": [
              "<Figure size 432x288 with 1 Axes>"
            ]
          },
          "metadata": {
            "tags": [],
            "needs_background": "light"
          }
        }
      ]
    },
    {
      "cell_type": "markdown",
      "metadata": {
        "id": "Itm-SnHbKIGw"
      },
      "source": [
        "## Choosing a subset of days and plotting ARIMA to make a prediction"
      ]
    },
    {
      "cell_type": "markdown",
      "metadata": {
        "id": "Ki27W23qKRtP"
      },
      "source": [
        "**Let's select day 22 to 37 of the dataset and make a prediction using linear regression**"
      ]
    },
    {
      "cell_type": "code",
      "metadata": {
        "id": "HBS6gwN6Dnag"
      },
      "source": [
        "filt_df = df[(df['day'] >= 22) & (df['day'] <= 37)]"
      ],
      "execution_count": 18,
      "outputs": []
    },
    {
      "cell_type": "code",
      "metadata": {
        "id": "mJVa-2VxHAMk",
        "colab": {
          "base_uri": "https://localhost:8080/",
          "height": 545
        },
        "outputId": "d5b4a181-9e6c-4f7d-e6c4-b5ce6012ff2b"
      },
      "source": [
        "filt_df"
      ],
      "execution_count": 19,
      "outputs": [
        {
          "output_type": "execute_result",
          "data": {
            "text/html": [
              "<div>\n",
              "<style scoped>\n",
              "    .dataframe tbody tr th:only-of-type {\n",
              "        vertical-align: middle;\n",
              "    }\n",
              "\n",
              "    .dataframe tbody tr th {\n",
              "        vertical-align: top;\n",
              "    }\n",
              "\n",
              "    .dataframe thead th {\n",
              "        text-align: right;\n",
              "    }\n",
              "</style>\n",
              "<table border=\"1\" class=\"dataframe\">\n",
              "  <thead>\n",
              "    <tr style=\"text-align: right;\">\n",
              "      <th></th>\n",
              "      <th>index</th>\n",
              "      <th>daily_vaccinations</th>\n",
              "      <th>date</th>\n",
              "      <th>day</th>\n",
              "      <th>rollingmean</th>\n",
              "    </tr>\n",
              "  </thead>\n",
              "  <tbody>\n",
              "    <tr>\n",
              "      <th>22</th>\n",
              "      <td>601</td>\n",
              "      <td>14915.0</td>\n",
              "      <td>2021-02-04</td>\n",
              "      <td>22</td>\n",
              "      <td>17717.000000</td>\n",
              "    </tr>\n",
              "    <tr>\n",
              "      <th>23</th>\n",
              "      <td>602</td>\n",
              "      <td>14976.0</td>\n",
              "      <td>2021-02-05</td>\n",
              "      <td>23</td>\n",
              "      <td>15140.666667</td>\n",
              "    </tr>\n",
              "    <tr>\n",
              "      <th>24</th>\n",
              "      <td>603</td>\n",
              "      <td>15805.0</td>\n",
              "      <td>2021-02-06</td>\n",
              "      <td>24</td>\n",
              "      <td>15232.000000</td>\n",
              "    </tr>\n",
              "    <tr>\n",
              "      <th>25</th>\n",
              "      <td>604</td>\n",
              "      <td>16634.0</td>\n",
              "      <td>2021-02-07</td>\n",
              "      <td>25</td>\n",
              "      <td>15805.000000</td>\n",
              "    </tr>\n",
              "    <tr>\n",
              "      <th>26</th>\n",
              "      <td>605</td>\n",
              "      <td>17463.0</td>\n",
              "      <td>2021-02-08</td>\n",
              "      <td>26</td>\n",
              "      <td>16634.000000</td>\n",
              "    </tr>\n",
              "    <tr>\n",
              "      <th>27</th>\n",
              "      <td>606</td>\n",
              "      <td>19046.0</td>\n",
              "      <td>2021-02-09</td>\n",
              "      <td>27</td>\n",
              "      <td>17714.333333</td>\n",
              "    </tr>\n",
              "    <tr>\n",
              "      <th>28</th>\n",
              "      <td>607</td>\n",
              "      <td>22105.0</td>\n",
              "      <td>2021-02-10</td>\n",
              "      <td>28</td>\n",
              "      <td>19538.000000</td>\n",
              "    </tr>\n",
              "    <tr>\n",
              "      <th>29</th>\n",
              "      <td>608</td>\n",
              "      <td>24474.0</td>\n",
              "      <td>2021-02-11</td>\n",
              "      <td>29</td>\n",
              "      <td>21875.000000</td>\n",
              "    </tr>\n",
              "    <tr>\n",
              "      <th>30</th>\n",
              "      <td>609</td>\n",
              "      <td>25624.0</td>\n",
              "      <td>2021-02-12</td>\n",
              "      <td>30</td>\n",
              "      <td>24067.666667</td>\n",
              "    </tr>\n",
              "    <tr>\n",
              "      <th>31</th>\n",
              "      <td>610</td>\n",
              "      <td>25464.0</td>\n",
              "      <td>2021-02-13</td>\n",
              "      <td>31</td>\n",
              "      <td>25187.333333</td>\n",
              "    </tr>\n",
              "    <tr>\n",
              "      <th>32</th>\n",
              "      <td>611</td>\n",
              "      <td>25303.0</td>\n",
              "      <td>2021-02-14</td>\n",
              "      <td>32</td>\n",
              "      <td>25463.666667</td>\n",
              "    </tr>\n",
              "    <tr>\n",
              "      <th>33</th>\n",
              "      <td>612</td>\n",
              "      <td>25143.0</td>\n",
              "      <td>2021-02-15</td>\n",
              "      <td>33</td>\n",
              "      <td>25303.333333</td>\n",
              "    </tr>\n",
              "    <tr>\n",
              "      <th>34</th>\n",
              "      <td>613</td>\n",
              "      <td>26784.0</td>\n",
              "      <td>2021-02-16</td>\n",
              "      <td>34</td>\n",
              "      <td>25743.333333</td>\n",
              "    </tr>\n",
              "    <tr>\n",
              "      <th>35</th>\n",
              "      <td>614</td>\n",
              "      <td>25007.0</td>\n",
              "      <td>2021-02-17</td>\n",
              "      <td>35</td>\n",
              "      <td>25644.666667</td>\n",
              "    </tr>\n",
              "    <tr>\n",
              "      <th>36</th>\n",
              "      <td>615</td>\n",
              "      <td>23984.0</td>\n",
              "      <td>2021-02-18</td>\n",
              "      <td>36</td>\n",
              "      <td>25258.333333</td>\n",
              "    </tr>\n",
              "    <tr>\n",
              "      <th>37</th>\n",
              "      <td>616</td>\n",
              "      <td>25800.0</td>\n",
              "      <td>2021-02-19</td>\n",
              "      <td>37</td>\n",
              "      <td>24930.333333</td>\n",
              "    </tr>\n",
              "  </tbody>\n",
              "</table>\n",
              "</div>"
            ],
            "text/plain": [
              "    index  daily_vaccinations       date  day   rollingmean\n",
              "22    601             14915.0 2021-02-04   22  17717.000000\n",
              "23    602             14976.0 2021-02-05   23  15140.666667\n",
              "24    603             15805.0 2021-02-06   24  15232.000000\n",
              "25    604             16634.0 2021-02-07   25  15805.000000\n",
              "26    605             17463.0 2021-02-08   26  16634.000000\n",
              "27    606             19046.0 2021-02-09   27  17714.333333\n",
              "28    607             22105.0 2021-02-10   28  19538.000000\n",
              "29    608             24474.0 2021-02-11   29  21875.000000\n",
              "30    609             25624.0 2021-02-12   30  24067.666667\n",
              "31    610             25464.0 2021-02-13   31  25187.333333\n",
              "32    611             25303.0 2021-02-14   32  25463.666667\n",
              "33    612             25143.0 2021-02-15   33  25303.333333\n",
              "34    613             26784.0 2021-02-16   34  25743.333333\n",
              "35    614             25007.0 2021-02-17   35  25644.666667\n",
              "36    615             23984.0 2021-02-18   36  25258.333333\n",
              "37    616             25800.0 2021-02-19   37  24930.333333"
            ]
          },
          "metadata": {
            "tags": []
          },
          "execution_count": 19
        }
      ]
    },
    {
      "cell_type": "markdown",
      "metadata": {
        "id": "xMXjRxCkZXBr"
      },
      "source": [
        "Let's run a Dickey-Fuller test on this subset of dates to test stationarity first."
      ]
    },
    {
      "cell_type": "code",
      "metadata": {
        "colab": {
          "base_uri": "https://localhost:8080/",
          "height": 434
        },
        "id": "cWFhmPGJSkor",
        "outputId": "3a01f866-f81a-4c76-e8d8-3a094ca2ff13"
      },
      "source": [
        "from statsmodels.tsa.stattools import adfuller\n",
        "def test_stationarity(filt_df):\n",
        "  rolmean = filt_df['daily_vaccinations'].rolling(window=3).mean()\n",
        "  rolstd = filt_df['daily_vaccinations'].rolling(window=3).std()\n",
        "  orig = plt.plot(filt_df['daily_vaccinations'], color='blue',label='Original')\n",
        "  mean = plt.plot(rolmean, color='red', label='Rolling Mean')\n",
        "  std = plt.plot(rolstd, color='black', label = 'Rolling Std')\n",
        "  plt.legend(loc='best')\n",
        "  plt.title('Rolling Mean & Standard Deviation')\n",
        "  plt.show(block=False)\n",
        "  print('Results of Dickey-Fuller Test:')\n",
        "  dftest = adfuller(filt_df['daily_vaccinations'], autolag='AIC')\n",
        "  dfoutput = pd.Series(dftest[0:4], index=['Test Statistic','p-value','#Lags Used','Number of Observations Used'])\n",
        "  for key,value in dftest[4].items():\n",
        "    dfoutput['Critical Value (%s)'%key] = value\n",
        "  return dfoutput\n",
        "\n",
        "test_stationarity(filt_df)"
      ],
      "execution_count": 20,
      "outputs": [
        {
          "output_type": "display_data",
          "data": {
            "image/png": "[encoded data removed]",
            "text/plain": [
              "<Figure size 432x288 with 1 Axes>"
            ]
          },
          "metadata": {
            "tags": [],
            "needs_background": "light"
          }
        },
        {
          "output_type": "stream",
          "text": [
            "Results of Dickey-Fuller Test:\n"
          ],
          "name": "stdout"
        },
        {
          "output_type": "execute_result",
          "data": {
            "text/plain": [
              "Test Statistic                -3.369764\n",
              "p-value                        0.012034\n",
              "#Lags Used                     6.000000\n",
              "Number of Observations Used    9.000000\n",
              "Critical Value (1%)           -4.473135\n",
              "Critical Value (5%)           -3.289881\n",
              "Critical Value (10%)          -2.772382\n",
              "dtype: float64"
            ]
          },
          "metadata": {
            "tags": []
          },
          "execution_count": 20
        }
      ]
    },
    {
      "cell_type": "markdown",
      "metadata": {
        "id": "8M8BHcI6Zr1f"
      },
      "source": [
        "With a p-value of below 5%, we have confidence in the stationarity for this subset of dates."
      ]
    },
    {
      "cell_type": "markdown",
      "metadata": {
        "id": "DnFeWZPbz7n-"
      },
      "source": [
        "**Plotting ARIMA**"
      ]
    },
    {
      "cell_type": "code",
      "metadata": {
        "id": "LpwH73NZ3zBZ",
        "outputId": "bc584cf4-4a5f-4284-f9aa-3a46e4635a5e",
        "colab": {
          "base_uri": "https://localhost:8080/",
          "height": 545
        }
      },
      "source": [
        "filt_df"
      ],
      "execution_count": 21,
      "outputs": [
        {
          "output_type": "execute_result",
          "data": {
            "text/html": [
              "<div>\n",
              "<style scoped>\n",
              "    .dataframe tbody tr th:only-of-type {\n",
              "        vertical-align: middle;\n",
              "    }\n",
              "\n",
              "    .dataframe tbody tr th {\n",
              "        vertical-align: top;\n",
              "    }\n",
              "\n",
              "    .dataframe thead th {\n",
              "        text-align: right;\n",
              "    }\n",
              "</style>\n",
              "<table border=\"1\" class=\"dataframe\">\n",
              "  <thead>\n",
              "    <tr style=\"text-align: right;\">\n",
              "      <th></th>\n",
              "      <th>index</th>\n",
              "      <th>daily_vaccinations</th>\n",
              "      <th>date</th>\n",
              "      <th>day</th>\n",
              "      <th>rollingmean</th>\n",
              "    </tr>\n",
              "  </thead>\n",
              "  <tbody>\n",
              "    <tr>\n",
              "      <th>22</th>\n",
              "      <td>601</td>\n",
              "      <td>14915.0</td>\n",
              "      <td>2021-02-04</td>\n",
              "      <td>22</td>\n",
              "      <td>17717.000000</td>\n",
              "    </tr>\n",
              "    <tr>\n",
              "      <th>23</th>\n",
              "      <td>602</td>\n",
              "      <td>14976.0</td>\n",
              "      <td>2021-02-05</td>\n",
              "      <td>23</td>\n",
              "      <td>15140.666667</td>\n",
              "    </tr>\n",
              "    <tr>\n",
              "      <th>24</th>\n",
              "      <td>603</td>\n",
              "      <td>15805.0</td>\n",
              "      <td>2021-02-06</td>\n",
              "      <td>24</td>\n",
              "      <td>15232.000000</td>\n",
              "    </tr>\n",
              "    <tr>\n",
              "      <th>25</th>\n",
              "      <td>604</td>\n",
              "      <td>16634.0</td>\n",
              "      <td>2021-02-07</td>\n",
              "      <td>25</td>\n",
              "      <td>15805.000000</td>\n",
              "    </tr>\n",
              "    <tr>\n",
              "      <th>26</th>\n",
              "      <td>605</td>\n",
              "      <td>17463.0</td>\n",
              "      <td>2021-02-08</td>\n",
              "      <td>26</td>\n",
              "      <td>16634.000000</td>\n",
              "    </tr>\n",
              "    <tr>\n",
              "      <th>27</th>\n",
              "      <td>606</td>\n",
              "      <td>19046.0</td>\n",
              "      <td>2021-02-09</td>\n",
              "      <td>27</td>\n",
              "      <td>17714.333333</td>\n",
              "    </tr>\n",
              "    <tr>\n",
              "      <th>28</th>\n",
              "      <td>607</td>\n",
              "      <td>22105.0</td>\n",
              "      <td>2021-02-10</td>\n",
              "      <td>28</td>\n",
              "      <td>19538.000000</td>\n",
              "    </tr>\n",
              "    <tr>\n",
              "      <th>29</th>\n",
              "      <td>608</td>\n",
              "      <td>24474.0</td>\n",
              "      <td>2021-02-11</td>\n",
              "      <td>29</td>\n",
              "      <td>21875.000000</td>\n",
              "    </tr>\n",
              "    <tr>\n",
              "      <th>30</th>\n",
              "      <td>609</td>\n",
              "      <td>25624.0</td>\n",
              "      <td>2021-02-12</td>\n",
              "      <td>30</td>\n",
              "      <td>24067.666667</td>\n",
              "    </tr>\n",
              "    <tr>\n",
              "      <th>31</th>\n",
              "      <td>610</td>\n",
              "      <td>25464.0</td>\n",
              "      <td>2021-02-13</td>\n",
              "      <td>31</td>\n",
              "      <td>25187.333333</td>\n",
              "    </tr>\n",
              "    <tr>\n",
              "      <th>32</th>\n",
              "      <td>611</td>\n",
              "      <td>25303.0</td>\n",
              "      <td>2021-02-14</td>\n",
              "      <td>32</td>\n",
              "      <td>25463.666667</td>\n",
              "    </tr>\n",
              "    <tr>\n",
              "      <th>33</th>\n",
              "      <td>612</td>\n",
              "      <td>25143.0</td>\n",
              "      <td>2021-02-15</td>\n",
              "      <td>33</td>\n",
              "      <td>25303.333333</td>\n",
              "    </tr>\n",
              "    <tr>\n",
              "      <th>34</th>\n",
              "      <td>613</td>\n",
              "      <td>26784.0</td>\n",
              "      <td>2021-02-16</td>\n",
              "      <td>34</td>\n",
              "      <td>25743.333333</td>\n",
              "    </tr>\n",
              "    <tr>\n",
              "      <th>35</th>\n",
              "      <td>614</td>\n",
              "      <td>25007.0</td>\n",
              "      <td>2021-02-17</td>\n",
              "      <td>35</td>\n",
              "      <td>25644.666667</td>\n",
              "    </tr>\n",
              "    <tr>\n",
              "      <th>36</th>\n",
              "      <td>615</td>\n",
              "      <td>23984.0</td>\n",
              "      <td>2021-02-18</td>\n",
              "      <td>36</td>\n",
              "      <td>25258.333333</td>\n",
              "    </tr>\n",
              "    <tr>\n",
              "      <th>37</th>\n",
              "      <td>616</td>\n",
              "      <td>25800.0</td>\n",
              "      <td>2021-02-19</td>\n",
              "      <td>37</td>\n",
              "      <td>24930.333333</td>\n",
              "    </tr>\n",
              "  </tbody>\n",
              "</table>\n",
              "</div>"
            ],
            "text/plain": [
              "    index  daily_vaccinations       date  day   rollingmean\n",
              "22    601             14915.0 2021-02-04   22  17717.000000\n",
              "23    602             14976.0 2021-02-05   23  15140.666667\n",
              "24    603             15805.0 2021-02-06   24  15232.000000\n",
              "25    604             16634.0 2021-02-07   25  15805.000000\n",
              "26    605             17463.0 2021-02-08   26  16634.000000\n",
              "27    606             19046.0 2021-02-09   27  17714.333333\n",
              "28    607             22105.0 2021-02-10   28  19538.000000\n",
              "29    608             24474.0 2021-02-11   29  21875.000000\n",
              "30    609             25624.0 2021-02-12   30  24067.666667\n",
              "31    610             25464.0 2021-02-13   31  25187.333333\n",
              "32    611             25303.0 2021-02-14   32  25463.666667\n",
              "33    612             25143.0 2021-02-15   33  25303.333333\n",
              "34    613             26784.0 2021-02-16   34  25743.333333\n",
              "35    614             25007.0 2021-02-17   35  25644.666667\n",
              "36    615             23984.0 2021-02-18   36  25258.333333\n",
              "37    616             25800.0 2021-02-19   37  24930.333333"
            ]
          },
          "metadata": {
            "tags": []
          },
          "execution_count": 21
        }
      ]
    },
    {
      "cell_type": "code",
      "metadata": {
        "id": "aROCDZzh35cZ"
      },
      "source": [
        "dfdf= filt_df[['date', 'daily_vaccinations']].copy()"
      ],
      "execution_count": 55,
      "outputs": []
    },
    {
      "cell_type": "code",
      "metadata": {
        "id": "1YXo6sAm6M5e",
        "outputId": "9d7f25a9-ae2e-4033-ea7f-0b833ec37e66",
        "colab": {
          "base_uri": "https://localhost:8080/",
          "height": 545
        }
      },
      "source": [
        "dfdf"
      ],
      "execution_count": 56,
      "outputs": [
        {
          "output_type": "execute_result",
          "data": {
            "text/html": [
              "<div>\n",
              "<style scoped>\n",
              "    .dataframe tbody tr th:only-of-type {\n",
              "        vertical-align: middle;\n",
              "    }\n",
              "\n",
              "    .dataframe tbody tr th {\n",
              "        vertical-align: top;\n",
              "    }\n",
              "\n",
              "    .dataframe thead th {\n",
              "        text-align: right;\n",
              "    }\n",
              "</style>\n",
              "<table border=\"1\" class=\"dataframe\">\n",
              "  <thead>\n",
              "    <tr style=\"text-align: right;\">\n",
              "      <th></th>\n",
              "      <th>date</th>\n",
              "      <th>daily_vaccinations</th>\n",
              "    </tr>\n",
              "  </thead>\n",
              "  <tbody>\n",
              "    <tr>\n",
              "      <th>22</th>\n",
              "      <td>2021-02-04</td>\n",
              "      <td>14915.0</td>\n",
              "    </tr>\n",
              "    <tr>\n",
              "      <th>23</th>\n",
              "      <td>2021-02-05</td>\n",
              "      <td>14976.0</td>\n",
              "    </tr>\n",
              "    <tr>\n",
              "      <th>24</th>\n",
              "      <td>2021-02-06</td>\n",
              "      <td>15805.0</td>\n",
              "    </tr>\n",
              "    <tr>\n",
              "      <th>25</th>\n",
              "      <td>2021-02-07</td>\n",
              "      <td>16634.0</td>\n",
              "    </tr>\n",
              "    <tr>\n",
              "      <th>26</th>\n",
              "      <td>2021-02-08</td>\n",
              "      <td>17463.0</td>\n",
              "    </tr>\n",
              "    <tr>\n",
              "      <th>27</th>\n",
              "      <td>2021-02-09</td>\n",
              "      <td>19046.0</td>\n",
              "    </tr>\n",
              "    <tr>\n",
              "      <th>28</th>\n",
              "      <td>2021-02-10</td>\n",
              "      <td>22105.0</td>\n",
              "    </tr>\n",
              "    <tr>\n",
              "      <th>29</th>\n",
              "      <td>2021-02-11</td>\n",
              "      <td>24474.0</td>\n",
              "    </tr>\n",
              "    <tr>\n",
              "      <th>30</th>\n",
              "      <td>2021-02-12</td>\n",
              "      <td>25624.0</td>\n",
              "    </tr>\n",
              "    <tr>\n",
              "      <th>31</th>\n",
              "      <td>2021-02-13</td>\n",
              "      <td>25464.0</td>\n",
              "    </tr>\n",
              "    <tr>\n",
              "      <th>32</th>\n",
              "      <td>2021-02-14</td>\n",
              "      <td>25303.0</td>\n",
              "    </tr>\n",
              "    <tr>\n",
              "      <th>33</th>\n",
              "      <td>2021-02-15</td>\n",
              "      <td>25143.0</td>\n",
              "    </tr>\n",
              "    <tr>\n",
              "      <th>34</th>\n",
              "      <td>2021-02-16</td>\n",
              "      <td>26784.0</td>\n",
              "    </tr>\n",
              "    <tr>\n",
              "      <th>35</th>\n",
              "      <td>2021-02-17</td>\n",
              "      <td>25007.0</td>\n",
              "    </tr>\n",
              "    <tr>\n",
              "      <th>36</th>\n",
              "      <td>2021-02-18</td>\n",
              "      <td>23984.0</td>\n",
              "    </tr>\n",
              "    <tr>\n",
              "      <th>37</th>\n",
              "      <td>2021-02-19</td>\n",
              "      <td>25800.0</td>\n",
              "    </tr>\n",
              "  </tbody>\n",
              "</table>\n",
              "</div>"
            ],
            "text/plain": [
              "         date  daily_vaccinations\n",
              "22 2021-02-04             14915.0\n",
              "23 2021-02-05             14976.0\n",
              "24 2021-02-06             15805.0\n",
              "25 2021-02-07             16634.0\n",
              "26 2021-02-08             17463.0\n",
              "27 2021-02-09             19046.0\n",
              "28 2021-02-10             22105.0\n",
              "29 2021-02-11             24474.0\n",
              "30 2021-02-12             25624.0\n",
              "31 2021-02-13             25464.0\n",
              "32 2021-02-14             25303.0\n",
              "33 2021-02-15             25143.0\n",
              "34 2021-02-16             26784.0\n",
              "35 2021-02-17             25007.0\n",
              "36 2021-02-18             23984.0\n",
              "37 2021-02-19             25800.0"
            ]
          },
          "metadata": {
            "tags": []
          },
          "execution_count": 56
        }
      ]
    },
    {
      "cell_type": "code",
      "metadata": {
        "id": "aSsCRkm-4xa3",
        "outputId": "c402cb74-971b-4e7f-9bc1-5d2a712532f9",
        "colab": {
          "base_uri": "https://localhost:8080/"
        }
      },
      "source": [
        "dfdf.dtypes"
      ],
      "execution_count": 57,
      "outputs": [
        {
          "output_type": "execute_result",
          "data": {
            "text/plain": [
              "date                  datetime64[ns]\n",
              "daily_vaccinations           float64\n",
              "dtype: object"
            ]
          },
          "metadata": {
            "tags": []
          },
          "execution_count": 57
        }
      ]
    },
    {
      "cell_type": "code",
      "metadata": {
        "id": "S1CsyEDx86eZ"
      },
      "source": [
        "dfdf = dfdf.dropna(how='any')"
      ],
      "execution_count": 58,
      "outputs": []
    },
    {
      "cell_type": "code",
      "metadata": {
        "id": "1KGPuu3s-Ysq"
      },
      "source": [
        "dfdf = dfdf.set_index('date')"
      ],
      "execution_count": 60,
      "outputs": []
    },
    {
      "cell_type": "code",
      "metadata": {
        "id": "4axfvYfL-f2Z",
        "outputId": "f8332fe2-079f-4036-c131-b2057b398153",
        "colab": {
          "base_uri": "https://localhost:8080/",
          "height": 576
        }
      },
      "source": [
        "dfdf"
      ],
      "execution_count": 61,
      "outputs": [
        {
          "output_type": "execute_result",
          "data": {
            "text/html": [
              "<div>\n",
              "<style scoped>\n",
              "    .dataframe tbody tr th:only-of-type {\n",
              "        vertical-align: middle;\n",
              "    }\n",
              "\n",
              "    .dataframe tbody tr th {\n",
              "        vertical-align: top;\n",
              "    }\n",
              "\n",
              "    .dataframe thead th {\n",
              "        text-align: right;\n",
              "    }\n",
              "</style>\n",
              "<table border=\"1\" class=\"dataframe\">\n",
              "  <thead>\n",
              "    <tr style=\"text-align: right;\">\n",
              "      <th></th>\n",
              "      <th>daily_vaccinations</th>\n",
              "    </tr>\n",
              "    <tr>\n",
              "      <th>date</th>\n",
              "      <th></th>\n",
              "    </tr>\n",
              "  </thead>\n",
              "  <tbody>\n",
              "    <tr>\n",
              "      <th>2021-02-04</th>\n",
              "      <td>14915.0</td>\n",
              "    </tr>\n",
              "    <tr>\n",
              "      <th>2021-02-05</th>\n",
              "      <td>14976.0</td>\n",
              "    </tr>\n",
              "    <tr>\n",
              "      <th>2021-02-06</th>\n",
              "      <td>15805.0</td>\n",
              "    </tr>\n",
              "    <tr>\n",
              "      <th>2021-02-07</th>\n",
              "      <td>16634.0</td>\n",
              "    </tr>\n",
              "    <tr>\n",
              "      <th>2021-02-08</th>\n",
              "      <td>17463.0</td>\n",
              "    </tr>\n",
              "    <tr>\n",
              "      <th>2021-02-09</th>\n",
              "      <td>19046.0</td>\n",
              "    </tr>\n",
              "    <tr>\n",
              "      <th>2021-02-10</th>\n",
              "      <td>22105.0</td>\n",
              "    </tr>\n",
              "    <tr>\n",
              "      <th>2021-02-11</th>\n",
              "      <td>24474.0</td>\n",
              "    </tr>\n",
              "    <tr>\n",
              "      <th>2021-02-12</th>\n",
              "      <td>25624.0</td>\n",
              "    </tr>\n",
              "    <tr>\n",
              "      <th>2021-02-13</th>\n",
              "      <td>25464.0</td>\n",
              "    </tr>\n",
              "    <tr>\n",
              "      <th>2021-02-14</th>\n",
              "      <td>25303.0</td>\n",
              "    </tr>\n",
              "    <tr>\n",
              "      <th>2021-02-15</th>\n",
              "      <td>25143.0</td>\n",
              "    </tr>\n",
              "    <tr>\n",
              "      <th>2021-02-16</th>\n",
              "      <td>26784.0</td>\n",
              "    </tr>\n",
              "    <tr>\n",
              "      <th>2021-02-17</th>\n",
              "      <td>25007.0</td>\n",
              "    </tr>\n",
              "    <tr>\n",
              "      <th>2021-02-18</th>\n",
              "      <td>23984.0</td>\n",
              "    </tr>\n",
              "    <tr>\n",
              "      <th>2021-02-19</th>\n",
              "      <td>25800.0</td>\n",
              "    </tr>\n",
              "  </tbody>\n",
              "</table>\n",
              "</div>"
            ],
            "text/plain": [
              "            daily_vaccinations\n",
              "date                          \n",
              "2021-02-04             14915.0\n",
              "2021-02-05             14976.0\n",
              "2021-02-06             15805.0\n",
              "2021-02-07             16634.0\n",
              "2021-02-08             17463.0\n",
              "2021-02-09             19046.0\n",
              "2021-02-10             22105.0\n",
              "2021-02-11             24474.0\n",
              "2021-02-12             25624.0\n",
              "2021-02-13             25464.0\n",
              "2021-02-14             25303.0\n",
              "2021-02-15             25143.0\n",
              "2021-02-16             26784.0\n",
              "2021-02-17             25007.0\n",
              "2021-02-18             23984.0\n",
              "2021-02-19             25800.0"
            ]
          },
          "metadata": {
            "tags": []
          },
          "execution_count": 61
        }
      ]
    },
    {
      "cell_type": "code",
      "metadata": {
        "id": "cPhjqmxe-u2D",
        "outputId": "23d32697-4ca1-4297-d102-ac6856269943",
        "colab": {
          "base_uri": "https://localhost:8080/"
        }
      },
      "source": [
        "dfdf.dtypes"
      ],
      "execution_count": 62,
      "outputs": [
        {
          "output_type": "execute_result",
          "data": {
            "text/plain": [
              "daily_vaccinations    float64\n",
              "dtype: object"
            ]
          },
          "metadata": {
            "tags": []
          },
          "execution_count": 62
        }
      ]
    },
    {
      "cell_type": "code",
      "metadata": {
        "id": "KR6ooVEWAO86"
      },
      "source": [
        "dfdf=dfdf.astype(int)"
      ],
      "execution_count": 63,
      "outputs": []
    },
    {
      "cell_type": "code",
      "metadata": {
        "id": "jruQOMjrASk4",
        "outputId": "eedda6d0-6e8c-4851-9a57-79ad4fec18d9",
        "colab": {
          "base_uri": "https://localhost:8080/",
          "height": 576
        }
      },
      "source": [
        "dfdf"
      ],
      "execution_count": 64,
      "outputs": [
        {
          "output_type": "execute_result",
          "data": {
            "text/html": [
              "<div>\n",
              "<style scoped>\n",
              "    .dataframe tbody tr th:only-of-type {\n",
              "        vertical-align: middle;\n",
              "    }\n",
              "\n",
              "    .dataframe tbody tr th {\n",
              "        vertical-align: top;\n",
              "    }\n",
              "\n",
              "    .dataframe thead th {\n",
              "        text-align: right;\n",
              "    }\n",
              "</style>\n",
              "<table border=\"1\" class=\"dataframe\">\n",
              "  <thead>\n",
              "    <tr style=\"text-align: right;\">\n",
              "      <th></th>\n",
              "      <th>daily_vaccinations</th>\n",
              "    </tr>\n",
              "    <tr>\n",
              "      <th>date</th>\n",
              "      <th></th>\n",
              "    </tr>\n",
              "  </thead>\n",
              "  <tbody>\n",
              "    <tr>\n",
              "      <th>2021-02-04</th>\n",
              "      <td>14915</td>\n",
              "    </tr>\n",
              "    <tr>\n",
              "      <th>2021-02-05</th>\n",
              "      <td>14976</td>\n",
              "    </tr>\n",
              "    <tr>\n",
              "      <th>2021-02-06</th>\n",
              "      <td>15805</td>\n",
              "    </tr>\n",
              "    <tr>\n",
              "      <th>2021-02-07</th>\n",
              "      <td>16634</td>\n",
              "    </tr>\n",
              "    <tr>\n",
              "      <th>2021-02-08</th>\n",
              "      <td>17463</td>\n",
              "    </tr>\n",
              "    <tr>\n",
              "      <th>2021-02-09</th>\n",
              "      <td>19046</td>\n",
              "    </tr>\n",
              "    <tr>\n",
              "      <th>2021-02-10</th>\n",
              "      <td>22105</td>\n",
              "    </tr>\n",
              "    <tr>\n",
              "      <th>2021-02-11</th>\n",
              "      <td>24474</td>\n",
              "    </tr>\n",
              "    <tr>\n",
              "      <th>2021-02-12</th>\n",
              "      <td>25624</td>\n",
              "    </tr>\n",
              "    <tr>\n",
              "      <th>2021-02-13</th>\n",
              "      <td>25464</td>\n",
              "    </tr>\n",
              "    <tr>\n",
              "      <th>2021-02-14</th>\n",
              "      <td>25303</td>\n",
              "    </tr>\n",
              "    <tr>\n",
              "      <th>2021-02-15</th>\n",
              "      <td>25143</td>\n",
              "    </tr>\n",
              "    <tr>\n",
              "      <th>2021-02-16</th>\n",
              "      <td>26784</td>\n",
              "    </tr>\n",
              "    <tr>\n",
              "      <th>2021-02-17</th>\n",
              "      <td>25007</td>\n",
              "    </tr>\n",
              "    <tr>\n",
              "      <th>2021-02-18</th>\n",
              "      <td>23984</td>\n",
              "    </tr>\n",
              "    <tr>\n",
              "      <th>2021-02-19</th>\n",
              "      <td>25800</td>\n",
              "    </tr>\n",
              "  </tbody>\n",
              "</table>\n",
              "</div>"
            ],
            "text/plain": [
              "            daily_vaccinations\n",
              "date                          \n",
              "2021-02-04               14915\n",
              "2021-02-05               14976\n",
              "2021-02-06               15805\n",
              "2021-02-07               16634\n",
              "2021-02-08               17463\n",
              "2021-02-09               19046\n",
              "2021-02-10               22105\n",
              "2021-02-11               24474\n",
              "2021-02-12               25624\n",
              "2021-02-13               25464\n",
              "2021-02-14               25303\n",
              "2021-02-15               25143\n",
              "2021-02-16               26784\n",
              "2021-02-17               25007\n",
              "2021-02-18               23984\n",
              "2021-02-19               25800"
            ]
          },
          "metadata": {
            "tags": []
          },
          "execution_count": 64
        }
      ]
    },
    {
      "cell_type": "code",
      "metadata": {
        "id": "fK7hCRdZRmDY",
        "outputId": "57796205-16eb-4534-8631-84e8090261a3",
        "colab": {
          "base_uri": "https://localhost:8080/"
        }
      },
      "source": [
        "pip install pmdarima"
      ],
      "execution_count": 31,
      "outputs": [
        {
          "output_type": "stream",
          "text": [
            "Requirement already satisfied: pmdarima in /usr/local/lib/python3.7/dist-packages (1.8.2)\n",
            "Requirement already satisfied: numpy~=1.19.0 in /usr/local/lib/python3.7/dist-packages (from pmdarima) (1.19.5)\n",
            "Requirement already satisfied: pandas>=0.19 in /usr/local/lib/python3.7/dist-packages (from pmdarima) (1.1.5)\n",
            "Requirement already satisfied: scikit-learn>=0.22 in /usr/local/lib/python3.7/dist-packages (from pmdarima) (0.22.2.post1)\n",
            "Requirement already satisfied: setuptools!=50.0.0,>=38.6.0 in /usr/local/lib/python3.7/dist-packages (from pmdarima) (56.0.0)\n",
            "Requirement already satisfied: joblib>=0.11 in /usr/local/lib/python3.7/dist-packages (from pmdarima) (1.0.1)\n",
            "Requirement already satisfied: Cython!=0.29.18,>=0.29 in /usr/local/lib/python3.7/dist-packages (from pmdarima) (0.29.22)\n",
            "Requirement already satisfied: scipy>=1.3.2 in /usr/local/lib/python3.7/dist-packages (from pmdarima) (1.4.1)\n",
            "Requirement already satisfied: urllib3 in /usr/local/lib/python3.7/dist-packages (from pmdarima) (1.24.3)\n",
            "Requirement already satisfied: statsmodels!=0.12.0,>=0.11 in /usr/local/lib/python3.7/dist-packages (from pmdarima) (0.12.2)\n",
            "Requirement already satisfied: pytz>=2017.2 in /usr/local/lib/python3.7/dist-packages (from pandas>=0.19->pmdarima) (2018.9)\n",
            "Requirement already satisfied: python-dateutil>=2.7.3 in /usr/local/lib/python3.7/dist-packages (from pandas>=0.19->pmdarima) (2.8.1)\n",
            "Requirement already satisfied: patsy>=0.5 in /usr/local/lib/python3.7/dist-packages (from statsmodels!=0.12.0,>=0.11->pmdarima) (0.5.1)\n",
            "Requirement already satisfied: six>=1.5 in /usr/local/lib/python3.7/dist-packages (from python-dateutil>=2.7.3->pandas>=0.19->pmdarima) (1.15.0)\n"
          ],
          "name": "stdout"
        }
      ]
    },
    {
      "cell_type": "code",
      "metadata": {
        "id": "VX6BBHa8TJPl",
        "outputId": "2946d80d-dce9-4f8f-baf1-dc08c0c6ec6f",
        "colab": {
          "base_uri": "https://localhost:8080/"
        }
      },
      "source": [
        "pip install statsmodels"
      ],
      "execution_count": 39,
      "outputs": [
        {
          "output_type": "stream",
          "text": [
            "Requirement already satisfied: statsmodels in /usr/local/lib/python3.7/dist-packages (0.12.2)\n",
            "Requirement already satisfied: scipy>=1.1 in /usr/local/lib/python3.7/dist-packages (from statsmodels) (1.4.1)\n",
            "Requirement already satisfied: patsy>=0.5 in /usr/local/lib/python3.7/dist-packages (from statsmodels) (0.5.1)\n",
            "Requirement already satisfied: numpy>=1.15 in /usr/local/lib/python3.7/dist-packages (from statsmodels) (1.19.5)\n",
            "Requirement already satisfied: pandas>=0.21 in /usr/local/lib/python3.7/dist-packages (from statsmodels) (1.1.5)\n",
            "Requirement already satisfied: six in /usr/local/lib/python3.7/dist-packages (from patsy>=0.5->statsmodels) (1.15.0)\n",
            "Requirement already satisfied: pytz>=2017.2 in /usr/local/lib/python3.7/dist-packages (from pandas>=0.21->statsmodels) (2018.9)\n",
            "Requirement already satisfied: python-dateutil>=2.7.3 in /usr/local/lib/python3.7/dist-packages (from pandas>=0.21->statsmodels) (2.8.1)\n"
          ],
          "name": "stdout"
        }
      ]
    },
    {
      "cell_type": "code",
      "metadata": {
        "id": "sBlkxP9hTT8j"
      },
      "source": [
        "import statsmodels"
      ],
      "execution_count": 40,
      "outputs": []
    },
    {
      "cell_type": "code",
      "metadata": {
        "id": "_U1tKqSlY7m5"
      },
      "source": [
        "from statsmodels.tsa.arima.model import ARIMA"
      ],
      "execution_count": 68,
      "outputs": []
    },
    {
      "cell_type": "code",
      "metadata": {
        "id": "YmTjFOiPJ-T5",
        "colab": {
          "base_uri": "https://localhost:8080/"
        },
        "outputId": "c90b68b8-6bf5-4acd-fd10-11832619c8ba"
      },
      "source": [
        "model = ARIMA(dfdf['daily_vaccinations'], order=(6, 2, 0))  \n",
        "res = model.fit()\n",
        "pred=res.predict(start=len(dfdf), end = len(dfdf)+15, typ='levels').rename('ARIMA Predictions')"
      ],
      "execution_count": 73,
      "outputs": [
        {
          "output_type": "stream",
          "text": [
            "/usr/local/lib/python3.7/dist-packages/statsmodels/tsa/base/tsa_model.py:527: ValueWarning: No frequency information was provided, so inferred frequency D will be used.\n",
            "  % freq, ValueWarning)\n",
            "/usr/local/lib/python3.7/dist-packages/statsmodels/tsa/base/tsa_model.py:527: ValueWarning: No frequency information was provided, so inferred frequency D will be used.\n",
            "  % freq, ValueWarning)\n",
            "/usr/local/lib/python3.7/dist-packages/statsmodels/tsa/base/tsa_model.py:527: ValueWarning: No frequency information was provided, so inferred frequency D will be used.\n",
            "  % freq, ValueWarning)\n",
            "/usr/local/lib/python3.7/dist-packages/statsmodels/tsa/statespace/sarimax.py:966: UserWarning: Non-stationary starting autoregressive parameters found. Using zeros as starting parameters.\n",
            "  warn('Non-stationary starting autoregressive parameters'\n"
          ],
          "name": "stderr"
        }
      ]
    },
    {
      "cell_type": "markdown",
      "metadata": {
        "id": "zPnHWReOZ2_s"
      },
      "source": [
        "**Plot current subset of data**"
      ]
    },
    {
      "cell_type": "code",
      "metadata": {
        "id": "1PhCnrEiZxTc",
        "outputId": "303e7bf4-562c-4302-a526-7f5a11b3e6b0",
        "colab": {
          "base_uri": "https://localhost:8080/",
          "height": 347
        }
      },
      "source": [
        "fig, ax = plt.subplots()\n",
        "ax.plot(dfdf)\n",
        "plt.xticks(rotation=90)"
      ],
      "execution_count": 72,
      "outputs": [
        {
          "output_type": "execute_result",
          "data": {
            "text/plain": [
              "(array([737826., 737828., 737830., 737832., 737834., 737836., 737838.,\n",
              "        737840.]), <a list of 8 Text major ticklabel objects>)"
            ]
          },
          "metadata": {
            "tags": []
          },
          "execution_count": 72
        },
        {
          "output_type": "display_data",
          "data": {
            "image/png": "[encoded data removed]",
            "text/plain": [
              "<Figure size 432x288 with 1 Axes>"
            ]
          },
          "metadata": {
            "tags": [],
            "needs_background": "light"
          }
        }
      ]
    },
    {
      "cell_type": "code",
      "metadata": {
        "id": "99z0H-un3qsF",
        "outputId": "599bed21-b2c3-4a5d-d101-c196b9c33b01",
        "colab": {
          "base_uri": "https://localhost:8080/"
        }
      },
      "source": [
        "futdates = pd.date_range(start = '2021-02-19', end = '2021-03-11')\n",
        "pred=res.predict(start=len(dfdf), end = len(dfdf)+20, typ='levels').rename('ARIMA Predictions')\n",
        "pred.index=futdates"
      ],
      "execution_count": 66,
      "outputs": [
        {
          "output_type": "stream",
          "text": [
            "/usr/local/lib/python3.7/dist-packages/statsmodels/tsa/base/tsa_model.py:379: ValueWarning: No supported index is available. Prediction results will be given with an integer index beginning at `start`.\n",
            "  ValueWarning)\n"
          ],
          "name": "stderr"
        }
      ]
    },
    {
      "cell_type": "code",
      "metadata": {
        "id": "Mp3IZL7VXZpP",
        "outputId": "9f56a224-d76e-47b5-fd6c-1ed7ab47c0d5",
        "colab": {
          "base_uri": "https://localhost:8080/"
        }
      },
      "source": [
        "print(pred)"
      ],
      "execution_count": 67,
      "outputs": [
        {
          "output_type": "stream",
          "text": [
            "2021-02-19    26861.278977\n",
            "2021-02-20    27513.826809\n",
            "2021-02-21    28138.429545\n",
            "2021-02-22    28295.760782\n",
            "2021-02-23    28398.837256\n",
            "2021-02-24    28906.597747\n",
            "2021-02-25    29532.853506\n",
            "2021-02-26    30126.107511\n",
            "2021-02-27    30669.427866\n",
            "2021-02-28    31114.874541\n",
            "2021-03-01    31514.069381\n",
            "2021-03-02    31959.607210\n",
            "2021-03-03    32453.306637\n",
            "2021-03-04    32964.014537\n",
            "2021-03-05    33469.298971\n",
            "2021-03-06    33953.619714\n",
            "2021-03-07    34420.939127\n",
            "2021-03-08    34888.861216\n",
            "2021-03-09    35366.518064\n",
            "2021-03-10    35852.147004\n",
            "2021-03-11    36339.977573\n",
            "Freq: D, Name: ARIMA Predictions, dtype: float64\n"
          ],
          "name": "stdout"
        }
      ]
    },
    {
      "cell_type": "markdown",
      "metadata": {
        "id": "UwqMSdaZZ7gz"
      },
      "source": [
        "**Plot ARIMA Predictions for next 20 days based on subset of data**"
      ]
    },
    {
      "cell_type": "code",
      "metadata": {
        "id": "P-HmOpXfXbq1",
        "outputId": "436bdd35-ca6a-47d3-efb1-a9c9164af5e8",
        "colab": {
          "base_uri": "https://localhost:8080/",
          "height": 298
        }
      },
      "source": [
        "pred.plot(legend = True)\n",
        "plt.xticks(rotation=90)"
      ],
      "execution_count": 71,
      "outputs": [
        {
          "output_type": "execute_result",
          "data": {
            "text/plain": [
              "(array([18678, 18687, 18693]), <a list of 3 Text major ticklabel objects>)"
            ]
          },
          "metadata": {
            "tags": []
          },
          "execution_count": 71
        },
        {
          "output_type": "display_data",
          "data": {
            "image/png": "[encoded data removed]",
            "text/plain": [
              "<Figure size 432x288 with 1 Axes>"
            ]
          },
          "metadata": {
            "tags": [],
            "needs_background": "light"
          }
        }
      ]
    },
    {
      "cell_type": "code",
      "metadata": {
        "id": "QnB-PkZ-Zcqs"
      },
      "source": [
        ""
      ],
      "execution_count": null,
      "outputs": []
    }
  ]
}