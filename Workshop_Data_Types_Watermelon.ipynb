{
  "nbformat": 4,
  "nbformat_minor": 0,
  "metadata": {
    "colab": {
      "name": "Workshop_Data_Types.ipynb",
      "provenance": [],
      "collapsed_sections": [],
      "include_colab_link": true
    },
    "kernelspec": {
      "name": "python3",
      "display_name": "Python 3"
    }
  },
  "cells": [
    {
      "cell_type": "markdown",
      "metadata": {
        "id": "view-in-github",
        "colab_type": "text"
      },
      "source": [
        "<a href=\"https://colab.research.google.com/github/gtoubian/cce/blob/main/Workshop_Data_Types_Watermelon.ipynb\" target=\"_parent\"><img src=\"https://colab.research.google.com/assets/colab-badge.svg\" alt=\"Open In Colab\"/></a>"
      ]
    },
    {
      "cell_type": "markdown",
      "metadata": {
        "id": "aR_A_kfi1f5E"
      },
      "source": [
        "**Gabriel Toubian** gtoubian@gmail.com"
      ]
    },
    {
      "cell_type": "markdown",
      "metadata": {
        "id": "ud7hwCWB9YO1"
      },
      "source": [
        "#**NOTE:**\r\n",
        "Please insert a text cell at the top of the Notebook with your **Full Name** in Bold and your email that you use for *both Journey and Github*\r\n",
        "\r\n",
        "Also, add to the title of the notebook, an underscore as well as your favourite fruit beside it. \r\n",
        "\r\n",
        "Ex. 'Workshop_Data_Types_Grapes'"
      ]
    },
    {
      "cell_type": "markdown",
      "metadata": {
        "id": "UXL9hpom_zZ_"
      },
      "source": [
        "#Warm Up\r\n",
        "\r\n",
        "In the cell below, import numpy and name it 'np' and create a list with the data types that were mentioned during a lecture as strings and store the result as \"types\"\r\n",
        "Ex.\r\n",
        "\r\n",
        "\r\n",
        "```\r\n",
        "import ... as ...\r\n",
        "types = [...]\r\n",
        "```\r\n",
        "\r\n"
      ]
    },
    {
      "cell_type": "code",
      "metadata": {
        "id": "73PCVrZFUXTD"
      },
      "source": [
        "import numpy as np\r\n",
        "types = [int,float,bool,str]"
      ],
      "execution_count": 36,
      "outputs": []
    },
    {
      "cell_type": "markdown",
      "metadata": {
        "id": "r7yDtDnwARh_"
      },
      "source": [
        "Call the first element in types and slice the last 2 elements in the cell below. Print both results."
      ]
    },
    {
      "cell_type": "code",
      "metadata": {
        "id": "otQW7AvHAbNN",
        "colab": {
          "base_uri": "https://localhost:8080/"
        },
        "outputId": "d4475354-bdd5-4f75-ed70-ec2b748113c2"
      },
      "source": [
        "print(types[0])"
      ],
      "execution_count": 37,
      "outputs": [
        {
          "output_type": "stream",
          "text": [
            "<class 'int'>\n"
          ],
          "name": "stdout"
        }
      ]
    },
    {
      "cell_type": "code",
      "metadata": {
        "id": "_z1KK5Nm9vd9",
        "colab": {
          "base_uri": "https://localhost:8080/"
        },
        "outputId": "312baa14-90c1-4062-b1ba-da2e666f5a55"
      },
      "source": [
        "print(types[-2:])"
      ],
      "execution_count": 38,
      "outputs": [
        {
          "output_type": "stream",
          "text": [
            "[<class 'bool'>, <class 'str'>]\n"
          ],
          "name": "stdout"
        }
      ]
    },
    {
      "cell_type": "markdown",
      "metadata": {
        "id": "966SjVwbDEq0"
      },
      "source": [
        "Divide by 4, the second element in \"types\" in the code cell below. In the text cell below that, explain why or why not the code was able to execute. (Your explanation does not have to be thorough)"
      ]
    },
    {
      "cell_type": "code",
      "metadata": {
        "id": "rVDgBSgQ9QZz",
        "colab": {
          "base_uri": "https://localhost:8080/",
          "height": 163
        },
        "outputId": "c0d5e67f-187c-4c15-90a2-f798f4352cb0"
      },
      "source": [
        "print(types[1]/4)"
      ],
      "execution_count": 39,
      "outputs": [
        {
          "output_type": "error",
          "ename": "TypeError",
          "evalue": "ignored",
          "traceback": [
            "\u001b[0;31m---------------------------------------------------------------------------\u001b[0m",
            "\u001b[0;31mTypeError\u001b[0m                                 Traceback (most recent call last)",
            "\u001b[0;32m<ipython-input-39-80fb2359c8e8>\u001b[0m in \u001b[0;36m<module>\u001b[0;34m()\u001b[0m\n\u001b[0;32m----> 1\u001b[0;31m \u001b[0mprint\u001b[0m\u001b[0;34m(\u001b[0m\u001b[0mtypes\u001b[0m\u001b[0;34m[\u001b[0m\u001b[0;36m1\u001b[0m\u001b[0;34m]\u001b[0m\u001b[0;34m/\u001b[0m\u001b[0;36m4\u001b[0m\u001b[0;34m)\u001b[0m\u001b[0;34m\u001b[0m\u001b[0;34m\u001b[0m\u001b[0m\n\u001b[0m",
            "\u001b[0;31mTypeError\u001b[0m: unsupported operand type(s) for /: 'type' and 'int'"
          ]
        }
      ]
    },
    {
      "cell_type": "markdown",
      "metadata": {
        "id": "qKeHsqaxDTQR"
      },
      "source": [
        "Explain here: They are two different data types"
      ]
    },
    {
      "cell_type": "markdown",
      "metadata": {
        "id": "TJ1OKy5fDVd1"
      },
      "source": [
        "#Creating Data Containers\r\n",
        "\r\n",
        "In the cells below, create a list, set, tuple and array. \r\n",
        "\r\n",
        "The list (in order) should have any 2 numbers as integers, any 2 numbers as floating point numbers and 2 of your favourite music artists as strings. [6 elements total]. Name this list **'First'** and print it. \r\n",
        "\r\n",
        "The Set (in order) should have 1 even number less than 20 followed by 3 of the first letters of the alphabet as strings in seperate entries. [4 elements total]. Name this set **'Second'** and print it.\r\n",
        "\r\n",
        "The Tuple (in order) should have 6 negative numbers. [6 elements total]. Name this Tuple **'Third'** and print it.\r\n",
        "\r\n",
        "The array (in order) should have the same 6 elements as the tuple but these numbers should be positive. [6 elements total]. Name this array **'Fourth'** and print it."
      ]
    },
    {
      "cell_type": "code",
      "metadata": {
        "id": "PXRY2QW_HviP",
        "colab": {
          "base_uri": "https://localhost:8080/"
        },
        "outputId": "746afb4f-98a3-49c1-afb2-40f850c172ef"
      },
      "source": [
        "First = [1, 2, 3.4, 5.6, 'Prince', 'BonJovi']\r\n",
        "print(First)"
      ],
      "execution_count": 40,
      "outputs": [
        {
          "output_type": "stream",
          "text": [
            "[1, 2, 3.4, 5.6, 'Prince', 'BonJovi']\n"
          ],
          "name": "stdout"
        }
      ]
    },
    {
      "cell_type": "code",
      "metadata": {
        "id": "widNk7UnHv2a",
        "colab": {
          "base_uri": "https://localhost:8080/"
        },
        "outputId": "8e9cbf20-6aeb-4377-a8a0-0ed9de4bb766"
      },
      "source": [
        "Second = {18, 'a', 'b', 'c'}\r\n",
        "print(Second)"
      ],
      "execution_count": 67,
      "outputs": [
        {
          "output_type": "stream",
          "text": [
            "{'a', 18, 'b', 'c'}\n"
          ],
          "name": "stdout"
        }
      ]
    },
    {
      "cell_type": "code",
      "metadata": {
        "id": "rhW-sun-HwFI",
        "colab": {
          "base_uri": "https://localhost:8080/"
        },
        "outputId": "621626dd-8790-4389-e182-be77552d3cad"
      },
      "source": [
        "Third = (-11, -12, -13, -14, -15, -16)\r\n",
        "print(Third)"
      ],
      "execution_count": 42,
      "outputs": [
        {
          "output_type": "stream",
          "text": [
            "(-11, -12, -13, -14, -15, -16)\n"
          ],
          "name": "stdout"
        }
      ]
    },
    {
      "cell_type": "code",
      "metadata": {
        "id": "1yKK4z0rHwSA",
        "colab": {
          "base_uri": "https://localhost:8080/"
        },
        "outputId": "b478691d-0305-41d7-cb70-152f0023fe67"
      },
      "source": [
        "Fourth = np.array([11, 12, 13, 14, 15, 16])\r\n",
        "print(Fourth)"
      ],
      "execution_count": 43,
      "outputs": [
        {
          "output_type": "stream",
          "text": [
            "[11 12 13 14 15 16]\n"
          ],
          "name": "stdout"
        }
      ]
    },
    {
      "cell_type": "markdown",
      "metadata": {
        "id": "PmeI6k0DLIPD"
      },
      "source": [
        "Add together, the second element of 'First', and the last elements of 'Third' and Fourth."
      ]
    },
    {
      "cell_type": "code",
      "metadata": {
        "id": "I_BxRcx3LoC5",
        "colab": {
          "base_uri": "https://localhost:8080/"
        },
        "outputId": "30b03903-fc82-4722-feeb-d0bfaf706990"
      },
      "source": [
        "print(First[1] + Third[-1] + Fourth[-1])"
      ],
      "execution_count": 44,
      "outputs": [
        {
          "output_type": "stream",
          "text": [
            "2\n"
          ],
          "name": "stdout"
        }
      ]
    },
    {
      "cell_type": "markdown",
      "metadata": {
        "id": "Iw6KZ_oxLvJK"
      },
      "source": [
        "Slice the last 3 elements of 'Fourth' and append them to the list 'First'. Print the result."
      ]
    },
    {
      "cell_type": "code",
      "metadata": {
        "id": "X17SDNjnR7-O",
        "outputId": "08092cfd-d937-4b64-f1eb-1479f2d4a07a",
        "colab": {
          "base_uri": "https://localhost:8080/"
        }
      },
      "source": [
        "b = Fourth[-3:]\r\n",
        "print(b)\r\n",
        "First.append(b)\r\n",
        "print(First)"
      ],
      "execution_count": 45,
      "outputs": [
        {
          "output_type": "stream",
          "text": [
            "[14 15 16]\n",
            "[1, 2, 3.4, 5.6, 'Prince', 'BonJovi', array([14, 15, 16])]\n"
          ],
          "name": "stdout"
        }
      ]
    },
    {
      "cell_type": "markdown",
      "metadata": {
        "id": "vDYDsGdQL-gY"
      },
      "source": [
        "Create a 3x3 numpy matrix with 5's on the diagonal and 1's everywhere else and name it 'Matrix'. The matrix should look like this:\r\n",
        "\r\n",
        "$$\\begin{bmatrix} 5 & 1 & 1 \\\\ 1 & 5 & 1 \\\\ 1 & 1 & 5 \\end{bmatrix}$$"
      ]
    },
    {
      "cell_type": "code",
      "metadata": {
        "id": "bAJQW9YVMz2-",
        "outputId": "56d84a15-bf30-490c-f66e-7a311c0fe3be",
        "colab": {
          "base_uri": "https://localhost:8080/"
        }
      },
      "source": [
        "matrix = [[5,1,1],[1,5,1],[1,1,5]]\r\n",
        "Matrix = np.array(matrix)\r\n",
        "print(Matrix)"
      ],
      "execution_count": 49,
      "outputs": [
        {
          "output_type": "stream",
          "text": [
            "[[5 1 1]\n",
            " [1 5 1]\n",
            " [1 1 5]]\n"
          ],
          "name": "stdout"
        }
      ]
    },
    {
      "cell_type": "markdown",
      "metadata": {
        "id": "K10gqABfM4ES"
      },
      "source": [
        "Call the last element in each row of the matrix."
      ]
    },
    {
      "cell_type": "code",
      "metadata": {
        "id": "2VpgbZtaNNVw",
        "outputId": "7ce362c2-a0d0-49f5-9dcd-588391dbc6a6",
        "colab": {
          "base_uri": "https://localhost:8080/"
        }
      },
      "source": [
        "Matrix[:3,-1]"
      ],
      "execution_count": 54,
      "outputs": [
        {
          "output_type": "execute_result",
          "data": {
            "text/plain": [
              "array([1, 1, 5])"
            ]
          },
          "metadata": {
            "tags": []
          },
          "execution_count": 54
        }
      ]
    },
    {
      "cell_type": "markdown",
      "metadata": {
        "id": "RX55PeiwNNz7"
      },
      "source": [
        "Create a dictionary with the following keys, 'Name', 'Year', 'Music' and 'Food'. The values associated with each key (in order) should be your name, the current year, you favourite genre of music and one of your favourite foods. Name the dictionary 'Me' and print it. "
      ]
    },
    {
      "cell_type": "code",
      "metadata": {
        "id": "TLD8x4OaPhNI",
        "outputId": "8bb1408c-97e4-4d30-9a72-6ed7c1a287a8",
        "colab": {
          "base_uri": "https://localhost:8080/"
        }
      },
      "source": [
        "Me = {'name' : 'Gabriel',\r\n",
        " 'year' : '2021',\r\n",
        " 'music' : 'rock',\r\n",
        " 'food' : 'pizza',\r\n",
        "}\r\n",
        "type(Me)\r\n",
        "\r\n",
        "print(Me)"
      ],
      "execution_count": 58,
      "outputs": [
        {
          "output_type": "stream",
          "text": [
            "{'name': 'Gabriel', 'year': '2021', 'music': 'rock', 'food': 'pizza'}\n"
          ],
          "name": "stdout"
        }
      ]
    },
    {
      "cell_type": "markdown",
      "metadata": {
        "id": "So_1ge7KPhkP"
      },
      "source": [
        "Replace the value associated with 'Food' to another one of your favourite foods. Print the updated dictionary."
      ]
    },
    {
      "cell_type": "code",
      "metadata": {
        "id": "XhFXTLBOSHcw",
        "outputId": "027c5a27-fd34-4912-f5bb-d0185d53ee2e",
        "colab": {
          "base_uri": "https://localhost:8080/"
        }
      },
      "source": [
        "Me['food'] = 'sushi'\r\n",
        "print(Me)"
      ],
      "execution_count": 60,
      "outputs": [
        {
          "output_type": "stream",
          "text": [
            "{'name': 'Gabriel', 'year': '2021', 'music': 'rock', 'food': 'sushi'}\n"
          ],
          "name": "stdout"
        }
      ]
    },
    {
      "cell_type": "markdown",
      "metadata": {
        "id": "PHorHCyjC3F9"
      },
      "source": [
        "Create a list with entries 1, 3, 2, 1, 5, 3, 5, 1, 4 and name it 'original'. Create a new list called 'unique' that only contains unique numbers from original.\r\n",
        "\r\n",
        "Example:\r\n",
        "\r\n",
        "```\r\n",
        "Input\r\n",
        "[1, 2, 3, 1]\r\n",
        "\r\n",
        "Output\r\n",
        "[1, 2, 3]\r\n",
        "```\r\n",
        "**Hint:** Think about the properties of a set from lecture.\r\n"
      ]
    },
    {
      "cell_type": "code",
      "metadata": {
        "id": "cPWYXHe1C1hX",
        "outputId": "dbb0c423-7d9a-48e8-9f84-d65f95dc9de9",
        "colab": {
          "base_uri": "https://localhost:8080/"
        }
      },
      "source": [
        "Original = [1, 3, 2, 1, 5, 3, 5, 1, 4]\r\n",
        "Unique = set(Original)\r\n",
        "print(Unique)"
      ],
      "execution_count": 63,
      "outputs": [
        {
          "output_type": "stream",
          "text": [
            "{1, 2, 3, 4, 5}\n"
          ],
          "name": "stdout"
        }
      ]
    },
    {
      "cell_type": "markdown",
      "metadata": {
        "id": "_cVTBnphH84j"
      },
      "source": [
        "#Arithmetic Operations\r\n",
        "\r\n",
        "Call the last element of the array \"Fourth\" that you created above. Raise this element to the second power and add it to the second element of the list \"First\"."
      ]
    },
    {
      "cell_type": "code",
      "metadata": {
        "id": "Ik8NnTQ9VSeD",
        "outputId": "6fb046ee-e670-4dc3-8915-f10ef00aa896",
        "colab": {
          "base_uri": "https://localhost:8080/"
        }
      },
      "source": [
        "print(Fourth[-1]**2+First[1])"
      ],
      "execution_count": 69,
      "outputs": [
        {
          "output_type": "stream",
          "text": [
            "258\n"
          ],
          "name": "stdout"
        }
      ]
    },
    {
      "cell_type": "markdown",
      "metadata": {
        "id": "4HOSQvJDVTEE"
      },
      "source": [
        "Add the last three elements of \"Third\". "
      ]
    },
    {
      "cell_type": "code",
      "metadata": {
        "id": "nUZNOX_cVl69",
        "outputId": "711f58a7-c666-4f18-976c-9dc3ff22466c",
        "colab": {
          "base_uri": "https://localhost:8080/"
        }
      },
      "source": [
        "print(Third[-1]+Third[-2]+Third[-3])"
      ],
      "execution_count": 70,
      "outputs": [
        {
          "output_type": "stream",
          "text": [
            "-45\n"
          ],
          "name": "stdout"
        }
      ]
    },
    {
      "cell_type": "markdown",
      "metadata": {
        "id": "lXS3i_GRVmk5"
      },
      "source": [
        "Convert the tuple, \"Third\" to an array, double all the elements in \"Third\" and add the elements in this array to the elements in \"Fourth\" using only 1 arithmatic statement. Store this result as \"Fifth\" and print.\r\n",
        "\r\n",
        "**Hint** Answer should look like this. \r\n",
        "\r\n",
        "\r\n",
        "```\r\n",
        "Fifth = 2*___(____) + _____\r\n",
        "print (Fifth)\r\n",
        "```\r\n",
        "\r\n"
      ]
    },
    {
      "cell_type": "code",
      "metadata": {
        "id": "5T35jbY3YL04",
        "outputId": "cb469b6d-a503-49fd-e181-a66fb10e303b",
        "colab": {
          "base_uri": "https://localhost:8080/"
        }
      },
      "source": [
        "Fifth = 2*np.array(Third) + Fourth\r\n",
        "print(Fifth)"
      ],
      "execution_count": 72,
      "outputs": [
        {
          "output_type": "stream",
          "text": [
            "[-11 -12 -13 -14 -15 -16]\n"
          ],
          "name": "stdout"
        }
      ]
    },
    {
      "cell_type": "markdown",
      "metadata": {
        "id": "afaH5uSsJFeD"
      },
      "source": [
        "#Conditionals\r\n",
        "\r\n",
        "Convert \"Fifth\" to a tuple and use a print statement to see if Fifth is equal to \"Third\""
      ]
    },
    {
      "cell_type": "code",
      "metadata": {
        "id": "x_9YDynWaAUz"
      },
      "source": [
        "Fifth = tuple(Fifth)"
      ],
      "execution_count": 73,
      "outputs": []
    },
    {
      "cell_type": "code",
      "metadata": {
        "id": "Y2i8lW0Tft0Y",
        "outputId": "ab73daea-65bf-4156-acf8-2e90f35dd4eb",
        "colab": {
          "base_uri": "https://localhost:8080/"
        }
      },
      "source": [
        "if Fifth == Third:\r\n",
        "  print('they are equal')"
      ],
      "execution_count": 76,
      "outputs": [
        {
          "output_type": "stream",
          "text": [
            "they are equal\n"
          ],
          "name": "stdout"
        }
      ]
    },
    {
      "cell_type": "code",
      "metadata": {
        "id": "_1y78vHFjKPT"
      },
      "source": [
        ""
      ],
      "execution_count": null,
      "outputs": []
    }
  ]
}