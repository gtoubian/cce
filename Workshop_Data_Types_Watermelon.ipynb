{
  "nbformat": 4,
  "nbformat_minor": 0,
  "metadata": {
    "colab": {
      "name": "Workshop_Data_Types.ipynb",
      "provenance": [],
      "collapsed_sections": [],
      "include_colab_link": true
    },
    "kernelspec": {
      "name": "python3",
      "display_name": "Python 3"
    }
  },
  "cells": [
    {
      "cell_type": "markdown",
      "metadata": {
        "id": "view-in-github",
        "colab_type": "text"
      },
      "source": [
        "<a href=\"https://colab.research.google.com/github/gtoubian/cce/blob/main/Workshop_Data_Types_Watermelon.ipynb\" target=\"_parent\"><img src=\"https://colab.research.google.com/assets/colab-badge.svg\" alt=\"Open In Colab\"/></a>"
      ]
    },
    {
      "cell_type": "markdown",
      "metadata": {
        "id": "aR_A_kfi1f5E"
      },
      "source": [
        "**Gabriel Toubian** gtoubian@gmail.com"
      ]
    },
    {
      "cell_type": "markdown",
      "metadata": {
        "id": "ud7hwCWB9YO1"
      },
      "source": [
        "#**NOTE:**\r\n",
        "Please insert a text cell at the top of the Notebook with your **Full Name** in Bold and your email that you use for *both Journey and Github*\r\n",
        "\r\n",
        "Also, add to the title of the notebook, an underscore as well as your favourite fruit beside it. \r\n",
        "\r\n",
        "Ex. 'Workshop_Data_Types_Grapes'"
      ]
    },
    {
      "cell_type": "markdown",
      "metadata": {
        "id": "UXL9hpom_zZ_"
      },
      "source": [
        "#Warm Up\r\n",
        "\r\n",
        "In the cell below, import numpy and name it 'np' and create a list with the data types that were mentioned during a lecture as strings and store the result as \"types\"\r\n",
        "Ex.\r\n",
        "\r\n",
        "\r\n",
        "```\r\n",
        "import ... as ...\r\n",
        "types = [...]\r\n",
        "```\r\n",
        "\r\n"
      ]
    },
    {
      "cell_type": "code",
      "metadata": {
        "id": "73PCVrZFUXTD"
      },
      "source": [
        ""
      ],
      "execution_count": null,
      "outputs": []
    },
    {
      "cell_type": "markdown",
      "metadata": {
        "id": "r7yDtDnwARh_"
      },
      "source": [
        "Call the first element in types and slice the last 2 elements in the cell below. Print both results."
      ]
    },
    {
      "cell_type": "code",
      "metadata": {
        "id": "otQW7AvHAbNN"
      },
      "source": [
        ""
      ],
      "execution_count": null,
      "outputs": []
    },
    {
      "cell_type": "markdown",
      "metadata": {
        "id": "966SjVwbDEq0"
      },
      "source": [
        "Divide by 4, the second element in \"types\" in the code cell below. In the text cell below that, explain why or why not the code was able to execute. (Your explanation does not have to be thorough)"
      ]
    },
    {
      "cell_type": "code",
      "metadata": {
        "id": "rVDgBSgQ9QZz"
      },
      "source": [
        ""
      ],
      "execution_count": null,
      "outputs": []
    },
    {
      "cell_type": "markdown",
      "metadata": {
        "id": "qKeHsqaxDTQR"
      },
      "source": [
        "Explain here:"
      ]
    },
    {
      "cell_type": "markdown",
      "metadata": {
        "id": "TJ1OKy5fDVd1"
      },
      "source": [
        "#Creating Data Containers\r\n",
        "\r\n",
        "In the cells below, create a list, set, tuple and array. \r\n",
        "\r\n",
        "The list (in order) should have any 2 numbers as integers, any 2 numbers as floating point numbers and 2 of your favourite music artists as strings. [6 elements total]. Name this list **'First'** and print it. \r\n",
        "\r\n",
        "The Set (in order) should have 1 even number less than 20 followed by 3 of the first letters of the alphabet as strings in seperate entries. [4 elements total]. Name this set **'Second'** and print it.\r\n",
        "\r\n",
        "The Tuple (in order) should have 6 negative numbers. [6 elements total]. Name this Tuple **'Third'** and print it.\r\n",
        "\r\n",
        "The array (in order) should have the same 6 elements as the tuple but these numbers should be positive. [6 elements total]. Name this array **'Fourth'** and print it."
      ]
    },
    {
      "cell_type": "code",
      "metadata": {
        "id": "PXRY2QW_HviP"
      },
      "source": [
        ""
      ],
      "execution_count": null,
      "outputs": []
    },
    {
      "cell_type": "code",
      "metadata": {
        "id": "widNk7UnHv2a"
      },
      "source": [
        ""
      ],
      "execution_count": null,
      "outputs": []
    },
    {
      "cell_type": "code",
      "metadata": {
        "id": "rhW-sun-HwFI"
      },
      "source": [
        ""
      ],
      "execution_count": null,
      "outputs": []
    },
    {
      "cell_type": "code",
      "metadata": {
        "id": "1yKK4z0rHwSA"
      },
      "source": [
        ""
      ],
      "execution_count": null,
      "outputs": []
    },
    {
      "cell_type": "markdown",
      "metadata": {
        "id": "PmeI6k0DLIPD"
      },
      "source": [
        "Add together, the second element of 'First', and the last elements of 'Third' and Fourth."
      ]
    },
    {
      "cell_type": "code",
      "metadata": {
        "id": "I_BxRcx3LoC5"
      },
      "source": [
        ""
      ],
      "execution_count": null,
      "outputs": []
    },
    {
      "cell_type": "markdown",
      "metadata": {
        "id": "Iw6KZ_oxLvJK"
      },
      "source": [
        "Slice the last 3 elements of 'Fourth' and append them to the list 'First'. Print the result."
      ]
    },
    {
      "cell_type": "code",
      "metadata": {
        "id": "a7itEilRLuEb"
      },
      "source": [
        ""
      ],
      "execution_count": null,
      "outputs": []
    },
    {
      "cell_type": "markdown",
      "metadata": {
        "id": "vDYDsGdQL-gY"
      },
      "source": [
        "Create a 3x3 numpy matrix with 5's on the diagonal and 1's everywhere else and name it 'Matrix'. The matrix should look like this:\r\n",
        "\r\n",
        "$$\\begin{bmatrix} 5 & 1 & 1 \\\\ 1 & 5 & 1 \\\\ 1 & 1 & 5 \\end{bmatrix}$$"
      ]
    },
    {
      "cell_type": "code",
      "metadata": {
        "id": "bAJQW9YVMz2-"
      },
      "source": [
        ""
      ],
      "execution_count": null,
      "outputs": []
    },
    {
      "cell_type": "markdown",
      "metadata": {
        "id": "K10gqABfM4ES"
      },
      "source": [
        "Call the last element in each row of the matrix."
      ]
    },
    {
      "cell_type": "code",
      "metadata": {
        "id": "2VpgbZtaNNVw"
      },
      "source": [
        ""
      ],
      "execution_count": null,
      "outputs": []
    },
    {
      "cell_type": "markdown",
      "metadata": {
        "id": "RX55PeiwNNz7"
      },
      "source": [
        "Create a dictionary with the following keys, 'Name', 'Year', 'Music' and 'Food'. The values associated with each key (in order) should be your name, the current year, you favourite genre of music and one of your favourite foods. Name the dictionary 'Me' and print it. "
      ]
    },
    {
      "cell_type": "code",
      "metadata": {
        "id": "TLD8x4OaPhNI"
      },
      "source": [
        ""
      ],
      "execution_count": null,
      "outputs": []
    },
    {
      "cell_type": "markdown",
      "metadata": {
        "id": "So_1ge7KPhkP"
      },
      "source": [
        "Replace the value associated with 'Food' to another one of your favourite foods. Print the updated dictionary."
      ]
    },
    {
      "cell_type": "code",
      "metadata": {
        "id": "XhFXTLBOSHcw"
      },
      "source": [
        ""
      ],
      "execution_count": null,
      "outputs": []
    },
    {
      "cell_type": "markdown",
      "metadata": {
        "id": "PHorHCyjC3F9"
      },
      "source": [
        "Create a list with entries 1, 3, 2, 1, 5, 3, 5, 1, 4 and name it 'original'. Create a new list called 'unique' that only contains unique numbers from original.\r\n",
        "\r\n",
        "Example:\r\n",
        "\r\n",
        "```\r\n",
        "Input\r\n",
        "[1, 2, 3, 1]\r\n",
        "\r\n",
        "Output\r\n",
        "[1, 2, 3]\r\n",
        "```\r\n",
        "**Hint:** Think about the properties of a set from lecture.\r\n"
      ]
    },
    {
      "cell_type": "code",
      "metadata": {
        "id": "cPWYXHe1C1hX"
      },
      "source": [
        ""
      ],
      "execution_count": null,
      "outputs": []
    },
    {
      "cell_type": "markdown",
      "metadata": {
        "id": "_cVTBnphH84j"
      },
      "source": [
        "#Arithmetic Operations\r\n",
        "\r\n",
        "Call the last element of the array \"Fourth\" that you created above. Raise this element to the second power and add it to the second element of the list \"First\"."
      ]
    },
    {
      "cell_type": "code",
      "metadata": {
        "id": "Ik8NnTQ9VSeD"
      },
      "source": [
        ""
      ],
      "execution_count": null,
      "outputs": []
    },
    {
      "cell_type": "markdown",
      "metadata": {
        "id": "4HOSQvJDVTEE"
      },
      "source": [
        "Add the last three elements of \"Third\". "
      ]
    },
    {
      "cell_type": "code",
      "metadata": {
        "id": "nUZNOX_cVl69"
      },
      "source": [
        ""
      ],
      "execution_count": null,
      "outputs": []
    },
    {
      "cell_type": "markdown",
      "metadata": {
        "id": "lXS3i_GRVmk5"
      },
      "source": [
        "Convert the tuple, \"Third\" to an array, double all the elements in \"Third\" and add the elements in this array to the elements in \"Fourth\" using only 1 arithmatic statement. Store this result as \"Fifth\" and print.\r\n",
        "\r\n",
        "**Hint** Answer should look like this. \r\n",
        "\r\n",
        "\r\n",
        "```\r\n",
        "Fifth = 2*___(____) + _____\r\n",
        "print (Fifth)\r\n",
        "```\r\n",
        "\r\n"
      ]
    },
    {
      "cell_type": "code",
      "metadata": {
        "id": "5T35jbY3YL04"
      },
      "source": [
        ""
      ],
      "execution_count": null,
      "outputs": []
    },
    {
      "cell_type": "markdown",
      "metadata": {
        "id": "afaH5uSsJFeD"
      },
      "source": [
        "#Conditionals\r\n",
        "\r\n",
        "Convert \"Fifth\" to a tuple and use a print statement to see if Fifth is equal to \"Third\""
      ]
    },
    {
      "cell_type": "code",
      "metadata": {
        "id": "x_9YDynWaAUz"
      },
      "source": [
        ""
      ],
      "execution_count": null,
      "outputs": []
    },
    {
      "cell_type": "code",
      "metadata": {
        "id": "Y2i8lW0Tft0Y"
      },
      "source": [
        ""
      ],
      "execution_count": null,
      "outputs": []
    }
  ]
}