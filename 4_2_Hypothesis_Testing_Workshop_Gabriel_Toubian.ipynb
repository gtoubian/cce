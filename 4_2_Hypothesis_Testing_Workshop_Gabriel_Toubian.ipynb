{
  "nbformat": 4,
  "nbformat_minor": 0,
  "metadata": {
    "colab": {
      "name": "4.2_Hypothesis_Testing_Workshop_Gabriel_Toubian.ipynb",
      "provenance": [],
      "collapsed_sections": [],
      "include_colab_link": true
    },
    "kernelspec": {
      "name": "python3",
      "display_name": "Python 3"
    }
  },
  "cells": [
    {
      "cell_type": "markdown",
      "metadata": {
        "id": "view-in-github",
        "colab_type": "text"
      },
      "source": [
        "<a href=\"https://colab.research.google.com/github/gtoubian/cce/blob/main/4_2_Hypothesis_Testing_Workshop_Gabriel_Toubian.ipynb\" target=\"_parent\"><img src=\"https://colab.research.google.com/assets/colab-badge.svg\" alt=\"Open In Colab\"/></a>"
      ]
    },
    {
      "cell_type": "markdown",
      "metadata": {
        "id": "c2rBy3y0Fm7O"
      },
      "source": [
        "**Gabriel Toubian** - gtoubian@gmail.com"
      ]
    },
    {
      "cell_type": "markdown",
      "metadata": {
        "id": "V3TanIs6iMer"
      },
      "source": [
        "#NOTE:\r\n",
        "Please insert a text cell at the top of the Notebook with your Full Name in Bold and your email that you use for both Journey and Github\r\n",
        "\r\n",
        "Also, add to the title of the notebook, an underscore as well as your name.\r\n",
        "\r\n",
        "Ex. 'Workshop_Hypothesis_Testing_Usama'"
      ]
    },
    {
      "cell_type": "code",
      "metadata": {
        "id": "Adnby7luhv2M"
      },
      "source": [
        ""
      ],
      "execution_count": null,
      "outputs": []
    },
    {
      "cell_type": "markdown",
      "metadata": {
        "id": "2-N42G_JibMF"
      },
      "source": [
        "#Warmup\r\n",
        "\r\n",
        "Import pandas, numpy, scipy.stats, statsmodels.api & statsmodels.formula.api.ols "
      ]
    },
    {
      "cell_type": "code",
      "metadata": {
        "id": "ANsh4eHsixl5",
        "outputId": "7a12e76b-f989-47b9-8d42-02134f697aca",
        "colab": {
          "base_uri": "https://localhost:8080/"
        }
      },
      "source": [
        "import pandas as pd\r\n",
        "import numpy as np\r\n",
        "import scipy.stats as sc\r\n",
        "import statsmodels.api as sm\r\n",
        "from statsmodels.formula.api import ols"
      ],
      "execution_count": 1,
      "outputs": [
        {
          "output_type": "stream",
          "text": [
            "/usr/local/lib/python3.7/dist-packages/statsmodels/tools/_testing.py:19: FutureWarning: pandas.util.testing is deprecated. Use the functions in the public API at pandas.testing instead.\n",
            "  import pandas.util.testing as tm\n"
          ],
          "name": "stderr"
        }
      ]
    },
    {
      "cell_type": "markdown",
      "metadata": {
        "id": "C2D6-jVyiyev"
      },
      "source": [
        "#Hypothesis Testing\r\n",
        "\r\n",
        "##Iris Data\r\n",
        "It is believed that the average sepal length of the setosa species is 4 cm. Use the Iris data set as well as the appropriate test to determine if we have evidence to reject this claim."
      ]
    },
    {
      "cell_type": "code",
      "metadata": {
        "id": "QAk9bMm_jiA3",
        "colab": {
          "base_uri": "https://localhost:8080/",
          "height": 195
        },
        "outputId": "17d155f9-a435-4984-d16e-2aa8257c583c"
      },
      "source": [
        "url = \"https://gist.githubusercontent.com/curran/a08a1080b88344b0c8a7/raw/0e7a9b0a5d22642a06d3d5b9bcbad9890c8ee534/iris.csv\"\r\n",
        "df = pd.read_csv(url)\r\n",
        "df.head()"
      ],
      "execution_count": 2,
      "outputs": [
        {
          "output_type": "execute_result",
          "data": {
            "text/html": [
              "<div>\n",
              "<style scoped>\n",
              "    .dataframe tbody tr th:only-of-type {\n",
              "        vertical-align: middle;\n",
              "    }\n",
              "\n",
              "    .dataframe tbody tr th {\n",
              "        vertical-align: top;\n",
              "    }\n",
              "\n",
              "    .dataframe thead th {\n",
              "        text-align: right;\n",
              "    }\n",
              "</style>\n",
              "<table border=\"1\" class=\"dataframe\">\n",
              "  <thead>\n",
              "    <tr style=\"text-align: right;\">\n",
              "      <th></th>\n",
              "      <th>sepal_length</th>\n",
              "      <th>sepal_width</th>\n",
              "      <th>petal_length</th>\n",
              "      <th>petal_width</th>\n",
              "      <th>species</th>\n",
              "    </tr>\n",
              "  </thead>\n",
              "  <tbody>\n",
              "    <tr>\n",
              "      <th>0</th>\n",
              "      <td>5.1</td>\n",
              "      <td>3.5</td>\n",
              "      <td>1.4</td>\n",
              "      <td>0.2</td>\n",
              "      <td>setosa</td>\n",
              "    </tr>\n",
              "    <tr>\n",
              "      <th>1</th>\n",
              "      <td>4.9</td>\n",
              "      <td>3.0</td>\n",
              "      <td>1.4</td>\n",
              "      <td>0.2</td>\n",
              "      <td>setosa</td>\n",
              "    </tr>\n",
              "    <tr>\n",
              "      <th>2</th>\n",
              "      <td>4.7</td>\n",
              "      <td>3.2</td>\n",
              "      <td>1.3</td>\n",
              "      <td>0.2</td>\n",
              "      <td>setosa</td>\n",
              "    </tr>\n",
              "    <tr>\n",
              "      <th>3</th>\n",
              "      <td>4.6</td>\n",
              "      <td>3.1</td>\n",
              "      <td>1.5</td>\n",
              "      <td>0.2</td>\n",
              "      <td>setosa</td>\n",
              "    </tr>\n",
              "    <tr>\n",
              "      <th>4</th>\n",
              "      <td>5.0</td>\n",
              "      <td>3.6</td>\n",
              "      <td>1.4</td>\n",
              "      <td>0.2</td>\n",
              "      <td>setosa</td>\n",
              "    </tr>\n",
              "  </tbody>\n",
              "</table>\n",
              "</div>"
            ],
            "text/plain": [
              "   sepal_length  sepal_width  petal_length  petal_width species\n",
              "0           5.1          3.5           1.4          0.2  setosa\n",
              "1           4.9          3.0           1.4          0.2  setosa\n",
              "2           4.7          3.2           1.3          0.2  setosa\n",
              "3           4.6          3.1           1.5          0.2  setosa\n",
              "4           5.0          3.6           1.4          0.2  setosa"
            ]
          },
          "metadata": {
            "tags": []
          },
          "execution_count": 2
        }
      ]
    },
    {
      "cell_type": "code",
      "metadata": {
        "colab": {
          "base_uri": "https://localhost:8080/"
        },
        "id": "VWYtfJC4UuuC",
        "outputId": "2b7dcb22-2d32-4728-d668-3e4a0e1d079d"
      },
      "source": [
        "#T-Test\r\n",
        "\r\n",
        "score = np.array(df['sepal_length'])\r\n",
        "sc.ttest_1samp(score, 4.0)"
      ],
      "execution_count": 3,
      "outputs": [
        {
          "output_type": "execute_result",
          "data": {
            "text/plain": [
              "Ttest_1sampResult(statistic=27.263680640799215, pvalue=8.764592435410748e-60)"
            ]
          },
          "metadata": {
            "tags": []
          },
          "execution_count": 3
        }
      ]
    },
    {
      "cell_type": "markdown",
      "metadata": {
        "id": "1-zs67NXVbP6"
      },
      "source": [
        "p-value is less than 0.05 so we can reject the null hypothesis\r\n",
        "\r\n"
      ]
    },
    {
      "cell_type": "markdown",
      "metadata": {
        "id": "7glZcd6Wlu1s"
      },
      "source": [
        "Use an appropriate test to see if there is a significant difference in the average sepal width between the versicolor and virginica species."
      ]
    },
    {
      "cell_type": "code",
      "metadata": {
        "id": "GIgqHrqvjm_u",
        "colab": {
          "base_uri": "https://localhost:8080/"
        },
        "outputId": "7afdadad-6837-4dd6-98be-daccbab16c11"
      },
      "source": [
        "versi = np.array(df[df[\"species\"]==\"versicolor\"][\"sepal_width\"])\r\n",
        "virgin = np.array(df[df[\"species\"]==\"virginica\"][\"sepal_width\"])\r\n",
        "\r\n",
        "sc.ttest_ind(versi, virgin, equal_var=False)"
      ],
      "execution_count": 4,
      "outputs": [
        {
          "output_type": "execute_result",
          "data": {
            "text/plain": [
              "Ttest_indResult(statistic=-3.2057607502218186, pvalue=0.001819483482104968)"
            ]
          },
          "metadata": {
            "tags": []
          },
          "execution_count": 4
        }
      ]
    },
    {
      "cell_type": "code",
      "metadata": {
        "id": "9qz_kV8yeOZT"
      },
      "source": [
        "p-value is less than 0.05 so no statistical difference"
      ],
      "execution_count": null,
      "outputs": []
    },
    {
      "cell_type": "markdown",
      "metadata": {
        "id": "hCU8PbeXmWCW"
      },
      "source": [
        "##Robberies in Toronto\r\n",
        "\r\n",
        "Download the Robberies in Toronto Data Set from this link (https://data.torontopolice.on.ca/datasets/robbery-2014-to-2019?geometry=-79.896%2C43.627%2C-78.853%2C43.800) and read it into a DataFrame. Use an appropriate test to see if whether the Robbery occured on a weekend affected whether the Robbery would occur in the Day or in the Night. \r\n",
        "\r\n",
        "**HINT:** You may assume that day hours are from 6 am to 6 pm. Before carrying out your analysis, you must modify your data frame such that each row has a column saying whether the crime occured over the weekend or not as well as a column saying whether the crime occured during the day or night."
      ]
    },
    {
      "cell_type": "code",
      "metadata": {
        "id": "xrQZ0OZGjpbq",
        "colab": {
          "resources": {
            "http://localhost:8080/nbextensions/google.colab/files.js": {
              "data": "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",
              "ok": true,
              "headers": [
                [
                  "content-type",
                  "application/javascript"
                ]
              ],
              "status": 200,
              "status_text": ""
            }
          },
          "base_uri": "https://localhost:8080/",
          "height": 73
        },
        "outputId": "c20b576c-bc91-4d51-eb46-b6d050d110de"
      },
      "source": [
        "from google.colab import files\r\n",
        "data = files.upload()"
      ],
      "execution_count": 6,
      "outputs": [
        {
          "output_type": "display_data",
          "data": {
            "text/html": [
              "\n",
              "     <input type=\"file\" id=\"files-c0592976-6a5a-4df8-bc57-d8fffb537c4a\" name=\"files[]\" multiple disabled\n",
              "        style=\"border:none\" />\n",
              "     <output id=\"result-c0592976-6a5a-4df8-bc57-d8fffb537c4a\">\n",
              "      Upload widget is only available when the cell has been executed in the\n",
              "      current browser session. Please rerun this cell to enable.\n",
              "      </output>\n",
              "      <script src=\"/nbextensions/google.colab/files.js\"></script> "
            ],
            "text/plain": [
              "<IPython.core.display.HTML object>"
            ]
          },
          "metadata": {
            "tags": []
          }
        },
        {
          "output_type": "stream",
          "text": [
            "Saving Robbery.csv to Robbery.csv\n"
          ],
          "name": "stdout"
        }
      ]
    },
    {
      "cell_type": "code",
      "metadata": {
        "id": "gQGeFUL2kqS9"
      },
      "source": [
        "import io\r\n",
        "robbery = pd.read_csv(io.BytesIO(data['Robbery.csv']))"
      ],
      "execution_count": 7,
      "outputs": []
    },
    {
      "cell_type": "code",
      "metadata": {
        "colab": {
          "base_uri": "https://localhost:8080/",
          "height": 383
        },
        "id": "X7d-dkWhlZVk",
        "outputId": "8d34cee4-f247-47af-d3c8-ad035f02b5dc"
      },
      "source": [
        "robbery.head()"
      ],
      "execution_count": 8,
      "outputs": [
        {
          "output_type": "execute_result",
          "data": {
            "text/html": [
              "<div>\n",
              "<style scoped>\n",
              "    .dataframe tbody tr th:only-of-type {\n",
              "        vertical-align: middle;\n",
              "    }\n",
              "\n",
              "    .dataframe tbody tr th {\n",
              "        vertical-align: top;\n",
              "    }\n",
              "\n",
              "    .dataframe thead th {\n",
              "        text-align: right;\n",
              "    }\n",
              "</style>\n",
              "<table border=\"1\" class=\"dataframe\">\n",
              "  <thead>\n",
              "    <tr style=\"text-align: right;\">\n",
              "      <th></th>\n",
              "      <th>X</th>\n",
              "      <th>Y</th>\n",
              "      <th>Index_</th>\n",
              "      <th>event_unique_id</th>\n",
              "      <th>occurrencedate</th>\n",
              "      <th>reporteddate</th>\n",
              "      <th>premisetype</th>\n",
              "      <th>ucr_code</th>\n",
              "      <th>ucr_ext</th>\n",
              "      <th>offence</th>\n",
              "      <th>reportedyear</th>\n",
              "      <th>reportedmonth</th>\n",
              "      <th>reportedday</th>\n",
              "      <th>reporteddayofyear</th>\n",
              "      <th>reporteddayofweek</th>\n",
              "      <th>reportedhour</th>\n",
              "      <th>occurrenceyear</th>\n",
              "      <th>occurrencemonth</th>\n",
              "      <th>occurrenceday</th>\n",
              "      <th>occurrencedayofyear</th>\n",
              "      <th>occurrencedayofweek</th>\n",
              "      <th>occurrencehour</th>\n",
              "      <th>MCI</th>\n",
              "      <th>Division</th>\n",
              "      <th>Hood_ID</th>\n",
              "      <th>Neighbourhood</th>\n",
              "      <th>Long</th>\n",
              "      <th>Lat</th>\n",
              "      <th>ObjectId</th>\n",
              "    </tr>\n",
              "  </thead>\n",
              "  <tbody>\n",
              "    <tr>\n",
              "      <th>0</th>\n",
              "      <td>-8822362.649</td>\n",
              "      <td>5423352.254</td>\n",
              "      <td>2150</td>\n",
              "      <td>GO-20141468111</td>\n",
              "      <td>2014/02/04 05:00:00+00</td>\n",
              "      <td>2014/02/04 05:00:00+00</td>\n",
              "      <td>Apartment</td>\n",
              "      <td>1610</td>\n",
              "      <td>200</td>\n",
              "      <td>Robbery - Mugging</td>\n",
              "      <td>2014</td>\n",
              "      <td>February</td>\n",
              "      <td>4</td>\n",
              "      <td>35</td>\n",
              "      <td>Tuesday</td>\n",
              "      <td>13</td>\n",
              "      <td>2014.0</td>\n",
              "      <td>February</td>\n",
              "      <td>4.0</td>\n",
              "      <td>35.0</td>\n",
              "      <td>Tuesday</td>\n",
              "      <td>13</td>\n",
              "      <td>Robbery</td>\n",
              "      <td>D41</td>\n",
              "      <td>124</td>\n",
              "      <td>Kennedy Park (124)</td>\n",
              "      <td>-79.252632</td>\n",
              "      <td>43.727394</td>\n",
              "      <td>1</td>\n",
              "    </tr>\n",
              "    <tr>\n",
              "      <th>1</th>\n",
              "      <td>-8833352.599</td>\n",
              "      <td>5413356.045</td>\n",
              "      <td>2158</td>\n",
              "      <td>GO-20141474998</td>\n",
              "      <td>2014/02/05 05:00:00+00</td>\n",
              "      <td>2014/02/05 05:00:00+00</td>\n",
              "      <td>Apartment</td>\n",
              "      <td>1610</td>\n",
              "      <td>130</td>\n",
              "      <td>Robbery - Home Invasion</td>\n",
              "      <td>2014</td>\n",
              "      <td>February</td>\n",
              "      <td>5</td>\n",
              "      <td>36</td>\n",
              "      <td>Wednesday</td>\n",
              "      <td>16</td>\n",
              "      <td>2014.0</td>\n",
              "      <td>February</td>\n",
              "      <td>5.0</td>\n",
              "      <td>36.0</td>\n",
              "      <td>Wednesday</td>\n",
              "      <td>16</td>\n",
              "      <td>Robbery</td>\n",
              "      <td>D55</td>\n",
              "      <td>70</td>\n",
              "      <td>South Riverdale (70)</td>\n",
              "      <td>-79.351356</td>\n",
              "      <td>43.662468</td>\n",
              "      <td>2</td>\n",
              "    </tr>\n",
              "    <tr>\n",
              "      <th>2</th>\n",
              "      <td>-8833352.599</td>\n",
              "      <td>5413356.045</td>\n",
              "      <td>2159</td>\n",
              "      <td>GO-20141474998</td>\n",
              "      <td>2014/02/05 05:00:00+00</td>\n",
              "      <td>2014/02/05 05:00:00+00</td>\n",
              "      <td>Apartment</td>\n",
              "      <td>1610</td>\n",
              "      <td>130</td>\n",
              "      <td>Robbery - Home Invasion</td>\n",
              "      <td>2014</td>\n",
              "      <td>February</td>\n",
              "      <td>5</td>\n",
              "      <td>36</td>\n",
              "      <td>Wednesday</td>\n",
              "      <td>16</td>\n",
              "      <td>2014.0</td>\n",
              "      <td>February</td>\n",
              "      <td>5.0</td>\n",
              "      <td>36.0</td>\n",
              "      <td>Wednesday</td>\n",
              "      <td>16</td>\n",
              "      <td>Robbery</td>\n",
              "      <td>D55</td>\n",
              "      <td>70</td>\n",
              "      <td>South Riverdale (70)</td>\n",
              "      <td>-79.351356</td>\n",
              "      <td>43.662468</td>\n",
              "      <td>3</td>\n",
              "    </tr>\n",
              "    <tr>\n",
              "      <th>3</th>\n",
              "      <td>-8832786.117</td>\n",
              "      <td>5415849.969</td>\n",
              "      <td>2165</td>\n",
              "      <td>GO-20142951465</td>\n",
              "      <td>2014/09/21 04:00:00+00</td>\n",
              "      <td>2014/09/21 04:00:00+00</td>\n",
              "      <td>Outside</td>\n",
              "      <td>1610</td>\n",
              "      <td>150</td>\n",
              "      <td>Robbery - Purse Snatch</td>\n",
              "      <td>2014</td>\n",
              "      <td>September</td>\n",
              "      <td>21</td>\n",
              "      <td>264</td>\n",
              "      <td>Sunday</td>\n",
              "      <td>3</td>\n",
              "      <td>2014.0</td>\n",
              "      <td>September</td>\n",
              "      <td>21.0</td>\n",
              "      <td>264.0</td>\n",
              "      <td>Sunday</td>\n",
              "      <td>2</td>\n",
              "      <td>Robbery</td>\n",
              "      <td>D55</td>\n",
              "      <td>68</td>\n",
              "      <td>North Riverdale (68)</td>\n",
              "      <td>-79.346268</td>\n",
              "      <td>43.678673</td>\n",
              "      <td>4</td>\n",
              "    </tr>\n",
              "    <tr>\n",
              "      <th>4</th>\n",
              "      <td>-8834139.049</td>\n",
              "      <td>5415810.627</td>\n",
              "      <td>2173</td>\n",
              "      <td>GO-20143017218</td>\n",
              "      <td>2014/09/30 04:00:00+00</td>\n",
              "      <td>2014/09/30 04:00:00+00</td>\n",
              "      <td>Commercial</td>\n",
              "      <td>1610</td>\n",
              "      <td>210</td>\n",
              "      <td>Robbery - Business</td>\n",
              "      <td>2014</td>\n",
              "      <td>September</td>\n",
              "      <td>30</td>\n",
              "      <td>273</td>\n",
              "      <td>Tuesday</td>\n",
              "      <td>20</td>\n",
              "      <td>2014.0</td>\n",
              "      <td>September</td>\n",
              "      <td>30.0</td>\n",
              "      <td>273.0</td>\n",
              "      <td>Tuesday</td>\n",
              "      <td>20</td>\n",
              "      <td>Robbery</td>\n",
              "      <td>D54</td>\n",
              "      <td>67</td>\n",
              "      <td>Playter Estates-Danforth (67)</td>\n",
              "      <td>-79.358421</td>\n",
              "      <td>43.678417</td>\n",
              "      <td>5</td>\n",
              "    </tr>\n",
              "  </tbody>\n",
              "</table>\n",
              "</div>"
            ],
            "text/plain": [
              "             X            Y  Index_  ...       Long        Lat ObjectId\n",
              "0 -8822362.649  5423352.254    2150  ... -79.252632  43.727394        1\n",
              "1 -8833352.599  5413356.045    2158  ... -79.351356  43.662468        2\n",
              "2 -8833352.599  5413356.045    2159  ... -79.351356  43.662468        3\n",
              "3 -8832786.117  5415849.969    2165  ... -79.346268  43.678673        4\n",
              "4 -8834139.049  5415810.627    2173  ... -79.358421  43.678417        5\n",
              "\n",
              "[5 rows x 29 columns]"
            ]
          },
          "metadata": {
            "tags": []
          },
          "execution_count": 8
        }
      ]
    },
    {
      "cell_type": "code",
      "metadata": {
        "id": "awPyuTtTwano"
      },
      "source": [
        "robbery.loc[(robbery['occurrencedayofweek'] == 'Saturday') | (robbery['occurrencedayofweek'] == 'Sunday'), 'weekdayorend'] = 'Weekend'\r\n",
        "robbery.loc[(robbery['occurrencedayofweek'] != 'Saturday') | (robbery['occurrencedayofweek'] != 'Sunday'), 'weekdayorend'] = 'Weekday'"
      ],
      "execution_count": 23,
      "outputs": []
    },
    {
      "cell_type": "code",
      "metadata": {
        "id": "divSAQDMymaJ",
        "outputId": "40e7ab58-c058-4336-be78-a431ef713e01",
        "colab": {
          "base_uri": "https://localhost:8080/",
          "height": 383
        }
      },
      "source": [
        "robbery.head()"
      ],
      "execution_count": 22,
      "outputs": [
        {
          "output_type": "execute_result",
          "data": {
            "text/html": [
              "<div>\n",
              "<style scoped>\n",
              "    .dataframe tbody tr th:only-of-type {\n",
              "        vertical-align: middle;\n",
              "    }\n",
              "\n",
              "    .dataframe tbody tr th {\n",
              "        vertical-align: top;\n",
              "    }\n",
              "\n",
              "    .dataframe thead th {\n",
              "        text-align: right;\n",
              "    }\n",
              "</style>\n",
              "<table border=\"1\" class=\"dataframe\">\n",
              "  <thead>\n",
              "    <tr style=\"text-align: right;\">\n",
              "      <th></th>\n",
              "      <th>X</th>\n",
              "      <th>Y</th>\n",
              "      <th>Index_</th>\n",
              "      <th>event_unique_id</th>\n",
              "      <th>occurrencedate</th>\n",
              "      <th>reporteddate</th>\n",
              "      <th>premisetype</th>\n",
              "      <th>ucr_code</th>\n",
              "      <th>ucr_ext</th>\n",
              "      <th>offence</th>\n",
              "      <th>reportedyear</th>\n",
              "      <th>reportedmonth</th>\n",
              "      <th>reportedday</th>\n",
              "      <th>reporteddayofyear</th>\n",
              "      <th>reporteddayofweek</th>\n",
              "      <th>reportedhour</th>\n",
              "      <th>occurrenceyear</th>\n",
              "      <th>occurrencemonth</th>\n",
              "      <th>occurrenceday</th>\n",
              "      <th>occurrencedayofyear</th>\n",
              "      <th>occurrencedayofweek</th>\n",
              "      <th>occurrencehour</th>\n",
              "      <th>MCI</th>\n",
              "      <th>Division</th>\n",
              "      <th>Hood_ID</th>\n",
              "      <th>Neighbourhood</th>\n",
              "      <th>Long</th>\n",
              "      <th>Lat</th>\n",
              "      <th>ObjectId</th>\n",
              "      <th>weekdayorend</th>\n",
              "      <th>time</th>\n",
              "    </tr>\n",
              "  </thead>\n",
              "  <tbody>\n",
              "    <tr>\n",
              "      <th>0</th>\n",
              "      <td>-8822362.649</td>\n",
              "      <td>5423352.254</td>\n",
              "      <td>2150</td>\n",
              "      <td>GO-20141468111</td>\n",
              "      <td>2014/02/04 05:00:00+00</td>\n",
              "      <td>2014/02/04 05:00:00+00</td>\n",
              "      <td>Apartment</td>\n",
              "      <td>1610</td>\n",
              "      <td>200</td>\n",
              "      <td>Robbery - Mugging</td>\n",
              "      <td>2014</td>\n",
              "      <td>February</td>\n",
              "      <td>4</td>\n",
              "      <td>35</td>\n",
              "      <td>Tuesday</td>\n",
              "      <td>13</td>\n",
              "      <td>2014.0</td>\n",
              "      <td>February</td>\n",
              "      <td>4.0</td>\n",
              "      <td>35.0</td>\n",
              "      <td>Tuesday</td>\n",
              "      <td>13</td>\n",
              "      <td>Robbery</td>\n",
              "      <td>D41</td>\n",
              "      <td>124</td>\n",
              "      <td>Kennedy Park (124)</td>\n",
              "      <td>-79.252632</td>\n",
              "      <td>43.727394</td>\n",
              "      <td>1</td>\n",
              "      <td>Weekday</td>\n",
              "      <td>day</td>\n",
              "    </tr>\n",
              "    <tr>\n",
              "      <th>1</th>\n",
              "      <td>-8833352.599</td>\n",
              "      <td>5413356.045</td>\n",
              "      <td>2158</td>\n",
              "      <td>GO-20141474998</td>\n",
              "      <td>2014/02/05 05:00:00+00</td>\n",
              "      <td>2014/02/05 05:00:00+00</td>\n",
              "      <td>Apartment</td>\n",
              "      <td>1610</td>\n",
              "      <td>130</td>\n",
              "      <td>Robbery - Home Invasion</td>\n",
              "      <td>2014</td>\n",
              "      <td>February</td>\n",
              "      <td>5</td>\n",
              "      <td>36</td>\n",
              "      <td>Wednesday</td>\n",
              "      <td>16</td>\n",
              "      <td>2014.0</td>\n",
              "      <td>February</td>\n",
              "      <td>5.0</td>\n",
              "      <td>36.0</td>\n",
              "      <td>Wednesday</td>\n",
              "      <td>16</td>\n",
              "      <td>Robbery</td>\n",
              "      <td>D55</td>\n",
              "      <td>70</td>\n",
              "      <td>South Riverdale (70)</td>\n",
              "      <td>-79.351356</td>\n",
              "      <td>43.662468</td>\n",
              "      <td>2</td>\n",
              "      <td>Weekday</td>\n",
              "      <td>day</td>\n",
              "    </tr>\n",
              "    <tr>\n",
              "      <th>2</th>\n",
              "      <td>-8833352.599</td>\n",
              "      <td>5413356.045</td>\n",
              "      <td>2159</td>\n",
              "      <td>GO-20141474998</td>\n",
              "      <td>2014/02/05 05:00:00+00</td>\n",
              "      <td>2014/02/05 05:00:00+00</td>\n",
              "      <td>Apartment</td>\n",
              "      <td>1610</td>\n",
              "      <td>130</td>\n",
              "      <td>Robbery - Home Invasion</td>\n",
              "      <td>2014</td>\n",
              "      <td>February</td>\n",
              "      <td>5</td>\n",
              "      <td>36</td>\n",
              "      <td>Wednesday</td>\n",
              "      <td>16</td>\n",
              "      <td>2014.0</td>\n",
              "      <td>February</td>\n",
              "      <td>5.0</td>\n",
              "      <td>36.0</td>\n",
              "      <td>Wednesday</td>\n",
              "      <td>16</td>\n",
              "      <td>Robbery</td>\n",
              "      <td>D55</td>\n",
              "      <td>70</td>\n",
              "      <td>South Riverdale (70)</td>\n",
              "      <td>-79.351356</td>\n",
              "      <td>43.662468</td>\n",
              "      <td>3</td>\n",
              "      <td>Weekday</td>\n",
              "      <td>day</td>\n",
              "    </tr>\n",
              "    <tr>\n",
              "      <th>3</th>\n",
              "      <td>-8832786.117</td>\n",
              "      <td>5415849.969</td>\n",
              "      <td>2165</td>\n",
              "      <td>GO-20142951465</td>\n",
              "      <td>2014/09/21 04:00:00+00</td>\n",
              "      <td>2014/09/21 04:00:00+00</td>\n",
              "      <td>Outside</td>\n",
              "      <td>1610</td>\n",
              "      <td>150</td>\n",
              "      <td>Robbery - Purse Snatch</td>\n",
              "      <td>2014</td>\n",
              "      <td>September</td>\n",
              "      <td>21</td>\n",
              "      <td>264</td>\n",
              "      <td>Sunday</td>\n",
              "      <td>3</td>\n",
              "      <td>2014.0</td>\n",
              "      <td>September</td>\n",
              "      <td>21.0</td>\n",
              "      <td>264.0</td>\n",
              "      <td>Sunday</td>\n",
              "      <td>2</td>\n",
              "      <td>Robbery</td>\n",
              "      <td>D55</td>\n",
              "      <td>68</td>\n",
              "      <td>North Riverdale (68)</td>\n",
              "      <td>-79.346268</td>\n",
              "      <td>43.678673</td>\n",
              "      <td>4</td>\n",
              "      <td>Weekday</td>\n",
              "      <td>NaN</td>\n",
              "    </tr>\n",
              "    <tr>\n",
              "      <th>4</th>\n",
              "      <td>-8834139.049</td>\n",
              "      <td>5415810.627</td>\n",
              "      <td>2173</td>\n",
              "      <td>GO-20143017218</td>\n",
              "      <td>2014/09/30 04:00:00+00</td>\n",
              "      <td>2014/09/30 04:00:00+00</td>\n",
              "      <td>Commercial</td>\n",
              "      <td>1610</td>\n",
              "      <td>210</td>\n",
              "      <td>Robbery - Business</td>\n",
              "      <td>2014</td>\n",
              "      <td>September</td>\n",
              "      <td>30</td>\n",
              "      <td>273</td>\n",
              "      <td>Tuesday</td>\n",
              "      <td>20</td>\n",
              "      <td>2014.0</td>\n",
              "      <td>September</td>\n",
              "      <td>30.0</td>\n",
              "      <td>273.0</td>\n",
              "      <td>Tuesday</td>\n",
              "      <td>20</td>\n",
              "      <td>Robbery</td>\n",
              "      <td>D54</td>\n",
              "      <td>67</td>\n",
              "      <td>Playter Estates-Danforth (67)</td>\n",
              "      <td>-79.358421</td>\n",
              "      <td>43.678417</td>\n",
              "      <td>5</td>\n",
              "      <td>Weekday</td>\n",
              "      <td>NaN</td>\n",
              "    </tr>\n",
              "  </tbody>\n",
              "</table>\n",
              "</div>"
            ],
            "text/plain": [
              "             X            Y  Index_  ... ObjectId weekdayorend time\n",
              "0 -8822362.649  5423352.254    2150  ...        1      Weekday  day\n",
              "1 -8833352.599  5413356.045    2158  ...        2      Weekday  day\n",
              "2 -8833352.599  5413356.045    2159  ...        3      Weekday  day\n",
              "3 -8832786.117  5415849.969    2165  ...        4      Weekday  NaN\n",
              "4 -8834139.049  5415810.627    2173  ...        5      Weekday  NaN\n",
              "\n",
              "[5 rows x 31 columns]"
            ]
          },
          "metadata": {
            "tags": []
          },
          "execution_count": 22
        }
      ]
    },
    {
      "cell_type": "code",
      "metadata": {
        "id": "5yHdYAo4yw7z"
      },
      "source": [
        "robbery.loc[(robbery['occurrencehour'] >=6) & (robbery['occurrencehour'] <= 18), 'time'] = 'day'\r\n",
        "robbery.loc[(robbery['occurrencehour'] < 6) & (robbery['occurrencehour'] > 18), 'time'] = 'night'"
      ],
      "execution_count": 20,
      "outputs": []
    },
    {
      "cell_type": "code",
      "metadata": {
        "id": "UM74MPZd0LWY",
        "outputId": "f71a0f03-e287-4040-94c6-44edf57b7aed",
        "colab": {
          "base_uri": "https://localhost:8080/",
          "height": 383
        }
      },
      "source": [
        "robbery.head()"
      ],
      "execution_count": 19,
      "outputs": [
        {
          "output_type": "execute_result",
          "data": {
            "text/html": [
              "<div>\n",
              "<style scoped>\n",
              "    .dataframe tbody tr th:only-of-type {\n",
              "        vertical-align: middle;\n",
              "    }\n",
              "\n",
              "    .dataframe tbody tr th {\n",
              "        vertical-align: top;\n",
              "    }\n",
              "\n",
              "    .dataframe thead th {\n",
              "        text-align: right;\n",
              "    }\n",
              "</style>\n",
              "<table border=\"1\" class=\"dataframe\">\n",
              "  <thead>\n",
              "    <tr style=\"text-align: right;\">\n",
              "      <th></th>\n",
              "      <th>X</th>\n",
              "      <th>Y</th>\n",
              "      <th>Index_</th>\n",
              "      <th>event_unique_id</th>\n",
              "      <th>occurrencedate</th>\n",
              "      <th>reporteddate</th>\n",
              "      <th>premisetype</th>\n",
              "      <th>ucr_code</th>\n",
              "      <th>ucr_ext</th>\n",
              "      <th>offence</th>\n",
              "      <th>reportedyear</th>\n",
              "      <th>reportedmonth</th>\n",
              "      <th>reportedday</th>\n",
              "      <th>reporteddayofyear</th>\n",
              "      <th>reporteddayofweek</th>\n",
              "      <th>reportedhour</th>\n",
              "      <th>occurrenceyear</th>\n",
              "      <th>occurrencemonth</th>\n",
              "      <th>occurrenceday</th>\n",
              "      <th>occurrencedayofyear</th>\n",
              "      <th>occurrencedayofweek</th>\n",
              "      <th>occurrencehour</th>\n",
              "      <th>MCI</th>\n",
              "      <th>Division</th>\n",
              "      <th>Hood_ID</th>\n",
              "      <th>Neighbourhood</th>\n",
              "      <th>Long</th>\n",
              "      <th>Lat</th>\n",
              "      <th>ObjectId</th>\n",
              "      <th>weekdayorend</th>\n",
              "      <th>time</th>\n",
              "    </tr>\n",
              "  </thead>\n",
              "  <tbody>\n",
              "    <tr>\n",
              "      <th>0</th>\n",
              "      <td>-8822362.649</td>\n",
              "      <td>5423352.254</td>\n",
              "      <td>2150</td>\n",
              "      <td>GO-20141468111</td>\n",
              "      <td>2014/02/04 05:00:00+00</td>\n",
              "      <td>2014/02/04 05:00:00+00</td>\n",
              "      <td>Apartment</td>\n",
              "      <td>1610</td>\n",
              "      <td>200</td>\n",
              "      <td>Robbery - Mugging</td>\n",
              "      <td>2014</td>\n",
              "      <td>February</td>\n",
              "      <td>4</td>\n",
              "      <td>35</td>\n",
              "      <td>Tuesday</td>\n",
              "      <td>13</td>\n",
              "      <td>2014.0</td>\n",
              "      <td>February</td>\n",
              "      <td>4.0</td>\n",
              "      <td>35.0</td>\n",
              "      <td>Tuesday</td>\n",
              "      <td>13</td>\n",
              "      <td>Robbery</td>\n",
              "      <td>D41</td>\n",
              "      <td>124</td>\n",
              "      <td>Kennedy Park (124)</td>\n",
              "      <td>-79.252632</td>\n",
              "      <td>43.727394</td>\n",
              "      <td>1</td>\n",
              "      <td>Weekday</td>\n",
              "      <td>day</td>\n",
              "    </tr>\n",
              "    <tr>\n",
              "      <th>1</th>\n",
              "      <td>-8833352.599</td>\n",
              "      <td>5413356.045</td>\n",
              "      <td>2158</td>\n",
              "      <td>GO-20141474998</td>\n",
              "      <td>2014/02/05 05:00:00+00</td>\n",
              "      <td>2014/02/05 05:00:00+00</td>\n",
              "      <td>Apartment</td>\n",
              "      <td>1610</td>\n",
              "      <td>130</td>\n",
              "      <td>Robbery - Home Invasion</td>\n",
              "      <td>2014</td>\n",
              "      <td>February</td>\n",
              "      <td>5</td>\n",
              "      <td>36</td>\n",
              "      <td>Wednesday</td>\n",
              "      <td>16</td>\n",
              "      <td>2014.0</td>\n",
              "      <td>February</td>\n",
              "      <td>5.0</td>\n",
              "      <td>36.0</td>\n",
              "      <td>Wednesday</td>\n",
              "      <td>16</td>\n",
              "      <td>Robbery</td>\n",
              "      <td>D55</td>\n",
              "      <td>70</td>\n",
              "      <td>South Riverdale (70)</td>\n",
              "      <td>-79.351356</td>\n",
              "      <td>43.662468</td>\n",
              "      <td>2</td>\n",
              "      <td>Weekday</td>\n",
              "      <td>day</td>\n",
              "    </tr>\n",
              "    <tr>\n",
              "      <th>2</th>\n",
              "      <td>-8833352.599</td>\n",
              "      <td>5413356.045</td>\n",
              "      <td>2159</td>\n",
              "      <td>GO-20141474998</td>\n",
              "      <td>2014/02/05 05:00:00+00</td>\n",
              "      <td>2014/02/05 05:00:00+00</td>\n",
              "      <td>Apartment</td>\n",
              "      <td>1610</td>\n",
              "      <td>130</td>\n",
              "      <td>Robbery - Home Invasion</td>\n",
              "      <td>2014</td>\n",
              "      <td>February</td>\n",
              "      <td>5</td>\n",
              "      <td>36</td>\n",
              "      <td>Wednesday</td>\n",
              "      <td>16</td>\n",
              "      <td>2014.0</td>\n",
              "      <td>February</td>\n",
              "      <td>5.0</td>\n",
              "      <td>36.0</td>\n",
              "      <td>Wednesday</td>\n",
              "      <td>16</td>\n",
              "      <td>Robbery</td>\n",
              "      <td>D55</td>\n",
              "      <td>70</td>\n",
              "      <td>South Riverdale (70)</td>\n",
              "      <td>-79.351356</td>\n",
              "      <td>43.662468</td>\n",
              "      <td>3</td>\n",
              "      <td>Weekday</td>\n",
              "      <td>day</td>\n",
              "    </tr>\n",
              "    <tr>\n",
              "      <th>3</th>\n",
              "      <td>-8832786.117</td>\n",
              "      <td>5415849.969</td>\n",
              "      <td>2165</td>\n",
              "      <td>GO-20142951465</td>\n",
              "      <td>2014/09/21 04:00:00+00</td>\n",
              "      <td>2014/09/21 04:00:00+00</td>\n",
              "      <td>Outside</td>\n",
              "      <td>1610</td>\n",
              "      <td>150</td>\n",
              "      <td>Robbery - Purse Snatch</td>\n",
              "      <td>2014</td>\n",
              "      <td>September</td>\n",
              "      <td>21</td>\n",
              "      <td>264</td>\n",
              "      <td>Sunday</td>\n",
              "      <td>3</td>\n",
              "      <td>2014.0</td>\n",
              "      <td>September</td>\n",
              "      <td>21.0</td>\n",
              "      <td>264.0</td>\n",
              "      <td>Sunday</td>\n",
              "      <td>2</td>\n",
              "      <td>Robbery</td>\n",
              "      <td>D55</td>\n",
              "      <td>68</td>\n",
              "      <td>North Riverdale (68)</td>\n",
              "      <td>-79.346268</td>\n",
              "      <td>43.678673</td>\n",
              "      <td>4</td>\n",
              "      <td>Weekday</td>\n",
              "      <td>NaN</td>\n",
              "    </tr>\n",
              "    <tr>\n",
              "      <th>4</th>\n",
              "      <td>-8834139.049</td>\n",
              "      <td>5415810.627</td>\n",
              "      <td>2173</td>\n",
              "      <td>GO-20143017218</td>\n",
              "      <td>2014/09/30 04:00:00+00</td>\n",
              "      <td>2014/09/30 04:00:00+00</td>\n",
              "      <td>Commercial</td>\n",
              "      <td>1610</td>\n",
              "      <td>210</td>\n",
              "      <td>Robbery - Business</td>\n",
              "      <td>2014</td>\n",
              "      <td>September</td>\n",
              "      <td>30</td>\n",
              "      <td>273</td>\n",
              "      <td>Tuesday</td>\n",
              "      <td>20</td>\n",
              "      <td>2014.0</td>\n",
              "      <td>September</td>\n",
              "      <td>30.0</td>\n",
              "      <td>273.0</td>\n",
              "      <td>Tuesday</td>\n",
              "      <td>20</td>\n",
              "      <td>Robbery</td>\n",
              "      <td>D54</td>\n",
              "      <td>67</td>\n",
              "      <td>Playter Estates-Danforth (67)</td>\n",
              "      <td>-79.358421</td>\n",
              "      <td>43.678417</td>\n",
              "      <td>5</td>\n",
              "      <td>Weekday</td>\n",
              "      <td>NaN</td>\n",
              "    </tr>\n",
              "  </tbody>\n",
              "</table>\n",
              "</div>"
            ],
            "text/plain": [
              "             X            Y  Index_  ... ObjectId weekdayorend time\n",
              "0 -8822362.649  5423352.254    2150  ...        1      Weekday  day\n",
              "1 -8833352.599  5413356.045    2158  ...        2      Weekday  day\n",
              "2 -8833352.599  5413356.045    2159  ...        3      Weekday  day\n",
              "3 -8832786.117  5415849.969    2165  ...        4      Weekday  NaN\n",
              "4 -8834139.049  5415810.627    2173  ...        5      Weekday  NaN\n",
              "\n",
              "[5 rows x 31 columns]"
            ]
          },
          "metadata": {
            "tags": []
          },
          "execution_count": 19
        }
      ]
    },
    {
      "cell_type": "markdown",
      "metadata": {
        "id": "qa49MLrop1rz"
      },
      "source": [
        "##Stroke Prediction\r\n",
        "\r\n",
        "Load the following dataset off Kaggle: https://www.kaggle.com/fedesoriano/stroke-prediction-dataset\r\n",
        "\r\n",
        "We are interested in creating a model that can predict someone's BMI based on certain features. Use the appropriate test to determine if Hypertension and whether someone has been married or not affects their BMI."
      ]
    },
    {
      "cell_type": "code",
      "metadata": {
        "id": "ghBJrybhoS7E"
      },
      "source": [
        ""
      ],
      "execution_count": null,
      "outputs": []
    }
  ]
}