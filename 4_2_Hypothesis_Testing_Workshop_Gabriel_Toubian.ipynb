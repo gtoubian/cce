{
  "nbformat": 4,
  "nbformat_minor": 0,
  "metadata": {
    "colab": {
      "name": "4.2_Hypothesis_Testing_Workshop_Gabriel_Toubian.ipynb",
      "provenance": [],
      "collapsed_sections": [],
      "include_colab_link": true
    },
    "kernelspec": {
      "name": "python3",
      "display_name": "Python 3"
    }
  },
  "cells": [
    {
      "cell_type": "markdown",
      "metadata": {
        "id": "view-in-github",
        "colab_type": "text"
      },
      "source": [
        "<a href=\"https://colab.research.google.com/github/gtoubian/cce/blob/main/4_2_Hypothesis_Testing_Workshop_Gabriel_Toubian.ipynb\" target=\"_parent\"><img src=\"https://colab.research.google.com/assets/colab-badge.svg\" alt=\"Open In Colab\"/></a>"
      ]
    },
    {
      "cell_type": "markdown",
      "metadata": {
        "id": "c2rBy3y0Fm7O"
      },
      "source": [
        "**Gabriel Toubian** - gtoubian@gmail.com"
      ]
    },
    {
      "cell_type": "markdown",
      "metadata": {
        "id": "V3TanIs6iMer"
      },
      "source": [
        "#NOTE:\r\n",
        "Please insert a text cell at the top of the Notebook with your Full Name in Bold and your email that you use for both Journey and Github\r\n",
        "\r\n",
        "Also, add to the title of the notebook, an underscore as well as your name.\r\n",
        "\r\n",
        "Ex. 'Workshop_Hypothesis_Testing_Usama'"
      ]
    },
    {
      "cell_type": "code",
      "metadata": {
        "id": "Adnby7luhv2M"
      },
      "source": [
        ""
      ],
      "execution_count": null,
      "outputs": []
    },
    {
      "cell_type": "markdown",
      "metadata": {
        "id": "2-N42G_JibMF"
      },
      "source": [
        "#Warmup\r\n",
        "\r\n",
        "Import pandas, numpy, scipy.stats, statsmodels.api & statsmodels.formula.api.ols "
      ]
    },
    {
      "cell_type": "code",
      "metadata": {
        "id": "ANsh4eHsixl5",
        "colab": {
          "base_uri": "https://localhost:8080/"
        },
        "outputId": "bf189380-d57f-4665-eceb-1eb5f8f414a7"
      },
      "source": [
        "import pandas as pd\r\n",
        "import numpy as np\r\n",
        "import scipy.stats as sc\r\n",
        "import statsmodels.api as sm\r\n",
        "from statsmodels.formula.api import ols"
      ],
      "execution_count": 1,
      "outputs": [
        {
          "output_type": "stream",
          "text": [
            "/usr/local/lib/python3.7/dist-packages/statsmodels/tools/_testing.py:19: FutureWarning: pandas.util.testing is deprecated. Use the functions in the public API at pandas.testing instead.\n",
            "  import pandas.util.testing as tm\n"
          ],
          "name": "stderr"
        }
      ]
    },
    {
      "cell_type": "markdown",
      "metadata": {
        "id": "C2D6-jVyiyev"
      },
      "source": [
        "#Hypothesis Testing\r\n",
        "\r\n",
        "##Iris Data\r\n",
        "It is believed that the average sepal length of the setosa species is 4 cm. Use the Iris data set as well as the appropriate test to determine if we have evidence to reject this claim."
      ]
    },
    {
      "cell_type": "code",
      "metadata": {
        "id": "QAk9bMm_jiA3",
        "colab": {
          "base_uri": "https://localhost:8080/",
          "height": 204
        },
        "outputId": "58e74644-c0d4-42f4-b361-8de3c53648d7"
      },
      "source": [
        "url = \"https://gist.githubusercontent.com/curran/a08a1080b88344b0c8a7/raw/0e7a9b0a5d22642a06d3d5b9bcbad9890c8ee534/iris.csv\"\r\n",
        "df = pd.read_csv(url)\r\n",
        "df.head()"
      ],
      "execution_count": 3,
      "outputs": [
        {
          "output_type": "execute_result",
          "data": {
            "text/html": [
              "<div>\n",
              "<style scoped>\n",
              "    .dataframe tbody tr th:only-of-type {\n",
              "        vertical-align: middle;\n",
              "    }\n",
              "\n",
              "    .dataframe tbody tr th {\n",
              "        vertical-align: top;\n",
              "    }\n",
              "\n",
              "    .dataframe thead th {\n",
              "        text-align: right;\n",
              "    }\n",
              "</style>\n",
              "<table border=\"1\" class=\"dataframe\">\n",
              "  <thead>\n",
              "    <tr style=\"text-align: right;\">\n",
              "      <th></th>\n",
              "      <th>sepal_length</th>\n",
              "      <th>sepal_width</th>\n",
              "      <th>petal_length</th>\n",
              "      <th>petal_width</th>\n",
              "      <th>species</th>\n",
              "    </tr>\n",
              "  </thead>\n",
              "  <tbody>\n",
              "    <tr>\n",
              "      <th>0</th>\n",
              "      <td>5.1</td>\n",
              "      <td>3.5</td>\n",
              "      <td>1.4</td>\n",
              "      <td>0.2</td>\n",
              "      <td>setosa</td>\n",
              "    </tr>\n",
              "    <tr>\n",
              "      <th>1</th>\n",
              "      <td>4.9</td>\n",
              "      <td>3.0</td>\n",
              "      <td>1.4</td>\n",
              "      <td>0.2</td>\n",
              "      <td>setosa</td>\n",
              "    </tr>\n",
              "    <tr>\n",
              "      <th>2</th>\n",
              "      <td>4.7</td>\n",
              "      <td>3.2</td>\n",
              "      <td>1.3</td>\n",
              "      <td>0.2</td>\n",
              "      <td>setosa</td>\n",
              "    </tr>\n",
              "    <tr>\n",
              "      <th>3</th>\n",
              "      <td>4.6</td>\n",
              "      <td>3.1</td>\n",
              "      <td>1.5</td>\n",
              "      <td>0.2</td>\n",
              "      <td>setosa</td>\n",
              "    </tr>\n",
              "    <tr>\n",
              "      <th>4</th>\n",
              "      <td>5.0</td>\n",
              "      <td>3.6</td>\n",
              "      <td>1.4</td>\n",
              "      <td>0.2</td>\n",
              "      <td>setosa</td>\n",
              "    </tr>\n",
              "  </tbody>\n",
              "</table>\n",
              "</div>"
            ],
            "text/plain": [
              "   sepal_length  sepal_width  petal_length  petal_width species\n",
              "0           5.1          3.5           1.4          0.2  setosa\n",
              "1           4.9          3.0           1.4          0.2  setosa\n",
              "2           4.7          3.2           1.3          0.2  setosa\n",
              "3           4.6          3.1           1.5          0.2  setosa\n",
              "4           5.0          3.6           1.4          0.2  setosa"
            ]
          },
          "metadata": {
            "tags": []
          },
          "execution_count": 3
        }
      ]
    },
    {
      "cell_type": "code",
      "metadata": {
        "colab": {
          "base_uri": "https://localhost:8080/"
        },
        "id": "DlzXysh4H49M",
        "outputId": "8c05e24a-7357-425c-d2d1-e7f2cbf9b220"
      },
      "source": [
        "sepal_lengths = np.array(df['sepal_length'])\r\n",
        "sc.ttest_1samp(sepal_lengths, 4.0)"
      ],
      "execution_count": 12,
      "outputs": [
        {
          "output_type": "execute_result",
          "data": {
            "text/plain": [
              "Ttest_1sampResult(statistic=27.263680640799215, pvalue=8.764592435410748e-60)"
            ]
          },
          "metadata": {
            "tags": []
          },
          "execution_count": 12
        }
      ]
    },
    {
      "cell_type": "code",
      "metadata": {
        "id": "3jBG4DwfK3d5"
      },
      "source": [
        ""
      ],
      "execution_count": null,
      "outputs": []
    },
    {
      "cell_type": "markdown",
      "metadata": {
        "id": "7glZcd6Wlu1s"
      },
      "source": [
        "Use an appropriate test to see if there is a significant difference in the average sepal width between the versicolor and virginica species."
      ]
    },
    {
      "cell_type": "code",
      "metadata": {
        "id": "GIgqHrqvjm_u"
      },
      "source": [
        ""
      ],
      "execution_count": null,
      "outputs": []
    },
    {
      "cell_type": "markdown",
      "metadata": {
        "id": "hCU8PbeXmWCW"
      },
      "source": [
        "##Robberies in Toronto\r\n",
        "\r\n",
        "Download the Robberies in Toronto Data Set from this link (https://data.torontopolice.on.ca/datasets/robbery-2014-to-2019?geometry=-79.896%2C43.627%2C-78.853%2C43.800) and read it into a DataFrame. Use an appropriate test to see if whether the Robbery occured on a weekend affected whether the Robbery would occur in the Day or in the Night. \r\n",
        "\r\n",
        "**HINT:** You may assume that day hours are from 6 am to 6 pm. Before carrying out your analysis, you must modify your data frame such that each row has a column saying whether the crime occured over the weekend or not as well as a column saying whether the crime occured during the day or night."
      ]
    },
    {
      "cell_type": "code",
      "metadata": {
        "id": "xrQZ0OZGjpbq"
      },
      "source": [
        ""
      ],
      "execution_count": null,
      "outputs": []
    },
    {
      "cell_type": "markdown",
      "metadata": {
        "id": "qa49MLrop1rz"
      },
      "source": [
        "##Stroke Prediction\r\n",
        "\r\n",
        "Load the following dataset off Kaggle: https://www.kaggle.com/fedesoriano/stroke-prediction-dataset\r\n",
        "\r\n",
        "We are interested in creating a model that can predict someone's BMI based on certain features. Use the appropriate test to determine if Hypertension and whether someone has been married or not affects their BMI."
      ]
    },
    {
      "cell_type": "code",
      "metadata": {
        "id": "ghBJrybhoS7E"
      },
      "source": [
        ""
      ],
      "execution_count": null,
      "outputs": []
    }
  ]
}