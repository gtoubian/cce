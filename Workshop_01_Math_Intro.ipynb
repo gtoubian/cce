{
  "nbformat": 4,
  "nbformat_minor": 0,
  "metadata": {
    "colab": {
      "name": "Workshop 01 Math Intro.ipynb",
      "provenance": [],
      "collapsed_sections": [],
      "include_colab_link": true
    },
    "kernelspec": {
      "name": "python3",
      "display_name": "Python 3"
    }
  },
  "cells": [
    {
      "cell_type": "markdown",
      "metadata": {
        "id": "view-in-github",
        "colab_type": "text"
      },
      "source": [
        "<a href=\"https://colab.research.google.com/github/gtoubian/cce/blob/main/Workshop_01_Math_Intro.ipynb\" target=\"_parent\"><img src=\"https://colab.research.google.com/assets/colab-badge.svg\" alt=\"Open In Colab\"/></a>"
      ]
    },
    {
      "cell_type": "markdown",
      "metadata": {
        "id": "RA7bs3h4wnMZ"
      },
      "source": [
        "#Warmup\r\n",
        "\r\n",
        "Run the following lines in the cell below:\r\n",
        "\r\n",
        "\r\n",
        "```\r\n",
        "%matplotlib inline\r\n",
        "import numpy as np\r\n",
        "import matplotlib.pyplot as plt\r\n",
        "import pandas as pd\r\n",
        "```\r\n",
        "\r\n",
        "**Note:** You can run a cell by pressing 'Shift+Enter'"
      ]
    },
    {
      "cell_type": "code",
      "metadata": {
        "id": "pp4y1kK3xFry"
      },
      "source": [
        "%matplotlib inline\r\n",
        "import numpy as np\r\n",
        "import matplotlib.pyplot as plt\r\n",
        "import pandas as pd"
      ],
      "execution_count": 1,
      "outputs": []
    },
    {
      "cell_type": "markdown",
      "metadata": {
        "id": "PV5Y_dwx4qvq"
      },
      "source": [
        "Now add a text cell here and write your Name in a large header font, your name in bold and your name in Italics"
      ]
    },
    {
      "cell_type": "markdown",
      "metadata": {
        "id": "PHjqnxR0I6-d"
      },
      "source": [
        "##Gabriel Toubian\r\n",
        "**Gabriel Toubian**\r\n",
        "*Gabriel Toubian*"
      ]
    },
    {
      "cell_type": "markdown",
      "metadata": {
        "id": "iseW_Yq6yPGq"
      },
      "source": [
        "The following line ouputs a uniformly spaced sequence of numbers using the linspace function. The linspace function takes in 3 inputs or arguments. The first imput is the lower limit, the second is the upper limit, and the third is the number of points you would like inbetween the chosen limits."
      ]
    },
    {
      "cell_type": "code",
      "metadata": {
        "colab": {
          "base_uri": "https://localhost:8080/"
        },
        "id": "wCICm7Ru0JQ8",
        "outputId": "bf826fee-98e4-4c5f-c991-761b35bf156e"
      },
      "source": [
        "X = np.linspace(0,5,6)\r\n",
        "print (X)"
      ],
      "execution_count": 2,
      "outputs": [
        {
          "output_type": "stream",
          "text": [
            "[0. 1. 2. 3. 4. 5.]\n"
          ],
          "name": "stdout"
        }
      ]
    },
    {
      "cell_type": "markdown",
      "metadata": {
        "id": "I24AoqUr1AiC"
      },
      "source": [
        "Here, I ouputted 6 data points between 0 and 5 and stored it as 'X'. Use the linspace function to generate 21 data points between -10 and 10 and store the result as 'A'."
      ]
    },
    {
      "cell_type": "code",
      "metadata": {
        "id": "4wAuPeRV1TO1",
        "colab": {
          "base_uri": "https://localhost:8080/"
        },
        "outputId": "512d19eb-5ab7-4657-eb5b-a4ef531066b5"
      },
      "source": [
        "A=np.linspace(-10,10,21)\r\n",
        "print(A)"
      ],
      "execution_count": 3,
      "outputs": [
        {
          "output_type": "stream",
          "text": [
            "[-10.  -9.  -8.  -7.  -6.  -5.  -4.  -3.  -2.  -1.   0.   1.   2.   3.\n",
            "   4.   5.   6.   7.   8.   9.  10.]\n"
          ],
          "name": "stdout"
        }
      ]
    },
    {
      "cell_type": "markdown",
      "metadata": {
        "id": "Jw22rTCI1QKO"
      },
      "source": [
        "#Calculus\n",
        "\n",
        "We will be working with derivatives in this section. In the cell below, write the function for fprime(x) that I used during the math intro lecture and run the cell.\n",
        "\n",
        " \n"
      ]
    },
    {
      "cell_type": "code",
      "metadata": {
        "id": "tESrhXOZ1QKP"
      },
      "source": [
        "def fprime(x):\r\n",
        "  h = 1e-5\r\n",
        "  return (f(x+h) - f(x))/h"
      ],
      "execution_count": 4,
      "outputs": []
    },
    {
      "cell_type": "markdown",
      "metadata": {
        "id": "Cnq2t1032m9f"
      },
      "source": [
        "Write the following functions into python, and for each function, run f(A), fprime(A), type the value in A that gives the maximum or minimum value and write what that maximum or minimum value is. To find the value of A that brings the derivative to zero (or close to it), use a loop.\r\n",
        "\r\n",
        "Hint: Your answers should have the form:\r\n",
        "\r\n",
        "\r\n",
        "\r\n",
        "```\r\n",
        "def f(x):\r\n",
        "    return ...\r\n",
        "\r\n",
        "print(f(A))\r\n",
        "print(fprime(A))\r\n",
        "\r\n",
        "for i in range(fprime(A)):\r\n",
        "  if abs(fprime(A)[i]) < 0.01 and abs(fprime(A)[i])>0:\r\n",
        "    print(f\"The value in A that gives the max/min value is...(Complete the rest)\")\r\n",
        "    print(f\"The max/min value in f(A) is ...(Complete the rest)...\")\r\n",
        "```"
      ]
    },
    {
      "cell_type": "markdown",
      "metadata": {
        "id": "vbbfFmi86Zs_"
      },
      "source": [
        "$$f(x) = -x^{2} - 4x -27$$"
      ]
    },
    {
      "cell_type": "code",
      "metadata": {
        "id": "_V6Iyokm6l2-",
        "colab": {
          "base_uri": "https://localhost:8080/"
        },
        "outputId": "f46f0303-5ee1-4a93-a3aa-625a0071f045"
      },
      "source": [
        "def f(x):\r\n",
        "  return (((x**2)*-1)-(4*x)-27)\r\n",
        "\r\n",
        "def fprime(x):\r\n",
        "  h = 1e-5\r\n",
        "  return (f(x+h) - f(x))/h\r\n",
        "\r\n",
        "print(f(A))\r\n",
        "print(fprime(A))\r\n",
        "\r\n",
        "for i in range(len(fprime(A))):\r\n",
        "  if abs(fprime(A)[i]) < 0.01 and abs(fprime(A)[i])>0:\r\n",
        "    print(f\"The value in A that gives the max/min value is...(Complete the rest)\")\r\n",
        "    print(f\"The max/min value in f(A) is ...(Complete the rest)...\")\r\n",
        "\r\n"
      ],
      "execution_count": 5,
      "outputs": [
        {
          "output_type": "stream",
          "text": [
            "[ -87.  -72.  -59.  -48.  -39.  -32.  -27.  -24.  -23.  -24.  -27.  -32.\n",
            "  -39.  -48.  -59.  -72.  -87. -104. -123. -144. -167.]\n",
            "[ 1.59999900e+01  1.39999900e+01  1.19999900e+01  9.99999000e+00\n",
            "  7.99999000e+00  5.99999000e+00  3.99999000e+00  1.99999000e+00\n",
            " -1.00001785e-05 -2.00001000e+00 -4.00001000e+00 -6.00001000e+00\n",
            " -8.00001000e+00 -1.00000100e+01 -1.20000100e+01 -1.40000100e+01\n",
            " -1.60000100e+01 -1.80000100e+01 -2.00000100e+01 -2.20000100e+01\n",
            " -2.40000100e+01]\n",
            "The value in A that gives the max/min value is...(Complete the rest)\n",
            "The max/min value in f(A) is ...(Complete the rest)...\n"
          ],
          "name": "stdout"
        }
      ]
    },
    {
      "cell_type": "markdown",
      "metadata": {
        "id": "1XrnZOSV64Xy"
      },
      "source": [
        "$$f(x) = x^{2} - 6x + 17$$\r\n",
        "\r\n",
        "\r\n",
        "\r\n",
        "\r\n"
      ]
    },
    {
      "cell_type": "code",
      "metadata": {
        "id": "p5zdp9ZK9UJn",
        "colab": {
          "base_uri": "https://localhost:8080/"
        },
        "outputId": "58d2bcc1-7f50-4fb9-98d9-fb3b08cb0c2c"
      },
      "source": [
        "def f(x):\r\n",
        "  return x**2 - 6*x + 17\r\n",
        "\r\n",
        "def fprime(x):\r\n",
        "  h = 1e-5\r\n",
        "  return (f(x+h) - f(x))/h\r\n",
        "\r\n",
        "print(f(A))\r\n",
        "print(fprime(A))\r\n",
        "\r\n",
        "for i in range(len(fprime(A))):\r\n",
        "  if abs(fprime(A)[i]) < 0.01 and abs(fprime(A)[i])>0:\r\n",
        "    print(f\"The value in A that gives the max/min value is...(Complete the rest)\")\r\n",
        "    print(f\"The max/min value in f(A) is ...(Complete the rest)...\")"
      ],
      "execution_count": 6,
      "outputs": [
        {
          "output_type": "stream",
          "text": [
            "[177. 152. 129. 108.  89.  72.  57.  44.  33.  24.  17.  12.   9.   8.\n",
            "   9.  12.  17.  24.  33.  44.  57.]\n",
            "[-2.59999900e+01 -2.39999900e+01 -2.19999900e+01 -1.99999900e+01\n",
            " -1.79999900e+01 -1.59999900e+01 -1.39999900e+01 -1.19999900e+01\n",
            " -9.99999000e+00 -7.99999000e+00 -5.99999000e+00 -3.99999000e+00\n",
            " -1.99999000e+00  9.99982319e-06  2.00001000e+00  4.00001000e+00\n",
            "  6.00001000e+00  8.00001000e+00  1.00000100e+01  1.20000100e+01\n",
            "  1.40000100e+01]\n",
            "The value in A that gives the max/min value is...(Complete the rest)\n",
            "The max/min value in f(A) is ...(Complete the rest)...\n"
          ],
          "name": "stdout"
        }
      ]
    },
    {
      "cell_type": "markdown",
      "metadata": {
        "id": "AyGVl8Cn6mR5"
      },
      "source": [
        "$$f(x) = x^{4} - 12x^{3} + 54x^{2}-108x + 81$$"
      ]
    },
    {
      "cell_type": "code",
      "metadata": {
        "id": "htkYr9AK9krG",
        "colab": {
          "base_uri": "https://localhost:8080/"
        },
        "outputId": "fed8e0c4-5ffd-454d-e0fc-b2b61681b368"
      },
      "source": [
        "def f(x):\r\n",
        "  return x**4 - (12*(x**3)) + (54*(x**2)) - 108*x + 81\r\n",
        "\r\n",
        "def fprime(x):\r\n",
        "  h = 1e-5\r\n",
        "  return (f(x+h) - f(x))/h\r\n",
        "\r\n",
        "print(f(A))\r\n",
        "print(fprime(A))\r\n",
        "\r\n",
        "for i in range(len(fprime(A))):\r\n",
        "  if abs(fprime(A)[i]) < 0.01 and abs(fprime(A)[i])>0:\r\n",
        "    print(f\"The value in A that gives the max/min value is...(Complete the rest)\")\r\n",
        "    print(f\"The max/min value in f(A) is ...(Complete the rest)...\")"
      ],
      "execution_count": 7,
      "outputs": [
        {
          "output_type": "stream",
          "text": [
            "[2.8561e+04 2.0736e+04 1.4641e+04 1.0000e+04 6.5610e+03 4.0960e+03\n",
            " 2.4010e+03 1.2960e+03 6.2500e+02 2.5600e+02 8.1000e+01 1.6000e+01\n",
            " 1.0000e+00 0.0000e+00 1.0000e+00 1.6000e+01 8.1000e+01 2.5600e+02\n",
            " 6.2500e+02 1.2960e+03 2.4010e+03]\n",
            "[-8.78798986e+03 -6.91199136e+03 -5.32399274e+03 -3.99999400e+03\n",
            " -2.91599514e+03 -2.04799616e+03 -1.37199706e+03 -8.63997840e+02\n",
            " -4.99998500e+02 -2.55999040e+02 -1.07999460e+02 -3.19997600e+01\n",
            " -3.99994000e+00 -5.68434189e-09  4.00005999e+00  3.20002400e+01\n",
            "  1.08000540e+02  2.56000960e+02  5.00001500e+02  8.64002160e+02\n",
            "  1.37200294e+03]\n",
            "The value in A that gives the max/min value is...(Complete the rest)\n",
            "The max/min value in f(A) is ...(Complete the rest)...\n"
          ],
          "name": "stdout"
        }
      ]
    },
    {
      "cell_type": "markdown",
      "metadata": {
        "id": "Bb_eh5RAb89i"
      },
      "source": [
        "##Line of Best Fit Exercise\r\n",
        "\r\n",
        "During school, you've probably worked with using scatterplots and drawing a line of best fit on the data that didn't deviate too far from the scatterpoints. By doing this, we would keep the ***Error*** of the line of best fit small. As you will see in this bootcamp, a big consideration when modelling data is choosing a model that has the least error when fitted to your data for more reliable outputs. \r\n",
        "\r\n",
        "![image.png](data:image/png;base64,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)\r\n",
        "\r\n",
        "There are many error functions when it comes to modelling data. In this workshop we will look at *Ordinary Least Squares*. As you can see in the picture, the vertical distance from the line of best fit to our data point is called the error. If we square the errors and take an average of the errors, we have obtained the ***Mean Square Error (MSE)*** for the model.\r\n",
        "\r\n",
        "Ex.\r\n",
        " If we have a line of best fit with \r\n",
        " $$\\hat y = mx_i$$\r\n",
        "\r\n",
        " And we have data points (-2,5), (0,0), (3,-6).\r\n",
        "\r\n",
        " We compute the MSE as:\r\n",
        "\r\n",
        " $$ MSE = \\frac{1}{n}\\sum_{i=1}^n (y_i - \\hat y)^2$$\r\n",
        "\r\n",
        "where n is the number of data points, yi is the y co ordinate of the data point and y hat is the output the line of best fit predicts for that specific x co ordinate.\r\n",
        "\r\n",
        "$$ MSE = \\frac{1}{n}\\sum_{i=1}^n (y_i - mx_i)^2$$\r\n",
        "\r\n",
        "Now let's plug in our data points into the error function for the model.\r\n",
        "\r\n",
        "$$ MSE = \\frac {1}{3}[(5-(-2)m)^2 + (0-(0)m)^2 + (-6-3m)^2]$$\r\n",
        "\r\n",
        "Now let's try to use code to figure out which value of m will minimize our error function. By hand, try to expand out the equation for the MSE that we found above and try to clean it up. The write it as a function in the cell below.\r\n",
        "\r\n",
        "Remember to format it as:\r\n",
        "\r\n",
        "```\r\n",
        "def f(x):\r\n",
        "    return...\r\n",
        "```\r\n",
        "When defining your function, you will use x instead of m.\r\n",
        "\r\n",
        "\r\n",
        "\r\n",
        "\r\n",
        "\r\n"
      ]
    },
    {
      "cell_type": "code",
      "metadata": {
        "id": "ZVbtoe6vlXmZ"
      },
      "source": [
        "def f(x):\r\n",
        "  return ((25 - (4*x**2)) + (36 -(9*x**2)))/3\r\n"
      ],
      "execution_count": 20,
      "outputs": []
    },
    {
      "cell_type": "markdown",
      "metadata": {
        "id": "jFkswhxHlYia"
      },
      "source": [
        "Now let's go back to using our linspace function. Create 29 points between -28 and 0 using the linspace function and save the result as 'W'. In the line after, divide every element in W by 13 and save this new result as 'W'."
      ]
    },
    {
      "cell_type": "code",
      "metadata": {
        "id": "0zO9CN1_mAYs",
        "colab": {
          "base_uri": "https://localhost:8080/"
        },
        "outputId": "65753921-c718-4481-b69f-18117a84d76b"
      },
      "source": [
        "W=np.linspace(-28,0,29)\r\n",
        "W = W/13\r\n",
        "print(W)"
      ],
      "execution_count": 23,
      "outputs": [
        {
          "output_type": "stream",
          "text": [
            "[-2.15384615 -2.07692308 -2.         -1.92307692 -1.84615385 -1.76923077\n",
            " -1.69230769 -1.61538462 -1.53846154 -1.46153846 -1.38461538 -1.30769231\n",
            " -1.23076923 -1.15384615 -1.07692308 -1.         -0.92307692 -0.84615385\n",
            " -0.76923077 -0.69230769 -0.61538462 -0.53846154 -0.46153846 -0.38461538\n",
            " -0.30769231 -0.23076923 -0.15384615 -0.07692308  0.        ]\n"
          ],
          "name": "stdout"
        }
      ]
    },
    {
      "cell_type": "markdown",
      "metadata": {
        "id": "243pSKcGmA6e"
      },
      "source": [
        "Now run f(W) and fprime(W) in the cell below and find the value in W that makes the fprime = 0 (or very close to it!). Use the loop that you used in the previous exercise. That value should give us the value of m that makes it so our line of best fit has the smallest error! \r\n",
        "\r\n",
        "**NOTE:** Make the print statement in your loop as \"The value of m that gives the smallest error is...\""
      ]
    },
    {
      "cell_type": "code",
      "metadata": {
        "id": "VxU8QCyRntTr",
        "colab": {
          "base_uri": "https://localhost:8080/"
        },
        "outputId": "ea18c373-23ec-4773-d506-4a14ac998858"
      },
      "source": [
        "print(f(W))\r\n",
        "\r\n",
        "print(fprime(W))\r\n",
        "\r\n",
        "for i in range(len(fprime(W))):\r\n",
        "  if abs(fprime(W)[i]) < 0.01 and abs(fprime(W)[i])>0:\r\n",
        "    print(f\"The value in W that gives the max/min value is...(Complete the rest)\")\r\n",
        "    print(f\"The max/min value in f(W) is 1.06666233e+01\")"
      ],
      "execution_count": 24,
      "outputs": [
        {
          "output_type": "stream",
          "text": [
            "[ 0.23076923  1.64102564  3.          4.30769231  5.56410256  6.76923077\n",
            "  7.92307692  9.02564103 10.07692308 11.07692308 12.02564103 12.92307692\n",
            " 13.76923077 14.56410256 15.30769231 16.         16.64102564 17.23076923\n",
            " 17.76923077 18.25641026 18.69230769 19.07692308 19.41025641 19.69230769\n",
            " 19.92307692 20.1025641  20.23076923 20.30769231 20.33333333]\n",
            "[ 1.86666233e+01  1.79999567e+01  1.73332900e+01  1.66666233e+01\n",
            "  1.59999567e+01  1.53332900e+01  1.46666233e+01  1.39999567e+01\n",
            "  1.33332900e+01  1.26666233e+01  1.19999567e+01  1.13332900e+01\n",
            "  1.06666233e+01  9.99995667e+00  9.33329000e+00  8.66662333e+00\n",
            "  7.99995667e+00  7.33329000e+00  6.66662333e+00  5.99995667e+00\n",
            "  5.33329000e+00  4.66662333e+00  3.99995667e+00  3.33329000e+00\n",
            "  2.66662333e+00  1.99995667e+00  1.33329000e+00  6.66623333e-01\n",
            " -4.33331593e-05]\n",
            "The value in W that gives the max/min value is...(Complete the rest)\n",
            "The max/min value in f(W) is ...(Complete the rest)...\n"
          ],
          "name": "stdout"
        }
      ]
    },
    {
      "cell_type": "markdown",
      "metadata": {
        "id": "oJ8qpzmcnwSX"
      },
      "source": [
        "##Integration\r\n",
        "\r\n",
        "Below I've written a function that can integrate other functions from points a to b using the Riemann's Sum that was shown before. Make sure to run the cell below with 'Shift+Enter'.\r\n",
        "\r\n"
      ]
    },
    {
      "cell_type": "code",
      "metadata": {
        "id": "5XDzVKhm1QKU"
      },
      "source": [
        "def Integrate(a,b):\n",
        "  n = 1000\n",
        "  dx = (b-a)/n\n",
        "  xi = a\n",
        "  sum = 0;\n",
        "  for i in range(n):\n",
        "    xi = xi+dx\n",
        "    sum = sum + f(xi)\n",
        "  print(sum*dx)"
      ],
      "execution_count": 9,
      "outputs": []
    },
    {
      "cell_type": "markdown",
      "metadata": {
        "id": "s4Cl4XMzqr4R"
      },
      "source": [
        "Write functions in python for:\r\n",
        "\r\n",
        "$$ f(x) = 2x $$\r\n",
        "$$ f(x) = 5x^2 - 3x$$\r\n",
        "$$ f(x) = 9x^3 - 2x^2$$\r\n",
        "\r\n",
        "Using the integrate function, integrate each function over the interval (0,1).\r\n",
        "\r\n",
        "**Hint:** Answers should be written as:\r\n",
        "\r\n",
        "\r\n",
        "```\r\n",
        "def f(x):\r\n",
        "    return ...\r\n",
        "\r\n",
        "Integrate(0,1)\r\n",
        "```\r\n",
        "for each function and integral output.\r\n"
      ]
    },
    {
      "cell_type": "code",
      "metadata": {
        "id": "Cghvw63Othx0",
        "colab": {
          "base_uri": "https://localhost:8080/"
        },
        "outputId": "86b17a14-ee02-4857-e10e-2b3fd381cf39"
      },
      "source": [
        "def f(x):\r\n",
        "  return 2*x\r\n",
        "\r\n",
        "Integrate(0,1)"
      ],
      "execution_count": 11,
      "outputs": [
        {
          "output_type": "stream",
          "text": [
            "1.0010000000000008\n"
          ],
          "name": "stdout"
        }
      ]
    },
    {
      "cell_type": "code",
      "metadata": {
        "id": "t-uoXlTlth_Z",
        "colab": {
          "base_uri": "https://localhost:8080/"
        },
        "outputId": "7b11f862-9a3a-49c7-b9eb-4a736d7c795b"
      },
      "source": [
        "def f(x):\r\n",
        "  return 5*x**2 - 3*x\r\n",
        "\r\n",
        "Integrate(0,1)"
      ],
      "execution_count": 13,
      "outputs": [
        {
          "output_type": "stream",
          "text": [
            "0.16766750000000116\n"
          ],
          "name": "stdout"
        }
      ]
    },
    {
      "cell_type": "code",
      "metadata": {
        "id": "mIpLN58YtiPe",
        "colab": {
          "base_uri": "https://localhost:8080/"
        },
        "outputId": "1370c9d2-b540-4dc3-ecbf-d7f59dd873b9"
      },
      "source": [
        "def f(x):\r\n",
        "  return 9*x**3 - 2*x**2\r\n",
        "\r\n",
        "Integrate(0,1)"
      ],
      "execution_count": 16,
      "outputs": [
        {
          "output_type": "stream",
          "text": [
            "1.5868352500000045\n"
          ],
          "name": "stdout"
        }
      ]
    },
    {
      "cell_type": "markdown",
      "metadata": {
        "id": "sRZ3ufODtj1A"
      },
      "source": [
        "#Linear Algebra\r\n",
        "\r\n",
        "Write the following system of equations as a matrix and solve using the numpy function we saw previously.\r\n",
        "\r\n",
        "***HINT:*** \r\n",
        "\r\n",
        "To solve the system for a,b,c:\r\n",
        "\r\n",
        "$$\\begin{bmatrix} 2 & 1 & 2 \\\\ 1 & 5 & 3 \\\\ 4 & 1 & 2 \\end{bmatrix} \\begin{bmatrix} a \\\\ b \\\\ c \\end{bmatrix} = \\begin {bmatrix} 20\\\\ 38\\\\ 26 \\end{bmatrix} $$\r\n",
        "\r\n",
        "we used\r\n",
        "\r\n",
        "\r\n",
        "```\r\n",
        "Matrix = np.array([[2,1,2], [1,5,3], [4,1,2]])\r\n",
        "Solutions = np.array([20, 38, 26])\r\n",
        "x = np.linalg.solve(Matrix, Solutions)\r\n",
        "x\r\n",
        "```\r\n",
        "$$3x + 2y + z = 7$$\r\n",
        "$$4x + 5y + 2z = 14$$\r\n",
        "$$2x + 4y + 3z = 10$$\r\n"
      ]
    },
    {
      "cell_type": "code",
      "metadata": {
        "id": "Xmx219uy0khF",
        "colab": {
          "base_uri": "https://localhost:8080/"
        },
        "outputId": "8623929a-5f64-4dd0-8bc6-e68d1092a572"
      },
      "source": [
        "Matrix = np.array([[3,2,1], [4,5,2], [2,4,3]])\r\n",
        "Solutions = np.array([7, 14, 10])\r\n",
        "x = np.linalg.solve(Matrix, Solutions)\r\n",
        "x"
      ],
      "execution_count": null,
      "outputs": [
        {
          "output_type": "execute_result",
          "data": {
            "text/plain": [
              "array([1.00000000e+00, 2.00000000e+00, 1.05975834e-16])"
            ]
          },
          "metadata": {
            "tags": []
          },
          "execution_count": 47
        }
      ]
    },
    {
      "cell_type": "markdown",
      "metadata": {
        "id": "M-4IhF3-0lHn"
      },
      "source": [
        "$$3a + 3b + c = 16$$\r\n",
        "$$2a + b + 3c = 11$$\r\n",
        "$$4a + 2b + 5c = 21$$"
      ]
    },
    {
      "cell_type": "code",
      "metadata": {
        "id": "9lRFtEH406Q2",
        "colab": {
          "base_uri": "https://localhost:8080/"
        },
        "outputId": "d8b2c5c7-23a1-412f-866a-07cc524d639d"
      },
      "source": [
        "Matrix = np.array([[3,3,1], [2,1,3], [4,2,5]])\r\n",
        "Solutions = np.array([16, 11, 21])\r\n",
        "x = np.linalg.solve(Matrix, Solutions)\r\n",
        "x"
      ],
      "execution_count": null,
      "outputs": [
        {
          "output_type": "execute_result",
          "data": {
            "text/plain": [
              "array([3., 2., 1.])"
            ]
          },
          "metadata": {
            "tags": []
          },
          "execution_count": 48
        }
      ]
    },
    {
      "cell_type": "markdown",
      "metadata": {
        "id": "cpfdO2VM06zY"
      },
      "source": [
        "$$4i + 2j + k = 0$$\r\n",
        "$$5i + j + 3k = 2$$\r\n",
        "$$3i + 3j + 4k = 8$$"
      ]
    },
    {
      "cell_type": "code",
      "metadata": {
        "id": "yCrVMQS81KLt",
        "colab": {
          "base_uri": "https://localhost:8080/"
        },
        "outputId": "96d572e0-195b-4a97-c8ab-3117184dbce1"
      },
      "source": [
        "Matrix = np.array([[4,2,1], [5,1,3], [3,3,4]])\r\n",
        "Solutions = np.array([0, 2, 8])\r\n",
        "x = np.linalg.solve(Matrix, Solutions)\r\n",
        "x"
      ],
      "execution_count": null,
      "outputs": [
        {
          "output_type": "execute_result",
          "data": {
            "text/plain": [
              "array([-1.,  1.,  2.])"
            ]
          },
          "metadata": {
            "tags": []
          },
          "execution_count": 49
        }
      ]
    },
    {
      "cell_type": "markdown",
      "metadata": {
        "id": "rxNF1nkF1QKT"
      },
      "source": [
        "##Multivariate Calculus + Linear Algebra\n",
        "\n",
        "So far we have looked at functions with respect to one variable, but what if we have more than one variable in our function and we want to take a derivative?\n",
        "\n",
        "Going back to our Error function exercise from the line of best fit, what if I wanted to fit the line:\n",
        "$$\\hat y = mx_i + b$$\n",
        "to the points (3,7), (2,5) and (1,3).\n",
        "\n",
        "This would give a Mean Square Error function as:\n",
        "$$ f(m,b) = \\frac{1}{n}\\sum_{i=1}^n (y_i - mx_i - b)^2$$\n",
        "$$f(m,b) = \\frac {1}{3}[(7+3m-b)^2 + (5+2m-b)^2 + (3+m-b)^2]$$\n",
        "\n",
        "and say we wanted to find values of m and b that minimized this function. In this case, we'd apply a ***partial derivative***, in other words, a derivative with respect to one of the variables holding the other constant. So if we take derivatives of the above function with respect to m and b respectively, we get:\n",
        "\n",
        "$$\\frac{\\partial f(m,b)}{\\partial m} = \\frac{2}{3}[(7+3m-b)(3) + (5+2m-b)(2) + (3+m-b)] $$\n",
        "\n",
        "$$\\frac{\\partial f(m,b)}{\\partial b} = \\frac{2}{3}[(7+3m-b)(-1) + (5+2m-b)(-1) + (3+m-b)(-1)] $$\n",
        "\n",
        "If you want to understand how I obtained these derivatives by hand, you can Youtube \"Derivative Power Rule\" and follow along with the videos. Cleaning up the above equations, we get:\n",
        "\n",
        "$$\\frac{\\partial f(m,b)}{\\partial m} = 68 + 14m - 6b $$\n",
        "\n",
        "$$\\frac{\\partial f(m,b)}{\\partial b} = -30-12m+6b $$\n",
        "\n",
        "Equating the partial derivatives to 0 since we want to obtain a minimum we get a familiar system of equations:\n",
        "\n",
        "$$68 + 14m - 6b = 0$$\n",
        "\n",
        "$$-30-12m+6b = 0$$\n",
        "\n",
        "Converting to matrix form, we get:\n",
        "$$\\begin{bmatrix} 68 & 14 & -6 \\\\ -30 & -12 & 6 \\end{bmatrix} \\begin{bmatrix} 1 \\\\ m \\\\ b \\end{bmatrix} = \\begin {bmatrix} 0\\\\ 0\\end{bmatrix} $$\n",
        "\n",
        "\n",
        "From here, we can use our standard matrix operations to solve for values of m and b. In the cell below, use the code to solve linear equations from before in order to get values of m and b that will make our function take on a minimum value.\n",
        "\n",
        "We can rewrite the above equation as:\n",
        "$$\\begin{bmatrix} 14 & -6 \\\\ -12 & 6 \\end{bmatrix} \\begin{bmatrix} m \\\\ b \\end{bmatrix} = \\begin {bmatrix} -68\\\\ 30\\end{bmatrix} $$\n",
        "\n",
        "**EXTRA** Try to workout by hand how I was able to make the conversion between the two matrices. \n",
        "\n",
        "Use the cell below to run a code that will solve the above matrix for the values of m and b that will minimize our error. \n",
        " "
      ]
    },
    {
      "cell_type": "code",
      "metadata": {
        "id": "XMTkXkO11hWX"
      },
      "source": [
        ""
      ],
      "execution_count": null,
      "outputs": []
    },
    {
      "cell_type": "markdown",
      "metadata": {
        "id": "rV-DAAwW3eUe"
      },
      "source": [
        "Using this method, we can fit more complicated models that have more than one parameter to our data for better results!"
      ]
    },
    {
      "cell_type": "markdown",
      "metadata": {
        "id": "ugVKJM6b6u8t"
      },
      "source": [
        ""
      ]
    }
  ]
}