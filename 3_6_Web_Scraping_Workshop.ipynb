{
  "nbformat": 4,
  "nbformat_minor": 0,
  "metadata": {
    "colab": {
      "name": "3.6 Web Scraping Workshop.ipynb",
      "provenance": [],
      "collapsed_sections": [],
      "include_colab_link": true
    },
    "kernelspec": {
      "name": "python3",
      "display_name": "Python 3"
    }
  },
  "cells": [
    {
      "cell_type": "markdown",
      "metadata": {
        "id": "view-in-github",
        "colab_type": "text"
      },
      "source": [
        "<a href=\"https://colab.research.google.com/github/gtoubian/cce/blob/main/3_6_Web_Scraping_Workshop.ipynb\" target=\"_parent\"><img src=\"https://colab.research.google.com/assets/colab-badge.svg\" alt=\"Open In Colab\"/></a>"
      ]
    },
    {
      "cell_type": "markdown",
      "metadata": {
        "id": "SCSC8OkgRHxo"
      },
      "source": [
        "#Warm Up\r\n",
        "\r\n",
        "Import the Beautiful Soup, Requests, and Pandas Packages in the cell below."
      ]
    },
    {
      "cell_type": "code",
      "metadata": {
        "id": "Dgu-qqamRDZg"
      },
      "source": [
        "from bs4 import BeautifulSoup as bs\r\n",
        "import requests\r\n",
        "import pandas as pd"
      ],
      "execution_count": 1,
      "outputs": []
    },
    {
      "cell_type": "markdown",
      "metadata": {
        "id": "q2KLDCLQSBx7"
      },
      "source": [
        "#Scraping off Wikipedia\r\n",
        "\r\n",
        "During lecture, we went over how to scrap some data off of the Brooklyn Nine Nine Wikipedia Page. For this exercise, scrap the text data as well as the side bar data as a dictionary from the Wikipedia Page of your choosing. Convert your dictionary into a dataframe and print it."
      ]
    },
    {
      "cell_type": "code",
      "metadata": {
        "id": "G0c0_MK1RHQ9"
      },
      "source": [
        "r = requests.get(\"https://en.wikipedia.org/wiki/Rick_and_Morty\")\r\n",
        "soup = bs(r.content)\r\n",
        "content = soup.prettify()"
      ],
      "execution_count": 2,
      "outputs": []
    },
    {
      "cell_type": "code",
      "metadata": {
        "id": "w70IbJi7F1k-"
      },
      "source": [
        "info_box = soup.find(class_='infobox vevent')"
      ],
      "execution_count": 3,
      "outputs": []
    },
    {
      "cell_type": "code",
      "metadata": {
        "id": "hwZfkaQMF6Xg"
      },
      "source": [
        "info_rows = info_box.find_all('tr')\r\n",
        "for row in info_rows:\r\n",
        "  print(row.prettify())"
      ],
      "execution_count": null,
      "outputs": []
    },
    {
      "cell_type": "code",
      "metadata": {
        "id": "cbpcfn7dGFhg"
      },
      "source": [
        "def get_content_value(row_data):\r\n",
        "  if row.find(\"li\") is not None:\r\n",
        "    return [li.get_text(\" \", strip = True).replace(\"\\xa0\", ' ') for li in row.find_all('li')]\r\n",
        "  else:\r\n",
        "    return row.find('td').get_text(\" \", strip = True).replace(\"\\xa0\", ' ')"
      ],
      "execution_count": 6,
      "outputs": []
    },
    {
      "cell_type": "code",
      "metadata": {
        "colab": {
          "base_uri": "https://localhost:8080/"
        },
        "id": "b4tYF4BrGKpA",
        "outputId": "178f9115-d848-4cfe-c607-941c1043841a"
      },
      "source": [
        "show_info = {}\r\n",
        "\r\n",
        "for index, row in enumerate(info_rows):\r\n",
        "  if index == 0:\r\n",
        "    show_info['title']=row.find('th').get_text()\r\n",
        "  elif index ==1:\r\n",
        "    continue\r\n",
        "  else:\r\n",
        "    x = row.find('th')\r\n",
        "    y = row.find('td')\r\n",
        "    if x is not None and y is not None:\r\n",
        "      key =row.find('th').get_text()\r\n",
        "      value = get_content_value(row.find('td'))\r\n",
        "      show_info[key] = value\r\n",
        "\r\n",
        "print (show_info)"
      ],
      "execution_count": 7,
      "outputs": [
        {
          "output_type": "stream",
          "text": [
            "{'title': 'Rick and Morty', 'Genre': ['Adult animation', 'Animated sitcom', 'Science fiction'], 'Created by': 'Justin Roiland and Dan Harmon', 'Voices of': ['Justin Roiland', 'Chris Parnell', 'Spencer Grammer', 'Sarah Chalke'], 'Composer': 'Ryan Elder', 'Country of origin': 'United States', 'No. of seasons': '4', 'No. of episodes': '41 ( list of episodes )', 'Executive producers': ['Dan Harmon', 'Justin Roiland', 'James A. Fino (seasons 1–2)', 'Joe Russo II (seasons 1–2)', 'Mike McMahan (season 4–present)'], 'Producers': ['J. Michael Mendel (seasons 1–4)', 'Kenny Micka (pilot)'], 'Running time': '22 minutes', 'Production companies': ['Williams Street', 'Harmonious Claptrap', 'Starburns Industries (seasons 1–2)', \"Justin Roiland's Solo Vanity Card Productions!\", 'Rick and Morty, LLC. (season 2–3) [1]', 'Green Portal Productions (season 4)'], 'Distributor': ['Warner Bros. Television Distribution'], 'Original network': 'Adult Swim', 'Picture format': '1080i ( HDTV )', 'Original release': 'December 2, 2013 ( 2013-12-02 ) – present'}\n"
          ],
          "name": "stdout"
        }
      ]
    },
    {
      "cell_type": "code",
      "metadata": {
        "colab": {
          "base_uri": "https://localhost:8080/",
          "height": 303
        },
        "id": "3dHPuMyOGf5o",
        "outputId": "58a40d88-6cdb-4f40-d514-90c31784c534"
      },
      "source": [
        "showinfo = pd.DataFrame.from_dict(show_info)"
      ],
      "execution_count": 13,
      "outputs": [
        {
          "output_type": "error",
          "ename": "ValueError",
          "evalue": "ignored",
          "traceback": [
            "\u001b[0;31m---------------------------------------------------------------------------\u001b[0m",
            "\u001b[0;31mValueError\u001b[0m                                Traceback (most recent call last)",
            "\u001b[0;32m<ipython-input-13-00856b932363>\u001b[0m in \u001b[0;36m<module>\u001b[0;34m()\u001b[0m\n\u001b[0;32m----> 1\u001b[0;31m \u001b[0mshowinfo\u001b[0m \u001b[0;34m=\u001b[0m \u001b[0mpd\u001b[0m\u001b[0;34m.\u001b[0m\u001b[0mDataFrame\u001b[0m\u001b[0;34m.\u001b[0m\u001b[0mfrom_dict\u001b[0m\u001b[0;34m(\u001b[0m\u001b[0mshow_info\u001b[0m\u001b[0;34m)\u001b[0m\u001b[0;34m\u001b[0m\u001b[0;34m\u001b[0m\u001b[0m\n\u001b[0m",
            "\u001b[0;32m/usr/local/lib/python3.7/dist-packages/pandas/core/frame.py\u001b[0m in \u001b[0;36mfrom_dict\u001b[0;34m(cls, data, orient, dtype, columns)\u001b[0m\n\u001b[1;32m   1307\u001b[0m             \u001b[0;32mraise\u001b[0m \u001b[0mValueError\u001b[0m\u001b[0;34m(\u001b[0m\u001b[0;34m\"only recognize index or columns for orient\"\u001b[0m\u001b[0;34m)\u001b[0m\u001b[0;34m\u001b[0m\u001b[0;34m\u001b[0m\u001b[0m\n\u001b[1;32m   1308\u001b[0m \u001b[0;34m\u001b[0m\u001b[0m\n\u001b[0;32m-> 1309\u001b[0;31m         \u001b[0;32mreturn\u001b[0m \u001b[0mcls\u001b[0m\u001b[0;34m(\u001b[0m\u001b[0mdata\u001b[0m\u001b[0;34m,\u001b[0m \u001b[0mindex\u001b[0m\u001b[0;34m=\u001b[0m\u001b[0mindex\u001b[0m\u001b[0;34m,\u001b[0m \u001b[0mcolumns\u001b[0m\u001b[0;34m=\u001b[0m\u001b[0mcolumns\u001b[0m\u001b[0;34m,\u001b[0m \u001b[0mdtype\u001b[0m\u001b[0;34m=\u001b[0m\u001b[0mdtype\u001b[0m\u001b[0;34m)\u001b[0m\u001b[0;34m\u001b[0m\u001b[0;34m\u001b[0m\u001b[0m\n\u001b[0m\u001b[1;32m   1310\u001b[0m \u001b[0;34m\u001b[0m\u001b[0m\n\u001b[1;32m   1311\u001b[0m     def to_numpy(\n",
            "\u001b[0;32m/usr/local/lib/python3.7/dist-packages/pandas/core/frame.py\u001b[0m in \u001b[0;36m__init__\u001b[0;34m(self, data, index, columns, dtype, copy)\u001b[0m\n\u001b[1;32m    466\u001b[0m \u001b[0;34m\u001b[0m\u001b[0m\n\u001b[1;32m    467\u001b[0m         \u001b[0;32melif\u001b[0m \u001b[0misinstance\u001b[0m\u001b[0;34m(\u001b[0m\u001b[0mdata\u001b[0m\u001b[0;34m,\u001b[0m \u001b[0mdict\u001b[0m\u001b[0;34m)\u001b[0m\u001b[0;34m:\u001b[0m\u001b[0;34m\u001b[0m\u001b[0;34m\u001b[0m\u001b[0m\n\u001b[0;32m--> 468\u001b[0;31m             \u001b[0mmgr\u001b[0m \u001b[0;34m=\u001b[0m \u001b[0minit_dict\u001b[0m\u001b[0;34m(\u001b[0m\u001b[0mdata\u001b[0m\u001b[0;34m,\u001b[0m \u001b[0mindex\u001b[0m\u001b[0;34m,\u001b[0m \u001b[0mcolumns\u001b[0m\u001b[0;34m,\u001b[0m \u001b[0mdtype\u001b[0m\u001b[0;34m=\u001b[0m\u001b[0mdtype\u001b[0m\u001b[0;34m)\u001b[0m\u001b[0;34m\u001b[0m\u001b[0;34m\u001b[0m\u001b[0m\n\u001b[0m\u001b[1;32m    469\u001b[0m         \u001b[0;32melif\u001b[0m \u001b[0misinstance\u001b[0m\u001b[0;34m(\u001b[0m\u001b[0mdata\u001b[0m\u001b[0;34m,\u001b[0m \u001b[0mma\u001b[0m\u001b[0;34m.\u001b[0m\u001b[0mMaskedArray\u001b[0m\u001b[0;34m)\u001b[0m\u001b[0;34m:\u001b[0m\u001b[0;34m\u001b[0m\u001b[0;34m\u001b[0m\u001b[0m\n\u001b[1;32m    470\u001b[0m             \u001b[0;32mimport\u001b[0m \u001b[0mnumpy\u001b[0m\u001b[0;34m.\u001b[0m\u001b[0mma\u001b[0m\u001b[0;34m.\u001b[0m\u001b[0mmrecords\u001b[0m \u001b[0;32mas\u001b[0m \u001b[0mmrecords\u001b[0m\u001b[0;34m\u001b[0m\u001b[0;34m\u001b[0m\u001b[0m\n",
            "\u001b[0;32m/usr/local/lib/python3.7/dist-packages/pandas/core/internals/construction.py\u001b[0m in \u001b[0;36minit_dict\u001b[0;34m(data, index, columns, dtype)\u001b[0m\n\u001b[1;32m    281\u001b[0m             \u001b[0marr\u001b[0m \u001b[0;32mif\u001b[0m \u001b[0;32mnot\u001b[0m \u001b[0mis_datetime64tz_dtype\u001b[0m\u001b[0;34m(\u001b[0m\u001b[0marr\u001b[0m\u001b[0;34m)\u001b[0m \u001b[0;32melse\u001b[0m \u001b[0marr\u001b[0m\u001b[0;34m.\u001b[0m\u001b[0mcopy\u001b[0m\u001b[0;34m(\u001b[0m\u001b[0;34m)\u001b[0m \u001b[0;32mfor\u001b[0m \u001b[0marr\u001b[0m \u001b[0;32min\u001b[0m \u001b[0marrays\u001b[0m\u001b[0;34m\u001b[0m\u001b[0;34m\u001b[0m\u001b[0m\n\u001b[1;32m    282\u001b[0m         ]\n\u001b[0;32m--> 283\u001b[0;31m     \u001b[0;32mreturn\u001b[0m \u001b[0marrays_to_mgr\u001b[0m\u001b[0;34m(\u001b[0m\u001b[0marrays\u001b[0m\u001b[0;34m,\u001b[0m \u001b[0mdata_names\u001b[0m\u001b[0;34m,\u001b[0m \u001b[0mindex\u001b[0m\u001b[0;34m,\u001b[0m \u001b[0mcolumns\u001b[0m\u001b[0;34m,\u001b[0m \u001b[0mdtype\u001b[0m\u001b[0;34m=\u001b[0m\u001b[0mdtype\u001b[0m\u001b[0;34m)\u001b[0m\u001b[0;34m\u001b[0m\u001b[0;34m\u001b[0m\u001b[0m\n\u001b[0m\u001b[1;32m    284\u001b[0m \u001b[0;34m\u001b[0m\u001b[0m\n\u001b[1;32m    285\u001b[0m \u001b[0;34m\u001b[0m\u001b[0m\n",
            "\u001b[0;32m/usr/local/lib/python3.7/dist-packages/pandas/core/internals/construction.py\u001b[0m in \u001b[0;36marrays_to_mgr\u001b[0;34m(arrays, arr_names, index, columns, dtype, verify_integrity)\u001b[0m\n\u001b[1;32m     76\u001b[0m         \u001b[0;31m# figure out the index, if necessary\u001b[0m\u001b[0;34m\u001b[0m\u001b[0;34m\u001b[0m\u001b[0;34m\u001b[0m\u001b[0m\n\u001b[1;32m     77\u001b[0m         \u001b[0;32mif\u001b[0m \u001b[0mindex\u001b[0m \u001b[0;32mis\u001b[0m \u001b[0;32mNone\u001b[0m\u001b[0;34m:\u001b[0m\u001b[0;34m\u001b[0m\u001b[0;34m\u001b[0m\u001b[0m\n\u001b[0;32m---> 78\u001b[0;31m             \u001b[0mindex\u001b[0m \u001b[0;34m=\u001b[0m \u001b[0mextract_index\u001b[0m\u001b[0;34m(\u001b[0m\u001b[0marrays\u001b[0m\u001b[0;34m)\u001b[0m\u001b[0;34m\u001b[0m\u001b[0;34m\u001b[0m\u001b[0m\n\u001b[0m\u001b[1;32m     79\u001b[0m         \u001b[0;32melse\u001b[0m\u001b[0;34m:\u001b[0m\u001b[0;34m\u001b[0m\u001b[0;34m\u001b[0m\u001b[0m\n\u001b[1;32m     80\u001b[0m             \u001b[0mindex\u001b[0m \u001b[0;34m=\u001b[0m \u001b[0mensure_index\u001b[0m\u001b[0;34m(\u001b[0m\u001b[0mindex\u001b[0m\u001b[0;34m)\u001b[0m\u001b[0;34m\u001b[0m\u001b[0;34m\u001b[0m\u001b[0m\n",
            "\u001b[0;32m/usr/local/lib/python3.7/dist-packages/pandas/core/internals/construction.py\u001b[0m in \u001b[0;36mextract_index\u001b[0;34m(data)\u001b[0m\n\u001b[1;32m    395\u001b[0m             \u001b[0mlengths\u001b[0m \u001b[0;34m=\u001b[0m \u001b[0mlist\u001b[0m\u001b[0;34m(\u001b[0m\u001b[0mset\u001b[0m\u001b[0;34m(\u001b[0m\u001b[0mraw_lengths\u001b[0m\u001b[0;34m)\u001b[0m\u001b[0;34m)\u001b[0m\u001b[0;34m\u001b[0m\u001b[0;34m\u001b[0m\u001b[0m\n\u001b[1;32m    396\u001b[0m             \u001b[0;32mif\u001b[0m \u001b[0mlen\u001b[0m\u001b[0;34m(\u001b[0m\u001b[0mlengths\u001b[0m\u001b[0;34m)\u001b[0m \u001b[0;34m>\u001b[0m \u001b[0;36m1\u001b[0m\u001b[0;34m:\u001b[0m\u001b[0;34m\u001b[0m\u001b[0;34m\u001b[0m\u001b[0m\n\u001b[0;32m--> 397\u001b[0;31m                 \u001b[0;32mraise\u001b[0m \u001b[0mValueError\u001b[0m\u001b[0;34m(\u001b[0m\u001b[0;34m\"arrays must all be same length\"\u001b[0m\u001b[0;34m)\u001b[0m\u001b[0;34m\u001b[0m\u001b[0;34m\u001b[0m\u001b[0m\n\u001b[0m\u001b[1;32m    398\u001b[0m \u001b[0;34m\u001b[0m\u001b[0m\n\u001b[1;32m    399\u001b[0m             \u001b[0;32mif\u001b[0m \u001b[0mhave_dicts\u001b[0m\u001b[0;34m:\u001b[0m\u001b[0;34m\u001b[0m\u001b[0;34m\u001b[0m\u001b[0m\n",
            "\u001b[0;31mValueError\u001b[0m: arrays must all be same length"
          ]
        }
      ]
    },
    {
      "cell_type": "code",
      "metadata": {
        "id": "cYsM_RG4Wu9C",
        "outputId": "363c2423-c07c-4ecb-d204-1cde0c8889c6",
        "colab": {
          "base_uri": "https://localhost:8080/"
        }
      },
      "source": [
        "urls = ['https://en.wikipedia.org/wiki/Rick_and_Morty']\r\n",
        "\r\n",
        "text = []\r\n",
        "for url in urls:\r\n",
        "    website = requests.get('https://en.wikipedia.org/wiki/Rick_and_Morty')\r\n",
        "    soup = bs(website.content)\r\n",
        "    text += [''.join(s.findAll(text=True))for s in soup.findAll('p')]\r\n",
        "\r\n",
        "text"
      ],
      "execution_count": 26,
      "outputs": [
        {
          "output_type": "execute_result",
          "data": {
            "text/plain": [
              "['\\n',\n",
              " '\\n',\n",
              " \"Rick and Morty is an American adult animated science fiction sitcom created by Justin Roiland and Dan Harmon for Cartoon Network's nighttime Adult Swim programming block. The series follows the misadventures of cynical mad scientist Rick Sanchez and his good-hearted but fretful grandson Morty Smith, who split their time between domestic life and interdimensional adventures.\\n\",\n",
              " \"Roiland voices the eponymous characters, with Chris Parnell, Spencer Grammer and Sarah Chalke voicing the rest of Rick and Morty's family. The series originated from an animated short parody film of Back to the Future, created by Roiland for Channel 101, a short film festival co-founded by Harmon. The series has been acclaimed by critics for its originality, creativity and humor.\\n\",\n",
              " 'The fourth season premiered on November 10, 2019, and consists of ten episodes. A fifth season was confirmed in July 2020, as part of a long-term deal in May 2018 that ordered 70 new episodes over an unspecified number of seasons.[2]\\n',\n",
              " \"The show revolves around the adventures of the members of the Smith household, which consists of parents Jerry and Beth, their children Summer and Morty, and Beth's father, Rick Sanchez, who lives with them as a guest. According to Justin Roiland, the family lives outside of Seattle, Washington.[3] The adventures of Rick and Morty, however, take place across an infinite number of realities, with the characters travelling to other planets and dimensions through portals and Rick's flying car.\\n\",\n",
              " \"Rick is an eccentric and alcoholic mad scientist, who eschews many ordinary conventions such as school, marriage, love, and family. He frequently goes on adventures with his 14-year-old grandson, Morty, a kind-hearted but easily distressed boy, whose naïve but grounded moral compass plays counterpoint to Rick's Machiavellian ego. Morty's 17-year-old sister, Summer, is a more conventional teenager who worries about improving her status among her peers and sometimes follows Rick and Morty on their adventures. The kids' mother, Beth, is a generally level-headed person and assertive force in the household, though self-conscious about her professional role as a horse surgeon. She is dissatisfied with her marriage to Jerry, a simple-minded and insecure person, who disapproves of Rick's influence over his family.[citation needed]\\n\",\n",
              " 'Different versions of the characters inhabit other dimensions throughout the show\\'s multiverse and their personal characteristics can vary from one reality to another. The show\\'s original Rick identifies himself as \"Rick Sanchez of Earth Dimension C-137\", in reference to his original universe, but this does not necessarily apply to every other member of the Smith household. For instance, in the first-season episode \"Rick Potion #9\", after turning the entire world population into monsters, Rick and Morty move to a different dimension, leaving Summer, Beth and Jerry behind.\\n',\n",
              " \"In May 2012, Adult Swim unveiled its development slate that included a Rick and Morty pilot from Harmon and Roiland,[5] which was eventually picked up to series in October 2012, as one of the network's first primetime original shows.[6] The first season premiered in December 2013 and concluded in April 2014. It comprised eleven episodes (including the pilot), and aired Mondays at 10:30 pm ET/PT.[7]\\n\",\n",
              " 'Two months earlier, in February 2014, the show had been renewed for a second season, with the press release noting that Rick and Morty consistently outperformed direct competition in its time slot.[8] Season two aired Sundays at 11:30 pm ET/PT, from July to October 2015, and comprised ten episodes.[9] In an interview with The Hollywood Reporter, Roiland said that Rick and Morty will remain \"a big priority above anything else\" for him in the future, and expressed his intention to keep the show growing.[10]\\n',\n",
              " \"Adult Swim renewed Rick and Morty for a third season in August 2015, shortly after a successful second-season premiere.[11] The two co-creators and executive producers expressed their delight at the series' popularity.[12] The season premiered unannounced on April 1, 2017, as part of an April Fools' prank. The remaining episodes began airing weekly almost four months later, continuing in the same time slot from season two, and the initial airing concluded in October 2017.[13] Although it was originally intended for the season to consist of fourteen episodes, as a result of production delays it eventually comprised only ten.[14]\\n\",\n",
              " 'Following the conclusion of the show\\'s third season, co-creators Harmon and Roiland wanted to have assurance that there would be many more seasons of Rick and Morty in the future, so that they would be able to focus on the show and minimize their involvement in other projects.[15] Additionally, Harmon had expressed his wish for the upcoming fourth season to consist of more than ten episodes.[16] In May 2018, after prolonged contract negotiations, Adult Swim announced a long-term deal with the creators, ordering 70 new episodes over an unspecified number of seasons.[17] Roiland was confident that this big renewal deal will allow the creators to minimize the gaps between seasons, as they will be able to schedule their time around the show and \"keep the machine going.\"[18]\\n',\n",
              " 'In May 2019, the fourth season of Rick and Morty was announced to debut in November 2019.[19] The fourth season consisted of ten episodes split across two airings.[20] The first five episodes began airing on November 10, 2019,[21] while the remaining five episodes began airing on May 3, 2020.[22]\\n',\n",
              " 'Rick and Morty was created by Justin Roiland and Dan Harmon. The duo first met at Channel 101, a non-profit monthly short film festival in Los Angeles co-founded by Harmon.[23] At Channel 101, participants submit a short film in the format of a pilot, and a live audience decides which pilots continue as a series. Roiland, then a producer on reality programming, began submitting content to the festival a year after its launch, in 2004. His pilots typically consisted of shock value—\"sick and twisted\" elements that received a confused reaction from the audience.[23] Nevertheless, Harmon took a liking to his humor and the two began collaborating. In 2006, Roiland was fired from working on a television series he regarded as intensely creatively stifling, and funneled his creative energies into creating a webisode for Channel 101. The result was The Real Animated Adventures of Doc and Mharti, an animated short starring parodies of Doc Brown and Marty McFly, characters from the Back to the Future film trilogy.[24] In the short, which Harmon would dub \"a bastardization, a pornographic vandalization\", Doc Smith urges Mharti that the solution to all of his problems is to give him oral sex.[25] The audience reacted to it wildly, and Roiland began creating more shorts involving the characters, which soon evolved beyond his original intentions and their obvious origin within the film from which it was culled.[25][26] Harmon would later create and produce Community, an NBC sitcom, while Roiland would work primarily in voice acting for Disney\\'s Fish Hooks and Cartoon Network\\'s Adventure Time.\\n',\n",
              " 'In 2012, Harmon was briefly fired from Community. Adult Swim, searching for a more prime-time, \"hit\" show,[27] approached Harmon shortly afterward, who initially viewed the channel as unfit for his style. He also was unfamiliar with animation, and his process for creating television focuses more heavily on dialogue, characters, and story.[26] Instead, he phoned Roiland to inquire if he had any ideas for an animated series. Roiland immediately brought up the idea of using the Doc and Mharti characters, renamed Rick and Morty.[25] Roiland initially wanted the show\\'s run time to consist of one eleven-minute segment, but Adult Swim pushed for a half-hour program.[27] Harmon felt the best way to extend the voices into a program would be to build a family around the characters, while Adult Swim development executive Nick Weidenfeld suggested that Rick be Morty\\'s grandfather. Having pitched multiple television programs that did not get off the ground, Roiland was initially very unreceptive to others attempting to give notes on his pitch.[25] Prior to developing Rick and Morty, he had created three failed animated pilots for Fox, and he had begun to feel \"burned out\" with developing television.[26]\\n',\n",
              " 'The first draft was completed in six hours on the Paramount Pictures lot in Dan Harmon\\'s unfurnished Community office.[28] The duo had broken the story that day, sold the pilot, and then sat down to write.[26][29] Roiland, while acknowledging a tendency for procrastination, encouraged Harmon to stay and write the entire first draft.[28] \"We were sitting on the floor, cross-legged with laptops and I was about to get up and go home and he said, \\'Wait, if you go home, it might take us three months to write this thing. Stay here right now and we can write it in six hours.\\' He just had a premonition about that,\" recalled Harmon.[26] Adult Swim was initially unsure of Roiland doing both voices, partially due to the undeveloped nature of the character of Morty. Harmon wrote four short premises in which Morty took a more assertive role and sent it to Mike Lazzo.[28] Adult Swim placed a tamer TV-14 rating on the program, which initially was met with reluctance from the show\\'s staff. The network\\'s reason behind the rating was that it would soon begin broadcasting in prime-time, competing with major programs.[26]\\n',\n",
              " 'The theme song for Rick and Morty by Ryan Elder was originally used in a rejected Cartoon Network pilot Roiland made called \"Dog World\", which was referenced in the episode \"Lawnmower Dog\".[30]\\n',\n",
              " 'Harmon has noted that the writers\\' room at the show\\'s studio bears a striking resemblance to the one used for Community.[26] In comparing the two, he noted that the writing staff of Rick and Morty was significantly smaller, and more \"rough and tumble verbally\".[26] The first season writing staff consisted of Roiland, Harmon, Tom Kauffman, Ryan Ridley, Wade Randolph, and Eric Acosta, while writer\\'s assistant Mike McMahan was also given writing credit. Described as a \"very, very tiny little writers\\' room with a lot of heavy lifting from everybody,\" the show\\'s writing staff, like many Adult Swim productions, is not unionized with the Writers\\' Guild of America.[31] The writing staff first meets and discusses ideas, which evolve into a story.[23] Discussions often include anecdotes from personal life as well as thoughts on the science fiction genre.[26] After breaking the story—which consists of developing its consistency and logical beginning, middle, and conclusion—a writer is assigned to create an outline. Roiland and Harmon do a \"pass\" on the outline, and from there the episode undergoes several more drafts. The final draft of the script is last approved by either of the co-creators.[23] Harmon has admitted that his perfectionism can sometimes be disruptive and cause writing schedule delays. For the most part, this was the reason why the third season of the show consisted of only 10 episodes instead of 14, as was initially intended.[32][33]\\n',\n",
              " 'Many episodes are structured with use of a story circle, a Harmon creation based largely on Joseph Campbell\\'s monomyth, or The Hero\\'s Journey. Its two-act structure places the act break at an odd location in the stages of the monomyth: after The Meeting with the Goddess, instead of Atonement with the Father.[28] Roiland has stated his and Harmon\\'s intentions for the series to lack traditional continuity, opting for discontinuous storylines \"not bound by rules\".[34] He has also confirmed that the writers avoid revisiting old tropes from the show\\'s past, \"in fear of that coming off as disingenuous fan service.\"[35] In producing the series\\' first season, episodes were occasionally written out of order. For example, \"Rick Potion #9\" was the second episode written for the series, but was instructed to be animated as the fifth, as it would make more sense within the series\\' continuity.[23]\\n',\n",
              " 'Animation for the show is done using Toon Boom Harmony, post-production work is done in Adobe After Effects, and background art is done in Adobe Photoshop.[36] Production of animation is handled by Bardel Entertainment in Vancouver, Canada.[37]\\n',\n",
              " 'Roiland\\'s cartooning style is heavily indebted to The Simpsons, a factor he acknowledged in a 2013 interview, while also comparing his style to that of Pendleton Ward (Adventure Time) and J. G. Quintel (Regular Show): \"You\\'ll notice mouths are kind of similar and teeth are similar, but I think that\\'s also a stylistic thing that... all of us are kind of the same age, and we\\'re all inspired by The Simpsons and all these other shows we\\'re kind of subconsciously tapping into.\"[31] John Kricfalusi\\'s The Ren & Stimpy Show was another strong influence for Rick and Morty, which is why, according to Roiland, the small \"w-shaped mouths\" that the characters occasionally make is a reference to a similar expression that Ren frequently makes.[38] Talking about the style guide the animators of the show have to follow, season three art director Jeffrey Thompson explained that the characters are often drawn with odd or asymmetrical features, in order to avoid looking \"too normal to live in the Rick and Morty universe.\"[39]\\n',\n",
              " 'When recording dialogue, Roiland does a considerable amount of improvisation, in order to make the characters feel more natural.[40]\\n',\n",
              " 'The general formula of Rick and Morty consists of the juxtaposition of two conflicting scenarios: an extremely selfish, alcoholic grandfather dragging his grandson along for interdimensional adventures, intercut with domestic family drama.[25][27] Co-creator Dan Harmon has described the series as a cross between Matt Groening\\'s two shows The Simpsons and Futurama, balancing family life with heavy science fiction.[31] The series is inspired by British-style storytelling, as opposed to traditional American family TV stories.[23] Harmon has stated that his inspiration behind much of the concept and humor for the series comes from various British television series, such as The Hitchhiker\\'s Guide to the Galaxy and Doctor Who. He figures that the audience will only understand developments from Morty\\'s point of view, but stated \"we don\\'t want to be the companions. We want to hang out with  the Doctor, we idolize the Doctor, but we don\\'t think like him, and that\\'s really interesting.\"[41]\\n',\n",
              " 'Occasionally, characters will acknowledge an episode\\'s narrative or hint at the presence of a fourth wall, suggesting that they are aware of the fact that they are characters of a TV show. Thereunder, Troy Patterson of The New Yorker notes that Rick and Morty \"supplies an artful answer to the question of what follows postmodernism: a decadent regurgitation of all its tropes, all at once, leavened by some humanistic wistfulness.\"[42] Sean Sebastian of Junkee says that the show can be both hilarious and deeply disturbing at the same time as it excels at the \"intersection between big ideas, flippancy and wit.\"[43]\\n',\n",
              " 'Rick and Morty has been described as \"a never-ending fart joke wrapped around a studied look into nihilism\".[44] The series addresses the insignificance of human existence as compared to the size of the universe, with no recognizable divine presence, as described by Lovecraft\\'s philosophy of cosmicism. The characters of the show deal with cosmic horror and existential dread, either by asserting the utility of science over magic or by choosing a life in ignorant bliss.[45] However, as Joachim Heijndermans of Geeks notes, none of them appear able to handle the absurd and chaotic nature of the universe, as Jerry gets by through denial, and Rick is a \"depressed, substance-addicted, suicidal mess\".[46]\\n',\n",
              " 'Harmon describes Rick as a self-interested anarchist, who doesn\\'t like being told what to do.[47] He believes that the character\\'s life on a larger scale has caused him mental illness,[41] and opines that \"the knowledge that nothing matters—while accurate—gets you nowhere\".[48] Matthew Bulger of The Humanist notes that the creators of the series are trying to communicate the message that we need to focus on human relationships and not preoccupy our minds with unanswerable questions, in order to find a sense of purpose and live a better life.[49] Eric Armstrong of The New Republic notes that Morty represents the audience, as he is \"mostly there to react to Rick\\'s deranged schemes\". The character is transformed by the truths he discovers during his interdimensional adventures with his grandfather. However, instead of sinking into depression, Morty accepts these truths that empower him to value his own life.[50]\\n',\n",
              " \"Nobody exists on purpose, nobody belongs anywhere, everybody's gonna die. Come watch TV.\",\n",
              " \"The show is available to watch on Netflix in a number of countries, including Australia, while the first three seasons are available to stream in the United States on both Hulu and HBO Max.[51] Following the conclusion of the show's third season, Adult Swim made a livestream marathon of Rick and Morty available to watch on its official website in select regions,[52] hoping to dissuade viewers from watching other illegal livestreams.[53]\\n\",\n",
              " 'In the United Kingdom, public-service broadcaster Channel 4 outbid Netflix and began airing the series with season 4, which represents its first pickup by an international television channel.[54] Season 4 was originally scheduled to premiere on Channel 4 in January 2020; viewer complaints resulted in the broadcaster moving the first episode forward to November 20 on E4.[55]\\n',\n",
              " \"In Canada, the series initially premiered on Adult Swim on January 10, 2016;[56] and in Quebec, it premiered on Télétoon's Télétoon la nuit block on May 18, 2018.[57]\\n\",\n",
              " 'The 11-episode first season was released by Warner Home Video on DVD (2-disc set) and Blu-ray (single BD-50 disc) on October 7, 2014. Special features include commentary and animatics for every episode, deleted scenes, behind the scenes featurette and commentaries by special guests Matt Groening, Robert Kirkman, Pendleton Ward, Al Jean and others.[58][59] The 10-episode second season was released on DVD (2-disc set) and Blu-ray (single BD-50 disc) on June 7, 2016. Special features include behind the scenes, commentary and animatics for every episode, deleted animatic sketches and a \"Plumbus Owner\\'s Manual\" booklet.[60][61] The 10-episode third season, was released on DVD (2-disc set) and Blu-ray (single BD-50 disc) on May 15, 2018. Special features include exclusive commentary and animatics for every episode, \"inside the episode\", the origins of Rick and Morty, and an exclusive \"inside the recording booth\" session.[62] On February 12, 2019, a set containing seasons 1-3 was released on DVD and Blu-ray.[63]\\n',\n",
              " 'Uncensored versions of the show are also available to purchase on various digital platforms, including iTunes and Amazon, with the digital releases of each season containing bonus material.[51] The digital release of the first season includes the 2013 Rick and Morty Comic-Con panel,[64] the digital release of the second season includes the 2015 ATX Television Festival panel,[65] and the digital release of the third season includes commentary on every episode, as well as seven more short videos featuring co-creators Dan Harmon and Justin Roiland.[66]\\n',\n",
              " 'Rick and Morty has received universal acclaim, holding an approval rating of 94% on review aggregator website Rotten Tomatoes for the entire series.[73] David Weigand of San Francisco Chronicle described it as \"offbeat and occasionally coarse... the take-away here is that it works\". He praised the animation direction by James McDermott for being \"fresh, colorful and as wacky as the script\", and states that the series possesses \"shades of Futurama, South Park and even Beetlejuice\", ultimately opining that its humor felt \"entirely original\".[74] Neil Genzlinger of The New York Times praised the series and stated that it was \"Grandparenting at its unhinged finest.\"[75] In a review shortly after the second-season premiere, Sean Sebastian of Junkee said that although the crude animation and over-the-top voice acting might have discouraged some viewers to continue watching, Rick and Morty is \"exceptionally well-made\" and that \"the more you dissect it, the more you find it has to say.\"[43]\\n',\n",
              " 'Todd Spangler of Variety gave the series a lukewarm review; while he found the series was passable, he contrasted it with other Adult Swim series as \"often seems overly reliant on simply being frenetic at the expense of being witty\" and enjoyed it as \"a welcome attempt to dream just a little bigger\".[76] David Sims of The A.V. Club gave the series an \"A−\". In reviewing the first two episodes, he complimented the animation for its \"clean, simple style\". He stated that while the series has \"a dark, sick sensibility\", he praised its \"effort to give each character a little bit of depth\", further applauding Roiland\\'s voice talent for the eponymous characters.[77]\\n',\n",
              " \"Both anime short films premiered on Adult Swim's Toonami programming block and were promptly uploaded to the network's YouTube channel.\\n\",\n",
              " 'In 2017, Adult Swim released a series of claymation short films called Rick and Morty: The Non-Canonical Adventures on YouTube. They were created by Lee Hardcastle, and parody films in the horror and science fiction genres.[102]\\n']"
            ]
          },
          "metadata": {
            "tags": []
          },
          "execution_count": 26
        }
      ]
    },
    {
      "cell_type": "markdown",
      "metadata": {
        "id": "TlMiyWL8SmM8"
      },
      "source": [
        "#Technical Question - Python\r\n",
        "\r\n",
        "You are given a string s. You can convert s to a palindrome by adding characters in front of it.\r\n",
        "\r\n",
        "Return the shortest palindrome you can find by performing this transformation.\r\n",
        "\r\n",
        "\r\n",
        "\r\n",
        "```\r\n",
        "Input: s = \"abcd\"\r\n",
        "Output: \"dcbabcd\"\r\n",
        "```\r\n",
        "\r\n",
        "\r\n",
        "\r\n"
      ]
    },
    {
      "cell_type": "code",
      "metadata": {
        "id": "CFSLUaWiUzKn",
        "colab": {
          "base_uri": "https://localhost:8080/",
          "height": 35
        },
        "outputId": "38058e23-dc76-44d9-f2d3-f0b1d2b4a5ce"
      },
      "source": [
        "def palindrome(s):\r\n",
        "  if len(s) <= 1 or s == s[::-1]:\r\n",
        "    return s\r\n",
        "  for x in range(len(s), 0, -1):\r\n",
        "    y = s[:x]\r\n",
        "    if y == y[::-1]:\r\n",
        "      if x == len(s):\r\n",
        "        return s\r\n",
        "      p = s[x:len(s)][::-1] + s\r\n",
        "      return p\r\n",
        "\r\n",
        "s = 'abcd'\r\n",
        "palindrome(s)"
      ],
      "execution_count": 21,
      "outputs": [
        {
          "output_type": "execute_result",
          "data": {
            "application/vnd.google.colaboratory.intrinsic+json": {
              "type": "string"
            },
            "text/plain": [
              "'dcbabcd'"
            ]
          },
          "metadata": {
            "tags": []
          },
          "execution_count": 21
        }
      ]
    },
    {
      "cell_type": "markdown",
      "metadata": {
        "id": "awns-vnoU1JC"
      },
      "source": [
        "Given a binary array, find the maximum number of consecutive 1s in this array.\r\n",
        "\r\n",
        "\r\n",
        "\r\n",
        "```\r\n",
        "Input: [1,1,0,1,1,1]\r\n",
        "Output: 3\r\n",
        "Explanation: The first two digits or the last three digits are consecutive 1s.\r\n",
        "             The maximum number of consecutive 1s is 3.\r\n",
        "```\r\n",
        "\r\n"
      ]
    },
    {
      "cell_type": "code",
      "metadata": {
        "id": "NtPOwDy-XAnq",
        "colab": {
          "base_uri": "https://localhost:8080/"
        },
        "outputId": "d306d198-ed1b-4049-e258-d5bd0a6901df"
      },
      "source": [
        "def mostconsec(ones, x):\r\n",
        "  amtofones = 0\r\n",
        "  num = 0\r\n",
        "  for y in range(0, x):\r\n",
        "    if (ones[y] == 0):\r\n",
        "      amtofones = 0\r\n",
        "    else:\r\n",
        "      amtofones+= 1\r\n",
        "      num = max(num, amtofones)\r\n",
        "  return num\r\n",
        "\r\n",
        "ones = [1,1,1,1,0,1,1,1,1,1]\r\n",
        "x = len(ones)\r\n",
        "\r\n",
        "mostconsec(ones, x)\r\n"
      ],
      "execution_count": 20,
      "outputs": [
        {
          "output_type": "execute_result",
          "data": {
            "text/plain": [
              "5"
            ]
          },
          "metadata": {
            "tags": []
          },
          "execution_count": 20
        }
      ]
    },
    {
      "cell_type": "markdown",
      "metadata": {
        "id": "ErvMRNrXXBpy"
      },
      "source": [
        "##Technical Question - Probability\r\n",
        "\r\n",
        "What is the probability that a seven-game series goes to 7 games?"
      ]
    },
    {
      "cell_type": "markdown",
      "metadata": {
        "id": "1VT12SBwYXK-"
      },
      "source": [
        "There are 20 different scenarios in which a game 7 can be forced (between the two teams)\r\n",
        "\r\n",
        "All possible permutation of the series outcome for 6 games = 2 to the power of 6 = 64\r\n",
        "\r\n",
        "20/64\r\n",
        "\r\n",
        "31.25% chance"
      ]
    },
    {
      "cell_type": "markdown",
      "metadata": {
        "id": "qPhOCsG1YZ3y"
      },
      "source": [
        "Say you roll three dice, one by one. What is the probability that you obtain 3 numbers in a strictly increasing order?"
      ]
    },
    {
      "cell_type": "markdown",
      "metadata": {
        "id": "3uVTnIyyZBmz"
      },
      "source": [
        "If first die thrown is 5 or 6, the prob is 0.\r\n",
        "\r\n",
        "If first die thrown is 4, the only desirable combined outcome for remaining two are 5 and 6 respectively, so 1 outcome out of 36 possible. 1/36 x 1/6 = 1/216\r\n",
        "\r\n",
        "If first die thrown is 3, there are 3 desirable combined outcomes for the other two. 3/216\r\n",
        "\r\n",
        "If first die thrown is 2, there are 6 desirable combined outcomes for the other two. 6/216\r\n",
        "\r\n",
        "If first die thrown is 1, there are 10 desirable combined outcomes for the other two. 10/216\r\n",
        "\r\n",
        "1/216 + 3/216 + 6/216 + 10/216 = 20/216\r\n",
        "\r\n",
        "9.259% chance"
      ]
    },
    {
      "cell_type": "code",
      "metadata": {
        "id": "4xUmUdGNYVj-"
      },
      "source": [
        ""
      ],
      "execution_count": null,
      "outputs": []
    }
  ]
}