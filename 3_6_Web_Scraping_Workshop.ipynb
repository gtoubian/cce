{
  "nbformat": 4,
  "nbformat_minor": 0,
  "metadata": {
    "colab": {
      "name": "3.6 Web Scraping Workshop.ipynb",
      "provenance": [],
      "collapsed_sections": [],
      "include_colab_link": true
    },
    "kernelspec": {
      "name": "python3",
      "display_name": "Python 3"
    }
  },
  "cells": [
    {
      "cell_type": "markdown",
      "metadata": {
        "id": "view-in-github",
        "colab_type": "text"
      },
      "source": [
        "<a href=\"https://colab.research.google.com/github/gtoubian/cce/blob/main/3_6_Web_Scraping_Workshop.ipynb\" target=\"_parent\"><img src=\"https://colab.research.google.com/assets/colab-badge.svg\" alt=\"Open In Colab\"/></a>"
      ]
    },
    {
      "cell_type": "markdown",
      "metadata": {
        "id": "SCSC8OkgRHxo"
      },
      "source": [
        "#Warm Up\r\n",
        "\r\n",
        "Import the Beautiful Soup, Requests, and Pandas Packages in the cell below."
      ]
    },
    {
      "cell_type": "code",
      "metadata": {
        "id": "Dgu-qqamRDZg"
      },
      "source": [
        "from bs4 import BeautifulSoup as bs\r\n",
        "import requests\r\n",
        "import pandas as pd"
      ],
      "execution_count": 1,
      "outputs": []
    },
    {
      "cell_type": "markdown",
      "metadata": {
        "id": "q2KLDCLQSBx7"
      },
      "source": [
        "#Scraping off Wikipedia\r\n",
        "\r\n",
        "During lecture, we went over how to scrap some data off of the Brooklyn Nine Nine Wikipedia Page. For this exercise, scrap the text data as well as the side bar data as a dictionary from the Wikipedia Page of your choosing. Convert your dictionary into a dataframe and print it."
      ]
    },
    {
      "cell_type": "code",
      "metadata": {
        "id": "G0c0_MK1RHQ9"
      },
      "source": [
        "r = requests.get(\"https://en.wikipedia.org/wiki/Rick_and_Morty\")\r\n",
        "soup = bs(r.content)\r\n",
        "content = soup.prettify()"
      ],
      "execution_count": 2,
      "outputs": []
    },
    {
      "cell_type": "code",
      "metadata": {
        "id": "w70IbJi7F1k-"
      },
      "source": [
        "info_box = soup.find(class_='infobox vevent')"
      ],
      "execution_count": 3,
      "outputs": []
    },
    {
      "cell_type": "code",
      "metadata": {
        "id": "hwZfkaQMF6Xg"
      },
      "source": [
        "info_rows = info_box.find_all('tr')\r\n",
        "for row in info_rows:\r\n",
        "  print(row.prettify())"
      ],
      "execution_count": null,
      "outputs": []
    },
    {
      "cell_type": "code",
      "metadata": {
        "id": "cbpcfn7dGFhg"
      },
      "source": [
        "def get_content_value(row_data):\r\n",
        "  if row.find(\"li\") is not None:\r\n",
        "    return [li.get_text(\" \", strip = True).replace(\"\\xa0\", ' ') for li in row.find_all('li')]\r\n",
        "  else:\r\n",
        "    return row.find('td').get_text(\" \", strip = True).replace(\"\\xa0\", ' ')"
      ],
      "execution_count": 6,
      "outputs": []
    },
    {
      "cell_type": "code",
      "metadata": {
        "id": "b4tYF4BrGKpA",
        "outputId": "178f9115-d848-4cfe-c607-941c1043841a",
        "colab": {
          "base_uri": "https://localhost:8080/"
        }
      },
      "source": [
        "show_info = {}\r\n",
        "\r\n",
        "for index, row in enumerate(info_rows):\r\n",
        "  if index == 0:\r\n",
        "    show_info['title']=row.find('th').get_text()\r\n",
        "  elif index ==1:\r\n",
        "    continue\r\n",
        "  else:\r\n",
        "    x = row.find('th')\r\n",
        "    y = row.find('td')\r\n",
        "    if x is not None and y is not None:\r\n",
        "      key =row.find('th').get_text()\r\n",
        "      value = get_content_value(row.find('td'))\r\n",
        "      show_info[key] = value\r\n",
        "\r\n",
        "print (show_info)"
      ],
      "execution_count": 7,
      "outputs": [
        {
          "output_type": "stream",
          "text": [
            "{'title': 'Rick and Morty', 'Genre': ['Adult animation', 'Animated sitcom', 'Science fiction'], 'Created by': 'Justin Roiland and Dan Harmon', 'Voices of': ['Justin Roiland', 'Chris Parnell', 'Spencer Grammer', 'Sarah Chalke'], 'Composer': 'Ryan Elder', 'Country of origin': 'United States', 'No. of seasons': '4', 'No. of episodes': '41 ( list of episodes )', 'Executive producers': ['Dan Harmon', 'Justin Roiland', 'James A. Fino (seasons 1–2)', 'Joe Russo II (seasons 1–2)', 'Mike McMahan (season 4–present)'], 'Producers': ['J. Michael Mendel (seasons 1–4)', 'Kenny Micka (pilot)'], 'Running time': '22 minutes', 'Production companies': ['Williams Street', 'Harmonious Claptrap', 'Starburns Industries (seasons 1–2)', \"Justin Roiland's Solo Vanity Card Productions!\", 'Rick and Morty, LLC. (season 2–3) [1]', 'Green Portal Productions (season 4)'], 'Distributor': ['Warner Bros. Television Distribution'], 'Original network': 'Adult Swim', 'Picture format': '1080i ( HDTV )', 'Original release': 'December 2, 2013 ( 2013-12-02 ) – present'}\n"
          ],
          "name": "stdout"
        }
      ]
    },
    {
      "cell_type": "markdown",
      "metadata": {
        "id": "TlMiyWL8SmM8"
      },
      "source": [
        "#Technical Question - Python\r\n",
        "\r\n",
        "You are given a string s. You can convert s to a palindrome by adding characters in front of it.\r\n",
        "\r\n",
        "Return the shortest palindrome you can find by performing this transformation.\r\n",
        "\r\n",
        "\r\n",
        "\r\n",
        "```\r\n",
        "Input: s = \"abcd\"\r\n",
        "Output: \"dcbabcd\"\r\n",
        "```\r\n",
        "\r\n",
        "\r\n",
        "\r\n"
      ]
    },
    {
      "cell_type": "code",
      "metadata": {
        "id": "CFSLUaWiUzKn"
      },
      "source": [
        ""
      ],
      "execution_count": null,
      "outputs": []
    },
    {
      "cell_type": "markdown",
      "metadata": {
        "id": "awns-vnoU1JC"
      },
      "source": [
        "Given a binary array, find the maximum number of consecutive 1s in this array.\r\n",
        "\r\n",
        "\r\n",
        "\r\n",
        "```\r\n",
        "Input: [1,1,0,1,1,1]\r\n",
        "Output: 3\r\n",
        "Explanation: The first two digits or the last three digits are consecutive 1s.\r\n",
        "             The maximum number of consecutive 1s is 3.\r\n",
        "```\r\n",
        "\r\n"
      ]
    },
    {
      "cell_type": "code",
      "metadata": {
        "id": "NtPOwDy-XAnq"
      },
      "source": [
        ""
      ],
      "execution_count": null,
      "outputs": []
    },
    {
      "cell_type": "markdown",
      "metadata": {
        "id": "ErvMRNrXXBpy"
      },
      "source": [
        "##Technical Question - Probability\r\n",
        "\r\n",
        "What is the probability that a seven-game series goes to 7 games?"
      ]
    },
    {
      "cell_type": "markdown",
      "metadata": {
        "id": "1VT12SBwYXK-"
      },
      "source": [
        "-Answer Here-"
      ]
    },
    {
      "cell_type": "markdown",
      "metadata": {
        "id": "qPhOCsG1YZ3y"
      },
      "source": [
        "Say you roll three dice, one by one. What is the probability that you obtain 3 numbers in a strictly increasing order?"
      ]
    },
    {
      "cell_type": "markdown",
      "metadata": {
        "id": "3uVTnIyyZBmz"
      },
      "source": [
        "-Answer Here-"
      ]
    },
    {
      "cell_type": "code",
      "metadata": {
        "id": "4xUmUdGNYVj-"
      },
      "source": [
        ""
      ],
      "execution_count": null,
      "outputs": []
    }
  ]
}