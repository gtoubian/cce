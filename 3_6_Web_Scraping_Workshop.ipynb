{
  "nbformat": 4,
  "nbformat_minor": 0,
  "metadata": {
    "colab": {
      "name": "3.6 Web Scraping Workshop.ipynb",
      "provenance": [],
      "collapsed_sections": [],
      "include_colab_link": true
    },
    "kernelspec": {
      "name": "python3",
      "display_name": "Python 3"
    }
  },
  "cells": [
    {
      "cell_type": "markdown",
      "metadata": {
        "id": "view-in-github",
        "colab_type": "text"
      },
      "source": [
        "<a href=\"https://colab.research.google.com/github/gtoubian/cce/blob/main/3_6_Web_Scraping_Workshop.ipynb\" target=\"_parent\"><img src=\"https://colab.research.google.com/assets/colab-badge.svg\" alt=\"Open In Colab\"/></a>"
      ]
    },
    {
      "cell_type": "markdown",
      "metadata": {
        "id": "SCSC8OkgRHxo"
      },
      "source": [
        "#Warm Up\r\n",
        "\r\n",
        "Import the Beautiful Soup, Requests, and Pandas Packages in the cell below."
      ]
    },
    {
      "cell_type": "code",
      "metadata": {
        "id": "Dgu-qqamRDZg"
      },
      "source": [
        "from bs4 import BeautifulSoup as bs\r\n",
        "import requests\r\n",
        "import pandas as pd"
      ],
      "execution_count": 1,
      "outputs": []
    },
    {
      "cell_type": "markdown",
      "metadata": {
        "id": "q2KLDCLQSBx7"
      },
      "source": [
        "#Scraping off Wikipedia\r\n",
        "\r\n",
        "During lecture, we went over how to scrap some data off of the Brooklyn Nine Nine Wikipedia Page. For this exercise, scrap the text data as well as the side bar data as a dictionary from the Wikipedia Page of your choosing. Convert your dictionary into a dataframe and print it."
      ]
    },
    {
      "cell_type": "code",
      "metadata": {
        "id": "G0c0_MK1RHQ9"
      },
      "source": [
        "r = requests.get(\"https://en.wikipedia.org/wiki/Rick_and_Morty\")\r\n",
        "soup = bs(r.content)\r\n",
        "content = soup.prettify()"
      ],
      "execution_count": 2,
      "outputs": []
    },
    {
      "cell_type": "code",
      "metadata": {
        "id": "w70IbJi7F1k-"
      },
      "source": [
        "info_box = soup.find(class_='infobox vevent')"
      ],
      "execution_count": 3,
      "outputs": []
    },
    {
      "cell_type": "code",
      "metadata": {
        "id": "hwZfkaQMF6Xg"
      },
      "source": [
        "info_rows = info_box.find_all('tr')\r\n",
        "for row in info_rows:\r\n",
        "  print(row.prettify())"
      ],
      "execution_count": null,
      "outputs": []
    },
    {
      "cell_type": "code",
      "metadata": {
        "id": "cbpcfn7dGFhg"
      },
      "source": [
        "def get_content_value(row_data):\r\n",
        "  if row.find(\"li\") is not None:\r\n",
        "    return [li.get_text(\" \", strip = True).replace(\"\\xa0\", ' ') for li in row.find_all('li')]\r\n",
        "  else:\r\n",
        "    return row.find('td').get_text(\" \", strip = True).replace(\"\\xa0\", ' ')"
      ],
      "execution_count": 6,
      "outputs": []
    },
    {
      "cell_type": "code",
      "metadata": {
        "colab": {
          "base_uri": "https://localhost:8080/"
        },
        "id": "b4tYF4BrGKpA",
        "outputId": "178f9115-d848-4cfe-c607-941c1043841a"
      },
      "source": [
        "show_info = {}\r\n",
        "\r\n",
        "for index, row in enumerate(info_rows):\r\n",
        "  if index == 0:\r\n",
        "    show_info['title']=row.find('th').get_text()\r\n",
        "  elif index ==1:\r\n",
        "    continue\r\n",
        "  else:\r\n",
        "    x = row.find('th')\r\n",
        "    y = row.find('td')\r\n",
        "    if x is not None and y is not None:\r\n",
        "      key =row.find('th').get_text()\r\n",
        "      value = get_content_value(row.find('td'))\r\n",
        "      show_info[key] = value\r\n",
        "\r\n",
        "print (show_info)"
      ],
      "execution_count": 7,
      "outputs": [
        {
          "output_type": "stream",
          "text": [
            "{'title': 'Rick and Morty', 'Genre': ['Adult animation', 'Animated sitcom', 'Science fiction'], 'Created by': 'Justin Roiland and Dan Harmon', 'Voices of': ['Justin Roiland', 'Chris Parnell', 'Spencer Grammer', 'Sarah Chalke'], 'Composer': 'Ryan Elder', 'Country of origin': 'United States', 'No. of seasons': '4', 'No. of episodes': '41 ( list of episodes )', 'Executive producers': ['Dan Harmon', 'Justin Roiland', 'James A. Fino (seasons 1–2)', 'Joe Russo II (seasons 1–2)', 'Mike McMahan (season 4–present)'], 'Producers': ['J. Michael Mendel (seasons 1–4)', 'Kenny Micka (pilot)'], 'Running time': '22 minutes', 'Production companies': ['Williams Street', 'Harmonious Claptrap', 'Starburns Industries (seasons 1–2)', \"Justin Roiland's Solo Vanity Card Productions!\", 'Rick and Morty, LLC. (season 2–3) [1]', 'Green Portal Productions (season 4)'], 'Distributor': ['Warner Bros. Television Distribution'], 'Original network': 'Adult Swim', 'Picture format': '1080i ( HDTV )', 'Original release': 'December 2, 2013 ( 2013-12-02 ) – present'}\n"
          ],
          "name": "stdout"
        }
      ]
    },
    {
      "cell_type": "code",
      "metadata": {
        "colab": {
          "base_uri": "https://localhost:8080/",
          "height": 306
        },
        "id": "3dHPuMyOGf5o",
        "outputId": "58a40d88-6cdb-4f40-d514-90c31784c534"
      },
      "source": [
        "showinfo = pd.DataFrame.from_dict(show_info)"
      ],
      "execution_count": 13,
      "outputs": [
        {
          "output_type": "error",
          "ename": "ValueError",
          "evalue": "ignored",
          "traceback": [
            "\u001b[0;31m---------------------------------------------------------------------------\u001b[0m",
            "\u001b[0;31mValueError\u001b[0m                                Traceback (most recent call last)",
            "\u001b[0;32m<ipython-input-13-00856b932363>\u001b[0m in \u001b[0;36m<module>\u001b[0;34m()\u001b[0m\n\u001b[0;32m----> 1\u001b[0;31m \u001b[0mshowinfo\u001b[0m \u001b[0;34m=\u001b[0m \u001b[0mpd\u001b[0m\u001b[0;34m.\u001b[0m\u001b[0mDataFrame\u001b[0m\u001b[0;34m.\u001b[0m\u001b[0mfrom_dict\u001b[0m\u001b[0;34m(\u001b[0m\u001b[0mshow_info\u001b[0m\u001b[0;34m)\u001b[0m\u001b[0;34m\u001b[0m\u001b[0;34m\u001b[0m\u001b[0m\n\u001b[0m",
            "\u001b[0;32m/usr/local/lib/python3.7/dist-packages/pandas/core/frame.py\u001b[0m in \u001b[0;36mfrom_dict\u001b[0;34m(cls, data, orient, dtype, columns)\u001b[0m\n\u001b[1;32m   1307\u001b[0m             \u001b[0;32mraise\u001b[0m \u001b[0mValueError\u001b[0m\u001b[0;34m(\u001b[0m\u001b[0;34m\"only recognize index or columns for orient\"\u001b[0m\u001b[0;34m)\u001b[0m\u001b[0;34m\u001b[0m\u001b[0;34m\u001b[0m\u001b[0m\n\u001b[1;32m   1308\u001b[0m \u001b[0;34m\u001b[0m\u001b[0m\n\u001b[0;32m-> 1309\u001b[0;31m         \u001b[0;32mreturn\u001b[0m \u001b[0mcls\u001b[0m\u001b[0;34m(\u001b[0m\u001b[0mdata\u001b[0m\u001b[0;34m,\u001b[0m \u001b[0mindex\u001b[0m\u001b[0;34m=\u001b[0m\u001b[0mindex\u001b[0m\u001b[0;34m,\u001b[0m \u001b[0mcolumns\u001b[0m\u001b[0;34m=\u001b[0m\u001b[0mcolumns\u001b[0m\u001b[0;34m,\u001b[0m \u001b[0mdtype\u001b[0m\u001b[0;34m=\u001b[0m\u001b[0mdtype\u001b[0m\u001b[0;34m)\u001b[0m\u001b[0;34m\u001b[0m\u001b[0;34m\u001b[0m\u001b[0m\n\u001b[0m\u001b[1;32m   1310\u001b[0m \u001b[0;34m\u001b[0m\u001b[0m\n\u001b[1;32m   1311\u001b[0m     def to_numpy(\n",
            "\u001b[0;32m/usr/local/lib/python3.7/dist-packages/pandas/core/frame.py\u001b[0m in \u001b[0;36m__init__\u001b[0;34m(self, data, index, columns, dtype, copy)\u001b[0m\n\u001b[1;32m    466\u001b[0m \u001b[0;34m\u001b[0m\u001b[0m\n\u001b[1;32m    467\u001b[0m         \u001b[0;32melif\u001b[0m \u001b[0misinstance\u001b[0m\u001b[0;34m(\u001b[0m\u001b[0mdata\u001b[0m\u001b[0;34m,\u001b[0m \u001b[0mdict\u001b[0m\u001b[0;34m)\u001b[0m\u001b[0;34m:\u001b[0m\u001b[0;34m\u001b[0m\u001b[0;34m\u001b[0m\u001b[0m\n\u001b[0;32m--> 468\u001b[0;31m             \u001b[0mmgr\u001b[0m \u001b[0;34m=\u001b[0m \u001b[0minit_dict\u001b[0m\u001b[0;34m(\u001b[0m\u001b[0mdata\u001b[0m\u001b[0;34m,\u001b[0m \u001b[0mindex\u001b[0m\u001b[0;34m,\u001b[0m \u001b[0mcolumns\u001b[0m\u001b[0;34m,\u001b[0m \u001b[0mdtype\u001b[0m\u001b[0;34m=\u001b[0m\u001b[0mdtype\u001b[0m\u001b[0;34m)\u001b[0m\u001b[0;34m\u001b[0m\u001b[0;34m\u001b[0m\u001b[0m\n\u001b[0m\u001b[1;32m    469\u001b[0m         \u001b[0;32melif\u001b[0m \u001b[0misinstance\u001b[0m\u001b[0;34m(\u001b[0m\u001b[0mdata\u001b[0m\u001b[0;34m,\u001b[0m \u001b[0mma\u001b[0m\u001b[0;34m.\u001b[0m\u001b[0mMaskedArray\u001b[0m\u001b[0;34m)\u001b[0m\u001b[0;34m:\u001b[0m\u001b[0;34m\u001b[0m\u001b[0;34m\u001b[0m\u001b[0m\n\u001b[1;32m    470\u001b[0m             \u001b[0;32mimport\u001b[0m \u001b[0mnumpy\u001b[0m\u001b[0;34m.\u001b[0m\u001b[0mma\u001b[0m\u001b[0;34m.\u001b[0m\u001b[0mmrecords\u001b[0m \u001b[0;32mas\u001b[0m \u001b[0mmrecords\u001b[0m\u001b[0;34m\u001b[0m\u001b[0;34m\u001b[0m\u001b[0m\n",
            "\u001b[0;32m/usr/local/lib/python3.7/dist-packages/pandas/core/internals/construction.py\u001b[0m in \u001b[0;36minit_dict\u001b[0;34m(data, index, columns, dtype)\u001b[0m\n\u001b[1;32m    281\u001b[0m             \u001b[0marr\u001b[0m \u001b[0;32mif\u001b[0m \u001b[0;32mnot\u001b[0m \u001b[0mis_datetime64tz_dtype\u001b[0m\u001b[0;34m(\u001b[0m\u001b[0marr\u001b[0m\u001b[0;34m)\u001b[0m \u001b[0;32melse\u001b[0m \u001b[0marr\u001b[0m\u001b[0;34m.\u001b[0m\u001b[0mcopy\u001b[0m\u001b[0;34m(\u001b[0m\u001b[0;34m)\u001b[0m \u001b[0;32mfor\u001b[0m \u001b[0marr\u001b[0m \u001b[0;32min\u001b[0m \u001b[0marrays\u001b[0m\u001b[0;34m\u001b[0m\u001b[0;34m\u001b[0m\u001b[0m\n\u001b[1;32m    282\u001b[0m         ]\n\u001b[0;32m--> 283\u001b[0;31m     \u001b[0;32mreturn\u001b[0m \u001b[0marrays_to_mgr\u001b[0m\u001b[0;34m(\u001b[0m\u001b[0marrays\u001b[0m\u001b[0;34m,\u001b[0m \u001b[0mdata_names\u001b[0m\u001b[0;34m,\u001b[0m \u001b[0mindex\u001b[0m\u001b[0;34m,\u001b[0m \u001b[0mcolumns\u001b[0m\u001b[0;34m,\u001b[0m \u001b[0mdtype\u001b[0m\u001b[0;34m=\u001b[0m\u001b[0mdtype\u001b[0m\u001b[0;34m)\u001b[0m\u001b[0;34m\u001b[0m\u001b[0;34m\u001b[0m\u001b[0m\n\u001b[0m\u001b[1;32m    284\u001b[0m \u001b[0;34m\u001b[0m\u001b[0m\n\u001b[1;32m    285\u001b[0m \u001b[0;34m\u001b[0m\u001b[0m\n",
            "\u001b[0;32m/usr/local/lib/python3.7/dist-packages/pandas/core/internals/construction.py\u001b[0m in \u001b[0;36marrays_to_mgr\u001b[0;34m(arrays, arr_names, index, columns, dtype, verify_integrity)\u001b[0m\n\u001b[1;32m     76\u001b[0m         \u001b[0;31m# figure out the index, if necessary\u001b[0m\u001b[0;34m\u001b[0m\u001b[0;34m\u001b[0m\u001b[0;34m\u001b[0m\u001b[0m\n\u001b[1;32m     77\u001b[0m         \u001b[0;32mif\u001b[0m \u001b[0mindex\u001b[0m \u001b[0;32mis\u001b[0m \u001b[0;32mNone\u001b[0m\u001b[0;34m:\u001b[0m\u001b[0;34m\u001b[0m\u001b[0;34m\u001b[0m\u001b[0m\n\u001b[0;32m---> 78\u001b[0;31m             \u001b[0mindex\u001b[0m \u001b[0;34m=\u001b[0m \u001b[0mextract_index\u001b[0m\u001b[0;34m(\u001b[0m\u001b[0marrays\u001b[0m\u001b[0;34m)\u001b[0m\u001b[0;34m\u001b[0m\u001b[0;34m\u001b[0m\u001b[0m\n\u001b[0m\u001b[1;32m     79\u001b[0m         \u001b[0;32melse\u001b[0m\u001b[0;34m:\u001b[0m\u001b[0;34m\u001b[0m\u001b[0;34m\u001b[0m\u001b[0m\n\u001b[1;32m     80\u001b[0m             \u001b[0mindex\u001b[0m \u001b[0;34m=\u001b[0m \u001b[0mensure_index\u001b[0m\u001b[0;34m(\u001b[0m\u001b[0mindex\u001b[0m\u001b[0;34m)\u001b[0m\u001b[0;34m\u001b[0m\u001b[0;34m\u001b[0m\u001b[0m\n",
            "\u001b[0;32m/usr/local/lib/python3.7/dist-packages/pandas/core/internals/construction.py\u001b[0m in \u001b[0;36mextract_index\u001b[0;34m(data)\u001b[0m\n\u001b[1;32m    395\u001b[0m             \u001b[0mlengths\u001b[0m \u001b[0;34m=\u001b[0m \u001b[0mlist\u001b[0m\u001b[0;34m(\u001b[0m\u001b[0mset\u001b[0m\u001b[0;34m(\u001b[0m\u001b[0mraw_lengths\u001b[0m\u001b[0;34m)\u001b[0m\u001b[0;34m)\u001b[0m\u001b[0;34m\u001b[0m\u001b[0;34m\u001b[0m\u001b[0m\n\u001b[1;32m    396\u001b[0m             \u001b[0;32mif\u001b[0m \u001b[0mlen\u001b[0m\u001b[0;34m(\u001b[0m\u001b[0mlengths\u001b[0m\u001b[0;34m)\u001b[0m \u001b[0;34m>\u001b[0m \u001b[0;36m1\u001b[0m\u001b[0;34m:\u001b[0m\u001b[0;34m\u001b[0m\u001b[0;34m\u001b[0m\u001b[0m\n\u001b[0;32m--> 397\u001b[0;31m                 \u001b[0;32mraise\u001b[0m \u001b[0mValueError\u001b[0m\u001b[0;34m(\u001b[0m\u001b[0;34m\"arrays must all be same length\"\u001b[0m\u001b[0;34m)\u001b[0m\u001b[0;34m\u001b[0m\u001b[0;34m\u001b[0m\u001b[0m\n\u001b[0m\u001b[1;32m    398\u001b[0m \u001b[0;34m\u001b[0m\u001b[0m\n\u001b[1;32m    399\u001b[0m             \u001b[0;32mif\u001b[0m \u001b[0mhave_dicts\u001b[0m\u001b[0;34m:\u001b[0m\u001b[0;34m\u001b[0m\u001b[0;34m\u001b[0m\u001b[0m\n",
            "\u001b[0;31mValueError\u001b[0m: arrays must all be same length"
          ]
        }
      ]
    },
    {
      "cell_type": "markdown",
      "metadata": {
        "id": "TlMiyWL8SmM8"
      },
      "source": [
        "#Technical Question - Python\r\n",
        "\r\n",
        "You are given a string s. You can convert s to a palindrome by adding characters in front of it.\r\n",
        "\r\n",
        "Return the shortest palindrome you can find by performing this transformation.\r\n",
        "\r\n",
        "\r\n",
        "\r\n",
        "```\r\n",
        "Input: s = \"abcd\"\r\n",
        "Output: \"dcbabcd\"\r\n",
        "```\r\n",
        "\r\n",
        "\r\n",
        "\r\n"
      ]
    },
    {
      "cell_type": "code",
      "metadata": {
        "id": "CFSLUaWiUzKn",
        "colab": {
          "base_uri": "https://localhost:8080/",
          "height": 35
        },
        "outputId": "327b37d8-325f-4f27-ee79-d5c07d14aac6"
      },
      "source": [
        "def palindrome(s):\r\n",
        "  if len(s) <= 1 or s == s[::-1]:\r\n",
        "    return s\r\n",
        "  for x in range(len(s), 0, -1):\r\n",
        "    subStr = s[:x]\r\n",
        "    if subStr == subStr[::-1]:\r\n",
        "      if x == len(s):\r\n",
        "        return s\r\n",
        "      p = s[x:len(s)][::-1] + s\r\n",
        "      return p\r\n",
        "\r\n",
        "s = 'abcd'\r\n",
        "palindrome(s)"
      ],
      "execution_count": 15,
      "outputs": [
        {
          "output_type": "execute_result",
          "data": {
            "application/vnd.google.colaboratory.intrinsic+json": {
              "type": "string"
            },
            "text/plain": [
              "'dcbabcd'"
            ]
          },
          "metadata": {
            "tags": []
          },
          "execution_count": 15
        }
      ]
    },
    {
      "cell_type": "markdown",
      "metadata": {
        "id": "awns-vnoU1JC"
      },
      "source": [
        "Given a binary array, find the maximum number of consecutive 1s in this array.\r\n",
        "\r\n",
        "\r\n",
        "\r\n",
        "```\r\n",
        "Input: [1,1,0,1,1,1]\r\n",
        "Output: 3\r\n",
        "Explanation: The first two digits or the last three digits are consecutive 1s.\r\n",
        "             The maximum number of consecutive 1s is 3.\r\n",
        "```\r\n",
        "\r\n"
      ]
    },
    {
      "cell_type": "code",
      "metadata": {
        "id": "NtPOwDy-XAnq",
        "colab": {
          "base_uri": "https://localhost:8080/"
        },
        "outputId": "8d0bab73-30af-4ecc-d0f9-a022d983ce44"
      },
      "source": [
        "def mostconsec(ones, x):\r\n",
        "  amtofones = 0\r\n",
        "  result = 0\r\n",
        "  for y in range(0, x):\r\n",
        "    if (ones[y] == 0):\r\n",
        "      amtofones = 0\r\n",
        "    else:\r\n",
        "      amtofones+= 1\r\n",
        "      result = max(result, amtofones)\r\n",
        "  return result\r\n",
        "\r\n",
        "ones = [1,1,1,1,0,1,1,1,1,1]\r\n",
        "x = len(ones)\r\n",
        "\r\n",
        "mostconsec(ones, x)\r\n"
      ],
      "execution_count": 19,
      "outputs": [
        {
          "output_type": "execute_result",
          "data": {
            "text/plain": [
              "5"
            ]
          },
          "metadata": {
            "tags": []
          },
          "execution_count": 19
        }
      ]
    },
    {
      "cell_type": "markdown",
      "metadata": {
        "id": "ErvMRNrXXBpy"
      },
      "source": [
        "##Technical Question - Probability\r\n",
        "\r\n",
        "What is the probability that a seven-game series goes to 7 games?"
      ]
    },
    {
      "cell_type": "markdown",
      "metadata": {
        "id": "1VT12SBwYXK-"
      },
      "source": [
        "-Answer Here-"
      ]
    },
    {
      "cell_type": "markdown",
      "metadata": {
        "id": "qPhOCsG1YZ3y"
      },
      "source": [
        "Say you roll three dice, one by one. What is the probability that you obtain 3 numbers in a strictly increasing order?"
      ]
    },
    {
      "cell_type": "markdown",
      "metadata": {
        "id": "3uVTnIyyZBmz"
      },
      "source": [
        "-Answer Here-"
      ]
    },
    {
      "cell_type": "code",
      "metadata": {
        "id": "4xUmUdGNYVj-"
      },
      "source": [
        ""
      ],
      "execution_count": null,
      "outputs": []
    }
  ]
}