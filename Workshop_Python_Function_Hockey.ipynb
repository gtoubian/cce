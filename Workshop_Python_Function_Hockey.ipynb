{
  "nbformat": 4,
  "nbformat_minor": 0,
  "metadata": {
    "language_info": {
      "name": "python",
      "codemirror_mode": {
        "name": "ipython",
        "version": 3
      },
      "version": "3.7.4-final"
    },
    "orig_nbformat": 2,
    "file_extension": ".py",
    "mimetype": "text/x-python",
    "name": "python",
    "npconvert_exporter": "python",
    "pygments_lexer": "ipython3",
    "version": 3,
    "kernelspec": {
      "name": "python3",
      "display_name": "Python 3"
    },
    "colab": {
      "name": "Workshop_Python_Function_Hockey.ipynb",
      "provenance": [],
      "collapsed_sections": [],
      "include_colab_link": true
    }
  },
  "cells": [
    {
      "cell_type": "markdown",
      "metadata": {
        "id": "view-in-github",
        "colab_type": "text"
      },
      "source": [
        "<a href=\"https://colab.research.google.com/github/gtoubian/cce/blob/main/Workshop_Python_Function_Hockey.ipynb\" target=\"_parent\"><img src=\"https://colab.research.google.com/assets/colab-badge.svg\" alt=\"Open In Colab\"/></a>"
      ]
    },
    {
      "cell_type": "markdown",
      "metadata": {
        "id": "k3V8CMSHN84w"
      },
      "source": [
        "**Gabriel Toubian** - gtoubian@gmail.com"
      ]
    },
    {
      "cell_type": "markdown",
      "metadata": {
        "id": "sT-JzLWK4bfZ"
      },
      "source": [
        "**NOTE:**\r\n",
        "\r\n",
        "Please insert a text cell at the top of the Notebook with your Full Name in Bold and your email that you use for both Journey and Github\r\n",
        "\r\n",
        "Also, add to the title of the notebook, an underscore as well as your favourite sport beside it.\r\n",
        "\r\n",
        "Ex. 'Workshop_Python_Function_Powerlifting'"
      ]
    },
    {
      "cell_type": "markdown",
      "metadata": {
        "id": "1iy5rDnHjMOB"
      },
      "source": [
        "# Warm Up\n",
        "\n",
        "Create a function that takes two numbers as arguments and return their sum.\n",
        "Examples\n",
        "\n",
        "addition(3, 2) ➞ 5\n",
        "\n",
        "addition(-3, -6) ➞ -9\n",
        "\n",
        "addition(7, 3) ➞ 10"
      ]
    },
    {
      "cell_type": "code",
      "metadata": {
        "id": "zCP0sJ_bjMOD",
        "colab": {
          "base_uri": "https://localhost:8080/"
        },
        "outputId": "20b7e63f-80b3-4767-95c2-54836b47b46a"
      },
      "source": [
        "def addition(x,y):\r\n",
        "  return x+y\r\n",
        "\r\n",
        "addition(4,5)\r\n"
      ],
      "execution_count": null,
      "outputs": [
        {
          "output_type": "execute_result",
          "data": {
            "text/plain": [
              "9"
            ]
          },
          "metadata": {
            "tags": []
          },
          "execution_count": 13
        }
      ]
    },
    {
      "cell_type": "markdown",
      "metadata": {
        "id": "cuO0LbIRjMOM"
      },
      "source": [
        "Generate a Python list of all the even numbers between 4 to 3048"
      ]
    },
    {
      "cell_type": "code",
      "metadata": {
        "id": "QmPBJRrgjMOR",
        "colab": {
          "base_uri": "https://localhost:8080/"
        },
        "outputId": "0c33563d-fa61-41f4-ecdd-0764bbc069dc"
      },
      "source": [
        "evens = []\r\n",
        "\r\n",
        "for x in range(3,3049):\r\n",
        "  if x%2 == 0:\r\n",
        "    evens.append(x)\r\n",
        "\r\n",
        "print(evens)\r\n"
      ],
      "execution_count": null,
      "outputs": [
        {
          "output_type": "stream",
          "text": [
            "[4, 6, 8, 10, 12, 14, 16, 18, 20, 22, 24, 26, 28, 30, 32, 34, 36, 38, 40, 42, 44, 46, 48, 50, 52, 54, 56, 58, 60, 62, 64, 66, 68, 70, 72, 74, 76, 78, 80, 82, 84, 86, 88, 90, 92, 94, 96, 98, 100, 102, 104, 106, 108, 110, 112, 114, 116, 118, 120, 122, 124, 126, 128, 130, 132, 134, 136, 138, 140, 142, 144, 146, 148, 150, 152, 154, 156, 158, 160, 162, 164, 166, 168, 170, 172, 174, 176, 178, 180, 182, 184, 186, 188, 190, 192, 194, 196, 198, 200, 202, 204, 206, 208, 210, 212, 214, 216, 218, 220, 222, 224, 226, 228, 230, 232, 234, 236, 238, 240, 242, 244, 246, 248, 250, 252, 254, 256, 258, 260, 262, 264, 266, 268, 270, 272, 274, 276, 278, 280, 282, 284, 286, 288, 290, 292, 294, 296, 298, 300, 302, 304, 306, 308, 310, 312, 314, 316, 318, 320, 322, 324, 326, 328, 330, 332, 334, 336, 338, 340, 342, 344, 346, 348, 350, 352, 354, 356, 358, 360, 362, 364, 366, 368, 370, 372, 374, 376, 378, 380, 382, 384, 386, 388, 390, 392, 394, 396, 398, 400, 402, 404, 406, 408, 410, 412, 414, 416, 418, 420, 422, 424, 426, 428, 430, 432, 434, 436, 438, 440, 442, 444, 446, 448, 450, 452, 454, 456, 458, 460, 462, 464, 466, 468, 470, 472, 474, 476, 478, 480, 482, 484, 486, 488, 490, 492, 494, 496, 498, 500, 502, 504, 506, 508, 510, 512, 514, 516, 518, 520, 522, 524, 526, 528, 530, 532, 534, 536, 538, 540, 542, 544, 546, 548, 550, 552, 554, 556, 558, 560, 562, 564, 566, 568, 570, 572, 574, 576, 578, 580, 582, 584, 586, 588, 590, 592, 594, 596, 598, 600, 602, 604, 606, 608, 610, 612, 614, 616, 618, 620, 622, 624, 626, 628, 630, 632, 634, 636, 638, 640, 642, 644, 646, 648, 650, 652, 654, 656, 658, 660, 662, 664, 666, 668, 670, 672, 674, 676, 678, 680, 682, 684, 686, 688, 690, 692, 694, 696, 698, 700, 702, 704, 706, 708, 710, 712, 714, 716, 718, 720, 722, 724, 726, 728, 730, 732, 734, 736, 738, 740, 742, 744, 746, 748, 750, 752, 754, 756, 758, 760, 762, 764, 766, 768, 770, 772, 774, 776, 778, 780, 782, 784, 786, 788, 790, 792, 794, 796, 798, 800, 802, 804, 806, 808, 810, 812, 814, 816, 818, 820, 822, 824, 826, 828, 830, 832, 834, 836, 838, 840, 842, 844, 846, 848, 850, 852, 854, 856, 858, 860, 862, 864, 866, 868, 870, 872, 874, 876, 878, 880, 882, 884, 886, 888, 890, 892, 894, 896, 898, 900, 902, 904, 906, 908, 910, 912, 914, 916, 918, 920, 922, 924, 926, 928, 930, 932, 934, 936, 938, 940, 942, 944, 946, 948, 950, 952, 954, 956, 958, 960, 962, 964, 966, 968, 970, 972, 974, 976, 978, 980, 982, 984, 986, 988, 990, 992, 994, 996, 998, 1000, 1002, 1004, 1006, 1008, 1010, 1012, 1014, 1016, 1018, 1020, 1022, 1024, 1026, 1028, 1030, 1032, 1034, 1036, 1038, 1040, 1042, 1044, 1046, 1048, 1050, 1052, 1054, 1056, 1058, 1060, 1062, 1064, 1066, 1068, 1070, 1072, 1074, 1076, 1078, 1080, 1082, 1084, 1086, 1088, 1090, 1092, 1094, 1096, 1098, 1100, 1102, 1104, 1106, 1108, 1110, 1112, 1114, 1116, 1118, 1120, 1122, 1124, 1126, 1128, 1130, 1132, 1134, 1136, 1138, 1140, 1142, 1144, 1146, 1148, 1150, 1152, 1154, 1156, 1158, 1160, 1162, 1164, 1166, 1168, 1170, 1172, 1174, 1176, 1178, 1180, 1182, 1184, 1186, 1188, 1190, 1192, 1194, 1196, 1198, 1200, 1202, 1204, 1206, 1208, 1210, 1212, 1214, 1216, 1218, 1220, 1222, 1224, 1226, 1228, 1230, 1232, 1234, 1236, 1238, 1240, 1242, 1244, 1246, 1248, 1250, 1252, 1254, 1256, 1258, 1260, 1262, 1264, 1266, 1268, 1270, 1272, 1274, 1276, 1278, 1280, 1282, 1284, 1286, 1288, 1290, 1292, 1294, 1296, 1298, 1300, 1302, 1304, 1306, 1308, 1310, 1312, 1314, 1316, 1318, 1320, 1322, 1324, 1326, 1328, 1330, 1332, 1334, 1336, 1338, 1340, 1342, 1344, 1346, 1348, 1350, 1352, 1354, 1356, 1358, 1360, 1362, 1364, 1366, 1368, 1370, 1372, 1374, 1376, 1378, 1380, 1382, 1384, 1386, 1388, 1390, 1392, 1394, 1396, 1398, 1400, 1402, 1404, 1406, 1408, 1410, 1412, 1414, 1416, 1418, 1420, 1422, 1424, 1426, 1428, 1430, 1432, 1434, 1436, 1438, 1440, 1442, 1444, 1446, 1448, 1450, 1452, 1454, 1456, 1458, 1460, 1462, 1464, 1466, 1468, 1470, 1472, 1474, 1476, 1478, 1480, 1482, 1484, 1486, 1488, 1490, 1492, 1494, 1496, 1498, 1500, 1502, 1504, 1506, 1508, 1510, 1512, 1514, 1516, 1518, 1520, 1522, 1524, 1526, 1528, 1530, 1532, 1534, 1536, 1538, 1540, 1542, 1544, 1546, 1548, 1550, 1552, 1554, 1556, 1558, 1560, 1562, 1564, 1566, 1568, 1570, 1572, 1574, 1576, 1578, 1580, 1582, 1584, 1586, 1588, 1590, 1592, 1594, 1596, 1598, 1600, 1602, 1604, 1606, 1608, 1610, 1612, 1614, 1616, 1618, 1620, 1622, 1624, 1626, 1628, 1630, 1632, 1634, 1636, 1638, 1640, 1642, 1644, 1646, 1648, 1650, 1652, 1654, 1656, 1658, 1660, 1662, 1664, 1666, 1668, 1670, 1672, 1674, 1676, 1678, 1680, 1682, 1684, 1686, 1688, 1690, 1692, 1694, 1696, 1698, 1700, 1702, 1704, 1706, 1708, 1710, 1712, 1714, 1716, 1718, 1720, 1722, 1724, 1726, 1728, 1730, 1732, 1734, 1736, 1738, 1740, 1742, 1744, 1746, 1748, 1750, 1752, 1754, 1756, 1758, 1760, 1762, 1764, 1766, 1768, 1770, 1772, 1774, 1776, 1778, 1780, 1782, 1784, 1786, 1788, 1790, 1792, 1794, 1796, 1798, 1800, 1802, 1804, 1806, 1808, 1810, 1812, 1814, 1816, 1818, 1820, 1822, 1824, 1826, 1828, 1830, 1832, 1834, 1836, 1838, 1840, 1842, 1844, 1846, 1848, 1850, 1852, 1854, 1856, 1858, 1860, 1862, 1864, 1866, 1868, 1870, 1872, 1874, 1876, 1878, 1880, 1882, 1884, 1886, 1888, 1890, 1892, 1894, 1896, 1898, 1900, 1902, 1904, 1906, 1908, 1910, 1912, 1914, 1916, 1918, 1920, 1922, 1924, 1926, 1928, 1930, 1932, 1934, 1936, 1938, 1940, 1942, 1944, 1946, 1948, 1950, 1952, 1954, 1956, 1958, 1960, 1962, 1964, 1966, 1968, 1970, 1972, 1974, 1976, 1978, 1980, 1982, 1984, 1986, 1988, 1990, 1992, 1994, 1996, 1998, 2000, 2002, 2004, 2006, 2008, 2010, 2012, 2014, 2016, 2018, 2020, 2022, 2024, 2026, 2028, 2030, 2032, 2034, 2036, 2038, 2040, 2042, 2044, 2046, 2048, 2050, 2052, 2054, 2056, 2058, 2060, 2062, 2064, 2066, 2068, 2070, 2072, 2074, 2076, 2078, 2080, 2082, 2084, 2086, 2088, 2090, 2092, 2094, 2096, 2098, 2100, 2102, 2104, 2106, 2108, 2110, 2112, 2114, 2116, 2118, 2120, 2122, 2124, 2126, 2128, 2130, 2132, 2134, 2136, 2138, 2140, 2142, 2144, 2146, 2148, 2150, 2152, 2154, 2156, 2158, 2160, 2162, 2164, 2166, 2168, 2170, 2172, 2174, 2176, 2178, 2180, 2182, 2184, 2186, 2188, 2190, 2192, 2194, 2196, 2198, 2200, 2202, 2204, 2206, 2208, 2210, 2212, 2214, 2216, 2218, 2220, 2222, 2224, 2226, 2228, 2230, 2232, 2234, 2236, 2238, 2240, 2242, 2244, 2246, 2248, 2250, 2252, 2254, 2256, 2258, 2260, 2262, 2264, 2266, 2268, 2270, 2272, 2274, 2276, 2278, 2280, 2282, 2284, 2286, 2288, 2290, 2292, 2294, 2296, 2298, 2300, 2302, 2304, 2306, 2308, 2310, 2312, 2314, 2316, 2318, 2320, 2322, 2324, 2326, 2328, 2330, 2332, 2334, 2336, 2338, 2340, 2342, 2344, 2346, 2348, 2350, 2352, 2354, 2356, 2358, 2360, 2362, 2364, 2366, 2368, 2370, 2372, 2374, 2376, 2378, 2380, 2382, 2384, 2386, 2388, 2390, 2392, 2394, 2396, 2398, 2400, 2402, 2404, 2406, 2408, 2410, 2412, 2414, 2416, 2418, 2420, 2422, 2424, 2426, 2428, 2430, 2432, 2434, 2436, 2438, 2440, 2442, 2444, 2446, 2448, 2450, 2452, 2454, 2456, 2458, 2460, 2462, 2464, 2466, 2468, 2470, 2472, 2474, 2476, 2478, 2480, 2482, 2484, 2486, 2488, 2490, 2492, 2494, 2496, 2498, 2500, 2502, 2504, 2506, 2508, 2510, 2512, 2514, 2516, 2518, 2520, 2522, 2524, 2526, 2528, 2530, 2532, 2534, 2536, 2538, 2540, 2542, 2544, 2546, 2548, 2550, 2552, 2554, 2556, 2558, 2560, 2562, 2564, 2566, 2568, 2570, 2572, 2574, 2576, 2578, 2580, 2582, 2584, 2586, 2588, 2590, 2592, 2594, 2596, 2598, 2600, 2602, 2604, 2606, 2608, 2610, 2612, 2614, 2616, 2618, 2620, 2622, 2624, 2626, 2628, 2630, 2632, 2634, 2636, 2638, 2640, 2642, 2644, 2646, 2648, 2650, 2652, 2654, 2656, 2658, 2660, 2662, 2664, 2666, 2668, 2670, 2672, 2674, 2676, 2678, 2680, 2682, 2684, 2686, 2688, 2690, 2692, 2694, 2696, 2698, 2700, 2702, 2704, 2706, 2708, 2710, 2712, 2714, 2716, 2718, 2720, 2722, 2724, 2726, 2728, 2730, 2732, 2734, 2736, 2738, 2740, 2742, 2744, 2746, 2748, 2750, 2752, 2754, 2756, 2758, 2760, 2762, 2764, 2766, 2768, 2770, 2772, 2774, 2776, 2778, 2780, 2782, 2784, 2786, 2788, 2790, 2792, 2794, 2796, 2798, 2800, 2802, 2804, 2806, 2808, 2810, 2812, 2814, 2816, 2818, 2820, 2822, 2824, 2826, 2828, 2830, 2832, 2834, 2836, 2838, 2840, 2842, 2844, 2846, 2848, 2850, 2852, 2854, 2856, 2858, 2860, 2862, 2864, 2866, 2868, 2870, 2872, 2874, 2876, 2878, 2880, 2882, 2884, 2886, 2888, 2890, 2892, 2894, 2896, 2898, 2900, 2902, 2904, 2906, 2908, 2910, 2912, 2914, 2916, 2918, 2920, 2922, 2924, 2926, 2928, 2930, 2932, 2934, 2936, 2938, 2940, 2942, 2944, 2946, 2948, 2950, 2952, 2954, 2956, 2958, 2960, 2962, 2964, 2966, 2968, 2970, 2972, 2974, 2976, 2978, 2980, 2982, 2984, 2986, 2988, 2990, 2992, 2994, 2996, 2998, 3000, 3002, 3004, 3006, 3008, 3010, 3012, 3014, 3016, 3018, 3020, 3022, 3024, 3026, 3028, 3030, 3032, 3034, 3036, 3038, 3040, 3042, 3044, 3046, 3048]\n"
          ],
          "name": "stdout"
        }
      ]
    },
    {
      "cell_type": "markdown",
      "metadata": {
        "id": "BKWQxlIfjMOa"
      },
      "source": [
        "# First and Last \n",
        "\n",
        "Creates a function that takes a string and returns the first and last character.\n",
        "### Examples\n",
        "\n",
        "```\n",
        "first_last(\"ganesh\") ➞ \"gh\"\n",
        "\n",
        "first_last(\"kali\") ➞ \"ki\"\n",
        "\n",
        "first_last(\"shiva\") ➞ \"sa\"\n",
        "\n",
        "first_last(\"vishnu\") ➞ \"vu\"\n",
        "\n",
        "first_last(\"durga\") ➞ \"da\"\n",
        "```"
      ]
    },
    {
      "cell_type": "code",
      "metadata": {
        "id": "ReZj5xusjMOb",
        "colab": {
          "base_uri": "https://localhost:8080/",
          "height": 35
        },
        "outputId": "df5ccdac-7cef-4d7b-a012-b4a6f037cf4d"
      },
      "source": [
        "def first_last(str):\r\n",
        "  if len(str) < 1:\r\n",
        "    return \"\"\r\n",
        "\r\n",
        "  return str[0:1] + str[-1:]\r\n",
        "\r\n",
        "first_last(\"laser\")"
      ],
      "execution_count": null,
      "outputs": [
        {
          "output_type": "execute_result",
          "data": {
            "application/vnd.google.colaboratory.intrinsic+json": {
              "type": "string"
            },
            "text/plain": [
              "'lr'"
            ]
          },
          "metadata": {
            "tags": []
          },
          "execution_count": 15
        }
      ]
    },
    {
      "cell_type": "markdown",
      "metadata": {
        "id": "OwOUmg3PjMOg"
      },
      "source": [
        "# Keys in Dict\n",
        "\n",
        "Write a function that returns `True` if a dictionary contains the specified key, and `False` otherwise.\n",
        "\n",
        "### Examples\n",
        "\n",
        "```\n",
        "has_key({ \"a\": 44, \"b\": 45, \"c\": 46 }, \"d\") ➞ False\n",
        "\n",
        "has_key({ \"craves\": True, \"midnight\": True, \"snack\": True }, \"morning\") ➞ False\n",
        "\n",
        "has_key({ \"pot\": 1, \"tot\": 2, \"not\": 3 }, \"not\") ➞ True\n",
        "```"
      ]
    },
    {
      "cell_type": "code",
      "metadata": {
        "id": "iv49655hjMOh",
        "colab": {
          "base_uri": "https://localhost:8080/",
          "height": 35
        },
        "outputId": "59e2aa2e-8ed8-413b-91f8-27f3c339ce10"
      },
      "source": [
        "dic = { \"a\": 44, \"b\": 45, \"c\": 46 }\r\n",
        "def HasKey(key):     \r\n",
        "  if key in dic: \r\n",
        "        return \"True\"\r\n",
        "  else: \r\n",
        "        return \"False\"\r\n",
        "\r\n",
        "HasKey('f')\r\n",
        "\r\n",
        "   \r\n",
        "\r\n",
        "  \r\n"
      ],
      "execution_count": null,
      "outputs": [
        {
          "output_type": "execute_result",
          "data": {
            "application/vnd.google.colaboratory.intrinsic+json": {
              "type": "string"
            },
            "text/plain": [
              "'False'"
            ]
          },
          "metadata": {
            "tags": []
          },
          "execution_count": 28
        }
      ]
    },
    {
      "cell_type": "markdown",
      "metadata": {
        "id": "x3cG0fxWjMOn"
      },
      "source": [
        "# Element Count\n",
        "\n",
        "Write a function that count how many times each element in a list occurs. It should return a dict in the format `element -> count`\n",
        "\n",
        "ex:\n",
        "```\n",
        "key_count([1, 3, 2, 1, 5, 3, 5, 1, 4]) ⇒ {\n",
        "    1: 3,\n",
        "    2: 1,\n",
        "    3: 2,\n",
        "    4: 1,\n",
        "    5: 2,\n",
        "}\n",
        "```"
      ]
    },
    {
      "cell_type": "code",
      "metadata": {
        "id": "Flay0XwUjMOo"
      },
      "source": [
        "numbers = [1, 3, 2, 1, 5, 3, 5, 1, 4]\n",
        "\n",
        "###TO DO!!!\n",
        "\n"
      ],
      "execution_count": null,
      "outputs": []
    },
    {
      "cell_type": "markdown",
      "metadata": {
        "id": "hap91j1mjMOu"
      },
      "source": [
        "# Test Distinct\n",
        "\n",
        "Write a Python function that takes a sequence of numbers and determines whether all the numbers are different from each other.\n",
        "\n",
        "**Hint:** Think about the properties of sets.\n",
        "\n",
        "```\n",
        "test_distinct([2,3,4,5,7,8]) -> True\n",
        "test_distinct([2,3,4,5,8,8]) -> False\n",
        "```"
      ]
    },
    {
      "cell_type": "code",
      "metadata": {
        "id": "vOjSHswFjMOw",
        "colab": {
          "base_uri": "https://localhost:8080/"
        },
        "outputId": "96977b82-ea2e-4145-f29c-3bb1a4840543"
      },
      "source": [
        "test_distinct = [2,3,4,5,7,8]\r\n",
        "\r\n",
        "if len(test_distinct) != len(set(test_distinct)):\r\n",
        "  print('FALSE')\r\n",
        "else:\r\n",
        "  print('TRUE')"
      ],
      "execution_count": null,
      "outputs": [
        {
          "output_type": "stream",
          "text": [
            "TRUE\n"
          ],
          "name": "stdout"
        }
      ]
    },
    {
      "cell_type": "markdown",
      "metadata": {
        "id": "6E9o0wWAjMO0"
      },
      "source": [
        "\n",
        "\n",
        "Write a Python program to compute the amount of the debt in n months. The borrowing amount is $100,000 and the loan adds 5% interest of the debt and rounds it to the nearest 1,000 above month by month.\n",
        "\n",
        "The function takes in an integer (the number of months) and returns the total debt including the starting \\$100,000 rounded to \\$1000 .\n",
        "\n",
        "```\n",
        "debt_total(7) -> 144000\n",
        "debt_total(8) -> 152000\n",
        "debt_total(9) -> 160000\n",
        "debt_total(1) -> 105000\n",
        "debt_total(57) -> 1736000\n",
        "```\n"
      ]
    },
    {
      "cell_type": "code",
      "metadata": {
        "id": "iIODCG-ajMO1",
        "colab": {
          "base_uri": "https://localhost:8080/"
        },
        "outputId": "c75fc5aa-ec06-48be-f5ed-955bd0c6c03c"
      },
      "source": [
        "def debt_total(months):\r\n",
        "   debt = 100000 * ((1 + 0.05)**months)\r\n",
        "   print(round(debt, -3))\r\n",
        "  \r\n",
        "debt_total(7)"
      ],
      "execution_count": 129,
      "outputs": [
        {
          "output_type": "stream",
          "text": [
            "141000.0\n"
          ],
          "name": "stdout"
        }
      ]
    },
    {
      "cell_type": "markdown",
      "metadata": {
        "id": "y9b3I_ACjMO6"
      },
      "source": [
        "# Spell Checker\n",
        "\n",
        "Create a function that takes in two lists: \n",
        "\n",
        "1. A sentence as a list of user-typed words\n",
        "\n",
        "2. The list of correctly-typed words\n",
        "\n",
        "and outputs a list containing 1s (correctly-typed words) and 0s (incorrectly-typed words).\n",
        "\n",
        "### Inputs:\n",
        "> User-typed: \\[\"cat\", \"blue\", \"skt\", \"umbrells\", \"paddy\"\\]\n",
        "\n",
        "> Correct: \\[\"cat\", \"blue\", \"sky\", \"umbrella\", \"paddy\"\\]\n",
        "\n",
        "### Output: \\[ 1, 1, 0, 0, 1 \\]\n",
        "\n",
        "### Examples\n",
        "\n",
        "```\n",
        "correct_stream(\n",
        "  [\"it\", \"is\", \"find\"],\n",
        "  [\"it\", \"is\", \"fine\"]\n",
        ") ➞ [1, 1, 0]\n",
        "\n",
        "correct_stream(\n",
        "  [\"april\", \"showrs\", \"bring\", \"may\", \"flowers\"],\n",
        "  [\"april\", \"showers\", \"bring\", \"may\", \"flowers\"]\n",
        ") ➞ [1, 0, 1, 1, 1]\n",
        "\n",
        "```"
      ]
    },
    {
      "cell_type": "code",
      "metadata": {
        "id": "STQsHu3wjMO7"
      },
      "source": [
        ""
      ],
      "execution_count": null,
      "outputs": []
    },
    {
      "cell_type": "markdown",
      "metadata": {
        "id": "9WO4zQ7ejMPU"
      },
      "source": [
        "# Century\n",
        "\n",
        "Write a function that takes a year and returns its corresponding century.\n",
        "\n",
        "### Examples\n",
        "\n",
        "```\n",
        "century_from_year(2005) ➞ 21\n",
        "\n",
        "century_from_year(1850) ➞ 19\n",
        "\n",
        "century_from_year(55) ➞ 1\n",
        "\n",
        "```"
      ]
    },
    {
      "cell_type": "code",
      "metadata": {
        "id": "xFPlgdBxjMPW"
      },
      "source": [
        "\n"
      ],
      "execution_count": null,
      "outputs": []
    },
    {
      "cell_type": "markdown",
      "metadata": {
        "id": "IDoa0pAijMPZ"
      },
      "source": [
        "# Grade school addition\n",
        "\n",
        "Write a function that, given two lists of integers, adds them as if they were two numbers. So `12` would be `[1,2]` and `2357` would be `[2,3,5,7]`\n",
        "\n",
        "Ex:\n",
        "\n",
        "```\n",
        "    [1, 1] + [1] ⇒ 11 + 1 = 12\n",
        "    [9, 9] + [2] ⇒ 99 + 2 = 101\n",
        "```"
      ]
    },
    {
      "cell_type": "code",
      "metadata": {
        "id": "dxESS7e1jMPa"
      },
      "source": [
        ""
      ],
      "execution_count": null,
      "outputs": []
    },
    {
      "cell_type": "code",
      "metadata": {
        "id": "mqPCDFAd3dv8"
      },
      "source": [
        ""
      ],
      "execution_count": null,
      "outputs": []
    },
    {
      "cell_type": "markdown",
      "metadata": {
        "id": "YfHl7G3DFCOe"
      },
      "source": [
        "#Lucky Number 7\r\n",
        "\r\n",
        "Write a function that sums up every element in a list. If the element is 7, multiply the element by 2 and then add it. If the element in the list comes after a 7, multiply it by 3 and then add it.\r\n",
        "\r\n",
        "Ex.\r\n",
        "\r\n",
        "\r\n",
        "```\r\n",
        "x = [1,7,3,4]\r\n",
        "lucky7(x) --> 28\r\n",
        "```\r\n",
        "\r\n"
      ]
    },
    {
      "cell_type": "code",
      "metadata": {
        "id": "NV-1MUJvjMPh"
      },
      "source": [
        ""
      ],
      "execution_count": null,
      "outputs": []
    },
    {
      "cell_type": "markdown",
      "metadata": {
        "id": "GbsUoaRJLNd7"
      },
      "source": [
        "# Factorial\r\n",
        "Write a function that computes the factorial of a given number. In math the factorial of a non negative integer number is the product of itself with all integers less than itself starting from 1. \r\n",
        "\r\n",
        "Ex. \r\n",
        "\r\n",
        "$$4! = 4*3*2*1$$\r\n",
        "$$4! = 24$$\r\n",
        "\r\n",
        "\r\n",
        "```\r\n",
        "factorial(4) --> 24\r\n",
        "```\r\n",
        "\r\n"
      ]
    },
    {
      "cell_type": "code",
      "metadata": {
        "id": "Nr8b02zXM8H9"
      },
      "source": [
        ""
      ],
      "execution_count": null,
      "outputs": []
    },
    {
      "cell_type": "markdown",
      "metadata": {
        "id": "3QXhJ0TgOn02"
      },
      "source": [
        "#Combinatrics\r\n",
        "The binomial coefficient is an important function in combinatrics. The function is written as:\r\n",
        "$$ \\binom{n}{k} = \\frac{n!}{k!(n-k)!}  $$\r\n",
        "\r\n",
        "Define a function for the binomial coefficient in Python, making sure that n is greater than or equal to k. \r\n",
        "\r\n",
        "**Hint:** Use the factorial function that you defined in the previous exercise.\r\n",
        "\r\n",
        "\r\n",
        "```\r\n",
        "NChooseK(5,2) = 10\r\n",
        "```\r\n",
        "\r\n"
      ]
    },
    {
      "cell_type": "code",
      "metadata": {
        "id": "C2MQKiouRQ2q"
      },
      "source": [
        ""
      ],
      "execution_count": null,
      "outputs": []
    },
    {
      "cell_type": "markdown",
      "metadata": {
        "id": "zPsFyGIUM8mp"
      },
      "source": [
        "#Docstrings\r\n",
        "\r\n",
        "Write the completed docstrings for each function covered in the \"Big O Notation Examples\" Section from lecture.\r\n",
        "\r\n",
        "Docstring format is as follows:\r\n",
        "\r\n",
        "```\r\n",
        "\"\"\"[Summary]\r\n",
        "\r\n",
        ":param [ParamName]: [ParamDescription], defaults to [DefaultParamVal]\r\n",
        ":type [ParamName]: [ParamType](, optional)\r\n",
        "...\r\n",
        ":raises [ErrorType]: [ErrorDescription]\r\n",
        "...\r\n",
        ":return: [ReturnDescription]\r\n",
        ":rtype: [ReturnType]\r\n",
        "\"\"\"\r\n",
        "```"
      ]
    },
    {
      "cell_type": "code",
      "metadata": {
        "id": "E_XNaR4-OOrA"
      },
      "source": [
        "#O(1)"
      ],
      "execution_count": null,
      "outputs": []
    },
    {
      "cell_type": "code",
      "metadata": {
        "id": "ko0P2BqwOg88"
      },
      "source": [
        "#O(n)"
      ],
      "execution_count": null,
      "outputs": []
    },
    {
      "cell_type": "code",
      "metadata": {
        "id": "Toz2q1CGOhkZ"
      },
      "source": [
        "#O(n^2)"
      ],
      "execution_count": null,
      "outputs": []
    },
    {
      "cell_type": "code",
      "metadata": {
        "id": "7axxtbauOh2K"
      },
      "source": [
        "#O(n^c)"
      ],
      "execution_count": null,
      "outputs": []
    },
    {
      "cell_type": "code",
      "metadata": {
        "id": "LqLSGgFEOP8D"
      },
      "source": [
        "#O(log(n))"
      ],
      "execution_count": null,
      "outputs": []
    },
    {
      "cell_type": "code",
      "metadata": {
        "id": "vmMUtn9qOQN_"
      },
      "source": [
        "#O(nlog(n))"
      ],
      "execution_count": null,
      "outputs": []
    },
    {
      "cell_type": "code",
      "metadata": {
        "id": "-ffWPPdvOQec"
      },
      "source": [
        "#O(2^n)"
      ],
      "execution_count": null,
      "outputs": []
    },
    {
      "cell_type": "markdown",
      "metadata": {
        "id": "aTX-q5PkOlhJ"
      },
      "source": [
        "#Big O Notation\r\n",
        "\r\n",
        "For the following functions, answer in the text cell below, the time complexity of the function using Big O notation.\r\n",
        "\r\n",
        "Ex.\r\n",
        "\r\n",
        "\r\n",
        "```\r\n",
        "def findmin(L):\r\n",
        " min = L[0]\r\n",
        " for number in L:\r\n",
        "  if number<min:\r\n",
        "    min = number \r\n",
        "```\r\n",
        "The function has O(n) time complexity.\r\n"
      ]
    },
    {
      "cell_type": "code",
      "metadata": {
        "id": "rmTnLFUISOZ1"
      },
      "source": [
        "def reverse_string(n):\r\n",
        "  solution = []\r\n",
        "  for x in range(n):\r\n",
        "    for y in range(n):\r\n",
        "      if 4x + 3y <= 20:\r\n",
        "        solution.append([x,y])\r\n",
        "  return solution "
      ],
      "execution_count": null,
      "outputs": []
    },
    {
      "cell_type": "markdown",
      "metadata": {
        "id": "rKNjTP4gSPEw"
      },
      "source": [
        "The function has O(__) time complexity. "
      ]
    },
    {
      "cell_type": "code",
      "metadata": {
        "colab": {
          "base_uri": "https://localhost:8080/"
        },
        "id": "ZsMer__CSPe7",
        "outputId": "cfd11b03-9d0e-4cb3-a956-df26fc692a3e"
      },
      "source": [
        "def add_hundred(n):\r\n",
        "  return n + 100\r\n",
        "\r\n",
        "#n can only be an integer or float."
      ],
      "execution_count": null,
      "outputs": [
        {
          "output_type": "execute_result",
          "data": {
            "text/plain": [
              "False"
            ]
          },
          "metadata": {
            "tags": []
          },
          "execution_count": 47
        }
      ]
    },
    {
      "cell_type": "markdown",
      "metadata": {
        "id": "yjmP0wteSPyX"
      },
      "source": [
        "The function has O(__) time complexity."
      ]
    },
    {
      "cell_type": "markdown",
      "metadata": {
        "id": "IQMDneCtjMPl"
      },
      "source": [
        "# Bonus\n",
        "\n",
        "## Pascal's Triangle\n",
        "\n",
        "[Pascals Triangle](https://en.wikipedia.org/wiki/Pascal%27s_triangle) is a mathematical structure that's important in statistics and [combinatorics](https://en.wikipedia.org/wiki/Combinatorics). It starts with the number 1 and expands as a pyramid where a number is the sum of it's diagonal neighbors on the row above it.\n",
        "\n",
        "It looks like this (you can find more examples in the links):\n",
        "\n",
        "```\n",
        "                 1\n",
        "               1   1\n",
        "             1   2   1\n",
        "           1   3   3   1\n",
        "         1   4   6   4   1\n",
        "       1   5   10   10   5   1\n",
        "     1   6   15   20   15   6   1\n",
        "   1   7   21   35   35   21   7   1\n",
        "```\n",
        "\n",
        "Write a function that given an integer (the number of rows) prints out pascal's triangle up to the specified row. Example:\n",
        "\n",
        "```\n",
        "pascal_triangle(8)\n",
        "```\n",
        "out:\n",
        "```\n",
        "                 1\n",
        "\n",
        "               1   1\n",
        "\n",
        "             1   2   1\n",
        "\n",
        "           1   3   3   1\n",
        "\n",
        "         1   4   6   4   1\n",
        "\n",
        "       1   5   10   10   5   1\n",
        "\n",
        "     1   6   15   20   15   6   1\n",
        "\n",
        "   1   7   21   35   35   21   7   1\n",
        "\n",
        "```\n",
        "Another example\n",
        "\n",
        "```\n",
        "pascal_triangle(3)\n",
        "```\n",
        "out:\n",
        "```\n",
        "                 1\n",
        "\n",
        "               1   1\n",
        "\n",
        "             1   2   1\n",
        "\n",
        "```"
      ]
    },
    {
      "cell_type": "code",
      "metadata": {
        "id": "86H7yf_gjMPl"
      },
      "source": [
        ""
      ],
      "execution_count": null,
      "outputs": []
    },
    {
      "cell_type": "code",
      "metadata": {
        "id": "EQNBoK9kjMPp",
        "colab": {
          "base_uri": "https://localhost:8080/",
          "height": 35
        },
        "outputId": "c0c23bee-ad59-4024-d483-ce8487623d44"
      },
      "source": [
        ""
      ],
      "execution_count": null,
      "outputs": [
        {
          "output_type": "execute_result",
          "data": {
            "application/vnd.google.colaboratory.intrinsic+json": {
              "type": "string"
            },
            "text/plain": [
              "'          '"
            ]
          },
          "metadata": {
            "tags": []
          },
          "execution_count": 38
        }
      ]
    },
    {
      "cell_type": "code",
      "metadata": {
        "id": "QQjze_8zK1I_"
      },
      "source": [
        ""
      ],
      "execution_count": null,
      "outputs": []
    }
  ]
}