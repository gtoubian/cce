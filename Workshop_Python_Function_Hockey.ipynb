{
  "nbformat": 4,
  "nbformat_minor": 0,
  "metadata": {
    "language_info": {
      "name": "python",
      "codemirror_mode": {
        "name": "ipython",
        "version": 3
      },
      "version": "3.7.4-final"
    },
    "orig_nbformat": 2,
    "file_extension": ".py",
    "mimetype": "text/x-python",
    "name": "python",
    "npconvert_exporter": "python",
    "pygments_lexer": "ipython3",
    "version": 3,
    "kernelspec": {
      "name": "python3",
      "display_name": "Python 3"
    },
    "colab": {
      "name": "Workshop_Python_Function_Hockey.ipynb",
      "provenance": [],
      "collapsed_sections": [],
      "include_colab_link": true
    }
  },
  "cells": [
    {
      "cell_type": "markdown",
      "metadata": {
        "id": "view-in-github",
        "colab_type": "text"
      },
      "source": [
        "<a href=\"https://colab.research.google.com/github/gtoubian/cce/blob/main/Workshop_Python_Function_Hockey.ipynb\" target=\"_parent\"><img src=\"https://colab.research.google.com/assets/colab-badge.svg\" alt=\"Open In Colab\"/></a>"
      ]
    },
    {
      "cell_type": "markdown",
      "metadata": {
        "id": "k3V8CMSHN84w"
      },
      "source": [
        "**Gabriel Toubian** - gtoubian@gmail.com"
      ]
    },
    {
      "cell_type": "markdown",
      "metadata": {
        "id": "sT-JzLWK4bfZ"
      },
      "source": [
        "**NOTE:**\r\n",
        "\r\n",
        "Please insert a text cell at the top of the Notebook with your Full Name in Bold and your email that you use for both Journey and Github\r\n",
        "\r\n",
        "Also, add to the title of the notebook, an underscore as well as your favourite sport beside it.\r\n",
        "\r\n",
        "Ex. 'Workshop_Python_Function_Powerlifting'"
      ]
    },
    {
      "cell_type": "markdown",
      "metadata": {
        "id": "1iy5rDnHjMOB"
      },
      "source": [
        "# Warm Up\n",
        "\n",
        "Create a function that takes two numbers as arguments and return their sum.\n",
        "Examples\n",
        "\n",
        "addition(3, 2) ➞ 5\n",
        "\n",
        "addition(-3, -6) ➞ -9\n",
        "\n",
        "addition(7, 3) ➞ 10"
      ]
    },
    {
      "cell_type": "code",
      "metadata": {
        "id": "zCP0sJ_bjMOD"
      },
      "source": [
        ""
      ],
      "execution_count": null,
      "outputs": []
    },
    {
      "cell_type": "markdown",
      "metadata": {
        "id": "cuO0LbIRjMOM"
      },
      "source": [
        "Generate a Python list of all the even numbers between 4 to 3048"
      ]
    },
    {
      "cell_type": "code",
      "metadata": {
        "id": "QmPBJRrgjMOR"
      },
      "source": [
        ""
      ],
      "execution_count": null,
      "outputs": []
    },
    {
      "cell_type": "markdown",
      "metadata": {
        "id": "BKWQxlIfjMOa"
      },
      "source": [
        "# First and Last \n",
        "\n",
        "Creates a function that takes a string and returns the first and last character.\n",
        "### Examples\n",
        "\n",
        "```\n",
        "first_last(\"ganesh\") ➞ \"gh\"\n",
        "\n",
        "first_last(\"kali\") ➞ \"ki\"\n",
        "\n",
        "first_last(\"shiva\") ➞ \"sa\"\n",
        "\n",
        "first_last(\"vishnu\") ➞ \"vu\"\n",
        "\n",
        "first_last(\"durga\") ➞ \"da\"\n",
        "```"
      ]
    },
    {
      "cell_type": "code",
      "metadata": {
        "id": "ReZj5xusjMOb"
      },
      "source": [
        ""
      ],
      "execution_count": null,
      "outputs": []
    },
    {
      "cell_type": "markdown",
      "metadata": {
        "id": "OwOUmg3PjMOg"
      },
      "source": [
        "# Keys in Dict\n",
        "\n",
        "Write a function that returns `True` if a dictionary contains the specified key, and `False` otherwise.\n",
        "\n",
        "### Examples\n",
        "\n",
        "```\n",
        "has_key({ \"a\": 44, \"b\": 45, \"c\": 46 }, \"d\") ➞ False\n",
        "\n",
        "has_key({ \"craves\": True, \"midnight\": True, \"snack\": True }, \"morning\") ➞ False\n",
        "\n",
        "has_key({ \"pot\": 1, \"tot\": 2, \"not\": 3 }, \"not\") ➞ True\n",
        "```"
      ]
    },
    {
      "cell_type": "code",
      "metadata": {
        "id": "iv49655hjMOh"
      },
      "source": [
        ""
      ],
      "execution_count": null,
      "outputs": []
    },
    {
      "cell_type": "markdown",
      "metadata": {
        "id": "x3cG0fxWjMOn"
      },
      "source": [
        "# Element Count\n",
        "\n",
        "Write a function that count how many times each element in a list occurs. It should return a dict in the format `element -> count`\n",
        "\n",
        "ex:\n",
        "```\n",
        "key_count([1, 3, 2, 1, 5, 3, 5, 1, 4]) ⇒ {\n",
        "    1: 3,\n",
        "    2: 1,\n",
        "    3: 2,\n",
        "    4: 1,\n",
        "    5: 2,\n",
        "}\n",
        "```"
      ]
    },
    {
      "cell_type": "code",
      "metadata": {
        "id": "Flay0XwUjMOo"
      },
      "source": [
        "numbers = [1, 3, 2, 1, 5, 3, 5, 1, 4]\n"
      ],
      "execution_count": null,
      "outputs": []
    },
    {
      "cell_type": "markdown",
      "metadata": {
        "id": "hap91j1mjMOu"
      },
      "source": [
        "# Test Distinct\n",
        "\n",
        "Write a Python function that takes a sequence of numbers and determines whether all the numbers are different from each other.\n",
        "\n",
        "**Hint:** Think about the properties of sets.\n",
        "\n",
        "```\n",
        "test_distinct([2,3,4,5,7,8]) -> True\n",
        "test_distinct([2,3,4,5,8,8]) -> False\n",
        "```"
      ]
    },
    {
      "cell_type": "code",
      "metadata": {
        "id": "vOjSHswFjMOw"
      },
      "source": [
        ""
      ],
      "execution_count": null,
      "outputs": []
    },
    {
      "cell_type": "markdown",
      "metadata": {
        "id": "6E9o0wWAjMO0"
      },
      "source": [
        "\n",
        "\n",
        "Write a Python program to compute the amount of the debt in n months. The borrowing amount is $100,000 and the loan adds 5% interest of the debt and rounds it to the nearest 1,000 above month by month.\n",
        "\n",
        "The function takes in an integer (the number of months) and returns the total debt including the starting \\$100,000 rounded to \\$1000 .\n",
        "\n",
        "```\n",
        "debt_total(7) -> 144000\n",
        "debt_total(8) -> 152000\n",
        "debt_total(9) -> 160000\n",
        "debt_total(1) -> 105000\n",
        "debt_total(57) -> 1736000\n",
        "```\n"
      ]
    },
    {
      "cell_type": "code",
      "metadata": {
        "id": "iIODCG-ajMO1"
      },
      "source": [
        ""
      ],
      "execution_count": null,
      "outputs": []
    },
    {
      "cell_type": "markdown",
      "metadata": {
        "id": "y9b3I_ACjMO6"
      },
      "source": [
        "# Spell Checker\n",
        "\n",
        "Create a function that takes in two lists: \n",
        "\n",
        "1. A sentence as a list of user-typed words\n",
        "\n",
        "2. The list of correctly-typed words\n",
        "\n",
        "and outputs a list containing 1s (correctly-typed words) and 0s (incorrectly-typed words).\n",
        "\n",
        "### Inputs:\n",
        "> User-typed: \\[\"cat\", \"blue\", \"skt\", \"umbrells\", \"paddy\"\\]\n",
        "\n",
        "> Correct: \\[\"cat\", \"blue\", \"sky\", \"umbrella\", \"paddy\"\\]\n",
        "\n",
        "### Output: \\[ 1, 1, 0, 0, 1 \\]\n",
        "\n",
        "### Examples\n",
        "\n",
        "```\n",
        "correct_stream(\n",
        "  [\"it\", \"is\", \"find\"],\n",
        "  [\"it\", \"is\", \"fine\"]\n",
        ") ➞ [1, 1, 0]\n",
        "\n",
        "correct_stream(\n",
        "  [\"april\", \"showrs\", \"bring\", \"may\", \"flowers\"],\n",
        "  [\"april\", \"showers\", \"bring\", \"may\", \"flowers\"]\n",
        ") ➞ [1, 0, 1, 1, 1]\n",
        "\n",
        "```"
      ]
    },
    {
      "cell_type": "code",
      "metadata": {
        "id": "STQsHu3wjMO7"
      },
      "source": [
        ""
      ],
      "execution_count": null,
      "outputs": []
    },
    {
      "cell_type": "markdown",
      "metadata": {
        "id": "9WO4zQ7ejMPU"
      },
      "source": [
        "# Century\n",
        "\n",
        "Write a function that takes a year and returns its corresponding century.\n",
        "\n",
        "### Examples\n",
        "\n",
        "```\n",
        "century_from_year(2005) ➞ 21\n",
        "\n",
        "century_from_year(1850) ➞ 19\n",
        "\n",
        "century_from_year(55) ➞ 1\n",
        "\n",
        "```"
      ]
    },
    {
      "cell_type": "code",
      "metadata": {
        "id": "xFPlgdBxjMPW"
      },
      "source": [
        "\n"
      ],
      "execution_count": null,
      "outputs": []
    },
    {
      "cell_type": "markdown",
      "metadata": {
        "id": "IDoa0pAijMPZ"
      },
      "source": [
        "# Grade school addition\n",
        "\n",
        "Write a function that, given two lists of integers, adds them as if they were two numbers. So `12` would be `[1,2]` and `2357` would be `[2,3,5,7]`\n",
        "\n",
        "Ex:\n",
        "\n",
        "```\n",
        "    [1, 1] + [1] ⇒ 11 + 1 = 12\n",
        "    [9, 9] + [2] ⇒ 99 + 2 = 101\n",
        "```"
      ]
    },
    {
      "cell_type": "code",
      "metadata": {
        "id": "dxESS7e1jMPa"
      },
      "source": [
        ""
      ],
      "execution_count": null,
      "outputs": []
    },
    {
      "cell_type": "code",
      "metadata": {
        "id": "mqPCDFAd3dv8"
      },
      "source": [
        ""
      ],
      "execution_count": null,
      "outputs": []
    },
    {
      "cell_type": "markdown",
      "metadata": {
        "id": "YfHl7G3DFCOe"
      },
      "source": [
        "#Lucky Number 7\r\n",
        "\r\n",
        "Write a function that sums up every element in a list. If the element is 7, multiply the element by 2 and then add it. If the element in the list comes after a 7, multiply it by 3 and then add it.\r\n",
        "\r\n",
        "Ex.\r\n",
        "\r\n",
        "\r\n",
        "```\r\n",
        "x = [1,7,3,4]\r\n",
        "lucky7(x) --> 28\r\n",
        "```\r\n",
        "\r\n"
      ]
    },
    {
      "cell_type": "code",
      "metadata": {
        "id": "NV-1MUJvjMPh"
      },
      "source": [
        ""
      ],
      "execution_count": null,
      "outputs": []
    },
    {
      "cell_type": "markdown",
      "metadata": {
        "id": "GbsUoaRJLNd7"
      },
      "source": [
        "# Factorial\r\n",
        "Write a function that computes the factorial of a given number. In math the factorial of a non negative integer number is the product of itself with all integers less than itself starting from 1. \r\n",
        "\r\n",
        "Ex. \r\n",
        "\r\n",
        "$$4! = 4*3*2*1$$\r\n",
        "$$4! = 24$$\r\n",
        "\r\n",
        "\r\n",
        "```\r\n",
        "factorial(4) --> 24\r\n",
        "```\r\n",
        "\r\n"
      ]
    },
    {
      "cell_type": "code",
      "metadata": {
        "id": "Nr8b02zXM8H9"
      },
      "source": [
        ""
      ],
      "execution_count": null,
      "outputs": []
    },
    {
      "cell_type": "markdown",
      "metadata": {
        "id": "3QXhJ0TgOn02"
      },
      "source": [
        "#Combinatrics\r\n",
        "The binomial coefficient is an important function in combinatrics. The function is written as:\r\n",
        "$$ \\binom{n}{k} = \\frac{n!}{k!(n-k)!}  $$\r\n",
        "\r\n",
        "Define a function for the binomial coefficient in Python, making sure that n is greater than or equal to k. \r\n",
        "\r\n",
        "**Hint:** Use the factorial function that you defined in the previous exercise.\r\n",
        "\r\n",
        "\r\n",
        "```\r\n",
        "NChooseK(5,2) = 10\r\n",
        "```\r\n",
        "\r\n"
      ]
    },
    {
      "cell_type": "code",
      "metadata": {
        "id": "C2MQKiouRQ2q"
      },
      "source": [
        ""
      ],
      "execution_count": null,
      "outputs": []
    },
    {
      "cell_type": "markdown",
      "metadata": {
        "id": "zPsFyGIUM8mp"
      },
      "source": [
        "#Docstrings\r\n",
        "\r\n",
        "Write the completed docstrings for each function covered in the \"Big O Notation Examples\" Section from lecture.\r\n",
        "\r\n",
        "Docstring format is as follows:\r\n",
        "\r\n",
        "```\r\n",
        "\"\"\"[Summary]\r\n",
        "\r\n",
        ":param [ParamName]: [ParamDescription], defaults to [DefaultParamVal]\r\n",
        ":type [ParamName]: [ParamType](, optional)\r\n",
        "...\r\n",
        ":raises [ErrorType]: [ErrorDescription]\r\n",
        "...\r\n",
        ":return: [ReturnDescription]\r\n",
        ":rtype: [ReturnType]\r\n",
        "\"\"\"\r\n",
        "```"
      ]
    },
    {
      "cell_type": "code",
      "metadata": {
        "id": "E_XNaR4-OOrA"
      },
      "source": [
        "#O(1)"
      ],
      "execution_count": null,
      "outputs": []
    },
    {
      "cell_type": "code",
      "metadata": {
        "id": "ko0P2BqwOg88"
      },
      "source": [
        "#O(n)"
      ],
      "execution_count": null,
      "outputs": []
    },
    {
      "cell_type": "code",
      "metadata": {
        "id": "Toz2q1CGOhkZ"
      },
      "source": [
        "#O(n^2)"
      ],
      "execution_count": null,
      "outputs": []
    },
    {
      "cell_type": "code",
      "metadata": {
        "id": "7axxtbauOh2K"
      },
      "source": [
        "#O(n^c)"
      ],
      "execution_count": null,
      "outputs": []
    },
    {
      "cell_type": "code",
      "metadata": {
        "id": "LqLSGgFEOP8D"
      },
      "source": [
        "#O(log(n))"
      ],
      "execution_count": null,
      "outputs": []
    },
    {
      "cell_type": "code",
      "metadata": {
        "id": "vmMUtn9qOQN_"
      },
      "source": [
        "#O(nlog(n))"
      ],
      "execution_count": null,
      "outputs": []
    },
    {
      "cell_type": "code",
      "metadata": {
        "id": "-ffWPPdvOQec"
      },
      "source": [
        "#O(2^n)"
      ],
      "execution_count": null,
      "outputs": []
    },
    {
      "cell_type": "markdown",
      "metadata": {
        "id": "aTX-q5PkOlhJ"
      },
      "source": [
        "#Big O Notation\r\n",
        "\r\n",
        "For the following functions, answer in the text cell below, the time complexity of the function using Big O notation.\r\n",
        "\r\n",
        "Ex.\r\n",
        "\r\n",
        "\r\n",
        "```\r\n",
        "def findmin(L):\r\n",
        " min = L[0]\r\n",
        " for number in L:\r\n",
        "  if number<min:\r\n",
        "    min = number \r\n",
        "```\r\n",
        "The function has O(n) time complexity.\r\n"
      ]
    },
    {
      "cell_type": "code",
      "metadata": {
        "id": "rmTnLFUISOZ1"
      },
      "source": [
        "def reverse_string(n):\r\n",
        "  solution = []\r\n",
        "  for x in range(n):\r\n",
        "    for y in range(n):\r\n",
        "      if 4x + 3y <= 20:\r\n",
        "        solution.append([x,y])\r\n",
        "  return solution "
      ],
      "execution_count": null,
      "outputs": []
    },
    {
      "cell_type": "markdown",
      "metadata": {
        "id": "rKNjTP4gSPEw"
      },
      "source": [
        "The function has O(__) time complexity. "
      ]
    },
    {
      "cell_type": "code",
      "metadata": {
        "colab": {
          "base_uri": "https://localhost:8080/"
        },
        "id": "ZsMer__CSPe7",
        "outputId": "cfd11b03-9d0e-4cb3-a956-df26fc692a3e"
      },
      "source": [
        "def add_hundred(n):\r\n",
        "  return n + 100\r\n",
        "\r\n",
        "#n can only be an integer or float."
      ],
      "execution_count": null,
      "outputs": [
        {
          "output_type": "execute_result",
          "data": {
            "text/plain": [
              "False"
            ]
          },
          "metadata": {
            "tags": []
          },
          "execution_count": 47
        }
      ]
    },
    {
      "cell_type": "markdown",
      "metadata": {
        "id": "yjmP0wteSPyX"
      },
      "source": [
        "The function has O(__) time complexity."
      ]
    },
    {
      "cell_type": "markdown",
      "metadata": {
        "id": "IQMDneCtjMPl"
      },
      "source": [
        "# Bonus\n",
        "\n",
        "## Pascal's Triangle\n",
        "\n",
        "[Pascals Triangle](https://en.wikipedia.org/wiki/Pascal%27s_triangle) is a mathematical structure that's important in statistics and [combinatorics](https://en.wikipedia.org/wiki/Combinatorics). It starts with the number 1 and expands as a pyramid where a number is the sum of it's diagonal neighbors on the row above it.\n",
        "\n",
        "It looks like this (you can find more examples in the links):\n",
        "\n",
        "```\n",
        "                 1\n",
        "               1   1\n",
        "             1   2   1\n",
        "           1   3   3   1\n",
        "         1   4   6   4   1\n",
        "       1   5   10   10   5   1\n",
        "     1   6   15   20   15   6   1\n",
        "   1   7   21   35   35   21   7   1\n",
        "```\n",
        "\n",
        "Write a function that given an integer (the number of rows) prints out pascal's triangle up to the specified row. Example:\n",
        "\n",
        "```\n",
        "pascal_triangle(8)\n",
        "```\n",
        "out:\n",
        "```\n",
        "                 1\n",
        "\n",
        "               1   1\n",
        "\n",
        "             1   2   1\n",
        "\n",
        "           1   3   3   1\n",
        "\n",
        "         1   4   6   4   1\n",
        "\n",
        "       1   5   10   10   5   1\n",
        "\n",
        "     1   6   15   20   15   6   1\n",
        "\n",
        "   1   7   21   35   35   21   7   1\n",
        "\n",
        "```\n",
        "Another example\n",
        "\n",
        "```\n",
        "pascal_triangle(3)\n",
        "```\n",
        "out:\n",
        "```\n",
        "                 1\n",
        "\n",
        "               1   1\n",
        "\n",
        "             1   2   1\n",
        "\n",
        "```"
      ]
    },
    {
      "cell_type": "code",
      "metadata": {
        "id": "86H7yf_gjMPl"
      },
      "source": [
        ""
      ],
      "execution_count": null,
      "outputs": []
    },
    {
      "cell_type": "code",
      "metadata": {
        "id": "EQNBoK9kjMPp",
        "colab": {
          "base_uri": "https://localhost:8080/",
          "height": 35
        },
        "outputId": "c0c23bee-ad59-4024-d483-ce8487623d44"
      },
      "source": [
        ""
      ],
      "execution_count": null,
      "outputs": [
        {
          "output_type": "execute_result",
          "data": {
            "application/vnd.google.colaboratory.intrinsic+json": {
              "type": "string"
            },
            "text/plain": [
              "'          '"
            ]
          },
          "metadata": {
            "tags": []
          },
          "execution_count": 38
        }
      ]
    },
    {
      "cell_type": "code",
      "metadata": {
        "id": "QQjze_8zK1I_"
      },
      "source": [
        ""
      ],
      "execution_count": null,
      "outputs": []
    }
  ]
}