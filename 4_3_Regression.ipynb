{
  "nbformat": 4,
  "nbformat_minor": 0,
  "metadata": {
    "colab": {
      "name": "4.3_Regression.ipynb",
      "provenance": [],
      "collapsed_sections": [],
      "include_colab_link": true
    },
    "kernelspec": {
      "name": "python3",
      "display_name": "Python 3"
    }
  },
  "cells": [
    {
      "cell_type": "markdown",
      "metadata": {
        "id": "view-in-github",
        "colab_type": "text"
      },
      "source": [
        "<a href=\"https://colab.research.google.com/github/gtoubian/cce/blob/main/4_3_Regression.ipynb\" target=\"_parent\"><img src=\"https://colab.research.google.com/assets/colab-badge.svg\" alt=\"Open In Colab\"/></a>"
      ]
    },
    {
      "cell_type": "markdown",
      "metadata": {
        "id": "4hialABxMaZc"
      },
      "source": [
        "#Regression\n",
        "\n",
        "In today's lecture, we will be looking more indepth into Regression Models to see how we can extrapolate or interpolate data.\n",
        "\n",
        "We will start with the most familiar linear regression, a straight-line fit to data.\n",
        "A straight-line fit is a model of the form\n",
        "$$\n",
        "y = ax + b\n",
        "$$\n",
        "where $a$ is commonly known as the *slope*, and $b$ is commonly known as the *intercept*.\n",
        "\n",
        "Consider the following data, which is scattered about a line with a slope of 2 and an intercept of -5:"
      ]
    },
    {
      "cell_type": "code",
      "metadata": {
        "colab": {
          "base_uri": "https://localhost:8080/",
          "height": 285
        },
        "id": "Cb9CfmBUMWnq",
        "outputId": "d4f2ce18-bd6c-4155-f9a3-e596f3251e0b"
      },
      "source": [
        "import matplotlib.pyplot as plt\n",
        "import numpy as np\n",
        "import seaborn as sns\n",
        "sns.set()\n",
        "\n",
        "rng = np.random.RandomState(1)\n",
        "x = 10 * rng.rand(50)\n",
        "y = 2 * x - 5 + (4 * rng.randn(50))\n",
        "plt.scatter(x, y)"
      ],
      "execution_count": null,
      "outputs": [
        {
          "output_type": "execute_result",
          "data": {
            "text/plain": [
              "<matplotlib.collections.PathCollection at 0x7f5d15434250>"
            ]
          },
          "metadata": {
            "tags": []
          },
          "execution_count": 1
        },
        {
          "output_type": "display_data",
          "data": {
            "image/png": "[encoded data removed]",
            "text/plain": [
              "<Figure size 432x288 with 1 Axes>"
            ]
          },
          "metadata": {
            "tags": []
          }
        }
      ]
    },
    {
      "cell_type": "markdown",
      "metadata": {
        "id": "RJQHQf_3Xtya"
      },
      "source": [
        "We can use Scikit-Learn's ``LinearRegression`` estimator to fit this data and construct the best-fit line:"
      ]
    },
    {
      "cell_type": "code",
      "metadata": {
        "colab": {
          "base_uri": "https://localhost:8080/",
          "height": 285
        },
        "id": "nqY2WdgqUjBW",
        "outputId": "7cf4cea8-9ccf-4780-c249-615bc4527b14"
      },
      "source": [
        "from sklearn.linear_model import LinearRegression\n",
        "model = LinearRegression(fit_intercept=True)\n",
        "\n",
        "model.fit(x[:, np.newaxis], y)\n",
        "\n",
        "xfit = np.linspace(0, 10, 1000)\n",
        "yfit = model.predict(xfit[:, np.newaxis])\n",
        "\n",
        "plt.scatter(x, y)\n",
        "plt.plot(xfit, yfit)"
      ],
      "execution_count": null,
      "outputs": [
        {
          "output_type": "execute_result",
          "data": {
            "text/plain": [
              "[<matplotlib.lines.Line2D at 0x7f5d11db2210>]"
            ]
          },
          "metadata": {
            "tags": []
          },
          "execution_count": 2
        },
        {
          "output_type": "display_data",
          "data": {
            "image/png": "[encoded data removed]",
            "text/plain": [
              "<Figure size 432x288 with 1 Axes>"
            ]
          },
          "metadata": {
            "tags": [],
            "needs_background": "light"
          }
        }
      ]
    },
    {
      "cell_type": "markdown",
      "metadata": {
        "id": "4XG-_j4wX88w"
      },
      "source": [
        "The slope and intercept of the data are contained in the model's fit parameters, which in Scikit-Learn are always marked by a trailing underscore.\n",
        "Here the relevant parameters are ``coef_`` and ``intercept_``:"
      ]
    },
    {
      "cell_type": "code",
      "metadata": {
        "colab": {
          "base_uri": "https://localhost:8080/"
        },
        "id": "cL3KTmFXX2fi",
        "outputId": "2150cb78-c717-4cba-a6b9-3fca2e400931"
      },
      "source": [
        "print(\"Model slope:    \", model.coef_[0])\n",
        "print(\"Model intercept:\", model.intercept_)"
      ],
      "execution_count": null,
      "outputs": [
        {
          "output_type": "stream",
          "text": [
            "Model slope:     2.1088352414427822\n",
            "Model intercept: -4.994308342212824\n"
          ],
          "name": "stdout"
        }
      ]
    },
    {
      "cell_type": "markdown",
      "metadata": {
        "id": "Qpl5sECuYHoY"
      },
      "source": [
        "We see that the results are very close to the inputs, as we might hope.\n",
        "\n",
        "# The Math of Regression\n",
        "\n",
        "Linear regression is the line where the square of the distance to points in the dataset is the minimum.\n",
        "\n",
        "So if we take the distance between our line and data points, the square of these should be the minimum possible:\n",
        "\n",
        "![image.png](data:image/png;base64,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)\n",
        "\n",
        "There are many algorithms to fit a linear regression, and we'll see them in later lectures.\n",
        "\n",
        "# Outliers\n",
        "\n",
        "Because linear regression is based on the square of the distance, it's subject to being pushed around by outlier values (observations on the far right or left of the distribution)"
      ]
    },
    {
      "cell_type": "code",
      "metadata": {
        "colab": {
          "base_uri": "https://localhost:8080/",
          "height": 319
        },
        "id": "LCEllQ8AX8LV",
        "outputId": "880f489a-368f-4844-e62c-8cc7387e1826"
      },
      "source": [
        "# Create an outlier at the end\n",
        "y[np.argmax(x)] = 100.\n",
        "\n",
        "model.fit(x[:, np.newaxis], y)\n",
        "\n",
        "xfit = np.linspace(0, 10, 1000)\n",
        "yfit = model.predict(xfit[:, np.newaxis])\n",
        "\n",
        "print(\"Model slope:    \", model.coef_[0])\n",
        "print(\"Model intercept:\", model.intercept_)\n",
        "\n",
        "plt.scatter(x, y)\n",
        "plt.plot(xfit, yfit)"
      ],
      "execution_count": null,
      "outputs": [
        {
          "output_type": "stream",
          "text": [
            "Model slope:     3.0561458648971715\n",
            "Model intercept: -7.726365207615311\n"
          ],
          "name": "stdout"
        },
        {
          "output_type": "execute_result",
          "data": {
            "text/plain": [
              "[<matplotlib.lines.Line2D at 0x7f5d11d3b850>]"
            ]
          },
          "metadata": {
            "tags": []
          },
          "execution_count": 4
        },
        {
          "output_type": "display_data",
          "data": {
            "image/png": "[encoded data removed]",
            "text/plain": [
              "<Figure size 432x288 with 1 Axes>"
            ]
          },
          "metadata": {
            "tags": [],
            "needs_background": "light"
          }
        }
      ]
    },
    {
      "cell_type": "markdown",
      "metadata": {
        "id": "MNyXVrcoZGls"
      },
      "source": [
        "We can see the slope increases by 1.5x and the intercept reduces by a similar amount.\n",
        "\n",
        "We could minimize the raw distance or some other metric (these are called **loss functions**) but squared distance have [nice statistical properties](https://en.wikipedia.org/wiki/Gauss%E2%80%93Markov_theorem) that make it desireable.\n",
        "\n",
        "Moreover, we can alway use strategies to deal with outlier problems. Rescaling the y axis to achieve the same effect as using the direct loss norm while still keeping the squared loss norm will dampen outliers:"
      ]
    },
    {
      "cell_type": "code",
      "metadata": {
        "colab": {
          "base_uri": "https://localhost:8080/",
          "height": 319
        },
        "id": "jUX2yXMeY7ME",
        "outputId": "961206dc-2169-47d9-ba9a-bd304271955e"
      },
      "source": [
        "# Square root y with negative values\n",
        "y = np.sqrt(np.abs(y)) * (y >= 0)\n",
        "\n",
        "model.fit(x[:, np.newaxis], y)\n",
        "\n",
        "xfit = np.linspace(0, 10, 1000)\n",
        "yfit = model.predict(xfit[:, np.newaxis])\n",
        "\n",
        "print(\"Model slope:    \", model.coef_[0])\n",
        "print(\"Model intercept:\", model.intercept_)\n",
        "\n",
        "plt.scatter(x, y)\n",
        "plt.plot(xfit, yfit)"
      ],
      "execution_count": null,
      "outputs": [
        {
          "output_type": "stream",
          "text": [
            "Model slope:     0.5134359352380273\n",
            "Model intercept: -0.405310756747681\n"
          ],
          "name": "stdout"
        },
        {
          "output_type": "execute_result",
          "data": {
            "text/plain": [
              "[<matplotlib.lines.Line2D at 0x7f5d11caa290>]"
            ]
          },
          "metadata": {
            "tags": []
          },
          "execution_count": 5
        },
        {
          "output_type": "display_data",
          "data": {
            "image/png": "[encoded data removed]",
            "text/plain": [
              "<Figure size 432x288 with 1 Axes>"
            ]
          },
          "metadata": {
            "tags": [],
            "needs_background": "light"
          }
        }
      ]
    },
    {
      "cell_type": "markdown",
      "metadata": {
        "id": "CIZtyfKkfqL8"
      },
      "source": [
        "#Multiple Regression\n",
        "\n",
        "This is called **simple regression** (regression on one variable).\n",
        "\n",
        "Generally we want to do **multiple** or Multidimensional regression, to take into account many features."
      ]
    },
    {
      "cell_type": "code",
      "metadata": {
        "colab": {
          "base_uri": "https://localhost:8080/",
          "height": 457
        },
        "id": "MixX_8CnZKF5",
        "outputId": "f8d1a0b9-61a9-4e40-a1b4-f90ce916cd8f"
      },
      "source": [
        "import statsmodels.api as sm\n",
        "sns.set()\n",
        "\n",
        "rng = np.random.RandomState(1)\n",
        "x = 10 * rng.rand(50)\n",
        "y = 2 * x - 5 + (4 * rng.randn(50))\n",
        "\n",
        "est = sm.OLS(y, x).fit()\n",
        "est.summary()"
      ],
      "execution_count": null,
      "outputs": [
        {
          "output_type": "stream",
          "text": [
            "/usr/local/lib/python3.7/dist-packages/statsmodels/tools/_testing.py:19: FutureWarning: pandas.util.testing is deprecated. Use the functions in the public API at pandas.testing instead.\n",
            "  import pandas.util.testing as tm\n"
          ],
          "name": "stderr"
        },
        {
          "output_type": "execute_result",
          "data": {
            "text/html": [
              "<table class=\"simpletable\">\n",
              "<caption>OLS Regression Results</caption>\n",
              "<tr>\n",
              "  <th>Dep. Variable:</th>            <td>y</td>        <th>  R-squared (uncentered):</th>      <td>   0.737</td>\n",
              "</tr>\n",
              "<tr>\n",
              "  <th>Model:</th>                   <td>OLS</td>       <th>  Adj. R-squared (uncentered):</th> <td>   0.731</td>\n",
              "</tr>\n",
              "<tr>\n",
              "  <th>Method:</th>             <td>Least Squares</td>  <th>  F-statistic:       </th>          <td>   137.1</td>\n",
              "</tr>\n",
              "<tr>\n",
              "  <th>Date:</th>             <td>Thu, 18 Mar 2021</td> <th>  Prob (F-statistic):</th>          <td>8.29e-16</td>\n",
              "</tr>\n",
              "<tr>\n",
              "  <th>Time:</th>                 <td>08:43:07</td>     <th>  Log-Likelihood:    </th>          <td> -146.53</td>\n",
              "</tr>\n",
              "<tr>\n",
              "  <th>No. Observations:</th>      <td>    50</td>      <th>  AIC:               </th>          <td>   295.1</td>\n",
              "</tr>\n",
              "<tr>\n",
              "  <th>Df Residuals:</th>          <td>    49</td>      <th>  BIC:               </th>          <td>   297.0</td>\n",
              "</tr>\n",
              "<tr>\n",
              "  <th>Df Model:</th>              <td>     1</td>      <th>                     </th>              <td> </td>   \n",
              "</tr>\n",
              "<tr>\n",
              "  <th>Covariance Type:</th>      <td>nonrobust</td>    <th>                     </th>              <td> </td>   \n",
              "</tr>\n",
              "</table>\n",
              "<table class=\"simpletable\">\n",
              "<tr>\n",
              "   <td></td>     <th>coef</th>     <th>std err</th>      <th>t</th>      <th>P>|t|</th>  <th>[0.025</th>    <th>0.975]</th>  \n",
              "</tr>\n",
              "<tr>\n",
              "  <th>x1</th> <td>    1.3596</td> <td>    0.116</td> <td>   11.709</td> <td> 0.000</td> <td>    1.126</td> <td>    1.593</td>\n",
              "</tr>\n",
              "</table>\n",
              "<table class=\"simpletable\">\n",
              "<tr>\n",
              "  <th>Omnibus:</th>       <td> 1.356</td> <th>  Durbin-Watson:     </th> <td>   1.553</td>\n",
              "</tr>\n",
              "<tr>\n",
              "  <th>Prob(Omnibus):</th> <td> 0.508</td> <th>  Jarque-Bera (JB):  </th> <td>   1.362</td>\n",
              "</tr>\n",
              "<tr>\n",
              "  <th>Skew:</th>          <td> 0.326</td> <th>  Prob(JB):          </th> <td>   0.506</td>\n",
              "</tr>\n",
              "<tr>\n",
              "  <th>Kurtosis:</th>      <td> 2.521</td> <th>  Cond. No.          </th> <td>    1.00</td>\n",
              "</tr>\n",
              "</table><br/><br/>Warnings:<br/>[1] Standard Errors assume that the covariance matrix of the errors is correctly specified."
            ],
            "text/plain": [
              "<class 'statsmodels.iolib.summary.Summary'>\n",
              "\"\"\"\n",
              "                                 OLS Regression Results                                \n",
              "=======================================================================================\n",
              "Dep. Variable:                      y   R-squared (uncentered):                   0.737\n",
              "Model:                            OLS   Adj. R-squared (uncentered):              0.731\n",
              "Method:                 Least Squares   F-statistic:                              137.1\n",
              "Date:                Thu, 18 Mar 2021   Prob (F-statistic):                    8.29e-16\n",
              "Time:                        08:43:07   Log-Likelihood:                         -146.53\n",
              "No. Observations:                  50   AIC:                                      295.1\n",
              "Df Residuals:                      49   BIC:                                      297.0\n",
              "Df Model:                           1                                                  \n",
              "Covariance Type:            nonrobust                                                  \n",
              "==============================================================================\n",
              "                 coef    std err          t      P>|t|      [0.025      0.975]\n",
              "------------------------------------------------------------------------------\n",
              "x1             1.3596      0.116     11.709      0.000       1.126       1.593\n",
              "==============================================================================\n",
              "Omnibus:                        1.356   Durbin-Watson:                   1.553\n",
              "Prob(Omnibus):                  0.508   Jarque-Bera (JB):                1.362\n",
              "Skew:                           0.326   Prob(JB):                        0.506\n",
              "Kurtosis:                       2.521   Cond. No.                         1.00\n",
              "==============================================================================\n",
              "\n",
              "Warnings:\n",
              "[1] Standard Errors assume that the covariance matrix of the errors is correctly specified.\n",
              "\"\"\""
            ]
          },
          "metadata": {
            "tags": []
          },
          "execution_count": 7
        }
      ]
    },
    {
      "cell_type": "code",
      "metadata": {
        "colab": {
          "base_uri": "https://localhost:8080/",
          "height": 285
        },
        "id": "SpjXGy3DgBoD",
        "outputId": "f69a3fe3-a6f9-46b0-96fd-c3ea1d7edb7e"
      },
      "source": [
        "#See how the model fits\n",
        "xfit = np.linspace(0, 10, 1000)\n",
        "yfit = est.predict(xfit[:, np.newaxis])\n",
        "\n",
        "plt.scatter(x, y)\n",
        "plt.plot(xfit, yfit)"
      ],
      "execution_count": null,
      "outputs": [
        {
          "output_type": "execute_result",
          "data": {
            "text/plain": [
              "[<matplotlib.lines.Line2D at 0x7f5d0232f610>]"
            ]
          },
          "metadata": {
            "tags": []
          },
          "execution_count": 8
        },
        {
          "output_type": "display_data",
          "data": {
            "image/png": "[encoded data removed]",
            "text/plain": [
              "<Figure size 432x288 with 1 Axes>"
            ]
          },
          "metadata": {
            "tags": []
          }
        }
      ]
    },
    {
      "cell_type": "markdown",
      "metadata": {
        "id": "GYNNxjaVindS"
      },
      "source": [
        "# Constant term\n",
        "\n",
        "Note that the intercept is $0$ in our model! This is because statsmodels works on matrices and all inputs, including the intercept, have to be specified.\n",
        "\n",
        "Matrix regression can be seen as finding $\\beta$ such that\n",
        "\n",
        "$$(\\beta \\cdot X - y)^2$$\n",
        "\n",
        "is minimized.\n",
        "\n",
        "In the case of simple regression without an intercept, $\\beta$ is the slope. In simple regression **with an intercept**, $\\beta = [intercept, slope]$.\n",
        "\n",
        "Since this means $\\beta$ is $2 \\times 1$ then we need the matrix to be $n \\times 2$ and the first column to be a constant scale of $\\beta[0]$. \n",
        "\n",
        "The way we do this is with a column vector of ones. `sm.add_constant` makes this easy."
      ]
    },
    {
      "cell_type": "code",
      "metadata": {
        "id": "WgDs7xQUieX_"
      },
      "source": [
        "x = sm.add_constant(x)\n",
        "x"
      ],
      "execution_count": null,
      "outputs": []
    },
    {
      "cell_type": "code",
      "metadata": {
        "colab": {
          "base_uri": "https://localhost:8080/",
          "height": 444
        },
        "id": "shUxlVeRitH_",
        "outputId": "27032e1b-1c47-4b5b-88fb-f2a3595660bb"
      },
      "source": [
        "est = sm.OLS(y, x).fit()\n",
        "est.summary()"
      ],
      "execution_count": null,
      "outputs": [
        {
          "output_type": "execute_result",
          "data": {
            "text/html": [
              "<table class=\"simpletable\">\n",
              "<caption>OLS Regression Results</caption>\n",
              "<tr>\n",
              "  <th>Dep. Variable:</th>            <td>y</td>        <th>  R-squared:         </th> <td>   0.760</td>\n",
              "</tr>\n",
              "<tr>\n",
              "  <th>Model:</th>                   <td>OLS</td>       <th>  Adj. R-squared:    </th> <td>   0.755</td>\n",
              "</tr>\n",
              "<tr>\n",
              "  <th>Method:</th>             <td>Least Squares</td>  <th>  F-statistic:       </th> <td>   151.9</td>\n",
              "</tr>\n",
              "<tr>\n",
              "  <th>Date:</th>             <td>Thu, 18 Mar 2021</td> <th>  Prob (F-statistic):</th> <td>1.75e-16</td>\n",
              "</tr>\n",
              "<tr>\n",
              "  <th>Time:</th>                 <td>08:54:25</td>     <th>  Log-Likelihood:    </th> <td> -135.25</td>\n",
              "</tr>\n",
              "<tr>\n",
              "  <th>No. Observations:</th>      <td>    50</td>      <th>  AIC:               </th> <td>   274.5</td>\n",
              "</tr>\n",
              "<tr>\n",
              "  <th>Df Residuals:</th>          <td>    48</td>      <th>  BIC:               </th> <td>   278.3</td>\n",
              "</tr>\n",
              "<tr>\n",
              "  <th>Df Model:</th>              <td>     1</td>      <th>                     </th>     <td> </td>   \n",
              "</tr>\n",
              "<tr>\n",
              "  <th>Covariance Type:</th>      <td>nonrobust</td>    <th>                     </th>     <td> </td>   \n",
              "</tr>\n",
              "</table>\n",
              "<table class=\"simpletable\">\n",
              "<tr>\n",
              "    <td></td>       <th>coef</th>     <th>std err</th>      <th>t</th>      <th>P>|t|</th>  <th>[0.025</th>    <th>0.975]</th>  \n",
              "</tr>\n",
              "<tr>\n",
              "  <th>const</th> <td>   -4.9943</td> <td>    0.954</td> <td>   -5.232</td> <td> 0.000</td> <td>   -6.913</td> <td>   -3.075</td>\n",
              "</tr>\n",
              "<tr>\n",
              "  <th>x1</th>    <td>    2.1088</td> <td>    0.171</td> <td>   12.326</td> <td> 0.000</td> <td>    1.765</td> <td>    2.453</td>\n",
              "</tr>\n",
              "</table>\n",
              "<table class=\"simpletable\">\n",
              "<tr>\n",
              "  <th>Omnibus:</th>       <td> 0.058</td> <th>  Durbin-Watson:     </th> <td>   1.590</td>\n",
              "</tr>\n",
              "<tr>\n",
              "  <th>Prob(Omnibus):</th> <td> 0.971</td> <th>  Jarque-Bera (JB):  </th> <td>   0.057</td>\n",
              "</tr>\n",
              "<tr>\n",
              "  <th>Skew:</th>          <td> 0.048</td> <th>  Prob(JB):          </th> <td>   0.972</td>\n",
              "</tr>\n",
              "<tr>\n",
              "  <th>Kurtosis:</th>      <td> 2.865</td> <th>  Cond. No.          </th> <td>    10.4</td>\n",
              "</tr>\n",
              "</table><br/><br/>Warnings:<br/>[1] Standard Errors assume that the covariance matrix of the errors is correctly specified."
            ],
            "text/plain": [
              "<class 'statsmodels.iolib.summary.Summary'>\n",
              "\"\"\"\n",
              "                            OLS Regression Results                            \n",
              "==============================================================================\n",
              "Dep. Variable:                      y   R-squared:                       0.760\n",
              "Model:                            OLS   Adj. R-squared:                  0.755\n",
              "Method:                 Least Squares   F-statistic:                     151.9\n",
              "Date:                Thu, 18 Mar 2021   Prob (F-statistic):           1.75e-16\n",
              "Time:                        08:54:25   Log-Likelihood:                -135.25\n",
              "No. Observations:                  50   AIC:                             274.5\n",
              "Df Residuals:                      48   BIC:                             278.3\n",
              "Df Model:                           1                                         \n",
              "Covariance Type:            nonrobust                                         \n",
              "==============================================================================\n",
              "                 coef    std err          t      P>|t|      [0.025      0.975]\n",
              "------------------------------------------------------------------------------\n",
              "const         -4.9943      0.954     -5.232      0.000      -6.913      -3.075\n",
              "x1             2.1088      0.171     12.326      0.000       1.765       2.453\n",
              "==============================================================================\n",
              "Omnibus:                        0.058   Durbin-Watson:                   1.590\n",
              "Prob(Omnibus):                  0.971   Jarque-Bera (JB):                0.057\n",
              "Skew:                           0.048   Prob(JB):                        0.972\n",
              "Kurtosis:                       2.865   Cond. No.                         10.4\n",
              "==============================================================================\n",
              "\n",
              "Warnings:\n",
              "[1] Standard Errors assume that the covariance matrix of the errors is correctly specified.\n",
              "\"\"\""
            ]
          },
          "metadata": {
            "tags": []
          },
          "execution_count": 10
        }
      ]
    },
    {
      "cell_type": "code",
      "metadata": {
        "colab": {
          "base_uri": "https://localhost:8080/",
          "height": 285
        },
        "id": "uQnS5huyiwqu",
        "outputId": "7229e21c-4b0f-4a14-82f7-71b4cd618b98"
      },
      "source": [
        "xfit = np.linspace(0, 10, 1000)\n",
        "yfit = est.predict(sm.add_constant(xfit))\n",
        "\n",
        "plt.scatter(x[:, 1], y)\n",
        "plt.plot(xfit, yfit)"
      ],
      "execution_count": null,
      "outputs": [
        {
          "output_type": "execute_result",
          "data": {
            "text/plain": [
              "[<matplotlib.lines.Line2D at 0x7f5d02322e90>]"
            ]
          },
          "metadata": {
            "tags": []
          },
          "execution_count": 11
        },
        {
          "output_type": "display_data",
          "data": {
            "image/png": "[encoded data removed]",
            "text/plain": [
              "<Figure size 432x288 with 1 Axes>"
            ]
          },
          "metadata": {
            "tags": []
          }
        }
      ]
    },
    {
      "cell_type": "markdown",
      "metadata": {
        "id": "FQwL3c5ni4Y-"
      },
      "source": [
        "# Matrix form regression\n",
        "\n",
        "We can solve for the procedure for finding $\\beta$. You don't need to understand everything here, but we'll quickly run through the procedure. Set up the minimum problem to find $\\beta$ that minimizes:\n",
        "\n",
        "$$ min_\\beta (\\beta \\cdot X - y)^2$$\n",
        "\n",
        "The first derivative is set to zero to find the minimum point in the equation:\n",
        "\n",
        "$$ X^T(\\beta \\cdot X - y) = 0$$\n",
        "\n",
        "Which gives\n",
        "\n",
        "$$ X^TX\\beta = X^Ty$$\n",
        "\n",
        "Solving for $\\beta$:\n",
        "\n",
        "$$\\beta = (X^TX)^{-1}X^Ty$$\n",
        "\n",
        "**NOTE:** Ordinary least squares is the only problem where we have a closed solution for $\\beta$. We call it the \"normal equation\" because of it. "
      ]
    },
    {
      "cell_type": "code",
      "metadata": {
        "colab": {
          "base_uri": "https://localhost:8080/"
        },
        "id": "JydYOaCDi0G9",
        "outputId": "7d99410b-af21-491b-c65b-89952be272f1"
      },
      "source": [
        "# Returns array with [intercept, slope]\n",
        "X = x.copy()\n",
        "\n",
        "beta = np.linalg.inv(X.T.dot(X)).dot(X.T.dot(y))\n",
        "beta"
      ],
      "execution_count": null,
      "outputs": [
        {
          "output_type": "execute_result",
          "data": {
            "text/plain": [
              "array([-4.99430834,  2.10883524])"
            ]
          },
          "metadata": {
            "tags": []
          },
          "execution_count": 12
        }
      ]
    },
    {
      "cell_type": "markdown",
      "metadata": {
        "id": "e9cNaxkCjDhR"
      },
      "source": [
        "## Basis Function Regression\n",
        "\n",
        "One trick you can use to adapt linear regression to nonlinear relationships between variables is to transform the data according to *basis functions*.\n",
        "\n",
        "The idea is to take our linear model:\n",
        "$$\n",
        "y = a_0 + a_1 x_1 + a_2 x_2 + a_3 x_3 + \\cdots\n",
        "$$\n",
        "and build the $x_1, x_2, x_3,$ and so on, from our single-dimensional input $x$.\n",
        "That is, we let $x_n = f_n(x)$, where $f_n()$ is some function that transforms our data.\n",
        "\n",
        "For example, if $f_n(x) = x^n$, our model becomes a polynomial regression:\n",
        "$$\n",
        "y = a_0 + a_1 x + a_2 x^2 + a_3 x^3 + \\cdots\n",
        "$$\n",
        "Notice that this is *still a linear model*—the linearity refers to the fact that the coefficients $a_n$ never multiply or divide each other.\n",
        "What we have effectively done is taken our one-dimensional $x$ values and projected them into a higher dimension, so that a linear fit can fit more complicated relationships between $x$ and $y$."
      ]
    },
    {
      "cell_type": "code",
      "metadata": {
        "colab": {
          "base_uri": "https://localhost:8080/",
          "height": 695
        },
        "id": "tX7Fox8ri_Ax",
        "outputId": "d4bca6d3-35e7-4072-8ab7-6fc608e46a46"
      },
      "source": [
        "x = 10 * rng.rand(50)\n",
        "y = np.square(2 * x - 5 + (4 * rng.randn(50)))\n",
        "\n",
        "x = sm.add_constant(x)\n",
        "\n",
        "est = sm.OLS(y, x).fit()\n",
        "\n",
        "xfit = sm.add_constant(np.linspace(0, 10, 1000))\n",
        "yfit = est.predict(xfit[:, np.newaxis])\n",
        "\n",
        "fig, ax = plt.subplots()\n",
        "ax.scatter(x[:,1], y)\n",
        "ax.plot(xfit[:,1], yfit)\n",
        "plt.show()\n",
        "\n",
        "est.summary()"
      ],
      "execution_count": null,
      "outputs": [
        {
          "output_type": "display_data",
          "data": {
            "image/png": "[encoded data removed]",
            "text/plain": [
              "<Figure size 432x288 with 1 Axes>"
            ]
          },
          "metadata": {
            "tags": []
          }
        },
        {
          "output_type": "execute_result",
          "data": {
            "text/html": [
              "<table class=\"simpletable\">\n",
              "<caption>OLS Regression Results</caption>\n",
              "<tr>\n",
              "  <th>Dep. Variable:</th>            <td>y</td>        <th>  R-squared:         </th> <td>   0.450</td>\n",
              "</tr>\n",
              "<tr>\n",
              "  <th>Model:</th>                   <td>OLS</td>       <th>  Adj. R-squared:    </th> <td>   0.439</td>\n",
              "</tr>\n",
              "<tr>\n",
              "  <th>Method:</th>             <td>Least Squares</td>  <th>  F-statistic:       </th> <td>   39.29</td>\n",
              "</tr>\n",
              "<tr>\n",
              "  <th>Date:</th>             <td>Thu, 18 Mar 2021</td> <th>  Prob (F-statistic):</th> <td>9.74e-08</td>\n",
              "</tr>\n",
              "<tr>\n",
              "  <th>Time:</th>                 <td>08:56:00</td>     <th>  Log-Likelihood:    </th> <td> -287.37</td>\n",
              "</tr>\n",
              "<tr>\n",
              "  <th>No. Observations:</th>      <td>    50</td>      <th>  AIC:               </th> <td>   578.7</td>\n",
              "</tr>\n",
              "<tr>\n",
              "  <th>Df Residuals:</th>          <td>    48</td>      <th>  BIC:               </th> <td>   582.6</td>\n",
              "</tr>\n",
              "<tr>\n",
              "  <th>Df Model:</th>              <td>     1</td>      <th>                     </th>     <td> </td>   \n",
              "</tr>\n",
              "<tr>\n",
              "  <th>Covariance Type:</th>      <td>nonrobust</td>    <th>                     </th>     <td> </td>   \n",
              "</tr>\n",
              "</table>\n",
              "<table class=\"simpletable\">\n",
              "<tr>\n",
              "    <td></td>       <th>coef</th>     <th>std err</th>      <th>t</th>      <th>P>|t|</th>  <th>[0.025</th>    <th>0.975]</th>  \n",
              "</tr>\n",
              "<tr>\n",
              "  <th>const</th> <td>  -16.5728</td> <td>   19.056</td> <td>   -0.870</td> <td> 0.389</td> <td>  -54.887</td> <td>   21.741</td>\n",
              "</tr>\n",
              "<tr>\n",
              "  <th>x1</th>    <td>   21.1411</td> <td>    3.373</td> <td>    6.268</td> <td> 0.000</td> <td>   14.360</td> <td>   27.922</td>\n",
              "</tr>\n",
              "</table>\n",
              "<table class=\"simpletable\">\n",
              "<tr>\n",
              "  <th>Omnibus:</th>       <td>19.862</td> <th>  Durbin-Watson:     </th> <td>   2.079</td>\n",
              "</tr>\n",
              "<tr>\n",
              "  <th>Prob(Omnibus):</th> <td> 0.000</td> <th>  Jarque-Bera (JB):  </th> <td>  28.426</td>\n",
              "</tr>\n",
              "<tr>\n",
              "  <th>Skew:</th>          <td> 1.335</td> <th>  Prob(JB):          </th> <td>6.72e-07</td>\n",
              "</tr>\n",
              "<tr>\n",
              "  <th>Kurtosis:</th>      <td> 5.552</td> <th>  Cond. No.          </th> <td>    10.0</td>\n",
              "</tr>\n",
              "</table><br/><br/>Warnings:<br/>[1] Standard Errors assume that the covariance matrix of the errors is correctly specified."
            ],
            "text/plain": [
              "<class 'statsmodels.iolib.summary.Summary'>\n",
              "\"\"\"\n",
              "                            OLS Regression Results                            \n",
              "==============================================================================\n",
              "Dep. Variable:                      y   R-squared:                       0.450\n",
              "Model:                            OLS   Adj. R-squared:                  0.439\n",
              "Method:                 Least Squares   F-statistic:                     39.29\n",
              "Date:                Thu, 18 Mar 2021   Prob (F-statistic):           9.74e-08\n",
              "Time:                        08:56:00   Log-Likelihood:                -287.37\n",
              "No. Observations:                  50   AIC:                             578.7\n",
              "Df Residuals:                      48   BIC:                             582.6\n",
              "Df Model:                           1                                         \n",
              "Covariance Type:            nonrobust                                         \n",
              "==============================================================================\n",
              "                 coef    std err          t      P>|t|      [0.025      0.975]\n",
              "------------------------------------------------------------------------------\n",
              "const        -16.5728     19.056     -0.870      0.389     -54.887      21.741\n",
              "x1            21.1411      3.373      6.268      0.000      14.360      27.922\n",
              "==============================================================================\n",
              "Omnibus:                       19.862   Durbin-Watson:                   2.079\n",
              "Prob(Omnibus):                  0.000   Jarque-Bera (JB):               28.426\n",
              "Skew:                           1.335   Prob(JB):                     6.72e-07\n",
              "Kurtosis:                       5.552   Cond. No.                         10.0\n",
              "==============================================================================\n",
              "\n",
              "Warnings:\n",
              "[1] Standard Errors assume that the covariance matrix of the errors is correctly specified.\n",
              "\"\"\""
            ]
          },
          "metadata": {
            "tags": []
          },
          "execution_count": 13
        }
      ]
    },
    {
      "cell_type": "markdown",
      "metadata": {
        "id": "xbDfPJO6jNxV"
      },
      "source": [
        "### With Squared Feature\n",
        "\n",
        "We can add a third term to the matrix"
      ]
    },
    {
      "cell_type": "code",
      "metadata": {
        "id": "iqp4Hw6djHz-"
      },
      "source": [
        "x = sm.add_constant(x)\n",
        "x = np.concatenate([x, np.square(x[:,1])[:, np.newaxis]], axis=1)\n",
        "x"
      ],
      "execution_count": null,
      "outputs": []
    },
    {
      "cell_type": "code",
      "metadata": {
        "colab": {
          "base_uri": "https://localhost:8080/",
          "height": 716
        },
        "id": "0FOngn2ajRjC",
        "outputId": "b550c12a-e507-49d6-ddba-a430ecee6ba9"
      },
      "source": [
        "est = sm.OLS(y, x).fit()\n",
        "\n",
        "xfit = sm.add_constant(np.linspace(0, 10, 1000))\n",
        "xfit = np.concatenate([xfit, np.square(xfit[:,1])[:, np.newaxis]], axis=1)\n",
        "yfit = est.predict(xfit[:, np.newaxis])\n",
        "\n",
        "fig, ax = plt.subplots()\n",
        "ax.scatter(x[:,1], y)\n",
        "ax.plot(xfit[:,1], yfit)\n",
        "plt.show()\n",
        "\n",
        "est.summary()"
      ],
      "execution_count": null,
      "outputs": [
        {
          "output_type": "display_data",
          "data": {
            "image/png": "[encoded data removed]",
            "text/plain": [
              "<Figure size 432x288 with 1 Axes>"
            ]
          },
          "metadata": {
            "tags": []
          }
        },
        {
          "output_type": "execute_result",
          "data": {
            "text/html": [
              "<table class=\"simpletable\">\n",
              "<caption>OLS Regression Results</caption>\n",
              "<tr>\n",
              "  <th>Dep. Variable:</th>            <td>y</td>        <th>  R-squared:         </th> <td>   0.581</td>\n",
              "</tr>\n",
              "<tr>\n",
              "  <th>Model:</th>                   <td>OLS</td>       <th>  Adj. R-squared:    </th> <td>   0.563</td>\n",
              "</tr>\n",
              "<tr>\n",
              "  <th>Method:</th>             <td>Least Squares</td>  <th>  F-statistic:       </th> <td>   32.52</td>\n",
              "</tr>\n",
              "<tr>\n",
              "  <th>Date:</th>             <td>Thu, 18 Mar 2021</td> <th>  Prob (F-statistic):</th> <td>1.36e-09</td>\n",
              "</tr>\n",
              "<tr>\n",
              "  <th>Time:</th>                 <td>08:56:57</td>     <th>  Log-Likelihood:    </th> <td> -280.60</td>\n",
              "</tr>\n",
              "<tr>\n",
              "  <th>No. Observations:</th>      <td>    50</td>      <th>  AIC:               </th> <td>   567.2</td>\n",
              "</tr>\n",
              "<tr>\n",
              "  <th>Df Residuals:</th>          <td>    47</td>      <th>  BIC:               </th> <td>   572.9</td>\n",
              "</tr>\n",
              "<tr>\n",
              "  <th>Df Model:</th>              <td>     2</td>      <th>                     </th>     <td> </td>   \n",
              "</tr>\n",
              "<tr>\n",
              "  <th>Covariance Type:</th>      <td>nonrobust</td>    <th>                     </th>     <td> </td>   \n",
              "</tr>\n",
              "</table>\n",
              "<table class=\"simpletable\">\n",
              "<tr>\n",
              "    <td></td>       <th>coef</th>     <th>std err</th>      <th>t</th>      <th>P>|t|</th>  <th>[0.025</th>    <th>0.975]</th>  \n",
              "</tr>\n",
              "<tr>\n",
              "  <th>const</th> <td>   40.0816</td> <td>   22.420</td> <td>    1.788</td> <td> 0.080</td> <td>   -5.021</td> <td>   85.184</td>\n",
              "</tr>\n",
              "<tr>\n",
              "  <th>x1</th>    <td>  -25.1428</td> <td>   12.470</td> <td>   -2.016</td> <td> 0.050</td> <td>  -50.230</td> <td>   -0.055</td>\n",
              "</tr>\n",
              "<tr>\n",
              "  <th>x2</th>    <td>    4.9311</td> <td>    1.290</td> <td>    3.822</td> <td> 0.000</td> <td>    2.336</td> <td>    7.527</td>\n",
              "</tr>\n",
              "</table>\n",
              "<table class=\"simpletable\">\n",
              "<tr>\n",
              "  <th>Omnibus:</th>       <td>21.411</td> <th>  Durbin-Watson:     </th> <td>   2.012</td>\n",
              "</tr>\n",
              "<tr>\n",
              "  <th>Prob(Omnibus):</th> <td> 0.000</td> <th>  Jarque-Bera (JB):  </th> <td>  39.295</td>\n",
              "</tr>\n",
              "<tr>\n",
              "  <th>Skew:</th>          <td> 1.257</td> <th>  Prob(JB):          </th> <td>2.93e-09</td>\n",
              "</tr>\n",
              "<tr>\n",
              "  <th>Kurtosis:</th>      <td> 6.542</td> <th>  Cond. No.          </th> <td>    115.</td>\n",
              "</tr>\n",
              "</table><br/><br/>Warnings:<br/>[1] Standard Errors assume that the covariance matrix of the errors is correctly specified."
            ],
            "text/plain": [
              "<class 'statsmodels.iolib.summary.Summary'>\n",
              "\"\"\"\n",
              "                            OLS Regression Results                            \n",
              "==============================================================================\n",
              "Dep. Variable:                      y   R-squared:                       0.581\n",
              "Model:                            OLS   Adj. R-squared:                  0.563\n",
              "Method:                 Least Squares   F-statistic:                     32.52\n",
              "Date:                Thu, 18 Mar 2021   Prob (F-statistic):           1.36e-09\n",
              "Time:                        08:56:57   Log-Likelihood:                -280.60\n",
              "No. Observations:                  50   AIC:                             567.2\n",
              "Df Residuals:                      47   BIC:                             572.9\n",
              "Df Model:                           2                                         \n",
              "Covariance Type:            nonrobust                                         \n",
              "==============================================================================\n",
              "                 coef    std err          t      P>|t|      [0.025      0.975]\n",
              "------------------------------------------------------------------------------\n",
              "const         40.0816     22.420      1.788      0.080      -5.021      85.184\n",
              "x1           -25.1428     12.470     -2.016      0.050     -50.230      -0.055\n",
              "x2             4.9311      1.290      3.822      0.000       2.336       7.527\n",
              "==============================================================================\n",
              "Omnibus:                       21.411   Durbin-Watson:                   2.012\n",
              "Prob(Omnibus):                  0.000   Jarque-Bera (JB):               39.295\n",
              "Skew:                           1.257   Prob(JB):                     2.93e-09\n",
              "Kurtosis:                       6.542   Cond. No.                         115.\n",
              "==============================================================================\n",
              "\n",
              "Warnings:\n",
              "[1] Standard Errors assume that the covariance matrix of the errors is correctly specified.\n",
              "\"\"\""
            ]
          },
          "metadata": {
            "tags": []
          },
          "execution_count": 15
        }
      ]
    },
    {
      "cell_type": "markdown",
      "metadata": {
        "id": "l8xLowyNjaCR"
      },
      "source": [
        "If we add $x$ and $x^2$ to the model, we fit the **best parabola** instead of the **best line** to the data"
      ]
    },
    {
      "cell_type": "code",
      "metadata": {
        "id": "p_DMPWy0jV2s"
      },
      "source": [
        "x = np.concatenate([x, (x[:,1] ** 3)[:, np.newaxis]], axis=1)\n",
        "x"
      ],
      "execution_count": null,
      "outputs": []
    },
    {
      "cell_type": "code",
      "metadata": {
        "colab": {
          "base_uri": "https://localhost:8080/",
          "height": 771
        },
        "id": "1IqYUaZojd2m",
        "outputId": "c204ca4a-a891-4af2-89bb-902a23540998"
      },
      "source": [
        "est = sm.OLS(y, x).fit()\n",
        "\n",
        "xfit = sm.add_constant(np.linspace(0, 10, 1000))\n",
        "xfit = np.concatenate([\n",
        "    xfit, \n",
        "    np.square(xfit[:,1])[:, np.newaxis],\n",
        "    (xfit[:,1] ** 3)[:, np.newaxis]\n",
        "    ], axis=1\n",
        ")\n",
        "yfit = est.predict(xfit[:, np.newaxis])\n",
        "\n",
        "fig, ax = plt.subplots()\n",
        "ax.scatter(x[:,1], y)\n",
        "ax.plot(xfit[:,1], yfit)\n",
        "plt.show()\n",
        "\n",
        "est.summary()"
      ],
      "execution_count": null,
      "outputs": [
        {
          "output_type": "display_data",
          "data": {
            "image/png": "[encoded data removed]",
            "text/plain": [
              "<Figure size 432x288 with 1 Axes>"
            ]
          },
          "metadata": {
            "tags": []
          }
        },
        {
          "output_type": "execute_result",
          "data": {
            "text/html": [
              "<table class=\"simpletable\">\n",
              "<caption>OLS Regression Results</caption>\n",
              "<tr>\n",
              "  <th>Dep. Variable:</th>            <td>y</td>        <th>  R-squared:         </th> <td>   0.581</td>\n",
              "</tr>\n",
              "<tr>\n",
              "  <th>Model:</th>                   <td>OLS</td>       <th>  Adj. R-squared:    </th> <td>   0.553</td>\n",
              "</tr>\n",
              "<tr>\n",
              "  <th>Method:</th>             <td>Least Squares</td>  <th>  F-statistic:       </th> <td>   21.22</td>\n",
              "</tr>\n",
              "<tr>\n",
              "  <th>Date:</th>             <td>Thu, 18 Mar 2021</td> <th>  Prob (F-statistic):</th> <td>8.93e-09</td>\n",
              "</tr>\n",
              "<tr>\n",
              "  <th>Time:</th>                 <td>08:57:48</td>     <th>  Log-Likelihood:    </th> <td> -280.60</td>\n",
              "</tr>\n",
              "<tr>\n",
              "  <th>No. Observations:</th>      <td>    50</td>      <th>  AIC:               </th> <td>   569.2</td>\n",
              "</tr>\n",
              "<tr>\n",
              "  <th>Df Residuals:</th>          <td>    46</td>      <th>  BIC:               </th> <td>   576.9</td>\n",
              "</tr>\n",
              "<tr>\n",
              "  <th>Df Model:</th>              <td>     3</td>      <th>                     </th>     <td> </td>   \n",
              "</tr>\n",
              "<tr>\n",
              "  <th>Covariance Type:</th>      <td>nonrobust</td>    <th>                     </th>     <td> </td>   \n",
              "</tr>\n",
              "</table>\n",
              "<table class=\"simpletable\">\n",
              "<tr>\n",
              "    <td></td>       <th>coef</th>     <th>std err</th>      <th>t</th>      <th>P>|t|</th>  <th>[0.025</th>    <th>0.975]</th>  \n",
              "</tr>\n",
              "<tr>\n",
              "  <th>const</th> <td>   40.5041</td> <td>   29.482</td> <td>    1.374</td> <td> 0.176</td> <td>  -18.840</td> <td>   99.848</td>\n",
              "</tr>\n",
              "<tr>\n",
              "  <th>x1</th>    <td>  -25.7808</td> <td>   31.147</td> <td>   -0.828</td> <td> 0.412</td> <td>  -88.476</td> <td>   36.914</td>\n",
              "</tr>\n",
              "<tr>\n",
              "  <th>x2</th>    <td>    5.0964</td> <td>    7.492</td> <td>    0.680</td> <td> 0.500</td> <td>   -9.984</td> <td>   20.177</td>\n",
              "</tr>\n",
              "<tr>\n",
              "  <th>x3</th>    <td>   -0.0111</td> <td>    0.498</td> <td>   -0.022</td> <td> 0.982</td> <td>   -1.013</td> <td>    0.990</td>\n",
              "</tr>\n",
              "</table>\n",
              "<table class=\"simpletable\">\n",
              "<tr>\n",
              "  <th>Omnibus:</th>       <td>21.398</td> <th>  Durbin-Watson:     </th> <td>   2.013</td>\n",
              "</tr>\n",
              "<tr>\n",
              "  <th>Prob(Omnibus):</th> <td> 0.000</td> <th>  Jarque-Bera (JB):  </th> <td>  39.210</td>\n",
              "</tr>\n",
              "<tr>\n",
              "  <th>Skew:</th>          <td> 1.257</td> <th>  Prob(JB):          </th> <td>3.06e-09</td>\n",
              "</tr>\n",
              "<tr>\n",
              "  <th>Kurtosis:</th>      <td> 6.536</td> <th>  Cond. No.          </th> <td>1.63e+03</td>\n",
              "</tr>\n",
              "</table><br/><br/>Warnings:<br/>[1] Standard Errors assume that the covariance matrix of the errors is correctly specified.<br/>[2] The condition number is large, 1.63e+03. This might indicate that there are<br/>strong multicollinearity or other numerical problems."
            ],
            "text/plain": [
              "<class 'statsmodels.iolib.summary.Summary'>\n",
              "\"\"\"\n",
              "                            OLS Regression Results                            \n",
              "==============================================================================\n",
              "Dep. Variable:                      y   R-squared:                       0.581\n",
              "Model:                            OLS   Adj. R-squared:                  0.553\n",
              "Method:                 Least Squares   F-statistic:                     21.22\n",
              "Date:                Thu, 18 Mar 2021   Prob (F-statistic):           8.93e-09\n",
              "Time:                        08:57:48   Log-Likelihood:                -280.60\n",
              "No. Observations:                  50   AIC:                             569.2\n",
              "Df Residuals:                      46   BIC:                             576.9\n",
              "Df Model:                           3                                         \n",
              "Covariance Type:            nonrobust                                         \n",
              "==============================================================================\n",
              "                 coef    std err          t      P>|t|      [0.025      0.975]\n",
              "------------------------------------------------------------------------------\n",
              "const         40.5041     29.482      1.374      0.176     -18.840      99.848\n",
              "x1           -25.7808     31.147     -0.828      0.412     -88.476      36.914\n",
              "x2             5.0964      7.492      0.680      0.500      -9.984      20.177\n",
              "x3            -0.0111      0.498     -0.022      0.982      -1.013       0.990\n",
              "==============================================================================\n",
              "Omnibus:                       21.398   Durbin-Watson:                   2.013\n",
              "Prob(Omnibus):                  0.000   Jarque-Bera (JB):               39.210\n",
              "Skew:                           1.257   Prob(JB):                     3.06e-09\n",
              "Kurtosis:                       6.536   Cond. No.                     1.63e+03\n",
              "==============================================================================\n",
              "\n",
              "Warnings:\n",
              "[1] Standard Errors assume that the covariance matrix of the errors is correctly specified.\n",
              "[2] The condition number is large, 1.63e+03. This might indicate that there are\n",
              "strong multicollinearity or other numerical problems.\n",
              "\"\"\""
            ]
          },
          "metadata": {
            "tags": []
          },
          "execution_count": 17
        }
      ]
    },
    {
      "cell_type": "markdown",
      "metadata": {
        "id": "xRk9O-K_jshi"
      },
      "source": [
        "# Reading P-Values in a regression table\n",
        "\n",
        "Adding a cube feature doesn't seem to do anything (see the coefficient value is very close to 0). The adjusted $R^2$ (which indicates how well the model fits to data) even went down.\n",
        "\n",
        "The $P > |t|$ column is a **t-test** result for the null hypothesis on this coefficient. We see in the squared regression, most coefficients pass the t-test, but now they all seem to fail it (so all the coefficients are not significantly differeent than 0 anymore)\n",
        "\n",
        "All of this indicates the previous model was better\n",
        "\n",
        "# It's all about squares\n",
        "\n",
        "One key diagnostic variable in a regression is the $R^2$ or [R Squared](https://en.wikipedia.org/wiki/Coefficient_of_determination). The formula for it is:\n",
        "\n",
        "$$R^2 = 1 - \\dfrac{SS_{res}}{SS_{tot}}$$\n",
        "\n",
        "Where $SS_{tot}$ is the total sum of squared difference from the mean, which is the variance:\n",
        "\n",
        "$$SS_{tot} = var(y) = \\sum (y_i - \\bar{y})^2$$\n",
        "\n",
        "And $SS_{res}$ is the sum of prediction errors or *residuals*\n",
        "\n",
        "$$SS_{res} = \\sum (y_i - \\hat{y})^2 = \\sum e_i^2$$\n",
        "\n",
        "**R squared is a measure of predicted variation**\n",
        "\n",
        "This means that a model with $R^2 = 0$ has no more predictive value than just predicting the average on every point.\n",
        "\n",
        "# Adjusted R^2\n",
        "\n",
        "The [Adjusted Rsqr](https://en.wikipedia.org/wiki/Coefficient_of_determination#Adjusted_R2) penalizes the $R^2$ for each coefficient you add to the model.\n",
        "\n",
        "The formula penalizes for lost [degrees of freedom](https://en.wikipedia.org/wiki/Degrees_of_freedom_(statistics)) and is:\n",
        "\n",
        "$$\\bar{R^2} = 1 - (1 - R^2)\\dfrac{n-1}{n-p-1}$$\n",
        "\n",
        "Where $n$ is the number of observations in the data and $p$ is the number of coefficients that are fitted in the model.\n",
        "\n",
        "**degrees of freedom**\n",
        "\n",
        "The [degrees of freedom](https://en.wikipedia.org/wiki/Degrees_of_freedom_(statistics)) is the number of values in a statistical calculation that are free to vary. This is effectively the remainder between observation points in your dataset and the number of coefficients being estimated.\n",
        "\n",
        "Later on, we'll talk about **overfitting** in machine learning, which is a related concept.\n",
        "\n",
        "See what happens when we put too many polynomials to a regression:\n",
        "\n",
        "- R2 goes down\n",
        "\n",
        "- Gap between R2 and R2adj grows large\n",
        "\n",
        "- Model Fit becomes very data-specific\n",
        "\n",
        "   - Loses extrapolation (not predictive out of sample)\n",
        "\n",
        "   - Fit has large nonsense variations compared to real world data interpretation\n",
        "\n",
        "#Feature Selection Based On P Value\n",
        "\n",
        "Coefficients are the \"slope\" on each of the regression coefficients for **the relation between that x and the y**.\n",
        "\n",
        "Let's use the Boston House Price dataset:\n",
        "\n"
      ]
    },
    {
      "cell_type": "code",
      "metadata": {
        "colab": {
          "base_uri": "https://localhost:8080/",
          "height": 730
        },
        "id": "d2GTl9gHjiHN",
        "outputId": "fb60bedd-741b-450d-c70e-3af76094592a"
      },
      "source": [
        "from sklearn.datasets import load_boston\n",
        "import pandas as pd\n",
        "\n",
        "boston = pd.DataFrame(load_boston().data,columns = load_boston().feature_names )\n",
        "y = load_boston().target\n",
        "\n",
        "X = sm.add_constant(boston)\n",
        "sm.OLS(y, X).fit().summary()"
      ],
      "execution_count": null,
      "outputs": [
        {
          "output_type": "execute_result",
          "data": {
            "text/html": [
              "<table class=\"simpletable\">\n",
              "<caption>OLS Regression Results</caption>\n",
              "<tr>\n",
              "  <th>Dep. Variable:</th>            <td>y</td>        <th>  R-squared:         </th> <td>   0.741</td> \n",
              "</tr>\n",
              "<tr>\n",
              "  <th>Model:</th>                   <td>OLS</td>       <th>  Adj. R-squared:    </th> <td>   0.734</td> \n",
              "</tr>\n",
              "<tr>\n",
              "  <th>Method:</th>             <td>Least Squares</td>  <th>  F-statistic:       </th> <td>   108.1</td> \n",
              "</tr>\n",
              "<tr>\n",
              "  <th>Date:</th>             <td>Thu, 18 Mar 2021</td> <th>  Prob (F-statistic):</th> <td>6.72e-135</td>\n",
              "</tr>\n",
              "<tr>\n",
              "  <th>Time:</th>                 <td>09:03:17</td>     <th>  Log-Likelihood:    </th> <td> -1498.8</td> \n",
              "</tr>\n",
              "<tr>\n",
              "  <th>No. Observations:</th>      <td>   506</td>      <th>  AIC:               </th> <td>   3026.</td> \n",
              "</tr>\n",
              "<tr>\n",
              "  <th>Df Residuals:</th>          <td>   492</td>      <th>  BIC:               </th> <td>   3085.</td> \n",
              "</tr>\n",
              "<tr>\n",
              "  <th>Df Model:</th>              <td>    13</td>      <th>                     </th>     <td> </td>    \n",
              "</tr>\n",
              "<tr>\n",
              "  <th>Covariance Type:</th>      <td>nonrobust</td>    <th>                     </th>     <td> </td>    \n",
              "</tr>\n",
              "</table>\n",
              "<table class=\"simpletable\">\n",
              "<tr>\n",
              "     <td></td>        <th>coef</th>     <th>std err</th>      <th>t</th>      <th>P>|t|</th>  <th>[0.025</th>    <th>0.975]</th>  \n",
              "</tr>\n",
              "<tr>\n",
              "  <th>const</th>   <td>   36.4595</td> <td>    5.103</td> <td>    7.144</td> <td> 0.000</td> <td>   26.432</td> <td>   46.487</td>\n",
              "</tr>\n",
              "<tr>\n",
              "  <th>CRIM</th>    <td>   -0.1080</td> <td>    0.033</td> <td>   -3.287</td> <td> 0.001</td> <td>   -0.173</td> <td>   -0.043</td>\n",
              "</tr>\n",
              "<tr>\n",
              "  <th>ZN</th>      <td>    0.0464</td> <td>    0.014</td> <td>    3.382</td> <td> 0.001</td> <td>    0.019</td> <td>    0.073</td>\n",
              "</tr>\n",
              "<tr>\n",
              "  <th>INDUS</th>   <td>    0.0206</td> <td>    0.061</td> <td>    0.334</td> <td> 0.738</td> <td>   -0.100</td> <td>    0.141</td>\n",
              "</tr>\n",
              "<tr>\n",
              "  <th>CHAS</th>    <td>    2.6867</td> <td>    0.862</td> <td>    3.118</td> <td> 0.002</td> <td>    0.994</td> <td>    4.380</td>\n",
              "</tr>\n",
              "<tr>\n",
              "  <th>NOX</th>     <td>  -17.7666</td> <td>    3.820</td> <td>   -4.651</td> <td> 0.000</td> <td>  -25.272</td> <td>  -10.262</td>\n",
              "</tr>\n",
              "<tr>\n",
              "  <th>RM</th>      <td>    3.8099</td> <td>    0.418</td> <td>    9.116</td> <td> 0.000</td> <td>    2.989</td> <td>    4.631</td>\n",
              "</tr>\n",
              "<tr>\n",
              "  <th>AGE</th>     <td>    0.0007</td> <td>    0.013</td> <td>    0.052</td> <td> 0.958</td> <td>   -0.025</td> <td>    0.027</td>\n",
              "</tr>\n",
              "<tr>\n",
              "  <th>DIS</th>     <td>   -1.4756</td> <td>    0.199</td> <td>   -7.398</td> <td> 0.000</td> <td>   -1.867</td> <td>   -1.084</td>\n",
              "</tr>\n",
              "<tr>\n",
              "  <th>RAD</th>     <td>    0.3060</td> <td>    0.066</td> <td>    4.613</td> <td> 0.000</td> <td>    0.176</td> <td>    0.436</td>\n",
              "</tr>\n",
              "<tr>\n",
              "  <th>TAX</th>     <td>   -0.0123</td> <td>    0.004</td> <td>   -3.280</td> <td> 0.001</td> <td>   -0.020</td> <td>   -0.005</td>\n",
              "</tr>\n",
              "<tr>\n",
              "  <th>PTRATIO</th> <td>   -0.9527</td> <td>    0.131</td> <td>   -7.283</td> <td> 0.000</td> <td>   -1.210</td> <td>   -0.696</td>\n",
              "</tr>\n",
              "<tr>\n",
              "  <th>B</th>       <td>    0.0093</td> <td>    0.003</td> <td>    3.467</td> <td> 0.001</td> <td>    0.004</td> <td>    0.015</td>\n",
              "</tr>\n",
              "<tr>\n",
              "  <th>LSTAT</th>   <td>   -0.5248</td> <td>    0.051</td> <td>  -10.347</td> <td> 0.000</td> <td>   -0.624</td> <td>   -0.425</td>\n",
              "</tr>\n",
              "</table>\n",
              "<table class=\"simpletable\">\n",
              "<tr>\n",
              "  <th>Omnibus:</th>       <td>178.041</td> <th>  Durbin-Watson:     </th> <td>   1.078</td> \n",
              "</tr>\n",
              "<tr>\n",
              "  <th>Prob(Omnibus):</th> <td> 0.000</td>  <th>  Jarque-Bera (JB):  </th> <td> 783.126</td> \n",
              "</tr>\n",
              "<tr>\n",
              "  <th>Skew:</th>          <td> 1.521</td>  <th>  Prob(JB):          </th> <td>8.84e-171</td>\n",
              "</tr>\n",
              "<tr>\n",
              "  <th>Kurtosis:</th>      <td> 8.281</td>  <th>  Cond. No.          </th> <td>1.51e+04</td> \n",
              "</tr>\n",
              "</table><br/><br/>Warnings:<br/>[1] Standard Errors assume that the covariance matrix of the errors is correctly specified.<br/>[2] The condition number is large, 1.51e+04. This might indicate that there are<br/>strong multicollinearity or other numerical problems."
            ],
            "text/plain": [
              "<class 'statsmodels.iolib.summary.Summary'>\n",
              "\"\"\"\n",
              "                            OLS Regression Results                            \n",
              "==============================================================================\n",
              "Dep. Variable:                      y   R-squared:                       0.741\n",
              "Model:                            OLS   Adj. R-squared:                  0.734\n",
              "Method:                 Least Squares   F-statistic:                     108.1\n",
              "Date:                Thu, 18 Mar 2021   Prob (F-statistic):          6.72e-135\n",
              "Time:                        09:03:17   Log-Likelihood:                -1498.8\n",
              "No. Observations:                 506   AIC:                             3026.\n",
              "Df Residuals:                     492   BIC:                             3085.\n",
              "Df Model:                          13                                         \n",
              "Covariance Type:            nonrobust                                         \n",
              "==============================================================================\n",
              "                 coef    std err          t      P>|t|      [0.025      0.975]\n",
              "------------------------------------------------------------------------------\n",
              "const         36.4595      5.103      7.144      0.000      26.432      46.487\n",
              "CRIM          -0.1080      0.033     -3.287      0.001      -0.173      -0.043\n",
              "ZN             0.0464      0.014      3.382      0.001       0.019       0.073\n",
              "INDUS          0.0206      0.061      0.334      0.738      -0.100       0.141\n",
              "CHAS           2.6867      0.862      3.118      0.002       0.994       4.380\n",
              "NOX          -17.7666      3.820     -4.651      0.000     -25.272     -10.262\n",
              "RM             3.8099      0.418      9.116      0.000       2.989       4.631\n",
              "AGE            0.0007      0.013      0.052      0.958      -0.025       0.027\n",
              "DIS           -1.4756      0.199     -7.398      0.000      -1.867      -1.084\n",
              "RAD            0.3060      0.066      4.613      0.000       0.176       0.436\n",
              "TAX           -0.0123      0.004     -3.280      0.001      -0.020      -0.005\n",
              "PTRATIO       -0.9527      0.131     -7.283      0.000      -1.210      -0.696\n",
              "B              0.0093      0.003      3.467      0.001       0.004       0.015\n",
              "LSTAT         -0.5248      0.051    -10.347      0.000      -0.624      -0.425\n",
              "==============================================================================\n",
              "Omnibus:                      178.041   Durbin-Watson:                   1.078\n",
              "Prob(Omnibus):                  0.000   Jarque-Bera (JB):              783.126\n",
              "Skew:                           1.521   Prob(JB):                    8.84e-171\n",
              "Kurtosis:                       8.281   Cond. No.                     1.51e+04\n",
              "==============================================================================\n",
              "\n",
              "Warnings:\n",
              "[1] Standard Errors assume that the covariance matrix of the errors is correctly specified.\n",
              "[2] The condition number is large, 1.51e+04. This might indicate that there are\n",
              "strong multicollinearity or other numerical problems.\n",
              "\"\"\""
            ]
          },
          "metadata": {
            "tags": []
          },
          "execution_count": 19
        }
      ]
    },
    {
      "cell_type": "markdown",
      "metadata": {
        "id": "oJvGnNqVk7yy"
      },
      "source": [
        "Right away, we look at **P-Values** to see what we don't care about. AGE and INDUS are good candidates to throw out."
      ]
    },
    {
      "cell_type": "code",
      "metadata": {
        "colab": {
          "base_uri": "https://localhost:8080/",
          "height": 688
        },
        "id": "Xpd4j_AVjtDu",
        "outputId": "81e65099-786d-4e27-df95-084d2d576396"
      },
      "source": [
        "X = X.drop(columns=['INDUS', 'AGE'])\n",
        "sm.OLS(y, X).fit().summary()"
      ],
      "execution_count": null,
      "outputs": [
        {
          "output_type": "execute_result",
          "data": {
            "text/html": [
              "<table class=\"simpletable\">\n",
              "<caption>OLS Regression Results</caption>\n",
              "<tr>\n",
              "  <th>Dep. Variable:</th>            <td>y</td>        <th>  R-squared:         </th> <td>   0.741</td> \n",
              "</tr>\n",
              "<tr>\n",
              "  <th>Model:</th>                   <td>OLS</td>       <th>  Adj. R-squared:    </th> <td>   0.735</td> \n",
              "</tr>\n",
              "<tr>\n",
              "  <th>Method:</th>             <td>Least Squares</td>  <th>  F-statistic:       </th> <td>   128.2</td> \n",
              "</tr>\n",
              "<tr>\n",
              "  <th>Date:</th>             <td>Thu, 18 Mar 2021</td> <th>  Prob (F-statistic):</th> <td>5.54e-137</td>\n",
              "</tr>\n",
              "<tr>\n",
              "  <th>Time:</th>                 <td>09:06:54</td>     <th>  Log-Likelihood:    </th> <td> -1498.9</td> \n",
              "</tr>\n",
              "<tr>\n",
              "  <th>No. Observations:</th>      <td>   506</td>      <th>  AIC:               </th> <td>   3022.</td> \n",
              "</tr>\n",
              "<tr>\n",
              "  <th>Df Residuals:</th>          <td>   494</td>      <th>  BIC:               </th> <td>   3072.</td> \n",
              "</tr>\n",
              "<tr>\n",
              "  <th>Df Model:</th>              <td>    11</td>      <th>                     </th>     <td> </td>    \n",
              "</tr>\n",
              "<tr>\n",
              "  <th>Covariance Type:</th>      <td>nonrobust</td>    <th>                     </th>     <td> </td>    \n",
              "</tr>\n",
              "</table>\n",
              "<table class=\"simpletable\">\n",
              "<tr>\n",
              "     <td></td>        <th>coef</th>     <th>std err</th>      <th>t</th>      <th>P>|t|</th>  <th>[0.025</th>    <th>0.975]</th>  \n",
              "</tr>\n",
              "<tr>\n",
              "  <th>const</th>   <td>   36.3411</td> <td>    5.067</td> <td>    7.171</td> <td> 0.000</td> <td>   26.385</td> <td>   46.298</td>\n",
              "</tr>\n",
              "<tr>\n",
              "  <th>CRIM</th>    <td>   -0.1084</td> <td>    0.033</td> <td>   -3.307</td> <td> 0.001</td> <td>   -0.173</td> <td>   -0.044</td>\n",
              "</tr>\n",
              "<tr>\n",
              "  <th>ZN</th>      <td>    0.0458</td> <td>    0.014</td> <td>    3.390</td> <td> 0.001</td> <td>    0.019</td> <td>    0.072</td>\n",
              "</tr>\n",
              "<tr>\n",
              "  <th>CHAS</th>    <td>    2.7187</td> <td>    0.854</td> <td>    3.183</td> <td> 0.002</td> <td>    1.040</td> <td>    4.397</td>\n",
              "</tr>\n",
              "<tr>\n",
              "  <th>NOX</th>     <td>  -17.3760</td> <td>    3.535</td> <td>   -4.915</td> <td> 0.000</td> <td>  -24.322</td> <td>  -10.430</td>\n",
              "</tr>\n",
              "<tr>\n",
              "  <th>RM</th>      <td>    3.8016</td> <td>    0.406</td> <td>    9.356</td> <td> 0.000</td> <td>    3.003</td> <td>    4.600</td>\n",
              "</tr>\n",
              "<tr>\n",
              "  <th>DIS</th>     <td>   -1.4927</td> <td>    0.186</td> <td>   -8.037</td> <td> 0.000</td> <td>   -1.858</td> <td>   -1.128</td>\n",
              "</tr>\n",
              "<tr>\n",
              "  <th>RAD</th>     <td>    0.2996</td> <td>    0.063</td> <td>    4.726</td> <td> 0.000</td> <td>    0.175</td> <td>    0.424</td>\n",
              "</tr>\n",
              "<tr>\n",
              "  <th>TAX</th>     <td>   -0.0118</td> <td>    0.003</td> <td>   -3.493</td> <td> 0.001</td> <td>   -0.018</td> <td>   -0.005</td>\n",
              "</tr>\n",
              "<tr>\n",
              "  <th>PTRATIO</th> <td>   -0.9465</td> <td>    0.129</td> <td>   -7.334</td> <td> 0.000</td> <td>   -1.200</td> <td>   -0.693</td>\n",
              "</tr>\n",
              "<tr>\n",
              "  <th>B</th>       <td>    0.0093</td> <td>    0.003</td> <td>    3.475</td> <td> 0.001</td> <td>    0.004</td> <td>    0.015</td>\n",
              "</tr>\n",
              "<tr>\n",
              "  <th>LSTAT</th>   <td>   -0.5226</td> <td>    0.047</td> <td>  -11.019</td> <td> 0.000</td> <td>   -0.616</td> <td>   -0.429</td>\n",
              "</tr>\n",
              "</table>\n",
              "<table class=\"simpletable\">\n",
              "<tr>\n",
              "  <th>Omnibus:</th>       <td>178.430</td> <th>  Durbin-Watson:     </th> <td>   1.078</td> \n",
              "</tr>\n",
              "<tr>\n",
              "  <th>Prob(Omnibus):</th> <td> 0.000</td>  <th>  Jarque-Bera (JB):  </th> <td> 787.785</td> \n",
              "</tr>\n",
              "<tr>\n",
              "  <th>Skew:</th>          <td> 1.523</td>  <th>  Prob(JB):          </th> <td>8.60e-172</td>\n",
              "</tr>\n",
              "<tr>\n",
              "  <th>Kurtosis:</th>      <td> 8.300</td>  <th>  Cond. No.          </th> <td>1.47e+04</td> \n",
              "</tr>\n",
              "</table><br/><br/>Warnings:<br/>[1] Standard Errors assume that the covariance matrix of the errors is correctly specified.<br/>[2] The condition number is large, 1.47e+04. This might indicate that there are<br/>strong multicollinearity or other numerical problems."
            ],
            "text/plain": [
              "<class 'statsmodels.iolib.summary.Summary'>\n",
              "\"\"\"\n",
              "                            OLS Regression Results                            \n",
              "==============================================================================\n",
              "Dep. Variable:                      y   R-squared:                       0.741\n",
              "Model:                            OLS   Adj. R-squared:                  0.735\n",
              "Method:                 Least Squares   F-statistic:                     128.2\n",
              "Date:                Thu, 18 Mar 2021   Prob (F-statistic):          5.54e-137\n",
              "Time:                        09:06:54   Log-Likelihood:                -1498.9\n",
              "No. Observations:                 506   AIC:                             3022.\n",
              "Df Residuals:                     494   BIC:                             3072.\n",
              "Df Model:                          11                                         \n",
              "Covariance Type:            nonrobust                                         \n",
              "==============================================================================\n",
              "                 coef    std err          t      P>|t|      [0.025      0.975]\n",
              "------------------------------------------------------------------------------\n",
              "const         36.3411      5.067      7.171      0.000      26.385      46.298\n",
              "CRIM          -0.1084      0.033     -3.307      0.001      -0.173      -0.044\n",
              "ZN             0.0458      0.014      3.390      0.001       0.019       0.072\n",
              "CHAS           2.7187      0.854      3.183      0.002       1.040       4.397\n",
              "NOX          -17.3760      3.535     -4.915      0.000     -24.322     -10.430\n",
              "RM             3.8016      0.406      9.356      0.000       3.003       4.600\n",
              "DIS           -1.4927      0.186     -8.037      0.000      -1.858      -1.128\n",
              "RAD            0.2996      0.063      4.726      0.000       0.175       0.424\n",
              "TAX           -0.0118      0.003     -3.493      0.001      -0.018      -0.005\n",
              "PTRATIO       -0.9465      0.129     -7.334      0.000      -1.200      -0.693\n",
              "B              0.0093      0.003      3.475      0.001       0.004       0.015\n",
              "LSTAT         -0.5226      0.047    -11.019      0.000      -0.616      -0.429\n",
              "==============================================================================\n",
              "Omnibus:                      178.430   Durbin-Watson:                   1.078\n",
              "Prob(Omnibus):                  0.000   Jarque-Bera (JB):              787.785\n",
              "Skew:                           1.523   Prob(JB):                    8.60e-172\n",
              "Kurtosis:                       8.300   Cond. No.                     1.47e+04\n",
              "==============================================================================\n",
              "\n",
              "Warnings:\n",
              "[1] Standard Errors assume that the covariance matrix of the errors is correctly specified.\n",
              "[2] The condition number is large, 1.47e+04. This might indicate that there are\n",
              "strong multicollinearity or other numerical problems.\n",
              "\"\"\""
            ]
          },
          "metadata": {
            "tags": []
          },
          "execution_count": 21
        }
      ]
    },
    {
      "cell_type": "code",
      "metadata": {
        "id": "HzYDxnPrllLr"
      },
      "source": [
        ""
      ],
      "execution_count": null,
      "outputs": []
    }
  ]
}