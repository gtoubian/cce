{
  "nbformat": 4,
  "nbformat_minor": 0,
  "metadata": {
    "colab": {
      "name": "Workshop_Conditional_Logic_Chocolate.ipynb",
      "provenance": [],
      "collapsed_sections": [],
      "include_colab_link": true
    },
    "kernelspec": {
      "name": "python3",
      "display_name": "Python 3"
    }
  },
  "cells": [
    {
      "cell_type": "markdown",
      "metadata": {
        "id": "view-in-github",
        "colab_type": "text"
      },
      "source": [
        "<a href=\"https://colab.research.google.com/github/gtoubian/cce/blob/main/Workshop_Conditional_Logic_Chocolate.ipynb\" target=\"_parent\"><img src=\"https://colab.research.google.com/assets/colab-badge.svg\" alt=\"Open In Colab\"/></a>"
      ]
    },
    {
      "cell_type": "markdown",
      "metadata": {
        "id": "1XODViUC91mT"
      },
      "source": [
        "**Gabriel Toubian** - gtoubian@gmail.com"
      ]
    },
    {
      "cell_type": "markdown",
      "metadata": {
        "id": "s3ShPXAO2JFK"
      },
      "source": [
        "#**NOTE:**\r\n",
        "Please insert a text cell at the top of the Notebook with your Full Name in Bold and your email that you use for both Journey and Github\r\n",
        "\r\n",
        "Also, add to the title of the notebook, an underscore as well as your favourite flavour of ice cream beside it.\r\n",
        "\r\n",
        "Ex. 'Workshop_Conditional_Logic_Cookies_and_Cream'\r\n",
        "\r\n",
        "\r\n",
        "\r\n"
      ]
    },
    {
      "cell_type": "markdown",
      "metadata": {
        "id": "PmLF5u2r2xju"
      },
      "source": [
        "#Warm Up\r\n",
        "\r\n",
        "Import numpy, matplotlib.pyplot and name them np and plt respectively. "
      ]
    },
    {
      "cell_type": "code",
      "metadata": {
        "id": "AK3opr4n1vtn"
      },
      "source": [
        "import numpy as np\r\n",
        "import matplotlib.pyplot as plt"
      ],
      "execution_count": 1,
      "outputs": []
    },
    {
      "cell_type": "markdown",
      "metadata": {
        "id": "ZFzjls1y3q6f"
      },
      "source": [
        "Use the range function to list out all even numbers between 1 and 30."
      ]
    },
    {
      "cell_type": "code",
      "metadata": {
        "id": "fJ80NrmD31JF",
        "colab": {
          "base_uri": "https://localhost:8080/"
        },
        "outputId": "5cb401a7-52aa-4430-d39b-18a294ce44e4"
      },
      "source": [
        "list(range(0,31,2))"
      ],
      "execution_count": 4,
      "outputs": [
        {
          "output_type": "execute_result",
          "data": {
            "text/plain": [
              "[0, 2, 4, 6, 8, 10, 12, 14, 16, 18, 20, 22, 24, 26, 28, 30]"
            ]
          },
          "metadata": {
            "tags": []
          },
          "execution_count": 4
        }
      ]
    },
    {
      "cell_type": "markdown",
      "metadata": {
        "id": "C3kBiQQs31rh"
      },
      "source": [
        "Create a tuple with 6,1,2,3,4,5 as entries and name it \"Tuple\". Convert tuple to an array and name the array 'Array'. Finally write a line that will double each element in Array **without** using a loop and print the result."
      ]
    },
    {
      "cell_type": "code",
      "metadata": {
        "id": "NvxzoMOA4iSM",
        "colab": {
          "base_uri": "https://localhost:8080/"
        },
        "outputId": "e24233d5-8abe-4262-93d8-a2954f3468f5"
      },
      "source": [
        "Tuple = (6, 1, 2, 3, 4, 5)\r\n",
        "Array = np.array(Tuple)\r\n",
        "print(Array*2)"
      ],
      "execution_count": 8,
      "outputs": [
        {
          "output_type": "stream",
          "text": [
            "[12  2  4  6  8 10]\n"
          ],
          "name": "stdout"
        }
      ]
    },
    {
      "cell_type": "markdown",
      "metadata": {
        "id": "gVvzl6r34iq-"
      },
      "source": [
        "Now, let's do the above exercise with a loop. Convert Tuple to a list and name it \"List\". Use a for loop to double all elements in List and print the result. "
      ]
    },
    {
      "cell_type": "code",
      "metadata": {
        "id": "z5WZYQDl5Clv",
        "colab": {
          "base_uri": "https://localhost:8080/"
        },
        "outputId": "8ca71f3a-903e-4b98-b7a7-401bb6f93707"
      },
      "source": [
        "List = list(Tuple)\r\n",
        "for x in List:\r\n",
        "  print(x*2)"
      ],
      "execution_count": 10,
      "outputs": [
        {
          "output_type": "stream",
          "text": [
            "12\n",
            "2\n",
            "4\n",
            "6\n",
            "8\n",
            "10\n"
          ],
          "name": "stdout"
        }
      ]
    },
    {
      "cell_type": "markdown",
      "metadata": {
        "id": "PMYZSLkK5Ddy"
      },
      "source": [
        "How many iterations will this while loop have? Why does the while loop stop in the first place?\r\n",
        "\r\n",
        "```\r\n",
        "i=0\r\n",
        "while i<16:\r\n",
        "  print (i)\r\n",
        "  i=i+1\r\n",
        "```\r\n",
        "\r\n"
      ]
    },
    {
      "cell_type": "markdown",
      "metadata": {
        "id": "ODY5m0636R0s"
      },
      "source": [
        "Write the number of iterations here: 16 (including 0)\r\n",
        "\r\n",
        "Why does the while loop stop?\r\n",
        "\r\n",
        "Because it is specified that it's while it is less than 16, which means it cannot go above 16 (not inclusively)."
      ]
    },
    {
      "cell_type": "markdown",
      "metadata": {
        "id": "zmo8t0YY6dvK"
      },
      "source": [
        "#Exercises\r\n",
        "\r\n",
        "##Blast Off\r\n",
        "Use a loop that counts backwards from 5 and prints out 'Blast Off!' after it counts 1.\r\n",
        "\r\n",
        "Output should be\r\n",
        "\r\n",
        "\r\n",
        "```\r\n",
        "5\r\n",
        "4\r\n",
        "3\r\n",
        "2\r\n",
        "1\r\n",
        "Blast Off!\r\n",
        "```\r\n",
        "**Hint**\r\n",
        "The range function can go backwards. Make sure you select the appropriate starting number, ending number and make your step size -1. \r\n"
      ]
    },
    {
      "cell_type": "code",
      "metadata": {
        "id": "rVECd5cD7Nm7",
        "colab": {
          "base_uri": "https://localhost:8080/"
        },
        "outputId": "dc92c6b6-ae81-4644-8b83-b353a8bf46cf"
      },
      "source": [
        "for y in range(5,-1,-1):\r\n",
        "  if (y < 1):\r\n",
        "    print(\"Blast Off!\")\r\n",
        "  else:\r\n",
        "    print(y)\r\n"
      ],
      "execution_count": 14,
      "outputs": [
        {
          "output_type": "stream",
          "text": [
            "5\n",
            "4\n",
            "3\n",
            "2\n",
            "1\n",
            "Blast Off!\n"
          ],
          "name": "stdout"
        }
      ]
    },
    {
      "cell_type": "markdown",
      "metadata": {
        "id": "lRzR0mT87mTX"
      },
      "source": [
        "##Updating a list and Creating a New List\r\n",
        "\r\n",
        "Create a list with entries 0,4,5,8,2,9 and name it \"num\". Use a while loop over num and print out all entries."
      ]
    },
    {
      "cell_type": "code",
      "metadata": {
        "id": "lfSYkTrb7SRz",
        "colab": {
          "base_uri": "https://localhost:8080/"
        },
        "outputId": "e73b2143-60aa-44f9-84f2-59d8ceff5ac1"
      },
      "source": [
        "num = [0,4,5,8,2,9]\r\n",
        "z = 0\r\n",
        "while z<len(num):\r\n",
        "  print(num[z])\r\n",
        "  z=z+1"
      ],
      "execution_count": 24,
      "outputs": [
        {
          "output_type": "stream",
          "text": [
            "0\n",
            "4\n",
            "5\n",
            "8\n",
            "2\n",
            "9\n"
          ],
          "name": "stdout"
        }
      ]
    },
    {
      "cell_type": "markdown",
      "metadata": {
        "id": "vNvyh9CoATsi"
      },
      "source": [
        "Create an empty list and name it 'X'. Use a for loop to append all even numbers from 0 to 20 into X."
      ]
    },
    {
      "cell_type": "code",
      "metadata": {
        "id": "yyJB44e2AUMw",
        "colab": {
          "base_uri": "https://localhost:8080/"
        },
        "outputId": "3d3d7936-91d4-40b9-8be2-a92f6aa6049f"
      },
      "source": [
        "X=[]\r\n",
        "\r\n",
        "for y in range(0,21):\r\n",
        "  if (y%2 == 0):\r\n",
        "    X.append(y)\r\n",
        "\r\n",
        "print(X)\r\n"
      ],
      "execution_count": 33,
      "outputs": [
        {
          "output_type": "stream",
          "text": [
            "[0, 2, 4, 6, 8, 10, 12, 14, 16, 18, 20]\n"
          ],
          "name": "stdout"
        }
      ]
    },
    {
      "cell_type": "markdown",
      "metadata": {
        "id": "lEth2bIc9zE0"
      },
      "source": [
        "Create a list with entries 6, 4, 6, 5, 123, 37, 82, 44, 39 and save it as \"numbers\". Loop through the elements in numbers and replace the element with \"Even\" if it is an even number.\r\n",
        "\r\n",
        "Example:\r\n",
        "\r\n",
        "\r\n",
        "```\r\n",
        "Input\r\n",
        "Y = [3,4,5,8,10]\r\n",
        "\r\n",
        "Output\r\n",
        "Y = [3,Even,5,Even,Even]\r\n",
        "```\r\n",
        "**Hint:**Recall how to replace entries in a list from the previous lecture.\r\n"
      ]
    },
    {
      "cell_type": "code",
      "metadata": {
        "id": "JbBbalz7-5Zd",
        "colab": {
          "base_uri": "https://localhost:8080/"
        },
        "outputId": "f7c7ef79-140c-41c1-d48b-4a9a9f92c63a"
      },
      "source": [
        "numbers = [6, 4, 6, 5, 123, 37, 82, 44, 39]\r\n",
        "\r\n",
        "for b in range(len(numbers)):\r\n",
        "  if numbers[b]% 2 == 0:\r\n",
        "   numbers[b] = 'EVEN'\r\n",
        "\r\n",
        "print(numbers)\r\n"
      ],
      "execution_count": 54,
      "outputs": [
        {
          "output_type": "stream",
          "text": [
            "['EVEN', 'EVEN', 'EVEN', 5, 123, 37, 'EVEN', 'EVEN', 39]\n"
          ],
          "name": "stdout"
        }
      ]
    },
    {
      "cell_type": "markdown",
      "metadata": {
        "id": "TDDj4ptbBgaN"
      },
      "source": [
        "Create a empty list and a list with entries 1, 3, 2, 1, 5, 3, 5, 1, 4 and name them \"unique\" and \"original\" respectively. Use a loop to iterate over entries in \"original\" and add all unique entries into \"unique\".\r\n",
        "\r\n",
        "\r\n",
        "```\r\n",
        "Input:\r\n",
        "unique = []\r\n",
        "original = [1, 3, 2, 1, 5, 3, 5, 1, 4]\r\n",
        "\r\n",
        "Output:\r\n",
        "unique = [1, 3, 2, 5, 4]\r\n",
        "```\r\n",
        "**Hint** Your loop should look something like this:\r\n",
        "\r\n",
        "\r\n",
        "```\r\n",
        "for i in ___:\r\n",
        "    if i not in ___:\r\n",
        "        ____.append(i)\r\n",
        "\r\n",
        "print (___)\r\n",
        "```\r\n",
        "\r\n",
        "\r\n"
      ]
    },
    {
      "cell_type": "code",
      "metadata": {
        "id": "lk6H80sQ_ZRl",
        "colab": {
          "base_uri": "https://localhost:8080/"
        },
        "outputId": "eb669440-1d14-45b6-9d8e-272e38ca8e6a"
      },
      "source": [
        "unique = []\r\n",
        "original = [1, 3, 2, 1, 5, 3, 5, 1, 4]\r\n",
        "\r\n",
        "for i in original:\r\n",
        "  if i not in unique:\r\n",
        "    unique.append(i)\r\n",
        "\r\n",
        "print (unique)"
      ],
      "execution_count": 56,
      "outputs": [
        {
          "output_type": "stream",
          "text": [
            "[1, 3, 2, 5, 4]\n"
          ],
          "name": "stdout"
        }
      ]
    },
    {
      "cell_type": "markdown",
      "metadata": {
        "id": "NpoOCec-FNVL"
      },
      "source": [
        "##String Manipulation\r\n",
        "\r\n",
        "Create a string as \"one two 3 4 five 6\" and save it as numbers\r\n",
        "\r\n"
      ]
    },
    {
      "cell_type": "code",
      "metadata": {
        "id": "_l_z33bFGpec"
      },
      "source": [
        "numbers = \"one two 3 4 five 6\""
      ],
      "execution_count": 60,
      "outputs": []
    },
    {
      "cell_type": "markdown",
      "metadata": {
        "id": "Bw9M8xCbGpx7"
      },
      "source": [
        "Run the line, numbers.split() and save the result as X and print it."
      ]
    },
    {
      "cell_type": "code",
      "metadata": {
        "id": "6KRlKx1KGyLH",
        "colab": {
          "base_uri": "https://localhost:8080/"
        },
        "outputId": "a8f4a039-db5e-4133-a501-08d593ea905d"
      },
      "source": [
        "x = numbers.split()\r\n",
        "\r\n",
        "print(x)"
      ],
      "execution_count": 71,
      "outputs": [
        {
          "output_type": "stream",
          "text": [
            "['one', 'two', '3', '4', 'five', '6']\n"
          ],
          "name": "stdout"
        }
      ]
    },
    {
      "cell_type": "markdown",
      "metadata": {
        "id": "h45ydn-IHEKa"
      },
      "source": [
        "The previous line created a list from the words and numbers that was in the original string.\r\n",
        "\r\n",
        "Now create a dictionary with the key- value pairs ('one': 1, 'two': 2, 'three': 3, 'four': 4, 'five': 5, 'six': 6) and name it 'values'."
      ]
    },
    {
      "cell_type": "code",
      "metadata": {
        "id": "1r28CVG6G8ip"
      },
      "source": [
        "values = {'one':1, 'two':2, 'three':3, 'four':4, 'five':5, 'six':6}"
      ],
      "execution_count": 64,
      "outputs": []
    },
    {
      "cell_type": "markdown",
      "metadata": {
        "id": "rSA6h6W9Hi6C"
      },
      "source": [
        "Create an empty list and name it \"numeric\". Run a loop over \"X\" and have the loop output all entries in X as numbers inside numeric. The input/output follows:\r\n",
        "\r\n",
        "\r\n",
        "```\r\n",
        "Input:\r\n",
        "numeric = []\r\n",
        "values = ['one', 'two', '3', '4', 'five', '6']\r\n",
        "\r\n",
        "Output:\r\n",
        "numeric = [1, 2, 3, 4, 5, 6]\r\n",
        "```\r\n",
        "**Hint:** Your code should be in the form of:\r\n",
        "\r\n",
        "\r\n",
        "\r\n",
        "```\r\n",
        "for i in ____:\r\n",
        "    if i in values.keys():\r\n",
        "          ___.append(values[i])\r\n",
        "    else:\r\n",
        "          ___.append(int(i))\r\n",
        "\r\n",
        "print (____)\r\n",
        "```\r\n",
        "\r\n",
        "\r\n"
      ]
    },
    {
      "cell_type": "code",
      "metadata": {
        "id": "CnQE5a-zNr1p",
        "colab": {
          "base_uri": "https://localhost:8080/"
        },
        "outputId": "c6d18686-5416-45d6-e206-f000b4ee40d2"
      },
      "source": [
        "numeric = []\r\n",
        "\r\n",
        "for i in x:\r\n",
        "  if i in values.keys():\r\n",
        "    numeric.append(values[i])\r\n",
        "  else:\r\n",
        "    numeric.append(int(i))\r\n",
        "\r\n",
        "print(numeric)"
      ],
      "execution_count": 70,
      "outputs": [
        {
          "output_type": "stream",
          "text": [
            "[1, 2, 3, 4, 5, 6, 1, 2, 3, 4, 5, 6]\n"
          ],
          "name": "stdout"
        }
      ]
    },
    {
      "cell_type": "markdown",
      "metadata": {
        "id": "fkp2azLKNsjx"
      },
      "source": [
        "Convert num into a string by running\r\n",
        "\r\n",
        "```\r\n",
        "'  '.join(str(x) for x in numeric) \r\n",
        "```\r\n",
        "and save the result as 'string' and print it."
      ]
    },
    {
      "cell_type": "code",
      "metadata": {
        "id": "dCPqFKoOOCZK"
      },
      "source": [
        ""
      ],
      "execution_count": null,
      "outputs": []
    },
    {
      "cell_type": "markdown",
      "metadata": {
        "id": "JzeupddlOC4r"
      },
      "source": [
        "**Bonus:**\r\n",
        "Trace the code used in the String Manipulation Section and try to explain using words, what the code is doing overall."
      ]
    },
    {
      "cell_type": "markdown",
      "metadata": {
        "id": "w7LrRHjVOO0P"
      },
      "source": [
        "Write your answer here:"
      ]
    },
    {
      "cell_type": "markdown",
      "metadata": {
        "id": "fiZFTCy5OR6y"
      },
      "source": [
        "#Debugging\r\n",
        "\r\n",
        "Below you will find sample codes with a few bugs in them. Identify where the bugs are and write the debugged code in the code block and run it.\r\n",
        "\r\n",
        "Write a loop that finds **all even** entries from 0 to 20 (inclusive) and prints them.\r\n",
        "\r\n",
        "\r\n",
        "```\r\n",
        "for i in range(0,20,-3):\r\n",
        "    if i%2 = 0\r\n",
        "    print (i)\r\n",
        "```\r\n",
        "\r\n",
        "\r\n",
        "\r\n"
      ]
    },
    {
      "cell_type": "code",
      "metadata": {
        "id": "QlHsqDt-Ks2U"
      },
      "source": [
        ""
      ],
      "execution_count": null,
      "outputs": []
    },
    {
      "cell_type": "markdown",
      "metadata": {
        "id": "vFq7HphRKtbF"
      },
      "source": [
        "Write a loop that iterates over a list of strings and prints \"True\" if the string is a palindrome and \"False\" if the string isn't. A palindrome is a word that can be read the same way forward as it can backwards. (Ex. noon, level, civic)\r\n",
        "\r\n",
        "\r\n",
        "\r\n",
        "```\r\n",
        "Words = ['ball', 'kayak', 'song', 'python', 'madam', 'racecar', 'noon']\r\n",
        "for word in words:\r\n",
        "    result = 'False'\r\n",
        "    for i in range(len(word)/2):\r\n",
        "        if word[i] = word[-1-i]:\r\n",
        "                                  result = 'True'\r\n",
        "else:\r\n",
        "            result = 'False'\r\n",
        "        print (Result)\r\n",
        "    \r\n",
        "\r\n",
        "\r\n",
        "```\r\n",
        "\r\n"
      ]
    },
    {
      "cell_type": "code",
      "metadata": {
        "id": "lAga4798Kubd"
      },
      "source": [
        ""
      ],
      "execution_count": null,
      "outputs": []
    },
    {
      "cell_type": "markdown",
      "metadata": {
        "id": "0baXakCkKu2Z"
      },
      "source": [
        "Edit the code to create a list of the first 10 entries of the Fibonacci Sequence and print it. The Fibonacci Sequence is a sequence of numbers starting from 1, where consecutive numbers are obtained by summing the previous two.\r\n",
        "\r\n",
        "Your Output should be:\r\n",
        "\r\n",
        "[1, 1, 2, 3, 5, 8, 13, 21, 34, 55]\r\n",
        "\r\n",
        "\r\n",
        "\r\n",
        "```\r\n",
        "Fibonacci = [1,1]\r\n",
        "for i in range (1,5) and i>4:\r\n",
        "    x = Fibonacci[i] + Fibonacci[i-1]\r\n",
        "    Fibonacci.append(i)\r\n",
        "\r\n",
        "print (Fibonacci)\r\n",
        "\r\n",
        "```\r\n",
        "\r\n"
      ]
    },
    {
      "cell_type": "code",
      "metadata": {
        "id": "_-jwPzdyKvL5"
      },
      "source": [
        ""
      ],
      "execution_count": null,
      "outputs": []
    },
    {
      "cell_type": "markdown",
      "metadata": {
        "id": "fj4n3r8AKyZr"
      },
      "source": [
        "Create a loop that will go through a string and count how many of each vowel the string contains:\r\n",
        "\r\n",
        "\r\n",
        "\r\n",
        "```\r\n",
        "string = 'cauliflower is very healthy'\r\n",
        "\r\n",
        "a = 0\r\n",
        "e = 0\r\n",
        "i = 0\r\n",
        "o = 0\r\n",
        "u = 0\r\n",
        "y = 0\r\n",
        "for letter in string:\r\n",
        "  if letter = 'a':\r\n",
        "    o = o + 1\r\n",
        "  if letter == 'b':\r\n",
        "    e = e + 1\r\n",
        "  if letter == 'i':\r\n",
        "    i = i + 1\r\n",
        "  if letter == 'o':\r\n",
        "    a = a + 1\r\n",
        "  else:\r\n",
        "    u = u + 1\r\n",
        "print(f\"There are {a} a's, {e} e's, {i} i's, {o} o's, {u} u's & {y} y's in the string\")\r\n",
        "```\r\n",
        "\r\n"
      ]
    },
    {
      "cell_type": "code",
      "metadata": {
        "id": "lqj5PhjgKyvY"
      },
      "source": [
        ""
      ],
      "execution_count": null,
      "outputs": []
    },
    {
      "cell_type": "markdown",
      "metadata": {
        "id": "n9ZQIr0gPRWV"
      },
      "source": [
        "#More Interview Questions\r\n",
        "\r\n",
        "\r\n",
        "- What is the difference between Python Arrays and lists? (Write your answer in a text cell below)\r\n",
        "\r\n",
        "- What is the difference between list and tuples in Python?"
      ]
    },
    {
      "cell_type": "code",
      "metadata": {
        "id": "oo-p9LBJOBH2"
      },
      "source": [
        "'''\r\n",
        "Write a program that prints the following pattern, using a 'for' loop.\r\n",
        "\r\n",
        "* \r\n",
        "* * \r\n",
        "* * * \r\n",
        "* * * * \r\n",
        "* * * * * \r\n",
        "* * * * \r\n",
        "* * * \r\n",
        "* * \r\n",
        "*\r\n",
        "'''"
      ],
      "execution_count": null,
      "outputs": []
    },
    {
      "cell_type": "code",
      "metadata": {
        "id": "QYJoQgenOQnp"
      },
      "source": [
        "\r\n",
        "\t"
      ],
      "execution_count": null,
      "outputs": []
    },
    {
      "cell_type": "code",
      "metadata": {
        "id": "QMwgLA45QEqW"
      },
      "source": [
        "'''\r\n",
        "For the following list, iterate through and print all the terms that contain an integer\r\n",
        "'''\r\n",
        "\r\n",
        "word_list = ['hello', 'goodbye', 'yes1', 'no', 'maybe2']"
      ],
      "execution_count": null,
      "outputs": []
    },
    {
      "cell_type": "code",
      "metadata": {
        "id": "tk6qbYKrRDpX"
      },
      "source": [
        "'''\r\n",
        "For the following list of integers, write a program that returns a list of all the even numbers\r\n",
        "'''\r\n",
        "\r\n",
        "number_list = [1,2,3,4,5,6,7,8,9]"
      ],
      "execution_count": null,
      "outputs": []
    },
    {
      "cell_type": "markdown",
      "metadata": {
        "id": "QVNS_hO7PWru"
      },
      "source": [
        "#Bonus \r\n",
        "\r\n",
        "Create a list with elements [\"Toronto\", \"Vancouver\", \"Montreal\"], and create a nested for loop that returns a list of these strings in reverse order.\r\n",
        "\r\n",
        "\r\n",
        "\r\n",
        "```\r\n",
        "Input\r\n",
        "[\"Toronto\", \"Vancouver\", \"Montreal\"]\r\n",
        "\r\n",
        "Output\r\n",
        "[\"otnoroT\", \"revuocnaV\", \"laertnoM\"]\r\n",
        "```\r\n",
        "\r\n"
      ]
    },
    {
      "cell_type": "code",
      "metadata": {
        "id": "hIp_UiVSacE7"
      },
      "source": [
        ""
      ],
      "execution_count": null,
      "outputs": []
    }
  ]
}