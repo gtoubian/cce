{
  "nbformat": 4,
  "nbformat_minor": 0,
  "metadata": {
    "colab": {
      "name": "Pre-Lec Python Interview Questions.ipynb",
      "provenance": [],
      "collapsed_sections": [],
      "include_colab_link": true
    },
    "kernelspec": {
      "name": "python3",
      "display_name": "Python 3"
    }
  },
  "cells": [
    {
      "cell_type": "markdown",
      "metadata": {
        "id": "view-in-github",
        "colab_type": "text"
      },
      "source": [
        "<a href=\"https://colab.research.google.com/github/gtoubian/cce/blob/main/Pre_Lec_Python_Interview_Questions.ipynb\" target=\"_parent\"><img src=\"https://colab.research.google.com/assets/colab-badge.svg\" alt=\"Open In Colab\"/></a>"
      ]
    },
    {
      "cell_type": "markdown",
      "metadata": {
        "id": "mcxuqtnKMfNv"
      },
      "source": [
        "## Today we're going to go through more python questions to get you thinking about the language in different contexts"
      ]
    },
    {
      "cell_type": "markdown",
      "metadata": {
        "id": "v53uxDmURknP"
      },
      "source": [
        "## List Comprehension Practice\r\n",
        "\r\n",
        "a = [1, 4, 9, 16, 25, 36, 49, 64, 81, 100]\r\n",
        "\r\n",
        "Write a loop that returns only the even numbers. Then write that loop using only one line."
      ]
    },
    {
      "cell_type": "code",
      "metadata": {
        "id": "8gngqy3hR4Zd",
        "outputId": "00064448-5bfb-4c95-f63c-53bfa24ac479",
        "colab": {
          "base_uri": "https://localhost:8080/"
        }
      },
      "source": [
        "a = [1, 4, 9, 16, 25, 36, 49, 64, 81, 100]\r\n",
        "evens = []\r\n",
        "\r\n",
        "for x in a:\r\n",
        "  if x%2 ==0:\r\n",
        "    evens.append(x)\r\n",
        "print(evens)"
      ],
      "execution_count": 3,
      "outputs": [
        {
          "output_type": "stream",
          "text": [
            "[4, 16, 36, 64, 100]\n"
          ],
          "name": "stdout"
        }
      ]
    },
    {
      "cell_type": "code",
      "metadata": {
        "id": "JkoRjiQQRm3n",
        "outputId": "271d8516-6071-4e41-960a-b35679a6e53c",
        "colab": {
          "base_uri": "https://localhost:8080/"
        }
      },
      "source": [
        "[x for x in a if x%2==0]"
      ],
      "execution_count": 4,
      "outputs": [
        {
          "output_type": "execute_result",
          "data": {
            "text/plain": [
              "[4, 16, 36, 64, 100]"
            ]
          },
          "metadata": {
            "tags": []
          },
          "execution_count": 4
        }
      ]
    },
    {
      "cell_type": "markdown",
      "metadata": {
        "id": "2BldCsnGtczy"
      },
      "source": [
        "## Arithmetic  \r\n",
        "\r\n",
        "Write a program which will find all such numbers which are divisible by 7 but are not a multiple of 5,\r\n",
        "between 2000 and 3200 (both included)."
      ]
    },
    {
      "cell_type": "code",
      "metadata": {
        "id": "5dmGHU0Utov6",
        "outputId": "f36a6d98-feaf-4d51-839f-eccb4193cb5c",
        "colab": {
          "base_uri": "https://localhost:8080/"
        }
      },
      "source": [
        "l = []\r\n",
        "for i in range(2000,3201):\r\n",
        "  if i%7==0 and i%5 !=0:\r\n",
        "    l.append(i)\r\n",
        "\r\n",
        "print(l)"
      ],
      "execution_count": 5,
      "outputs": [
        {
          "output_type": "stream",
          "text": [
            "[2002, 2009, 2016, 2023, 2037, 2044, 2051, 2058, 2072, 2079, 2086, 2093, 2107, 2114, 2121, 2128, 2142, 2149, 2156, 2163, 2177, 2184, 2191, 2198, 2212, 2219, 2226, 2233, 2247, 2254, 2261, 2268, 2282, 2289, 2296, 2303, 2317, 2324, 2331, 2338, 2352, 2359, 2366, 2373, 2387, 2394, 2401, 2408, 2422, 2429, 2436, 2443, 2457, 2464, 2471, 2478, 2492, 2499, 2506, 2513, 2527, 2534, 2541, 2548, 2562, 2569, 2576, 2583, 2597, 2604, 2611, 2618, 2632, 2639, 2646, 2653, 2667, 2674, 2681, 2688, 2702, 2709, 2716, 2723, 2737, 2744, 2751, 2758, 2772, 2779, 2786, 2793, 2807, 2814, 2821, 2828, 2842, 2849, 2856, 2863, 2877, 2884, 2891, 2898, 2912, 2919, 2926, 2933, 2947, 2954, 2961, 2968, 2982, 2989, 2996, 3003, 3017, 3024, 3031, 3038, 3052, 3059, 3066, 3073, 3087, 3094, 3101, 3108, 3122, 3129, 3136, 3143, 3157, 3164, 3171, 3178, 3192, 3199]\n"
          ],
          "name": "stdout"
        }
      ]
    },
    {
      "cell_type": "markdown",
      "metadata": {
        "id": "gxgXMEj-vQva"
      },
      "source": [
        "## Max repetition\r\n",
        "\r\n",
        "Given a string s, the power of the string is the maximum length of a non-empty substring that contains only one unique character.\r\n",
        "\r\n",
        "Return the power of the string.\r\n",
        "\r\n",
        "Example 1:\r\n",
        "Input: s = \"leetcode\"\r\n",
        "Output: 2\r\n",
        "Explanation: The substring \"ee\" is of length 2 with the character 'e' only.\r\n",
        "\r\n",
        "Example 2:\r\n",
        "Input: s = \"abbcccddddeeeeedcba\"\r\n",
        "Output: 5\r\n",
        "Explanation: The substring \"eeeee\" is of length 5 with the character 'e' only.\r\n",
        "\r\n",
        "Example 3:\r\n",
        "Input: s = \"triplepillooooow\"\r\n",
        "Output: 5\r\n",
        "\r\n",
        "Example 4:\r\n",
        "Input: s = \"hooraaaaaaaaaaay\"\r\n",
        "Output: 11\r\n",
        "\r\n",
        "Example 5:\r\n",
        "Input: s = \"tourist\"\r\n",
        "Output: 1"
      ]
    },
    {
      "cell_type": "code",
      "metadata": {
        "id": "2ec4QfDtvSKF",
        "outputId": "02c16e92-8c30-4cc8-d395-ed77e5ccf645",
        "colab": {
          "base_uri": "https://localhost:8080/"
        }
      },
      "source": [
        "def max_repeat(s):\r\n",
        "  previous = None\r\n",
        "  count = 0\r\n",
        "  max_count = 0\r\n",
        "  for letter in s:\r\n",
        "    if letter == previous:\r\n",
        "      count += 1\r\n",
        "    else:\r\n",
        "      previous = letter\r\n",
        "      count = 1\r\n",
        "    max_count = (max(max_count, count))\r\n",
        "  return max_count\r\n",
        "\r\n",
        "max_repeat(\"abbcccddddeeeeedcba\")\r\n"
      ],
      "execution_count": 7,
      "outputs": [
        {
          "output_type": "execute_result",
          "data": {
            "text/plain": [
              "5"
            ]
          },
          "metadata": {
            "tags": []
          },
          "execution_count": 7
        }
      ]
    },
    {
      "cell_type": "markdown",
      "metadata": {
        "id": "TSaQZMBtWkNF"
      },
      "source": [
        "## Anagram\r\n",
        "\r\n",
        "Given a list of strings, write a program that returns all the words that are anagrams of another word in the list\r\n",
        "\r\n",
        "input = ['EARTH', 'DOG', 'GOD', 'HEART', 'HORSE', 'HOARSE']"
      ]
    },
    {
      "cell_type": "code",
      "metadata": {
        "id": "xtNP3REbWklS",
        "outputId": "3562a21b-ddcb-42c1-e108-a551723381b6",
        "colab": {
          "base_uri": "https://localhost:8080/"
        }
      },
      "source": [
        "input = ['EARTH', 'DOG', 'GOD', 'HEART', 'HORSE', 'HOARSE']\r\n",
        "\r\n",
        "anagrams = []\r\n",
        "\r\n",
        "def anagrams_sorter(x):\r\n",
        "  for word1 in input:\r\n",
        "    for word2 in input:\r\n",
        "      if word1 != word2 and (sorted(word1) == sorted(word2)):\r\n",
        "        anagrams.append(word1)\r\n",
        "        anagrams.append(word2)\r\n",
        "  return list(set(anagrams))\r\n",
        "\r\n",
        "print(anagrams_sorter(input))\r\n",
        "    \r\n"
      ],
      "execution_count": 13,
      "outputs": [
        {
          "output_type": "stream",
          "text": [
            "['EARTH', 'HEART', 'GOD', 'DOG']\n"
          ],
          "name": "stdout"
        }
      ]
    },
    {
      "cell_type": "code",
      "metadata": {
        "id": "9E7sNamowZrx"
      },
      "source": [
        ""
      ],
      "execution_count": null,
      "outputs": []
    }
  ]
}