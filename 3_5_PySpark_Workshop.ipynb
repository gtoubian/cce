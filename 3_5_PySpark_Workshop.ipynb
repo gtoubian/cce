{
  "nbformat": 4,
  "nbformat_minor": 0,
  "metadata": {
    "colab": {
      "name": "3.5 PySpark Workshop.ipynb",
      "provenance": [],
      "collapsed_sections": [],
      "include_colab_link": true
    },
    "kernelspec": {
      "name": "python3",
      "display_name": "Python 3"
    }
  },
  "cells": [
    {
      "cell_type": "markdown",
      "metadata": {
        "id": "view-in-github",
        "colab_type": "text"
      },
      "source": [
        "<a href=\"https://colab.research.google.com/github/gtoubian/cce/blob/main/3_5_PySpark_Workshop.ipynb\" target=\"_parent\"><img src=\"https://colab.research.google.com/assets/colab-badge.svg\" alt=\"Open In Colab\"/></a>"
      ]
    },
    {
      "cell_type": "code",
      "metadata": {
        "id": "mOHCvNFx10hM"
      },
      "source": [
        ""
      ],
      "execution_count": null,
      "outputs": []
    },
    {
      "cell_type": "markdown",
      "metadata": {
        "id": "cx9y-B5U2QzB"
      },
      "source": [
        "#Warmup\r\n",
        "Import the numpy, pandas, matplotlib and pyspark packages in the cell below."
      ]
    },
    {
      "cell_type": "code",
      "metadata": {
        "id": "rcvi73XF2c0v"
      },
      "source": [
        ""
      ],
      "execution_count": null,
      "outputs": []
    },
    {
      "cell_type": "markdown",
      "metadata": {
        "id": "gdrWPWfZ2dLe"
      },
      "source": [
        "#Exercise\r\n",
        "We are going to be using data on Student Performance during exams. Obtain the data from the following url and set up a Schema for it which you will load into pySpark. https://www.kaggle.com/spscientist/students-performance-in-exams. Set up the PySpark object and create a DataFrame on PySpark for the dataset."
      ]
    },
    {
      "cell_type": "code",
      "metadata": {
        "id": "cPjn8qLF3Nyd"
      },
      "source": [
        ""
      ],
      "execution_count": null,
      "outputs": []
    },
    {
      "cell_type": "markdown",
      "metadata": {
        "id": "9ZR-K2Zf3ON1"
      },
      "source": [
        "Get an average score for each student using their math, reading and writing scores. "
      ]
    },
    {
      "cell_type": "code",
      "metadata": {
        "id": "9xnkspBG3nAx"
      },
      "source": [
        ""
      ],
      "execution_count": null,
      "outputs": []
    },
    {
      "cell_type": "markdown",
      "metadata": {
        "id": "-KFQtvDr3luW"
      },
      "source": [
        "Get a Count of the Number of Boys and girls in the class"
      ]
    },
    {
      "cell_type": "code",
      "metadata": {
        "id": "XS32Rhv63sra"
      },
      "source": [
        ""
      ],
      "execution_count": null,
      "outputs": []
    },
    {
      "cell_type": "markdown",
      "metadata": {
        "id": "vPJs5QBX3tTU"
      },
      "source": [
        "Apply the rank function over the overall average score that you had calculated previously."
      ]
    },
    {
      "cell_type": "code",
      "metadata": {
        "id": "KawCu7bs36nV"
      },
      "source": [
        ""
      ],
      "execution_count": null,
      "outputs": []
    },
    {
      "cell_type": "markdown",
      "metadata": {
        "id": "JbHMV6dp37Ah"
      },
      "source": [
        "Do the same exercises above but using a Pandas DataFrame instead."
      ]
    },
    {
      "cell_type": "code",
      "metadata": {
        "id": "dMvxRdxD4UWX"
      },
      "source": [
        ""
      ],
      "execution_count": null,
      "outputs": []
    },
    {
      "cell_type": "markdown",
      "metadata": {
        "id": "gnUEXpRS4WJA"
      },
      "source": [
        "#Python Practice Question\r\n",
        "Concordia University has the following grading policy:\r\n",
        "\r\n",
        "Every student receives a grade in the inclusive range from 0 to 100 . Any less than 40 is a failing grade.\r\n",
        "\r\n",
        "Sam is a professor at the university and likes to round each student's grade according to these rules: If the difference between the grade and the next multiple of 5 is less than 3, round up to the next multiple of 5. If the value of the grade is less than 38, no rounding occurs as the result will still be a failing grade. For example, grade = 84 will be rounded to 85 but grade = 29 will not be rounded because the rounding would result in a number that is less than 40.\r\n",
        "\r\n",
        "Given the initial value of grade for each of Sam's students, write code to automate the rounding process.\r\n",
        "Examples\r\n",
        "\r\n",
        "\r\n",
        "\r\n",
        "```\r\n",
        "round to  (85 - 84 is less than 3)\r\n",
        " do not round (result is less than 40)\r\n",
        " do not round (60 - 57 is 3 or higher)\r\n",
        "```\r\n",
        "\r\n",
        "\r\n",
        "\r\n",
        "\r\n",
        "```\r\n",
        "Sample Input\r\n",
        "0\r\n",
        "4\r\n",
        "73\r\n",
        "67\r\n",
        "38\r\n",
        "33\r\n",
        "\r\n",
        "Sample Output \r\n",
        "0\r\n",
        "4\r\n",
        "75\r\n",
        "67\r\n",
        "40\r\n",
        "33\r\n",
        "```\r\n",
        "\r\n",
        "\r\n",
        "\r\n"
      ]
    },
    {
      "cell_type": "code",
      "metadata": {
        "id": "ayem9cPP5vWP",
        "outputId": "d73e85f8-41a0-4a3e-cc45-aa6a6ed3cde2",
        "colab": {
          "base_uri": "https://localhost:8080/"
        }
      },
      "source": [
        "def Students(grades):\r\n",
        "\r\n",
        "    for x,y in enumerate(grades):\r\n",
        "        if(y>=38) and (y%5)>=3:\r\n",
        "            grades[x]=y+5-(y%5)\r\n",
        "    return (grades)\r\n",
        "\r\n",
        "grades = [0, 4, 73, 67, 38, 33]\r\n",
        "Students(grades)"
      ],
      "execution_count": 6,
      "outputs": [
        {
          "output_type": "execute_result",
          "data": {
            "text/plain": [
              "[0, 4, 75, 67, 40, 33]"
            ]
          },
          "metadata": {
            "tags": []
          },
          "execution_count": 6
        }
      ]
    },
    {
      "cell_type": "code",
      "metadata": {
        "id": "f3HsSCr1ulJW"
      },
      "source": [
        ""
      ],
      "execution_count": null,
      "outputs": []
    }
  ]
}